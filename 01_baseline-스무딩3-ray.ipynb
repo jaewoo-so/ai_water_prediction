{
 "cells": [
  {
   "cell_type": "code",
   "execution_count": 2,
   "id": "929a14e1-580a-4ca9-98d8-5f70e2b277e5",
   "metadata": {},
   "outputs": [
    {
     "name": "stdout",
     "output_type": "stream",
     "text": [
      "Collecting ray\n",
      "  Downloading ray-1.13.0-cp39-cp39-win_amd64.whl (20.3 MB)\n",
      "     ---------------------------------------- 20.3/20.3 MB 4.6 MB/s eta 0:00:00\n",
      "Collecting grpcio<=1.43.0,>=1.28.1\n",
      "  Using cached grpcio-1.43.0-cp39-cp39-win_amd64.whl (3.4 MB)\n",
      "Requirement already satisfied: jsonschema in c:\\users\\d331\\appdata\\roaming\\python\\python39\\site-packages (from ray) (4.5.1)\n",
      "Requirement already satisfied: frozenlist in c:\\users\\d331\\appdata\\roaming\\python\\python39\\site-packages (from ray) (1.3.0)\n",
      "Collecting msgpack<2.0.0,>=1.0.0\n",
      "  Downloading msgpack-1.0.4-cp39-cp39-win_amd64.whl (62 kB)\n",
      "     ---------------------------------------- 62.5/62.5 kB ? eta 0:00:00\n",
      "Requirement already satisfied: aiosignal in c:\\users\\d331\\appdata\\roaming\\python\\python39\\site-packages (from ray) (1.2.0)\n",
      "Requirement already satisfied: attrs in c:\\users\\d331\\appdata\\roaming\\python\\python39\\site-packages (from ray) (21.4.0)\n",
      "Collecting click<=8.0.4,>=7.0\n",
      "  Using cached click-8.0.4-py3-none-any.whl (97 kB)\n",
      "Requirement already satisfied: protobuf<4.0.0,>=3.15.3 in d:\\anaconda3\\envs\\ts\\lib\\site-packages (from ray) (3.20.1)\n",
      "Requirement already satisfied: pyyaml in d:\\anaconda3\\envs\\ts\\lib\\site-packages (from ray) (6.0)\n",
      "Requirement already satisfied: filelock in c:\\users\\d331\\appdata\\roaming\\python\\python39\\site-packages (from ray) (3.7.0)\n",
      "Requirement already satisfied: numpy>=1.19.3 in c:\\users\\d331\\appdata\\roaming\\python\\python39\\site-packages (from ray) (1.19.5)\n",
      "Requirement already satisfied: virtualenv in c:\\users\\d331\\appdata\\roaming\\python\\python39\\site-packages (from ray) (20.14.1)\n",
      "Requirement already satisfied: requests in d:\\anaconda3\\envs\\ts\\lib\\site-packages (from ray) (2.28.0)\n",
      "Requirement already satisfied: colorama in d:\\anaconda3\\envs\\ts\\lib\\site-packages (from click<=8.0.4,>=7.0->ray) (0.4.4)\n",
      "Requirement already satisfied: six>=1.5.2 in d:\\anaconda3\\envs\\ts\\lib\\site-packages (from grpcio<=1.43.0,>=1.28.1->ray) (1.16.0)\n",
      "Requirement already satisfied: pyrsistent!=0.17.0,!=0.17.1,!=0.17.2,>=0.14.0 in d:\\anaconda3\\envs\\ts\\lib\\site-packages (from jsonschema->ray) (0.18.1)\n",
      "Requirement already satisfied: urllib3<1.27,>=1.21.1 in d:\\anaconda3\\envs\\ts\\lib\\site-packages (from requests->ray) (1.26.9)\n",
      "Requirement already satisfied: charset-normalizer~=2.0.0 in d:\\anaconda3\\envs\\ts\\lib\\site-packages (from requests->ray) (2.0.12)\n",
      "Requirement already satisfied: certifi>=2017.4.17 in d:\\anaconda3\\envs\\ts\\lib\\site-packages (from requests->ray) (2022.5.18.1)\n",
      "Requirement already satisfied: idna<4,>=2.5 in d:\\anaconda3\\envs\\ts\\lib\\site-packages (from requests->ray) (3.3)\n",
      "Collecting platformdirs<3,>=2\n",
      "  Using cached platformdirs-2.5.2-py3-none-any.whl (14 kB)\n",
      "Collecting distlib<1,>=0.3.1\n",
      "  Using cached distlib-0.3.4-py2.py3-none-any.whl (461 kB)\n",
      "Installing collected packages: msgpack, distlib, platformdirs, grpcio, click, ray\n",
      "  Attempting uninstall: grpcio\n",
      "    Found existing installation: grpcio 1.46.3\n",
      "    Uninstalling grpcio-1.46.3:\n",
      "      Successfully uninstalled grpcio-1.46.3\n",
      "Successfully installed click-8.0.4 distlib-0.3.4 grpcio-1.43.0 msgpack-1.0.4 platformdirs-2.5.2 ray-1.13.0\n"
     ]
    },
    {
     "name": "stderr",
     "output_type": "stream",
     "text": [
      "ERROR: pip's dependency resolver does not currently take into account all the packages that are installed. This behaviour is the source of the following dependency conflicts.\n",
      "tensorflow 2.5.3 requires wrapt~=1.12.1, which is not installed.\n",
      "sacremoses 0.0.45 requires regex, which is not installed.\n",
      "pytorch-transformers 1.2.0 requires regex, which is not installed.\n",
      "tensorflow 2.5.3 requires grpcio~=1.34.0, but you have grpcio 1.43.0 which is incompatible.\n",
      "tensorflow 2.5.3 requires six~=1.15.0, but you have six 1.16.0 which is incompatible.\n",
      "tensorflow 2.5.3 requires typing-extensions~=3.7.4, but you have typing-extensions 4.2.0 which is incompatible.\n"
     ]
    }
   ],
   "source": [
    "!pip install ray"
   ]
  },
  {
   "cell_type": "code",
   "execution_count": 3,
   "id": "70b893fb",
   "metadata": {},
   "outputs": [],
   "source": [
    "import ray"
   ]
  },
  {
   "cell_type": "code",
   "execution_count": 5,
   "id": "d206936d",
   "metadata": {},
   "outputs": [],
   "source": [
    "# 라이브러리 임포트\n",
    "import os\n",
    "import time\n",
    "import json\n",
    "import datetime\n",
    "import numpy as np\n",
    "import pandas as pd\n",
    "#from fbprophet import Prophet\n",
    "import pickle\n",
    "import copy"
   ]
  },
  {
   "cell_type": "code",
   "execution_count": 7,
   "id": "391560a3",
   "metadata": {
    "tags": []
   },
   "outputs": [
    {
     "name": "stdout",
     "output_type": "stream",
     "text": [
      "CPU times: total: 797 ms\n",
      "Wall time: 798 ms\n"
     ]
    }
   ],
   "source": [
    "%%time\n",
    "submit = json.load(open('./data/sample_submission/sample_submission.json', 'r', encoding='utf8')) \n",
    "df_dic = pickle.load(open('./mydata/df_dic.plk','rb'))\n",
    "plc_lst = pickle.load(open('./mydata/plc_lst.plk','rb'))\n",
    "fct_lst = ['pH', 'COD', 'SS', 'N', 'P', 'T']"
   ]
  },
  {
   "cell_type": "code",
   "execution_count": 6,
   "id": "a248d6b3",
   "metadata": {},
   "outputs": [
    {
     "name": "stdout",
     "output_type": "stream",
     "text": [
      "CPU times: user 3.86 s, sys: 3.55 ms, total: 3.86 s\n",
      "Wall time: 3.87 s\n"
     ]
    }
   ],
   "source": [
    "%%time\n",
    "''' 스무딩 '''\n",
    "win_size = 3\n",
    "\n",
    "\n",
    "for plc in plc_lst:\n",
    "    df = df_dic[plc]\n",
    "    df_dic[plc] = df_dic[plc].fillna(method='ffill')\n",
    "    df_dic[plc] = df_dic[plc].fillna(method='bfill')\n",
    "    df_dic[plc] = df_dic[plc].dropna()\n",
    "    df_dic[plc] = df_dic[plc].iloc[-1000:,:]"
   ]
  },
  {
   "cell_type": "markdown",
   "id": "487f5e31",
   "metadata": {},
   "source": [
    "df = df_dic[plc_lst[0]]\n",
    "sns.lineplot(x = df.ds , y = df.pH)"
   ]
  },
  {
   "cell_type": "markdown",
   "id": "7ae1c2c6",
   "metadata": {},
   "source": [
    "df.pH.iloc[2800:]"
   ]
  },
  {
   "cell_type": "code",
   "execution_count": 7,
   "id": "16ac4b60",
   "metadata": {
    "tags": []
   },
   "outputs": [],
   "source": [
    "# Prophet 예측을 위한 dataframe 포맷 제작\n",
    "future = pd.DataFrame([str(x)[:10] for x in list(pd.date_range(start='2018-02-01', end='2019-12-31', inclusive=\"both\"))], columns=['ds'])\n",
    "future['y'] = np.nan\n",
    "#future"
   ]
  },
  {
   "cell_type": "code",
   "execution_count": 38,
   "id": "054c3ad6",
   "metadata": {},
   "outputs": [],
   "source": [
    "@ray.remote\n",
    "def pred_all_columns(plc_df,i,fct_lst,submit):\n",
    "    \n",
    "    res_list = []\n",
    "    \n",
    "    for j in fct_lst: # 피쳐 리스트\n",
    "        fct_df = plc_df[['ds', j]]   # 날짜 - 피쳐1 조합임.\n",
    "        fct_df = fct_df.rename(columns={j:'y'}) # 피쳐1을 y로 바꾼다.\n",
    "        model = Prophet()\n",
    "        model.fit(fct_df)\n",
    "        forecast = model.predict(future)\n",
    "        forecast['ds'] = forecast['ds'].apply(lambda x : str(x).split(' ')[0].split('-')[0]+str(x).split(' ')[0].split('-')[1]+str(x).split(' ')[0].split('-')[2])\n",
    "        forecast = forecast[['ds', 'yhat']]\n",
    "        \n",
    "        for index, k in enumerate(list(forecast['ds'])):\n",
    "            submit[i][forecast.loc[index, 'ds']][j] = np.float(forecast[forecast['ds']==k]['yhat'])\n",
    "            \n",
    "        res_list.append( (i,j,forecast) )\n",
    "    return res_list"
   ]
  },
  {
   "cell_type": "code",
   "execution_count": 39,
   "id": "ab87b0f4",
   "metadata": {},
   "outputs": [],
   "source": [
    "fct_lst_ray = ray.put(fct_lst)\n",
    "submit_ray = ray.put(submit)"
   ]
  },
  {
   "cell_type": "code",
   "execution_count": null,
   "id": "7d65be82",
   "metadata": {},
   "outputs": [],
   "source": [
    "task_list = [ pred_all_columns.remote(df_dic[x], x ,fct_lst_ray, submit_ray) for x in plc_lst ]"
   ]
  },
  {
   "cell_type": "code",
   "execution_count": null,
   "id": "31fec653",
   "metadata": {},
   "outputs": [],
   "source": [
    "%%time\n",
    "results = ray.get(task_list)"
   ]
  },
  {
   "cell_type": "code",
   "execution_count": 49,
   "id": "c4a1dc19",
   "metadata": {},
   "outputs": [
    {
     "name": "stderr",
     "output_type": "stream",
     "text": [
      "/tmp/ipykernel_10600/3712719606.py:7: DeprecationWarning: `np.float` is a deprecated alias for the builtin `float`. To silence this warning, use `float` by itself. Doing this will not modify any behavior and is safe. If you specifically wanted the numpy scalar type, use `np.float64` here.\n",
      "Deprecated in NumPy 1.20; for more details and guidance: https://numpy.org/devdocs/release/1.20.0-notes.html#deprecations\n",
      "  submit[i][forecast.loc[index, 'ds']][j] = np.float(forecast[forecast['ds']==k]['yhat'])\n"
     ]
    }
   ],
   "source": [
    "for item in results:\n",
    "    for x in item:\n",
    "        i = x[0]\n",
    "        j = x[1]\n",
    "        forecast = x[2]\n",
    "        for index, k in enumerate(list(forecast['ds'])):\n",
    "            submit[i][forecast.loc[index, 'ds']][j] = np.float(forecast[forecast['ds']==k]['yhat'])"
   ]
  },
  {
   "cell_type": "code",
   "execution_count": 50,
   "id": "90484ba0",
   "metadata": {},
   "outputs": [],
   "source": [
    "# 추론 파일 저장\n",
    "with open('./sub/baseline_median3.json', 'w', encoding='utf8') as f:\n",
    "    json.dump(submit, f, ensure_ascii=False)"
   ]
  }
 ],
 "metadata": {
  "kernelspec": {
   "display_name": "Python [conda env:ts]",
   "language": "python",
   "name": "conda-env-ts-py"
  },
  "language_info": {
   "codemirror_mode": {
    "name": "ipython",
    "version": 3
   },
   "file_extension": ".py",
   "mimetype": "text/x-python",
   "name": "python",
   "nbconvert_exporter": "python",
   "pygments_lexer": "ipython3",
   "version": "3.9.13"
  },
  "widgets": {
   "application/vnd.jupyter.widget-state+json": {
    "state": {},
    "version_major": 2,
    "version_minor": 0
   }
  }
 },
 "nbformat": 4,
 "nbformat_minor": 5
}
