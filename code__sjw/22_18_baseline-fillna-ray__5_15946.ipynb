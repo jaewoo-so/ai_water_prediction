{
 "cells": [
  {
   "cell_type": "markdown",
   "metadata": {},
   "source": [
    "## 13번 모델\n",
    "- ray \n",
    "- fillna\n",
    "- baseline prohet \n",
    "    - changepoint_prior_scale = 0.05 -> T + P 에서만 0.01\n",
    "    - seasonality_prior_scale = 10 디폴트\n",
    "- results- ray \n",
    "\n",
    "---\n",
    "- pH에선 로스 증가  \n",
    "- COD 에서도 로스 감소      \n",
    "- SS 에서 로스 약간 감소 0.001       \n",
    "- N에서 로스 약간 증가    \n",
    "- P에서 로스 약간 증가    \n",
    "\n",
    "\n",
    "---\n",
    "## 파라미터 설명 참조 \n",
    "https://velog.io/@choijhyeok/Prophet-1-parameter-%EC%95%8C%EC%95%84%EB%B3%B4%EA%B8%B0"
   ]
  },
  {
   "cell_type": "code",
   "execution_count": 1,
   "metadata": {},
   "outputs": [],
   "source": [
    "import ray"
   ]
  },
  {
   "cell_type": "code",
   "execution_count": 3,
   "metadata": {},
   "outputs": [],
   "source": [
    "# 라이브러리 임포트\n",
    "import os\n",
    "import time\n",
    "import json\n",
    "import datetime\n",
    "import numpy as np\n",
    "import pandas as pd\n",
    "from fbprophet import Prophet\n",
    "import pickle\n",
    "import copy\n",
    "import time\n",
    "from functools import *\n",
    "from tqdm.auto import tqdm"
   ]
  },
  {
   "cell_type": "code",
   "execution_count": 4,
   "metadata": {
    "tags": []
   },
   "outputs": [
    {
     "name": "stdout",
     "output_type": "stream",
     "text": [
      "CPU times: user 755 ms, sys: 124 ms, total: 879 ms\n",
      "Wall time: 879 ms\n"
     ]
    }
   ],
   "source": [
    "%%time\n",
    "''' 베이스라인 코드에서 json으로 DF만듬. 이미 만들어진 데이터를 로드 '''\n",
    "submit = json.load(open('./data/sample_submission/sample_submission.json', 'r', encoding='utf8')) \n",
    "df_dic = pickle.load(open('./mydata/df_dic.plk','rb')) # 모든 측정 지점의 피쳐 값들 \n",
    "plc_lst = pickle.load(open('./mydata/plc_lst.plk','rb')) # 측정 지점 리스트\n",
    "fct_lst = ['pH', 'COD', 'SS', 'N', 'P', 'T'] # 피쳐 리스트"
   ]
  },
  {
   "cell_type": "markdown",
   "metadata": {},
   "source": [
    "---\n",
    "## 데이터 전처리 "
   ]
  },
  {
   "cell_type": "code",
   "execution_count": 5,
   "metadata": {},
   "outputs": [
    {
     "name": "stdout",
     "output_type": "stream",
     "text": [
      "CPU times: user 2.22 s, sys: 12.3 ms, total: 2.23 s\n",
      "Wall time: 2.23 s\n"
     ]
    }
   ],
   "source": [
    "%%time\n",
    "''' fillna : 단순 missing value 채움'''\n",
    "for plc in plc_lst:\n",
    "    df = df_dic[plc]\n",
    "    df = df.fillna(method='ffill')\n",
    "    df = df.fillna(method='bfill')    \n",
    "    df_dic[plc] = df.dropna()\n",
    "    \n",
    "    if df_dic[plc].isna().any().any():\n",
    "        print(plc)"
   ]
  },
  {
   "cell_type": "markdown",
   "metadata": {},
   "source": [
    "---\n",
    "## 모델 훈련"
   ]
  },
  {
   "cell_type": "code",
   "execution_count": 6,
   "metadata": {
    "tags": []
   },
   "outputs": [],
   "source": [
    "''' Prophet 예측을 위한 dataframe 포맷 제작 '''\n",
    "future = pd.DataFrame([str(x)[:10] for x in list(pd.date_range(start='2018-02-01', end='2019-12-31', inclusive=\"both\"))], columns=['ds'])\n",
    "future['y'] = np.nan\n",
    "#future"
   ]
  },
  {
   "cell_type": "code",
   "execution_count": 7,
   "metadata": {
    "scrolled": true
   },
   "outputs": [],
   "source": [
    "@ray.remote\n",
    "def pred_all_columns_chunk(plc_lst_partial,df_dic,fct_lst):\n",
    "    res_list = []\n",
    "    for i in plc_lst_partial:\n",
    "        plc_df= df_dic[i]\n",
    "        for j in fct_lst: # 피쳐 리스트\n",
    "            fct_df = plc_df[['ds', j]]   # 날짜 - 피쳐1 조합임.\n",
    "            fct_df = fct_df.rename(columns={j:'y'}) # 피쳐1을 y로 바꾼다.\n",
    "            \n",
    "            if j in ['COD', 'SS',' T']:\n",
    "                model = Prophet(\n",
    "                    changepoint_prior_scale = 0.01,)\n",
    "            else:\n",
    "                 model = Prophet()\n",
    "                    \n",
    "            model.fit(fct_df)\n",
    "            forecast = model.predict(future)\n",
    "            forecast['ds'] = forecast['ds'].apply(lambda x : str(x).split(' ')[0].split('-')[0]+str(x).split(' ')[0].split('-')[1]+str(x).split(' ')[0].split('-')[2])\n",
    "            forecast = forecast[['ds', 'yhat']]\n",
    "\n",
    "            #for index, k in enumerate(list(forecast['ds'])):\n",
    "            #    submit[i][forecast.loc[index, 'ds']][j] = np.float(forecast[forecast['ds']==k]['yhat'])\n",
    "\n",
    "            res_list.append( (i,j,forecast) )\n",
    "    return res_list"
   ]
  },
  {
   "cell_type": "code",
   "execution_count": 8,
   "metadata": {
    "scrolled": true
   },
   "outputs": [],
   "source": [
    "fct_lst_ray = ray.put(fct_lst)\n",
    "df_dic_ray = ray.put(df_dic)"
   ]
  },
  {
   "cell_type": "code",
   "execution_count": 9,
   "metadata": {},
   "outputs": [],
   "source": [
    "''' plc_lst 를 나눠서 병렬처리 '''\n",
    "plc_splited = [list(x) for x in  list(np.array_split(plc_lst, 48 ))] # 48코어"
   ]
  },
  {
   "cell_type": "code",
   "execution_count": null,
   "metadata": {
    "scrolled": true
   },
   "outputs": [],
   "source": [
    "''' 주의 : 백그라운드에서 돌아가므로, \n",
    "cpu 로드율을 보고, 로드율이 100% 가까이 올라갔다가, \n",
    "아이들링 수치로 떨어졌을때 작업이 끝난거임. \n",
    "그전에는 다음 코드를 실행하지 말것. '''\n",
    "task_list = [ pred_all_columns_chunk.remote(x,df_dic_ray,fct_lst_ray) for x in plc_splited ]"
   ]
  },
  {
   "cell_type": "code",
   "execution_count": 11,
   "metadata": {
    "scrolled": true
   },
   "outputs": [],
   "source": [
    "''' 결과 합치기 '''\n",
    "results = ray.get(task_list)\n",
    "results_combined = list(reduce(lambda f ,s : f +s ,results))"
   ]
  },
  {
   "cell_type": "markdown",
   "metadata": {},
   "source": [
    "---\n",
    "## TEST 데이터 포멧으로 바꾸기"
   ]
  },
  {
   "cell_type": "code",
   "execution_count": 12,
   "metadata": {},
   "outputs": [
    {
     "name": "stderr",
     "output_type": "stream",
     "text": [
      "/ssd/jaewoo/anaconda3/envs/ts/lib/python3.9/site-packages/numpy/core/_asarray.py:102: VisibleDeprecationWarning: Creating an ndarray from ragged nested sequences (which is a list-or-tuple of lists-or-tuples-or ndarrays with different lengths or shapes) is deprecated. If you meant to do this, you must specify 'dtype=object' when creating the ndarray.\n",
      "  return array(a, dtype, copy=False, order=order)\n"
     ]
    },
    {
     "name": "stdout",
     "output_type": "stream",
     "text": [
      "CPU times: user 1.87 s, sys: 0 ns, total: 1.87 s\n",
      "Wall time: 1.86 s\n"
     ]
    }
   ],
   "source": [
    "%%time\n",
    "''' 결과정리.'''\n",
    "res_splited = [list(x) for x in  list(np.array_split(results_combined, 545 ))] # 48코어\n",
    "\n",
    "for items in res_splited:\n",
    "    df_lst = []\n",
    "    for pred_info in items:\n",
    "        comname = pred_info[0]\n",
    "        col_name = pred_info[1]\n",
    "        \n",
    "        df_pred = pred_info[2]\n",
    "        df_pred.columns = ['ds',col_name]\n",
    "        df_lst.append(df_pred)\n",
    "    df_combined = pd.concat(df_lst,axis = 1)\n",
    "    df_sample = df_combined.loc[:, ~df_combined.columns.duplicated()]\n",
    "    df_sample.index = df_sample.ds\n",
    "    df_sample = df_sample.drop(['ds'],axis = 1)\n",
    "    \n",
    "    submit[comname] = df_sample.to_dict('index')"
   ]
  },
  {
   "cell_type": "code",
   "execution_count": 13,
   "metadata": {},
   "outputs": [],
   "source": [
    "# 추론 파일 저장\n",
    "with open('./sub/18_bs_fillna_cp0_01onlyCod_SS_T.json', 'w', encoding='utf8') as f:\n",
    "    json.dump(submit, f, ensure_ascii=False)"
   ]
  }
 ],
 "metadata": {
  "kernelspec": {
   "display_name": "ts",
   "language": "python",
   "name": "ts"
  },
  "language_info": {
   "codemirror_mode": {
    "name": "ipython",
    "version": 3
   },
   "file_extension": ".py",
   "mimetype": "text/x-python",
   "name": "python",
   "nbconvert_exporter": "python",
   "pygments_lexer": "ipython3",
   "version": "3.9.7"
  },
  "widgets": {
   "application/vnd.jupyter.widget-state+json": {
    "state": {},
    "version_major": 2,
    "version_minor": 0
   }
  }
 },
 "nbformat": 4,
 "nbformat_minor": 5
}
