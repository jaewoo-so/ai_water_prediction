{
 "cells": [
  {
   "cell_type": "code",
   "execution_count": 1,
   "id": "739f32f9",
   "metadata": {},
   "outputs": [],
   "source": [
    "import numpy as np\n",
    "import matplotlib.pyplot as plt\n",
    "import pandas as pd\n",
    "import torch\n",
    "import torch.nn as nn\n",
    "from torch.autograd import Variable\n",
    "from sklearn.preprocessing import MinMaxScaler"
   ]
  },
  {
   "cell_type": "code",
   "execution_count": 2,
   "id": "a8ce5978",
   "metadata": {},
   "outputs": [],
   "source": [
    "# 라이브러리 임포트\n",
    "import os\n",
    "import time\n",
    "import json\n",
    "from datetime import datetime, timedelta\n",
    "import numpy as np\n",
    "import pandas as pd\n",
    "#from fbprophet import Prophet\n",
    "import pickle\n",
    "import copy\n",
    "from tqdm.auto import tqdm"
   ]
  },
  {
   "cell_type": "code",
   "execution_count": 3,
   "id": "a2ca6a7d",
   "metadata": {},
   "outputs": [
    {
     "name": "stdout",
     "output_type": "stream",
     "text": [
      "CPU times: total: 750 ms\n",
      "Wall time: 789 ms\n"
     ]
    }
   ],
   "source": [
    "%%time\n",
    "submit = json.load(open('./data/sample_submission/sample_submission.json', 'r', encoding='utf8')) \n",
    "df_dic = pickle.load(open('./mydata/df_dic.plk','rb'))\n",
    "plc_lst = pickle.load(open('./mydata/plc_lst.plk','rb'))\n",
    "fct_lst = ['pH', 'COD', 'SS', 'N', 'P', 'T']"
   ]
  },
  {
   "cell_type": "code",
   "execution_count": 4,
   "id": "3f640884",
   "metadata": {},
   "outputs": [],
   "source": [
    "''' fill na '''\n",
    "for plc in plc_lst:\n",
    "    df = df_dic[plc]\n",
    "    df_dic[plc] = df_dic[plc].fillna(method='ffill')\n",
    "    df_dic[plc] = df_dic[plc].fillna(method='bfill')\n",
    "    df_dic[plc] = df_dic[plc].dropna()"
   ]
  },
  {
   "cell_type": "code",
   "execution_count": 5,
   "id": "eac70fb3",
   "metadata": {},
   "outputs": [
    {
     "name": "stdout",
     "output_type": "stream",
     "text": [
      "CPU times: total: 6.03 s\n",
      "Wall time: 6.04 s\n"
     ]
    }
   ],
   "source": [
    "%%time\n",
    "''' create datetime '''\n",
    "for plc in plc_lst:\n",
    "    df_dic[plc]['date'] = df_dic[plc]['ds'].apply(lambda x : datetime.strptime(x , '%Y%m%d'))\n",
    "    df_dic[plc]['year'] = pd.DatetimeIndex(df_dic[plc]['date']).year - 2010\n",
    "    df_dic[plc]['month'] = pd.DatetimeIndex(df_dic[plc]['date']).month / 12\n",
    "    df_dic[plc]['day'] = pd.DatetimeIndex(df_dic[plc]['date']).day / 31"
   ]
  },
  {
   "cell_type": "markdown",
   "id": "a19e6d3d",
   "metadata": {
    "tags": []
   },
   "source": [
    "---\n",
    "# 데이터 만들기"
   ]
  },
  {
   "cell_type": "code",
   "execution_count": 35,
   "id": "0a90dbdf",
   "metadata": {},
   "outputs": [],
   "source": [
    "def create_lag_feature(df_trg , lag_count , interval):\n",
    "    df_n = df_trg.copy()\n",
    "    for n in range(1, lag_count + 1):\n",
    "        df_shift = []\n",
    "        for col in fct_lst:\n",
    "            df_shift.append( df_n[col].shift(n*interval).to_frame(name= f\"{col}_lag{n*interval}\") )\n",
    "        df_n  = pd.concat( [df_n] + df_shift , axis = 1)\n",
    "    dftemp = df_n.iloc[lag_count*interval:].dropna()\n",
    "    #dftemp = df_n.iloc[n_lags*interval:-1]\n",
    "    \n",
    "    x = dftemp.iloc[:-1].drop(['ds','date'],axis = 1)\n",
    "    y = dftemp[fct_lst].shift(-1).dropna()\n",
    "    y.columns = [ 'y_' + x for x in y.columns ]\n",
    "    return x, y"
   ]
  },
  {
   "cell_type": "code",
   "execution_count": 36,
   "id": "da3de555",
   "metadata": {
    "scrolled": true
   },
   "outputs": [
    {
     "name": "stdout",
     "output_type": "stream",
     "text": [
      "CPU times: total: 2min 12s\n",
      "Wall time: 2min 13s\n"
     ]
    }
   ],
   "source": [
    "%%time\n",
    "lag_count = 120\n",
    "interval = 5\n",
    "\n",
    "xs = dict()\n",
    "ys = dict()\n",
    "for plc in tqdm(plc_lst):\n",
    "    x ,y = create_lag_feature(df_dic[plc] , lag_count , interval)\n",
    "    xs[plc] = x\n",
    "    ys[plc] = y\n"
   ]
  },
  {
   "cell_type": "code",
   "execution_count": 37,
   "id": "ddf4531a-775f-4ab4-aff6-994aed8f348e",
   "metadata": {},
   "outputs": [],
   "source": [
    "''' 저장 '''\n",
    "pickle.dump([xs,ys] , open('./mydata/lstm_xy.plk','wb'))"
   ]
  },
  {
   "cell_type": "code",
   "execution_count": null,
   "id": "a0d884a1-02af-4c06-82ad-aac58d46fad8",
   "metadata": {},
   "outputs": [],
   "source": []
  }
 ],
 "metadata": {
  "kernelspec": {
   "display_name": "ts",
   "language": "python",
   "name": "ts"
  },
  "language_info": {
   "codemirror_mode": {
    "name": "ipython",
    "version": 3
   },
   "file_extension": ".py",
   "mimetype": "text/x-python",
   "name": "python",
   "nbconvert_exporter": "python",
   "pygments_lexer": "ipython3",
   "version": "3.9.13"
  },
  "widgets": {
   "application/vnd.jupyter.widget-state+json": {
    "state": {},
    "version_major": 2,
    "version_minor": 0
   }
  }
 },
 "nbformat": 4,
 "nbformat_minor": 5
}
