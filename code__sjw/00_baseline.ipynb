{
 "cells": [
  {
   "cell_type": "code",
   "execution_count": null,
   "metadata": {
    "tags": []
   },
   "outputs": [],
   "source": [
    "# 필요 시 주석을 해제하고 아래 라이브러리들을 설치\n",
    "# !pip install pystan==2.19.1.1\n",
    "# !pip3 install fbprophet\n",
    "# !pip install plotly"
   ]
  },
  {
   "cell_type": "code",
   "execution_count": 1,
   "metadata": {},
   "outputs": [],
   "source": [
    "# 라이브러리 임포트\n",
    "import os\n",
    "import time\n",
    "import json\n",
    "import datetime\n",
    "import numpy as np\n",
    "import pandas as pd\n",
    "from fbprophet import Prophet"
   ]
  },
  {
   "cell_type": "code",
   "execution_count": 2,
   "metadata": {
    "tags": []
   },
   "outputs": [
    {
     "name": "stdout",
     "output_type": "stream",
     "text": [
      "CPU times: user 3.64 s, sys: 551 ms, total: 4.2 s\n",
      "Wall time: 4.2 s\n"
     ]
    }
   ],
   "source": [
    "%%time\n",
    "# 데이터 로드\n",
    "train = json.load(open('./data/train/train.json', 'r', encoding='utf8')) \n",
    "submit = json.load(open('./data/sample_submission/sample_submission.json', 'r', encoding='utf8')) "
   ]
  },
  {
   "cell_type": "code",
   "execution_count": 3,
   "metadata": {
    "tags": []
   },
   "outputs": [
    {
     "name": "stdout",
     "output_type": "stream",
     "text": [
      "CPU times: user 4min 30s, sys: 19.6 ms, total: 4min 30s\n",
      "Wall time: 4min 30s\n"
     ]
    }
   ],
   "source": [
    "%%time\n",
    "# 사업장별 dataframe 제작\n",
    "df_dic = {}\n",
    "plc_lst = list(train.keys())\n",
    "fct_lst = ['pH', 'COD', 'SS', 'N', 'P', 'T']\n",
    "\n",
    "for i in plc_lst:\n",
    "    plc_df = pd.DataFrame(columns={'ds', 'pH', 'COD', 'SS', 'N', 'P', 'T'})\n",
    "    plc_df = plc_df[['ds', 'pH', 'COD', 'SS', 'N', 'P', 'T']]\n",
    "    \n",
    "    date_lst = list(train[i].keys())\n",
    "    plc_df.loc[:, 'ds'] = date_lst\n",
    "\n",
    "    for index, j in enumerate(date_lst):\n",
    "        for k in fct_lst:\n",
    "            try:\n",
    "                plc_df.loc[index, k] = train[i][j][k]\n",
    "            except:\n",
    "                pass\n",
    "                    \n",
    "    df_dic[i] = plc_df"
   ]
  },
  {
   "cell_type": "code",
   "execution_count": 27,
   "metadata": {},
   "outputs": [
    {
     "data": {
      "text/html": [
       "<div>\n",
       "<style scoped>\n",
       "    .dataframe tbody tr th:only-of-type {\n",
       "        vertical-align: middle;\n",
       "    }\n",
       "\n",
       "    .dataframe tbody tr th {\n",
       "        vertical-align: top;\n",
       "    }\n",
       "\n",
       "    .dataframe thead th {\n",
       "        text-align: right;\n",
       "    }\n",
       "</style>\n",
       "<table border=\"1\" class=\"dataframe\">\n",
       "  <thead>\n",
       "    <tr style=\"text-align: right;\">\n",
       "      <th></th>\n",
       "      <th>ds</th>\n",
       "      <th>pH</th>\n",
       "      <th>COD</th>\n",
       "      <th>SS</th>\n",
       "      <th>N</th>\n",
       "      <th>P</th>\n",
       "      <th>T</th>\n",
       "    </tr>\n",
       "  </thead>\n",
       "  <tbody>\n",
       "    <tr>\n",
       "      <th>0</th>\n",
       "      <td>20100101</td>\n",
       "      <td>1.237804</td>\n",
       "      <td>1.104691</td>\n",
       "      <td>0.166969</td>\n",
       "      <td>0.359743</td>\n",
       "      <td>-0.365124</td>\n",
       "      <td>-0.152997</td>\n",
       "    </tr>\n",
       "    <tr>\n",
       "      <th>1</th>\n",
       "      <td>20100102</td>\n",
       "      <td>0.652694</td>\n",
       "      <td>1.790647</td>\n",
       "      <td>0.166969</td>\n",
       "      <td>0.623086</td>\n",
       "      <td>-0.261693</td>\n",
       "      <td>-0.152997</td>\n",
       "    </tr>\n",
       "    <tr>\n",
       "      <th>2</th>\n",
       "      <td>20100103</td>\n",
       "      <td>0.067584</td>\n",
       "      <td>1.733484</td>\n",
       "      <td>0.962297</td>\n",
       "      <td>0.908991</td>\n",
       "      <td>-0.227216</td>\n",
       "      <td>-0.152997</td>\n",
       "    </tr>\n",
       "    <tr>\n",
       "      <th>3</th>\n",
       "      <td>20100104</td>\n",
       "      <td>0.652694</td>\n",
       "      <td>1.733484</td>\n",
       "      <td>0.697188</td>\n",
       "      <td>1.541828</td>\n",
       "      <td>-0.330647</td>\n",
       "      <td>-0.152997</td>\n",
       "    </tr>\n",
       "    <tr>\n",
       "      <th>4</th>\n",
       "      <td>20100105</td>\n",
       "      <td>1.237804</td>\n",
       "      <td>1.733484</td>\n",
       "      <td>0.166969</td>\n",
       "      <td>2.29783</td>\n",
       "      <td>-0.322028</td>\n",
       "      <td>-0.152997</td>\n",
       "    </tr>\n",
       "    <tr>\n",
       "      <th>...</th>\n",
       "      <td>...</td>\n",
       "      <td>...</td>\n",
       "      <td>...</td>\n",
       "      <td>...</td>\n",
       "      <td>...</td>\n",
       "      <td>...</td>\n",
       "      <td>...</td>\n",
       "    </tr>\n",
       "    <tr>\n",
       "      <th>2826</th>\n",
       "      <td>20180127</td>\n",
       "      <td>-1.102636</td>\n",
       "      <td>-0.667363</td>\n",
       "      <td>-0.363249</td>\n",
       "      <td>NaN</td>\n",
       "      <td>NaN</td>\n",
       "      <td>-0.152997</td>\n",
       "    </tr>\n",
       "    <tr>\n",
       "      <th>2827</th>\n",
       "      <td>20180128</td>\n",
       "      <td>-1.102636</td>\n",
       "      <td>-0.6102</td>\n",
       "      <td>-0.628359</td>\n",
       "      <td>NaN</td>\n",
       "      <td>NaN</td>\n",
       "      <td>-0.152997</td>\n",
       "    </tr>\n",
       "    <tr>\n",
       "      <th>2828</th>\n",
       "      <td>20180129</td>\n",
       "      <td>-1.102636</td>\n",
       "      <td>-0.6102</td>\n",
       "      <td>-0.628359</td>\n",
       "      <td>NaN</td>\n",
       "      <td>NaN</td>\n",
       "      <td>-0.152997</td>\n",
       "    </tr>\n",
       "    <tr>\n",
       "      <th>2829</th>\n",
       "      <td>20180130</td>\n",
       "      <td>-1.102636</td>\n",
       "      <td>-0.553037</td>\n",
       "      <td>-0.628359</td>\n",
       "      <td>NaN</td>\n",
       "      <td>NaN</td>\n",
       "      <td>-0.152997</td>\n",
       "    </tr>\n",
       "    <tr>\n",
       "      <th>2830</th>\n",
       "      <td>20180131</td>\n",
       "      <td>-1.102636</td>\n",
       "      <td>-0.553037</td>\n",
       "      <td>-0.363249</td>\n",
       "      <td>NaN</td>\n",
       "      <td>NaN</td>\n",
       "      <td>-0.152997</td>\n",
       "    </tr>\n",
       "  </tbody>\n",
       "</table>\n",
       "<p>2831 rows × 7 columns</p>\n",
       "</div>"
      ],
      "text/plain": [
       "            ds        pH       COD        SS         N         P         T\n",
       "0     20100101  1.237804  1.104691  0.166969  0.359743 -0.365124 -0.152997\n",
       "1     20100102  0.652694  1.790647  0.166969  0.623086 -0.261693 -0.152997\n",
       "2     20100103  0.067584  1.733484  0.962297  0.908991 -0.227216 -0.152997\n",
       "3     20100104  0.652694  1.733484  0.697188  1.541828 -0.330647 -0.152997\n",
       "4     20100105  1.237804  1.733484  0.166969   2.29783 -0.322028 -0.152997\n",
       "...        ...       ...       ...       ...       ...       ...       ...\n",
       "2826  20180127 -1.102636 -0.667363 -0.363249       NaN       NaN -0.152997\n",
       "2827  20180128 -1.102636   -0.6102 -0.628359       NaN       NaN -0.152997\n",
       "2828  20180129 -1.102636   -0.6102 -0.628359       NaN       NaN -0.152997\n",
       "2829  20180130 -1.102636 -0.553037 -0.628359       NaN       NaN -0.152997\n",
       "2830  20180131 -1.102636 -0.553037 -0.363249       NaN       NaN -0.152997\n",
       "\n",
       "[2831 rows x 7 columns]"
      ]
     },
     "execution_count": 27,
     "metadata": {},
     "output_type": "execute_result"
    }
   ],
   "source": [
    "df_dic['삼성SDI(울산)'].dtypes"
   ]
  },
  {
   "cell_type": "code",
   "execution_count": null,
   "metadata": {},
   "outputs": [],
   "source": [
    "plc_lst[:5]"
   ]
  },
  {
   "cell_type": "code",
   "execution_count": 7,
   "metadata": {
    "tags": []
   },
   "outputs": [
    {
     "data": {
      "text/html": [
       "<div>\n",
       "<style scoped>\n",
       "    .dataframe tbody tr th:only-of-type {\n",
       "        vertical-align: middle;\n",
       "    }\n",
       "\n",
       "    .dataframe tbody tr th {\n",
       "        vertical-align: top;\n",
       "    }\n",
       "\n",
       "    .dataframe thead th {\n",
       "        text-align: right;\n",
       "    }\n",
       "</style>\n",
       "<table border=\"1\" class=\"dataframe\">\n",
       "  <thead>\n",
       "    <tr style=\"text-align: right;\">\n",
       "      <th></th>\n",
       "      <th>ds</th>\n",
       "      <th>pH</th>\n",
       "      <th>COD</th>\n",
       "      <th>SS</th>\n",
       "      <th>N</th>\n",
       "      <th>P</th>\n",
       "      <th>T</th>\n",
       "    </tr>\n",
       "  </thead>\n",
       "  <tbody>\n",
       "    <tr>\n",
       "      <th>0</th>\n",
       "      <td>20100101</td>\n",
       "      <td>0.483936</td>\n",
       "      <td>1.273783</td>\n",
       "      <td>1.364365</td>\n",
       "      <td>1.268182</td>\n",
       "      <td>1.148905</td>\n",
       "      <td>0.115951</td>\n",
       "    </tr>\n",
       "    <tr>\n",
       "      <th>1</th>\n",
       "      <td>20100102</td>\n",
       "      <td>0.483936</td>\n",
       "      <td>1.150021</td>\n",
       "      <td>1.280543</td>\n",
       "      <td>1.392281</td>\n",
       "      <td>0.544579</td>\n",
       "      <td>0.115951</td>\n",
       "    </tr>\n",
       "    <tr>\n",
       "      <th>2</th>\n",
       "      <td>20100103</td>\n",
       "      <td>0.877648</td>\n",
       "      <td>0.94375</td>\n",
       "      <td>1.029079</td>\n",
       "      <td>1.363081</td>\n",
       "      <td>0.678874</td>\n",
       "      <td>0.115951</td>\n",
       "    </tr>\n",
       "    <tr>\n",
       "      <th>3</th>\n",
       "      <td>20100104</td>\n",
       "      <td>0.877648</td>\n",
       "      <td>0.861242</td>\n",
       "      <td>1.615829</td>\n",
       "      <td>1.903861</td>\n",
       "      <td>1.23549</td>\n",
       "      <td>0.115951</td>\n",
       "    </tr>\n",
       "    <tr>\n",
       "      <th>4</th>\n",
       "      <td>20100105</td>\n",
       "      <td>0.877648</td>\n",
       "      <td>0.654972</td>\n",
       "      <td>1.112901</td>\n",
       "      <td>2.235863</td>\n",
       "      <td>1.403358</td>\n",
       "      <td>0.115951</td>\n",
       "    </tr>\n",
       "    <tr>\n",
       "      <th>...</th>\n",
       "      <td>...</td>\n",
       "      <td>...</td>\n",
       "      <td>...</td>\n",
       "      <td>...</td>\n",
       "      <td>...</td>\n",
       "      <td>...</td>\n",
       "      <td>...</td>\n",
       "    </tr>\n",
       "    <tr>\n",
       "      <th>2815</th>\n",
       "      <td>20180127</td>\n",
       "      <td>2.058786</td>\n",
       "      <td>0.366194</td>\n",
       "      <td>1.448186</td>\n",
       "      <td>2.200823</td>\n",
       "      <td>-1.024548</td>\n",
       "      <td>-0.136248</td>\n",
       "    </tr>\n",
       "    <tr>\n",
       "      <th>2816</th>\n",
       "      <td>20180128</td>\n",
       "      <td>2.058786</td>\n",
       "      <td>0.32494</td>\n",
       "      <td>1.615829</td>\n",
       "      <td>1.963429</td>\n",
       "      <td>-0.983906</td>\n",
       "      <td>-0.136248</td>\n",
       "    </tr>\n",
       "    <tr>\n",
       "      <th>2817</th>\n",
       "      <td>20180129</td>\n",
       "      <td>2.058786</td>\n",
       "      <td>0.366194</td>\n",
       "      <td>1.532008</td>\n",
       "      <td>1.933645</td>\n",
       "      <td>-1.010412</td>\n",
       "      <td>-0.136248</td>\n",
       "    </tr>\n",
       "    <tr>\n",
       "      <th>2818</th>\n",
       "      <td>20180130</td>\n",
       "      <td>1.665074</td>\n",
       "      <td>1.108767</td>\n",
       "      <td>1.532008</td>\n",
       "      <td>2.450481</td>\n",
       "      <td>-0.992741</td>\n",
       "      <td>-0.136248</td>\n",
       "    </tr>\n",
       "    <tr>\n",
       "      <th>2819</th>\n",
       "      <td>20180131</td>\n",
       "      <td>2.058786</td>\n",
       "      <td>1.273783</td>\n",
       "      <td>1.448186</td>\n",
       "      <td>2.509757</td>\n",
       "      <td>-1.01748</td>\n",
       "      <td>-0.136248</td>\n",
       "    </tr>\n",
       "  </tbody>\n",
       "</table>\n",
       "<p>2820 rows × 7 columns</p>\n",
       "</div>"
      ],
      "text/plain": [
       "            ds        pH       COD        SS         N         P         T\n",
       "0     20100101  0.483936  1.273783  1.364365  1.268182  1.148905  0.115951\n",
       "1     20100102  0.483936  1.150021  1.280543  1.392281  0.544579  0.115951\n",
       "2     20100103  0.877648   0.94375  1.029079  1.363081  0.678874  0.115951\n",
       "3     20100104  0.877648  0.861242  1.615829  1.903861   1.23549  0.115951\n",
       "4     20100105  0.877648  0.654972  1.112901  2.235863  1.403358  0.115951\n",
       "...        ...       ...       ...       ...       ...       ...       ...\n",
       "2815  20180127  2.058786  0.366194  1.448186  2.200823 -1.024548 -0.136248\n",
       "2816  20180128  2.058786   0.32494  1.615829  1.963429 -0.983906 -0.136248\n",
       "2817  20180129  2.058786  0.366194  1.532008  1.933645 -1.010412 -0.136248\n",
       "2818  20180130  1.665074  1.108767  1.532008  2.450481 -0.992741 -0.136248\n",
       "2819  20180131  2.058786  1.273783  1.448186  2.509757  -1.01748 -0.136248\n",
       "\n",
       "[2820 rows x 7 columns]"
      ]
     },
     "execution_count": 7,
     "metadata": {},
     "output_type": "execute_result"
    }
   ],
   "source": [
    "df_dic[plc_lst[0]]"
   ]
  },
  {
   "cell_type": "code",
   "execution_count": 3,
   "metadata": {},
   "outputs": [],
   "source": [
    "import pickle"
   ]
  },
  {
   "cell_type": "code",
   "execution_count": 10,
   "metadata": {},
   "outputs": [],
   "source": [
    "%%time\n",
    "#pickle.dump(df_dic , open('./mydata/df_dic.plk','wb'))\n",
    "#pickle.dump(plc_lst , open('./mydata/plc_lst.plk','wb'))"
   ]
  },
  {
   "cell_type": "code",
   "execution_count": 4,
   "metadata": {},
   "outputs": [
    {
     "name": "stdout",
     "output_type": "stream",
     "text": [
      "CPU times: user 874 ms, sys: 125 ms, total: 999 ms\n",
      "Wall time: 999 ms\n"
     ]
    }
   ],
   "source": [
    "%%time\n",
    "submit = json.load(open('./data/sample_submission/sample_submission.json', 'r', encoding='utf8')) \n",
    "df_dic = pickle.load(open('./mydata/df_dic.plk','rb'))\n",
    "plc_lst = pickle.load(open('./mydata/plc_lst.plk','rb'))\n",
    "fct_lst = ['pH', 'COD', 'SS', 'N', 'P', 'T']"
   ]
  },
  {
   "cell_type": "code",
   "execution_count": 5,
   "metadata": {
    "tags": []
   },
   "outputs": [],
   "source": [
    "# Prophet 예측을 위한 dataframe 포맷 제작\n",
    "future = pd.DataFrame([str(x)[:10] for x in list(pd.date_range(start='2018-02-01', end='2019-12-31', inclusive=\"both\"))], columns=['ds'])\n",
    "future['y'] = np.nan\n",
    "#future"
   ]
  },
  {
   "cell_type": "code",
   "execution_count": null,
   "metadata": {
    "tags": []
   },
   "outputs": [],
   "source": [
    "# 추론\n",
    "start_time = time.time()\n",
    "\n",
    "for i in plc_lst:\n",
    "    plc_df = df_dic[i]\n",
    "    \n",
    "    for j in fct_lst: # 피쳐 리스트\n",
    "        fct_df = plc_df[['ds', j]]   # 날짜 - 피쳐1 조합임.\n",
    "        fct_df = fct_df.rename(columns={j:'y'}) # 피쳐1을 y로 바꾼다.\n",
    "        model = Prophet()\n",
    "        model.fit(fct_df)\n",
    "        forecast = model.predict(future)\n",
    "        forecast['ds'] = forecast['ds'].apply(lambda x : str(x).split(' ')[0].split('-')[0]+str(x).split(' ')[0].split('-')[1]+str(x).split(' ')[0].split('-')[2])\n",
    "        forecast = forecast[['ds', 'yhat']]\n",
    "        \n",
    "        for index, k in enumerate(list(forecast['ds'])):\n",
    "            submit[i][forecast.loc[index, 'ds']][j] = np.float(forecast[forecast['ds']==k]['yhat'])\n",
    "        \n",
    "end_time = time.time()\n",
    "print('소요시간 :', (end_time - start_time)/60, 'minutes')"
   ]
  },
  {
   "cell_type": "code",
   "execution_count": 23,
   "metadata": {},
   "outputs": [],
   "source": [
    "# 추론 파일 저장\n",
    "with open('./sub/baseline.json', 'w', encoding='utf8') as f:\n",
    "    json.dump(submit, f, ensure_ascii=False)"
   ]
  },
  {
   "cell_type": "code",
   "execution_count": null,
   "metadata": {},
   "outputs": [],
   "source": []
  }
 ],
 "metadata": {
  "kernelspec": {
   "display_name": "ts",
   "language": "python",
   "name": "ts"
  },
  "language_info": {
   "codemirror_mode": {
    "name": "ipython",
    "version": 3
   },
   "file_extension": ".py",
   "mimetype": "text/x-python",
   "name": "python",
   "nbconvert_exporter": "python",
   "pygments_lexer": "ipython3",
   "version": "3.9.7"
  },
  "widgets": {
   "application/vnd.jupyter.widget-state+json": {
    "state": {},
    "version_major": 2,
    "version_minor": 0
   }
  }
 },
 "nbformat": 4,
 "nbformat_minor": 5
}
