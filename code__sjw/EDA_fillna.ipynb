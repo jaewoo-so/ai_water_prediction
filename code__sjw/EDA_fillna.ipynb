{
 "cells": [
  {
   "cell_type": "code",
   "execution_count": null,
   "metadata": {},
   "outputs": [],
   "source": [
    "import os\n",
    "import time\n",
    "import json\n",
    "import datetime\n",
    "import numpy as np\n",
    "import pandas as pd\n",
    "import pickle\n",
    "from datetime import datetime"
   ]
  },
  {
   "cell_type": "code",
   "execution_count": null,
   "metadata": {},
   "outputs": [],
   "source": [
    "import seaborn as sns\n",
    "from plotly import express as px\n",
    "import matplotlib.pyplot as plt\n",
    "from tqdm.auto import tqdm"
   ]
  },
  {
   "cell_type": "code",
   "execution_count": null,
   "metadata": {},
   "outputs": [],
   "source": [
    "%%time\n",
    "submit = json.load(open('./data/sample_submission/sample_submission.json', 'r', encoding='utf8')) \n",
    "df_dic = pickle.load(open('./mydata/df_dic.plk','rb'))\n",
    "plc_lst = pickle.load(open('./mydata/plc_lst.plk','rb'))\n",
    "fct_lst = ['pH', 'COD', 'SS', 'N', 'P', 'T']"
   ]
  },
  {
   "cell_type": "code",
   "execution_count": null,
   "metadata": {},
   "outputs": [],
   "source": [
    "%%time\n",
    "''' fillna : 단순 missing value 채움'''\n",
    "for plc in plc_lst:\n",
    "    df = df_dic[plc]\n",
    "    df = df.fillna(method='ffill')\n",
    "    df = df.fillna(method='bfill')    \n",
    "    df_dic[plc] = df.dropna()\n",
    "    \n",
    "    if df_dic[plc].isna().any().any():\n",
    "        print(plc)"
   ]
  },
  {
   "cell_type": "code",
   "execution_count": null,
   "metadata": {},
   "outputs": [],
   "source": [
    "%%time\n",
    "for i in tqdm(plc_lst):\n",
    "    plc_df= df_dic[i]\n",
    "    for f in fct_lst:\n",
    "        df= plc_df[f]\n",
    "        fig, ax = plt.subplots(1, 1, figsize = (12,6))\n",
    "\n",
    "\n",
    "        g1 = sns.lineplot(x= range(len(df)), y= df.values ,ax = ax)\n",
    "        g1.set(xticklabels=[])\n",
    "        g1.set(title=f'{i}__{f}')\n",
    "        g1.set(xlabel=None)\n",
    "   \n",
    "        ff = g1.get_figure()\n",
    "        ff.savefig(f'./plot_data/{f.lower()}/{i}_{f}.png') "
   ]
  },
  {
   "cell_type": "code",
   "execution_count": null,
   "metadata": {},
   "outputs": [],
   "source": [
    "fig, ax = plt.subplots(1, 1, figsize = (12,6))\n",
    "\n",
    "\n",
    "g1 = sns.lineplot(x= range(len(df)), y= df.values ,ax = ax)\n",
    "g1.set(xticklabels=[])\n",
    "g1.set(title=f'{i}__{f}')\n",
    "g1.set(xlabel=None)"
   ]
  },
  {
   "cell_type": "code",
   "execution_count": null,
   "metadata": {},
   "outputs": [],
   "source": []
  },
  {
   "cell_type": "code",
   "execution_count": null,
   "metadata": {},
   "outputs": [],
   "source": [
    "''' 전체 통채로 만들기 '''\n",
    "plc_sorted_lst = sorted(plc_lst)\n",
    "\n",
    "dfs = []\n",
    "for lo in plc_sorted_lst:\n",
    "    df_temp = df_dic[lo]\n",
    "    df_temp['loc'] = lo\n",
    "    dfs.append(df_temp)\n",
    "dfall = pd.concat(dfs)"
   ]
  },
  {
   "cell_type": "code",
   "execution_count": null,
   "metadata": {},
   "outputs": [],
   "source": [
    "''' 기록이 시작되는 공통 날짜 구하기 '''\n",
    "dates = []\n",
    "for lo in plc_sorted_lst:\n",
    "    df_temp = df_dic[lo]\n",
    "    dates.append(df_temp.ds[0])\n",
    "mx_date= max(dates)\n",
    "print(mx_date)  "
   ]
  },
  {
   "cell_type": "code",
   "execution_count": null,
   "metadata": {},
   "outputs": [],
   "source": [
    "''' 최소 날짜가 포함되어 있는지 확인. -> 모두 포함되어 있다. '''\n",
    "for lo in plc_sorted_lst:\n",
    "    df_temp = df_dic[lo]\n",
    "    if ~(df_temp.ds == mx_date).any():\n",
    "        print(lo)"
   ]
  },
  {
   "cell_type": "code",
   "execution_count": null,
   "metadata": {},
   "outputs": [],
   "source": [
    "''' datetime  열 만들기 '''\n",
    "dt_list =  [ datetime.strptime(x, \"%Y%m%d\")for x in  list(dfall['ds'])]\n",
    "dfall['dst'] = dt_list\n",
    "\n",
    "''' 공통 날짜로 맞추기 '''\n",
    "dfall_comm = dfall.loc[dfall.dst >= datetime(2015,4,23)]\n",
    "dfall_comm = dfall_comm.reset_index(drop=True)"
   ]
  },
  {
   "cell_type": "code",
   "execution_count": null,
   "metadata": {},
   "outputs": [],
   "source": [
    "''' 모든 업장의 데이터 길이가 같은지 확인 -> 1015 개로 똑같다. '''\n",
    "res = dfall_comm.groupby(by = 'loc').size()"
   ]
  },
  {
   "cell_type": "code",
   "execution_count": null,
   "metadata": {},
   "outputs": [],
   "source": [
    "for col in ['pH', 'COD', 'SS', 'N', 'P', 'T']:\n",
    "    dfall_comm[col] = pd.to_numeric(dfall_comm[col])"
   ]
  },
  {
   "cell_type": "code",
   "execution_count": null,
   "metadata": {},
   "outputs": [],
   "source": [
    "pickle.dump(dfall_comm , open('./mydata/dfall_comm.plk','wb'))"
   ]
  },
  {
   "cell_type": "code",
   "execution_count": null,
   "metadata": {},
   "outputs": [],
   "source": []
  },
  {
   "cell_type": "markdown",
   "metadata": {},
   "source": [
    "---\n",
    "## 6개의 피쳐끼리 corr 보기 "
   ]
  },
  {
   "cell_type": "code",
   "execution_count": null,
   "metadata": {},
   "outputs": [],
   "source": [
    "dfall_comm.columns"
   ]
  },
  {
   "cell_type": "code",
   "execution_count": null,
   "metadata": {},
   "outputs": [],
   "source": [
    "df_corr = dfall_comm[['pH', 'COD', 'SS', 'N', 'P', 'T']]"
   ]
  },
  {
   "cell_type": "code",
   "execution_count": null,
   "metadata": {},
   "outputs": [],
   "source": [
    "df_corr.corr('pearson')"
   ]
  },
  {
   "cell_type": "markdown",
   "metadata": {},
   "source": [
    "---\n",
    "## 시각화로 확인"
   ]
  },
  {
   "cell_type": "code",
   "execution_count": null,
   "metadata": {},
   "outputs": [],
   "source": [
    "%%time\n",
    "''' fillna : 단순 missing value 채움'''\n",
    "for plc in plc_lst:\n",
    "    df = df_dic[plc]\n",
    "    df = df.fillna(method='ffill')\n",
    "    df = df.fillna(method='bfill')    \n",
    "    df_dic[plc] = df.dropna()\n",
    "    \n",
    "    if df_dic[plc].isna().any().any():\n",
    "        print(plc)"
   ]
  },
  {
   "cell_type": "code",
   "execution_count": null,
   "metadata": {},
   "outputs": [],
   "source": [
    "dfs = []\n",
    "for lo in plc_sorted_lst:\n",
    "    df_temp = df_dic[lo]\n",
    "    df_temp['loc'] = lo\n",
    "    dfs.append(df_temp)"
   ]
  },
  {
   "cell_type": "code",
   "execution_count": null,
   "metadata": {},
   "outputs": [],
   "source": [
    "dfall = pd.concat(dfs)"
   ]
  },
  {
   "cell_type": "code",
   "execution_count": null,
   "metadata": {},
   "outputs": [],
   "source": [
    "\n",
    "fig = px.line(dfall, x=\"ds\", y=\"pH\", color='loc')\n",
    "fig.show()"
   ]
  },
  {
   "cell_type": "code",
   "execution_count": null,
   "metadata": {},
   "outputs": [],
   "source": []
  },
  {
   "cell_type": "code",
   "execution_count": null,
   "metadata": {},
   "outputs": [],
   "source": []
  }
 ],
 "metadata": {
  "kernelspec": {
   "display_name": "ts",
   "language": "python",
   "name": "ts"
  },
  "language_info": {
   "codemirror_mode": {
    "name": "ipython",
    "version": 3
   },
   "file_extension": ".py",
   "mimetype": "text/x-python",
   "name": "python",
   "nbconvert_exporter": "python",
   "pygments_lexer": "ipython3",
   "version": "3.9.7"
  },
  "widgets": {
   "application/vnd.jupyter.widget-state+json": {
    "state": {
     "09f4c71cf6a54f8697e70f34cb22f7e2": {
      "model_module": "@jupyter-widgets/controls",
      "model_module_version": "1.5.0",
      "model_name": "DescriptionStyleModel",
      "state": {
       "description_width": ""
      }
     },
     "0c013189dfe940a680ac9afba6e9b706": {
      "model_module": "@jupyter-widgets/controls",
      "model_module_version": "1.5.0",
      "model_name": "HTMLModel",
      "state": {
       "layout": "IPY_MODEL_1376e8508a14444c80fb8bc1b6ed25ff",
       "style": "IPY_MODEL_db669411fe204bf6a5c9ccef348a0296",
       "value": " 0/545 [00:00&lt;?, ?it/s]"
      }
     },
     "0e296a0312c94c8f9bcb897ea103a7b6": {
      "model_module": "@jupyter-widgets/base",
      "model_module_version": "1.2.0",
      "model_name": "LayoutModel",
      "state": {}
     },
     "1376e8508a14444c80fb8bc1b6ed25ff": {
      "model_module": "@jupyter-widgets/base",
      "model_module_version": "1.2.0",
      "model_name": "LayoutModel",
      "state": {}
     },
     "25fd730ceebf474f84fe9d0ba89b38c9": {
      "model_module": "@jupyter-widgets/controls",
      "model_module_version": "1.5.0",
      "model_name": "DescriptionStyleModel",
      "state": {
       "description_width": ""
      }
     },
     "286ce74be67b49f7a392564ed441d6f2": {
      "model_module": "@jupyter-widgets/controls",
      "model_module_version": "1.5.0",
      "model_name": "FloatProgressModel",
      "state": {
       "bar_style": "danger",
       "layout": "IPY_MODEL_63e1e88742974dd9ad4a7d038d8f4aaa",
       "max": 545,
       "style": "IPY_MODEL_afd34fc891984f80b3bfe5df2bab5c3a"
      }
     },
     "28733a4c09ce48db931996f7d734a782": {
      "model_module": "@jupyter-widgets/base",
      "model_module_version": "1.2.0",
      "model_name": "LayoutModel",
      "state": {}
     },
     "2c9fc841e2cf4c2ca0bb962eb43788a2": {
      "model_module": "@jupyter-widgets/controls",
      "model_module_version": "1.5.0",
      "model_name": "HTMLModel",
      "state": {
       "layout": "IPY_MODEL_0e296a0312c94c8f9bcb897ea103a7b6",
       "style": "IPY_MODEL_38ee51cc843848e693363c379be783a2",
       "value": "  0%"
      }
     },
     "30270dcb51304c13b68665baed4b6c45": {
      "model_module": "@jupyter-widgets/base",
      "model_module_version": "1.2.0",
      "model_name": "LayoutModel",
      "state": {}
     },
     "36f7c866aba542eaa4c9e24644b40259": {
      "model_module": "@jupyter-widgets/controls",
      "model_module_version": "1.5.0",
      "model_name": "ProgressStyleModel",
      "state": {
       "description_width": ""
      }
     },
     "37ffc35913f3488ea30e67af89d2830b": {
      "model_module": "@jupyter-widgets/base",
      "model_module_version": "1.2.0",
      "model_name": "LayoutModel",
      "state": {}
     },
     "38ee51cc843848e693363c379be783a2": {
      "model_module": "@jupyter-widgets/controls",
      "model_module_version": "1.5.0",
      "model_name": "DescriptionStyleModel",
      "state": {
       "description_width": ""
      }
     },
     "4ec2f04415e74805a8d358b15b99c89c": {
      "model_module": "@jupyter-widgets/base",
      "model_module_version": "1.2.0",
      "model_name": "LayoutModel",
      "state": {}
     },
     "50c480b1800246e4ae7a32a69864ba60": {
      "model_module": "@jupyter-widgets/controls",
      "model_module_version": "1.5.0",
      "model_name": "DescriptionStyleModel",
      "state": {
       "description_width": ""
      }
     },
     "63e1e88742974dd9ad4a7d038d8f4aaa": {
      "model_module": "@jupyter-widgets/base",
      "model_module_version": "1.2.0",
      "model_name": "LayoutModel",
      "state": {}
     },
     "67f5296273214ef99dc42ce45e9dab7f": {
      "model_module": "@jupyter-widgets/controls",
      "model_module_version": "1.5.0",
      "model_name": "ProgressStyleModel",
      "state": {
       "description_width": ""
      }
     },
     "6fcf35c5af91440f90095b0e7dad4a13": {
      "model_module": "@jupyter-widgets/base",
      "model_module_version": "1.2.0",
      "model_name": "LayoutModel",
      "state": {}
     },
     "7230db59fad941d791ddbabef34d1353": {
      "model_module": "@jupyter-widgets/controls",
      "model_module_version": "1.5.0",
      "model_name": "HTMLModel",
      "state": {
       "layout": "IPY_MODEL_6fcf35c5af91440f90095b0e7dad4a13",
       "style": "IPY_MODEL_fcb74681c01c42728e0fe8cc868de015",
       "value": "  0%"
      }
     },
     "792e4593e33e4c5a97bafacf3084516d": {
      "model_module": "@jupyter-widgets/base",
      "model_module_version": "1.2.0",
      "model_name": "LayoutModel",
      "state": {}
     },
     "8bb79199b5f24b75a8cf537b301eeed8": {
      "model_module": "@jupyter-widgets/controls",
      "model_module_version": "1.5.0",
      "model_name": "HTMLModel",
      "state": {
       "layout": "IPY_MODEL_9f7ebcbf2d374cd8966c293e72ddba52",
       "style": "IPY_MODEL_a01c3e573ca04a019ed8376df014fba1",
       "value": "  0%"
      }
     },
     "9493a9f99fb54945aa79def97c1a80f7": {
      "model_module": "@jupyter-widgets/controls",
      "model_module_version": "1.5.0",
      "model_name": "HTMLModel",
      "state": {
       "layout": "IPY_MODEL_afd2fea7924a4fc1a2d8fbd102187b80",
       "style": "IPY_MODEL_09f4c71cf6a54f8697e70f34cb22f7e2",
       "value": " 18%"
      }
     },
     "9ad0fc60a7dc4ababa0780b75d92051a": {
      "model_module": "@jupyter-widgets/controls",
      "model_module_version": "1.5.0",
      "model_name": "HBoxModel",
      "state": {
       "children": [
        "IPY_MODEL_9493a9f99fb54945aa79def97c1a80f7",
        "IPY_MODEL_fc9c20dfb80b4c4f825ff4be10628f8f",
        "IPY_MODEL_d039b8592fc047d7bc49ba9141fd6f3d"
       ],
       "layout": "IPY_MODEL_4ec2f04415e74805a8d358b15b99c89c"
      }
     },
     "9aec31e08b5e49e68cfd65f0c02074eb": {
      "model_module": "@jupyter-widgets/base",
      "model_module_version": "1.2.0",
      "model_name": "LayoutModel",
      "state": {}
     },
     "9e4d4ee0490540568127f369454f989f": {
      "model_module": "@jupyter-widgets/controls",
      "model_module_version": "1.5.0",
      "model_name": "HTMLModel",
      "state": {
       "layout": "IPY_MODEL_792e4593e33e4c5a97bafacf3084516d",
       "style": "IPY_MODEL_50c480b1800246e4ae7a32a69864ba60",
       "value": " 0/545 [00:00&lt;?, ?it/s]"
      }
     },
     "9f7ebcbf2d374cd8966c293e72ddba52": {
      "model_module": "@jupyter-widgets/base",
      "model_module_version": "1.2.0",
      "model_name": "LayoutModel",
      "state": {}
     },
     "a01c3e573ca04a019ed8376df014fba1": {
      "model_module": "@jupyter-widgets/controls",
      "model_module_version": "1.5.0",
      "model_name": "DescriptionStyleModel",
      "state": {
       "description_width": ""
      }
     },
     "a81b52e8f5af4b7ca57fbe6db2c6923b": {
      "model_module": "@jupyter-widgets/base",
      "model_module_version": "1.2.0",
      "model_name": "LayoutModel",
      "state": {}
     },
     "a8629485925842a5916344704f1635ca": {
      "model_module": "@jupyter-widgets/controls",
      "model_module_version": "1.5.0",
      "model_name": "FloatProgressModel",
      "state": {
       "bar_style": "danger",
       "layout": "IPY_MODEL_d62e4f05d9cc4e74a91db085f2a55dd1",
       "max": 545,
       "style": "IPY_MODEL_36f7c866aba542eaa4c9e24644b40259"
      }
     },
     "af87ec5777b247d9b8c4e07b9f4ded82": {
      "model_module": "@jupyter-widgets/controls",
      "model_module_version": "1.5.0",
      "model_name": "ProgressStyleModel",
      "state": {
       "description_width": ""
      }
     },
     "afd2fea7924a4fc1a2d8fbd102187b80": {
      "model_module": "@jupyter-widgets/base",
      "model_module_version": "1.2.0",
      "model_name": "LayoutModel",
      "state": {}
     },
     "afd34fc891984f80b3bfe5df2bab5c3a": {
      "model_module": "@jupyter-widgets/controls",
      "model_module_version": "1.5.0",
      "model_name": "ProgressStyleModel",
      "state": {
       "description_width": ""
      }
     },
     "c0a743c0fe8d4ee1accb9d095d14ff02": {
      "model_module": "@jupyter-widgets/controls",
      "model_module_version": "1.5.0",
      "model_name": "HBoxModel",
      "state": {
       "children": [
        "IPY_MODEL_2c9fc841e2cf4c2ca0bb962eb43788a2",
        "IPY_MODEL_a8629485925842a5916344704f1635ca",
        "IPY_MODEL_0c013189dfe940a680ac9afba6e9b706"
       ],
       "layout": "IPY_MODEL_fe930555c3584b4e821ff03e015886c6"
      }
     },
     "d039b8592fc047d7bc49ba9141fd6f3d": {
      "model_module": "@jupyter-widgets/controls",
      "model_module_version": "1.5.0",
      "model_name": "HTMLModel",
      "state": {
       "layout": "IPY_MODEL_28733a4c09ce48db931996f7d734a782",
       "style": "IPY_MODEL_25fd730ceebf474f84fe9d0ba89b38c9",
       "value": " 98/545 [00:54&lt;04:35,  1.62it/s]"
      }
     },
     "d270b814ffec41fa907c14abf4aaee37": {
      "model_module": "@jupyter-widgets/base",
      "model_module_version": "1.2.0",
      "model_name": "LayoutModel",
      "state": {}
     },
     "d35ed2f10cdd451dbc3dfc067839b727": {
      "model_module": "@jupyter-widgets/controls",
      "model_module_version": "1.5.0",
      "model_name": "HBoxModel",
      "state": {
       "children": [
        "IPY_MODEL_7230db59fad941d791ddbabef34d1353",
        "IPY_MODEL_d8fa70d5878d45d082ccf32e9a8ce7cf",
        "IPY_MODEL_9e4d4ee0490540568127f369454f989f"
       ],
       "layout": "IPY_MODEL_37ffc35913f3488ea30e67af89d2830b"
      }
     },
     "d4a4b77272144c1c8780f64608c39e54": {
      "model_module": "@jupyter-widgets/controls",
      "model_module_version": "1.5.0",
      "model_name": "HBoxModel",
      "state": {
       "children": [
        "IPY_MODEL_8bb79199b5f24b75a8cf537b301eeed8",
        "IPY_MODEL_286ce74be67b49f7a392564ed441d6f2",
        "IPY_MODEL_fb8852449b014a44a03643e761faf9da"
       ],
       "layout": "IPY_MODEL_a81b52e8f5af4b7ca57fbe6db2c6923b"
      }
     },
     "d62e4f05d9cc4e74a91db085f2a55dd1": {
      "model_module": "@jupyter-widgets/base",
      "model_module_version": "1.2.0",
      "model_name": "LayoutModel",
      "state": {}
     },
     "d8fa70d5878d45d082ccf32e9a8ce7cf": {
      "model_module": "@jupyter-widgets/controls",
      "model_module_version": "1.5.0",
      "model_name": "FloatProgressModel",
      "state": {
       "bar_style": "danger",
       "layout": "IPY_MODEL_9aec31e08b5e49e68cfd65f0c02074eb",
       "max": 545,
       "style": "IPY_MODEL_67f5296273214ef99dc42ce45e9dab7f"
      }
     },
     "db669411fe204bf6a5c9ccef348a0296": {
      "model_module": "@jupyter-widgets/controls",
      "model_module_version": "1.5.0",
      "model_name": "DescriptionStyleModel",
      "state": {
       "description_width": ""
      }
     },
     "e04a14977a3a4e7aaab61c5acc6d189b": {
      "model_module": "@jupyter-widgets/controls",
      "model_module_version": "1.5.0",
      "model_name": "DescriptionStyleModel",
      "state": {
       "description_width": ""
      }
     },
     "fb8852449b014a44a03643e761faf9da": {
      "model_module": "@jupyter-widgets/controls",
      "model_module_version": "1.5.0",
      "model_name": "HTMLModel",
      "state": {
       "layout": "IPY_MODEL_d270b814ffec41fa907c14abf4aaee37",
       "style": "IPY_MODEL_e04a14977a3a4e7aaab61c5acc6d189b",
       "value": " 0/545 [00:00&lt;?, ?it/s]"
      }
     },
     "fc9c20dfb80b4c4f825ff4be10628f8f": {
      "model_module": "@jupyter-widgets/controls",
      "model_module_version": "1.5.0",
      "model_name": "FloatProgressModel",
      "state": {
       "bar_style": "danger",
       "layout": "IPY_MODEL_30270dcb51304c13b68665baed4b6c45",
       "max": 545,
       "style": "IPY_MODEL_af87ec5777b247d9b8c4e07b9f4ded82",
       "value": 98
      }
     },
     "fcb74681c01c42728e0fe8cc868de015": {
      "model_module": "@jupyter-widgets/controls",
      "model_module_version": "1.5.0",
      "model_name": "DescriptionStyleModel",
      "state": {
       "description_width": ""
      }
     },
     "fe930555c3584b4e821ff03e015886c6": {
      "model_module": "@jupyter-widgets/base",
      "model_module_version": "1.2.0",
      "model_name": "LayoutModel",
      "state": {}
     }
    },
    "version_major": 2,
    "version_minor": 0
   }
  }
 },
 "nbformat": 4,
 "nbformat_minor": 4
}
