{
 "cells": [
  {
   "cell_type": "code",
   "execution_count": 1,
   "id": "70b893fb",
   "metadata": {},
   "outputs": [],
   "source": [
    "import ray"
   ]
  },
  {
   "cell_type": "code",
   "execution_count": 2,
   "id": "d206936d",
   "metadata": {},
   "outputs": [
    {
     "ename": "ModuleNotFoundError",
     "evalue": "No module named 'fbprophet'",
     "output_type": "error",
     "traceback": [
      "\u001b[1;31m---------------------------------------------------------------------------\u001b[0m",
      "\u001b[1;31mModuleNotFoundError\u001b[0m                       Traceback (most recent call last)",
      "Input \u001b[1;32mIn [2]\u001b[0m, in \u001b[0;36m<cell line: 8>\u001b[1;34m()\u001b[0m\n\u001b[0;32m      6\u001b[0m \u001b[38;5;28;01mimport\u001b[39;00m \u001b[38;5;21;01mnumpy\u001b[39;00m \u001b[38;5;28;01mas\u001b[39;00m \u001b[38;5;21;01mnp\u001b[39;00m\n\u001b[0;32m      7\u001b[0m \u001b[38;5;28;01mimport\u001b[39;00m \u001b[38;5;21;01mpandas\u001b[39;00m \u001b[38;5;28;01mas\u001b[39;00m \u001b[38;5;21;01mpd\u001b[39;00m\n\u001b[1;32m----> 8\u001b[0m \u001b[38;5;28;01mfrom\u001b[39;00m \u001b[38;5;21;01mfbprophet\u001b[39;00m \u001b[38;5;28;01mimport\u001b[39;00m Prophet\n\u001b[0;32m      9\u001b[0m \u001b[38;5;28;01mimport\u001b[39;00m \u001b[38;5;21;01mpickle\u001b[39;00m\n\u001b[0;32m     10\u001b[0m \u001b[38;5;28;01mimport\u001b[39;00m \u001b[38;5;21;01mcopy\u001b[39;00m\n",
      "\u001b[1;31mModuleNotFoundError\u001b[0m: No module named 'fbprophet'"
     ]
    }
   ],
   "source": [
    "# 라이브러리 임포트\n",
    "import os\n",
    "import time\n",
    "import json\n",
    "import datetime\n",
    "import numpy as np\n",
    "import pandas as pd\n",
    "from fbprophet import Prophet\n",
    "import pickle\n",
    "import copy"
   ]
  },
  {
   "cell_type": "code",
   "execution_count": 7,
   "id": "391560a3",
   "metadata": {
    "tags": []
   },
   "outputs": [
    {
     "name": "stdout",
     "output_type": "stream",
     "text": [
      "CPU times: total: 797 ms\n",
      "Wall time: 798 ms\n"
     ]
    }
   ],
   "source": [
    "%%time\n",
    "submit = json.load(open('./data/sample_submission/sample_submission.json', 'r', encoding='utf8')) \n",
    "df_dic = pickle.load(open('./mydata/df_dic.plk','rb'))\n",
    "plc_lst = pickle.load(open('./mydata/plc_lst.plk','rb'))\n",
    "fct_lst = ['pH', 'COD', 'SS', 'N', 'P', 'T']"
   ]
  },
  {
   "cell_type": "code",
   "execution_count": 6,
   "id": "a248d6b3",
   "metadata": {},
   "outputs": [
    {
     "name": "stdout",
     "output_type": "stream",
     "text": [
      "CPU times: user 3.86 s, sys: 3.55 ms, total: 3.86 s\n",
      "Wall time: 3.87 s\n"
     ]
    }
   ],
   "source": [
    "%%time\n",
    "''' 스무딩 '''\n",
    "win_size = 3\n",
    "\n",
    "\n",
    "for plc in plc_lst:\n",
    "    df = df_dic[plc]\n",
    "    df_dic[plc] = df_dic[plc].fillna(method='ffill')\n",
    "    df_dic[plc] = df_dic[plc].fillna(method='bfill')\n",
    "    df_dic[plc] = df_dic[plc].dropna()\n",
    "    df_dic[plc] = df_dic[plc].iloc[-1000:,:]"
   ]
  },
  {
   "cell_type": "markdown",
   "id": "487f5e31",
   "metadata": {},
   "source": [
    "df = df_dic[plc_lst[0]]\n",
    "sns.lineplot(x = df.ds , y = df.pH)"
   ]
  },
  {
   "cell_type": "markdown",
   "id": "7ae1c2c6",
   "metadata": {},
   "source": [
    "df.pH.iloc[2800:]"
   ]
  },
  {
   "cell_type": "code",
   "execution_count": 7,
   "id": "16ac4b60",
   "metadata": {
    "tags": []
   },
   "outputs": [],
   "source": [
    "# Prophet 예측을 위한 dataframe 포맷 제작\n",
    "future = pd.DataFrame([str(x)[:10] for x in list(pd.date_range(start='2018-02-01', end='2019-12-31', inclusive=\"both\"))], columns=['ds'])\n",
    "future['y'] = np.nan\n",
    "#future"
   ]
  },
  {
   "cell_type": "code",
   "execution_count": 38,
   "id": "054c3ad6",
   "metadata": {},
   "outputs": [],
   "source": [
    "@ray.remote\n",
    "def pred_all_columns(plc_df,i,fct_lst,submit):\n",
    "    \n",
    "    res_list = []\n",
    "    \n",
    "    for j in fct_lst: # 피쳐 리스트\n",
    "        fct_df = plc_df[['ds', j]]   # 날짜 - 피쳐1 조합임.\n",
    "        fct_df = fct_df.rename(columns={j:'y'}) # 피쳐1을 y로 바꾼다.\n",
    "        model = Prophet()\n",
    "        model.fit(fct_df)\n",
    "        forecast = model.predict(future)\n",
    "        forecast['ds'] = forecast['ds'].apply(lambda x : str(x).split(' ')[0].split('-')[0]+str(x).split(' ')[0].split('-')[1]+str(x).split(' ')[0].split('-')[2])\n",
    "        forecast = forecast[['ds', 'yhat']]\n",
    "        \n",
    "        for index, k in enumerate(list(forecast['ds'])):\n",
    "            submit[i][forecast.loc[index, 'ds']][j] = np.float(forecast[forecast['ds']==k]['yhat'])\n",
    "            \n",
    "        res_list.append( (i,j,forecast) )\n",
    "    return res_list"
   ]
  },
  {
   "cell_type": "code",
   "execution_count": 39,
   "id": "ab87b0f4",
   "metadata": {},
   "outputs": [],
   "source": [
    "fct_lst_ray = ray.put(fct_lst)\n",
    "submit_ray = ray.put(submit)"
   ]
  },
  {
   "cell_type": "code",
   "execution_count": null,
   "id": "7d65be82",
   "metadata": {},
   "outputs": [],
   "source": [
    "task_list = [ pred_all_columns.remote(df_dic[x], x ,fct_lst_ray, submit_ray) for x in plc_lst ]"
   ]
  },
  {
   "cell_type": "code",
   "execution_count": null,
   "id": "31fec653",
   "metadata": {},
   "outputs": [],
   "source": [
    "%%time\n",
    "results = ray.get(task_list)"
   ]
  },
  {
   "cell_type": "code",
   "execution_count": 49,
   "id": "c4a1dc19",
   "metadata": {},
   "outputs": [
    {
     "name": "stderr",
     "output_type": "stream",
     "text": [
      "/tmp/ipykernel_10600/3712719606.py:7: DeprecationWarning: `np.float` is a deprecated alias for the builtin `float`. To silence this warning, use `float` by itself. Doing this will not modify any behavior and is safe. If you specifically wanted the numpy scalar type, use `np.float64` here.\n",
      "Deprecated in NumPy 1.20; for more details and guidance: https://numpy.org/devdocs/release/1.20.0-notes.html#deprecations\n",
      "  submit[i][forecast.loc[index, 'ds']][j] = np.float(forecast[forecast['ds']==k]['yhat'])\n"
     ]
    }
   ],
   "source": [
    "for item in results:\n",
    "    for x in item:\n",
    "        i = x[0]\n",
    "        j = x[1]\n",
    "        forecast = x[2]\n",
    "        for index, k in enumerate(list(forecast['ds'])):\n",
    "            submit[i][forecast.loc[index, 'ds']][j] = np.float(forecast[forecast['ds']==k]['yhat'])"
   ]
  },
  {
   "cell_type": "code",
   "execution_count": 50,
   "id": "90484ba0",
   "metadata": {},
   "outputs": [],
   "source": [
    "# 추론 파일 저장\n",
    "with open('./sub/baseline_median3.json', 'w', encoding='utf8') as f:\n",
    "    json.dump(submit, f, ensure_ascii=False)"
   ]
  }
 ],
 "metadata": {
  "kernelspec": {
   "display_name": "Python [conda env:ts]",
   "language": "python",
   "name": "conda-env-ts-py"
  },
  "language_info": {
   "codemirror_mode": {
    "name": "ipython",
    "version": 3
   },
   "file_extension": ".py",
   "mimetype": "text/x-python",
   "name": "python",
   "nbconvert_exporter": "python",
   "pygments_lexer": "ipython3",
   "version": "3.9.13"
  },
  "widgets": {
   "application/vnd.jupyter.widget-state+json": {
    "state": {},
    "version_major": 2,
    "version_minor": 0
   }
  }
 },
 "nbformat": 4,
 "nbformat_minor": 5
}
