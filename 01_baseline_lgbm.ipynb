{
 "cells": [
  {
   "cell_type": "code",
   "execution_count": 1,
   "metadata": {},
   "outputs": [],
   "source": [
    "# 라이브러리 임포트\n",
    "import os\n",
    "import time\n",
    "import json\n",
    "from datetime import datetime, timedelta\n",
    "import numpy as np\n",
    "import pandas as pd\n",
    "from fbprophet import Prophet\n",
    "import pickle\n",
    "import copy\n",
    "from tqdm.auto import tqdm"
   ]
  },
  {
   "cell_type": "code",
   "execution_count": 2,
   "metadata": {},
   "outputs": [],
   "source": [
    "import seaborn as sns\n",
    "from plotly import express as px"
   ]
  },
  {
   "cell_type": "code",
   "execution_count": 3,
   "metadata": {},
   "outputs": [
    {
     "name": "stderr",
     "output_type": "stream",
     "text": [
      "/ssd/jaewoo/anaconda3/envs/ts/lib/python3.9/site-packages/torchvision/io/image.py:13: UserWarning: Failed to load image Python extension: libtorch_cuda_cu.so: cannot open shared object file: No such file or directory\n",
      "  warn(f\"Failed to load image Python extension: {e}\")\n"
     ]
    }
   ],
   "source": [
    "from darts.models import *\n",
    "from darts.models.forecasting import gradient_boosted_model\n",
    "import darts.utils.timeseries_generation as tg\n",
    "from darts.utils.likelihood_models import GaussianLikelihood\n",
    "from darts.datasets import EnergyDataset\n",
    "from darts.utils.missing_values import fill_missing_values\n",
    "from darts import TimeSeries\n",
    "from darts.dataprocessing.transformers import Scaler\n",
    "from darts.utils.timeseries_generation import datetime_attribute_timeseries\n",
    "from darts.timeseries import TimeSeries\n",
    "import warnings\n",
    "\n",
    "warnings.filterwarnings(\"ignore\")"
   ]
  },
  {
   "cell_type": "code",
   "execution_count": 4,
   "metadata": {
    "tags": []
   },
   "outputs": [
    {
     "name": "stdout",
     "output_type": "stream",
     "text": [
      "CPU times: user 765 ms, sys: 132 ms, total: 897 ms\n",
      "Wall time: 897 ms\n"
     ]
    }
   ],
   "source": [
    "%%time\n",
    "submit = json.load(open('./data/sample_submission/sample_submission.json', 'r', encoding='utf8')) \n",
    "df_dic = pickle.load(open('./mydata/df_dic.plk','rb'))\n",
    "plc_lst = pickle.load(open('./mydata/plc_lst.plk','rb'))\n",
    "fct_lst = ['pH', 'COD', 'SS', 'N', 'P', 'T']"
   ]
  },
  {
   "cell_type": "markdown",
   "metadata": {},
   "source": [
    "%%time\n",
    "''' 스무딩 '''\n",
    "win_size = 3\n",
    "\n",
    "\n",
    "for plc in plc_lst:\n",
    "    df = df_dic[plc]\n",
    "    df = df.fillna(method='ffill')\n",
    "    df = df.fillna(method='bfill')\n",
    "    \n",
    "    #print()\n",
    "    \n",
    "    # 컬럼별 스무딩\n",
    "    for col in fct_lst:\n",
    "        series = df[col]\n",
    "        rolling = series.rolling(window=win_size)\n",
    "        rolling_median = rolling.median()\n",
    "        df_dic[plc][col] = rolling_median\n",
    "    df_dic[plc] = df_dic[plc].dropna()\n",
    "    df_dic[plc] = df_dic[plc].iloc[-1000:,:]"
   ]
  },
  {
   "cell_type": "markdown",
   "metadata": {},
   "source": [
    "df = df_dic[plc_lst[0]]\n",
    "sns.lineplot(x = df.ds , y = df.pH)"
   ]
  },
  {
   "cell_type": "markdown",
   "metadata": {},
   "source": [
    "df.pH.iloc[2800:]"
   ]
  },
  {
   "cell_type": "code",
   "execution_count": 5,
   "metadata": {
    "tags": []
   },
   "outputs": [],
   "source": [
    "# Prophet 예측을 위한 dataframe 포맷 제작\n",
    "future = pd.DataFrame([str(x)[:10] for x in list(pd.date_range(start='2018-02-01', end='2019-12-31', inclusive=\"both\"))], columns=['ds'])\n",
    "future['y'] = np.nan\n",
    "#future"
   ]
  },
  {
   "cell_type": "markdown",
   "metadata": {},
   "source": [
    "---\n",
    "# 예측 시작"
   ]
  },
  {
   "cell_type": "code",
   "execution_count": 16,
   "metadata": {},
   "outputs": [],
   "source": [
    "dfall_comm= pickle.load( open('./mydata/dfall_comm.plk','rb'))"
   ]
  },
  {
   "cell_type": "code",
   "execution_count": 17,
   "metadata": {},
   "outputs": [],
   "source": [
    "df_grp = dfall_comm.groupby('loc')"
   ]
  },
  {
   "cell_type": "code",
   "execution_count": 19,
   "metadata": {},
   "outputs": [],
   "source": [
    "df_temp = df_grp.get_group(i)"
   ]
  },
  {
   "cell_type": "code",
   "execution_count": 21,
   "metadata": {},
   "outputs": [
    {
     "data": {
      "text/html": [
       "<div>\n",
       "<style scoped>\n",
       "    .dataframe tbody tr th:only-of-type {\n",
       "        vertical-align: middle;\n",
       "    }\n",
       "\n",
       "    .dataframe tbody tr th {\n",
       "        vertical-align: top;\n",
       "    }\n",
       "\n",
       "    .dataframe thead th {\n",
       "        text-align: right;\n",
       "    }\n",
       "</style>\n",
       "<table border=\"1\" class=\"dataframe\">\n",
       "  <thead>\n",
       "    <tr style=\"text-align: right;\">\n",
       "      <th></th>\n",
       "      <th>dst</th>\n",
       "      <th>COD</th>\n",
       "    </tr>\n",
       "  </thead>\n",
       "  <tbody>\n",
       "    <tr>\n",
       "      <th>364385</th>\n",
       "      <td>2015-04-23</td>\n",
       "      <td>NaN</td>\n",
       "    </tr>\n",
       "    <tr>\n",
       "      <th>364386</th>\n",
       "      <td>2015-04-24</td>\n",
       "      <td>NaN</td>\n",
       "    </tr>\n",
       "    <tr>\n",
       "      <th>364387</th>\n",
       "      <td>2015-04-25</td>\n",
       "      <td>NaN</td>\n",
       "    </tr>\n",
       "    <tr>\n",
       "      <th>364388</th>\n",
       "      <td>2015-04-26</td>\n",
       "      <td>NaN</td>\n",
       "    </tr>\n",
       "    <tr>\n",
       "      <th>364389</th>\n",
       "      <td>2015-04-27</td>\n",
       "      <td>NaN</td>\n",
       "    </tr>\n",
       "    <tr>\n",
       "      <th>...</th>\n",
       "      <td>...</td>\n",
       "      <td>...</td>\n",
       "    </tr>\n",
       "    <tr>\n",
       "      <th>365395</th>\n",
       "      <td>2018-01-27</td>\n",
       "      <td>1.560750</td>\n",
       "    </tr>\n",
       "    <tr>\n",
       "      <th>365396</th>\n",
       "      <td>2018-01-28</td>\n",
       "      <td>1.363361</td>\n",
       "    </tr>\n",
       "    <tr>\n",
       "      <th>365397</th>\n",
       "      <td>2018-01-29</td>\n",
       "      <td>0.968583</td>\n",
       "    </tr>\n",
       "    <tr>\n",
       "      <th>365398</th>\n",
       "      <td>2018-01-30</td>\n",
       "      <td>1.363361</td>\n",
       "    </tr>\n",
       "    <tr>\n",
       "      <th>365399</th>\n",
       "      <td>2018-01-31</td>\n",
       "      <td>1.758139</td>\n",
       "    </tr>\n",
       "  </tbody>\n",
       "</table>\n",
       "<p>1015 rows × 2 columns</p>\n",
       "</div>"
      ],
      "text/plain": [
       "              dst       COD\n",
       "364385 2015-04-23       NaN\n",
       "364386 2015-04-24       NaN\n",
       "364387 2015-04-25       NaN\n",
       "364388 2015-04-26       NaN\n",
       "364389 2015-04-27       NaN\n",
       "...           ...       ...\n",
       "365395 2018-01-27  1.560750\n",
       "365396 2018-01-28  1.363361\n",
       "365397 2018-01-29  0.968583\n",
       "365398 2018-01-30  1.363361\n",
       "365399 2018-01-31  1.758139\n",
       "\n",
       "[1015 rows x 2 columns]"
      ]
     },
     "execution_count": 21,
     "metadata": {},
     "output_type": "execute_result"
    }
   ],
   "source": [
    "df_temp[['dst', j]]"
   ]
  },
  {
   "cell_type": "code",
   "execution_count": 12,
   "metadata": {},
   "outputs": [],
   "source": [
    "from darts.models.forecasting import gradient_boosted_model, linear_regression_model"
   ]
  },
  {
   "cell_type": "code",
   "execution_count": 16,
   "metadata": {},
   "outputs": [
    {
     "data": {
      "text/plain": [
       "0       0.115951\n",
       "1       0.115951\n",
       "2       0.115951\n",
       "3       0.115951\n",
       "4       0.115951\n",
       "          ...   \n",
       "2741   -0.136248\n",
       "2742   -0.136248\n",
       "2743   -0.136248\n",
       "2744   -0.136248\n",
       "2745   -0.136248\n",
       "Name: y, Length: 2746, dtype: float64"
      ]
     },
     "execution_count": 16,
     "metadata": {},
     "output_type": "execute_result"
    }
   ],
   "source": [
    "fct_df[y] = pd.to_numeric(fct_df.y)"
   ]
  },
  {
   "cell_type": "code",
   "execution_count": 41,
   "metadata": {},
   "outputs": [
    {
     "data": {
      "application/vnd.jupyter.widget-view+json": {
       "model_id": "8e056aafa8d94351b11c7c921d7bd56a",
       "version_major": 2,
       "version_minor": 0
      },
      "text/plain": [
       "  0%|          | 0/545 [00:00<?, ?it/s]"
      ]
     },
     "metadata": {},
     "output_type": "display_data"
    },
    {
     "name": "stdout",
     "output_type": "stream",
     "text": [
      "소요시간 : 15.182048459847769 minutes\n"
     ]
    }
   ],
   "source": [
    "# 추론 : lr\n",
    "start_time = time.time()\n",
    "\n",
    "for i in tqdm(plc_lst):\n",
    "    plc_df = df_dic[i]\n",
    "    \n",
    "    for j in fct_lst: # 피쳐 리스트\n",
    "        fct_df = plc_df[['ds', j]]   # 날짜 - 피쳐1 조합임.\n",
    "        \n",
    "        fct_df = fct_df.rename(columns={j:'y'}) # 피쳐1을 y로 바꾼다.\n",
    "        fct_df['ds'] = fct_df.ds.apply(lambda x : datetime.strptime(x , '%Y%m%d'))\n",
    "        fct_df = fct_df.dropna()\n",
    "        fct_df['y'] = pd.to_numeric(fct_df.y)\n",
    "        \n",
    "        df_align = pd.DataFrame([ x for x in list(pd.date_range( end = '2018-01-31', periods = len(fct_df), inclusive=\"both\"))], columns=['ds'])\n",
    "        df_align['y'] = fct_df.y.values\n",
    "        \n",
    "        # TimeSeris 로 변환 하기 \n",
    "        dfts = TimeSeries.from_dataframe(df_align,  time_col = 'ds' , value_cols  = ['y'], fill_missing_dates=True  , freq='D')\n",
    "        \n",
    "        diff = datetime(2018,2,1) - df_align.loc[0].ds\n",
    "        if diff.days > 720:\n",
    "            lag = 700\n",
    "        else:\n",
    "            lag = diff.days - 10\n",
    "\n",
    "        my_model = linear_regression_model.LinearRegressionModel(\n",
    "        lags=lag,\n",
    "        output_chunk_length=1,\n",
    "        random_state= 2022)\n",
    "        \n",
    "        my_model.fit(dfts)\n",
    "        pred_series = my_model.predict( n = 699 )\n",
    "        \n",
    "        forecast = pred_series.pd_dataframe()\n",
    "        forecast['ds'] = forecast.index\n",
    "        forecast['ds'] = forecast['ds'].apply(lambda x : str(x).split(' ')[0].split('-')[0]+str(x).split(' ')[0].split('-')[1]+str(x).split(' ')[0].split('-')[2])\n",
    "        forecast.columns = ['yhat', 'ds']\n",
    "        forecast = forecast.reset_index(drop=True)\n",
    "        \n",
    "        for idx,k in enumerate(submit[i].keys()):\n",
    "            submit[i][k][j] = float(forecast.yhat[idx])\n",
    "      \n",
    "        \n",
    "end_time = time.time()\n",
    "print('소요시간 :', (end_time - start_time)/60, 'minutes')"
   ]
  },
  {
   "cell_type": "code",
   "execution_count": 42,
   "metadata": {},
   "outputs": [],
   "source": [
    "# 추론 파일 저장\n",
    "with open('./sub/baseline_LinearRegression_700.json', 'w', encoding='utf8') as f:\n",
    "    json.dump(submit, f, ensure_ascii=False)"
   ]
  },
  {
   "cell_type": "code",
   "execution_count": null,
   "metadata": {},
   "outputs": [],
   "source": []
  },
  {
   "cell_type": "code",
   "execution_count": 44,
   "metadata": {},
   "outputs": [
    {
     "data": {
      "application/vnd.jupyter.widget-view+json": {
       "model_id": "76e499cf356f4ef49eb07ecf3ed45df7",
       "version_major": 2,
       "version_minor": 0
      },
      "text/plain": [
       "  0%|          | 0/545 [00:00<?, ?it/s]"
      ]
     },
     "metadata": {},
     "output_type": "display_data"
    },
    {
     "name": "stdout",
     "output_type": "stream",
     "text": [
      "소요시간 : 29.06346660455068 minutes\n"
     ]
    }
   ],
   "source": [
    "# 추론 : lgbm\n",
    "start_time = time.time()\n",
    "\n",
    "for i in tqdm(plc_lst):\n",
    "    plc_df = df_dic[i]\n",
    "    \n",
    "    for j in fct_lst: # 피쳐 리스트\n",
    "        fct_df = plc_df[['ds', j]]   # 날짜 - 피쳐1 조합임.\n",
    "        \n",
    "        fct_df = fct_df.rename(columns={j:'y'}) # 피쳐1을 y로 바꾼다.\n",
    "        fct_df['ds'] = fct_df.ds.apply(lambda x : datetime.strptime(x , '%Y%m%d'))\n",
    "        fct_df = fct_df.dropna()\n",
    "        fct_df['y'] = pd.to_numeric(fct_df.y)\n",
    "        \n",
    "        df_align = pd.DataFrame([ x for x in list(pd.date_range( end = '2018-01-31', periods = len(fct_df), inclusive=\"both\"))], columns=['ds'])\n",
    "        df_align['y'] = fct_df.y.values\n",
    "        \n",
    "        # TimeSeris 로 변환 하기 \n",
    "        dfts = TimeSeries.from_dataframe(df_align,  time_col = 'ds' , value_cols  = ['y'], fill_missing_dates=True  , freq='D')\n",
    "        \n",
    "        diff = datetime(2018,2,1) - df_align.loc[0].ds\n",
    "        if diff.days > 720:\n",
    "            lag = 700\n",
    "        else:\n",
    "            lag = diff.days - 10\n",
    "            \n",
    "        my_model = gradient_boosted_model.LightGBMModel(\n",
    "        lags=lag,\n",
    "        output_chunk_length=1,\n",
    "        random_state= 2022)\n",
    "        \n",
    "        my_model.fit(dfts)\n",
    "        pred_series = my_model.predict( n = 699 )\n",
    "        \n",
    "        forecast = pred_series.pd_dataframe()\n",
    "        forecast['ds'] = forecast.index\n",
    "        forecast['ds'] = forecast['ds'].apply(lambda x : str(x).split(' ')[0].split('-')[0]+str(x).split(' ')[0].split('-')[1]+str(x).split(' ')[0].split('-')[2])\n",
    "        forecast.columns = ['yhat', 'ds']\n",
    "        forecast = forecast.reset_index(drop=True)\n",
    "        \n",
    "        for idx,k in enumerate(submit[i].keys()):\n",
    "            submit[i][k][j] = forecast.yhat[idx]\n",
    "      \n",
    "        \n",
    "end_time = time.time()\n",
    "print('소요시간 :', (end_time - start_time)/60, 'minutes')"
   ]
  },
  {
   "cell_type": "code",
   "execution_count": 45,
   "metadata": {},
   "outputs": [],
   "source": [
    "# 추론 파일 저장\n",
    "with open('./sub/baseline_lgbm700.json', 'w', encoding='utf8') as f:\n",
    "    json.dump(submit, f, ensure_ascii=False)"
   ]
  },
  {
   "cell_type": "code",
   "execution_count": 48,
   "metadata": {},
   "outputs": [
    {
     "data": {
      "text/plain": [
       "numpy.float64"
      ]
     },
     "execution_count": 48,
     "metadata": {},
     "output_type": "execute_result"
    }
   ],
   "source": [
    "type(forecast.yhat[idx])"
   ]
  },
  {
   "cell_type": "code",
   "execution_count": 49,
   "metadata": {},
   "outputs": [],
   "source": [
    "import copy \n",
    "\n",
    "submit_ori = copy.deepcopy(submit)"
   ]
  },
  {
   "cell_type": "code",
   "execution_count": 50,
   "metadata": {},
   "outputs": [
    {
     "data": {
      "application/vnd.jupyter.widget-view+json": {
       "model_id": "e63ff604850d46cdb5891435a38e5a12",
       "version_major": 2,
       "version_minor": 0
      },
      "text/plain": [
       "  0%|          | 0/545 [00:00<?, ?it/s]"
      ]
     },
     "metadata": {},
     "output_type": "display_data"
    }
   ],
   "source": [
    "for i in tqdm(plc_lst):  \n",
    "    for j in fct_lst: # 피쳐 리스트\n",
    "        for idx,k in enumerate(submit[i].keys()):\n",
    "            submit[i][k][j] = np.round(submit[i][k][j],6)"
   ]
  },
  {
   "cell_type": "code",
   "execution_count": 51,
   "metadata": {},
   "outputs": [],
   "source": [
    "# 추론 파일 저장\n",
    "with open('./sub/baseline_lgbm700_r6.json', 'w', encoding='utf8') as f:\n",
    "    json.dump(submit, f, ensure_ascii=False)"
   ]
  },
  {
   "cell_type": "code",
   "execution_count": null,
   "metadata": {},
   "outputs": [],
   "source": []
  },
  {
   "cell_type": "markdown",
   "metadata": {},
   "source": [
    "---\n",
    "## kalman"
   ]
  },
  {
   "cell_type": "code",
   "execution_count": 54,
   "metadata": {},
   "outputs": [],
   "source": [
    "from darts.models.forecasting import kalman_forecaster"
   ]
  },
  {
   "cell_type": "code",
   "execution_count": 55,
   "metadata": {},
   "outputs": [
    {
     "data": {
      "application/vnd.jupyter.widget-view+json": {
       "model_id": "a5a9f31c7e9240b2b0d50a40ef7ab7c8",
       "version_major": 2,
       "version_minor": 0
      },
      "text/plain": [
       "  0%|          | 0/545 [00:00<?, ?it/s]"
      ]
     },
     "metadata": {},
     "output_type": "display_data"
    },
    {
     "name": "stdout",
     "output_type": "stream",
     "text": [
      "소요시간 : 24.615875128904978 minutes\n"
     ]
    }
   ],
   "source": [
    "# 추론 : kalman\n",
    "start_time = time.time()\n",
    "\n",
    "for i in tqdm(plc_lst):\n",
    "    plc_df = df_dic[i]\n",
    "    \n",
    "    for j in fct_lst: # 피쳐 리스트\n",
    "        fct_df = plc_df[['ds', j]]   # 날짜 - 피쳐1 조합임.\n",
    "        \n",
    "        fct_df = fct_df.rename(columns={j:'y'}) # 피쳐1을 y로 바꾼다.\n",
    "        fct_df['ds'] = fct_df.ds.apply(lambda x : datetime.strptime(x , '%Y%m%d'))\n",
    "        fct_df = fct_df.dropna()\n",
    "        fct_df['y'] = pd.to_numeric(fct_df.y)\n",
    "        \n",
    "        df_align = pd.DataFrame([ x for x in list(pd.date_range( end = '2018-01-31', periods = len(fct_df), inclusive=\"both\"))], columns=['ds'])\n",
    "        df_align['y'] = fct_df.y.values\n",
    "        \n",
    "        # TimeSeris 로 변환 하기 \n",
    "        dfts = TimeSeries.from_dataframe(df_align,  time_col = 'ds' , value_cols  = ['y'], fill_missing_dates=True  , freq='D')\n",
    "        \n",
    "        diff = datetime(2018,2,1) - df_align.loc[0].ds\n",
    "        if diff.days > 720:\n",
    "            lag = 700\n",
    "        else:\n",
    "            lag = diff.days - 10\n",
    "            \n",
    "        my_model = kalman_forecaster.KalmanForecaster()\n",
    "        \n",
    "        my_model.fit(dfts)\n",
    "        pred_series = my_model.predict( n = 699 )\n",
    "        \n",
    "        forecast = pred_series.pd_dataframe()\n",
    "        forecast['ds'] = forecast.index\n",
    "        forecast['ds'] = forecast['ds'].apply(lambda x : str(x).split(' ')[0].split('-')[0]+str(x).split(' ')[0].split('-')[1]+str(x).split(' ')[0].split('-')[2])\n",
    "        forecast.columns = ['yhat', 'ds']\n",
    "        forecast = forecast.reset_index(drop=True)\n",
    "        \n",
    "        for idx,k in enumerate(submit[i].keys()):\n",
    "            submit[i][k][j] = np.round(forecast.yhat[idx],6)\n",
    "      \n",
    "        \n",
    "end_time = time.time()\n",
    "print('소요시간 :', (end_time - start_time)/60, 'minutes')"
   ]
  },
  {
   "cell_type": "code",
   "execution_count": 56,
   "metadata": {},
   "outputs": [],
   "source": [
    "# 추론 파일 저장\n",
    "with open('./sub/bs_kalman_r6.json', 'w', encoding='utf8') as f:\n",
    "    json.dump(submit, f, ensure_ascii=False)"
   ]
  },
  {
   "cell_type": "code",
   "execution_count": null,
   "metadata": {},
   "outputs": [],
   "source": []
  }
 ],
 "metadata": {
  "kernelspec": {
   "display_name": "ts",
   "language": "python",
   "name": "ts"
  },
  "language_info": {
   "codemirror_mode": {
    "name": "ipython",
    "version": 3
   },
   "file_extension": ".py",
   "mimetype": "text/x-python",
   "name": "python",
   "nbconvert_exporter": "python",
   "pygments_lexer": "ipython3",
   "version": "3.9.7"
  },
  "widgets": {
   "application/vnd.jupyter.widget-state+json": {
    "state": {
     "05f22373d1bd4ee29ad7bcb5d05dabff": {
      "model_module": "@jupyter-widgets/base",
      "model_module_version": "1.2.0",
      "model_name": "LayoutModel",
      "state": {}
     },
     "087f1b57b2ee4677aeb5c44a06d3b3da": {
      "model_module": "@jupyter-widgets/controls",
      "model_module_version": "1.5.0",
      "model_name": "DescriptionStyleModel",
      "state": {
       "description_width": ""
      }
     },
     "0a6b4ec66193433b9d863eb82751b147": {
      "model_module": "@jupyter-widgets/controls",
      "model_module_version": "1.5.0",
      "model_name": "FloatProgressModel",
      "state": {
       "bar_style": "danger",
       "layout": "IPY_MODEL_600e2c3de5f34d4a9bcf2c1db93d61ca",
       "max": 545,
       "style": "IPY_MODEL_7b6b848f5f3d451fb5a2b0b351b2cb52"
      }
     },
     "0a88dcc9420b4321926d633c9997c8ba": {
      "model_module": "@jupyter-widgets/controls",
      "model_module_version": "1.5.0",
      "model_name": "HTMLModel",
      "state": {
       "layout": "IPY_MODEL_b5725012b6c34200923478503420d18b",
       "style": "IPY_MODEL_1d438f61909f4f6b9f0c918e05b6da3c",
       "value": "  0%"
      }
     },
     "0ab51f5288a9416d8b472c912f8aebd0": {
      "model_module": "@jupyter-widgets/controls",
      "model_module_version": "1.5.0",
      "model_name": "DescriptionStyleModel",
      "state": {
       "description_width": ""
      }
     },
     "0ace096eb43b41159dcc1169a36cf1c6": {
      "model_module": "@jupyter-widgets/controls",
      "model_module_version": "1.5.0",
      "model_name": "HTMLModel",
      "state": {
       "layout": "IPY_MODEL_caf3192cfdcf4f95bc98aae292cd5020",
       "style": "IPY_MODEL_fbbd6378c1664f73a5acb8443af55472",
       "value": " 0/545 [00:00&lt;?, ?it/s]"
      }
     },
     "0da8c882a850483bb1f551c7a7875884": {
      "model_module": "@jupyter-widgets/controls",
      "model_module_version": "1.5.0",
      "model_name": "DescriptionStyleModel",
      "state": {
       "description_width": ""
      }
     },
     "12a11027f4a4465dbd6e41bc4d52662e": {
      "model_module": "@jupyter-widgets/controls",
      "model_module_version": "1.5.0",
      "model_name": "FloatProgressModel",
      "state": {
       "bar_style": "danger",
       "layout": "IPY_MODEL_754f4097019c4d34bc3302f09c4320c1",
       "max": 545,
       "style": "IPY_MODEL_61f8a29746c749d09cd6d9425abb67ee"
      }
     },
     "14402dffdb3e473087c57b9d596eaf1a": {
      "model_module": "@jupyter-widgets/controls",
      "model_module_version": "1.5.0",
      "model_name": "HBoxModel",
      "state": {
       "children": [
        "IPY_MODEL_b51db90bb86f4d6ba096a24da23906c2",
        "IPY_MODEL_f1b81d04913d44fc89426d5146186c2e",
        "IPY_MODEL_239d1a73515b49c4bf8fe095ff5e0890"
       ],
       "layout": "IPY_MODEL_687be582886d4c6d9d60af0e60998c5a"
      }
     },
     "1447dad086f44897bd99e528616b608a": {
      "model_module": "@jupyter-widgets/controls",
      "model_module_version": "1.5.0",
      "model_name": "HTMLModel",
      "state": {
       "layout": "IPY_MODEL_962b7d5dc4cb4db6a1a90b75f011074b",
       "style": "IPY_MODEL_d56aab9f37174b4696e05640b69105a9",
       "value": "  3%"
      }
     },
     "18592965fceb4791b93e191cd62a7d47": {
      "model_module": "@jupyter-widgets/base",
      "model_module_version": "1.2.0",
      "model_name": "LayoutModel",
      "state": {}
     },
     "1875d71688124929a7e08566e73250a0": {
      "model_module": "@jupyter-widgets/controls",
      "model_module_version": "1.5.0",
      "model_name": "DescriptionStyleModel",
      "state": {
       "description_width": ""
      }
     },
     "1b0493ffd1b84c4db36326ebaccc1dd1": {
      "model_module": "@jupyter-widgets/base",
      "model_module_version": "1.2.0",
      "model_name": "LayoutModel",
      "state": {}
     },
     "1d438f61909f4f6b9f0c918e05b6da3c": {
      "model_module": "@jupyter-widgets/controls",
      "model_module_version": "1.5.0",
      "model_name": "DescriptionStyleModel",
      "state": {
       "description_width": ""
      }
     },
     "1d4c76cec98e4819bf20b4b4ee3359b9": {
      "model_module": "@jupyter-widgets/controls",
      "model_module_version": "1.5.0",
      "model_name": "DescriptionStyleModel",
      "state": {
       "description_width": ""
      }
     },
     "1d86c0442cc940cb91b2f1c2114dcb0c": {
      "model_module": "@jupyter-widgets/controls",
      "model_module_version": "1.5.0",
      "model_name": "ProgressStyleModel",
      "state": {
       "description_width": ""
      }
     },
     "1e2a007c01fe45c7baab36b2b72f473b": {
      "model_module": "@jupyter-widgets/base",
      "model_module_version": "1.2.0",
      "model_name": "LayoutModel",
      "state": {}
     },
     "1e44c43624834c5684e54ed093b64548": {
      "model_module": "@jupyter-widgets/base",
      "model_module_version": "1.2.0",
      "model_name": "LayoutModel",
      "state": {}
     },
     "1e69633c851243c8a4e9e846dc486eef": {
      "model_module": "@jupyter-widgets/controls",
      "model_module_version": "1.5.0",
      "model_name": "HTMLModel",
      "state": {
       "layout": "IPY_MODEL_c213844a4f1a4adaafd5f878fbabf54c",
       "style": "IPY_MODEL_4499ee89128a4933b40242867170d139",
       "value": " 19/545 [00:33&lt;15:09,  1.73s/it]"
      }
     },
     "20172296ff5d4a73a46aadc9d0620bcd": {
      "model_module": "@jupyter-widgets/controls",
      "model_module_version": "1.5.0",
      "model_name": "ProgressStyleModel",
      "state": {
       "description_width": ""
      }
     },
     "2127449599744935822dcfe39531f532": {
      "model_module": "@jupyter-widgets/base",
      "model_module_version": "1.2.0",
      "model_name": "LayoutModel",
      "state": {}
     },
     "2171c129a5f34040aea47235fe6cdc5e": {
      "model_module": "@jupyter-widgets/controls",
      "model_module_version": "1.5.0",
      "model_name": "DescriptionStyleModel",
      "state": {
       "description_width": ""
      }
     },
     "2259b3755dd044549b9795dad95a7189": {
      "model_module": "@jupyter-widgets/controls",
      "model_module_version": "1.5.0",
      "model_name": "FloatProgressModel",
      "state": {
       "bar_style": "success",
       "layout": "IPY_MODEL_73fe4a33ced346f9bae82509d0315ee9",
       "max": 545,
       "style": "IPY_MODEL_b4816b6a2a04485d998836fbc19839e2",
       "value": 545
      }
     },
     "239d1a73515b49c4bf8fe095ff5e0890": {
      "model_module": "@jupyter-widgets/controls",
      "model_module_version": "1.5.0",
      "model_name": "HTMLModel",
      "state": {
       "layout": "IPY_MODEL_27a2ffe0477745399cf29df5078883ce",
       "style": "IPY_MODEL_ee61b50272094650ab82b92eefe21a82",
       "value": " 0/545 [00:01&lt;?, ?it/s]"
      }
     },
     "265763ca779d4ae3a260744ed06c0896": {
      "model_module": "@jupyter-widgets/controls",
      "model_module_version": "1.5.0",
      "model_name": "DescriptionStyleModel",
      "state": {
       "description_width": ""
      }
     },
     "27a2ffe0477745399cf29df5078883ce": {
      "model_module": "@jupyter-widgets/base",
      "model_module_version": "1.2.0",
      "model_name": "LayoutModel",
      "state": {}
     },
     "27ea48ed33f14d47a08a1ea77d58bec7": {
      "model_module": "@jupyter-widgets/controls",
      "model_module_version": "1.5.0",
      "model_name": "HTMLModel",
      "state": {
       "layout": "IPY_MODEL_05f22373d1bd4ee29ad7bcb5d05dabff",
       "style": "IPY_MODEL_265763ca779d4ae3a260744ed06c0896",
       "value": "  0%"
      }
     },
     "2e3e5d247d9e4a22ac6f9784309687ca": {
      "model_module": "@jupyter-widgets/controls",
      "model_module_version": "1.5.0",
      "model_name": "HBoxModel",
      "state": {
       "children": [
        "IPY_MODEL_efe463ba6c15422992d9e463edf9932e",
        "IPY_MODEL_678ce81649c14f2884d5ef15a065c27f",
        "IPY_MODEL_47acac9e729045b1be8de7cf0d745c06"
       ],
       "layout": "IPY_MODEL_6e1073d2f80b4aa18bb47c4e81d6469b"
      }
     },
     "2ef6f7d77568458b8eb8d09dcf5ab26d": {
      "model_module": "@jupyter-widgets/base",
      "model_module_version": "1.2.0",
      "model_name": "LayoutModel",
      "state": {}
     },
     "316df0f1254944baafaf1fff5e7c0d25": {
      "model_module": "@jupyter-widgets/controls",
      "model_module_version": "1.5.0",
      "model_name": "HTMLModel",
      "state": {
       "layout": "IPY_MODEL_ee7c93d8b9a944ac9ce1fb3058c6cb1a",
       "style": "IPY_MODEL_974123770cf04210a6346d580eb116a7",
       "value": " 0/545 [00:01&lt;?, ?it/s]"
      }
     },
     "337bfb5dafea479db63a0c46fa10e42d": {
      "model_module": "@jupyter-widgets/controls",
      "model_module_version": "1.5.0",
      "model_name": "HTMLModel",
      "state": {
       "layout": "IPY_MODEL_8902989f580b4c24bb6d2fd8f6bfd135",
       "style": "IPY_MODEL_64675f1f64e74dd7959a25c3b421f2f4",
       "value": " 19/545 [00:32&lt;14:54,  1.70s/it]"
      }
     },
     "340b09b73422455e9bd3cfde2f820afb": {
      "model_module": "@jupyter-widgets/controls",
      "model_module_version": "1.5.0",
      "model_name": "HTMLModel",
      "state": {
       "layout": "IPY_MODEL_1b0493ffd1b84c4db36326ebaccc1dd1",
       "style": "IPY_MODEL_2171c129a5f34040aea47235fe6cdc5e",
       "value": "  0%"
      }
     },
     "352bc6718d3d43ddb4c1b8993366eb50": {
      "model_module": "@jupyter-widgets/base",
      "model_module_version": "1.2.0",
      "model_name": "LayoutModel",
      "state": {}
     },
     "361ef41d11e24a08b3780a6ee41d8064": {
      "model_module": "@jupyter-widgets/controls",
      "model_module_version": "1.5.0",
      "model_name": "FloatProgressModel",
      "state": {
       "bar_style": "danger",
       "layout": "IPY_MODEL_99095eb07ab649eb94a62cef075c485a",
       "max": 545,
       "style": "IPY_MODEL_99222f6c03fa4ad0ac8e7abd662f2814",
       "value": 19
      }
     },
     "372ebeff51b94335a7b34d47a8fdc345": {
      "model_module": "@jupyter-widgets/base",
      "model_module_version": "1.2.0",
      "model_name": "LayoutModel",
      "state": {}
     },
     "3762b86666f84f69a72ffe2ac2545274": {
      "model_module": "@jupyter-widgets/controls",
      "model_module_version": "1.5.0",
      "model_name": "FloatProgressModel",
      "state": {
       "bar_style": "danger",
       "layout": "IPY_MODEL_352bc6718d3d43ddb4c1b8993366eb50",
       "max": 545,
       "style": "IPY_MODEL_b76e10699bf44592bd0af50ea0d36147"
      }
     },
     "3a69989518734f67a09c03d71d8a9825": {
      "model_module": "@jupyter-widgets/controls",
      "model_module_version": "1.5.0",
      "model_name": "DescriptionStyleModel",
      "state": {
       "description_width": ""
      }
     },
     "3fe29003f0874fc9bbc4c8853d5ce0fc": {
      "model_module": "@jupyter-widgets/controls",
      "model_module_version": "1.5.0",
      "model_name": "HTMLModel",
      "state": {
       "layout": "IPY_MODEL_6cba645ccd42406784084d26318fa46f",
       "style": "IPY_MODEL_1875d71688124929a7e08566e73250a0",
       "value": "  3%"
      }
     },
     "42008de1be734718be5c739709a69572": {
      "model_module": "@jupyter-widgets/controls",
      "model_module_version": "1.5.0",
      "model_name": "DescriptionStyleModel",
      "state": {
       "description_width": ""
      }
     },
     "42609a875ac041d19d117b5749745069": {
      "model_module": "@jupyter-widgets/base",
      "model_module_version": "1.2.0",
      "model_name": "LayoutModel",
      "state": {}
     },
     "4499ee89128a4933b40242867170d139": {
      "model_module": "@jupyter-widgets/controls",
      "model_module_version": "1.5.0",
      "model_name": "DescriptionStyleModel",
      "state": {
       "description_width": ""
      }
     },
     "455a6fb33b6c48d2901bd1eff2ee49f0": {
      "model_module": "@jupyter-widgets/controls",
      "model_module_version": "1.5.0",
      "model_name": "DescriptionStyleModel",
      "state": {
       "description_width": ""
      }
     },
     "460183b4db6d4787bc696d31ea064abc": {
      "model_module": "@jupyter-widgets/controls",
      "model_module_version": "1.5.0",
      "model_name": "HBoxModel",
      "state": {
       "children": [
        "IPY_MODEL_27ea48ed33f14d47a08a1ea77d58bec7",
        "IPY_MODEL_0a6b4ec66193433b9d863eb82751b147",
        "IPY_MODEL_cf28f56564414b519c1bc344e2a54a59"
       ],
       "layout": "IPY_MODEL_75a8b5e46adc4eb9a8ddf0a6e140d110"
      }
     },
     "4795250ce5094866a2baa07074b32b4d": {
      "model_module": "@jupyter-widgets/controls",
      "model_module_version": "1.5.0",
      "model_name": "HBoxModel",
      "state": {
       "children": [
        "IPY_MODEL_340b09b73422455e9bd3cfde2f820afb",
        "IPY_MODEL_6b8347d5bfb045e2a9c5e377a71b200a",
        "IPY_MODEL_5bddbbd0d4884123901b558cadb85316"
       ],
       "layout": "IPY_MODEL_cd8a5c9231cf46f7b3716dfaae01645b"
      }
     },
     "47acac9e729045b1be8de7cf0d745c06": {
      "model_module": "@jupyter-widgets/controls",
      "model_module_version": "1.5.0",
      "model_name": "HTMLModel",
      "state": {
       "layout": "IPY_MODEL_42609a875ac041d19d117b5749745069",
       "style": "IPY_MODEL_087f1b57b2ee4677aeb5c44a06d3b3da",
       "value": " 11/545 [00:39&lt;28:24,  3.19s/it]"
      }
     },
     "48e3703f85c24bb3a1ad8a02a4835c1f": {
      "model_module": "@jupyter-widgets/base",
      "model_module_version": "1.2.0",
      "model_name": "LayoutModel",
      "state": {}
     },
     "4a4301cf4ad54b8d8ec239f09177d184": {
      "model_module": "@jupyter-widgets/controls",
      "model_module_version": "1.5.0",
      "model_name": "DescriptionStyleModel",
      "state": {
       "description_width": ""
      }
     },
     "4a6135f4ad0d42f2972352020d7edf07": {
      "model_module": "@jupyter-widgets/controls",
      "model_module_version": "1.5.0",
      "model_name": "FloatProgressModel",
      "state": {
       "bar_style": "danger",
       "layout": "IPY_MODEL_582fca0090b646ca932c67ea1299ea54",
       "max": 545,
       "style": "IPY_MODEL_ec4b385cabc64eb69327bf90c9b01ea8",
       "value": 19
      }
     },
     "4a97acf0229d4f479dfa6041ed7d1151": {
      "model_module": "@jupyter-widgets/base",
      "model_module_version": "1.2.0",
      "model_name": "LayoutModel",
      "state": {}
     },
     "4bea6bc9f83a4c61892e194e333944bc": {
      "model_module": "@jupyter-widgets/controls",
      "model_module_version": "1.5.0",
      "model_name": "HTMLModel",
      "state": {
       "layout": "IPY_MODEL_c7fc4d4a1c2d45768a613ba30e90376f",
       "style": "IPY_MODEL_d67377d66f9d40279b0a754e9ca7742f",
       "value": "100%"
      }
     },
     "508f2e0becaf4eaaa3fe2a3d65ffa1d3": {
      "model_module": "@jupyter-widgets/controls",
      "model_module_version": "1.5.0",
      "model_name": "DescriptionStyleModel",
      "state": {
       "description_width": ""
      }
     },
     "538ccb5b62204ae197bd5954a9e78cbc": {
      "model_module": "@jupyter-widgets/controls",
      "model_module_version": "1.5.0",
      "model_name": "HBoxModel",
      "state": {
       "children": [
        "IPY_MODEL_0a88dcc9420b4321926d633c9997c8ba",
        "IPY_MODEL_985e513485c748b5a5c5f2b86460370b",
        "IPY_MODEL_0ace096eb43b41159dcc1169a36cf1c6"
       ],
       "layout": "IPY_MODEL_2ef6f7d77568458b8eb8d09dcf5ab26d"
      }
     },
     "582fca0090b646ca932c67ea1299ea54": {
      "model_module": "@jupyter-widgets/base",
      "model_module_version": "1.2.0",
      "model_name": "LayoutModel",
      "state": {}
     },
     "585e49f58c324c3faa14558a56964908": {
      "model_module": "@jupyter-widgets/controls",
      "model_module_version": "1.5.0",
      "model_name": "HBoxModel",
      "state": {
       "children": [
        "IPY_MODEL_8e9072826ff24eb08638ff4caef1ad58",
        "IPY_MODEL_12a11027f4a4465dbd6e41bc4d52662e",
        "IPY_MODEL_5c318e0e940546ec8a92c7b84b05a19f"
       ],
       "layout": "IPY_MODEL_fd5b76ddc53c4382a070b7ebe59443e6"
      }
     },
     "5bddbbd0d4884123901b558cadb85316": {
      "model_module": "@jupyter-widgets/controls",
      "model_module_version": "1.5.0",
      "model_name": "HTMLModel",
      "state": {
       "layout": "IPY_MODEL_1e2a007c01fe45c7baab36b2b72f473b",
       "style": "IPY_MODEL_42008de1be734718be5c739709a69572",
       "value": " 0/545 [00:47&lt;?, ?it/s]"
      }
     },
     "5c318e0e940546ec8a92c7b84b05a19f": {
      "model_module": "@jupyter-widgets/controls",
      "model_module_version": "1.5.0",
      "model_name": "HTMLModel",
      "state": {
       "layout": "IPY_MODEL_d13e051540b54fdbac6647d0b9ac640e",
       "style": "IPY_MODEL_ba87629d915b4e7ab8d09c62c9c214a9",
       "value": " 0/545 [00:01&lt;?, ?it/s]"
      }
     },
     "5cb0eebac0ce48638b11aee49ea0568f": {
      "model_module": "@jupyter-widgets/base",
      "model_module_version": "1.2.0",
      "model_name": "LayoutModel",
      "state": {}
     },
     "600e2c3de5f34d4a9bcf2c1db93d61ca": {
      "model_module": "@jupyter-widgets/base",
      "model_module_version": "1.2.0",
      "model_name": "LayoutModel",
      "state": {}
     },
     "61f8a29746c749d09cd6d9425abb67ee": {
      "model_module": "@jupyter-widgets/controls",
      "model_module_version": "1.5.0",
      "model_name": "ProgressStyleModel",
      "state": {
       "description_width": ""
      }
     },
     "63f699a1aacb47f8a46999a776e6eb13": {
      "model_module": "@jupyter-widgets/base",
      "model_module_version": "1.2.0",
      "model_name": "LayoutModel",
      "state": {}
     },
     "64675f1f64e74dd7959a25c3b421f2f4": {
      "model_module": "@jupyter-widgets/controls",
      "model_module_version": "1.5.0",
      "model_name": "DescriptionStyleModel",
      "state": {
       "description_width": ""
      }
     },
     "678ce81649c14f2884d5ef15a065c27f": {
      "model_module": "@jupyter-widgets/controls",
      "model_module_version": "1.5.0",
      "model_name": "FloatProgressModel",
      "state": {
       "bar_style": "danger",
       "layout": "IPY_MODEL_947199cab6ff40318294f6df049f63ff",
       "max": 545,
       "style": "IPY_MODEL_bd97aa9bfbf64107806de62279c38b1a",
       "value": 11
      }
     },
     "687be582886d4c6d9d60af0e60998c5a": {
      "model_module": "@jupyter-widgets/base",
      "model_module_version": "1.2.0",
      "model_name": "LayoutModel",
      "state": {}
     },
     "6b8347d5bfb045e2a9c5e377a71b200a": {
      "model_module": "@jupyter-widgets/controls",
      "model_module_version": "1.5.0",
      "model_name": "FloatProgressModel",
      "state": {
       "bar_style": "danger",
       "layout": "IPY_MODEL_4a97acf0229d4f479dfa6041ed7d1151",
       "max": 545,
       "style": "IPY_MODEL_d2c37c6bfbf140c9863c834bf2187efc"
      }
     },
     "6bcb6a98b6204bbcb621235e1058cfaf": {
      "model_module": "@jupyter-widgets/controls",
      "model_module_version": "1.5.0",
      "model_name": "DescriptionStyleModel",
      "state": {
       "description_width": ""
      }
     },
     "6cba645ccd42406784084d26318fa46f": {
      "model_module": "@jupyter-widgets/base",
      "model_module_version": "1.2.0",
      "model_name": "LayoutModel",
      "state": {}
     },
     "6e1073d2f80b4aa18bb47c4e81d6469b": {
      "model_module": "@jupyter-widgets/base",
      "model_module_version": "1.2.0",
      "model_name": "LayoutModel",
      "state": {}
     },
     "73fe4a33ced346f9bae82509d0315ee9": {
      "model_module": "@jupyter-widgets/base",
      "model_module_version": "1.2.0",
      "model_name": "LayoutModel",
      "state": {}
     },
     "752b83de6e024da68d5367b0420c5f73": {
      "model_module": "@jupyter-widgets/controls",
      "model_module_version": "1.5.0",
      "model_name": "DescriptionStyleModel",
      "state": {
       "description_width": ""
      }
     },
     "754f4097019c4d34bc3302f09c4320c1": {
      "model_module": "@jupyter-widgets/base",
      "model_module_version": "1.2.0",
      "model_name": "LayoutModel",
      "state": {}
     },
     "75a8b5e46adc4eb9a8ddf0a6e140d110": {
      "model_module": "@jupyter-widgets/base",
      "model_module_version": "1.2.0",
      "model_name": "LayoutModel",
      "state": {}
     },
     "7674062874684895bb1eb56b11bebcc0": {
      "model_module": "@jupyter-widgets/controls",
      "model_module_version": "1.5.0",
      "model_name": "HBoxModel",
      "state": {
       "children": [
        "IPY_MODEL_3fe29003f0874fc9bbc4c8853d5ce0fc",
        "IPY_MODEL_361ef41d11e24a08b3780a6ee41d8064",
        "IPY_MODEL_1e69633c851243c8a4e9e846dc486eef"
       ],
       "layout": "IPY_MODEL_b1beb41b249c4ef1b5895580891db35e"
      }
     },
     "76e499cf356f4ef49eb07ecf3ed45df7": {
      "model_module": "@jupyter-widgets/controls",
      "model_module_version": "1.5.0",
      "model_name": "HBoxModel",
      "state": {
       "children": [
        "IPY_MODEL_e7b3979c805248e283e5e72fe3ec34ec",
        "IPY_MODEL_c9c980f931384aa299a704c13ec760f8",
        "IPY_MODEL_8d9c674b1bbb432b86dbe9d13a33f719"
       ],
       "layout": "IPY_MODEL_e837253827794f138f1bd4881080474b"
      }
     },
     "773787b5a45842d3b2fe101a1eaa9f14": {
      "model_module": "@jupyter-widgets/controls",
      "model_module_version": "1.5.0",
      "model_name": "HBoxModel",
      "state": {
       "children": [
        "IPY_MODEL_ab38f21e393e4bb68bbcb5749f002dd5",
        "IPY_MODEL_3762b86666f84f69a72ffe2ac2545274",
        "IPY_MODEL_316df0f1254944baafaf1fff5e7c0d25"
       ],
       "layout": "IPY_MODEL_bc696a639dea4b5fa280185df96b5936"
      }
     },
     "7a311d6ca8574b578dadea8f7692ce74": {
      "model_module": "@jupyter-widgets/base",
      "model_module_version": "1.2.0",
      "model_name": "LayoutModel",
      "state": {}
     },
     "7b6b848f5f3d451fb5a2b0b351b2cb52": {
      "model_module": "@jupyter-widgets/controls",
      "model_module_version": "1.5.0",
      "model_name": "ProgressStyleModel",
      "state": {
       "description_width": ""
      }
     },
     "7ee5eea1a3314cd18ddaad077334b7c1": {
      "model_module": "@jupyter-widgets/base",
      "model_module_version": "1.2.0",
      "model_name": "LayoutModel",
      "state": {}
     },
     "82c49d3e0f01447588e0e8dee0728e02": {
      "model_module": "@jupyter-widgets/base",
      "model_module_version": "1.2.0",
      "model_name": "LayoutModel",
      "state": {}
     },
     "84fdc01d4384477daf373e71b1f096f2": {
      "model_module": "@jupyter-widgets/controls",
      "model_module_version": "1.5.0",
      "model_name": "FloatProgressModel",
      "state": {
       "bar_style": "success",
       "layout": "IPY_MODEL_904c30edd4e74aa6ae96b2486bc23a85",
       "max": 545,
       "style": "IPY_MODEL_d83afdc0b85e40cdb1cca51e0ffd9d70",
       "value": 545
      }
     },
     "8902989f580b4c24bb6d2fd8f6bfd135": {
      "model_module": "@jupyter-widgets/base",
      "model_module_version": "1.2.0",
      "model_name": "LayoutModel",
      "state": {}
     },
     "8b204310f06b4fe1a506a26075b88a06": {
      "model_module": "@jupyter-widgets/controls",
      "model_module_version": "1.5.0",
      "model_name": "HTMLModel",
      "state": {
       "layout": "IPY_MODEL_e9c0a5120f6a4c93a08a5b5f2ca04d7e",
       "style": "IPY_MODEL_4a4301cf4ad54b8d8ec239f09177d184",
       "value": "100%"
      }
     },
     "8d9c674b1bbb432b86dbe9d13a33f719": {
      "model_module": "@jupyter-widgets/controls",
      "model_module_version": "1.5.0",
      "model_name": "HTMLModel",
      "state": {
       "layout": "IPY_MODEL_c22908e23b4848bcb54dc845c3309880",
       "style": "IPY_MODEL_f9b05c6f52eb48bca6c2b6fbd1f8b5bb",
       "value": " 545/545 [29:03&lt;00:00,  1.88s/it]"
      }
     },
     "8e056aafa8d94351b11c7c921d7bd56a": {
      "model_module": "@jupyter-widgets/controls",
      "model_module_version": "1.5.0",
      "model_name": "HBoxModel",
      "state": {
       "children": [
        "IPY_MODEL_4bea6bc9f83a4c61892e194e333944bc",
        "IPY_MODEL_2259b3755dd044549b9795dad95a7189",
        "IPY_MODEL_96e2a629ab3045bba19c79ccab77b89a"
       ],
       "layout": "IPY_MODEL_7ee5eea1a3314cd18ddaad077334b7c1"
      }
     },
     "8e9072826ff24eb08638ff4caef1ad58": {
      "model_module": "@jupyter-widgets/controls",
      "model_module_version": "1.5.0",
      "model_name": "HTMLModel",
      "state": {
       "layout": "IPY_MODEL_a0fd8ea1e82f4bd48643b1f9dad18c9c",
       "style": "IPY_MODEL_3a69989518734f67a09c03d71d8a9825",
       "value": "  0%"
      }
     },
     "904c30edd4e74aa6ae96b2486bc23a85": {
      "model_module": "@jupyter-widgets/base",
      "model_module_version": "1.2.0",
      "model_name": "LayoutModel",
      "state": {}
     },
     "947199cab6ff40318294f6df049f63ff": {
      "model_module": "@jupyter-widgets/base",
      "model_module_version": "1.2.0",
      "model_name": "LayoutModel",
      "state": {}
     },
     "962b7d5dc4cb4db6a1a90b75f011074b": {
      "model_module": "@jupyter-widgets/base",
      "model_module_version": "1.2.0",
      "model_name": "LayoutModel",
      "state": {}
     },
     "96e2a629ab3045bba19c79ccab77b89a": {
      "model_module": "@jupyter-widgets/controls",
      "model_module_version": "1.5.0",
      "model_name": "HTMLModel",
      "state": {
       "layout": "IPY_MODEL_b2e9af1179604d2d90f822273cfb3984",
       "style": "IPY_MODEL_0ab51f5288a9416d8b472c912f8aebd0",
       "value": " 545/545 [15:10&lt;00:00,  1.30s/it]"
      }
     },
     "974123770cf04210a6346d580eb116a7": {
      "model_module": "@jupyter-widgets/controls",
      "model_module_version": "1.5.0",
      "model_name": "DescriptionStyleModel",
      "state": {
       "description_width": ""
      }
     },
     "97a282750959409981c9cd5c1a8b5aa5": {
      "model_module": "@jupyter-widgets/base",
      "model_module_version": "1.2.0",
      "model_name": "LayoutModel",
      "state": {}
     },
     "985e513485c748b5a5c5f2b86460370b": {
      "model_module": "@jupyter-widgets/controls",
      "model_module_version": "1.5.0",
      "model_name": "FloatProgressModel",
      "state": {
       "bar_style": "danger",
       "layout": "IPY_MODEL_18592965fceb4791b93e191cd62a7d47",
       "max": 545,
       "style": "IPY_MODEL_1d86c0442cc940cb91b2f1c2114dcb0c"
      }
     },
     "99095eb07ab649eb94a62cef075c485a": {
      "model_module": "@jupyter-widgets/base",
      "model_module_version": "1.2.0",
      "model_name": "LayoutModel",
      "state": {}
     },
     "99222f6c03fa4ad0ac8e7abd662f2814": {
      "model_module": "@jupyter-widgets/controls",
      "model_module_version": "1.5.0",
      "model_name": "ProgressStyleModel",
      "state": {
       "description_width": ""
      }
     },
     "9adf42c50f204f939e981e0095214d57": {
      "model_module": "@jupyter-widgets/controls",
      "model_module_version": "1.5.0",
      "model_name": "HTMLModel",
      "state": {
       "layout": "IPY_MODEL_d06615338fdc4c15b188b99c96b49192",
       "style": "IPY_MODEL_455a6fb33b6c48d2901bd1eff2ee49f0",
       "value": " 545/545 [24:36&lt;00:00,  1.39s/it]"
      }
     },
     "9e612e79f4614e0f8f044567eb81d405": {
      "model_module": "@jupyter-widgets/controls",
      "model_module_version": "1.5.0",
      "model_name": "FloatProgressModel",
      "state": {
       "bar_style": "success",
       "layout": "IPY_MODEL_b6afe0d0dc2c4416a3b965b14a29026f",
       "max": 545,
       "style": "IPY_MODEL_20172296ff5d4a73a46aadc9d0620bcd",
       "value": 545
      }
     },
     "9ff1093b3cc4448dade9cc13d7e5dce5": {
      "model_module": "@jupyter-widgets/controls",
      "model_module_version": "1.5.0",
      "model_name": "HTMLModel",
      "state": {
       "layout": "IPY_MODEL_372ebeff51b94335a7b34d47a8fdc345",
       "style": "IPY_MODEL_b4b06f4662204eceb6dbebdae501e925",
       "value": " 545/545 [00:13&lt;00:00, 38.91it/s]"
      }
     },
     "a0fd8ea1e82f4bd48643b1f9dad18c9c": {
      "model_module": "@jupyter-widgets/base",
      "model_module_version": "1.2.0",
      "model_name": "LayoutModel",
      "state": {}
     },
     "a3431defb42545bbb144f544a9f20e1a": {
      "model_module": "@jupyter-widgets/controls",
      "model_module_version": "1.5.0",
      "model_name": "DescriptionStyleModel",
      "state": {
       "description_width": ""
      }
     },
     "a5a9f31c7e9240b2b0d50a40ef7ab7c8": {
      "model_module": "@jupyter-widgets/controls",
      "model_module_version": "1.5.0",
      "model_name": "HBoxModel",
      "state": {
       "children": [
        "IPY_MODEL_de72093caada4cbfa695364224796037",
        "IPY_MODEL_9e612e79f4614e0f8f044567eb81d405",
        "IPY_MODEL_9adf42c50f204f939e981e0095214d57"
       ],
       "layout": "IPY_MODEL_5cb0eebac0ce48638b11aee49ea0568f"
      }
     },
     "ab38f21e393e4bb68bbcb5749f002dd5": {
      "model_module": "@jupyter-widgets/controls",
      "model_module_version": "1.5.0",
      "model_name": "HTMLModel",
      "state": {
       "layout": "IPY_MODEL_1e44c43624834c5684e54ed093b64548",
       "style": "IPY_MODEL_1d4c76cec98e4819bf20b4b4ee3359b9",
       "value": "  0%"
      }
     },
     "b09ae3eee0dd4d0bb36852315d94c43a": {
      "model_module": "@jupyter-widgets/base",
      "model_module_version": "1.2.0",
      "model_name": "LayoutModel",
      "state": {}
     },
     "b1beb41b249c4ef1b5895580891db35e": {
      "model_module": "@jupyter-widgets/base",
      "model_module_version": "1.2.0",
      "model_name": "LayoutModel",
      "state": {}
     },
     "b2e9af1179604d2d90f822273cfb3984": {
      "model_module": "@jupyter-widgets/base",
      "model_module_version": "1.2.0",
      "model_name": "LayoutModel",
      "state": {}
     },
     "b4816b6a2a04485d998836fbc19839e2": {
      "model_module": "@jupyter-widgets/controls",
      "model_module_version": "1.5.0",
      "model_name": "ProgressStyleModel",
      "state": {
       "description_width": ""
      }
     },
     "b4b06f4662204eceb6dbebdae501e925": {
      "model_module": "@jupyter-widgets/controls",
      "model_module_version": "1.5.0",
      "model_name": "DescriptionStyleModel",
      "state": {
       "description_width": ""
      }
     },
     "b51db90bb86f4d6ba096a24da23906c2": {
      "model_module": "@jupyter-widgets/controls",
      "model_module_version": "1.5.0",
      "model_name": "HTMLModel",
      "state": {
       "layout": "IPY_MODEL_82c49d3e0f01447588e0e8dee0728e02",
       "style": "IPY_MODEL_6bcb6a98b6204bbcb621235e1058cfaf",
       "value": "  0%"
      }
     },
     "b5725012b6c34200923478503420d18b": {
      "model_module": "@jupyter-widgets/base",
      "model_module_version": "1.2.0",
      "model_name": "LayoutModel",
      "state": {}
     },
     "b6afe0d0dc2c4416a3b965b14a29026f": {
      "model_module": "@jupyter-widgets/base",
      "model_module_version": "1.2.0",
      "model_name": "LayoutModel",
      "state": {}
     },
     "b76e10699bf44592bd0af50ea0d36147": {
      "model_module": "@jupyter-widgets/controls",
      "model_module_version": "1.5.0",
      "model_name": "ProgressStyleModel",
      "state": {
       "description_width": ""
      }
     },
     "ba87629d915b4e7ab8d09c62c9c214a9": {
      "model_module": "@jupyter-widgets/controls",
      "model_module_version": "1.5.0",
      "model_name": "DescriptionStyleModel",
      "state": {
       "description_width": ""
      }
     },
     "bc696a639dea4b5fa280185df96b5936": {
      "model_module": "@jupyter-widgets/base",
      "model_module_version": "1.2.0",
      "model_name": "LayoutModel",
      "state": {}
     },
     "bd97aa9bfbf64107806de62279c38b1a": {
      "model_module": "@jupyter-widgets/controls",
      "model_module_version": "1.5.0",
      "model_name": "ProgressStyleModel",
      "state": {
       "description_width": ""
      }
     },
     "c0a54beebbfc4f2e8a099757bbabcffd": {
      "model_module": "@jupyter-widgets/base",
      "model_module_version": "1.2.0",
      "model_name": "LayoutModel",
      "state": {}
     },
     "c213844a4f1a4adaafd5f878fbabf54c": {
      "model_module": "@jupyter-widgets/base",
      "model_module_version": "1.2.0",
      "model_name": "LayoutModel",
      "state": {}
     },
     "c22908e23b4848bcb54dc845c3309880": {
      "model_module": "@jupyter-widgets/base",
      "model_module_version": "1.2.0",
      "model_name": "LayoutModel",
      "state": {}
     },
     "c7290c31bb974f0d9fe5790730be9eb6": {
      "model_module": "@jupyter-widgets/controls",
      "model_module_version": "1.5.0",
      "model_name": "ProgressStyleModel",
      "state": {
       "description_width": ""
      }
     },
     "c7fc4d4a1c2d45768a613ba30e90376f": {
      "model_module": "@jupyter-widgets/base",
      "model_module_version": "1.2.0",
      "model_name": "LayoutModel",
      "state": {}
     },
     "c9c980f931384aa299a704c13ec760f8": {
      "model_module": "@jupyter-widgets/controls",
      "model_module_version": "1.5.0",
      "model_name": "FloatProgressModel",
      "state": {
       "bar_style": "success",
       "layout": "IPY_MODEL_7a311d6ca8574b578dadea8f7692ce74",
       "max": 545,
       "style": "IPY_MODEL_c7290c31bb974f0d9fe5790730be9eb6",
       "value": 545
      }
     },
     "caf3192cfdcf4f95bc98aae292cd5020": {
      "model_module": "@jupyter-widgets/base",
      "model_module_version": "1.2.0",
      "model_name": "LayoutModel",
      "state": {}
     },
     "cd8a5c9231cf46f7b3716dfaae01645b": {
      "model_module": "@jupyter-widgets/base",
      "model_module_version": "1.2.0",
      "model_name": "LayoutModel",
      "state": {}
     },
     "ce57d9c8598e4182b9f917c9e63ac751": {
      "model_module": "@jupyter-widgets/base",
      "model_module_version": "1.2.0",
      "model_name": "LayoutModel",
      "state": {}
     },
     "cf28f56564414b519c1bc344e2a54a59": {
      "model_module": "@jupyter-widgets/controls",
      "model_module_version": "1.5.0",
      "model_name": "HTMLModel",
      "state": {
       "layout": "IPY_MODEL_ce57d9c8598e4182b9f917c9e63ac751",
       "style": "IPY_MODEL_a3431defb42545bbb144f544a9f20e1a",
       "value": " 0/545 [00:00&lt;?, ?it/s]"
      }
     },
     "d06615338fdc4c15b188b99c96b49192": {
      "model_module": "@jupyter-widgets/base",
      "model_module_version": "1.2.0",
      "model_name": "LayoutModel",
      "state": {}
     },
     "d13e051540b54fdbac6647d0b9ac640e": {
      "model_module": "@jupyter-widgets/base",
      "model_module_version": "1.2.0",
      "model_name": "LayoutModel",
      "state": {}
     },
     "d2c37c6bfbf140c9863c834bf2187efc": {
      "model_module": "@jupyter-widgets/controls",
      "model_module_version": "1.5.0",
      "model_name": "ProgressStyleModel",
      "state": {
       "description_width": ""
      }
     },
     "d56aab9f37174b4696e05640b69105a9": {
      "model_module": "@jupyter-widgets/controls",
      "model_module_version": "1.5.0",
      "model_name": "DescriptionStyleModel",
      "state": {
       "description_width": ""
      }
     },
     "d67377d66f9d40279b0a754e9ca7742f": {
      "model_module": "@jupyter-widgets/controls",
      "model_module_version": "1.5.0",
      "model_name": "DescriptionStyleModel",
      "state": {
       "description_width": ""
      }
     },
     "d83afdc0b85e40cdb1cca51e0ffd9d70": {
      "model_module": "@jupyter-widgets/controls",
      "model_module_version": "1.5.0",
      "model_name": "ProgressStyleModel",
      "state": {
       "description_width": ""
      }
     },
     "dac721e66b294214b7b9b88df8348654": {
      "model_module": "@jupyter-widgets/controls",
      "model_module_version": "1.5.0",
      "model_name": "HBoxModel",
      "state": {
       "children": [
        "IPY_MODEL_1447dad086f44897bd99e528616b608a",
        "IPY_MODEL_4a6135f4ad0d42f2972352020d7edf07",
        "IPY_MODEL_337bfb5dafea479db63a0c46fa10e42d"
       ],
       "layout": "IPY_MODEL_2127449599744935822dcfe39531f532"
      }
     },
     "de72093caada4cbfa695364224796037": {
      "model_module": "@jupyter-widgets/controls",
      "model_module_version": "1.5.0",
      "model_name": "HTMLModel",
      "state": {
       "layout": "IPY_MODEL_63f699a1aacb47f8a46999a776e6eb13",
       "style": "IPY_MODEL_508f2e0becaf4eaaa3fe2a3d65ffa1d3",
       "value": "100%"
      }
     },
     "e63ff604850d46cdb5891435a38e5a12": {
      "model_module": "@jupyter-widgets/controls",
      "model_module_version": "1.5.0",
      "model_name": "HBoxModel",
      "state": {
       "children": [
        "IPY_MODEL_8b204310f06b4fe1a506a26075b88a06",
        "IPY_MODEL_84fdc01d4384477daf373e71b1f096f2",
        "IPY_MODEL_9ff1093b3cc4448dade9cc13d7e5dce5"
       ],
       "layout": "IPY_MODEL_48e3703f85c24bb3a1ad8a02a4835c1f"
      }
     },
     "e7b3979c805248e283e5e72fe3ec34ec": {
      "model_module": "@jupyter-widgets/controls",
      "model_module_version": "1.5.0",
      "model_name": "HTMLModel",
      "state": {
       "layout": "IPY_MODEL_c0a54beebbfc4f2e8a099757bbabcffd",
       "style": "IPY_MODEL_752b83de6e024da68d5367b0420c5f73",
       "value": "100%"
      }
     },
     "e837253827794f138f1bd4881080474b": {
      "model_module": "@jupyter-widgets/base",
      "model_module_version": "1.2.0",
      "model_name": "LayoutModel",
      "state": {}
     },
     "e9c0a5120f6a4c93a08a5b5f2ca04d7e": {
      "model_module": "@jupyter-widgets/base",
      "model_module_version": "1.2.0",
      "model_name": "LayoutModel",
      "state": {}
     },
     "ec4b385cabc64eb69327bf90c9b01ea8": {
      "model_module": "@jupyter-widgets/controls",
      "model_module_version": "1.5.0",
      "model_name": "ProgressStyleModel",
      "state": {
       "description_width": ""
      }
     },
     "ee61b50272094650ab82b92eefe21a82": {
      "model_module": "@jupyter-widgets/controls",
      "model_module_version": "1.5.0",
      "model_name": "DescriptionStyleModel",
      "state": {
       "description_width": ""
      }
     },
     "ee7c93d8b9a944ac9ce1fb3058c6cb1a": {
      "model_module": "@jupyter-widgets/base",
      "model_module_version": "1.2.0",
      "model_name": "LayoutModel",
      "state": {}
     },
     "efe463ba6c15422992d9e463edf9932e": {
      "model_module": "@jupyter-widgets/controls",
      "model_module_version": "1.5.0",
      "model_name": "HTMLModel",
      "state": {
       "layout": "IPY_MODEL_97a282750959409981c9cd5c1a8b5aa5",
       "style": "IPY_MODEL_0da8c882a850483bb1f551c7a7875884",
       "value": "  2%"
      }
     },
     "f1b81d04913d44fc89426d5146186c2e": {
      "model_module": "@jupyter-widgets/controls",
      "model_module_version": "1.5.0",
      "model_name": "FloatProgressModel",
      "state": {
       "bar_style": "danger",
       "layout": "IPY_MODEL_b09ae3eee0dd4d0bb36852315d94c43a",
       "max": 545,
       "style": "IPY_MODEL_f6f4f82716694b7cb4bc8e0a134aa709"
      }
     },
     "f6f4f82716694b7cb4bc8e0a134aa709": {
      "model_module": "@jupyter-widgets/controls",
      "model_module_version": "1.5.0",
      "model_name": "ProgressStyleModel",
      "state": {
       "description_width": ""
      }
     },
     "f9b05c6f52eb48bca6c2b6fbd1f8b5bb": {
      "model_module": "@jupyter-widgets/controls",
      "model_module_version": "1.5.0",
      "model_name": "DescriptionStyleModel",
      "state": {
       "description_width": ""
      }
     },
     "fbbd6378c1664f73a5acb8443af55472": {
      "model_module": "@jupyter-widgets/controls",
      "model_module_version": "1.5.0",
      "model_name": "DescriptionStyleModel",
      "state": {
       "description_width": ""
      }
     },
     "fd5b76ddc53c4382a070b7ebe59443e6": {
      "model_module": "@jupyter-widgets/base",
      "model_module_version": "1.2.0",
      "model_name": "LayoutModel",
      "state": {}
     }
    },
    "version_major": 2,
    "version_minor": 0
   }
  }
 },
 "nbformat": 4,
 "nbformat_minor": 5
}
