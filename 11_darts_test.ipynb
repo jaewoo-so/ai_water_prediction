{
 "cells": [
  {
   "cell_type": "code",
   "execution_count": 1,
   "id": "5bfdcc0e",
   "metadata": {},
   "outputs": [],
   "source": [
    "# 라이브러리 임포트\n",
    "import os\n",
    "import time\n",
    "import json\n",
    "from datetime import datetime, timedelta\n",
    "import numpy as np\n",
    "import pandas as pd\n",
    "#from fbprophet import Prophet\n",
    "import pickle\n",
    "import copy\n",
    "from tqdm.auto import tqdm"
   ]
  },
  {
   "cell_type": "code",
   "execution_count": 2,
   "id": "5c9ec3f4",
   "metadata": {},
   "outputs": [
    {
     "name": "stderr",
     "output_type": "stream",
     "text": [
      "[2022-06-14 13:40:05,718] WARNING | darts.models | Support for AutoARIMA, BATS and TBATS is not available.To enable it, install u8darts[pmdarima] or u8darts[all].\n",
      "2022-06-14 13:40:05 darts.models WARNING: Support for AutoARIMA, BATS and TBATS is not available.To enable it, install u8darts[pmdarima] or u8darts[all].\n",
      "[2022-06-14 13:40:05,720] WARNING | darts.models | Support for Facebook Prophet is not available. To enable it, install \"darts\", \"u8darts[prophet]\" or \"u8darts[all]\" (with pip);or \"u8darts-all\" (with conda).\n",
      "2022-06-14 13:40:05 darts.models WARNING: Support for Facebook Prophet is not available. To enable it, install \"darts\", \"u8darts[prophet]\" or \"u8darts[all]\" (with pip);or \"u8darts-all\" (with conda).\n"
     ]
    }
   ],
   "source": [
    "from darts.models import *\n",
    "from darts.models.forecasting import gradient_boosted_model\n",
    "import darts.utils.timeseries_generation as tg\n",
    "from darts.utils.likelihood_models import GaussianLikelihood\n",
    "from darts.datasets import EnergyDataset\n",
    "from darts.utils.missing_values import fill_missing_values\n",
    "from darts import TimeSeries\n",
    "from darts.dataprocessing.transformers import Scaler\n",
    "from darts.utils.timeseries_generation import datetime_attribute_timeseries\n",
    "from darts.timeseries import TimeSeries\n",
    "import warnings\n",
    "\n",
    "warnings.filterwarnings(\"ignore\")"
   ]
  },
  {
   "cell_type": "code",
   "execution_count": 1,
   "id": "fbbfa594-9670-413f-a59d-baa371e90a11",
   "metadata": {},
   "outputs": [
    {
     "data": {
      "text/plain": [
       "1"
      ]
     },
     "execution_count": 1,
     "metadata": {},
     "output_type": "execute_result"
    }
   ],
   "source": [
    "import torch \n",
    "torch.cuda.device_count()"
   ]
  },
  {
   "cell_type": "code",
   "execution_count": 3,
   "id": "d12ca250",
   "metadata": {
    "tags": []
   },
   "outputs": [
    {
     "name": "stdout",
     "output_type": "stream",
     "text": [
      "CPU times: total: 719 ms\n",
      "Wall time: 719 ms\n"
     ]
    }
   ],
   "source": [
    "%%time\n",
    "submit = json.load(open('./data/sample_submission/sample_submission.json', 'r', encoding='utf8')) \n",
    "df_dic = pickle.load(open('./mydata/df_dic.plk','rb'))\n",
    "plc_lst = pickle.load(open('./mydata/plc_lst.plk','rb'))\n",
    "fct_lst = ['pH', 'COD', 'SS', 'N', 'P', 'T']"
   ]
  },
  {
   "cell_type": "code",
   "execution_count": 4,
   "id": "cc3f9122",
   "metadata": {
    "tags": []
   },
   "outputs": [],
   "source": [
    "# Prophet 예측을 위한 dataframe 포맷 제작\n",
    "future = pd.DataFrame([str(x)[:10] for x in list(pd.date_range(start='2018-02-01', end='2019-12-31', inclusive=\"both\"))], columns=['ds'])\n",
    "future['y'] = np.nan\n",
    "#future"
   ]
  },
  {
   "cell_type": "markdown",
   "id": "0895bc6d",
   "metadata": {},
   "source": [
    "---\n",
    "# 예측 시작"
   ]
  },
  {
   "cell_type": "code",
   "execution_count": 16,
   "id": "a3619910-384c-41e8-a524-4ad8aae6b1b1",
   "metadata": {},
   "outputs": [],
   "source": [
    "dfall_comm= pickle.load( open('./mydata/dfall_comm.plk','rb'))\n",
    "df_grp = dfall_comm.groupby('loc')\n",
    "df_temp = df_grp.get_group(i)"
   ]
  },
  {
   "cell_type": "markdown",
   "id": "c941f6f9",
   "metadata": {},
   "source": [
    "---\n",
    "## tcn"
   ]
  },
  {
   "cell_type": "code",
   "execution_count": 5,
   "id": "feb92536",
   "metadata": {},
   "outputs": [],
   "source": [
    "from darts.models.forecasting import tcn_model"
   ]
  },
  {
   "cell_type": "code",
   "execution_count": null,
   "id": "a4c6707d-c7ff-4f27-8598-2de75315a71a",
   "metadata": {},
   "outputs": [],
   "source": [
    "# 추론 : kalman\n",
    "start_time = time.time()\n",
    "\n",
    "for i in tqdm(plc_lst):\n",
    "    plc_df = df_dic[i]\n",
    "    \n",
    "    for j in fct_lst: # 피쳐 리스트\n",
    "        fct_df = plc_df[['ds', j]]   # 날짜 - 피쳐1 조합임.\n",
    "        \n",
    "        fct_df = fct_df.rename(columns={j:'y'}) # 피쳐1을 y로 바꾼다.\n",
    "        fct_df['ds'] = fct_df.ds.apply(lambda x : datetime.strptime(x , '%Y%m%d'))\n",
    "        fct_df = fct_df.dropna()\n",
    "        fct_df['y'] = pd.to_numeric(fct_df.y)\n",
    "        \n",
    "        df_align = pd.DataFrame([ x for x in list(pd.date_range( end = '2018-01-31', periods = len(fct_df), inclusive=\"both\"))], columns=['ds'])\n",
    "        df_align['y'] = fct_df.y.values\n",
    "        \n",
    "        # TimeSeris 로 변환 하기 \n",
    "        dfts = TimeSeries.from_dataframe(df_align,  time_col = 'ds' , value_cols  = ['y'], fill_missing_dates=True  , freq='D')\n",
    "        \n",
    "        diff = datetime(2018,2,1) - df_align.loc[0].ds\n",
    "        if diff.days > 720:\n",
    "            lag = 700\n",
    "        else:\n",
    "            lag = diff.days - 10\n",
    "            \n",
    "        my_model = tcn_model.TCNModel(\n",
    "            input_chunk_length = 500,\n",
    "            output_chunk_length = 1,\n",
    "            n_epochs=50,\n",
    "            kernel_size =3,\n",
    "            num_filters = 12,\n",
    "            dropout = 0.3,\n",
    "            batch_size = 64,\n",
    "            pl_trainer_kwargs  = {\"accelerator\": \"gpu\", \"gpus\": -1, \"auto_select_gpus\": True} ,\n",
    "            dilation_base=2,\n",
    "            weight_norm=True,\n",
    "            random_state=2022,\n",
    "            \n",
    "            \n",
    "        )\n",
    "        \n",
    "        my_model.fit(dfts)\n",
    "        pred_series = my_model.predict( n = 699 )\n",
    "        \n",
    "        forecast = pred_series.pd_dataframe()\n",
    "        forecast['ds'] = forecast.index\n",
    "        forecast['ds'] = forecast['ds'].apply(lambda x : str(x).split(' ')[0].split('-')[0]+str(x).split(' ')[0].split('-')[1]+str(x).split(' ')[0].split('-')[2])\n",
    "        forecast.columns = ['yhat', 'ds']\n",
    "        forecast = forecast.reset_index(drop=True)\n",
    "        \n",
    "        for idx,k in enumerate(submit[i].keys()):\n",
    "            submit[i][k][j] = np.round(forecast.yhat[idx],6)\n",
    "      \n",
    "        \n",
    "end_time = time.time()\n",
    "print('소요시간 :', (end_time - start_time)/60, 'minutes')"
   ]
  },
  {
   "cell_type": "code",
   "execution_count": null,
   "id": "70d37372",
   "metadata": {},
   "outputs": [],
   "source": []
  },
  {
   "cell_type": "markdown",
   "id": "a9a3ef35-4c11-4289-883e-722b0c4ea640",
   "metadata": {},
   "source": [
    "---"
   ]
  },
  {
   "cell_type": "code",
   "execution_count": 9,
   "id": "99e60426-ae42-4a96-9645-3c0663f54ea6",
   "metadata": {},
   "outputs": [],
   "source": [
    "from darts.models.forecasting import nbeats"
   ]
  },
  {
   "cell_type": "code",
   "execution_count": 10,
   "id": "a11e4927-248b-4073-98cb-7ef4dd50e350",
   "metadata": {
    "scrolled": true,
    "tags": []
   },
   "outputs": [
    {
     "data": {
      "application/vnd.jupyter.widget-view+json": {
       "model_id": "412e901e24c9430a96bb874716711c3d",
       "version_major": 2,
       "version_minor": 0
      },
      "text/plain": [
       "  0%|          | 0/545 [00:00<?, ?it/s]"
      ]
     },
     "metadata": {},
     "output_type": "display_data"
    },
    {
     "name": "stderr",
     "output_type": "stream",
     "text": [
      "[2022-06-14 14:53:50,584] INFO | darts.models.forecasting.torch_forecasting_model | Train dataset contains 2719 samples.\n",
      "[2022-06-14 14:53:50,584] INFO | darts.models.forecasting.torch_forecasting_model | Train dataset contains 2719 samples.\n",
      "2022-06-14 14:53:50 darts.models.forecasting.torch_forecasting_model INFO: Train dataset contains 2719 samples.\n",
      "[2022-06-14 14:53:50,615] INFO | darts.models.forecasting.torch_forecasting_model | Time series values are 64-bits; casting model to float64.\n",
      "[2022-06-14 14:53:50,615] INFO | darts.models.forecasting.torch_forecasting_model | Time series values are 64-bits; casting model to float64.\n",
      "2022-06-14 14:53:50 darts.models.forecasting.torch_forecasting_model INFO: Time series values are 64-bits; casting model to float64.\n",
      "2022-06-14 14:53:50 pytorch_lightning.utilities.rank_zero INFO: GPU available: False, used: False\n",
      "2022-06-14 14:53:50 pytorch_lightning.utilities.rank_zero INFO: TPU available: False, using: 0 TPU cores\n",
      "2022-06-14 14:53:50 pytorch_lightning.utilities.rank_zero INFO: IPU available: False, using: 0 IPUs\n",
      "2022-06-14 14:53:50 pytorch_lightning.utilities.rank_zero INFO: HPU available: False, using: 0 HPUs\n",
      "2022-06-14 14:53:50 pytorch_lightning.callbacks.model_summary INFO: \n",
      "  | Name      | Type       | Params\n",
      "-----------------------------------------\n",
      "0 | criterion | MSELoss    | 0     \n",
      "1 | stacks    | ModuleList | 8.5 M \n",
      "-----------------------------------------\n",
      "8.5 M     Trainable params\n",
      "3.2 K     Non-trainable params\n",
      "8.5 M     Total params\n",
      "67.633    Total estimated model params size (MB)\n"
     ]
    },
    {
     "data": {
      "application/vnd.jupyter.widget-view+json": {
       "model_id": "2b50db43ddb5485d8dbf3a82f3049858",
       "version_major": 2,
       "version_minor": 0
      },
      "text/plain": [
       "Training: 0it [00:00, ?it/s]"
      ]
     },
     "metadata": {},
     "output_type": "display_data"
    },
    {
     "data": {
      "application/vnd.jupyter.widget-view+json": {
       "model_id": "fd682e83fbaf43c583257c3b9445fa09",
       "version_major": 2,
       "version_minor": 0
      },
      "text/plain": [
       "Predicting: 11it [00:00, ?it/s]"
      ]
     },
     "metadata": {},
     "output_type": "display_data"
    },
    {
     "name": "stderr",
     "output_type": "stream",
     "text": [
      "[2022-06-14 14:53:56,918] INFO | darts.models.forecasting.torch_forecasting_model | Train dataset contains 2719 samples.\n",
      "[2022-06-14 14:53:56,918] INFO | darts.models.forecasting.torch_forecasting_model | Train dataset contains 2719 samples.\n",
      "2022-06-14 14:53:56 darts.models.forecasting.torch_forecasting_model INFO: Train dataset contains 2719 samples.\n",
      "[2022-06-14 14:53:56,949] INFO | darts.models.forecasting.torch_forecasting_model | Time series values are 64-bits; casting model to float64.\n",
      "[2022-06-14 14:53:56,949] INFO | darts.models.forecasting.torch_forecasting_model | Time series values are 64-bits; casting model to float64.\n",
      "2022-06-14 14:53:56 darts.models.forecasting.torch_forecasting_model INFO: Time series values are 64-bits; casting model to float64.\n",
      "2022-06-14 14:53:56 pytorch_lightning.utilities.rank_zero INFO: GPU available: False, used: False\n",
      "2022-06-14 14:53:56 pytorch_lightning.utilities.rank_zero INFO: TPU available: False, using: 0 TPU cores\n",
      "2022-06-14 14:53:56 pytorch_lightning.utilities.rank_zero INFO: IPU available: False, using: 0 IPUs\n",
      "2022-06-14 14:53:56 pytorch_lightning.utilities.rank_zero INFO: HPU available: False, using: 0 HPUs\n",
      "2022-06-14 14:53:56 pytorch_lightning.callbacks.model_summary INFO: \n",
      "  | Name      | Type       | Params\n",
      "-----------------------------------------\n",
      "0 | criterion | MSELoss    | 0     \n",
      "1 | stacks    | ModuleList | 8.5 M \n",
      "-----------------------------------------\n",
      "8.5 M     Trainable params\n",
      "3.2 K     Non-trainable params\n",
      "8.5 M     Total params\n",
      "67.633    Total estimated model params size (MB)\n"
     ]
    },
    {
     "data": {
      "application/vnd.jupyter.widget-view+json": {
       "model_id": "16eb5fc821e14b758d097f180246e1a6",
       "version_major": 2,
       "version_minor": 0
      },
      "text/plain": [
       "Training: 0it [00:00, ?it/s]"
      ]
     },
     "metadata": {},
     "output_type": "display_data"
    },
    {
     "data": {
      "application/vnd.jupyter.widget-view+json": {
       "model_id": "439288f4091544668241e9f00976e6e6",
       "version_major": 2,
       "version_minor": 0
      },
      "text/plain": [
       "Predicting: 11it [00:00, ?it/s]"
      ]
     },
     "metadata": {},
     "output_type": "display_data"
    },
    {
     "name": "stderr",
     "output_type": "stream",
     "text": [
      "[2022-06-14 14:54:03,151] INFO | darts.models.forecasting.torch_forecasting_model | Train dataset contains 2719 samples.\n",
      "[2022-06-14 14:54:03,151] INFO | darts.models.forecasting.torch_forecasting_model | Train dataset contains 2719 samples.\n",
      "2022-06-14 14:54:03 darts.models.forecasting.torch_forecasting_model INFO: Train dataset contains 2719 samples.\n",
      "[2022-06-14 14:54:03,183] INFO | darts.models.forecasting.torch_forecasting_model | Time series values are 64-bits; casting model to float64.\n",
      "[2022-06-14 14:54:03,183] INFO | darts.models.forecasting.torch_forecasting_model | Time series values are 64-bits; casting model to float64.\n",
      "2022-06-14 14:54:03 darts.models.forecasting.torch_forecasting_model INFO: Time series values are 64-bits; casting model to float64.\n",
      "2022-06-14 14:54:03 pytorch_lightning.utilities.rank_zero INFO: GPU available: False, used: False\n",
      "2022-06-14 14:54:03 pytorch_lightning.utilities.rank_zero INFO: TPU available: False, using: 0 TPU cores\n",
      "2022-06-14 14:54:03 pytorch_lightning.utilities.rank_zero INFO: IPU available: False, using: 0 IPUs\n",
      "2022-06-14 14:54:03 pytorch_lightning.utilities.rank_zero INFO: HPU available: False, using: 0 HPUs\n",
      "2022-06-14 14:54:03 pytorch_lightning.callbacks.model_summary INFO: \n",
      "  | Name      | Type       | Params\n",
      "-----------------------------------------\n",
      "0 | criterion | MSELoss    | 0     \n",
      "1 | stacks    | ModuleList | 8.5 M \n",
      "-----------------------------------------\n",
      "8.5 M     Trainable params\n",
      "3.2 K     Non-trainable params\n",
      "8.5 M     Total params\n",
      "67.633    Total estimated model params size (MB)\n"
     ]
    },
    {
     "data": {
      "application/vnd.jupyter.widget-view+json": {
       "model_id": "e9a829f7deed4127a88b972b6db98b0f",
       "version_major": 2,
       "version_minor": 0
      },
      "text/plain": [
       "Training: 0it [00:00, ?it/s]"
      ]
     },
     "metadata": {},
     "output_type": "display_data"
    },
    {
     "data": {
      "application/vnd.jupyter.widget-view+json": {
       "model_id": "3438c965ba764364a65ffd53cedd8493",
       "version_major": 2,
       "version_minor": 0
      },
      "text/plain": [
       "Predicting: 11it [00:00, ?it/s]"
      ]
     },
     "metadata": {},
     "output_type": "display_data"
    },
    {
     "name": "stderr",
     "output_type": "stream",
     "text": [
      "[2022-06-14 14:54:09,503] INFO | darts.models.forecasting.torch_forecasting_model | Train dataset contains 2719 samples.\n",
      "[2022-06-14 14:54:09,503] INFO | darts.models.forecasting.torch_forecasting_model | Train dataset contains 2719 samples.\n",
      "2022-06-14 14:54:09 darts.models.forecasting.torch_forecasting_model INFO: Train dataset contains 2719 samples.\n",
      "[2022-06-14 14:54:09,533] INFO | darts.models.forecasting.torch_forecasting_model | Time series values are 64-bits; casting model to float64.\n",
      "[2022-06-14 14:54:09,533] INFO | darts.models.forecasting.torch_forecasting_model | Time series values are 64-bits; casting model to float64.\n",
      "2022-06-14 14:54:09 darts.models.forecasting.torch_forecasting_model INFO: Time series values are 64-bits; casting model to float64.\n",
      "2022-06-14 14:54:09 pytorch_lightning.utilities.rank_zero INFO: GPU available: False, used: False\n",
      "2022-06-14 14:54:09 pytorch_lightning.utilities.rank_zero INFO: TPU available: False, using: 0 TPU cores\n",
      "2022-06-14 14:54:09 pytorch_lightning.utilities.rank_zero INFO: IPU available: False, using: 0 IPUs\n",
      "2022-06-14 14:54:09 pytorch_lightning.utilities.rank_zero INFO: HPU available: False, using: 0 HPUs\n",
      "2022-06-14 14:54:09 pytorch_lightning.callbacks.model_summary INFO: \n",
      "  | Name      | Type       | Params\n",
      "-----------------------------------------\n",
      "0 | criterion | MSELoss    | 0     \n",
      "1 | stacks    | ModuleList | 8.5 M \n",
      "-----------------------------------------\n",
      "8.5 M     Trainable params\n",
      "3.2 K     Non-trainable params\n",
      "8.5 M     Total params\n",
      "67.633    Total estimated model params size (MB)\n"
     ]
    },
    {
     "data": {
      "application/vnd.jupyter.widget-view+json": {
       "model_id": "6b6ce8c6d60a49cfa6a3278709849b92",
       "version_major": 2,
       "version_minor": 0
      },
      "text/plain": [
       "Training: 0it [00:00, ?it/s]"
      ]
     },
     "metadata": {},
     "output_type": "display_data"
    },
    {
     "data": {
      "application/vnd.jupyter.widget-view+json": {
       "model_id": "f213e1bb3dd746d0a2be53fece9b1107",
       "version_major": 2,
       "version_minor": 0
      },
      "text/plain": [
       "Predicting: 11it [00:00, ?it/s]"
      ]
     },
     "metadata": {},
     "output_type": "display_data"
    },
    {
     "name": "stderr",
     "output_type": "stream",
     "text": [
      "[2022-06-14 14:54:15,597] INFO | darts.models.forecasting.torch_forecasting_model | Train dataset contains 2719 samples.\n",
      "[2022-06-14 14:54:15,597] INFO | darts.models.forecasting.torch_forecasting_model | Train dataset contains 2719 samples.\n",
      "2022-06-14 14:54:15 darts.models.forecasting.torch_forecasting_model INFO: Train dataset contains 2719 samples.\n",
      "[2022-06-14 14:54:15,649] INFO | darts.models.forecasting.torch_forecasting_model | Time series values are 64-bits; casting model to float64.\n",
      "[2022-06-14 14:54:15,649] INFO | darts.models.forecasting.torch_forecasting_model | Time series values are 64-bits; casting model to float64.\n",
      "2022-06-14 14:54:15 darts.models.forecasting.torch_forecasting_model INFO: Time series values are 64-bits; casting model to float64.\n",
      "2022-06-14 14:54:15 pytorch_lightning.utilities.rank_zero INFO: GPU available: False, used: False\n",
      "2022-06-14 14:54:15 pytorch_lightning.utilities.rank_zero INFO: TPU available: False, using: 0 TPU cores\n",
      "2022-06-14 14:54:15 pytorch_lightning.utilities.rank_zero INFO: IPU available: False, using: 0 IPUs\n",
      "2022-06-14 14:54:15 pytorch_lightning.utilities.rank_zero INFO: HPU available: False, using: 0 HPUs\n",
      "2022-06-14 14:54:15 pytorch_lightning.callbacks.model_summary INFO: \n",
      "  | Name      | Type       | Params\n",
      "-----------------------------------------\n",
      "0 | criterion | MSELoss    | 0     \n",
      "1 | stacks    | ModuleList | 8.5 M \n",
      "-----------------------------------------\n",
      "8.5 M     Trainable params\n",
      "3.2 K     Non-trainable params\n",
      "8.5 M     Total params\n",
      "67.633    Total estimated model params size (MB)\n"
     ]
    },
    {
     "data": {
      "application/vnd.jupyter.widget-view+json": {
       "model_id": "2ccd80bedcfc4e209693b2046d5f278d",
       "version_major": 2,
       "version_minor": 0
      },
      "text/plain": [
       "Training: 0it [00:00, ?it/s]"
      ]
     },
     "metadata": {},
     "output_type": "display_data"
    },
    {
     "data": {
      "application/vnd.jupyter.widget-view+json": {
       "model_id": "d8db83107ad840949e5b2c538f45025e",
       "version_major": 2,
       "version_minor": 0
      },
      "text/plain": [
       "Predicting: 11it [00:00, ?it/s]"
      ]
     },
     "metadata": {},
     "output_type": "display_data"
    },
    {
     "name": "stderr",
     "output_type": "stream",
     "text": [
      "[2022-06-14 14:54:21,827] INFO | darts.models.forecasting.torch_forecasting_model | Train dataset contains 2646 samples.\n",
      "[2022-06-14 14:54:21,827] INFO | darts.models.forecasting.torch_forecasting_model | Train dataset contains 2646 samples.\n",
      "2022-06-14 14:54:21 darts.models.forecasting.torch_forecasting_model INFO: Train dataset contains 2646 samples.\n",
      "[2022-06-14 14:54:21,858] INFO | darts.models.forecasting.torch_forecasting_model | Time series values are 64-bits; casting model to float64.\n",
      "[2022-06-14 14:54:21,858] INFO | darts.models.forecasting.torch_forecasting_model | Time series values are 64-bits; casting model to float64.\n",
      "2022-06-14 14:54:21 darts.models.forecasting.torch_forecasting_model INFO: Time series values are 64-bits; casting model to float64.\n",
      "2022-06-14 14:54:21 pytorch_lightning.utilities.rank_zero INFO: GPU available: False, used: False\n",
      "2022-06-14 14:54:21 pytorch_lightning.utilities.rank_zero INFO: TPU available: False, using: 0 TPU cores\n",
      "2022-06-14 14:54:21 pytorch_lightning.utilities.rank_zero INFO: IPU available: False, using: 0 IPUs\n",
      "2022-06-14 14:54:21 pytorch_lightning.utilities.rank_zero INFO: HPU available: False, using: 0 HPUs\n",
      "2022-06-14 14:54:21 pytorch_lightning.callbacks.model_summary INFO: \n",
      "  | Name      | Type       | Params\n",
      "-----------------------------------------\n",
      "0 | criterion | MSELoss    | 0     \n",
      "1 | stacks    | ModuleList | 8.5 M \n",
      "-----------------------------------------\n",
      "8.5 M     Trainable params\n",
      "3.2 K     Non-trainable params\n",
      "8.5 M     Total params\n",
      "67.633    Total estimated model params size (MB)\n"
     ]
    },
    {
     "data": {
      "application/vnd.jupyter.widget-view+json": {
       "model_id": "83ea972f91f14f6a95e736157fd4622f",
       "version_major": 2,
       "version_minor": 0
      },
      "text/plain": [
       "Training: 0it [00:00, ?it/s]"
      ]
     },
     "metadata": {},
     "output_type": "display_data"
    },
    {
     "data": {
      "application/vnd.jupyter.widget-view+json": {
       "model_id": "25e756634d82442496c2227ef09f7c16",
       "version_major": 2,
       "version_minor": 0
      },
      "text/plain": [
       "Predicting: 11it [00:00, ?it/s]"
      ]
     },
     "metadata": {},
     "output_type": "display_data"
    },
    {
     "name": "stderr",
     "output_type": "stream",
     "text": [
      "[2022-06-14 14:54:28,092] INFO | darts.models.forecasting.torch_forecasting_model | Train dataset contains 2669 samples.\n",
      "[2022-06-14 14:54:28,092] INFO | darts.models.forecasting.torch_forecasting_model | Train dataset contains 2669 samples.\n",
      "2022-06-14 14:54:28 darts.models.forecasting.torch_forecasting_model INFO: Train dataset contains 2669 samples.\n",
      "[2022-06-14 14:54:28,123] INFO | darts.models.forecasting.torch_forecasting_model | Time series values are 64-bits; casting model to float64.\n",
      "[2022-06-14 14:54:28,123] INFO | darts.models.forecasting.torch_forecasting_model | Time series values are 64-bits; casting model to float64.\n",
      "2022-06-14 14:54:28 darts.models.forecasting.torch_forecasting_model INFO: Time series values are 64-bits; casting model to float64.\n",
      "2022-06-14 14:54:28 pytorch_lightning.utilities.rank_zero INFO: GPU available: False, used: False\n",
      "2022-06-14 14:54:28 pytorch_lightning.utilities.rank_zero INFO: TPU available: False, using: 0 TPU cores\n",
      "2022-06-14 14:54:28 pytorch_lightning.utilities.rank_zero INFO: IPU available: False, using: 0 IPUs\n",
      "2022-06-14 14:54:28 pytorch_lightning.utilities.rank_zero INFO: HPU available: False, using: 0 HPUs\n",
      "2022-06-14 14:54:28 pytorch_lightning.callbacks.model_summary INFO: \n",
      "  | Name      | Type       | Params\n",
      "-----------------------------------------\n",
      "0 | criterion | MSELoss    | 0     \n",
      "1 | stacks    | ModuleList | 8.5 M \n",
      "-----------------------------------------\n",
      "8.5 M     Trainable params\n",
      "3.2 K     Non-trainable params\n",
      "8.5 M     Total params\n",
      "67.633    Total estimated model params size (MB)\n"
     ]
    },
    {
     "data": {
      "application/vnd.jupyter.widget-view+json": {
       "model_id": "2d5154658ec84a24900acfa660b032e7",
       "version_major": 2,
       "version_minor": 0
      },
      "text/plain": [
       "Training: 0it [00:00, ?it/s]"
      ]
     },
     "metadata": {},
     "output_type": "display_data"
    },
    {
     "data": {
      "application/vnd.jupyter.widget-view+json": {
       "model_id": "5e2576b80b054e2a8326e11ada3a881c",
       "version_major": 2,
       "version_minor": 0
      },
      "text/plain": [
       "Predicting: 11it [00:00, ?it/s]"
      ]
     },
     "metadata": {},
     "output_type": "display_data"
    },
    {
     "name": "stderr",
     "output_type": "stream",
     "text": [
      "[2022-06-14 14:54:34,451] INFO | darts.models.forecasting.torch_forecasting_model | Train dataset contains 2669 samples.\n",
      "[2022-06-14 14:54:34,451] INFO | darts.models.forecasting.torch_forecasting_model | Train dataset contains 2669 samples.\n",
      "2022-06-14 14:54:34 darts.models.forecasting.torch_forecasting_model INFO: Train dataset contains 2669 samples.\n",
      "[2022-06-14 14:54:34,482] INFO | darts.models.forecasting.torch_forecasting_model | Time series values are 64-bits; casting model to float64.\n",
      "[2022-06-14 14:54:34,482] INFO | darts.models.forecasting.torch_forecasting_model | Time series values are 64-bits; casting model to float64.\n",
      "2022-06-14 14:54:34 darts.models.forecasting.torch_forecasting_model INFO: Time series values are 64-bits; casting model to float64.\n",
      "2022-06-14 14:54:34 pytorch_lightning.utilities.rank_zero INFO: GPU available: False, used: False\n",
      "2022-06-14 14:54:34 pytorch_lightning.utilities.rank_zero INFO: TPU available: False, using: 0 TPU cores\n",
      "2022-06-14 14:54:34 pytorch_lightning.utilities.rank_zero INFO: IPU available: False, using: 0 IPUs\n",
      "2022-06-14 14:54:34 pytorch_lightning.utilities.rank_zero INFO: HPU available: False, using: 0 HPUs\n",
      "2022-06-14 14:54:34 pytorch_lightning.callbacks.model_summary INFO: \n",
      "  | Name      | Type       | Params\n",
      "-----------------------------------------\n",
      "0 | criterion | MSELoss    | 0     \n",
      "1 | stacks    | ModuleList | 8.5 M \n",
      "-----------------------------------------\n",
      "8.5 M     Trainable params\n",
      "3.2 K     Non-trainable params\n",
      "8.5 M     Total params\n",
      "67.633    Total estimated model params size (MB)\n"
     ]
    },
    {
     "data": {
      "application/vnd.jupyter.widget-view+json": {
       "model_id": "f763cd0d4f7045f5b8a863f4cd9b314e",
       "version_major": 2,
       "version_minor": 0
      },
      "text/plain": [
       "Training: 0it [00:00, ?it/s]"
      ]
     },
     "metadata": {},
     "output_type": "display_data"
    },
    {
     "data": {
      "application/vnd.jupyter.widget-view+json": {
       "model_id": "03791f6ee7304a54aa52be0f363d3c6a",
       "version_major": 2,
       "version_minor": 0
      },
      "text/plain": [
       "Predicting: 11it [00:00, ?it/s]"
      ]
     },
     "metadata": {},
     "output_type": "display_data"
    },
    {
     "name": "stderr",
     "output_type": "stream",
     "text": [
      "[2022-06-14 14:54:40,865] INFO | darts.models.forecasting.torch_forecasting_model | Train dataset contains 2669 samples.\n",
      "[2022-06-14 14:54:40,865] INFO | darts.models.forecasting.torch_forecasting_model | Train dataset contains 2669 samples.\n",
      "2022-06-14 14:54:40 darts.models.forecasting.torch_forecasting_model INFO: Train dataset contains 2669 samples.\n",
      "[2022-06-14 14:54:40,894] INFO | darts.models.forecasting.torch_forecasting_model | Time series values are 64-bits; casting model to float64.\n",
      "[2022-06-14 14:54:40,894] INFO | darts.models.forecasting.torch_forecasting_model | Time series values are 64-bits; casting model to float64.\n",
      "2022-06-14 14:54:40 darts.models.forecasting.torch_forecasting_model INFO: Time series values are 64-bits; casting model to float64.\n",
      "2022-06-14 14:54:40 pytorch_lightning.utilities.rank_zero INFO: GPU available: False, used: False\n",
      "2022-06-14 14:54:40 pytorch_lightning.utilities.rank_zero INFO: TPU available: False, using: 0 TPU cores\n",
      "2022-06-14 14:54:40 pytorch_lightning.utilities.rank_zero INFO: IPU available: False, using: 0 IPUs\n",
      "2022-06-14 14:54:40 pytorch_lightning.utilities.rank_zero INFO: HPU available: False, using: 0 HPUs\n",
      "2022-06-14 14:54:40 pytorch_lightning.callbacks.model_summary INFO: \n",
      "  | Name      | Type       | Params\n",
      "-----------------------------------------\n",
      "0 | criterion | MSELoss    | 0     \n",
      "1 | stacks    | ModuleList | 8.5 M \n",
      "-----------------------------------------\n",
      "8.5 M     Trainable params\n",
      "3.2 K     Non-trainable params\n",
      "8.5 M     Total params\n",
      "67.633    Total estimated model params size (MB)\n"
     ]
    },
    {
     "data": {
      "application/vnd.jupyter.widget-view+json": {
       "model_id": "dacd331739854c24b1d7cd42a4b7686c",
       "version_major": 2,
       "version_minor": 0
      },
      "text/plain": [
       "Training: 0it [00:00, ?it/s]"
      ]
     },
     "metadata": {},
     "output_type": "display_data"
    },
    {
     "data": {
      "application/vnd.jupyter.widget-view+json": {
       "model_id": "a1b687bb3c6e4d548e569600ff26e187",
       "version_major": 2,
       "version_minor": 0
      },
      "text/plain": [
       "Predicting: 11it [00:00, ?it/s]"
      ]
     },
     "metadata": {},
     "output_type": "display_data"
    },
    {
     "name": "stderr",
     "output_type": "stream",
     "text": [
      "[2022-06-14 14:54:46,890] INFO | darts.models.forecasting.torch_forecasting_model | Train dataset contains 2668 samples.\n",
      "[2022-06-14 14:54:46,890] INFO | darts.models.forecasting.torch_forecasting_model | Train dataset contains 2668 samples.\n",
      "2022-06-14 14:54:46 darts.models.forecasting.torch_forecasting_model INFO: Train dataset contains 2668 samples.\n",
      "[2022-06-14 14:54:46,920] INFO | darts.models.forecasting.torch_forecasting_model | Time series values are 64-bits; casting model to float64.\n",
      "[2022-06-14 14:54:46,920] INFO | darts.models.forecasting.torch_forecasting_model | Time series values are 64-bits; casting model to float64.\n",
      "2022-06-14 14:54:46 darts.models.forecasting.torch_forecasting_model INFO: Time series values are 64-bits; casting model to float64.\n",
      "2022-06-14 14:54:46 pytorch_lightning.utilities.rank_zero INFO: GPU available: False, used: False\n",
      "2022-06-14 14:54:46 pytorch_lightning.utilities.rank_zero INFO: TPU available: False, using: 0 TPU cores\n",
      "2022-06-14 14:54:46 pytorch_lightning.utilities.rank_zero INFO: IPU available: False, using: 0 IPUs\n",
      "2022-06-14 14:54:46 pytorch_lightning.utilities.rank_zero INFO: HPU available: False, using: 0 HPUs\n",
      "2022-06-14 14:54:46 pytorch_lightning.callbacks.model_summary INFO: \n",
      "  | Name      | Type       | Params\n",
      "-----------------------------------------\n",
      "0 | criterion | MSELoss    | 0     \n",
      "1 | stacks    | ModuleList | 8.5 M \n",
      "-----------------------------------------\n",
      "8.5 M     Trainable params\n",
      "3.2 K     Non-trainable params\n",
      "8.5 M     Total params\n",
      "67.633    Total estimated model params size (MB)\n"
     ]
    },
    {
     "data": {
      "application/vnd.jupyter.widget-view+json": {
       "model_id": "345b8c7317f242478094625f4eb7ba60",
       "version_major": 2,
       "version_minor": 0
      },
      "text/plain": [
       "Training: 0it [00:00, ?it/s]"
      ]
     },
     "metadata": {},
     "output_type": "display_data"
    },
    {
     "data": {
      "application/vnd.jupyter.widget-view+json": {
       "model_id": "7a8e32864efb46699f628ae83d9ca010",
       "version_major": 2,
       "version_minor": 0
      },
      "text/plain": [
       "Predicting: 11it [00:00, ?it/s]"
      ]
     },
     "metadata": {},
     "output_type": "display_data"
    },
    {
     "name": "stderr",
     "output_type": "stream",
     "text": [
      "[2022-06-14 14:54:52,820] INFO | darts.models.forecasting.torch_forecasting_model | Train dataset contains 2668 samples.\n",
      "[2022-06-14 14:54:52,820] INFO | darts.models.forecasting.torch_forecasting_model | Train dataset contains 2668 samples.\n",
      "2022-06-14 14:54:52 darts.models.forecasting.torch_forecasting_model INFO: Train dataset contains 2668 samples.\n",
      "[2022-06-14 14:54:52,868] INFO | darts.models.forecasting.torch_forecasting_model | Time series values are 64-bits; casting model to float64.\n",
      "[2022-06-14 14:54:52,868] INFO | darts.models.forecasting.torch_forecasting_model | Time series values are 64-bits; casting model to float64.\n",
      "2022-06-14 14:54:52 darts.models.forecasting.torch_forecasting_model INFO: Time series values are 64-bits; casting model to float64.\n",
      "2022-06-14 14:54:52 pytorch_lightning.utilities.rank_zero INFO: GPU available: False, used: False\n",
      "2022-06-14 14:54:52 pytorch_lightning.utilities.rank_zero INFO: TPU available: False, using: 0 TPU cores\n",
      "2022-06-14 14:54:52 pytorch_lightning.utilities.rank_zero INFO: IPU available: False, using: 0 IPUs\n",
      "2022-06-14 14:54:52 pytorch_lightning.utilities.rank_zero INFO: HPU available: False, using: 0 HPUs\n",
      "2022-06-14 14:54:52 pytorch_lightning.callbacks.model_summary INFO: \n",
      "  | Name      | Type       | Params\n",
      "-----------------------------------------\n",
      "0 | criterion | MSELoss    | 0     \n",
      "1 | stacks    | ModuleList | 8.5 M \n",
      "-----------------------------------------\n",
      "8.5 M     Trainable params\n",
      "3.2 K     Non-trainable params\n",
      "8.5 M     Total params\n",
      "67.633    Total estimated model params size (MB)\n"
     ]
    },
    {
     "data": {
      "application/vnd.jupyter.widget-view+json": {
       "model_id": "6fb4f3b2b5b4430e85e8c553f1cd8d24",
       "version_major": 2,
       "version_minor": 0
      },
      "text/plain": [
       "Training: 0it [00:00, ?it/s]"
      ]
     },
     "metadata": {},
     "output_type": "display_data"
    },
    {
     "data": {
      "application/vnd.jupyter.widget-view+json": {
       "model_id": "69b9a0764b944354839c7ac27a4f689d",
       "version_major": 2,
       "version_minor": 0
      },
      "text/plain": [
       "Predicting: 11it [00:00, ?it/s]"
      ]
     },
     "metadata": {},
     "output_type": "display_data"
    },
    {
     "name": "stderr",
     "output_type": "stream",
     "text": [
      "[2022-06-14 14:54:58,663] INFO | darts.models.forecasting.torch_forecasting_model | Train dataset contains 2693 samples.\n",
      "[2022-06-14 14:54:58,663] INFO | darts.models.forecasting.torch_forecasting_model | Train dataset contains 2693 samples.\n",
      "2022-06-14 14:54:58 darts.models.forecasting.torch_forecasting_model INFO: Train dataset contains 2693 samples.\n",
      "[2022-06-14 14:54:58,710] INFO | darts.models.forecasting.torch_forecasting_model | Time series values are 64-bits; casting model to float64.\n",
      "[2022-06-14 14:54:58,710] INFO | darts.models.forecasting.torch_forecasting_model | Time series values are 64-bits; casting model to float64.\n",
      "2022-06-14 14:54:58 darts.models.forecasting.torch_forecasting_model INFO: Time series values are 64-bits; casting model to float64.\n",
      "2022-06-14 14:54:58 pytorch_lightning.utilities.rank_zero INFO: GPU available: False, used: False\n",
      "2022-06-14 14:54:58 pytorch_lightning.utilities.rank_zero INFO: TPU available: False, using: 0 TPU cores\n",
      "2022-06-14 14:54:58 pytorch_lightning.utilities.rank_zero INFO: IPU available: False, using: 0 IPUs\n",
      "2022-06-14 14:54:58 pytorch_lightning.utilities.rank_zero INFO: HPU available: False, using: 0 HPUs\n",
      "2022-06-14 14:54:58 pytorch_lightning.callbacks.model_summary INFO: \n",
      "  | Name      | Type       | Params\n",
      "-----------------------------------------\n",
      "0 | criterion | MSELoss    | 0     \n",
      "1 | stacks    | ModuleList | 8.5 M \n",
      "-----------------------------------------\n",
      "8.5 M     Trainable params\n",
      "3.2 K     Non-trainable params\n",
      "8.5 M     Total params\n",
      "67.633    Total estimated model params size (MB)\n"
     ]
    },
    {
     "data": {
      "application/vnd.jupyter.widget-view+json": {
       "model_id": "6eabd2edb6394201ab51fc07f2c93782",
       "version_major": 2,
       "version_minor": 0
      },
      "text/plain": [
       "Training: 0it [00:00, ?it/s]"
      ]
     },
     "metadata": {},
     "output_type": "display_data"
    },
    {
     "data": {
      "application/vnd.jupyter.widget-view+json": {
       "model_id": "d7e4f7001fa5499aaea432b63de35e80",
       "version_major": 2,
       "version_minor": 0
      },
      "text/plain": [
       "Predicting: 11it [00:00, ?it/s]"
      ]
     },
     "metadata": {},
     "output_type": "display_data"
    },
    {
     "name": "stderr",
     "output_type": "stream",
     "text": [
      "[2022-06-14 14:55:04,816] INFO | darts.models.forecasting.torch_forecasting_model | Train dataset contains 2725 samples.\n",
      "[2022-06-14 14:55:04,816] INFO | darts.models.forecasting.torch_forecasting_model | Train dataset contains 2725 samples.\n",
      "2022-06-14 14:55:04 darts.models.forecasting.torch_forecasting_model INFO: Train dataset contains 2725 samples.\n",
      "[2022-06-14 14:55:04,845] INFO | darts.models.forecasting.torch_forecasting_model | Time series values are 64-bits; casting model to float64.\n",
      "[2022-06-14 14:55:04,845] INFO | darts.models.forecasting.torch_forecasting_model | Time series values are 64-bits; casting model to float64.\n",
      "2022-06-14 14:55:04 darts.models.forecasting.torch_forecasting_model INFO: Time series values are 64-bits; casting model to float64.\n",
      "2022-06-14 14:55:04 pytorch_lightning.utilities.rank_zero INFO: GPU available: False, used: False\n",
      "2022-06-14 14:55:04 pytorch_lightning.utilities.rank_zero INFO: TPU available: False, using: 0 TPU cores\n",
      "2022-06-14 14:55:04 pytorch_lightning.utilities.rank_zero INFO: IPU available: False, using: 0 IPUs\n",
      "2022-06-14 14:55:04 pytorch_lightning.utilities.rank_zero INFO: HPU available: False, using: 0 HPUs\n",
      "2022-06-14 14:55:04 pytorch_lightning.callbacks.model_summary INFO: \n",
      "  | Name      | Type       | Params\n",
      "-----------------------------------------\n",
      "0 | criterion | MSELoss    | 0     \n",
      "1 | stacks    | ModuleList | 8.5 M \n",
      "-----------------------------------------\n",
      "8.5 M     Trainable params\n",
      "3.2 K     Non-trainable params\n",
      "8.5 M     Total params\n",
      "67.633    Total estimated model params size (MB)\n"
     ]
    },
    {
     "data": {
      "application/vnd.jupyter.widget-view+json": {
       "model_id": "6b68c3e78fe44131880b5b3ec46e4f4f",
       "version_major": 2,
       "version_minor": 0
      },
      "text/plain": [
       "Training: 0it [00:00, ?it/s]"
      ]
     },
     "metadata": {},
     "output_type": "display_data"
    },
    {
     "data": {
      "application/vnd.jupyter.widget-view+json": {
       "model_id": "ec92b695383b46deb9ac4fda978c0ea0",
       "version_major": 2,
       "version_minor": 0
      },
      "text/plain": [
       "Predicting: 11it [00:00, ?it/s]"
      ]
     },
     "metadata": {},
     "output_type": "display_data"
    },
    {
     "name": "stderr",
     "output_type": "stream",
     "text": [
      "[2022-06-14 14:55:11,071] INFO | darts.models.forecasting.torch_forecasting_model | Train dataset contains 2731 samples.\n",
      "[2022-06-14 14:55:11,071] INFO | darts.models.forecasting.torch_forecasting_model | Train dataset contains 2731 samples.\n",
      "2022-06-14 14:55:11 darts.models.forecasting.torch_forecasting_model INFO: Train dataset contains 2731 samples.\n",
      "[2022-06-14 14:55:11,102] INFO | darts.models.forecasting.torch_forecasting_model | Time series values are 64-bits; casting model to float64.\n",
      "[2022-06-14 14:55:11,102] INFO | darts.models.forecasting.torch_forecasting_model | Time series values are 64-bits; casting model to float64.\n",
      "2022-06-14 14:55:11 darts.models.forecasting.torch_forecasting_model INFO: Time series values are 64-bits; casting model to float64.\n",
      "2022-06-14 14:55:11 pytorch_lightning.utilities.rank_zero INFO: GPU available: False, used: False\n",
      "2022-06-14 14:55:11 pytorch_lightning.utilities.rank_zero INFO: TPU available: False, using: 0 TPU cores\n",
      "2022-06-14 14:55:11 pytorch_lightning.utilities.rank_zero INFO: IPU available: False, using: 0 IPUs\n",
      "2022-06-14 14:55:11 pytorch_lightning.utilities.rank_zero INFO: HPU available: False, using: 0 HPUs\n",
      "2022-06-14 14:55:11 pytorch_lightning.callbacks.model_summary INFO: \n",
      "  | Name      | Type       | Params\n",
      "-----------------------------------------\n",
      "0 | criterion | MSELoss    | 0     \n",
      "1 | stacks    | ModuleList | 8.5 M \n",
      "-----------------------------------------\n",
      "8.5 M     Trainable params\n",
      "3.2 K     Non-trainable params\n",
      "8.5 M     Total params\n",
      "67.633    Total estimated model params size (MB)\n"
     ]
    },
    {
     "data": {
      "application/vnd.jupyter.widget-view+json": {
       "model_id": "78470d785fd64bcba7cd9d66c7c219af",
       "version_major": 2,
       "version_minor": 0
      },
      "text/plain": [
       "Training: 0it [00:00, ?it/s]"
      ]
     },
     "metadata": {},
     "output_type": "display_data"
    },
    {
     "data": {
      "application/vnd.jupyter.widget-view+json": {
       "model_id": "cbac59b052944ce1aada06bb191fa763",
       "version_major": 2,
       "version_minor": 0
      },
      "text/plain": [
       "Predicting: 11it [00:00, ?it/s]"
      ]
     },
     "metadata": {},
     "output_type": "display_data"
    },
    {
     "name": "stderr",
     "output_type": "stream",
     "text": [
      "[2022-06-14 14:55:17,062] INFO | darts.models.forecasting.torch_forecasting_model | Train dataset contains 2731 samples.\n",
      "[2022-06-14 14:55:17,062] INFO | darts.models.forecasting.torch_forecasting_model | Train dataset contains 2731 samples.\n",
      "2022-06-14 14:55:17 darts.models.forecasting.torch_forecasting_model INFO: Train dataset contains 2731 samples.\n",
      "[2022-06-14 14:55:17,093] INFO | darts.models.forecasting.torch_forecasting_model | Time series values are 64-bits; casting model to float64.\n",
      "[2022-06-14 14:55:17,093] INFO | darts.models.forecasting.torch_forecasting_model | Time series values are 64-bits; casting model to float64.\n",
      "2022-06-14 14:55:17 darts.models.forecasting.torch_forecasting_model INFO: Time series values are 64-bits; casting model to float64.\n",
      "2022-06-14 14:55:17 pytorch_lightning.utilities.rank_zero INFO: GPU available: False, used: False\n",
      "2022-06-14 14:55:17 pytorch_lightning.utilities.rank_zero INFO: TPU available: False, using: 0 TPU cores\n",
      "2022-06-14 14:55:17 pytorch_lightning.utilities.rank_zero INFO: IPU available: False, using: 0 IPUs\n",
      "2022-06-14 14:55:17 pytorch_lightning.utilities.rank_zero INFO: HPU available: False, using: 0 HPUs\n",
      "2022-06-14 14:55:17 pytorch_lightning.callbacks.model_summary INFO: \n",
      "  | Name      | Type       | Params\n",
      "-----------------------------------------\n",
      "0 | criterion | MSELoss    | 0     \n",
      "1 | stacks    | ModuleList | 8.5 M \n",
      "-----------------------------------------\n",
      "8.5 M     Trainable params\n",
      "3.2 K     Non-trainable params\n",
      "8.5 M     Total params\n",
      "67.633    Total estimated model params size (MB)\n"
     ]
    },
    {
     "data": {
      "application/vnd.jupyter.widget-view+json": {
       "model_id": "70665410a81d4a3881fde20595c54bd6",
       "version_major": 2,
       "version_minor": 0
      },
      "text/plain": [
       "Training: 0it [00:00, ?it/s]"
      ]
     },
     "metadata": {},
     "output_type": "display_data"
    },
    {
     "data": {
      "application/vnd.jupyter.widget-view+json": {
       "model_id": "62fc377259a441578c405e1329c6f9cb",
       "version_major": 2,
       "version_minor": 0
      },
      "text/plain": [
       "Predicting: 11it [00:00, ?it/s]"
      ]
     },
     "metadata": {},
     "output_type": "display_data"
    },
    {
     "name": "stderr",
     "output_type": "stream",
     "text": [
      "[2022-06-14 14:55:22,894] INFO | darts.models.forecasting.torch_forecasting_model | Train dataset contains 2731 samples.\n",
      "[2022-06-14 14:55:22,894] INFO | darts.models.forecasting.torch_forecasting_model | Train dataset contains 2731 samples.\n",
      "2022-06-14 14:55:22 darts.models.forecasting.torch_forecasting_model INFO: Train dataset contains 2731 samples.\n",
      "[2022-06-14 14:55:22,923] INFO | darts.models.forecasting.torch_forecasting_model | Time series values are 64-bits; casting model to float64.\n",
      "[2022-06-14 14:55:22,923] INFO | darts.models.forecasting.torch_forecasting_model | Time series values are 64-bits; casting model to float64.\n",
      "2022-06-14 14:55:22 darts.models.forecasting.torch_forecasting_model INFO: Time series values are 64-bits; casting model to float64.\n",
      "2022-06-14 14:55:22 pytorch_lightning.utilities.rank_zero INFO: GPU available: False, used: False\n",
      "2022-06-14 14:55:22 pytorch_lightning.utilities.rank_zero INFO: TPU available: False, using: 0 TPU cores\n",
      "2022-06-14 14:55:22 pytorch_lightning.utilities.rank_zero INFO: IPU available: False, using: 0 IPUs\n",
      "2022-06-14 14:55:22 pytorch_lightning.utilities.rank_zero INFO: HPU available: False, using: 0 HPUs\n",
      "2022-06-14 14:55:22 pytorch_lightning.callbacks.model_summary INFO: \n",
      "  | Name      | Type       | Params\n",
      "-----------------------------------------\n",
      "0 | criterion | MSELoss    | 0     \n",
      "1 | stacks    | ModuleList | 8.5 M \n",
      "-----------------------------------------\n",
      "8.5 M     Trainable params\n",
      "3.2 K     Non-trainable params\n",
      "8.5 M     Total params\n",
      "67.633    Total estimated model params size (MB)\n"
     ]
    },
    {
     "data": {
      "application/vnd.jupyter.widget-view+json": {
       "model_id": "c0609760747e46bf90607813f8cc01e2",
       "version_major": 2,
       "version_minor": 0
      },
      "text/plain": [
       "Training: 0it [00:00, ?it/s]"
      ]
     },
     "metadata": {},
     "output_type": "display_data"
    },
    {
     "data": {
      "application/vnd.jupyter.widget-view+json": {
       "model_id": "70c8c02b28e14928aa100c7587a47b23",
       "version_major": 2,
       "version_minor": 0
      },
      "text/plain": [
       "Predicting: 11it [00:00, ?it/s]"
      ]
     },
     "metadata": {},
     "output_type": "display_data"
    },
    {
     "name": "stderr",
     "output_type": "stream",
     "text": [
      "[2022-06-14 14:55:28,713] INFO | darts.models.forecasting.torch_forecasting_model | Train dataset contains 2731 samples.\n",
      "[2022-06-14 14:55:28,713] INFO | darts.models.forecasting.torch_forecasting_model | Train dataset contains 2731 samples.\n",
      "2022-06-14 14:55:28 darts.models.forecasting.torch_forecasting_model INFO: Train dataset contains 2731 samples.\n",
      "[2022-06-14 14:55:28,743] INFO | darts.models.forecasting.torch_forecasting_model | Time series values are 64-bits; casting model to float64.\n",
      "[2022-06-14 14:55:28,743] INFO | darts.models.forecasting.torch_forecasting_model | Time series values are 64-bits; casting model to float64.\n",
      "2022-06-14 14:55:28 darts.models.forecasting.torch_forecasting_model INFO: Time series values are 64-bits; casting model to float64.\n",
      "2022-06-14 14:55:28 pytorch_lightning.utilities.rank_zero INFO: GPU available: False, used: False\n",
      "2022-06-14 14:55:28 pytorch_lightning.utilities.rank_zero INFO: TPU available: False, using: 0 TPU cores\n",
      "2022-06-14 14:55:28 pytorch_lightning.utilities.rank_zero INFO: IPU available: False, using: 0 IPUs\n",
      "2022-06-14 14:55:28 pytorch_lightning.utilities.rank_zero INFO: HPU available: False, using: 0 HPUs\n",
      "2022-06-14 14:55:28 pytorch_lightning.callbacks.model_summary INFO: \n",
      "  | Name      | Type       | Params\n",
      "-----------------------------------------\n",
      "0 | criterion | MSELoss    | 0     \n",
      "1 | stacks    | ModuleList | 8.5 M \n",
      "-----------------------------------------\n",
      "8.5 M     Trainable params\n",
      "3.2 K     Non-trainable params\n",
      "8.5 M     Total params\n",
      "67.633    Total estimated model params size (MB)\n"
     ]
    },
    {
     "data": {
      "application/vnd.jupyter.widget-view+json": {
       "model_id": "efb15b6c7c2348f9a7e86acc6d13a1ed",
       "version_major": 2,
       "version_minor": 0
      },
      "text/plain": [
       "Training: 0it [00:00, ?it/s]"
      ]
     },
     "metadata": {},
     "output_type": "display_data"
    },
    {
     "data": {
      "application/vnd.jupyter.widget-view+json": {
       "model_id": "1747ecb1dc484ffc9c3a71deafe5ff16",
       "version_major": 2,
       "version_minor": 0
      },
      "text/plain": [
       "Predicting: 11it [00:00, ?it/s]"
      ]
     },
     "metadata": {},
     "output_type": "display_data"
    },
    {
     "name": "stderr",
     "output_type": "stream",
     "text": [
      "[2022-06-14 14:55:34,641] INFO | darts.models.forecasting.torch_forecasting_model | Train dataset contains 2676 samples.\n",
      "[2022-06-14 14:55:34,641] INFO | darts.models.forecasting.torch_forecasting_model | Train dataset contains 2676 samples.\n",
      "2022-06-14 14:55:34 darts.models.forecasting.torch_forecasting_model INFO: Train dataset contains 2676 samples.\n",
      "[2022-06-14 14:55:34,669] INFO | darts.models.forecasting.torch_forecasting_model | Time series values are 64-bits; casting model to float64.\n",
      "[2022-06-14 14:55:34,669] INFO | darts.models.forecasting.torch_forecasting_model | Time series values are 64-bits; casting model to float64.\n",
      "2022-06-14 14:55:34 darts.models.forecasting.torch_forecasting_model INFO: Time series values are 64-bits; casting model to float64.\n",
      "2022-06-14 14:55:34 pytorch_lightning.utilities.rank_zero INFO: GPU available: False, used: False\n",
      "2022-06-14 14:55:34 pytorch_lightning.utilities.rank_zero INFO: TPU available: False, using: 0 TPU cores\n",
      "2022-06-14 14:55:34 pytorch_lightning.utilities.rank_zero INFO: IPU available: False, using: 0 IPUs\n",
      "2022-06-14 14:55:34 pytorch_lightning.utilities.rank_zero INFO: HPU available: False, using: 0 HPUs\n",
      "2022-06-14 14:55:34 pytorch_lightning.callbacks.model_summary INFO: \n",
      "  | Name      | Type       | Params\n",
      "-----------------------------------------\n",
      "0 | criterion | MSELoss    | 0     \n",
      "1 | stacks    | ModuleList | 8.5 M \n",
      "-----------------------------------------\n",
      "8.5 M     Trainable params\n",
      "3.2 K     Non-trainable params\n",
      "8.5 M     Total params\n",
      "67.633    Total estimated model params size (MB)\n"
     ]
    },
    {
     "data": {
      "application/vnd.jupyter.widget-view+json": {
       "model_id": "510d1aff47194b47aba35dbf264944c7",
       "version_major": 2,
       "version_minor": 0
      },
      "text/plain": [
       "Training: 0it [00:00, ?it/s]"
      ]
     },
     "metadata": {},
     "output_type": "display_data"
    },
    {
     "data": {
      "application/vnd.jupyter.widget-view+json": {
       "model_id": "19ac42bec8b345bc9e09833aa86c04d4",
       "version_major": 2,
       "version_minor": 0
      },
      "text/plain": [
       "Predicting: 11it [00:00, ?it/s]"
      ]
     },
     "metadata": {},
     "output_type": "display_data"
    },
    {
     "name": "stderr",
     "output_type": "stream",
     "text": [
      "[2022-06-14 14:55:40,631] INFO | darts.models.forecasting.torch_forecasting_model | Train dataset contains 2636 samples.\n",
      "[2022-06-14 14:55:40,631] INFO | darts.models.forecasting.torch_forecasting_model | Train dataset contains 2636 samples.\n",
      "2022-06-14 14:55:40 darts.models.forecasting.torch_forecasting_model INFO: Train dataset contains 2636 samples.\n",
      "[2022-06-14 14:55:40,671] INFO | darts.models.forecasting.torch_forecasting_model | Time series values are 64-bits; casting model to float64.\n",
      "[2022-06-14 14:55:40,671] INFO | darts.models.forecasting.torch_forecasting_model | Time series values are 64-bits; casting model to float64.\n",
      "2022-06-14 14:55:40 darts.models.forecasting.torch_forecasting_model INFO: Time series values are 64-bits; casting model to float64.\n",
      "2022-06-14 14:55:40 pytorch_lightning.utilities.rank_zero INFO: GPU available: False, used: False\n",
      "2022-06-14 14:55:40 pytorch_lightning.utilities.rank_zero INFO: TPU available: False, using: 0 TPU cores\n",
      "2022-06-14 14:55:40 pytorch_lightning.utilities.rank_zero INFO: IPU available: False, using: 0 IPUs\n",
      "2022-06-14 14:55:40 pytorch_lightning.utilities.rank_zero INFO: HPU available: False, using: 0 HPUs\n",
      "2022-06-14 14:55:40 pytorch_lightning.callbacks.model_summary INFO: \n",
      "  | Name      | Type       | Params\n",
      "-----------------------------------------\n",
      "0 | criterion | MSELoss    | 0     \n",
      "1 | stacks    | ModuleList | 8.5 M \n",
      "-----------------------------------------\n",
      "8.5 M     Trainable params\n",
      "3.2 K     Non-trainable params\n",
      "8.5 M     Total params\n",
      "67.633    Total estimated model params size (MB)\n"
     ]
    },
    {
     "data": {
      "application/vnd.jupyter.widget-view+json": {
       "model_id": "fa6a135e19ca4656afa826e4717aa3e7",
       "version_major": 2,
       "version_minor": 0
      },
      "text/plain": [
       "Training: 0it [00:00, ?it/s]"
      ]
     },
     "metadata": {},
     "output_type": "display_data"
    },
    {
     "data": {
      "application/vnd.jupyter.widget-view+json": {
       "model_id": "03e04a5645284817806fb2b28f38f023",
       "version_major": 2,
       "version_minor": 0
      },
      "text/plain": [
       "Predicting: 11it [00:00, ?it/s]"
      ]
     },
     "metadata": {},
     "output_type": "display_data"
    },
    {
     "name": "stderr",
     "output_type": "stream",
     "text": [
      "[2022-06-14 14:55:46,620] INFO | darts.models.forecasting.torch_forecasting_model | Train dataset contains 2636 samples.\n",
      "[2022-06-14 14:55:46,620] INFO | darts.models.forecasting.torch_forecasting_model | Train dataset contains 2636 samples.\n",
      "2022-06-14 14:55:46 darts.models.forecasting.torch_forecasting_model INFO: Train dataset contains 2636 samples.\n",
      "[2022-06-14 14:55:46,667] INFO | darts.models.forecasting.torch_forecasting_model | Time series values are 64-bits; casting model to float64.\n",
      "[2022-06-14 14:55:46,667] INFO | darts.models.forecasting.torch_forecasting_model | Time series values are 64-bits; casting model to float64.\n",
      "2022-06-14 14:55:46 darts.models.forecasting.torch_forecasting_model INFO: Time series values are 64-bits; casting model to float64.\n",
      "2022-06-14 14:55:46 pytorch_lightning.utilities.rank_zero INFO: GPU available: False, used: False\n",
      "2022-06-14 14:55:46 pytorch_lightning.utilities.rank_zero INFO: TPU available: False, using: 0 TPU cores\n",
      "2022-06-14 14:55:46 pytorch_lightning.utilities.rank_zero INFO: IPU available: False, using: 0 IPUs\n",
      "2022-06-14 14:55:46 pytorch_lightning.utilities.rank_zero INFO: HPU available: False, using: 0 HPUs\n",
      "2022-06-14 14:55:46 pytorch_lightning.callbacks.model_summary INFO: \n",
      "  | Name      | Type       | Params\n",
      "-----------------------------------------\n",
      "0 | criterion | MSELoss    | 0     \n",
      "1 | stacks    | ModuleList | 8.5 M \n",
      "-----------------------------------------\n",
      "8.5 M     Trainable params\n",
      "3.2 K     Non-trainable params\n",
      "8.5 M     Total params\n",
      "67.633    Total estimated model params size (MB)\n"
     ]
    },
    {
     "data": {
      "application/vnd.jupyter.widget-view+json": {
       "model_id": "97f0fa988b3546b5a12790b6c19ad724",
       "version_major": 2,
       "version_minor": 0
      },
      "text/plain": [
       "Training: 0it [00:00, ?it/s]"
      ]
     },
     "metadata": {},
     "output_type": "display_data"
    },
    {
     "data": {
      "application/vnd.jupyter.widget-view+json": {
       "model_id": "157e6986db9d4e58a434cae43af780c6",
       "version_major": 2,
       "version_minor": 0
      },
      "text/plain": [
       "Predicting: 11it [00:00, ?it/s]"
      ]
     },
     "metadata": {},
     "output_type": "display_data"
    },
    {
     "name": "stderr",
     "output_type": "stream",
     "text": [
      "[2022-06-14 14:55:52,517] INFO | darts.models.forecasting.torch_forecasting_model | Train dataset contains 2636 samples.\n",
      "[2022-06-14 14:55:52,517] INFO | darts.models.forecasting.torch_forecasting_model | Train dataset contains 2636 samples.\n",
      "2022-06-14 14:55:52 darts.models.forecasting.torch_forecasting_model INFO: Train dataset contains 2636 samples.\n",
      "[2022-06-14 14:55:52,546] INFO | darts.models.forecasting.torch_forecasting_model | Time series values are 64-bits; casting model to float64.\n",
      "[2022-06-14 14:55:52,546] INFO | darts.models.forecasting.torch_forecasting_model | Time series values are 64-bits; casting model to float64.\n",
      "2022-06-14 14:55:52 darts.models.forecasting.torch_forecasting_model INFO: Time series values are 64-bits; casting model to float64.\n",
      "2022-06-14 14:55:52 pytorch_lightning.utilities.rank_zero INFO: GPU available: False, used: False\n",
      "2022-06-14 14:55:52 pytorch_lightning.utilities.rank_zero INFO: TPU available: False, using: 0 TPU cores\n",
      "2022-06-14 14:55:52 pytorch_lightning.utilities.rank_zero INFO: IPU available: False, using: 0 IPUs\n",
      "2022-06-14 14:55:52 pytorch_lightning.utilities.rank_zero INFO: HPU available: False, using: 0 HPUs\n",
      "2022-06-14 14:55:52 pytorch_lightning.callbacks.model_summary INFO: \n",
      "  | Name      | Type       | Params\n",
      "-----------------------------------------\n",
      "0 | criterion | MSELoss    | 0     \n",
      "1 | stacks    | ModuleList | 8.5 M \n",
      "-----------------------------------------\n",
      "8.5 M     Trainable params\n",
      "3.2 K     Non-trainable params\n",
      "8.5 M     Total params\n",
      "67.633    Total estimated model params size (MB)\n"
     ]
    },
    {
     "data": {
      "application/vnd.jupyter.widget-view+json": {
       "model_id": "917dda5485ad40649ad6d76860808880",
       "version_major": 2,
       "version_minor": 0
      },
      "text/plain": [
       "Training: 0it [00:00, ?it/s]"
      ]
     },
     "metadata": {},
     "output_type": "display_data"
    },
    {
     "data": {
      "application/vnd.jupyter.widget-view+json": {
       "model_id": "73a01567190f4460879051730ae7f003",
       "version_major": 2,
       "version_minor": 0
      },
      "text/plain": [
       "Predicting: 11it [00:00, ?it/s]"
      ]
     },
     "metadata": {},
     "output_type": "display_data"
    },
    {
     "name": "stderr",
     "output_type": "stream",
     "text": [
      "[2022-06-14 14:55:58,249] INFO | darts.models.forecasting.torch_forecasting_model | Train dataset contains 2636 samples.\n",
      "[2022-06-14 14:55:58,249] INFO | darts.models.forecasting.torch_forecasting_model | Train dataset contains 2636 samples.\n",
      "2022-06-14 14:55:58 darts.models.forecasting.torch_forecasting_model INFO: Train dataset contains 2636 samples.\n",
      "[2022-06-14 14:55:58,283] INFO | darts.models.forecasting.torch_forecasting_model | Time series values are 64-bits; casting model to float64.\n",
      "[2022-06-14 14:55:58,283] INFO | darts.models.forecasting.torch_forecasting_model | Time series values are 64-bits; casting model to float64.\n",
      "2022-06-14 14:55:58 darts.models.forecasting.torch_forecasting_model INFO: Time series values are 64-bits; casting model to float64.\n",
      "2022-06-14 14:55:58 pytorch_lightning.utilities.rank_zero INFO: GPU available: False, used: False\n",
      "2022-06-14 14:55:58 pytorch_lightning.utilities.rank_zero INFO: TPU available: False, using: 0 TPU cores\n",
      "2022-06-14 14:55:58 pytorch_lightning.utilities.rank_zero INFO: IPU available: False, using: 0 IPUs\n",
      "2022-06-14 14:55:58 pytorch_lightning.utilities.rank_zero INFO: HPU available: False, using: 0 HPUs\n",
      "2022-06-14 14:55:58 pytorch_lightning.callbacks.model_summary INFO: \n",
      "  | Name      | Type       | Params\n",
      "-----------------------------------------\n",
      "0 | criterion | MSELoss    | 0     \n",
      "1 | stacks    | ModuleList | 8.5 M \n",
      "-----------------------------------------\n",
      "8.5 M     Trainable params\n",
      "3.2 K     Non-trainable params\n",
      "8.5 M     Total params\n",
      "67.633    Total estimated model params size (MB)\n"
     ]
    },
    {
     "data": {
      "application/vnd.jupyter.widget-view+json": {
       "model_id": "4982bda4b9b047c09c4f867dfe05fcae",
       "version_major": 2,
       "version_minor": 0
      },
      "text/plain": [
       "Training: 0it [00:00, ?it/s]"
      ]
     },
     "metadata": {},
     "output_type": "display_data"
    },
    {
     "data": {
      "application/vnd.jupyter.widget-view+json": {
       "model_id": "5b612930c709492fa0ef3491aa893a99",
       "version_major": 2,
       "version_minor": 0
      },
      "text/plain": [
       "Predicting: 11it [00:00, ?it/s]"
      ]
     },
     "metadata": {},
     "output_type": "display_data"
    },
    {
     "name": "stderr",
     "output_type": "stream",
     "text": [
      "[2022-06-14 14:56:03,983] INFO | darts.models.forecasting.torch_forecasting_model | Train dataset contains 2636 samples.\n",
      "[2022-06-14 14:56:03,983] INFO | darts.models.forecasting.torch_forecasting_model | Train dataset contains 2636 samples.\n",
      "2022-06-14 14:56:03 darts.models.forecasting.torch_forecasting_model INFO: Train dataset contains 2636 samples.\n",
      "[2022-06-14 14:56:04,012] INFO | darts.models.forecasting.torch_forecasting_model | Time series values are 64-bits; casting model to float64.\n",
      "[2022-06-14 14:56:04,012] INFO | darts.models.forecasting.torch_forecasting_model | Time series values are 64-bits; casting model to float64.\n",
      "2022-06-14 14:56:04 darts.models.forecasting.torch_forecasting_model INFO: Time series values are 64-bits; casting model to float64.\n",
      "2022-06-14 14:56:04 pytorch_lightning.utilities.rank_zero INFO: GPU available: False, used: False\n",
      "2022-06-14 14:56:04 pytorch_lightning.utilities.rank_zero INFO: TPU available: False, using: 0 TPU cores\n",
      "2022-06-14 14:56:04 pytorch_lightning.utilities.rank_zero INFO: IPU available: False, using: 0 IPUs\n",
      "2022-06-14 14:56:04 pytorch_lightning.utilities.rank_zero INFO: HPU available: False, using: 0 HPUs\n",
      "2022-06-14 14:56:04 pytorch_lightning.callbacks.model_summary INFO: \n",
      "  | Name      | Type       | Params\n",
      "-----------------------------------------\n",
      "0 | criterion | MSELoss    | 0     \n",
      "1 | stacks    | ModuleList | 8.5 M \n",
      "-----------------------------------------\n",
      "8.5 M     Trainable params\n",
      "3.2 K     Non-trainable params\n",
      "8.5 M     Total params\n",
      "67.633    Total estimated model params size (MB)\n"
     ]
    },
    {
     "data": {
      "application/vnd.jupyter.widget-view+json": {
       "model_id": "7167766cefa4475fbcb017cdf7ac0dfa",
       "version_major": 2,
       "version_minor": 0
      },
      "text/plain": [
       "Training: 0it [00:00, ?it/s]"
      ]
     },
     "metadata": {},
     "output_type": "display_data"
    },
    {
     "data": {
      "application/vnd.jupyter.widget-view+json": {
       "model_id": "4244cd5fe9204a0a9ca8e3211b5d331f",
       "version_major": 2,
       "version_minor": 0
      },
      "text/plain": [
       "Predicting: 11it [00:00, ?it/s]"
      ]
     },
     "metadata": {},
     "output_type": "display_data"
    },
    {
     "name": "stderr",
     "output_type": "stream",
     "text": [
      "[2022-06-14 14:56:09,641] INFO | darts.models.forecasting.torch_forecasting_model | Train dataset contains 2639 samples.\n",
      "[2022-06-14 14:56:09,641] INFO | darts.models.forecasting.torch_forecasting_model | Train dataset contains 2639 samples.\n",
      "2022-06-14 14:56:09 darts.models.forecasting.torch_forecasting_model INFO: Train dataset contains 2639 samples.\n",
      "[2022-06-14 14:56:09,669] INFO | darts.models.forecasting.torch_forecasting_model | Time series values are 64-bits; casting model to float64.\n",
      "[2022-06-14 14:56:09,669] INFO | darts.models.forecasting.torch_forecasting_model | Time series values are 64-bits; casting model to float64.\n",
      "2022-06-14 14:56:09 darts.models.forecasting.torch_forecasting_model INFO: Time series values are 64-bits; casting model to float64.\n",
      "2022-06-14 14:56:09 pytorch_lightning.utilities.rank_zero INFO: GPU available: False, used: False\n",
      "2022-06-14 14:56:09 pytorch_lightning.utilities.rank_zero INFO: TPU available: False, using: 0 TPU cores\n",
      "2022-06-14 14:56:09 pytorch_lightning.utilities.rank_zero INFO: IPU available: False, using: 0 IPUs\n",
      "2022-06-14 14:56:09 pytorch_lightning.utilities.rank_zero INFO: HPU available: False, using: 0 HPUs\n",
      "2022-06-14 14:56:09 pytorch_lightning.callbacks.model_summary INFO: \n",
      "  | Name      | Type       | Params\n",
      "-----------------------------------------\n",
      "0 | criterion | MSELoss    | 0     \n",
      "1 | stacks    | ModuleList | 8.5 M \n",
      "-----------------------------------------\n",
      "8.5 M     Trainable params\n",
      "3.2 K     Non-trainable params\n",
      "8.5 M     Total params\n",
      "67.633    Total estimated model params size (MB)\n"
     ]
    },
    {
     "data": {
      "application/vnd.jupyter.widget-view+json": {
       "model_id": "ea5c43168b3b43b9bb1e84c31bf6905f",
       "version_major": 2,
       "version_minor": 0
      },
      "text/plain": [
       "Training: 0it [00:00, ?it/s]"
      ]
     },
     "metadata": {},
     "output_type": "display_data"
    },
    {
     "data": {
      "application/vnd.jupyter.widget-view+json": {
       "model_id": "19c2e31d801e4f37ad21d60ad0c7c280",
       "version_major": 2,
       "version_minor": 0
      },
      "text/plain": [
       "Predicting: 11it [00:00, ?it/s]"
      ]
     },
     "metadata": {},
     "output_type": "display_data"
    },
    {
     "name": "stderr",
     "output_type": "stream",
     "text": [
      "[2022-06-14 14:56:15,316] INFO | darts.models.forecasting.torch_forecasting_model | Train dataset contains 2663 samples.\n",
      "[2022-06-14 14:56:15,316] INFO | darts.models.forecasting.torch_forecasting_model | Train dataset contains 2663 samples.\n",
      "2022-06-14 14:56:15 darts.models.forecasting.torch_forecasting_model INFO: Train dataset contains 2663 samples.\n",
      "[2022-06-14 14:56:15,345] INFO | darts.models.forecasting.torch_forecasting_model | Time series values are 64-bits; casting model to float64.\n",
      "[2022-06-14 14:56:15,345] INFO | darts.models.forecasting.torch_forecasting_model | Time series values are 64-bits; casting model to float64.\n",
      "2022-06-14 14:56:15 darts.models.forecasting.torch_forecasting_model INFO: Time series values are 64-bits; casting model to float64.\n",
      "2022-06-14 14:56:15 pytorch_lightning.utilities.rank_zero INFO: GPU available: False, used: False\n",
      "2022-06-14 14:56:15 pytorch_lightning.utilities.rank_zero INFO: TPU available: False, using: 0 TPU cores\n",
      "2022-06-14 14:56:15 pytorch_lightning.utilities.rank_zero INFO: IPU available: False, using: 0 IPUs\n",
      "2022-06-14 14:56:15 pytorch_lightning.utilities.rank_zero INFO: HPU available: False, using: 0 HPUs\n",
      "2022-06-14 14:56:15 pytorch_lightning.callbacks.model_summary INFO: \n",
      "  | Name      | Type       | Params\n",
      "-----------------------------------------\n",
      "0 | criterion | MSELoss    | 0     \n",
      "1 | stacks    | ModuleList | 8.5 M \n",
      "-----------------------------------------\n",
      "8.5 M     Trainable params\n",
      "3.2 K     Non-trainable params\n",
      "8.5 M     Total params\n",
      "67.633    Total estimated model params size (MB)\n"
     ]
    },
    {
     "data": {
      "application/vnd.jupyter.widget-view+json": {
       "model_id": "4cb9cc81d83043c39b453d1e4bb48569",
       "version_major": 2,
       "version_minor": 0
      },
      "text/plain": [
       "Training: 0it [00:00, ?it/s]"
      ]
     },
     "metadata": {},
     "output_type": "display_data"
    },
    {
     "data": {
      "application/vnd.jupyter.widget-view+json": {
       "model_id": "b0ba2749bd324627a8d8d8daaa613226",
       "version_major": 2,
       "version_minor": 0
      },
      "text/plain": [
       "Predicting: 11it [00:00, ?it/s]"
      ]
     },
     "metadata": {},
     "output_type": "display_data"
    },
    {
     "name": "stderr",
     "output_type": "stream",
     "text": [
      "[2022-06-14 14:56:21,026] INFO | darts.models.forecasting.torch_forecasting_model | Train dataset contains 2663 samples.\n",
      "[2022-06-14 14:56:21,026] INFO | darts.models.forecasting.torch_forecasting_model | Train dataset contains 2663 samples.\n",
      "2022-06-14 14:56:21 darts.models.forecasting.torch_forecasting_model INFO: Train dataset contains 2663 samples.\n",
      "[2022-06-14 14:56:21,074] INFO | darts.models.forecasting.torch_forecasting_model | Time series values are 64-bits; casting model to float64.\n",
      "[2022-06-14 14:56:21,074] INFO | darts.models.forecasting.torch_forecasting_model | Time series values are 64-bits; casting model to float64.\n",
      "2022-06-14 14:56:21 darts.models.forecasting.torch_forecasting_model INFO: Time series values are 64-bits; casting model to float64.\n",
      "2022-06-14 14:56:21 pytorch_lightning.utilities.rank_zero INFO: GPU available: False, used: False\n",
      "2022-06-14 14:56:21 pytorch_lightning.utilities.rank_zero INFO: TPU available: False, using: 0 TPU cores\n",
      "2022-06-14 14:56:21 pytorch_lightning.utilities.rank_zero INFO: IPU available: False, using: 0 IPUs\n",
      "2022-06-14 14:56:21 pytorch_lightning.utilities.rank_zero INFO: HPU available: False, using: 0 HPUs\n",
      "2022-06-14 14:56:21 pytorch_lightning.callbacks.model_summary INFO: \n",
      "  | Name      | Type       | Params\n",
      "-----------------------------------------\n",
      "0 | criterion | MSELoss    | 0     \n",
      "1 | stacks    | ModuleList | 8.5 M \n",
      "-----------------------------------------\n",
      "8.5 M     Trainable params\n",
      "3.2 K     Non-trainable params\n",
      "8.5 M     Total params\n",
      "67.633    Total estimated model params size (MB)\n"
     ]
    },
    {
     "data": {
      "application/vnd.jupyter.widget-view+json": {
       "model_id": "a456744a37b14288934bed4492047591",
       "version_major": 2,
       "version_minor": 0
      },
      "text/plain": [
       "Training: 0it [00:00, ?it/s]"
      ]
     },
     "metadata": {},
     "output_type": "display_data"
    },
    {
     "data": {
      "application/vnd.jupyter.widget-view+json": {
       "model_id": "95945d99e4c54c928cff8fcf5fb6b105",
       "version_major": 2,
       "version_minor": 0
      },
      "text/plain": [
       "Predicting: 11it [00:00, ?it/s]"
      ]
     },
     "metadata": {},
     "output_type": "display_data"
    },
    {
     "name": "stderr",
     "output_type": "stream",
     "text": [
      "[2022-06-14 14:56:26,820] INFO | darts.models.forecasting.torch_forecasting_model | Train dataset contains 2663 samples.\n",
      "[2022-06-14 14:56:26,820] INFO | darts.models.forecasting.torch_forecasting_model | Train dataset contains 2663 samples.\n",
      "2022-06-14 14:56:26 darts.models.forecasting.torch_forecasting_model INFO: Train dataset contains 2663 samples.\n",
      "[2022-06-14 14:56:26,849] INFO | darts.models.forecasting.torch_forecasting_model | Time series values are 64-bits; casting model to float64.\n",
      "[2022-06-14 14:56:26,849] INFO | darts.models.forecasting.torch_forecasting_model | Time series values are 64-bits; casting model to float64.\n",
      "2022-06-14 14:56:26 darts.models.forecasting.torch_forecasting_model INFO: Time series values are 64-bits; casting model to float64.\n",
      "2022-06-14 14:56:26 pytorch_lightning.utilities.rank_zero INFO: GPU available: False, used: False\n",
      "2022-06-14 14:56:26 pytorch_lightning.utilities.rank_zero INFO: TPU available: False, using: 0 TPU cores\n",
      "2022-06-14 14:56:26 pytorch_lightning.utilities.rank_zero INFO: IPU available: False, using: 0 IPUs\n",
      "2022-06-14 14:56:26 pytorch_lightning.utilities.rank_zero INFO: HPU available: False, using: 0 HPUs\n",
      "2022-06-14 14:56:26 pytorch_lightning.callbacks.model_summary INFO: \n",
      "  | Name      | Type       | Params\n",
      "-----------------------------------------\n",
      "0 | criterion | MSELoss    | 0     \n",
      "1 | stacks    | ModuleList | 8.5 M \n",
      "-----------------------------------------\n",
      "8.5 M     Trainable params\n",
      "3.2 K     Non-trainable params\n",
      "8.5 M     Total params\n",
      "67.633    Total estimated model params size (MB)\n"
     ]
    },
    {
     "data": {
      "application/vnd.jupyter.widget-view+json": {
       "model_id": "c2f5a97c591d4bc39fadb1e93283fee9",
       "version_major": 2,
       "version_minor": 0
      },
      "text/plain": [
       "Training: 0it [00:00, ?it/s]"
      ]
     },
     "metadata": {},
     "output_type": "display_data"
    },
    {
     "data": {
      "application/vnd.jupyter.widget-view+json": {
       "model_id": "dd67b8879088457d90ad036c6638f81b",
       "version_major": 2,
       "version_minor": 0
      },
      "text/plain": [
       "Predicting: 11it [00:00, ?it/s]"
      ]
     },
     "metadata": {},
     "output_type": "display_data"
    },
    {
     "name": "stderr",
     "output_type": "stream",
     "text": [
      "[2022-06-14 14:56:32,608] INFO | darts.models.forecasting.torch_forecasting_model | Train dataset contains 2663 samples.\n",
      "[2022-06-14 14:56:32,608] INFO | darts.models.forecasting.torch_forecasting_model | Train dataset contains 2663 samples.\n",
      "2022-06-14 14:56:32 darts.models.forecasting.torch_forecasting_model INFO: Train dataset contains 2663 samples.\n",
      "[2022-06-14 14:56:32,637] INFO | darts.models.forecasting.torch_forecasting_model | Time series values are 64-bits; casting model to float64.\n",
      "[2022-06-14 14:56:32,637] INFO | darts.models.forecasting.torch_forecasting_model | Time series values are 64-bits; casting model to float64.\n",
      "2022-06-14 14:56:32 darts.models.forecasting.torch_forecasting_model INFO: Time series values are 64-bits; casting model to float64.\n",
      "2022-06-14 14:56:32 pytorch_lightning.utilities.rank_zero INFO: GPU available: False, used: False\n",
      "2022-06-14 14:56:32 pytorch_lightning.utilities.rank_zero INFO: TPU available: False, using: 0 TPU cores\n",
      "2022-06-14 14:56:32 pytorch_lightning.utilities.rank_zero INFO: IPU available: False, using: 0 IPUs\n",
      "2022-06-14 14:56:32 pytorch_lightning.utilities.rank_zero INFO: HPU available: False, using: 0 HPUs\n",
      "2022-06-14 14:56:32 pytorch_lightning.callbacks.model_summary INFO: \n",
      "  | Name      | Type       | Params\n",
      "-----------------------------------------\n",
      "0 | criterion | MSELoss    | 0     \n",
      "1 | stacks    | ModuleList | 8.5 M \n",
      "-----------------------------------------\n",
      "8.5 M     Trainable params\n",
      "3.2 K     Non-trainable params\n",
      "8.5 M     Total params\n",
      "67.633    Total estimated model params size (MB)\n"
     ]
    },
    {
     "data": {
      "application/vnd.jupyter.widget-view+json": {
       "model_id": "1c5c23cb172d4ed5bf3d862ba6f9f7ce",
       "version_major": 2,
       "version_minor": 0
      },
      "text/plain": [
       "Training: 0it [00:00, ?it/s]"
      ]
     },
     "metadata": {},
     "output_type": "display_data"
    },
    {
     "data": {
      "application/vnd.jupyter.widget-view+json": {
       "model_id": "f488d00bea1d4e7598acde458d676ec3",
       "version_major": 2,
       "version_minor": 0
      },
      "text/plain": [
       "Predicting: 11it [00:00, ?it/s]"
      ]
     },
     "metadata": {},
     "output_type": "display_data"
    },
    {
     "name": "stderr",
     "output_type": "stream",
     "text": [
      "[2022-06-14 14:56:38,441] INFO | darts.models.forecasting.torch_forecasting_model | Train dataset contains 2663 samples.\n",
      "[2022-06-14 14:56:38,441] INFO | darts.models.forecasting.torch_forecasting_model | Train dataset contains 2663 samples.\n",
      "2022-06-14 14:56:38 darts.models.forecasting.torch_forecasting_model INFO: Train dataset contains 2663 samples.\n",
      "[2022-06-14 14:56:38,472] INFO | darts.models.forecasting.torch_forecasting_model | Time series values are 64-bits; casting model to float64.\n",
      "[2022-06-14 14:56:38,472] INFO | darts.models.forecasting.torch_forecasting_model | Time series values are 64-bits; casting model to float64.\n",
      "2022-06-14 14:56:38 darts.models.forecasting.torch_forecasting_model INFO: Time series values are 64-bits; casting model to float64.\n",
      "2022-06-14 14:56:38 pytorch_lightning.utilities.rank_zero INFO: GPU available: False, used: False\n",
      "2022-06-14 14:56:38 pytorch_lightning.utilities.rank_zero INFO: TPU available: False, using: 0 TPU cores\n",
      "2022-06-14 14:56:38 pytorch_lightning.utilities.rank_zero INFO: IPU available: False, using: 0 IPUs\n",
      "2022-06-14 14:56:38 pytorch_lightning.utilities.rank_zero INFO: HPU available: False, using: 0 HPUs\n",
      "2022-06-14 14:56:38 pytorch_lightning.callbacks.model_summary INFO: \n",
      "  | Name      | Type       | Params\n",
      "-----------------------------------------\n",
      "0 | criterion | MSELoss    | 0     \n",
      "1 | stacks    | ModuleList | 8.5 M \n",
      "-----------------------------------------\n",
      "8.5 M     Trainable params\n",
      "3.2 K     Non-trainable params\n",
      "8.5 M     Total params\n",
      "67.633    Total estimated model params size (MB)\n"
     ]
    },
    {
     "data": {
      "application/vnd.jupyter.widget-view+json": {
       "model_id": "997b9f5e30004fb881b415a32f2527b8",
       "version_major": 2,
       "version_minor": 0
      },
      "text/plain": [
       "Training: 0it [00:00, ?it/s]"
      ]
     },
     "metadata": {},
     "output_type": "display_data"
    },
    {
     "data": {
      "application/vnd.jupyter.widget-view+json": {
       "model_id": "f2a8219913a14eaa9429527b4bdeeb77",
       "version_major": 2,
       "version_minor": 0
      },
      "text/plain": [
       "Predicting: 11it [00:00, ?it/s]"
      ]
     },
     "metadata": {},
     "output_type": "display_data"
    },
    {
     "name": "stderr",
     "output_type": "stream",
     "text": [
      "[2022-06-14 14:56:44,624] INFO | darts.models.forecasting.torch_forecasting_model | Train dataset contains 2409 samples.\n",
      "[2022-06-14 14:56:44,624] INFO | darts.models.forecasting.torch_forecasting_model | Train dataset contains 2409 samples.\n",
      "2022-06-14 14:56:44 darts.models.forecasting.torch_forecasting_model INFO: Train dataset contains 2409 samples.\n",
      "[2022-06-14 14:56:44,654] INFO | darts.models.forecasting.torch_forecasting_model | Time series values are 64-bits; casting model to float64.\n",
      "[2022-06-14 14:56:44,654] INFO | darts.models.forecasting.torch_forecasting_model | Time series values are 64-bits; casting model to float64.\n",
      "2022-06-14 14:56:44 darts.models.forecasting.torch_forecasting_model INFO: Time series values are 64-bits; casting model to float64.\n",
      "2022-06-14 14:56:44 pytorch_lightning.utilities.rank_zero INFO: GPU available: False, used: False\n",
      "2022-06-14 14:56:44 pytorch_lightning.utilities.rank_zero INFO: TPU available: False, using: 0 TPU cores\n",
      "2022-06-14 14:56:44 pytorch_lightning.utilities.rank_zero INFO: IPU available: False, using: 0 IPUs\n",
      "2022-06-14 14:56:44 pytorch_lightning.utilities.rank_zero INFO: HPU available: False, using: 0 HPUs\n",
      "2022-06-14 14:56:44 pytorch_lightning.callbacks.model_summary INFO: \n",
      "  | Name      | Type       | Params\n",
      "-----------------------------------------\n",
      "0 | criterion | MSELoss    | 0     \n",
      "1 | stacks    | ModuleList | 8.5 M \n",
      "-----------------------------------------\n",
      "8.5 M     Trainable params\n",
      "3.2 K     Non-trainable params\n",
      "8.5 M     Total params\n",
      "67.633    Total estimated model params size (MB)\n"
     ]
    },
    {
     "data": {
      "application/vnd.jupyter.widget-view+json": {
       "model_id": "cb1f8849061340b0bd46061fa897b2bf",
       "version_major": 2,
       "version_minor": 0
      },
      "text/plain": [
       "Training: 0it [00:00, ?it/s]"
      ]
     },
     "metadata": {},
     "output_type": "display_data"
    },
    {
     "data": {
      "application/vnd.jupyter.widget-view+json": {
       "model_id": "845f9aaa61fa4cbcbe8a0804e35eae1e",
       "version_major": 2,
       "version_minor": 0
      },
      "text/plain": [
       "Predicting: 10it [00:00, ?it/s]"
      ]
     },
     "metadata": {},
     "output_type": "display_data"
    },
    {
     "name": "stderr",
     "output_type": "stream",
     "text": [
      "[2022-06-14 14:56:50,503] INFO | darts.models.forecasting.torch_forecasting_model | Train dataset contains 2668 samples.\n",
      "[2022-06-14 14:56:50,503] INFO | darts.models.forecasting.torch_forecasting_model | Train dataset contains 2668 samples.\n",
      "2022-06-14 14:56:50 darts.models.forecasting.torch_forecasting_model INFO: Train dataset contains 2668 samples.\n",
      "[2022-06-14 14:56:50,532] INFO | darts.models.forecasting.torch_forecasting_model | Time series values are 64-bits; casting model to float64.\n",
      "[2022-06-14 14:56:50,532] INFO | darts.models.forecasting.torch_forecasting_model | Time series values are 64-bits; casting model to float64.\n",
      "2022-06-14 14:56:50 darts.models.forecasting.torch_forecasting_model INFO: Time series values are 64-bits; casting model to float64.\n",
      "2022-06-14 14:56:50 pytorch_lightning.utilities.rank_zero INFO: GPU available: False, used: False\n",
      "2022-06-14 14:56:50 pytorch_lightning.utilities.rank_zero INFO: TPU available: False, using: 0 TPU cores\n",
      "2022-06-14 14:56:50 pytorch_lightning.utilities.rank_zero INFO: IPU available: False, using: 0 IPUs\n",
      "2022-06-14 14:56:50 pytorch_lightning.utilities.rank_zero INFO: HPU available: False, using: 0 HPUs\n",
      "2022-06-14 14:56:50 pytorch_lightning.callbacks.model_summary INFO: \n",
      "  | Name      | Type       | Params\n",
      "-----------------------------------------\n",
      "0 | criterion | MSELoss    | 0     \n",
      "1 | stacks    | ModuleList | 8.5 M \n",
      "-----------------------------------------\n",
      "8.5 M     Trainable params\n",
      "3.2 K     Non-trainable params\n",
      "8.5 M     Total params\n",
      "67.633    Total estimated model params size (MB)\n"
     ]
    },
    {
     "data": {
      "application/vnd.jupyter.widget-view+json": {
       "model_id": "8cdb7f6d61504d11beea6e85bebd54b0",
       "version_major": 2,
       "version_minor": 0
      },
      "text/plain": [
       "Training: 0it [00:00, ?it/s]"
      ]
     },
     "metadata": {},
     "output_type": "display_data"
    },
    {
     "data": {
      "application/vnd.jupyter.widget-view+json": {
       "model_id": "b1848bff3c5e4a1c9cb8f0d91c70ddce",
       "version_major": 2,
       "version_minor": 0
      },
      "text/plain": [
       "Predicting: 11it [00:00, ?it/s]"
      ]
     },
     "metadata": {},
     "output_type": "display_data"
    },
    {
     "name": "stderr",
     "output_type": "stream",
     "text": [
      "[2022-06-14 14:56:56,598] INFO | darts.models.forecasting.torch_forecasting_model | Train dataset contains 2668 samples.\n",
      "[2022-06-14 14:56:56,598] INFO | darts.models.forecasting.torch_forecasting_model | Train dataset contains 2668 samples.\n",
      "2022-06-14 14:56:56 darts.models.forecasting.torch_forecasting_model INFO: Train dataset contains 2668 samples.\n",
      "[2022-06-14 14:56:56,648] INFO | darts.models.forecasting.torch_forecasting_model | Time series values are 64-bits; casting model to float64.\n",
      "[2022-06-14 14:56:56,648] INFO | darts.models.forecasting.torch_forecasting_model | Time series values are 64-bits; casting model to float64.\n",
      "2022-06-14 14:56:56 darts.models.forecasting.torch_forecasting_model INFO: Time series values are 64-bits; casting model to float64.\n",
      "2022-06-14 14:56:56 pytorch_lightning.utilities.rank_zero INFO: GPU available: False, used: False\n",
      "2022-06-14 14:56:56 pytorch_lightning.utilities.rank_zero INFO: TPU available: False, using: 0 TPU cores\n",
      "2022-06-14 14:56:56 pytorch_lightning.utilities.rank_zero INFO: IPU available: False, using: 0 IPUs\n",
      "2022-06-14 14:56:56 pytorch_lightning.utilities.rank_zero INFO: HPU available: False, using: 0 HPUs\n",
      "2022-06-14 14:56:56 pytorch_lightning.callbacks.model_summary INFO: \n",
      "  | Name      | Type       | Params\n",
      "-----------------------------------------\n",
      "0 | criterion | MSELoss    | 0     \n",
      "1 | stacks    | ModuleList | 8.5 M \n",
      "-----------------------------------------\n",
      "8.5 M     Trainable params\n",
      "3.2 K     Non-trainable params\n",
      "8.5 M     Total params\n",
      "67.633    Total estimated model params size (MB)\n"
     ]
    },
    {
     "data": {
      "application/vnd.jupyter.widget-view+json": {
       "model_id": "b00b6152d1454473ab9c2795080dad76",
       "version_major": 2,
       "version_minor": 0
      },
      "text/plain": [
       "Training: 0it [00:00, ?it/s]"
      ]
     },
     "metadata": {},
     "output_type": "display_data"
    },
    {
     "data": {
      "application/vnd.jupyter.widget-view+json": {
       "model_id": "3607370645bc465da043c8ca275e0979",
       "version_major": 2,
       "version_minor": 0
      },
      "text/plain": [
       "Predicting: 11it [00:00, ?it/s]"
      ]
     },
     "metadata": {},
     "output_type": "display_data"
    },
    {
     "name": "stderr",
     "output_type": "stream",
     "text": [
      "[2022-06-14 14:57:02,754] INFO | darts.models.forecasting.torch_forecasting_model | Train dataset contains 2668 samples.\n",
      "[2022-06-14 14:57:02,754] INFO | darts.models.forecasting.torch_forecasting_model | Train dataset contains 2668 samples.\n",
      "2022-06-14 14:57:02 darts.models.forecasting.torch_forecasting_model INFO: Train dataset contains 2668 samples.\n",
      "[2022-06-14 14:57:02,783] INFO | darts.models.forecasting.torch_forecasting_model | Time series values are 64-bits; casting model to float64.\n",
      "[2022-06-14 14:57:02,783] INFO | darts.models.forecasting.torch_forecasting_model | Time series values are 64-bits; casting model to float64.\n",
      "2022-06-14 14:57:02 darts.models.forecasting.torch_forecasting_model INFO: Time series values are 64-bits; casting model to float64.\n",
      "2022-06-14 14:57:02 pytorch_lightning.utilities.rank_zero INFO: GPU available: False, used: False\n",
      "2022-06-14 14:57:02 pytorch_lightning.utilities.rank_zero INFO: TPU available: False, using: 0 TPU cores\n",
      "2022-06-14 14:57:02 pytorch_lightning.utilities.rank_zero INFO: IPU available: False, using: 0 IPUs\n",
      "2022-06-14 14:57:02 pytorch_lightning.utilities.rank_zero INFO: HPU available: False, using: 0 HPUs\n",
      "2022-06-14 14:57:02 pytorch_lightning.callbacks.model_summary INFO: \n",
      "  | Name      | Type       | Params\n",
      "-----------------------------------------\n",
      "0 | criterion | MSELoss    | 0     \n",
      "1 | stacks    | ModuleList | 8.5 M \n",
      "-----------------------------------------\n",
      "8.5 M     Trainable params\n",
      "3.2 K     Non-trainable params\n",
      "8.5 M     Total params\n",
      "67.633    Total estimated model params size (MB)\n"
     ]
    },
    {
     "data": {
      "application/vnd.jupyter.widget-view+json": {
       "model_id": "c09013fff6be4bf8a16fda1bc2639ddb",
       "version_major": 2,
       "version_minor": 0
      },
      "text/plain": [
       "Training: 0it [00:00, ?it/s]"
      ]
     },
     "metadata": {},
     "output_type": "display_data"
    },
    {
     "data": {
      "application/vnd.jupyter.widget-view+json": {
       "model_id": "efcd27066ded4694a9c0e8af75551788",
       "version_major": 2,
       "version_minor": 0
      },
      "text/plain": [
       "Predicting: 11it [00:00, ?it/s]"
      ]
     },
     "metadata": {},
     "output_type": "display_data"
    },
    {
     "name": "stderr",
     "output_type": "stream",
     "text": [
      "[2022-06-14 14:57:08,843] INFO | darts.models.forecasting.torch_forecasting_model | Train dataset contains 2668 samples.\n",
      "[2022-06-14 14:57:08,843] INFO | darts.models.forecasting.torch_forecasting_model | Train dataset contains 2668 samples.\n",
      "2022-06-14 14:57:08 darts.models.forecasting.torch_forecasting_model INFO: Train dataset contains 2668 samples.\n",
      "[2022-06-14 14:57:08,873] INFO | darts.models.forecasting.torch_forecasting_model | Time series values are 64-bits; casting model to float64.\n",
      "[2022-06-14 14:57:08,873] INFO | darts.models.forecasting.torch_forecasting_model | Time series values are 64-bits; casting model to float64.\n",
      "2022-06-14 14:57:08 darts.models.forecasting.torch_forecasting_model INFO: Time series values are 64-bits; casting model to float64.\n",
      "2022-06-14 14:57:08 pytorch_lightning.utilities.rank_zero INFO: GPU available: False, used: False\n",
      "2022-06-14 14:57:08 pytorch_lightning.utilities.rank_zero INFO: TPU available: False, using: 0 TPU cores\n",
      "2022-06-14 14:57:08 pytorch_lightning.utilities.rank_zero INFO: IPU available: False, using: 0 IPUs\n",
      "2022-06-14 14:57:08 pytorch_lightning.utilities.rank_zero INFO: HPU available: False, using: 0 HPUs\n",
      "2022-06-14 14:57:08 pytorch_lightning.callbacks.model_summary INFO: \n",
      "  | Name      | Type       | Params\n",
      "-----------------------------------------\n",
      "0 | criterion | MSELoss    | 0     \n",
      "1 | stacks    | ModuleList | 8.5 M \n",
      "-----------------------------------------\n",
      "8.5 M     Trainable params\n",
      "3.2 K     Non-trainable params\n",
      "8.5 M     Total params\n",
      "67.633    Total estimated model params size (MB)\n"
     ]
    },
    {
     "data": {
      "application/vnd.jupyter.widget-view+json": {
       "model_id": "1d52d9eeaea64832b20bfd34722027de",
       "version_major": 2,
       "version_minor": 0
      },
      "text/plain": [
       "Training: 0it [00:00, ?it/s]"
      ]
     },
     "metadata": {},
     "output_type": "display_data"
    },
    {
     "data": {
      "application/vnd.jupyter.widget-view+json": {
       "model_id": "a93d0e2cd7a54eff927cdf6442f0ded7",
       "version_major": 2,
       "version_minor": 0
      },
      "text/plain": [
       "Predicting: 11it [00:00, ?it/s]"
      ]
     },
     "metadata": {},
     "output_type": "display_data"
    },
    {
     "name": "stderr",
     "output_type": "stream",
     "text": [
      "[2022-06-14 14:57:14,798] INFO | darts.models.forecasting.torch_forecasting_model | Train dataset contains 2668 samples.\n",
      "[2022-06-14 14:57:14,798] INFO | darts.models.forecasting.torch_forecasting_model | Train dataset contains 2668 samples.\n",
      "2022-06-14 14:57:14 darts.models.forecasting.torch_forecasting_model INFO: Train dataset contains 2668 samples.\n",
      "[2022-06-14 14:57:14,827] INFO | darts.models.forecasting.torch_forecasting_model | Time series values are 64-bits; casting model to float64.\n",
      "[2022-06-14 14:57:14,827] INFO | darts.models.forecasting.torch_forecasting_model | Time series values are 64-bits; casting model to float64.\n",
      "2022-06-14 14:57:14 darts.models.forecasting.torch_forecasting_model INFO: Time series values are 64-bits; casting model to float64.\n",
      "2022-06-14 14:57:14 pytorch_lightning.utilities.rank_zero INFO: GPU available: False, used: False\n",
      "2022-06-14 14:57:14 pytorch_lightning.utilities.rank_zero INFO: TPU available: False, using: 0 TPU cores\n",
      "2022-06-14 14:57:14 pytorch_lightning.utilities.rank_zero INFO: IPU available: False, using: 0 IPUs\n",
      "2022-06-14 14:57:14 pytorch_lightning.utilities.rank_zero INFO: HPU available: False, using: 0 HPUs\n",
      "2022-06-14 14:57:14 pytorch_lightning.callbacks.model_summary INFO: \n",
      "  | Name      | Type       | Params\n",
      "-----------------------------------------\n",
      "0 | criterion | MSELoss    | 0     \n",
      "1 | stacks    | ModuleList | 8.5 M \n",
      "-----------------------------------------\n",
      "8.5 M     Trainable params\n",
      "3.2 K     Non-trainable params\n",
      "8.5 M     Total params\n",
      "67.633    Total estimated model params size (MB)\n"
     ]
    },
    {
     "data": {
      "application/vnd.jupyter.widget-view+json": {
       "model_id": "1dd79f0393c749919af2dbc8a80786a7",
       "version_major": 2,
       "version_minor": 0
      },
      "text/plain": [
       "Training: 0it [00:00, ?it/s]"
      ]
     },
     "metadata": {},
     "output_type": "display_data"
    },
    {
     "data": {
      "application/vnd.jupyter.widget-view+json": {
       "model_id": "6c4e4594a018495996129a9d603132e3",
       "version_major": 2,
       "version_minor": 0
      },
      "text/plain": [
       "Predicting: 11it [00:00, ?it/s]"
      ]
     },
     "metadata": {},
     "output_type": "display_data"
    },
    {
     "name": "stderr",
     "output_type": "stream",
     "text": [
      "[2022-06-14 14:57:20,894] INFO | darts.models.forecasting.torch_forecasting_model | Train dataset contains 2700 samples.\n",
      "[2022-06-14 14:57:20,894] INFO | darts.models.forecasting.torch_forecasting_model | Train dataset contains 2700 samples.\n",
      "2022-06-14 14:57:20 darts.models.forecasting.torch_forecasting_model INFO: Train dataset contains 2700 samples.\n",
      "[2022-06-14 14:57:20,925] INFO | darts.models.forecasting.torch_forecasting_model | Time series values are 64-bits; casting model to float64.\n",
      "[2022-06-14 14:57:20,925] INFO | darts.models.forecasting.torch_forecasting_model | Time series values are 64-bits; casting model to float64.\n",
      "2022-06-14 14:57:20 darts.models.forecasting.torch_forecasting_model INFO: Time series values are 64-bits; casting model to float64.\n",
      "2022-06-14 14:57:20 pytorch_lightning.utilities.rank_zero INFO: GPU available: False, used: False\n",
      "2022-06-14 14:57:20 pytorch_lightning.utilities.rank_zero INFO: TPU available: False, using: 0 TPU cores\n",
      "2022-06-14 14:57:20 pytorch_lightning.utilities.rank_zero INFO: IPU available: False, using: 0 IPUs\n",
      "2022-06-14 14:57:20 pytorch_lightning.utilities.rank_zero INFO: HPU available: False, using: 0 HPUs\n",
      "2022-06-14 14:57:20 pytorch_lightning.callbacks.model_summary INFO: \n",
      "  | Name      | Type       | Params\n",
      "-----------------------------------------\n",
      "0 | criterion | MSELoss    | 0     \n",
      "1 | stacks    | ModuleList | 8.5 M \n",
      "-----------------------------------------\n",
      "8.5 M     Trainable params\n",
      "3.2 K     Non-trainable params\n",
      "8.5 M     Total params\n",
      "67.633    Total estimated model params size (MB)\n"
     ]
    },
    {
     "data": {
      "application/vnd.jupyter.widget-view+json": {
       "model_id": "acb586af70a64665a9ab993e4e9dea2b",
       "version_major": 2,
       "version_minor": 0
      },
      "text/plain": [
       "Training: 0it [00:00, ?it/s]"
      ]
     },
     "metadata": {},
     "output_type": "display_data"
    },
    {
     "data": {
      "application/vnd.jupyter.widget-view+json": {
       "model_id": "5edc230d0b2e40f7ad2eebb3410a8e1e",
       "version_major": 2,
       "version_minor": 0
      },
      "text/plain": [
       "Predicting: 11it [00:00, ?it/s]"
      ]
     },
     "metadata": {},
     "output_type": "display_data"
    },
    {
     "name": "stderr",
     "output_type": "stream",
     "text": [
      "[2022-06-14 14:57:27,208] INFO | darts.models.forecasting.torch_forecasting_model | Train dataset contains 2666 samples.\n",
      "[2022-06-14 14:57:27,208] INFO | darts.models.forecasting.torch_forecasting_model | Train dataset contains 2666 samples.\n",
      "2022-06-14 14:57:27 darts.models.forecasting.torch_forecasting_model INFO: Train dataset contains 2666 samples.\n",
      "[2022-06-14 14:57:27,238] INFO | darts.models.forecasting.torch_forecasting_model | Time series values are 64-bits; casting model to float64.\n",
      "[2022-06-14 14:57:27,238] INFO | darts.models.forecasting.torch_forecasting_model | Time series values are 64-bits; casting model to float64.\n",
      "2022-06-14 14:57:27 darts.models.forecasting.torch_forecasting_model INFO: Time series values are 64-bits; casting model to float64.\n",
      "2022-06-14 14:57:27 pytorch_lightning.utilities.rank_zero INFO: GPU available: False, used: False\n",
      "2022-06-14 14:57:27 pytorch_lightning.utilities.rank_zero INFO: TPU available: False, using: 0 TPU cores\n",
      "2022-06-14 14:57:27 pytorch_lightning.utilities.rank_zero INFO: IPU available: False, using: 0 IPUs\n",
      "2022-06-14 14:57:27 pytorch_lightning.utilities.rank_zero INFO: HPU available: False, using: 0 HPUs\n",
      "2022-06-14 14:57:27 pytorch_lightning.callbacks.model_summary INFO: \n",
      "  | Name      | Type       | Params\n",
      "-----------------------------------------\n",
      "0 | criterion | MSELoss    | 0     \n",
      "1 | stacks    | ModuleList | 8.5 M \n",
      "-----------------------------------------\n",
      "8.5 M     Trainable params\n",
      "3.2 K     Non-trainable params\n",
      "8.5 M     Total params\n",
      "67.633    Total estimated model params size (MB)\n"
     ]
    },
    {
     "data": {
      "application/vnd.jupyter.widget-view+json": {
       "model_id": "bcb5fac0f77c45b7a83b5b90f6c7f5f9",
       "version_major": 2,
       "version_minor": 0
      },
      "text/plain": [
       "Training: 0it [00:00, ?it/s]"
      ]
     },
     "metadata": {},
     "output_type": "display_data"
    },
    {
     "data": {
      "application/vnd.jupyter.widget-view+json": {
       "model_id": "825be8885edf461b8f0378931bd8a54f",
       "version_major": 2,
       "version_minor": 0
      },
      "text/plain": [
       "Predicting: 11it [00:00, ?it/s]"
      ]
     },
     "metadata": {},
     "output_type": "display_data"
    },
    {
     "name": "stderr",
     "output_type": "stream",
     "text": [
      "[2022-06-14 14:57:33,166] INFO | darts.models.forecasting.torch_forecasting_model | Train dataset contains 2666 samples.\n",
      "[2022-06-14 14:57:33,166] INFO | darts.models.forecasting.torch_forecasting_model | Train dataset contains 2666 samples.\n",
      "2022-06-14 14:57:33 darts.models.forecasting.torch_forecasting_model INFO: Train dataset contains 2666 samples.\n",
      "[2022-06-14 14:57:33,194] INFO | darts.models.forecasting.torch_forecasting_model | Time series values are 64-bits; casting model to float64.\n",
      "[2022-06-14 14:57:33,194] INFO | darts.models.forecasting.torch_forecasting_model | Time series values are 64-bits; casting model to float64.\n",
      "2022-06-14 14:57:33 darts.models.forecasting.torch_forecasting_model INFO: Time series values are 64-bits; casting model to float64.\n",
      "2022-06-14 14:57:33 pytorch_lightning.utilities.rank_zero INFO: GPU available: False, used: False\n",
      "2022-06-14 14:57:33 pytorch_lightning.utilities.rank_zero INFO: TPU available: False, using: 0 TPU cores\n",
      "2022-06-14 14:57:33 pytorch_lightning.utilities.rank_zero INFO: IPU available: False, using: 0 IPUs\n",
      "2022-06-14 14:57:33 pytorch_lightning.utilities.rank_zero INFO: HPU available: False, using: 0 HPUs\n",
      "2022-06-14 14:57:33 pytorch_lightning.callbacks.model_summary INFO: \n",
      "  | Name      | Type       | Params\n",
      "-----------------------------------------\n",
      "0 | criterion | MSELoss    | 0     \n",
      "1 | stacks    | ModuleList | 8.5 M \n",
      "-----------------------------------------\n",
      "8.5 M     Trainable params\n",
      "3.2 K     Non-trainable params\n",
      "8.5 M     Total params\n",
      "67.633    Total estimated model params size (MB)\n"
     ]
    },
    {
     "data": {
      "application/vnd.jupyter.widget-view+json": {
       "model_id": "cb37ab57757b4d479aa4af670aadf04b",
       "version_major": 2,
       "version_minor": 0
      },
      "text/plain": [
       "Training: 0it [00:00, ?it/s]"
      ]
     },
     "metadata": {},
     "output_type": "display_data"
    },
    {
     "data": {
      "application/vnd.jupyter.widget-view+json": {
       "model_id": "1f9028b4aafe4cd1a1aae59abf81d1d2",
       "version_major": 2,
       "version_minor": 0
      },
      "text/plain": [
       "Predicting: 11it [00:00, ?it/s]"
      ]
     },
     "metadata": {},
     "output_type": "display_data"
    },
    {
     "name": "stderr",
     "output_type": "stream",
     "text": [
      "[2022-06-14 14:57:39,003] INFO | darts.models.forecasting.torch_forecasting_model | Train dataset contains 2666 samples.\n",
      "[2022-06-14 14:57:39,003] INFO | darts.models.forecasting.torch_forecasting_model | Train dataset contains 2666 samples.\n",
      "2022-06-14 14:57:39 darts.models.forecasting.torch_forecasting_model INFO: Train dataset contains 2666 samples.\n",
      "[2022-06-14 14:57:39,049] INFO | darts.models.forecasting.torch_forecasting_model | Time series values are 64-bits; casting model to float64.\n",
      "[2022-06-14 14:57:39,049] INFO | darts.models.forecasting.torch_forecasting_model | Time series values are 64-bits; casting model to float64.\n",
      "2022-06-14 14:57:39 darts.models.forecasting.torch_forecasting_model INFO: Time series values are 64-bits; casting model to float64.\n",
      "2022-06-14 14:57:39 pytorch_lightning.utilities.rank_zero INFO: GPU available: False, used: False\n",
      "2022-06-14 14:57:39 pytorch_lightning.utilities.rank_zero INFO: TPU available: False, using: 0 TPU cores\n",
      "2022-06-14 14:57:39 pytorch_lightning.utilities.rank_zero INFO: IPU available: False, using: 0 IPUs\n",
      "2022-06-14 14:57:39 pytorch_lightning.utilities.rank_zero INFO: HPU available: False, using: 0 HPUs\n",
      "2022-06-14 14:57:39 pytorch_lightning.callbacks.model_summary INFO: \n",
      "  | Name      | Type       | Params\n",
      "-----------------------------------------\n",
      "0 | criterion | MSELoss    | 0     \n",
      "1 | stacks    | ModuleList | 8.5 M \n",
      "-----------------------------------------\n",
      "8.5 M     Trainable params\n",
      "3.2 K     Non-trainable params\n",
      "8.5 M     Total params\n",
      "67.633    Total estimated model params size (MB)\n"
     ]
    },
    {
     "data": {
      "application/vnd.jupyter.widget-view+json": {
       "model_id": "4df52c8cbcbb490b92d08af0b9f922ea",
       "version_major": 2,
       "version_minor": 0
      },
      "text/plain": [
       "Training: 0it [00:00, ?it/s]"
      ]
     },
     "metadata": {},
     "output_type": "display_data"
    },
    {
     "data": {
      "application/vnd.jupyter.widget-view+json": {
       "model_id": "4ccf8bda23224fa885172d742b41000e",
       "version_major": 2,
       "version_minor": 0
      },
      "text/plain": [
       "Predicting: 11it [00:00, ?it/s]"
      ]
     },
     "metadata": {},
     "output_type": "display_data"
    },
    {
     "name": "stderr",
     "output_type": "stream",
     "text": [
      "[2022-06-14 14:57:45,006] INFO | darts.models.forecasting.torch_forecasting_model | Train dataset contains 2665 samples.\n",
      "[2022-06-14 14:57:45,006] INFO | darts.models.forecasting.torch_forecasting_model | Train dataset contains 2665 samples.\n",
      "2022-06-14 14:57:45 darts.models.forecasting.torch_forecasting_model INFO: Train dataset contains 2665 samples.\n",
      "[2022-06-14 14:57:45,035] INFO | darts.models.forecasting.torch_forecasting_model | Time series values are 64-bits; casting model to float64.\n",
      "[2022-06-14 14:57:45,035] INFO | darts.models.forecasting.torch_forecasting_model | Time series values are 64-bits; casting model to float64.\n",
      "2022-06-14 14:57:45 darts.models.forecasting.torch_forecasting_model INFO: Time series values are 64-bits; casting model to float64.\n",
      "2022-06-14 14:57:45 pytorch_lightning.utilities.rank_zero INFO: GPU available: False, used: False\n",
      "2022-06-14 14:57:45 pytorch_lightning.utilities.rank_zero INFO: TPU available: False, using: 0 TPU cores\n",
      "2022-06-14 14:57:45 pytorch_lightning.utilities.rank_zero INFO: IPU available: False, using: 0 IPUs\n",
      "2022-06-14 14:57:45 pytorch_lightning.utilities.rank_zero INFO: HPU available: False, using: 0 HPUs\n",
      "2022-06-14 14:57:45 pytorch_lightning.callbacks.model_summary INFO: \n",
      "  | Name      | Type       | Params\n",
      "-----------------------------------------\n",
      "0 | criterion | MSELoss    | 0     \n",
      "1 | stacks    | ModuleList | 8.5 M \n",
      "-----------------------------------------\n",
      "8.5 M     Trainable params\n",
      "3.2 K     Non-trainable params\n",
      "8.5 M     Total params\n",
      "67.633    Total estimated model params size (MB)\n"
     ]
    },
    {
     "data": {
      "application/vnd.jupyter.widget-view+json": {
       "model_id": "48f68063f7804e28b39469394d2342e2",
       "version_major": 2,
       "version_minor": 0
      },
      "text/plain": [
       "Training: 0it [00:00, ?it/s]"
      ]
     },
     "metadata": {},
     "output_type": "display_data"
    },
    {
     "data": {
      "application/vnd.jupyter.widget-view+json": {
       "model_id": "4575f4d4de914884b151ab97cb1aa9a5",
       "version_major": 2,
       "version_minor": 0
      },
      "text/plain": [
       "Predicting: 11it [00:00, ?it/s]"
      ]
     },
     "metadata": {},
     "output_type": "display_data"
    },
    {
     "name": "stderr",
     "output_type": "stream",
     "text": [
      "[2022-06-14 14:57:50,840] INFO | darts.models.forecasting.torch_forecasting_model | Train dataset contains 2666 samples.\n",
      "[2022-06-14 14:57:50,840] INFO | darts.models.forecasting.torch_forecasting_model | Train dataset contains 2666 samples.\n",
      "2022-06-14 14:57:50 darts.models.forecasting.torch_forecasting_model INFO: Train dataset contains 2666 samples.\n",
      "[2022-06-14 14:57:50,867] INFO | darts.models.forecasting.torch_forecasting_model | Time series values are 64-bits; casting model to float64.\n",
      "[2022-06-14 14:57:50,867] INFO | darts.models.forecasting.torch_forecasting_model | Time series values are 64-bits; casting model to float64.\n",
      "2022-06-14 14:57:50 darts.models.forecasting.torch_forecasting_model INFO: Time series values are 64-bits; casting model to float64.\n",
      "2022-06-14 14:57:50 pytorch_lightning.utilities.rank_zero INFO: GPU available: False, used: False\n",
      "2022-06-14 14:57:50 pytorch_lightning.utilities.rank_zero INFO: TPU available: False, using: 0 TPU cores\n",
      "2022-06-14 14:57:50 pytorch_lightning.utilities.rank_zero INFO: IPU available: False, using: 0 IPUs\n",
      "2022-06-14 14:57:50 pytorch_lightning.utilities.rank_zero INFO: HPU available: False, using: 0 HPUs\n",
      "2022-06-14 14:57:50 pytorch_lightning.callbacks.model_summary INFO: \n",
      "  | Name      | Type       | Params\n",
      "-----------------------------------------\n",
      "0 | criterion | MSELoss    | 0     \n",
      "1 | stacks    | ModuleList | 8.5 M \n",
      "-----------------------------------------\n",
      "8.5 M     Trainable params\n",
      "3.2 K     Non-trainable params\n",
      "8.5 M     Total params\n",
      "67.633    Total estimated model params size (MB)\n"
     ]
    },
    {
     "data": {
      "application/vnd.jupyter.widget-view+json": {
       "model_id": "437e227086ec46c18ad54b05f65d9265",
       "version_major": 2,
       "version_minor": 0
      },
      "text/plain": [
       "Training: 0it [00:00, ?it/s]"
      ]
     },
     "metadata": {},
     "output_type": "display_data"
    },
    {
     "data": {
      "application/vnd.jupyter.widget-view+json": {
       "model_id": "39c2a92607af4cf5969012c0d50aba01",
       "version_major": 2,
       "version_minor": 0
      },
      "text/plain": [
       "Predicting: 11it [00:00, ?it/s]"
      ]
     },
     "metadata": {},
     "output_type": "display_data"
    },
    {
     "name": "stderr",
     "output_type": "stream",
     "text": [
      "[2022-06-14 14:57:56,517] INFO | darts.models.forecasting.torch_forecasting_model | Train dataset contains 2678 samples.\n",
      "[2022-06-14 14:57:56,517] INFO | darts.models.forecasting.torch_forecasting_model | Train dataset contains 2678 samples.\n",
      "2022-06-14 14:57:56 darts.models.forecasting.torch_forecasting_model INFO: Train dataset contains 2678 samples.\n",
      "[2022-06-14 14:57:56,546] INFO | darts.models.forecasting.torch_forecasting_model | Time series values are 64-bits; casting model to float64.\n",
      "[2022-06-14 14:57:56,546] INFO | darts.models.forecasting.torch_forecasting_model | Time series values are 64-bits; casting model to float64.\n",
      "2022-06-14 14:57:56 darts.models.forecasting.torch_forecasting_model INFO: Time series values are 64-bits; casting model to float64.\n",
      "2022-06-14 14:57:56 pytorch_lightning.utilities.rank_zero INFO: GPU available: False, used: False\n",
      "2022-06-14 14:57:56 pytorch_lightning.utilities.rank_zero INFO: TPU available: False, using: 0 TPU cores\n",
      "2022-06-14 14:57:56 pytorch_lightning.utilities.rank_zero INFO: IPU available: False, using: 0 IPUs\n",
      "2022-06-14 14:57:56 pytorch_lightning.utilities.rank_zero INFO: HPU available: False, using: 0 HPUs\n",
      "2022-06-14 14:57:56 pytorch_lightning.callbacks.model_summary INFO: \n",
      "  | Name      | Type       | Params\n",
      "-----------------------------------------\n",
      "0 | criterion | MSELoss    | 0     \n",
      "1 | stacks    | ModuleList | 8.5 M \n",
      "-----------------------------------------\n",
      "8.5 M     Trainable params\n",
      "3.2 K     Non-trainable params\n",
      "8.5 M     Total params\n",
      "67.633    Total estimated model params size (MB)\n"
     ]
    },
    {
     "data": {
      "application/vnd.jupyter.widget-view+json": {
       "model_id": "ba97c673fd784766be6db41972507ebe",
       "version_major": 2,
       "version_minor": 0
      },
      "text/plain": [
       "Training: 0it [00:00, ?it/s]"
      ]
     },
     "metadata": {},
     "output_type": "display_data"
    },
    {
     "data": {
      "application/vnd.jupyter.widget-view+json": {
       "model_id": "9a05a729eb07470f8b0df63d83dd4ed7",
       "version_major": 2,
       "version_minor": 0
      },
      "text/plain": [
       "Predicting: 11it [00:00, ?it/s]"
      ]
     },
     "metadata": {},
     "output_type": "display_data"
    },
    {
     "name": "stderr",
     "output_type": "stream",
     "text": [
      "[2022-06-14 14:58:02,231] INFO | darts.models.forecasting.torch_forecasting_model | Train dataset contains 2666 samples.\n",
      "[2022-06-14 14:58:02,231] INFO | darts.models.forecasting.torch_forecasting_model | Train dataset contains 2666 samples.\n",
      "2022-06-14 14:58:02 darts.models.forecasting.torch_forecasting_model INFO: Train dataset contains 2666 samples.\n",
      "[2022-06-14 14:58:02,259] INFO | darts.models.forecasting.torch_forecasting_model | Time series values are 64-bits; casting model to float64.\n",
      "[2022-06-14 14:58:02,259] INFO | darts.models.forecasting.torch_forecasting_model | Time series values are 64-bits; casting model to float64.\n",
      "2022-06-14 14:58:02 darts.models.forecasting.torch_forecasting_model INFO: Time series values are 64-bits; casting model to float64.\n",
      "2022-06-14 14:58:02 pytorch_lightning.utilities.rank_zero INFO: GPU available: False, used: False\n",
      "2022-06-14 14:58:02 pytorch_lightning.utilities.rank_zero INFO: TPU available: False, using: 0 TPU cores\n",
      "2022-06-14 14:58:02 pytorch_lightning.utilities.rank_zero INFO: IPU available: False, using: 0 IPUs\n",
      "2022-06-14 14:58:02 pytorch_lightning.utilities.rank_zero INFO: HPU available: False, using: 0 HPUs\n",
      "2022-06-14 14:58:02 pytorch_lightning.callbacks.model_summary INFO: \n",
      "  | Name      | Type       | Params\n",
      "-----------------------------------------\n",
      "0 | criterion | MSELoss    | 0     \n",
      "1 | stacks    | ModuleList | 8.5 M \n",
      "-----------------------------------------\n",
      "8.5 M     Trainable params\n",
      "3.2 K     Non-trainable params\n",
      "8.5 M     Total params\n",
      "67.633    Total estimated model params size (MB)\n"
     ]
    },
    {
     "data": {
      "application/vnd.jupyter.widget-view+json": {
       "model_id": "e4508e3cf92b4024940cd754279bbf25",
       "version_major": 2,
       "version_minor": 0
      },
      "text/plain": [
       "Training: 0it [00:00, ?it/s]"
      ]
     },
     "metadata": {},
     "output_type": "display_data"
    },
    {
     "data": {
      "application/vnd.jupyter.widget-view+json": {
       "model_id": "368eecd63e3a418886c52a964ea32a64",
       "version_major": 2,
       "version_minor": 0
      },
      "text/plain": [
       "Predicting: 11it [00:00, ?it/s]"
      ]
     },
     "metadata": {},
     "output_type": "display_data"
    },
    {
     "name": "stderr",
     "output_type": "stream",
     "text": [
      "[2022-06-14 14:58:08,009] INFO | darts.models.forecasting.torch_forecasting_model | Train dataset contains 2666 samples.\n",
      "[2022-06-14 14:58:08,009] INFO | darts.models.forecasting.torch_forecasting_model | Train dataset contains 2666 samples.\n",
      "2022-06-14 14:58:08 darts.models.forecasting.torch_forecasting_model INFO: Train dataset contains 2666 samples.\n",
      "[2022-06-14 14:58:08,038] INFO | darts.models.forecasting.torch_forecasting_model | Time series values are 64-bits; casting model to float64.\n",
      "[2022-06-14 14:58:08,038] INFO | darts.models.forecasting.torch_forecasting_model | Time series values are 64-bits; casting model to float64.\n",
      "2022-06-14 14:58:08 darts.models.forecasting.torch_forecasting_model INFO: Time series values are 64-bits; casting model to float64.\n",
      "2022-06-14 14:58:08 pytorch_lightning.utilities.rank_zero INFO: GPU available: False, used: False\n",
      "2022-06-14 14:58:08 pytorch_lightning.utilities.rank_zero INFO: TPU available: False, using: 0 TPU cores\n",
      "2022-06-14 14:58:08 pytorch_lightning.utilities.rank_zero INFO: IPU available: False, using: 0 IPUs\n",
      "2022-06-14 14:58:08 pytorch_lightning.utilities.rank_zero INFO: HPU available: False, using: 0 HPUs\n",
      "2022-06-14 14:58:08 pytorch_lightning.callbacks.model_summary INFO: \n",
      "  | Name      | Type       | Params\n",
      "-----------------------------------------\n",
      "0 | criterion | MSELoss    | 0     \n",
      "1 | stacks    | ModuleList | 8.5 M \n",
      "-----------------------------------------\n",
      "8.5 M     Trainable params\n",
      "3.2 K     Non-trainable params\n",
      "8.5 M     Total params\n",
      "67.633    Total estimated model params size (MB)\n"
     ]
    },
    {
     "data": {
      "application/vnd.jupyter.widget-view+json": {
       "model_id": "79b8c03d19cf466590963258966c2c11",
       "version_major": 2,
       "version_minor": 0
      },
      "text/plain": [
       "Training: 0it [00:00, ?it/s]"
      ]
     },
     "metadata": {},
     "output_type": "display_data"
    },
    {
     "data": {
      "application/vnd.jupyter.widget-view+json": {
       "model_id": "21de34dee31946519a13989835318894",
       "version_major": 2,
       "version_minor": 0
      },
      "text/plain": [
       "Predicting: 11it [00:00, ?it/s]"
      ]
     },
     "metadata": {},
     "output_type": "display_data"
    },
    {
     "name": "stderr",
     "output_type": "stream",
     "text": [
      "[2022-06-14 14:58:13,853] INFO | darts.models.forecasting.torch_forecasting_model | Train dataset contains 2666 samples.\n",
      "[2022-06-14 14:58:13,853] INFO | darts.models.forecasting.torch_forecasting_model | Train dataset contains 2666 samples.\n",
      "2022-06-14 14:58:13 darts.models.forecasting.torch_forecasting_model INFO: Train dataset contains 2666 samples.\n",
      "[2022-06-14 14:58:13,901] INFO | darts.models.forecasting.torch_forecasting_model | Time series values are 64-bits; casting model to float64.\n",
      "[2022-06-14 14:58:13,901] INFO | darts.models.forecasting.torch_forecasting_model | Time series values are 64-bits; casting model to float64.\n",
      "2022-06-14 14:58:13 darts.models.forecasting.torch_forecasting_model INFO: Time series values are 64-bits; casting model to float64.\n",
      "2022-06-14 14:58:13 pytorch_lightning.utilities.rank_zero INFO: GPU available: False, used: False\n",
      "2022-06-14 14:58:13 pytorch_lightning.utilities.rank_zero INFO: TPU available: False, using: 0 TPU cores\n",
      "2022-06-14 14:58:13 pytorch_lightning.utilities.rank_zero INFO: IPU available: False, using: 0 IPUs\n",
      "2022-06-14 14:58:13 pytorch_lightning.utilities.rank_zero INFO: HPU available: False, using: 0 HPUs\n",
      "2022-06-14 14:58:13 pytorch_lightning.callbacks.model_summary INFO: \n",
      "  | Name      | Type       | Params\n",
      "-----------------------------------------\n",
      "0 | criterion | MSELoss    | 0     \n",
      "1 | stacks    | ModuleList | 8.5 M \n",
      "-----------------------------------------\n",
      "8.5 M     Trainable params\n",
      "3.2 K     Non-trainable params\n",
      "8.5 M     Total params\n",
      "67.633    Total estimated model params size (MB)\n"
     ]
    },
    {
     "data": {
      "application/vnd.jupyter.widget-view+json": {
       "model_id": "6d12953c167741c6a3ec09e7c2197154",
       "version_major": 2,
       "version_minor": 0
      },
      "text/plain": [
       "Training: 0it [00:00, ?it/s]"
      ]
     },
     "metadata": {},
     "output_type": "display_data"
    },
    {
     "data": {
      "application/vnd.jupyter.widget-view+json": {
       "model_id": "d912e6ffb0874a8ea6e7b791c16bf71b",
       "version_major": 2,
       "version_minor": 0
      },
      "text/plain": [
       "Predicting: 11it [00:00, ?it/s]"
      ]
     },
     "metadata": {},
     "output_type": "display_data"
    },
    {
     "name": "stderr",
     "output_type": "stream",
     "text": [
      "[2022-06-14 14:58:19,792] INFO | darts.models.forecasting.torch_forecasting_model | Train dataset contains 2666 samples.\n",
      "[2022-06-14 14:58:19,792] INFO | darts.models.forecasting.torch_forecasting_model | Train dataset contains 2666 samples.\n",
      "2022-06-14 14:58:19 darts.models.forecasting.torch_forecasting_model INFO: Train dataset contains 2666 samples.\n",
      "[2022-06-14 14:58:19,822] INFO | darts.models.forecasting.torch_forecasting_model | Time series values are 64-bits; casting model to float64.\n",
      "[2022-06-14 14:58:19,822] INFO | darts.models.forecasting.torch_forecasting_model | Time series values are 64-bits; casting model to float64.\n",
      "2022-06-14 14:58:19 darts.models.forecasting.torch_forecasting_model INFO: Time series values are 64-bits; casting model to float64.\n",
      "2022-06-14 14:58:19 pytorch_lightning.utilities.rank_zero INFO: GPU available: False, used: False\n",
      "2022-06-14 14:58:19 pytorch_lightning.utilities.rank_zero INFO: TPU available: False, using: 0 TPU cores\n",
      "2022-06-14 14:58:19 pytorch_lightning.utilities.rank_zero INFO: IPU available: False, using: 0 IPUs\n",
      "2022-06-14 14:58:19 pytorch_lightning.utilities.rank_zero INFO: HPU available: False, using: 0 HPUs\n",
      "2022-06-14 14:58:19 pytorch_lightning.callbacks.model_summary INFO: \n",
      "  | Name      | Type       | Params\n",
      "-----------------------------------------\n",
      "0 | criterion | MSELoss    | 0     \n",
      "1 | stacks    | ModuleList | 8.5 M \n",
      "-----------------------------------------\n",
      "8.5 M     Trainable params\n",
      "3.2 K     Non-trainable params\n",
      "8.5 M     Total params\n",
      "67.633    Total estimated model params size (MB)\n"
     ]
    },
    {
     "data": {
      "application/vnd.jupyter.widget-view+json": {
       "model_id": "5a56a8eaf504460abb97c76130d5afc7",
       "version_major": 2,
       "version_minor": 0
      },
      "text/plain": [
       "Training: 0it [00:00, ?it/s]"
      ]
     },
     "metadata": {},
     "output_type": "display_data"
    },
    {
     "data": {
      "application/vnd.jupyter.widget-view+json": {
       "model_id": "21d6ab9980aa457e8d06afbcc7cbadde",
       "version_major": 2,
       "version_minor": 0
      },
      "text/plain": [
       "Predicting: 11it [00:00, ?it/s]"
      ]
     },
     "metadata": {},
     "output_type": "display_data"
    },
    {
     "name": "stderr",
     "output_type": "stream",
     "text": [
      "[2022-06-14 14:58:25,952] INFO | darts.models.forecasting.torch_forecasting_model | Train dataset contains 2666 samples.\n",
      "[2022-06-14 14:58:25,952] INFO | darts.models.forecasting.torch_forecasting_model | Train dataset contains 2666 samples.\n",
      "2022-06-14 14:58:25 darts.models.forecasting.torch_forecasting_model INFO: Train dataset contains 2666 samples.\n",
      "[2022-06-14 14:58:25,983] INFO | darts.models.forecasting.torch_forecasting_model | Time series values are 64-bits; casting model to float64.\n",
      "[2022-06-14 14:58:25,983] INFO | darts.models.forecasting.torch_forecasting_model | Time series values are 64-bits; casting model to float64.\n",
      "2022-06-14 14:58:25 darts.models.forecasting.torch_forecasting_model INFO: Time series values are 64-bits; casting model to float64.\n",
      "2022-06-14 14:58:25 pytorch_lightning.utilities.rank_zero INFO: GPU available: False, used: False\n",
      "2022-06-14 14:58:25 pytorch_lightning.utilities.rank_zero INFO: TPU available: False, using: 0 TPU cores\n",
      "2022-06-14 14:58:25 pytorch_lightning.utilities.rank_zero INFO: IPU available: False, using: 0 IPUs\n",
      "2022-06-14 14:58:25 pytorch_lightning.utilities.rank_zero INFO: HPU available: False, using: 0 HPUs\n",
      "2022-06-14 14:58:26 pytorch_lightning.callbacks.model_summary INFO: \n",
      "  | Name      | Type       | Params\n",
      "-----------------------------------------\n",
      "0 | criterion | MSELoss    | 0     \n",
      "1 | stacks    | ModuleList | 8.5 M \n",
      "-----------------------------------------\n",
      "8.5 M     Trainable params\n",
      "3.2 K     Non-trainable params\n",
      "8.5 M     Total params\n",
      "67.633    Total estimated model params size (MB)\n"
     ]
    },
    {
     "data": {
      "application/vnd.jupyter.widget-view+json": {
       "model_id": "43dcc08804bf4add92de82ef7efe6541",
       "version_major": 2,
       "version_minor": 0
      },
      "text/plain": [
       "Training: 0it [00:00, ?it/s]"
      ]
     },
     "metadata": {},
     "output_type": "display_data"
    },
    {
     "data": {
      "application/vnd.jupyter.widget-view+json": {
       "model_id": "fef13a2495544637b5097c6aeb0317f8",
       "version_major": 2,
       "version_minor": 0
      },
      "text/plain": [
       "Predicting: 11it [00:00, ?it/s]"
      ]
     },
     "metadata": {},
     "output_type": "display_data"
    },
    {
     "name": "stderr",
     "output_type": "stream",
     "text": [
      "[2022-06-14 14:58:31,944] INFO | darts.models.forecasting.torch_forecasting_model | Train dataset contains 2700 samples.\n",
      "[2022-06-14 14:58:31,944] INFO | darts.models.forecasting.torch_forecasting_model | Train dataset contains 2700 samples.\n",
      "2022-06-14 14:58:31 darts.models.forecasting.torch_forecasting_model INFO: Train dataset contains 2700 samples.\n",
      "[2022-06-14 14:58:31,974] INFO | darts.models.forecasting.torch_forecasting_model | Time series values are 64-bits; casting model to float64.\n",
      "[2022-06-14 14:58:31,974] INFO | darts.models.forecasting.torch_forecasting_model | Time series values are 64-bits; casting model to float64.\n",
      "2022-06-14 14:58:31 darts.models.forecasting.torch_forecasting_model INFO: Time series values are 64-bits; casting model to float64.\n",
      "2022-06-14 14:58:31 pytorch_lightning.utilities.rank_zero INFO: GPU available: False, used: False\n",
      "2022-06-14 14:58:31 pytorch_lightning.utilities.rank_zero INFO: TPU available: False, using: 0 TPU cores\n",
      "2022-06-14 14:58:31 pytorch_lightning.utilities.rank_zero INFO: IPU available: False, using: 0 IPUs\n",
      "2022-06-14 14:58:31 pytorch_lightning.utilities.rank_zero INFO: HPU available: False, using: 0 HPUs\n",
      "2022-06-14 14:58:31 pytorch_lightning.callbacks.model_summary INFO: \n",
      "  | Name      | Type       | Params\n",
      "-----------------------------------------\n",
      "0 | criterion | MSELoss    | 0     \n",
      "1 | stacks    | ModuleList | 8.5 M \n",
      "-----------------------------------------\n",
      "8.5 M     Trainable params\n",
      "3.2 K     Non-trainable params\n",
      "8.5 M     Total params\n",
      "67.633    Total estimated model params size (MB)\n"
     ]
    },
    {
     "data": {
      "application/vnd.jupyter.widget-view+json": {
       "model_id": "bc7a78e634584d70a8aabfd125cb9017",
       "version_major": 2,
       "version_minor": 0
      },
      "text/plain": [
       "Training: 0it [00:00, ?it/s]"
      ]
     },
     "metadata": {},
     "output_type": "display_data"
    },
    {
     "data": {
      "application/vnd.jupyter.widget-view+json": {
       "model_id": "35aafd2125ae450e9b0042fbb922adb7",
       "version_major": 2,
       "version_minor": 0
      },
      "text/plain": [
       "Predicting: 11it [00:00, ?it/s]"
      ]
     },
     "metadata": {},
     "output_type": "display_data"
    },
    {
     "name": "stderr",
     "output_type": "stream",
     "text": [
      "[2022-06-14 14:58:37,900] INFO | darts.models.forecasting.torch_forecasting_model | Train dataset contains 2667 samples.\n",
      "[2022-06-14 14:58:37,900] INFO | darts.models.forecasting.torch_forecasting_model | Train dataset contains 2667 samples.\n",
      "2022-06-14 14:58:37 darts.models.forecasting.torch_forecasting_model INFO: Train dataset contains 2667 samples.\n",
      "[2022-06-14 14:58:37,930] INFO | darts.models.forecasting.torch_forecasting_model | Time series values are 64-bits; casting model to float64.\n",
      "[2022-06-14 14:58:37,930] INFO | darts.models.forecasting.torch_forecasting_model | Time series values are 64-bits; casting model to float64.\n",
      "2022-06-14 14:58:37 darts.models.forecasting.torch_forecasting_model INFO: Time series values are 64-bits; casting model to float64.\n",
      "2022-06-14 14:58:37 pytorch_lightning.utilities.rank_zero INFO: GPU available: False, used: False\n",
      "2022-06-14 14:58:37 pytorch_lightning.utilities.rank_zero INFO: TPU available: False, using: 0 TPU cores\n",
      "2022-06-14 14:58:37 pytorch_lightning.utilities.rank_zero INFO: IPU available: False, using: 0 IPUs\n",
      "2022-06-14 14:58:37 pytorch_lightning.utilities.rank_zero INFO: HPU available: False, using: 0 HPUs\n",
      "2022-06-14 14:58:37 pytorch_lightning.callbacks.model_summary INFO: \n",
      "  | Name      | Type       | Params\n",
      "-----------------------------------------\n",
      "0 | criterion | MSELoss    | 0     \n",
      "1 | stacks    | ModuleList | 8.5 M \n",
      "-----------------------------------------\n",
      "8.5 M     Trainable params\n",
      "3.2 K     Non-trainable params\n",
      "8.5 M     Total params\n",
      "67.633    Total estimated model params size (MB)\n"
     ]
    },
    {
     "data": {
      "application/vnd.jupyter.widget-view+json": {
       "model_id": "5f03b9ca55d6484980083ed0fa044b46",
       "version_major": 2,
       "version_minor": 0
      },
      "text/plain": [
       "Training: 0it [00:00, ?it/s]"
      ]
     },
     "metadata": {},
     "output_type": "display_data"
    },
    {
     "data": {
      "application/vnd.jupyter.widget-view+json": {
       "model_id": "a018cfca6f494ec69fe70cae65aa6a96",
       "version_major": 2,
       "version_minor": 0
      },
      "text/plain": [
       "Predicting: 11it [00:00, ?it/s]"
      ]
     },
     "metadata": {},
     "output_type": "display_data"
    },
    {
     "name": "stderr",
     "output_type": "stream",
     "text": [
      "[2022-06-14 14:58:43,782] INFO | darts.models.forecasting.torch_forecasting_model | Train dataset contains 2667 samples.\n",
      "[2022-06-14 14:58:43,782] INFO | darts.models.forecasting.torch_forecasting_model | Train dataset contains 2667 samples.\n",
      "2022-06-14 14:58:43 darts.models.forecasting.torch_forecasting_model INFO: Train dataset contains 2667 samples.\n",
      "[2022-06-14 14:58:43,813] INFO | darts.models.forecasting.torch_forecasting_model | Time series values are 64-bits; casting model to float64.\n",
      "[2022-06-14 14:58:43,813] INFO | darts.models.forecasting.torch_forecasting_model | Time series values are 64-bits; casting model to float64.\n",
      "2022-06-14 14:58:43 darts.models.forecasting.torch_forecasting_model INFO: Time series values are 64-bits; casting model to float64.\n",
      "2022-06-14 14:58:43 pytorch_lightning.utilities.rank_zero INFO: GPU available: False, used: False\n",
      "2022-06-14 14:58:43 pytorch_lightning.utilities.rank_zero INFO: TPU available: False, using: 0 TPU cores\n",
      "2022-06-14 14:58:43 pytorch_lightning.utilities.rank_zero INFO: IPU available: False, using: 0 IPUs\n",
      "2022-06-14 14:58:43 pytorch_lightning.utilities.rank_zero INFO: HPU available: False, using: 0 HPUs\n",
      "2022-06-14 14:58:43 pytorch_lightning.callbacks.model_summary INFO: \n",
      "  | Name      | Type       | Params\n",
      "-----------------------------------------\n",
      "0 | criterion | MSELoss    | 0     \n",
      "1 | stacks    | ModuleList | 8.5 M \n",
      "-----------------------------------------\n",
      "8.5 M     Trainable params\n",
      "3.2 K     Non-trainable params\n",
      "8.5 M     Total params\n",
      "67.633    Total estimated model params size (MB)\n"
     ]
    },
    {
     "data": {
      "application/vnd.jupyter.widget-view+json": {
       "model_id": "d6fc0f75d27a473d946e13f162d247ad",
       "version_major": 2,
       "version_minor": 0
      },
      "text/plain": [
       "Training: 0it [00:00, ?it/s]"
      ]
     },
     "metadata": {},
     "output_type": "display_data"
    },
    {
     "data": {
      "application/vnd.jupyter.widget-view+json": {
       "model_id": "655ed4eb492a41ffa734ac0722f4cc7e",
       "version_major": 2,
       "version_minor": 0
      },
      "text/plain": [
       "Predicting: 11it [00:00, ?it/s]"
      ]
     },
     "metadata": {},
     "output_type": "display_data"
    },
    {
     "name": "stderr",
     "output_type": "stream",
     "text": [
      "[2022-06-14 14:58:49,574] INFO | darts.models.forecasting.torch_forecasting_model | Train dataset contains 2667 samples.\n",
      "[2022-06-14 14:58:49,574] INFO | darts.models.forecasting.torch_forecasting_model | Train dataset contains 2667 samples.\n",
      "2022-06-14 14:58:49 darts.models.forecasting.torch_forecasting_model INFO: Train dataset contains 2667 samples.\n",
      "[2022-06-14 14:58:49,618] INFO | darts.models.forecasting.torch_forecasting_model | Time series values are 64-bits; casting model to float64.\n",
      "[2022-06-14 14:58:49,618] INFO | darts.models.forecasting.torch_forecasting_model | Time series values are 64-bits; casting model to float64.\n",
      "2022-06-14 14:58:49 darts.models.forecasting.torch_forecasting_model INFO: Time series values are 64-bits; casting model to float64.\n",
      "2022-06-14 14:58:49 pytorch_lightning.utilities.rank_zero INFO: GPU available: False, used: False\n",
      "2022-06-14 14:58:49 pytorch_lightning.utilities.rank_zero INFO: TPU available: False, using: 0 TPU cores\n",
      "2022-06-14 14:58:49 pytorch_lightning.utilities.rank_zero INFO: IPU available: False, using: 0 IPUs\n",
      "2022-06-14 14:58:49 pytorch_lightning.utilities.rank_zero INFO: HPU available: False, using: 0 HPUs\n",
      "2022-06-14 14:58:49 pytorch_lightning.callbacks.model_summary INFO: \n",
      "  | Name      | Type       | Params\n",
      "-----------------------------------------\n",
      "0 | criterion | MSELoss    | 0     \n",
      "1 | stacks    | ModuleList | 8.5 M \n",
      "-----------------------------------------\n",
      "8.5 M     Trainable params\n",
      "3.2 K     Non-trainable params\n",
      "8.5 M     Total params\n",
      "67.633    Total estimated model params size (MB)\n"
     ]
    },
    {
     "data": {
      "application/vnd.jupyter.widget-view+json": {
       "model_id": "d50dcd80b2e844378d1be4eb83c5013d",
       "version_major": 2,
       "version_minor": 0
      },
      "text/plain": [
       "Training: 0it [00:00, ?it/s]"
      ]
     },
     "metadata": {},
     "output_type": "display_data"
    },
    {
     "data": {
      "application/vnd.jupyter.widget-view+json": {
       "model_id": "ad0c41a4a41f48caa98dc179a13952af",
       "version_major": 2,
       "version_minor": 0
      },
      "text/plain": [
       "Predicting: 11it [00:00, ?it/s]"
      ]
     },
     "metadata": {},
     "output_type": "display_data"
    },
    {
     "name": "stderr",
     "output_type": "stream",
     "text": [
      "[2022-06-14 14:58:55,578] INFO | darts.models.forecasting.torch_forecasting_model | Train dataset contains 2667 samples.\n",
      "[2022-06-14 14:58:55,578] INFO | darts.models.forecasting.torch_forecasting_model | Train dataset contains 2667 samples.\n",
      "2022-06-14 14:58:55 darts.models.forecasting.torch_forecasting_model INFO: Train dataset contains 2667 samples.\n",
      "[2022-06-14 14:58:55,608] INFO | darts.models.forecasting.torch_forecasting_model | Time series values are 64-bits; casting model to float64.\n",
      "[2022-06-14 14:58:55,608] INFO | darts.models.forecasting.torch_forecasting_model | Time series values are 64-bits; casting model to float64.\n",
      "2022-06-14 14:58:55 darts.models.forecasting.torch_forecasting_model INFO: Time series values are 64-bits; casting model to float64.\n",
      "2022-06-14 14:58:55 pytorch_lightning.utilities.rank_zero INFO: GPU available: False, used: False\n",
      "2022-06-14 14:58:55 pytorch_lightning.utilities.rank_zero INFO: TPU available: False, using: 0 TPU cores\n",
      "2022-06-14 14:58:55 pytorch_lightning.utilities.rank_zero INFO: IPU available: False, using: 0 IPUs\n",
      "2022-06-14 14:58:55 pytorch_lightning.utilities.rank_zero INFO: HPU available: False, using: 0 HPUs\n",
      "2022-06-14 14:58:55 pytorch_lightning.callbacks.model_summary INFO: \n",
      "  | Name      | Type       | Params\n",
      "-----------------------------------------\n",
      "0 | criterion | MSELoss    | 0     \n",
      "1 | stacks    | ModuleList | 8.5 M \n",
      "-----------------------------------------\n",
      "8.5 M     Trainable params\n",
      "3.2 K     Non-trainable params\n",
      "8.5 M     Total params\n",
      "67.633    Total estimated model params size (MB)\n"
     ]
    },
    {
     "data": {
      "application/vnd.jupyter.widget-view+json": {
       "model_id": "dbc63c58b5ac4f52a6e4a9e91b2f2e22",
       "version_major": 2,
       "version_minor": 0
      },
      "text/plain": [
       "Training: 0it [00:00, ?it/s]"
      ]
     },
     "metadata": {},
     "output_type": "display_data"
    },
    {
     "data": {
      "application/vnd.jupyter.widget-view+json": {
       "model_id": "4b64ddbc1ad64b92a26bff92e1b2cc01",
       "version_major": 2,
       "version_minor": 0
      },
      "text/plain": [
       "Predicting: 11it [00:00, ?it/s]"
      ]
     },
     "metadata": {},
     "output_type": "display_data"
    },
    {
     "name": "stderr",
     "output_type": "stream",
     "text": [
      "[2022-06-14 14:59:01,519] INFO | darts.models.forecasting.torch_forecasting_model | Train dataset contains 2667 samples.\n",
      "[2022-06-14 14:59:01,519] INFO | darts.models.forecasting.torch_forecasting_model | Train dataset contains 2667 samples.\n",
      "2022-06-14 14:59:01 darts.models.forecasting.torch_forecasting_model INFO: Train dataset contains 2667 samples.\n",
      "[2022-06-14 14:59:01,548] INFO | darts.models.forecasting.torch_forecasting_model | Time series values are 64-bits; casting model to float64.\n",
      "[2022-06-14 14:59:01,548] INFO | darts.models.forecasting.torch_forecasting_model | Time series values are 64-bits; casting model to float64.\n",
      "2022-06-14 14:59:01 darts.models.forecasting.torch_forecasting_model INFO: Time series values are 64-bits; casting model to float64.\n",
      "2022-06-14 14:59:01 pytorch_lightning.utilities.rank_zero INFO: GPU available: False, used: False\n",
      "2022-06-14 14:59:01 pytorch_lightning.utilities.rank_zero INFO: TPU available: False, using: 0 TPU cores\n",
      "2022-06-14 14:59:01 pytorch_lightning.utilities.rank_zero INFO: IPU available: False, using: 0 IPUs\n",
      "2022-06-14 14:59:01 pytorch_lightning.utilities.rank_zero INFO: HPU available: False, using: 0 HPUs\n",
      "2022-06-14 14:59:01 pytorch_lightning.callbacks.model_summary INFO: \n",
      "  | Name      | Type       | Params\n",
      "-----------------------------------------\n",
      "0 | criterion | MSELoss    | 0     \n",
      "1 | stacks    | ModuleList | 8.5 M \n",
      "-----------------------------------------\n",
      "8.5 M     Trainable params\n",
      "3.2 K     Non-trainable params\n",
      "8.5 M     Total params\n",
      "67.633    Total estimated model params size (MB)\n"
     ]
    },
    {
     "data": {
      "application/vnd.jupyter.widget-view+json": {
       "model_id": "2da2a53628d448aa90f479e901a99b1d",
       "version_major": 2,
       "version_minor": 0
      },
      "text/plain": [
       "Training: 0it [00:00, ?it/s]"
      ]
     },
     "metadata": {},
     "output_type": "display_data"
    },
    {
     "data": {
      "application/vnd.jupyter.widget-view+json": {
       "model_id": "60294f856654495e9e9b9839c75f2d15",
       "version_major": 2,
       "version_minor": 0
      },
      "text/plain": [
       "Predicting: 11it [00:00, ?it/s]"
      ]
     },
     "metadata": {},
     "output_type": "display_data"
    },
    {
     "name": "stderr",
     "output_type": "stream",
     "text": [
      "[2022-06-14 14:59:07,293] INFO | darts.models.forecasting.torch_forecasting_model | Train dataset contains 2041 samples.\n",
      "[2022-06-14 14:59:07,293] INFO | darts.models.forecasting.torch_forecasting_model | Train dataset contains 2041 samples.\n",
      "2022-06-14 14:59:07 darts.models.forecasting.torch_forecasting_model INFO: Train dataset contains 2041 samples.\n",
      "[2022-06-14 14:59:07,322] INFO | darts.models.forecasting.torch_forecasting_model | Time series values are 64-bits; casting model to float64.\n",
      "[2022-06-14 14:59:07,322] INFO | darts.models.forecasting.torch_forecasting_model | Time series values are 64-bits; casting model to float64.\n",
      "2022-06-14 14:59:07 darts.models.forecasting.torch_forecasting_model INFO: Time series values are 64-bits; casting model to float64.\n",
      "2022-06-14 14:59:07 pytorch_lightning.utilities.rank_zero INFO: GPU available: False, used: False\n",
      "2022-06-14 14:59:07 pytorch_lightning.utilities.rank_zero INFO: TPU available: False, using: 0 TPU cores\n",
      "2022-06-14 14:59:07 pytorch_lightning.utilities.rank_zero INFO: IPU available: False, using: 0 IPUs\n",
      "2022-06-14 14:59:07 pytorch_lightning.utilities.rank_zero INFO: HPU available: False, using: 0 HPUs\n",
      "2022-06-14 14:59:07 pytorch_lightning.callbacks.model_summary INFO: \n",
      "  | Name      | Type       | Params\n",
      "-----------------------------------------\n",
      "0 | criterion | MSELoss    | 0     \n",
      "1 | stacks    | ModuleList | 8.5 M \n",
      "-----------------------------------------\n",
      "8.5 M     Trainable params\n",
      "3.2 K     Non-trainable params\n",
      "8.5 M     Total params\n",
      "67.633    Total estimated model params size (MB)\n"
     ]
    },
    {
     "data": {
      "application/vnd.jupyter.widget-view+json": {
       "model_id": "4493602107064ffa9d11d09b8bda70d9",
       "version_major": 2,
       "version_minor": 0
      },
      "text/plain": [
       "Training: 0it [00:00, ?it/s]"
      ]
     },
     "metadata": {},
     "output_type": "display_data"
    },
    {
     "data": {
      "application/vnd.jupyter.widget-view+json": {
       "model_id": "8802c8dcc6fa431cafb792d0e4213aa7",
       "version_major": 2,
       "version_minor": 0
      },
      "text/plain": [
       "Predicting: 8it [00:00, ?it/s]"
      ]
     },
     "metadata": {},
     "output_type": "display_data"
    },
    {
     "name": "stderr",
     "output_type": "stream",
     "text": [
      "[2022-06-14 14:59:12,303] INFO | darts.models.forecasting.torch_forecasting_model | Train dataset contains 2667 samples.\n",
      "[2022-06-14 14:59:12,303] INFO | darts.models.forecasting.torch_forecasting_model | Train dataset contains 2667 samples.\n",
      "2022-06-14 14:59:12 darts.models.forecasting.torch_forecasting_model INFO: Train dataset contains 2667 samples.\n",
      "[2022-06-14 14:59:12,333] INFO | darts.models.forecasting.torch_forecasting_model | Time series values are 64-bits; casting model to float64.\n",
      "[2022-06-14 14:59:12,333] INFO | darts.models.forecasting.torch_forecasting_model | Time series values are 64-bits; casting model to float64.\n",
      "2022-06-14 14:59:12 darts.models.forecasting.torch_forecasting_model INFO: Time series values are 64-bits; casting model to float64.\n",
      "2022-06-14 14:59:12 pytorch_lightning.utilities.rank_zero INFO: GPU available: False, used: False\n",
      "2022-06-14 14:59:12 pytorch_lightning.utilities.rank_zero INFO: TPU available: False, using: 0 TPU cores\n",
      "2022-06-14 14:59:12 pytorch_lightning.utilities.rank_zero INFO: IPU available: False, using: 0 IPUs\n",
      "2022-06-14 14:59:12 pytorch_lightning.utilities.rank_zero INFO: HPU available: False, using: 0 HPUs\n",
      "2022-06-14 14:59:12 pytorch_lightning.callbacks.model_summary INFO: \n",
      "  | Name      | Type       | Params\n",
      "-----------------------------------------\n",
      "0 | criterion | MSELoss    | 0     \n",
      "1 | stacks    | ModuleList | 8.5 M \n",
      "-----------------------------------------\n",
      "8.5 M     Trainable params\n",
      "3.2 K     Non-trainable params\n",
      "8.5 M     Total params\n",
      "67.633    Total estimated model params size (MB)\n"
     ]
    },
    {
     "data": {
      "application/vnd.jupyter.widget-view+json": {
       "model_id": "75790adc40594463b5984c4ef29358b4",
       "version_major": 2,
       "version_minor": 0
      },
      "text/plain": [
       "Training: 0it [00:00, ?it/s]"
      ]
     },
     "metadata": {},
     "output_type": "display_data"
    },
    {
     "data": {
      "application/vnd.jupyter.widget-view+json": {
       "model_id": "3aa09f1051084ee090a0f08174c5e777",
       "version_major": 2,
       "version_minor": 0
      },
      "text/plain": [
       "Predicting: 11it [00:00, ?it/s]"
      ]
     },
     "metadata": {},
     "output_type": "display_data"
    },
    {
     "name": "stderr",
     "output_type": "stream",
     "text": [
      "[2022-06-14 14:59:18,268] INFO | darts.models.forecasting.torch_forecasting_model | Train dataset contains 2667 samples.\n",
      "[2022-06-14 14:59:18,268] INFO | darts.models.forecasting.torch_forecasting_model | Train dataset contains 2667 samples.\n",
      "2022-06-14 14:59:18 darts.models.forecasting.torch_forecasting_model INFO: Train dataset contains 2667 samples.\n",
      "[2022-06-14 14:59:18,298] INFO | darts.models.forecasting.torch_forecasting_model | Time series values are 64-bits; casting model to float64.\n",
      "[2022-06-14 14:59:18,298] INFO | darts.models.forecasting.torch_forecasting_model | Time series values are 64-bits; casting model to float64.\n",
      "2022-06-14 14:59:18 darts.models.forecasting.torch_forecasting_model INFO: Time series values are 64-bits; casting model to float64.\n",
      "2022-06-14 14:59:18 pytorch_lightning.utilities.rank_zero INFO: GPU available: False, used: False\n",
      "2022-06-14 14:59:18 pytorch_lightning.utilities.rank_zero INFO: TPU available: False, using: 0 TPU cores\n",
      "2022-06-14 14:59:18 pytorch_lightning.utilities.rank_zero INFO: IPU available: False, using: 0 IPUs\n",
      "2022-06-14 14:59:18 pytorch_lightning.utilities.rank_zero INFO: HPU available: False, using: 0 HPUs\n",
      "2022-06-14 14:59:18 pytorch_lightning.callbacks.model_summary INFO: \n",
      "  | Name      | Type       | Params\n",
      "-----------------------------------------\n",
      "0 | criterion | MSELoss    | 0     \n",
      "1 | stacks    | ModuleList | 8.5 M \n",
      "-----------------------------------------\n",
      "8.5 M     Trainable params\n",
      "3.2 K     Non-trainable params\n",
      "8.5 M     Total params\n",
      "67.633    Total estimated model params size (MB)\n"
     ]
    },
    {
     "data": {
      "application/vnd.jupyter.widget-view+json": {
       "model_id": "46077384022846518cabab0fdc1b464d",
       "version_major": 2,
       "version_minor": 0
      },
      "text/plain": [
       "Training: 0it [00:00, ?it/s]"
      ]
     },
     "metadata": {},
     "output_type": "display_data"
    },
    {
     "data": {
      "application/vnd.jupyter.widget-view+json": {
       "model_id": "4f5f57e866b741689bf1afa5d61d8ae8",
       "version_major": 2,
       "version_minor": 0
      },
      "text/plain": [
       "Predicting: 11it [00:00, ?it/s]"
      ]
     },
     "metadata": {},
     "output_type": "display_data"
    },
    {
     "name": "stderr",
     "output_type": "stream",
     "text": [
      "[2022-06-14 14:59:24,430] INFO | darts.models.forecasting.torch_forecasting_model | Train dataset contains 2667 samples.\n",
      "[2022-06-14 14:59:24,430] INFO | darts.models.forecasting.torch_forecasting_model | Train dataset contains 2667 samples.\n",
      "2022-06-14 14:59:24 darts.models.forecasting.torch_forecasting_model INFO: Train dataset contains 2667 samples.\n",
      "[2022-06-14 14:59:24,477] INFO | darts.models.forecasting.torch_forecasting_model | Time series values are 64-bits; casting model to float64.\n",
      "[2022-06-14 14:59:24,477] INFO | darts.models.forecasting.torch_forecasting_model | Time series values are 64-bits; casting model to float64.\n",
      "2022-06-14 14:59:24 darts.models.forecasting.torch_forecasting_model INFO: Time series values are 64-bits; casting model to float64.\n",
      "2022-06-14 14:59:24 pytorch_lightning.utilities.rank_zero INFO: GPU available: False, used: False\n",
      "2022-06-14 14:59:24 pytorch_lightning.utilities.rank_zero INFO: TPU available: False, using: 0 TPU cores\n",
      "2022-06-14 14:59:24 pytorch_lightning.utilities.rank_zero INFO: IPU available: False, using: 0 IPUs\n",
      "2022-06-14 14:59:24 pytorch_lightning.utilities.rank_zero INFO: HPU available: False, using: 0 HPUs\n",
      "2022-06-14 14:59:24 pytorch_lightning.callbacks.model_summary INFO: \n",
      "  | Name      | Type       | Params\n",
      "-----------------------------------------\n",
      "0 | criterion | MSELoss    | 0     \n",
      "1 | stacks    | ModuleList | 8.5 M \n",
      "-----------------------------------------\n",
      "8.5 M     Trainable params\n",
      "3.2 K     Non-trainable params\n",
      "8.5 M     Total params\n",
      "67.633    Total estimated model params size (MB)\n"
     ]
    },
    {
     "data": {
      "application/vnd.jupyter.widget-view+json": {
       "model_id": "a8b595a8ed9c4878aaac5719dabf813f",
       "version_major": 2,
       "version_minor": 0
      },
      "text/plain": [
       "Training: 0it [00:00, ?it/s]"
      ]
     },
     "metadata": {},
     "output_type": "display_data"
    },
    {
     "data": {
      "application/vnd.jupyter.widget-view+json": {
       "model_id": "7895b0b466964502bbb321956c45ec8c",
       "version_major": 2,
       "version_minor": 0
      },
      "text/plain": [
       "Predicting: 11it [00:00, ?it/s]"
      ]
     },
     "metadata": {},
     "output_type": "display_data"
    },
    {
     "name": "stderr",
     "output_type": "stream",
     "text": [
      "[2022-06-14 14:59:30,476] INFO | darts.models.forecasting.torch_forecasting_model | Train dataset contains 2667 samples.\n",
      "[2022-06-14 14:59:30,476] INFO | darts.models.forecasting.torch_forecasting_model | Train dataset contains 2667 samples.\n",
      "2022-06-14 14:59:30 darts.models.forecasting.torch_forecasting_model INFO: Train dataset contains 2667 samples.\n",
      "[2022-06-14 14:59:30,506] INFO | darts.models.forecasting.torch_forecasting_model | Time series values are 64-bits; casting model to float64.\n",
      "[2022-06-14 14:59:30,506] INFO | darts.models.forecasting.torch_forecasting_model | Time series values are 64-bits; casting model to float64.\n",
      "2022-06-14 14:59:30 darts.models.forecasting.torch_forecasting_model INFO: Time series values are 64-bits; casting model to float64.\n",
      "2022-06-14 14:59:30 pytorch_lightning.utilities.rank_zero INFO: GPU available: False, used: False\n",
      "2022-06-14 14:59:30 pytorch_lightning.utilities.rank_zero INFO: TPU available: False, using: 0 TPU cores\n",
      "2022-06-14 14:59:30 pytorch_lightning.utilities.rank_zero INFO: IPU available: False, using: 0 IPUs\n",
      "2022-06-14 14:59:30 pytorch_lightning.utilities.rank_zero INFO: HPU available: False, using: 0 HPUs\n",
      "2022-06-14 14:59:30 pytorch_lightning.callbacks.model_summary INFO: \n",
      "  | Name      | Type       | Params\n",
      "-----------------------------------------\n",
      "0 | criterion | MSELoss    | 0     \n",
      "1 | stacks    | ModuleList | 8.5 M \n",
      "-----------------------------------------\n",
      "8.5 M     Trainable params\n",
      "3.2 K     Non-trainable params\n",
      "8.5 M     Total params\n",
      "67.633    Total estimated model params size (MB)\n"
     ]
    },
    {
     "data": {
      "application/vnd.jupyter.widget-view+json": {
       "model_id": "e80ea53f721646c38b4d00e92737acf4",
       "version_major": 2,
       "version_minor": 0
      },
      "text/plain": [
       "Training: 0it [00:00, ?it/s]"
      ]
     },
     "metadata": {},
     "output_type": "display_data"
    },
    {
     "data": {
      "application/vnd.jupyter.widget-view+json": {
       "model_id": "077b1d757cb0453d9e07d9ccf7a26653",
       "version_major": 2,
       "version_minor": 0
      },
      "text/plain": [
       "Predicting: 11it [00:00, ?it/s]"
      ]
     },
     "metadata": {},
     "output_type": "display_data"
    },
    {
     "name": "stderr",
     "output_type": "stream",
     "text": [
      "[2022-06-14 14:59:36,472] INFO | darts.models.forecasting.torch_forecasting_model | Train dataset contains 2667 samples.\n",
      "[2022-06-14 14:59:36,472] INFO | darts.models.forecasting.torch_forecasting_model | Train dataset contains 2667 samples.\n",
      "2022-06-14 14:59:36 darts.models.forecasting.torch_forecasting_model INFO: Train dataset contains 2667 samples.\n",
      "[2022-06-14 14:59:36,505] INFO | darts.models.forecasting.torch_forecasting_model | Time series values are 64-bits; casting model to float64.\n",
      "[2022-06-14 14:59:36,505] INFO | darts.models.forecasting.torch_forecasting_model | Time series values are 64-bits; casting model to float64.\n",
      "2022-06-14 14:59:36 darts.models.forecasting.torch_forecasting_model INFO: Time series values are 64-bits; casting model to float64.\n",
      "2022-06-14 14:59:36 pytorch_lightning.utilities.rank_zero INFO: GPU available: False, used: False\n",
      "2022-06-14 14:59:36 pytorch_lightning.utilities.rank_zero INFO: TPU available: False, using: 0 TPU cores\n",
      "2022-06-14 14:59:36 pytorch_lightning.utilities.rank_zero INFO: IPU available: False, using: 0 IPUs\n",
      "2022-06-14 14:59:36 pytorch_lightning.utilities.rank_zero INFO: HPU available: False, using: 0 HPUs\n",
      "2022-06-14 14:59:36 pytorch_lightning.callbacks.model_summary INFO: \n",
      "  | Name      | Type       | Params\n",
      "-----------------------------------------\n",
      "0 | criterion | MSELoss    | 0     \n",
      "1 | stacks    | ModuleList | 8.5 M \n",
      "-----------------------------------------\n",
      "8.5 M     Trainable params\n",
      "3.2 K     Non-trainable params\n",
      "8.5 M     Total params\n",
      "67.633    Total estimated model params size (MB)\n"
     ]
    },
    {
     "data": {
      "application/vnd.jupyter.widget-view+json": {
       "model_id": "c24023566cbe498ab75d929a5df2bc94",
       "version_major": 2,
       "version_minor": 0
      },
      "text/plain": [
       "Training: 0it [00:00, ?it/s]"
      ]
     },
     "metadata": {},
     "output_type": "display_data"
    },
    {
     "data": {
      "application/vnd.jupyter.widget-view+json": {
       "model_id": "31efab19d488497392c60a214ac1de07",
       "version_major": 2,
       "version_minor": 0
      },
      "text/plain": [
       "Predicting: 11it [00:00, ?it/s]"
      ]
     },
     "metadata": {},
     "output_type": "display_data"
    },
    {
     "name": "stderr",
     "output_type": "stream",
     "text": [
      "[2022-06-14 14:59:42,212] INFO | darts.models.forecasting.torch_forecasting_model | Train dataset contains 1920 samples.\n",
      "[2022-06-14 14:59:42,212] INFO | darts.models.forecasting.torch_forecasting_model | Train dataset contains 1920 samples.\n",
      "2022-06-14 14:59:42 darts.models.forecasting.torch_forecasting_model INFO: Train dataset contains 1920 samples.\n",
      "[2022-06-14 14:59:42,240] INFO | darts.models.forecasting.torch_forecasting_model | Time series values are 64-bits; casting model to float64.\n",
      "[2022-06-14 14:59:42,240] INFO | darts.models.forecasting.torch_forecasting_model | Time series values are 64-bits; casting model to float64.\n",
      "2022-06-14 14:59:42 darts.models.forecasting.torch_forecasting_model INFO: Time series values are 64-bits; casting model to float64.\n",
      "2022-06-14 14:59:42 pytorch_lightning.utilities.rank_zero INFO: GPU available: False, used: False\n",
      "2022-06-14 14:59:42 pytorch_lightning.utilities.rank_zero INFO: TPU available: False, using: 0 TPU cores\n",
      "2022-06-14 14:59:42 pytorch_lightning.utilities.rank_zero INFO: IPU available: False, using: 0 IPUs\n",
      "2022-06-14 14:59:42 pytorch_lightning.utilities.rank_zero INFO: HPU available: False, using: 0 HPUs\n",
      "2022-06-14 14:59:42 pytorch_lightning.callbacks.model_summary INFO: \n",
      "  | Name      | Type       | Params\n",
      "-----------------------------------------\n",
      "0 | criterion | MSELoss    | 0     \n",
      "1 | stacks    | ModuleList | 8.5 M \n",
      "-----------------------------------------\n",
      "8.5 M     Trainable params\n",
      "3.2 K     Non-trainable params\n",
      "8.5 M     Total params\n",
      "67.633    Total estimated model params size (MB)\n"
     ]
    },
    {
     "data": {
      "application/vnd.jupyter.widget-view+json": {
       "model_id": "a1c6573d67f34f4c831dda91ac599ed2",
       "version_major": 2,
       "version_minor": 0
      },
      "text/plain": [
       "Training: 0it [00:00, ?it/s]"
      ]
     },
     "metadata": {},
     "output_type": "display_data"
    },
    {
     "data": {
      "application/vnd.jupyter.widget-view+json": {
       "model_id": "abf81e01111d44859f9eb9eabf2725e9",
       "version_major": 2,
       "version_minor": 0
      },
      "text/plain": [
       "Predicting: 8it [00:00, ?it/s]"
      ]
     },
     "metadata": {},
     "output_type": "display_data"
    },
    {
     "name": "stderr",
     "output_type": "stream",
     "text": [
      "[2022-06-14 14:59:47,321] INFO | darts.models.forecasting.torch_forecasting_model | Train dataset contains 2701 samples.\n",
      "[2022-06-14 14:59:47,321] INFO | darts.models.forecasting.torch_forecasting_model | Train dataset contains 2701 samples.\n",
      "2022-06-14 14:59:47 darts.models.forecasting.torch_forecasting_model INFO: Train dataset contains 2701 samples.\n",
      "[2022-06-14 14:59:47,351] INFO | darts.models.forecasting.torch_forecasting_model | Time series values are 64-bits; casting model to float64.\n",
      "[2022-06-14 14:59:47,351] INFO | darts.models.forecasting.torch_forecasting_model | Time series values are 64-bits; casting model to float64.\n",
      "2022-06-14 14:59:47 darts.models.forecasting.torch_forecasting_model INFO: Time series values are 64-bits; casting model to float64.\n",
      "2022-06-14 14:59:47 pytorch_lightning.utilities.rank_zero INFO: GPU available: False, used: False\n",
      "2022-06-14 14:59:47 pytorch_lightning.utilities.rank_zero INFO: TPU available: False, using: 0 TPU cores\n",
      "2022-06-14 14:59:47 pytorch_lightning.utilities.rank_zero INFO: IPU available: False, using: 0 IPUs\n",
      "2022-06-14 14:59:47 pytorch_lightning.utilities.rank_zero INFO: HPU available: False, using: 0 HPUs\n",
      "2022-06-14 14:59:47 pytorch_lightning.callbacks.model_summary INFO: \n",
      "  | Name      | Type       | Params\n",
      "-----------------------------------------\n",
      "0 | criterion | MSELoss    | 0     \n",
      "1 | stacks    | ModuleList | 8.5 M \n",
      "-----------------------------------------\n",
      "8.5 M     Trainable params\n",
      "3.2 K     Non-trainable params\n",
      "8.5 M     Total params\n",
      "67.633    Total estimated model params size (MB)\n"
     ]
    },
    {
     "data": {
      "application/vnd.jupyter.widget-view+json": {
       "model_id": "bf40c69d4c47432fa189b8f26cbd5165",
       "version_major": 2,
       "version_minor": 0
      },
      "text/plain": [
       "Training: 0it [00:00, ?it/s]"
      ]
     },
     "metadata": {},
     "output_type": "display_data"
    },
    {
     "data": {
      "application/vnd.jupyter.widget-view+json": {
       "model_id": "2ea03ea42ca14dbb87bedac3c40dee6a",
       "version_major": 2,
       "version_minor": 0
      },
      "text/plain": [
       "Predicting: 11it [00:00, ?it/s]"
      ]
     },
     "metadata": {},
     "output_type": "display_data"
    },
    {
     "name": "stderr",
     "output_type": "stream",
     "text": [
      "[2022-06-14 14:59:53,875] INFO | darts.models.forecasting.torch_forecasting_model | Train dataset contains 2701 samples.\n",
      "[2022-06-14 14:59:53,875] INFO | darts.models.forecasting.torch_forecasting_model | Train dataset contains 2701 samples.\n",
      "2022-06-14 14:59:53 darts.models.forecasting.torch_forecasting_model INFO: Train dataset contains 2701 samples.\n",
      "[2022-06-14 14:59:53,903] INFO | darts.models.forecasting.torch_forecasting_model | Time series values are 64-bits; casting model to float64.\n",
      "[2022-06-14 14:59:53,903] INFO | darts.models.forecasting.torch_forecasting_model | Time series values are 64-bits; casting model to float64.\n",
      "2022-06-14 14:59:53 darts.models.forecasting.torch_forecasting_model INFO: Time series values are 64-bits; casting model to float64.\n",
      "2022-06-14 14:59:53 pytorch_lightning.utilities.rank_zero INFO: GPU available: False, used: False\n",
      "2022-06-14 14:59:53 pytorch_lightning.utilities.rank_zero INFO: TPU available: False, using: 0 TPU cores\n",
      "2022-06-14 14:59:53 pytorch_lightning.utilities.rank_zero INFO: IPU available: False, using: 0 IPUs\n",
      "2022-06-14 14:59:53 pytorch_lightning.utilities.rank_zero INFO: HPU available: False, using: 0 HPUs\n",
      "2022-06-14 14:59:53 pytorch_lightning.callbacks.model_summary INFO: \n",
      "  | Name      | Type       | Params\n",
      "-----------------------------------------\n",
      "0 | criterion | MSELoss    | 0     \n",
      "1 | stacks    | ModuleList | 8.5 M \n",
      "-----------------------------------------\n",
      "8.5 M     Trainable params\n",
      "3.2 K     Non-trainable params\n",
      "8.5 M     Total params\n",
      "67.633    Total estimated model params size (MB)\n"
     ]
    },
    {
     "data": {
      "application/vnd.jupyter.widget-view+json": {
       "model_id": "045a8cd6d1af450cacdbe33bd0035fe5",
       "version_major": 2,
       "version_minor": 0
      },
      "text/plain": [
       "Training: 0it [00:00, ?it/s]"
      ]
     },
     "metadata": {},
     "output_type": "display_data"
    },
    {
     "data": {
      "application/vnd.jupyter.widget-view+json": {
       "model_id": "5d706526c3d945e49b35f5e2ef391e92",
       "version_major": 2,
       "version_minor": 0
      },
      "text/plain": [
       "Predicting: 11it [00:00, ?it/s]"
      ]
     },
     "metadata": {},
     "output_type": "display_data"
    },
    {
     "name": "stderr",
     "output_type": "stream",
     "text": [
      "[2022-06-14 14:59:59,790] INFO | darts.models.forecasting.torch_forecasting_model | Train dataset contains 2701 samples.\n",
      "[2022-06-14 14:59:59,790] INFO | darts.models.forecasting.torch_forecasting_model | Train dataset contains 2701 samples.\n",
      "2022-06-14 14:59:59 darts.models.forecasting.torch_forecasting_model INFO: Train dataset contains 2701 samples.\n",
      "[2022-06-14 14:59:59,819] INFO | darts.models.forecasting.torch_forecasting_model | Time series values are 64-bits; casting model to float64.\n",
      "[2022-06-14 14:59:59,819] INFO | darts.models.forecasting.torch_forecasting_model | Time series values are 64-bits; casting model to float64.\n",
      "2022-06-14 14:59:59 darts.models.forecasting.torch_forecasting_model INFO: Time series values are 64-bits; casting model to float64.\n",
      "2022-06-14 14:59:59 pytorch_lightning.utilities.rank_zero INFO: GPU available: False, used: False\n",
      "2022-06-14 14:59:59 pytorch_lightning.utilities.rank_zero INFO: TPU available: False, using: 0 TPU cores\n",
      "2022-06-14 14:59:59 pytorch_lightning.utilities.rank_zero INFO: IPU available: False, using: 0 IPUs\n",
      "2022-06-14 14:59:59 pytorch_lightning.utilities.rank_zero INFO: HPU available: False, using: 0 HPUs\n",
      "2022-06-14 14:59:59 pytorch_lightning.callbacks.model_summary INFO: \n",
      "  | Name      | Type       | Params\n",
      "-----------------------------------------\n",
      "0 | criterion | MSELoss    | 0     \n",
      "1 | stacks    | ModuleList | 8.5 M \n",
      "-----------------------------------------\n",
      "8.5 M     Trainable params\n",
      "3.2 K     Non-trainable params\n",
      "8.5 M     Total params\n",
      "67.633    Total estimated model params size (MB)\n"
     ]
    },
    {
     "data": {
      "application/vnd.jupyter.widget-view+json": {
       "model_id": "96f4a85faa5744b19fc693497f1792db",
       "version_major": 2,
       "version_minor": 0
      },
      "text/plain": [
       "Training: 0it [00:00, ?it/s]"
      ]
     },
     "metadata": {},
     "output_type": "display_data"
    },
    {
     "data": {
      "application/vnd.jupyter.widget-view+json": {
       "model_id": "7c3d19a9199348ee8bbec9bea01b568a",
       "version_major": 2,
       "version_minor": 0
      },
      "text/plain": [
       "Predicting: 11it [00:00, ?it/s]"
      ]
     },
     "metadata": {},
     "output_type": "display_data"
    },
    {
     "name": "stderr",
     "output_type": "stream",
     "text": [
      "[2022-06-14 15:00:06,228] INFO | darts.models.forecasting.torch_forecasting_model | Train dataset contains 2700 samples.\n",
      "[2022-06-14 15:00:06,228] INFO | darts.models.forecasting.torch_forecasting_model | Train dataset contains 2700 samples.\n",
      "2022-06-14 15:00:06 darts.models.forecasting.torch_forecasting_model INFO: Train dataset contains 2700 samples.\n",
      "[2022-06-14 15:00:06,260] INFO | darts.models.forecasting.torch_forecasting_model | Time series values are 64-bits; casting model to float64.\n",
      "[2022-06-14 15:00:06,260] INFO | darts.models.forecasting.torch_forecasting_model | Time series values are 64-bits; casting model to float64.\n",
      "2022-06-14 15:00:06 darts.models.forecasting.torch_forecasting_model INFO: Time series values are 64-bits; casting model to float64.\n",
      "2022-06-14 15:00:06 pytorch_lightning.utilities.rank_zero INFO: GPU available: False, used: False\n",
      "2022-06-14 15:00:06 pytorch_lightning.utilities.rank_zero INFO: TPU available: False, using: 0 TPU cores\n",
      "2022-06-14 15:00:06 pytorch_lightning.utilities.rank_zero INFO: IPU available: False, using: 0 IPUs\n",
      "2022-06-14 15:00:06 pytorch_lightning.utilities.rank_zero INFO: HPU available: False, using: 0 HPUs\n",
      "2022-06-14 15:00:06 pytorch_lightning.callbacks.model_summary INFO: \n",
      "  | Name      | Type       | Params\n",
      "-----------------------------------------\n",
      "0 | criterion | MSELoss    | 0     \n",
      "1 | stacks    | ModuleList | 8.5 M \n",
      "-----------------------------------------\n",
      "8.5 M     Trainable params\n",
      "3.2 K     Non-trainable params\n",
      "8.5 M     Total params\n",
      "67.633    Total estimated model params size (MB)\n"
     ]
    },
    {
     "data": {
      "application/vnd.jupyter.widget-view+json": {
       "model_id": "656876d3c61f4aada542aa349b432175",
       "version_major": 2,
       "version_minor": 0
      },
      "text/plain": [
       "Training: 0it [00:00, ?it/s]"
      ]
     },
     "metadata": {},
     "output_type": "display_data"
    },
    {
     "data": {
      "application/vnd.jupyter.widget-view+json": {
       "model_id": "8f1064759cec4f13a093448266d9a500",
       "version_major": 2,
       "version_minor": 0
      },
      "text/plain": [
       "Predicting: 11it [00:00, ?it/s]"
      ]
     },
     "metadata": {},
     "output_type": "display_data"
    },
    {
     "name": "stderr",
     "output_type": "stream",
     "text": [
      "[2022-06-14 15:00:12,302] INFO | darts.models.forecasting.torch_forecasting_model | Train dataset contains 2700 samples.\n",
      "[2022-06-14 15:00:12,302] INFO | darts.models.forecasting.torch_forecasting_model | Train dataset contains 2700 samples.\n",
      "2022-06-14 15:00:12 darts.models.forecasting.torch_forecasting_model INFO: Train dataset contains 2700 samples.\n",
      "[2022-06-14 15:00:12,349] INFO | darts.models.forecasting.torch_forecasting_model | Time series values are 64-bits; casting model to float64.\n",
      "[2022-06-14 15:00:12,349] INFO | darts.models.forecasting.torch_forecasting_model | Time series values are 64-bits; casting model to float64.\n",
      "2022-06-14 15:00:12 darts.models.forecasting.torch_forecasting_model INFO: Time series values are 64-bits; casting model to float64.\n",
      "2022-06-14 15:00:12 pytorch_lightning.utilities.rank_zero INFO: GPU available: False, used: False\n",
      "2022-06-14 15:00:12 pytorch_lightning.utilities.rank_zero INFO: TPU available: False, using: 0 TPU cores\n",
      "2022-06-14 15:00:12 pytorch_lightning.utilities.rank_zero INFO: IPU available: False, using: 0 IPUs\n",
      "2022-06-14 15:00:12 pytorch_lightning.utilities.rank_zero INFO: HPU available: False, using: 0 HPUs\n",
      "2022-06-14 15:00:12 pytorch_lightning.callbacks.model_summary INFO: \n",
      "  | Name      | Type       | Params\n",
      "-----------------------------------------\n",
      "0 | criterion | MSELoss    | 0     \n",
      "1 | stacks    | ModuleList | 8.5 M \n",
      "-----------------------------------------\n",
      "8.5 M     Trainable params\n",
      "3.2 K     Non-trainable params\n",
      "8.5 M     Total params\n",
      "67.633    Total estimated model params size (MB)\n"
     ]
    },
    {
     "data": {
      "application/vnd.jupyter.widget-view+json": {
       "model_id": "466444185c534075a03841ede4368fac",
       "version_major": 2,
       "version_minor": 0
      },
      "text/plain": [
       "Training: 0it [00:00, ?it/s]"
      ]
     },
     "metadata": {},
     "output_type": "display_data"
    },
    {
     "data": {
      "application/vnd.jupyter.widget-view+json": {
       "model_id": "80d113396e744ecdbd4da5c549f5a9f4",
       "version_major": 2,
       "version_minor": 0
      },
      "text/plain": [
       "Predicting: 11it [00:00, ?it/s]"
      ]
     },
     "metadata": {},
     "output_type": "display_data"
    },
    {
     "name": "stderr",
     "output_type": "stream",
     "text": [
      "[2022-06-14 15:00:18,403] INFO | darts.models.forecasting.torch_forecasting_model | Train dataset contains 2654 samples.\n",
      "[2022-06-14 15:00:18,403] INFO | darts.models.forecasting.torch_forecasting_model | Train dataset contains 2654 samples.\n",
      "2022-06-14 15:00:18 darts.models.forecasting.torch_forecasting_model INFO: Train dataset contains 2654 samples.\n",
      "[2022-06-14 15:00:18,435] INFO | darts.models.forecasting.torch_forecasting_model | Time series values are 64-bits; casting model to float64.\n",
      "[2022-06-14 15:00:18,435] INFO | darts.models.forecasting.torch_forecasting_model | Time series values are 64-bits; casting model to float64.\n",
      "2022-06-14 15:00:18 darts.models.forecasting.torch_forecasting_model INFO: Time series values are 64-bits; casting model to float64.\n",
      "2022-06-14 15:00:18 pytorch_lightning.utilities.rank_zero INFO: GPU available: False, used: False\n",
      "2022-06-14 15:00:18 pytorch_lightning.utilities.rank_zero INFO: TPU available: False, using: 0 TPU cores\n",
      "2022-06-14 15:00:18 pytorch_lightning.utilities.rank_zero INFO: IPU available: False, using: 0 IPUs\n",
      "2022-06-14 15:00:18 pytorch_lightning.utilities.rank_zero INFO: HPU available: False, using: 0 HPUs\n",
      "2022-06-14 15:00:18 pytorch_lightning.callbacks.model_summary INFO: \n",
      "  | Name      | Type       | Params\n",
      "-----------------------------------------\n",
      "0 | criterion | MSELoss    | 0     \n",
      "1 | stacks    | ModuleList | 8.5 M \n",
      "-----------------------------------------\n",
      "8.5 M     Trainable params\n",
      "3.2 K     Non-trainable params\n",
      "8.5 M     Total params\n",
      "67.633    Total estimated model params size (MB)\n"
     ]
    },
    {
     "data": {
      "application/vnd.jupyter.widget-view+json": {
       "model_id": "bec2be103de843d58255a95333e6bd9e",
       "version_major": 2,
       "version_minor": 0
      },
      "text/plain": [
       "Training: 0it [00:00, ?it/s]"
      ]
     },
     "metadata": {},
     "output_type": "display_data"
    },
    {
     "data": {
      "application/vnd.jupyter.widget-view+json": {
       "model_id": "7d5638ddf98b4345aee7e77e7bafe174",
       "version_major": 2,
       "version_minor": 0
      },
      "text/plain": [
       "Predicting: 11it [00:00, ?it/s]"
      ]
     },
     "metadata": {},
     "output_type": "display_data"
    },
    {
     "name": "stderr",
     "output_type": "stream",
     "text": [
      "[2022-06-14 15:00:24,245] INFO | darts.models.forecasting.torch_forecasting_model | Train dataset contains 2727 samples.\n",
      "[2022-06-14 15:00:24,245] INFO | darts.models.forecasting.torch_forecasting_model | Train dataset contains 2727 samples.\n",
      "2022-06-14 15:00:24 darts.models.forecasting.torch_forecasting_model INFO: Train dataset contains 2727 samples.\n",
      "[2022-06-14 15:00:24,275] INFO | darts.models.forecasting.torch_forecasting_model | Time series values are 64-bits; casting model to float64.\n",
      "[2022-06-14 15:00:24,275] INFO | darts.models.forecasting.torch_forecasting_model | Time series values are 64-bits; casting model to float64.\n",
      "2022-06-14 15:00:24 darts.models.forecasting.torch_forecasting_model INFO: Time series values are 64-bits; casting model to float64.\n",
      "2022-06-14 15:00:24 pytorch_lightning.utilities.rank_zero INFO: GPU available: False, used: False\n",
      "2022-06-14 15:00:24 pytorch_lightning.utilities.rank_zero INFO: TPU available: False, using: 0 TPU cores\n",
      "2022-06-14 15:00:24 pytorch_lightning.utilities.rank_zero INFO: IPU available: False, using: 0 IPUs\n",
      "2022-06-14 15:00:24 pytorch_lightning.utilities.rank_zero INFO: HPU available: False, using: 0 HPUs\n",
      "2022-06-14 15:00:24 pytorch_lightning.callbacks.model_summary INFO: \n",
      "  | Name      | Type       | Params\n",
      "-----------------------------------------\n",
      "0 | criterion | MSELoss    | 0     \n",
      "1 | stacks    | ModuleList | 8.5 M \n",
      "-----------------------------------------\n",
      "8.5 M     Trainable params\n",
      "3.2 K     Non-trainable params\n",
      "8.5 M     Total params\n",
      "67.633    Total estimated model params size (MB)\n"
     ]
    },
    {
     "data": {
      "application/vnd.jupyter.widget-view+json": {
       "model_id": "32bb1a79b74547ce937749042b63cdcd",
       "version_major": 2,
       "version_minor": 0
      },
      "text/plain": [
       "Training: 0it [00:00, ?it/s]"
      ]
     },
     "metadata": {},
     "output_type": "display_data"
    },
    {
     "data": {
      "application/vnd.jupyter.widget-view+json": {
       "model_id": "85fd6748e8b143199011de60617ce483",
       "version_major": 2,
       "version_minor": 0
      },
      "text/plain": [
       "Predicting: 11it [00:00, ?it/s]"
      ]
     },
     "metadata": {},
     "output_type": "display_data"
    },
    {
     "name": "stderr",
     "output_type": "stream",
     "text": [
      "[2022-06-14 15:00:30,827] INFO | darts.models.forecasting.torch_forecasting_model | Train dataset contains 2727 samples.\n",
      "[2022-06-14 15:00:30,827] INFO | darts.models.forecasting.torch_forecasting_model | Train dataset contains 2727 samples.\n",
      "2022-06-14 15:00:30 darts.models.forecasting.torch_forecasting_model INFO: Train dataset contains 2727 samples.\n",
      "[2022-06-14 15:00:30,857] INFO | darts.models.forecasting.torch_forecasting_model | Time series values are 64-bits; casting model to float64.\n",
      "[2022-06-14 15:00:30,857] INFO | darts.models.forecasting.torch_forecasting_model | Time series values are 64-bits; casting model to float64.\n",
      "2022-06-14 15:00:30 darts.models.forecasting.torch_forecasting_model INFO: Time series values are 64-bits; casting model to float64.\n",
      "2022-06-14 15:00:30 pytorch_lightning.utilities.rank_zero INFO: GPU available: False, used: False\n",
      "2022-06-14 15:00:30 pytorch_lightning.utilities.rank_zero INFO: TPU available: False, using: 0 TPU cores\n",
      "2022-06-14 15:00:30 pytorch_lightning.utilities.rank_zero INFO: IPU available: False, using: 0 IPUs\n",
      "2022-06-14 15:00:30 pytorch_lightning.utilities.rank_zero INFO: HPU available: False, using: 0 HPUs\n",
      "2022-06-14 15:00:30 pytorch_lightning.callbacks.model_summary INFO: \n",
      "  | Name      | Type       | Params\n",
      "-----------------------------------------\n",
      "0 | criterion | MSELoss    | 0     \n",
      "1 | stacks    | ModuleList | 8.5 M \n",
      "-----------------------------------------\n",
      "8.5 M     Trainable params\n",
      "3.2 K     Non-trainable params\n",
      "8.5 M     Total params\n",
      "67.633    Total estimated model params size (MB)\n"
     ]
    },
    {
     "data": {
      "application/vnd.jupyter.widget-view+json": {
       "model_id": "2cc21b1edc8c4f3cad961ac8c02ad26b",
       "version_major": 2,
       "version_minor": 0
      },
      "text/plain": [
       "Training: 0it [00:00, ?it/s]"
      ]
     },
     "metadata": {},
     "output_type": "display_data"
    },
    {
     "data": {
      "application/vnd.jupyter.widget-view+json": {
       "model_id": "dff461f3095c4296a06a2a2399144311",
       "version_major": 2,
       "version_minor": 0
      },
      "text/plain": [
       "Predicting: 11it [00:00, ?it/s]"
      ]
     },
     "metadata": {},
     "output_type": "display_data"
    },
    {
     "name": "stderr",
     "output_type": "stream",
     "text": [
      "[2022-06-14 15:00:36,884] INFO | darts.models.forecasting.torch_forecasting_model | Train dataset contains 2727 samples.\n",
      "[2022-06-14 15:00:36,884] INFO | darts.models.forecasting.torch_forecasting_model | Train dataset contains 2727 samples.\n",
      "2022-06-14 15:00:36 darts.models.forecasting.torch_forecasting_model INFO: Train dataset contains 2727 samples.\n",
      "[2022-06-14 15:00:36,923] INFO | darts.models.forecasting.torch_forecasting_model | Time series values are 64-bits; casting model to float64.\n",
      "[2022-06-14 15:00:36,923] INFO | darts.models.forecasting.torch_forecasting_model | Time series values are 64-bits; casting model to float64.\n",
      "2022-06-14 15:00:36 darts.models.forecasting.torch_forecasting_model INFO: Time series values are 64-bits; casting model to float64.\n",
      "2022-06-14 15:00:36 pytorch_lightning.utilities.rank_zero INFO: GPU available: False, used: False\n",
      "2022-06-14 15:00:36 pytorch_lightning.utilities.rank_zero INFO: TPU available: False, using: 0 TPU cores\n",
      "2022-06-14 15:00:36 pytorch_lightning.utilities.rank_zero INFO: IPU available: False, using: 0 IPUs\n",
      "2022-06-14 15:00:36 pytorch_lightning.utilities.rank_zero INFO: HPU available: False, using: 0 HPUs\n",
      "2022-06-14 15:00:36 pytorch_lightning.callbacks.model_summary INFO: \n",
      "  | Name      | Type       | Params\n",
      "-----------------------------------------\n",
      "0 | criterion | MSELoss    | 0     \n",
      "1 | stacks    | ModuleList | 8.5 M \n",
      "-----------------------------------------\n",
      "8.5 M     Trainable params\n",
      "3.2 K     Non-trainable params\n",
      "8.5 M     Total params\n",
      "67.633    Total estimated model params size (MB)\n"
     ]
    },
    {
     "data": {
      "application/vnd.jupyter.widget-view+json": {
       "model_id": "4dc19d45dbae45aaa285103bb55bf157",
       "version_major": 2,
       "version_minor": 0
      },
      "text/plain": [
       "Training: 0it [00:00, ?it/s]"
      ]
     },
     "metadata": {},
     "output_type": "display_data"
    },
    {
     "data": {
      "application/vnd.jupyter.widget-view+json": {
       "model_id": "1dca9ce3f2344e7dabcccf0c308c3623",
       "version_major": 2,
       "version_minor": 0
      },
      "text/plain": [
       "Predicting: 11it [00:00, ?it/s]"
      ]
     },
     "metadata": {},
     "output_type": "display_data"
    },
    {
     "name": "stderr",
     "output_type": "stream",
     "text": [
      "[2022-06-14 15:00:44,125] INFO | darts.models.forecasting.torch_forecasting_model | Train dataset contains 2727 samples.\n",
      "[2022-06-14 15:00:44,125] INFO | darts.models.forecasting.torch_forecasting_model | Train dataset contains 2727 samples.\n",
      "2022-06-14 15:00:44 darts.models.forecasting.torch_forecasting_model INFO: Train dataset contains 2727 samples.\n",
      "[2022-06-14 15:00:44,154] INFO | darts.models.forecasting.torch_forecasting_model | Time series values are 64-bits; casting model to float64.\n",
      "[2022-06-14 15:00:44,154] INFO | darts.models.forecasting.torch_forecasting_model | Time series values are 64-bits; casting model to float64.\n",
      "2022-06-14 15:00:44 darts.models.forecasting.torch_forecasting_model INFO: Time series values are 64-bits; casting model to float64.\n",
      "2022-06-14 15:00:44 pytorch_lightning.utilities.rank_zero INFO: GPU available: False, used: False\n",
      "2022-06-14 15:00:44 pytorch_lightning.utilities.rank_zero INFO: TPU available: False, using: 0 TPU cores\n",
      "2022-06-14 15:00:44 pytorch_lightning.utilities.rank_zero INFO: IPU available: False, using: 0 IPUs\n",
      "2022-06-14 15:00:44 pytorch_lightning.utilities.rank_zero INFO: HPU available: False, using: 0 HPUs\n",
      "2022-06-14 15:00:44 pytorch_lightning.callbacks.model_summary INFO: \n",
      "  | Name      | Type       | Params\n",
      "-----------------------------------------\n",
      "0 | criterion | MSELoss    | 0     \n",
      "1 | stacks    | ModuleList | 8.5 M \n",
      "-----------------------------------------\n",
      "8.5 M     Trainable params\n",
      "3.2 K     Non-trainable params\n",
      "8.5 M     Total params\n",
      "67.633    Total estimated model params size (MB)\n"
     ]
    },
    {
     "data": {
      "application/vnd.jupyter.widget-view+json": {
       "model_id": "04bf04e8bc974bc190f8fa17a270d43a",
       "version_major": 2,
       "version_minor": 0
      },
      "text/plain": [
       "Training: 0it [00:00, ?it/s]"
      ]
     },
     "metadata": {},
     "output_type": "display_data"
    },
    {
     "data": {
      "application/vnd.jupyter.widget-view+json": {
       "model_id": "392318cbc5bc45f894554d4ec1ddb7a1",
       "version_major": 2,
       "version_minor": 0
      },
      "text/plain": [
       "Predicting: 11it [00:00, ?it/s]"
      ]
     },
     "metadata": {},
     "output_type": "display_data"
    },
    {
     "name": "stderr",
     "output_type": "stream",
     "text": [
      "[2022-06-14 15:00:49,870] INFO | darts.models.forecasting.torch_forecasting_model | Train dataset contains 2727 samples.\n",
      "[2022-06-14 15:00:49,870] INFO | darts.models.forecasting.torch_forecasting_model | Train dataset contains 2727 samples.\n",
      "2022-06-14 15:00:49 darts.models.forecasting.torch_forecasting_model INFO: Train dataset contains 2727 samples.\n",
      "[2022-06-14 15:00:49,900] INFO | darts.models.forecasting.torch_forecasting_model | Time series values are 64-bits; casting model to float64.\n",
      "[2022-06-14 15:00:49,900] INFO | darts.models.forecasting.torch_forecasting_model | Time series values are 64-bits; casting model to float64.\n",
      "2022-06-14 15:00:49 darts.models.forecasting.torch_forecasting_model INFO: Time series values are 64-bits; casting model to float64.\n",
      "2022-06-14 15:00:49 pytorch_lightning.utilities.rank_zero INFO: GPU available: False, used: False\n",
      "2022-06-14 15:00:49 pytorch_lightning.utilities.rank_zero INFO: TPU available: False, using: 0 TPU cores\n",
      "2022-06-14 15:00:49 pytorch_lightning.utilities.rank_zero INFO: IPU available: False, using: 0 IPUs\n",
      "2022-06-14 15:00:49 pytorch_lightning.utilities.rank_zero INFO: HPU available: False, using: 0 HPUs\n",
      "2022-06-14 15:00:49 pytorch_lightning.callbacks.model_summary INFO: \n",
      "  | Name      | Type       | Params\n",
      "-----------------------------------------\n",
      "0 | criterion | MSELoss    | 0     \n",
      "1 | stacks    | ModuleList | 8.5 M \n",
      "-----------------------------------------\n",
      "8.5 M     Trainable params\n",
      "3.2 K     Non-trainable params\n",
      "8.5 M     Total params\n",
      "67.633    Total estimated model params size (MB)\n"
     ]
    },
    {
     "data": {
      "application/vnd.jupyter.widget-view+json": {
       "model_id": "907a95504127491481eb1e895435c327",
       "version_major": 2,
       "version_minor": 0
      },
      "text/plain": [
       "Training: 0it [00:00, ?it/s]"
      ]
     },
     "metadata": {},
     "output_type": "display_data"
    },
    {
     "data": {
      "application/vnd.jupyter.widget-view+json": {
       "model_id": "91e1efd054074deaa8f9ab61cb1a3930",
       "version_major": 2,
       "version_minor": 0
      },
      "text/plain": [
       "Predicting: 11it [00:00, ?it/s]"
      ]
     },
     "metadata": {},
     "output_type": "display_data"
    },
    {
     "name": "stderr",
     "output_type": "stream",
     "text": [
      "[2022-06-14 15:00:55,510] INFO | darts.models.forecasting.torch_forecasting_model | Train dataset contains 1633 samples.\n",
      "[2022-06-14 15:00:55,510] INFO | darts.models.forecasting.torch_forecasting_model | Train dataset contains 1633 samples.\n",
      "2022-06-14 15:00:55 darts.models.forecasting.torch_forecasting_model INFO: Train dataset contains 1633 samples.\n",
      "[2022-06-14 15:00:55,541] INFO | darts.models.forecasting.torch_forecasting_model | Time series values are 64-bits; casting model to float64.\n",
      "[2022-06-14 15:00:55,541] INFO | darts.models.forecasting.torch_forecasting_model | Time series values are 64-bits; casting model to float64.\n",
      "2022-06-14 15:00:55 darts.models.forecasting.torch_forecasting_model INFO: Time series values are 64-bits; casting model to float64.\n",
      "2022-06-14 15:00:55 pytorch_lightning.utilities.rank_zero INFO: GPU available: False, used: False\n",
      "2022-06-14 15:00:55 pytorch_lightning.utilities.rank_zero INFO: TPU available: False, using: 0 TPU cores\n",
      "2022-06-14 15:00:55 pytorch_lightning.utilities.rank_zero INFO: IPU available: False, using: 0 IPUs\n",
      "2022-06-14 15:00:55 pytorch_lightning.utilities.rank_zero INFO: HPU available: False, using: 0 HPUs\n",
      "2022-06-14 15:00:55 pytorch_lightning.callbacks.model_summary INFO: \n",
      "  | Name      | Type       | Params\n",
      "-----------------------------------------\n",
      "0 | criterion | MSELoss    | 0     \n",
      "1 | stacks    | ModuleList | 8.5 M \n",
      "-----------------------------------------\n",
      "8.5 M     Trainable params\n",
      "3.2 K     Non-trainable params\n",
      "8.5 M     Total params\n",
      "67.633    Total estimated model params size (MB)\n"
     ]
    },
    {
     "data": {
      "application/vnd.jupyter.widget-view+json": {
       "model_id": "63325332e2b9426c96fc7a709c3d925c",
       "version_major": 2,
       "version_minor": 0
      },
      "text/plain": [
       "Training: 0it [00:00, ?it/s]"
      ]
     },
     "metadata": {},
     "output_type": "display_data"
    },
    {
     "data": {
      "application/vnd.jupyter.widget-view+json": {
       "model_id": "3a208cf9757048fe9f8f3f1fd1aace9f",
       "version_major": 2,
       "version_minor": 0
      },
      "text/plain": [
       "Predicting: 7it [00:00, ?it/s]"
      ]
     },
     "metadata": {},
     "output_type": "display_data"
    },
    {
     "name": "stderr",
     "output_type": "stream",
     "text": [
      "[2022-06-14 15:01:00,037] INFO | darts.models.forecasting.torch_forecasting_model | Train dataset contains 2728 samples.\n",
      "[2022-06-14 15:01:00,037] INFO | darts.models.forecasting.torch_forecasting_model | Train dataset contains 2728 samples.\n",
      "2022-06-14 15:01:00 darts.models.forecasting.torch_forecasting_model INFO: Train dataset contains 2728 samples.\n",
      "[2022-06-14 15:01:00,067] INFO | darts.models.forecasting.torch_forecasting_model | Time series values are 64-bits; casting model to float64.\n",
      "[2022-06-14 15:01:00,067] INFO | darts.models.forecasting.torch_forecasting_model | Time series values are 64-bits; casting model to float64.\n",
      "2022-06-14 15:01:00 darts.models.forecasting.torch_forecasting_model INFO: Time series values are 64-bits; casting model to float64.\n",
      "2022-06-14 15:01:00 pytorch_lightning.utilities.rank_zero INFO: GPU available: False, used: False\n",
      "2022-06-14 15:01:00 pytorch_lightning.utilities.rank_zero INFO: TPU available: False, using: 0 TPU cores\n",
      "2022-06-14 15:01:00 pytorch_lightning.utilities.rank_zero INFO: IPU available: False, using: 0 IPUs\n",
      "2022-06-14 15:01:00 pytorch_lightning.utilities.rank_zero INFO: HPU available: False, using: 0 HPUs\n",
      "2022-06-14 15:01:00 pytorch_lightning.callbacks.model_summary INFO: \n",
      "  | Name      | Type       | Params\n",
      "-----------------------------------------\n",
      "0 | criterion | MSELoss    | 0     \n",
      "1 | stacks    | ModuleList | 8.5 M \n",
      "-----------------------------------------\n",
      "8.5 M     Trainable params\n",
      "3.2 K     Non-trainable params\n",
      "8.5 M     Total params\n",
      "67.633    Total estimated model params size (MB)\n"
     ]
    },
    {
     "data": {
      "application/vnd.jupyter.widget-view+json": {
       "model_id": "95ce095c2f2741cfa0da50f315e6fc18",
       "version_major": 2,
       "version_minor": 0
      },
      "text/plain": [
       "Training: 0it [00:00, ?it/s]"
      ]
     },
     "metadata": {},
     "output_type": "display_data"
    },
    {
     "data": {
      "application/vnd.jupyter.widget-view+json": {
       "model_id": "65e0dc15a339426b9db2b1cf26a78332",
       "version_major": 2,
       "version_minor": 0
      },
      "text/plain": [
       "Predicting: 11it [00:00, ?it/s]"
      ]
     },
     "metadata": {},
     "output_type": "display_data"
    },
    {
     "name": "stderr",
     "output_type": "stream",
     "text": [
      "[2022-06-14 15:01:06,320] INFO | darts.models.forecasting.torch_forecasting_model | Train dataset contains 2728 samples.\n",
      "[2022-06-14 15:01:06,320] INFO | darts.models.forecasting.torch_forecasting_model | Train dataset contains 2728 samples.\n",
      "2022-06-14 15:01:06 darts.models.forecasting.torch_forecasting_model INFO: Train dataset contains 2728 samples.\n",
      "[2022-06-14 15:01:06,370] INFO | darts.models.forecasting.torch_forecasting_model | Time series values are 64-bits; casting model to float64.\n",
      "[2022-06-14 15:01:06,370] INFO | darts.models.forecasting.torch_forecasting_model | Time series values are 64-bits; casting model to float64.\n",
      "2022-06-14 15:01:06 darts.models.forecasting.torch_forecasting_model INFO: Time series values are 64-bits; casting model to float64.\n",
      "2022-06-14 15:01:06 pytorch_lightning.utilities.rank_zero INFO: GPU available: False, used: False\n",
      "2022-06-14 15:01:06 pytorch_lightning.utilities.rank_zero INFO: TPU available: False, using: 0 TPU cores\n",
      "2022-06-14 15:01:06 pytorch_lightning.utilities.rank_zero INFO: IPU available: False, using: 0 IPUs\n",
      "2022-06-14 15:01:06 pytorch_lightning.utilities.rank_zero INFO: HPU available: False, using: 0 HPUs\n",
      "2022-06-14 15:01:06 pytorch_lightning.callbacks.model_summary INFO: \n",
      "  | Name      | Type       | Params\n",
      "-----------------------------------------\n",
      "0 | criterion | MSELoss    | 0     \n",
      "1 | stacks    | ModuleList | 8.5 M \n",
      "-----------------------------------------\n",
      "8.5 M     Trainable params\n",
      "3.2 K     Non-trainable params\n",
      "8.5 M     Total params\n",
      "67.633    Total estimated model params size (MB)\n"
     ]
    },
    {
     "data": {
      "application/vnd.jupyter.widget-view+json": {
       "model_id": "23d18d365c454cdcad7c9eac1ab4b4b4",
       "version_major": 2,
       "version_minor": 0
      },
      "text/plain": [
       "Training: 0it [00:00, ?it/s]"
      ]
     },
     "metadata": {},
     "output_type": "display_data"
    },
    {
     "data": {
      "application/vnd.jupyter.widget-view+json": {
       "model_id": "b661148f0e3043da83e1bc724eb7c974",
       "version_major": 2,
       "version_minor": 0
      },
      "text/plain": [
       "Predicting: 11it [00:00, ?it/s]"
      ]
     },
     "metadata": {},
     "output_type": "display_data"
    },
    {
     "name": "stderr",
     "output_type": "stream",
     "text": [
      "[2022-06-14 15:01:12,415] INFO | darts.models.forecasting.torch_forecasting_model | Train dataset contains 2728 samples.\n",
      "[2022-06-14 15:01:12,415] INFO | darts.models.forecasting.torch_forecasting_model | Train dataset contains 2728 samples.\n",
      "2022-06-14 15:01:12 darts.models.forecasting.torch_forecasting_model INFO: Train dataset contains 2728 samples.\n",
      "[2022-06-14 15:01:12,462] INFO | darts.models.forecasting.torch_forecasting_model | Time series values are 64-bits; casting model to float64.\n",
      "[2022-06-14 15:01:12,462] INFO | darts.models.forecasting.torch_forecasting_model | Time series values are 64-bits; casting model to float64.\n",
      "2022-06-14 15:01:12 darts.models.forecasting.torch_forecasting_model INFO: Time series values are 64-bits; casting model to float64.\n",
      "2022-06-14 15:01:12 pytorch_lightning.utilities.rank_zero INFO: GPU available: False, used: False\n",
      "2022-06-14 15:01:12 pytorch_lightning.utilities.rank_zero INFO: TPU available: False, using: 0 TPU cores\n",
      "2022-06-14 15:01:12 pytorch_lightning.utilities.rank_zero INFO: IPU available: False, using: 0 IPUs\n",
      "2022-06-14 15:01:12 pytorch_lightning.utilities.rank_zero INFO: HPU available: False, using: 0 HPUs\n",
      "2022-06-14 15:01:12 pytorch_lightning.callbacks.model_summary INFO: \n",
      "  | Name      | Type       | Params\n",
      "-----------------------------------------\n",
      "0 | criterion | MSELoss    | 0     \n",
      "1 | stacks    | ModuleList | 8.5 M \n",
      "-----------------------------------------\n",
      "8.5 M     Trainable params\n",
      "3.2 K     Non-trainable params\n",
      "8.5 M     Total params\n",
      "67.633    Total estimated model params size (MB)\n"
     ]
    },
    {
     "data": {
      "application/vnd.jupyter.widget-view+json": {
       "model_id": "eabe7f1161d64f3aa6740d22d93e368a",
       "version_major": 2,
       "version_minor": 0
      },
      "text/plain": [
       "Training: 0it [00:00, ?it/s]"
      ]
     },
     "metadata": {},
     "output_type": "display_data"
    },
    {
     "data": {
      "application/vnd.jupyter.widget-view+json": {
       "model_id": "925108d72aa44eb98b3ccebd458b8cdc",
       "version_major": 2,
       "version_minor": 0
      },
      "text/plain": [
       "Predicting: 11it [00:00, ?it/s]"
      ]
     },
     "metadata": {},
     "output_type": "display_data"
    },
    {
     "name": "stderr",
     "output_type": "stream",
     "text": [
      "[2022-06-14 15:01:18,531] INFO | darts.models.forecasting.torch_forecasting_model | Train dataset contains 2728 samples.\n",
      "[2022-06-14 15:01:18,531] INFO | darts.models.forecasting.torch_forecasting_model | Train dataset contains 2728 samples.\n",
      "2022-06-14 15:01:18 darts.models.forecasting.torch_forecasting_model INFO: Train dataset contains 2728 samples.\n",
      "[2022-06-14 15:01:18,561] INFO | darts.models.forecasting.torch_forecasting_model | Time series values are 64-bits; casting model to float64.\n",
      "[2022-06-14 15:01:18,561] INFO | darts.models.forecasting.torch_forecasting_model | Time series values are 64-bits; casting model to float64.\n",
      "2022-06-14 15:01:18 darts.models.forecasting.torch_forecasting_model INFO: Time series values are 64-bits; casting model to float64.\n",
      "2022-06-14 15:01:18 pytorch_lightning.utilities.rank_zero INFO: GPU available: False, used: False\n",
      "2022-06-14 15:01:18 pytorch_lightning.utilities.rank_zero INFO: TPU available: False, using: 0 TPU cores\n",
      "2022-06-14 15:01:18 pytorch_lightning.utilities.rank_zero INFO: IPU available: False, using: 0 IPUs\n",
      "2022-06-14 15:01:18 pytorch_lightning.utilities.rank_zero INFO: HPU available: False, using: 0 HPUs\n",
      "2022-06-14 15:01:18 pytorch_lightning.callbacks.model_summary INFO: \n",
      "  | Name      | Type       | Params\n",
      "-----------------------------------------\n",
      "0 | criterion | MSELoss    | 0     \n",
      "1 | stacks    | ModuleList | 8.5 M \n",
      "-----------------------------------------\n",
      "8.5 M     Trainable params\n",
      "3.2 K     Non-trainable params\n",
      "8.5 M     Total params\n",
      "67.633    Total estimated model params size (MB)\n"
     ]
    },
    {
     "data": {
      "application/vnd.jupyter.widget-view+json": {
       "model_id": "bc0213f6025e4cb29abb1fa66671e366",
       "version_major": 2,
       "version_minor": 0
      },
      "text/plain": [
       "Training: 0it [00:00, ?it/s]"
      ]
     },
     "metadata": {},
     "output_type": "display_data"
    },
    {
     "data": {
      "application/vnd.jupyter.widget-view+json": {
       "model_id": "d602c41b0cc04cab9d2f49a606bb09d3",
       "version_major": 2,
       "version_minor": 0
      },
      "text/plain": [
       "Predicting: 11it [00:00, ?it/s]"
      ]
     },
     "metadata": {},
     "output_type": "display_data"
    },
    {
     "name": "stderr",
     "output_type": "stream",
     "text": [
      "[2022-06-14 15:01:24,521] INFO | darts.models.forecasting.torch_forecasting_model | Train dataset contains 2728 samples.\n",
      "[2022-06-14 15:01:24,521] INFO | darts.models.forecasting.torch_forecasting_model | Train dataset contains 2728 samples.\n",
      "2022-06-14 15:01:24 darts.models.forecasting.torch_forecasting_model INFO: Train dataset contains 2728 samples.\n",
      "[2022-06-14 15:01:24,551] INFO | darts.models.forecasting.torch_forecasting_model | Time series values are 64-bits; casting model to float64.\n",
      "[2022-06-14 15:01:24,551] INFO | darts.models.forecasting.torch_forecasting_model | Time series values are 64-bits; casting model to float64.\n",
      "2022-06-14 15:01:24 darts.models.forecasting.torch_forecasting_model INFO: Time series values are 64-bits; casting model to float64.\n",
      "2022-06-14 15:01:24 pytorch_lightning.utilities.rank_zero INFO: GPU available: False, used: False\n",
      "2022-06-14 15:01:24 pytorch_lightning.utilities.rank_zero INFO: TPU available: False, using: 0 TPU cores\n",
      "2022-06-14 15:01:24 pytorch_lightning.utilities.rank_zero INFO: IPU available: False, using: 0 IPUs\n",
      "2022-06-14 15:01:24 pytorch_lightning.utilities.rank_zero INFO: HPU available: False, using: 0 HPUs\n",
      "2022-06-14 15:01:24 pytorch_lightning.callbacks.model_summary INFO: \n",
      "  | Name      | Type       | Params\n",
      "-----------------------------------------\n",
      "0 | criterion | MSELoss    | 0     \n",
      "1 | stacks    | ModuleList | 8.5 M \n",
      "-----------------------------------------\n",
      "8.5 M     Trainable params\n",
      "3.2 K     Non-trainable params\n",
      "8.5 M     Total params\n",
      "67.633    Total estimated model params size (MB)\n"
     ]
    },
    {
     "data": {
      "application/vnd.jupyter.widget-view+json": {
       "model_id": "e9d05f46ccd5476a93f3f744bfc5fe47",
       "version_major": 2,
       "version_minor": 0
      },
      "text/plain": [
       "Training: 0it [00:00, ?it/s]"
      ]
     },
     "metadata": {},
     "output_type": "display_data"
    },
    {
     "data": {
      "application/vnd.jupyter.widget-view+json": {
       "model_id": "6b29f3307f8d434eb6f34e7d87da19ec",
       "version_major": 2,
       "version_minor": 0
      },
      "text/plain": [
       "Predicting: 11it [00:00, ?it/s]"
      ]
     },
     "metadata": {},
     "output_type": "display_data"
    },
    {
     "name": "stderr",
     "output_type": "stream",
     "text": [
      "[2022-06-14 15:01:30,496] INFO | darts.models.forecasting.torch_forecasting_model | Train dataset contains 1628 samples.\n",
      "[2022-06-14 15:01:30,496] INFO | darts.models.forecasting.torch_forecasting_model | Train dataset contains 1628 samples.\n",
      "2022-06-14 15:01:30 darts.models.forecasting.torch_forecasting_model INFO: Train dataset contains 1628 samples.\n",
      "[2022-06-14 15:01:30,527] INFO | darts.models.forecasting.torch_forecasting_model | Time series values are 64-bits; casting model to float64.\n",
      "[2022-06-14 15:01:30,527] INFO | darts.models.forecasting.torch_forecasting_model | Time series values are 64-bits; casting model to float64.\n",
      "2022-06-14 15:01:30 darts.models.forecasting.torch_forecasting_model INFO: Time series values are 64-bits; casting model to float64.\n",
      "2022-06-14 15:01:30 pytorch_lightning.utilities.rank_zero INFO: GPU available: False, used: False\n",
      "2022-06-14 15:01:30 pytorch_lightning.utilities.rank_zero INFO: TPU available: False, using: 0 TPU cores\n",
      "2022-06-14 15:01:30 pytorch_lightning.utilities.rank_zero INFO: IPU available: False, using: 0 IPUs\n",
      "2022-06-14 15:01:30 pytorch_lightning.utilities.rank_zero INFO: HPU available: False, using: 0 HPUs\n",
      "2022-06-14 15:01:30 pytorch_lightning.callbacks.model_summary INFO: \n",
      "  | Name      | Type       | Params\n",
      "-----------------------------------------\n",
      "0 | criterion | MSELoss    | 0     \n",
      "1 | stacks    | ModuleList | 8.5 M \n",
      "-----------------------------------------\n",
      "8.5 M     Trainable params\n",
      "3.2 K     Non-trainable params\n",
      "8.5 M     Total params\n",
      "67.633    Total estimated model params size (MB)\n"
     ]
    },
    {
     "data": {
      "application/vnd.jupyter.widget-view+json": {
       "model_id": "00993071897b40f688502498e24bb028",
       "version_major": 2,
       "version_minor": 0
      },
      "text/plain": [
       "Training: 0it [00:00, ?it/s]"
      ]
     },
     "metadata": {},
     "output_type": "display_data"
    },
    {
     "data": {
      "application/vnd.jupyter.widget-view+json": {
       "model_id": "e15f17d367b441068da57f1fa48524bc",
       "version_major": 2,
       "version_minor": 0
      },
      "text/plain": [
       "Predicting: 7it [00:00, ?it/s]"
      ]
     },
     "metadata": {},
     "output_type": "display_data"
    },
    {
     "name": "stderr",
     "output_type": "stream",
     "text": [
      "[2022-06-14 15:01:35,054] INFO | darts.models.forecasting.torch_forecasting_model | Train dataset contains 2728 samples.\n",
      "[2022-06-14 15:01:35,054] INFO | darts.models.forecasting.torch_forecasting_model | Train dataset contains 2728 samples.\n",
      "2022-06-14 15:01:35 darts.models.forecasting.torch_forecasting_model INFO: Train dataset contains 2728 samples.\n",
      "[2022-06-14 15:01:35,083] INFO | darts.models.forecasting.torch_forecasting_model | Time series values are 64-bits; casting model to float64.\n",
      "[2022-06-14 15:01:35,083] INFO | darts.models.forecasting.torch_forecasting_model | Time series values are 64-bits; casting model to float64.\n",
      "2022-06-14 15:01:35 darts.models.forecasting.torch_forecasting_model INFO: Time series values are 64-bits; casting model to float64.\n",
      "2022-06-14 15:01:35 pytorch_lightning.utilities.rank_zero INFO: GPU available: False, used: False\n",
      "2022-06-14 15:01:35 pytorch_lightning.utilities.rank_zero INFO: TPU available: False, using: 0 TPU cores\n",
      "2022-06-14 15:01:35 pytorch_lightning.utilities.rank_zero INFO: IPU available: False, using: 0 IPUs\n",
      "2022-06-14 15:01:35 pytorch_lightning.utilities.rank_zero INFO: HPU available: False, using: 0 HPUs\n",
      "2022-06-14 15:01:35 pytorch_lightning.callbacks.model_summary INFO: \n",
      "  | Name      | Type       | Params\n",
      "-----------------------------------------\n",
      "0 | criterion | MSELoss    | 0     \n",
      "1 | stacks    | ModuleList | 8.5 M \n",
      "-----------------------------------------\n",
      "8.5 M     Trainable params\n",
      "3.2 K     Non-trainable params\n",
      "8.5 M     Total params\n",
      "67.633    Total estimated model params size (MB)\n"
     ]
    },
    {
     "data": {
      "application/vnd.jupyter.widget-view+json": {
       "model_id": "ad08c88d08774df0a6e4c76c1eb1cd12",
       "version_major": 2,
       "version_minor": 0
      },
      "text/plain": [
       "Training: 0it [00:00, ?it/s]"
      ]
     },
     "metadata": {},
     "output_type": "display_data"
    },
    {
     "data": {
      "application/vnd.jupyter.widget-view+json": {
       "model_id": "dcc7058b6ee048bd9a1dc537b89b894f",
       "version_major": 2,
       "version_minor": 0
      },
      "text/plain": [
       "Predicting: 11it [00:00, ?it/s]"
      ]
     },
     "metadata": {},
     "output_type": "display_data"
    },
    {
     "name": "stderr",
     "output_type": "stream",
     "text": [
      "[2022-06-14 15:01:41,095] INFO | darts.models.forecasting.torch_forecasting_model | Train dataset contains 2728 samples.\n",
      "[2022-06-14 15:01:41,095] INFO | darts.models.forecasting.torch_forecasting_model | Train dataset contains 2728 samples.\n",
      "2022-06-14 15:01:41 darts.models.forecasting.torch_forecasting_model INFO: Train dataset contains 2728 samples.\n",
      "[2022-06-14 15:01:41,125] INFO | darts.models.forecasting.torch_forecasting_model | Time series values are 64-bits; casting model to float64.\n",
      "[2022-06-14 15:01:41,125] INFO | darts.models.forecasting.torch_forecasting_model | Time series values are 64-bits; casting model to float64.\n",
      "2022-06-14 15:01:41 darts.models.forecasting.torch_forecasting_model INFO: Time series values are 64-bits; casting model to float64.\n",
      "2022-06-14 15:01:41 pytorch_lightning.utilities.rank_zero INFO: GPU available: False, used: False\n",
      "2022-06-14 15:01:41 pytorch_lightning.utilities.rank_zero INFO: TPU available: False, using: 0 TPU cores\n",
      "2022-06-14 15:01:41 pytorch_lightning.utilities.rank_zero INFO: IPU available: False, using: 0 IPUs\n",
      "2022-06-14 15:01:41 pytorch_lightning.utilities.rank_zero INFO: HPU available: False, using: 0 HPUs\n",
      "2022-06-14 15:01:41 pytorch_lightning.callbacks.model_summary INFO: \n",
      "  | Name      | Type       | Params\n",
      "-----------------------------------------\n",
      "0 | criterion | MSELoss    | 0     \n",
      "1 | stacks    | ModuleList | 8.5 M \n",
      "-----------------------------------------\n",
      "8.5 M     Trainable params\n",
      "3.2 K     Non-trainable params\n",
      "8.5 M     Total params\n",
      "67.633    Total estimated model params size (MB)\n"
     ]
    },
    {
     "data": {
      "application/vnd.jupyter.widget-view+json": {
       "model_id": "adfd38817ca84736a8e88ecca72e9f7a",
       "version_major": 2,
       "version_minor": 0
      },
      "text/plain": [
       "Training: 0it [00:00, ?it/s]"
      ]
     },
     "metadata": {},
     "output_type": "display_data"
    },
    {
     "data": {
      "application/vnd.jupyter.widget-view+json": {
       "model_id": "bbb39ac658884793adb1c6f990dc2a38",
       "version_major": 2,
       "version_minor": 0
      },
      "text/plain": [
       "Predicting: 11it [00:00, ?it/s]"
      ]
     },
     "metadata": {},
     "output_type": "display_data"
    },
    {
     "name": "stderr",
     "output_type": "stream",
     "text": [
      "[2022-06-14 15:01:47,229] INFO | darts.models.forecasting.torch_forecasting_model | Train dataset contains 2728 samples.\n",
      "[2022-06-14 15:01:47,229] INFO | darts.models.forecasting.torch_forecasting_model | Train dataset contains 2728 samples.\n",
      "2022-06-14 15:01:47 darts.models.forecasting.torch_forecasting_model INFO: Train dataset contains 2728 samples.\n",
      "[2022-06-14 15:01:47,260] INFO | darts.models.forecasting.torch_forecasting_model | Time series values are 64-bits; casting model to float64.\n",
      "[2022-06-14 15:01:47,260] INFO | darts.models.forecasting.torch_forecasting_model | Time series values are 64-bits; casting model to float64.\n",
      "2022-06-14 15:01:47 darts.models.forecasting.torch_forecasting_model INFO: Time series values are 64-bits; casting model to float64.\n",
      "2022-06-14 15:01:47 pytorch_lightning.utilities.rank_zero INFO: GPU available: False, used: False\n",
      "2022-06-14 15:01:47 pytorch_lightning.utilities.rank_zero INFO: TPU available: False, using: 0 TPU cores\n",
      "2022-06-14 15:01:47 pytorch_lightning.utilities.rank_zero INFO: IPU available: False, using: 0 IPUs\n",
      "2022-06-14 15:01:47 pytorch_lightning.utilities.rank_zero INFO: HPU available: False, using: 0 HPUs\n",
      "2022-06-14 15:01:47 pytorch_lightning.callbacks.model_summary INFO: \n",
      "  | Name      | Type       | Params\n",
      "-----------------------------------------\n",
      "0 | criterion | MSELoss    | 0     \n",
      "1 | stacks    | ModuleList | 8.5 M \n",
      "-----------------------------------------\n",
      "8.5 M     Trainable params\n",
      "3.2 K     Non-trainable params\n",
      "8.5 M     Total params\n",
      "67.633    Total estimated model params size (MB)\n"
     ]
    },
    {
     "data": {
      "application/vnd.jupyter.widget-view+json": {
       "model_id": "b4fadfc7a29c4529ba0c8c5cf9b6c357",
       "version_major": 2,
       "version_minor": 0
      },
      "text/plain": [
       "Training: 0it [00:00, ?it/s]"
      ]
     },
     "metadata": {},
     "output_type": "display_data"
    },
    {
     "data": {
      "application/vnd.jupyter.widget-view+json": {
       "model_id": "7430a2fc70a7420a9ee0178fdfed1820",
       "version_major": 2,
       "version_minor": 0
      },
      "text/plain": [
       "Predicting: 11it [00:00, ?it/s]"
      ]
     },
     "metadata": {},
     "output_type": "display_data"
    },
    {
     "name": "stderr",
     "output_type": "stream",
     "text": [
      "[2022-06-14 15:01:53,232] INFO | darts.models.forecasting.torch_forecasting_model | Train dataset contains 2728 samples.\n",
      "[2022-06-14 15:01:53,232] INFO | darts.models.forecasting.torch_forecasting_model | Train dataset contains 2728 samples.\n",
      "2022-06-14 15:01:53 darts.models.forecasting.torch_forecasting_model INFO: Train dataset contains 2728 samples.\n",
      "[2022-06-14 15:01:53,262] INFO | darts.models.forecasting.torch_forecasting_model | Time series values are 64-bits; casting model to float64.\n",
      "[2022-06-14 15:01:53,262] INFO | darts.models.forecasting.torch_forecasting_model | Time series values are 64-bits; casting model to float64.\n",
      "2022-06-14 15:01:53 darts.models.forecasting.torch_forecasting_model INFO: Time series values are 64-bits; casting model to float64.\n",
      "2022-06-14 15:01:53 pytorch_lightning.utilities.rank_zero INFO: GPU available: False, used: False\n",
      "2022-06-14 15:01:53 pytorch_lightning.utilities.rank_zero INFO: TPU available: False, using: 0 TPU cores\n",
      "2022-06-14 15:01:53 pytorch_lightning.utilities.rank_zero INFO: IPU available: False, using: 0 IPUs\n",
      "2022-06-14 15:01:53 pytorch_lightning.utilities.rank_zero INFO: HPU available: False, using: 0 HPUs\n",
      "2022-06-14 15:01:53 pytorch_lightning.callbacks.model_summary INFO: \n",
      "  | Name      | Type       | Params\n",
      "-----------------------------------------\n",
      "0 | criterion | MSELoss    | 0     \n",
      "1 | stacks    | ModuleList | 8.5 M \n",
      "-----------------------------------------\n",
      "8.5 M     Trainable params\n",
      "3.2 K     Non-trainable params\n",
      "8.5 M     Total params\n",
      "67.633    Total estimated model params size (MB)\n"
     ]
    },
    {
     "data": {
      "application/vnd.jupyter.widget-view+json": {
       "model_id": "fb6dbeec6fe64c9cbb67d1fac112aacb",
       "version_major": 2,
       "version_minor": 0
      },
      "text/plain": [
       "Training: 0it [00:00, ?it/s]"
      ]
     },
     "metadata": {},
     "output_type": "display_data"
    },
    {
     "data": {
      "application/vnd.jupyter.widget-view+json": {
       "model_id": "70131249583f41e1aae9e9d1212da678",
       "version_major": 2,
       "version_minor": 0
      },
      "text/plain": [
       "Predicting: 11it [00:00, ?it/s]"
      ]
     },
     "metadata": {},
     "output_type": "display_data"
    },
    {
     "name": "stderr",
     "output_type": "stream",
     "text": [
      "[2022-06-14 15:01:59,275] INFO | darts.models.forecasting.torch_forecasting_model | Train dataset contains 2728 samples.\n",
      "[2022-06-14 15:01:59,275] INFO | darts.models.forecasting.torch_forecasting_model | Train dataset contains 2728 samples.\n",
      "2022-06-14 15:01:59 darts.models.forecasting.torch_forecasting_model INFO: Train dataset contains 2728 samples.\n",
      "[2022-06-14 15:01:59,305] INFO | darts.models.forecasting.torch_forecasting_model | Time series values are 64-bits; casting model to float64.\n",
      "[2022-06-14 15:01:59,305] INFO | darts.models.forecasting.torch_forecasting_model | Time series values are 64-bits; casting model to float64.\n",
      "2022-06-14 15:01:59 darts.models.forecasting.torch_forecasting_model INFO: Time series values are 64-bits; casting model to float64.\n",
      "2022-06-14 15:01:59 pytorch_lightning.utilities.rank_zero INFO: GPU available: False, used: False\n",
      "2022-06-14 15:01:59 pytorch_lightning.utilities.rank_zero INFO: TPU available: False, using: 0 TPU cores\n",
      "2022-06-14 15:01:59 pytorch_lightning.utilities.rank_zero INFO: IPU available: False, using: 0 IPUs\n",
      "2022-06-14 15:01:59 pytorch_lightning.utilities.rank_zero INFO: HPU available: False, using: 0 HPUs\n",
      "2022-06-14 15:01:59 pytorch_lightning.callbacks.model_summary INFO: \n",
      "  | Name      | Type       | Params\n",
      "-----------------------------------------\n",
      "0 | criterion | MSELoss    | 0     \n",
      "1 | stacks    | ModuleList | 8.5 M \n",
      "-----------------------------------------\n",
      "8.5 M     Trainable params\n",
      "3.2 K     Non-trainable params\n",
      "8.5 M     Total params\n",
      "67.633    Total estimated model params size (MB)\n"
     ]
    },
    {
     "data": {
      "application/vnd.jupyter.widget-view+json": {
       "model_id": "638d0929cd0849c48a20550f30fa5e62",
       "version_major": 2,
       "version_minor": 0
      },
      "text/plain": [
       "Training: 0it [00:00, ?it/s]"
      ]
     },
     "metadata": {},
     "output_type": "display_data"
    },
    {
     "data": {
      "application/vnd.jupyter.widget-view+json": {
       "model_id": "79533312266c447ba3d38f049ca881e6",
       "version_major": 2,
       "version_minor": 0
      },
      "text/plain": [
       "Predicting: 11it [00:00, ?it/s]"
      ]
     },
     "metadata": {},
     "output_type": "display_data"
    },
    {
     "name": "stderr",
     "output_type": "stream",
     "text": [
      "[2022-06-14 15:02:05,342] INFO | darts.models.forecasting.torch_forecasting_model | Train dataset contains 1629 samples.\n",
      "[2022-06-14 15:02:05,342] INFO | darts.models.forecasting.torch_forecasting_model | Train dataset contains 1629 samples.\n",
      "2022-06-14 15:02:05 darts.models.forecasting.torch_forecasting_model INFO: Train dataset contains 1629 samples.\n",
      "[2022-06-14 15:02:05,372] INFO | darts.models.forecasting.torch_forecasting_model | Time series values are 64-bits; casting model to float64.\n",
      "[2022-06-14 15:02:05,372] INFO | darts.models.forecasting.torch_forecasting_model | Time series values are 64-bits; casting model to float64.\n",
      "2022-06-14 15:02:05 darts.models.forecasting.torch_forecasting_model INFO: Time series values are 64-bits; casting model to float64.\n",
      "2022-06-14 15:02:05 pytorch_lightning.utilities.rank_zero INFO: GPU available: False, used: False\n",
      "2022-06-14 15:02:05 pytorch_lightning.utilities.rank_zero INFO: TPU available: False, using: 0 TPU cores\n",
      "2022-06-14 15:02:05 pytorch_lightning.utilities.rank_zero INFO: IPU available: False, using: 0 IPUs\n",
      "2022-06-14 15:02:05 pytorch_lightning.utilities.rank_zero INFO: HPU available: False, using: 0 HPUs\n",
      "2022-06-14 15:02:05 pytorch_lightning.callbacks.model_summary INFO: \n",
      "  | Name      | Type       | Params\n",
      "-----------------------------------------\n",
      "0 | criterion | MSELoss    | 0     \n",
      "1 | stacks    | ModuleList | 8.5 M \n",
      "-----------------------------------------\n",
      "8.5 M     Trainable params\n",
      "3.2 K     Non-trainable params\n",
      "8.5 M     Total params\n",
      "67.633    Total estimated model params size (MB)\n"
     ]
    },
    {
     "data": {
      "application/vnd.jupyter.widget-view+json": {
       "model_id": "4e8d87e27c614b3ea3b645c82d3d33ca",
       "version_major": 2,
       "version_minor": 0
      },
      "text/plain": [
       "Training: 0it [00:00, ?it/s]"
      ]
     },
     "metadata": {},
     "output_type": "display_data"
    },
    {
     "data": {
      "application/vnd.jupyter.widget-view+json": {
       "model_id": "c0997857514246399ac81e8b3badc06c",
       "version_major": 2,
       "version_minor": 0
      },
      "text/plain": [
       "Predicting: 7it [00:00, ?it/s]"
      ]
     },
     "metadata": {},
     "output_type": "display_data"
    },
    {
     "name": "stderr",
     "output_type": "stream",
     "text": [
      "[2022-06-14 15:02:09,784] INFO | darts.models.forecasting.torch_forecasting_model | Train dataset contains 2729 samples.\n",
      "[2022-06-14 15:02:09,784] INFO | darts.models.forecasting.torch_forecasting_model | Train dataset contains 2729 samples.\n",
      "2022-06-14 15:02:09 darts.models.forecasting.torch_forecasting_model INFO: Train dataset contains 2729 samples.\n",
      "[2022-06-14 15:02:09,812] INFO | darts.models.forecasting.torch_forecasting_model | Time series values are 64-bits; casting model to float64.\n",
      "[2022-06-14 15:02:09,812] INFO | darts.models.forecasting.torch_forecasting_model | Time series values are 64-bits; casting model to float64.\n",
      "2022-06-14 15:02:09 darts.models.forecasting.torch_forecasting_model INFO: Time series values are 64-bits; casting model to float64.\n",
      "2022-06-14 15:02:09 pytorch_lightning.utilities.rank_zero INFO: GPU available: False, used: False\n",
      "2022-06-14 15:02:09 pytorch_lightning.utilities.rank_zero INFO: TPU available: False, using: 0 TPU cores\n",
      "2022-06-14 15:02:09 pytorch_lightning.utilities.rank_zero INFO: IPU available: False, using: 0 IPUs\n",
      "2022-06-14 15:02:09 pytorch_lightning.utilities.rank_zero INFO: HPU available: False, using: 0 HPUs\n",
      "2022-06-14 15:02:09 pytorch_lightning.callbacks.model_summary INFO: \n",
      "  | Name      | Type       | Params\n",
      "-----------------------------------------\n",
      "0 | criterion | MSELoss    | 0     \n",
      "1 | stacks    | ModuleList | 8.5 M \n",
      "-----------------------------------------\n",
      "8.5 M     Trainable params\n",
      "3.2 K     Non-trainable params\n",
      "8.5 M     Total params\n",
      "67.633    Total estimated model params size (MB)\n"
     ]
    },
    {
     "data": {
      "application/vnd.jupyter.widget-view+json": {
       "model_id": "6afe8d0ca574429a844a8f98399f7e2c",
       "version_major": 2,
       "version_minor": 0
      },
      "text/plain": [
       "Training: 0it [00:00, ?it/s]"
      ]
     },
     "metadata": {},
     "output_type": "display_data"
    },
    {
     "data": {
      "application/vnd.jupyter.widget-view+json": {
       "model_id": "9493d1de35a847899c3739b1b76ec256",
       "version_major": 2,
       "version_minor": 0
      },
      "text/plain": [
       "Predicting: 11it [00:00, ?it/s]"
      ]
     },
     "metadata": {},
     "output_type": "display_data"
    },
    {
     "name": "stderr",
     "output_type": "stream",
     "text": [
      "[2022-06-14 15:02:15,787] INFO | darts.models.forecasting.torch_forecasting_model | Train dataset contains 2729 samples.\n",
      "[2022-06-14 15:02:15,787] INFO | darts.models.forecasting.torch_forecasting_model | Train dataset contains 2729 samples.\n",
      "2022-06-14 15:02:15 darts.models.forecasting.torch_forecasting_model INFO: Train dataset contains 2729 samples.\n",
      "[2022-06-14 15:02:15,816] INFO | darts.models.forecasting.torch_forecasting_model | Time series values are 64-bits; casting model to float64.\n",
      "[2022-06-14 15:02:15,816] INFO | darts.models.forecasting.torch_forecasting_model | Time series values are 64-bits; casting model to float64.\n",
      "2022-06-14 15:02:15 darts.models.forecasting.torch_forecasting_model INFO: Time series values are 64-bits; casting model to float64.\n",
      "2022-06-14 15:02:15 pytorch_lightning.utilities.rank_zero INFO: GPU available: False, used: False\n",
      "2022-06-14 15:02:15 pytorch_lightning.utilities.rank_zero INFO: TPU available: False, using: 0 TPU cores\n",
      "2022-06-14 15:02:15 pytorch_lightning.utilities.rank_zero INFO: IPU available: False, using: 0 IPUs\n",
      "2022-06-14 15:02:15 pytorch_lightning.utilities.rank_zero INFO: HPU available: False, using: 0 HPUs\n",
      "2022-06-14 15:02:15 pytorch_lightning.callbacks.model_summary INFO: \n",
      "  | Name      | Type       | Params\n",
      "-----------------------------------------\n",
      "0 | criterion | MSELoss    | 0     \n",
      "1 | stacks    | ModuleList | 8.5 M \n",
      "-----------------------------------------\n",
      "8.5 M     Trainable params\n",
      "3.2 K     Non-trainable params\n",
      "8.5 M     Total params\n",
      "67.633    Total estimated model params size (MB)\n"
     ]
    },
    {
     "data": {
      "application/vnd.jupyter.widget-view+json": {
       "model_id": "25b4d7948df544cba406cc29d220394b",
       "version_major": 2,
       "version_minor": 0
      },
      "text/plain": [
       "Training: 0it [00:00, ?it/s]"
      ]
     },
     "metadata": {},
     "output_type": "display_data"
    },
    {
     "data": {
      "application/vnd.jupyter.widget-view+json": {
       "model_id": "0a50c08b89f2474ab12d3153ceaa6a1a",
       "version_major": 2,
       "version_minor": 0
      },
      "text/plain": [
       "Predicting: 11it [00:00, ?it/s]"
      ]
     },
     "metadata": {},
     "output_type": "display_data"
    },
    {
     "name": "stderr",
     "output_type": "stream",
     "text": [
      "[2022-06-14 15:02:21,791] INFO | darts.models.forecasting.torch_forecasting_model | Train dataset contains 2729 samples.\n",
      "[2022-06-14 15:02:21,791] INFO | darts.models.forecasting.torch_forecasting_model | Train dataset contains 2729 samples.\n",
      "2022-06-14 15:02:21 darts.models.forecasting.torch_forecasting_model INFO: Train dataset contains 2729 samples.\n",
      "[2022-06-14 15:02:21,819] INFO | darts.models.forecasting.torch_forecasting_model | Time series values are 64-bits; casting model to float64.\n",
      "[2022-06-14 15:02:21,819] INFO | darts.models.forecasting.torch_forecasting_model | Time series values are 64-bits; casting model to float64.\n",
      "2022-06-14 15:02:21 darts.models.forecasting.torch_forecasting_model INFO: Time series values are 64-bits; casting model to float64.\n",
      "2022-06-14 15:02:21 pytorch_lightning.utilities.rank_zero INFO: GPU available: False, used: False\n",
      "2022-06-14 15:02:21 pytorch_lightning.utilities.rank_zero INFO: TPU available: False, using: 0 TPU cores\n",
      "2022-06-14 15:02:21 pytorch_lightning.utilities.rank_zero INFO: IPU available: False, using: 0 IPUs\n",
      "2022-06-14 15:02:21 pytorch_lightning.utilities.rank_zero INFO: HPU available: False, using: 0 HPUs\n",
      "2022-06-14 15:02:21 pytorch_lightning.callbacks.model_summary INFO: \n",
      "  | Name      | Type       | Params\n",
      "-----------------------------------------\n",
      "0 | criterion | MSELoss    | 0     \n",
      "1 | stacks    | ModuleList | 8.5 M \n",
      "-----------------------------------------\n",
      "8.5 M     Trainable params\n",
      "3.2 K     Non-trainable params\n",
      "8.5 M     Total params\n",
      "67.633    Total estimated model params size (MB)\n"
     ]
    },
    {
     "data": {
      "application/vnd.jupyter.widget-view+json": {
       "model_id": "17c0d22e5b48445bbc4ac4c08670d51a",
       "version_major": 2,
       "version_minor": 0
      },
      "text/plain": [
       "Training: 0it [00:00, ?it/s]"
      ]
     },
     "metadata": {},
     "output_type": "display_data"
    },
    {
     "data": {
      "application/vnd.jupyter.widget-view+json": {
       "model_id": "8a7088b65bc74e818625bb2e6d0478f1",
       "version_major": 2,
       "version_minor": 0
      },
      "text/plain": [
       "Predicting: 11it [00:00, ?it/s]"
      ]
     },
     "metadata": {},
     "output_type": "display_data"
    },
    {
     "name": "stderr",
     "output_type": "stream",
     "text": [
      "[2022-06-14 15:02:27,741] INFO | darts.models.forecasting.torch_forecasting_model | Train dataset contains 2729 samples.\n",
      "[2022-06-14 15:02:27,741] INFO | darts.models.forecasting.torch_forecasting_model | Train dataset contains 2729 samples.\n",
      "2022-06-14 15:02:27 darts.models.forecasting.torch_forecasting_model INFO: Train dataset contains 2729 samples.\n",
      "[2022-06-14 15:02:27,771] INFO | darts.models.forecasting.torch_forecasting_model | Time series values are 64-bits; casting model to float64.\n",
      "[2022-06-14 15:02:27,771] INFO | darts.models.forecasting.torch_forecasting_model | Time series values are 64-bits; casting model to float64.\n",
      "2022-06-14 15:02:27 darts.models.forecasting.torch_forecasting_model INFO: Time series values are 64-bits; casting model to float64.\n",
      "2022-06-14 15:02:27 pytorch_lightning.utilities.rank_zero INFO: GPU available: False, used: False\n",
      "2022-06-14 15:02:27 pytorch_lightning.utilities.rank_zero INFO: TPU available: False, using: 0 TPU cores\n",
      "2022-06-14 15:02:27 pytorch_lightning.utilities.rank_zero INFO: IPU available: False, using: 0 IPUs\n",
      "2022-06-14 15:02:27 pytorch_lightning.utilities.rank_zero INFO: HPU available: False, using: 0 HPUs\n",
      "2022-06-14 15:02:27 pytorch_lightning.callbacks.model_summary INFO: \n",
      "  | Name      | Type       | Params\n",
      "-----------------------------------------\n",
      "0 | criterion | MSELoss    | 0     \n",
      "1 | stacks    | ModuleList | 8.5 M \n",
      "-----------------------------------------\n",
      "8.5 M     Trainable params\n",
      "3.2 K     Non-trainable params\n",
      "8.5 M     Total params\n",
      "67.633    Total estimated model params size (MB)\n"
     ]
    },
    {
     "data": {
      "application/vnd.jupyter.widget-view+json": {
       "model_id": "7c479d5d7d3d410d9617bf670f44054c",
       "version_major": 2,
       "version_minor": 0
      },
      "text/plain": [
       "Training: 0it [00:00, ?it/s]"
      ]
     },
     "metadata": {},
     "output_type": "display_data"
    },
    {
     "data": {
      "application/vnd.jupyter.widget-view+json": {
       "model_id": "7b5c7776ac9f4b99aee339327ce7bb00",
       "version_major": 2,
       "version_minor": 0
      },
      "text/plain": [
       "Predicting: 11it [00:00, ?it/s]"
      ]
     },
     "metadata": {},
     "output_type": "display_data"
    },
    {
     "name": "stderr",
     "output_type": "stream",
     "text": [
      "[2022-06-14 15:02:33,678] INFO | darts.models.forecasting.torch_forecasting_model | Train dataset contains 2729 samples.\n",
      "[2022-06-14 15:02:33,678] INFO | darts.models.forecasting.torch_forecasting_model | Train dataset contains 2729 samples.\n",
      "2022-06-14 15:02:33 darts.models.forecasting.torch_forecasting_model INFO: Train dataset contains 2729 samples.\n",
      "[2022-06-14 15:02:33,707] INFO | darts.models.forecasting.torch_forecasting_model | Time series values are 64-bits; casting model to float64.\n",
      "[2022-06-14 15:02:33,707] INFO | darts.models.forecasting.torch_forecasting_model | Time series values are 64-bits; casting model to float64.\n",
      "2022-06-14 15:02:33 darts.models.forecasting.torch_forecasting_model INFO: Time series values are 64-bits; casting model to float64.\n",
      "2022-06-14 15:02:33 pytorch_lightning.utilities.rank_zero INFO: GPU available: False, used: False\n",
      "2022-06-14 15:02:33 pytorch_lightning.utilities.rank_zero INFO: TPU available: False, using: 0 TPU cores\n",
      "2022-06-14 15:02:33 pytorch_lightning.utilities.rank_zero INFO: IPU available: False, using: 0 IPUs\n",
      "2022-06-14 15:02:33 pytorch_lightning.utilities.rank_zero INFO: HPU available: False, using: 0 HPUs\n",
      "2022-06-14 15:02:33 pytorch_lightning.callbacks.model_summary INFO: \n",
      "  | Name      | Type       | Params\n",
      "-----------------------------------------\n",
      "0 | criterion | MSELoss    | 0     \n",
      "1 | stacks    | ModuleList | 8.5 M \n",
      "-----------------------------------------\n",
      "8.5 M     Trainable params\n",
      "3.2 K     Non-trainable params\n",
      "8.5 M     Total params\n",
      "67.633    Total estimated model params size (MB)\n"
     ]
    },
    {
     "data": {
      "application/vnd.jupyter.widget-view+json": {
       "model_id": "1aa9b8ccd7cf4075991f1208acfdc6a0",
       "version_major": 2,
       "version_minor": 0
      },
      "text/plain": [
       "Training: 0it [00:00, ?it/s]"
      ]
     },
     "metadata": {},
     "output_type": "display_data"
    },
    {
     "data": {
      "application/vnd.jupyter.widget-view+json": {
       "model_id": "e89ffc07fa7c4687b806234e6f0cfaf3",
       "version_major": 2,
       "version_minor": 0
      },
      "text/plain": [
       "Predicting: 11it [00:00, ?it/s]"
      ]
     },
     "metadata": {},
     "output_type": "display_data"
    },
    {
     "name": "stderr",
     "output_type": "stream",
     "text": [
      "[2022-06-14 15:02:39,585] INFO | darts.models.forecasting.torch_forecasting_model | Train dataset contains 1171 samples.\n",
      "[2022-06-14 15:02:39,585] INFO | darts.models.forecasting.torch_forecasting_model | Train dataset contains 1171 samples.\n",
      "2022-06-14 15:02:39 darts.models.forecasting.torch_forecasting_model INFO: Train dataset contains 1171 samples.\n",
      "[2022-06-14 15:02:39,616] INFO | darts.models.forecasting.torch_forecasting_model | Time series values are 64-bits; casting model to float64.\n",
      "[2022-06-14 15:02:39,616] INFO | darts.models.forecasting.torch_forecasting_model | Time series values are 64-bits; casting model to float64.\n",
      "2022-06-14 15:02:39 darts.models.forecasting.torch_forecasting_model INFO: Time series values are 64-bits; casting model to float64.\n",
      "2022-06-14 15:02:39 pytorch_lightning.utilities.rank_zero INFO: GPU available: False, used: False\n",
      "2022-06-14 15:02:39 pytorch_lightning.utilities.rank_zero INFO: TPU available: False, using: 0 TPU cores\n",
      "2022-06-14 15:02:39 pytorch_lightning.utilities.rank_zero INFO: IPU available: False, using: 0 IPUs\n",
      "2022-06-14 15:02:39 pytorch_lightning.utilities.rank_zero INFO: HPU available: False, using: 0 HPUs\n",
      "2022-06-14 15:02:39 pytorch_lightning.callbacks.model_summary INFO: \n",
      "  | Name      | Type       | Params\n",
      "-----------------------------------------\n",
      "0 | criterion | MSELoss    | 0     \n",
      "1 | stacks    | ModuleList | 8.5 M \n",
      "-----------------------------------------\n",
      "8.5 M     Trainable params\n",
      "3.2 K     Non-trainable params\n",
      "8.5 M     Total params\n",
      "67.633    Total estimated model params size (MB)\n"
     ]
    },
    {
     "data": {
      "application/vnd.jupyter.widget-view+json": {
       "model_id": "3a30223e337d48a3bedc5ab3f1138644",
       "version_major": 2,
       "version_minor": 0
      },
      "text/plain": [
       "Training: 0it [00:00, ?it/s]"
      ]
     },
     "metadata": {},
     "output_type": "display_data"
    },
    {
     "data": {
      "application/vnd.jupyter.widget-view+json": {
       "model_id": "cd101186e3f94a5fa75cc94d15c16174",
       "version_major": 2,
       "version_minor": 0
      },
      "text/plain": [
       "Predicting: 5it [00:00, ?it/s]"
      ]
     },
     "metadata": {},
     "output_type": "display_data"
    },
    {
     "name": "stderr",
     "output_type": "stream",
     "text": [
      "[2022-06-14 15:02:43,325] INFO | darts.models.forecasting.torch_forecasting_model | Train dataset contains 2715 samples.\n",
      "[2022-06-14 15:02:43,325] INFO | darts.models.forecasting.torch_forecasting_model | Train dataset contains 2715 samples.\n",
      "2022-06-14 15:02:43 darts.models.forecasting.torch_forecasting_model INFO: Train dataset contains 2715 samples.\n",
      "[2022-06-14 15:02:43,373] INFO | darts.models.forecasting.torch_forecasting_model | Time series values are 64-bits; casting model to float64.\n",
      "[2022-06-14 15:02:43,373] INFO | darts.models.forecasting.torch_forecasting_model | Time series values are 64-bits; casting model to float64.\n",
      "2022-06-14 15:02:43 darts.models.forecasting.torch_forecasting_model INFO: Time series values are 64-bits; casting model to float64.\n",
      "2022-06-14 15:02:43 pytorch_lightning.utilities.rank_zero INFO: GPU available: False, used: False\n",
      "2022-06-14 15:02:43 pytorch_lightning.utilities.rank_zero INFO: TPU available: False, using: 0 TPU cores\n",
      "2022-06-14 15:02:43 pytorch_lightning.utilities.rank_zero INFO: IPU available: False, using: 0 IPUs\n",
      "2022-06-14 15:02:43 pytorch_lightning.utilities.rank_zero INFO: HPU available: False, using: 0 HPUs\n",
      "2022-06-14 15:02:43 pytorch_lightning.callbacks.model_summary INFO: \n",
      "  | Name      | Type       | Params\n",
      "-----------------------------------------\n",
      "0 | criterion | MSELoss    | 0     \n",
      "1 | stacks    | ModuleList | 8.5 M \n",
      "-----------------------------------------\n",
      "8.5 M     Trainable params\n",
      "3.2 K     Non-trainable params\n",
      "8.5 M     Total params\n",
      "67.633    Total estimated model params size (MB)\n"
     ]
    },
    {
     "data": {
      "application/vnd.jupyter.widget-view+json": {
       "model_id": "ded5cea282644a6482498ded397d9d32",
       "version_major": 2,
       "version_minor": 0
      },
      "text/plain": [
       "Training: 0it [00:00, ?it/s]"
      ]
     },
     "metadata": {},
     "output_type": "display_data"
    },
    {
     "data": {
      "application/vnd.jupyter.widget-view+json": {
       "model_id": "7d4d7effb4344e89860c01fe36e5e1f6",
       "version_major": 2,
       "version_minor": 0
      },
      "text/plain": [
       "Predicting: 11it [00:00, ?it/s]"
      ]
     },
     "metadata": {},
     "output_type": "display_data"
    },
    {
     "name": "stderr",
     "output_type": "stream",
     "text": [
      "[2022-06-14 15:02:49,251] INFO | darts.models.forecasting.torch_forecasting_model | Train dataset contains 2715 samples.\n",
      "[2022-06-14 15:02:49,251] INFO | darts.models.forecasting.torch_forecasting_model | Train dataset contains 2715 samples.\n",
      "2022-06-14 15:02:49 darts.models.forecasting.torch_forecasting_model INFO: Train dataset contains 2715 samples.\n",
      "[2022-06-14 15:02:49,298] INFO | darts.models.forecasting.torch_forecasting_model | Time series values are 64-bits; casting model to float64.\n",
      "[2022-06-14 15:02:49,298] INFO | darts.models.forecasting.torch_forecasting_model | Time series values are 64-bits; casting model to float64.\n",
      "2022-06-14 15:02:49 darts.models.forecasting.torch_forecasting_model INFO: Time series values are 64-bits; casting model to float64.\n",
      "2022-06-14 15:02:49 pytorch_lightning.utilities.rank_zero INFO: GPU available: False, used: False\n",
      "2022-06-14 15:02:49 pytorch_lightning.utilities.rank_zero INFO: TPU available: False, using: 0 TPU cores\n",
      "2022-06-14 15:02:49 pytorch_lightning.utilities.rank_zero INFO: IPU available: False, using: 0 IPUs\n",
      "2022-06-14 15:02:49 pytorch_lightning.utilities.rank_zero INFO: HPU available: False, using: 0 HPUs\n",
      "2022-06-14 15:02:49 pytorch_lightning.callbacks.model_summary INFO: \n",
      "  | Name      | Type       | Params\n",
      "-----------------------------------------\n",
      "0 | criterion | MSELoss    | 0     \n",
      "1 | stacks    | ModuleList | 8.5 M \n",
      "-----------------------------------------\n",
      "8.5 M     Trainable params\n",
      "3.2 K     Non-trainable params\n",
      "8.5 M     Total params\n",
      "67.633    Total estimated model params size (MB)\n"
     ]
    },
    {
     "data": {
      "application/vnd.jupyter.widget-view+json": {
       "model_id": "95feda0df4bb4a51bf05f2d1d3dc6b4b",
       "version_major": 2,
       "version_minor": 0
      },
      "text/plain": [
       "Training: 0it [00:00, ?it/s]"
      ]
     },
     "metadata": {},
     "output_type": "display_data"
    },
    {
     "data": {
      "application/vnd.jupyter.widget-view+json": {
       "model_id": "c8ba0a12bb5a4624b832348f2ae55f6e",
       "version_major": 2,
       "version_minor": 0
      },
      "text/plain": [
       "Predicting: 11it [00:00, ?it/s]"
      ]
     },
     "metadata": {},
     "output_type": "display_data"
    },
    {
     "name": "stderr",
     "output_type": "stream",
     "text": [
      "[2022-06-14 15:02:55,204] INFO | darts.models.forecasting.torch_forecasting_model | Train dataset contains 2715 samples.\n",
      "[2022-06-14 15:02:55,204] INFO | darts.models.forecasting.torch_forecasting_model | Train dataset contains 2715 samples.\n",
      "2022-06-14 15:02:55 darts.models.forecasting.torch_forecasting_model INFO: Train dataset contains 2715 samples.\n",
      "[2022-06-14 15:02:55,233] INFO | darts.models.forecasting.torch_forecasting_model | Time series values are 64-bits; casting model to float64.\n",
      "[2022-06-14 15:02:55,233] INFO | darts.models.forecasting.torch_forecasting_model | Time series values are 64-bits; casting model to float64.\n",
      "2022-06-14 15:02:55 darts.models.forecasting.torch_forecasting_model INFO: Time series values are 64-bits; casting model to float64.\n",
      "2022-06-14 15:02:55 pytorch_lightning.utilities.rank_zero INFO: GPU available: False, used: False\n",
      "2022-06-14 15:02:55 pytorch_lightning.utilities.rank_zero INFO: TPU available: False, using: 0 TPU cores\n",
      "2022-06-14 15:02:55 pytorch_lightning.utilities.rank_zero INFO: IPU available: False, using: 0 IPUs\n",
      "2022-06-14 15:02:55 pytorch_lightning.utilities.rank_zero INFO: HPU available: False, using: 0 HPUs\n",
      "2022-06-14 15:02:55 pytorch_lightning.callbacks.model_summary INFO: \n",
      "  | Name      | Type       | Params\n",
      "-----------------------------------------\n",
      "0 | criterion | MSELoss    | 0     \n",
      "1 | stacks    | ModuleList | 8.5 M \n",
      "-----------------------------------------\n",
      "8.5 M     Trainable params\n",
      "3.2 K     Non-trainable params\n",
      "8.5 M     Total params\n",
      "67.633    Total estimated model params size (MB)\n"
     ]
    },
    {
     "data": {
      "application/vnd.jupyter.widget-view+json": {
       "model_id": "f2d77bbe8c80427d8c8ab4f63d5b0c7c",
       "version_major": 2,
       "version_minor": 0
      },
      "text/plain": [
       "Training: 0it [00:00, ?it/s]"
      ]
     },
     "metadata": {},
     "output_type": "display_data"
    },
    {
     "data": {
      "application/vnd.jupyter.widget-view+json": {
       "model_id": "a6f7d2fc93fe4cffb1998e3c9f6ad2fa",
       "version_major": 2,
       "version_minor": 0
      },
      "text/plain": [
       "Predicting: 11it [00:00, ?it/s]"
      ]
     },
     "metadata": {},
     "output_type": "display_data"
    },
    {
     "name": "stderr",
     "output_type": "stream",
     "text": [
      "[2022-06-14 15:03:01,109] INFO | darts.models.forecasting.torch_forecasting_model | Train dataset contains 2695 samples.\n",
      "[2022-06-14 15:03:01,109] INFO | darts.models.forecasting.torch_forecasting_model | Train dataset contains 2695 samples.\n",
      "2022-06-14 15:03:01 darts.models.forecasting.torch_forecasting_model INFO: Train dataset contains 2695 samples.\n",
      "[2022-06-14 15:03:01,138] INFO | darts.models.forecasting.torch_forecasting_model | Time series values are 64-bits; casting model to float64.\n",
      "[2022-06-14 15:03:01,138] INFO | darts.models.forecasting.torch_forecasting_model | Time series values are 64-bits; casting model to float64.\n",
      "2022-06-14 15:03:01 darts.models.forecasting.torch_forecasting_model INFO: Time series values are 64-bits; casting model to float64.\n",
      "2022-06-14 15:03:01 pytorch_lightning.utilities.rank_zero INFO: GPU available: False, used: False\n",
      "2022-06-14 15:03:01 pytorch_lightning.utilities.rank_zero INFO: TPU available: False, using: 0 TPU cores\n",
      "2022-06-14 15:03:01 pytorch_lightning.utilities.rank_zero INFO: IPU available: False, using: 0 IPUs\n",
      "2022-06-14 15:03:01 pytorch_lightning.utilities.rank_zero INFO: HPU available: False, using: 0 HPUs\n",
      "2022-06-14 15:03:01 pytorch_lightning.callbacks.model_summary INFO: \n",
      "  | Name      | Type       | Params\n",
      "-----------------------------------------\n",
      "0 | criterion | MSELoss    | 0     \n",
      "1 | stacks    | ModuleList | 8.5 M \n",
      "-----------------------------------------\n",
      "8.5 M     Trainable params\n",
      "3.2 K     Non-trainable params\n",
      "8.5 M     Total params\n",
      "67.633    Total estimated model params size (MB)\n"
     ]
    },
    {
     "data": {
      "application/vnd.jupyter.widget-view+json": {
       "model_id": "834e0ae53b484ad79268219fb00cdf6f",
       "version_major": 2,
       "version_minor": 0
      },
      "text/plain": [
       "Training: 0it [00:00, ?it/s]"
      ]
     },
     "metadata": {},
     "output_type": "display_data"
    },
    {
     "data": {
      "application/vnd.jupyter.widget-view+json": {
       "model_id": "51bb97613931486195c9e035e43e16a5",
       "version_major": 2,
       "version_minor": 0
      },
      "text/plain": [
       "Predicting: 11it [00:00, ?it/s]"
      ]
     },
     "metadata": {},
     "output_type": "display_data"
    },
    {
     "name": "stderr",
     "output_type": "stream",
     "text": [
      "[2022-06-14 15:03:07,058] INFO | darts.models.forecasting.torch_forecasting_model | Train dataset contains 2695 samples.\n",
      "[2022-06-14 15:03:07,058] INFO | darts.models.forecasting.torch_forecasting_model | Train dataset contains 2695 samples.\n",
      "2022-06-14 15:03:07 darts.models.forecasting.torch_forecasting_model INFO: Train dataset contains 2695 samples.\n",
      "[2022-06-14 15:03:07,087] INFO | darts.models.forecasting.torch_forecasting_model | Time series values are 64-bits; casting model to float64.\n",
      "[2022-06-14 15:03:07,087] INFO | darts.models.forecasting.torch_forecasting_model | Time series values are 64-bits; casting model to float64.\n",
      "2022-06-14 15:03:07 darts.models.forecasting.torch_forecasting_model INFO: Time series values are 64-bits; casting model to float64.\n",
      "2022-06-14 15:03:07 pytorch_lightning.utilities.rank_zero INFO: GPU available: False, used: False\n",
      "2022-06-14 15:03:07 pytorch_lightning.utilities.rank_zero INFO: TPU available: False, using: 0 TPU cores\n",
      "2022-06-14 15:03:07 pytorch_lightning.utilities.rank_zero INFO: IPU available: False, using: 0 IPUs\n",
      "2022-06-14 15:03:07 pytorch_lightning.utilities.rank_zero INFO: HPU available: False, using: 0 HPUs\n",
      "2022-06-14 15:03:07 pytorch_lightning.callbacks.model_summary INFO: \n",
      "  | Name      | Type       | Params\n",
      "-----------------------------------------\n",
      "0 | criterion | MSELoss    | 0     \n",
      "1 | stacks    | ModuleList | 8.5 M \n",
      "-----------------------------------------\n",
      "8.5 M     Trainable params\n",
      "3.2 K     Non-trainable params\n",
      "8.5 M     Total params\n",
      "67.633    Total estimated model params size (MB)\n"
     ]
    },
    {
     "data": {
      "application/vnd.jupyter.widget-view+json": {
       "model_id": "d5bf7c3e2fca405dbaffd664cec46ccc",
       "version_major": 2,
       "version_minor": 0
      },
      "text/plain": [
       "Training: 0it [00:00, ?it/s]"
      ]
     },
     "metadata": {},
     "output_type": "display_data"
    },
    {
     "data": {
      "application/vnd.jupyter.widget-view+json": {
       "model_id": "912a9a8eb8064db1a4bea54c5209a271",
       "version_major": 2,
       "version_minor": 0
      },
      "text/plain": [
       "Predicting: 11it [00:00, ?it/s]"
      ]
     },
     "metadata": {},
     "output_type": "display_data"
    },
    {
     "name": "stderr",
     "output_type": "stream",
     "text": [
      "[2022-06-14 15:03:13,003] INFO | darts.models.forecasting.torch_forecasting_model | Train dataset contains 2700 samples.\n",
      "[2022-06-14 15:03:13,003] INFO | darts.models.forecasting.torch_forecasting_model | Train dataset contains 2700 samples.\n",
      "2022-06-14 15:03:13 darts.models.forecasting.torch_forecasting_model INFO: Train dataset contains 2700 samples.\n",
      "[2022-06-14 15:03:13,032] INFO | darts.models.forecasting.torch_forecasting_model | Time series values are 64-bits; casting model to float64.\n",
      "[2022-06-14 15:03:13,032] INFO | darts.models.forecasting.torch_forecasting_model | Time series values are 64-bits; casting model to float64.\n",
      "2022-06-14 15:03:13 darts.models.forecasting.torch_forecasting_model INFO: Time series values are 64-bits; casting model to float64.\n",
      "2022-06-14 15:03:13 pytorch_lightning.utilities.rank_zero INFO: GPU available: False, used: False\n",
      "2022-06-14 15:03:13 pytorch_lightning.utilities.rank_zero INFO: TPU available: False, using: 0 TPU cores\n",
      "2022-06-14 15:03:13 pytorch_lightning.utilities.rank_zero INFO: IPU available: False, using: 0 IPUs\n",
      "2022-06-14 15:03:13 pytorch_lightning.utilities.rank_zero INFO: HPU available: False, using: 0 HPUs\n",
      "2022-06-14 15:03:13 pytorch_lightning.callbacks.model_summary INFO: \n",
      "  | Name      | Type       | Params\n",
      "-----------------------------------------\n",
      "0 | criterion | MSELoss    | 0     \n",
      "1 | stacks    | ModuleList | 8.5 M \n",
      "-----------------------------------------\n",
      "8.5 M     Trainable params\n",
      "3.2 K     Non-trainable params\n",
      "8.5 M     Total params\n",
      "67.633    Total estimated model params size (MB)\n"
     ]
    },
    {
     "data": {
      "application/vnd.jupyter.widget-view+json": {
       "model_id": "2fbc8514dc6241f3892374c6d142ee60",
       "version_major": 2,
       "version_minor": 0
      },
      "text/plain": [
       "Training: 0it [00:00, ?it/s]"
      ]
     },
     "metadata": {},
     "output_type": "display_data"
    },
    {
     "data": {
      "application/vnd.jupyter.widget-view+json": {
       "model_id": "f04b4cb54b50493c85ee61d8730fb66a",
       "version_major": 2,
       "version_minor": 0
      },
      "text/plain": [
       "Predicting: 11it [00:00, ?it/s]"
      ]
     },
     "metadata": {},
     "output_type": "display_data"
    },
    {
     "name": "stderr",
     "output_type": "stream",
     "text": [
      "[2022-06-14 15:03:19,070] INFO | darts.models.forecasting.torch_forecasting_model | Train dataset contains 2729 samples.\n",
      "[2022-06-14 15:03:19,070] INFO | darts.models.forecasting.torch_forecasting_model | Train dataset contains 2729 samples.\n",
      "2022-06-14 15:03:19 darts.models.forecasting.torch_forecasting_model INFO: Train dataset contains 2729 samples.\n",
      "[2022-06-14 15:03:19,099] INFO | darts.models.forecasting.torch_forecasting_model | Time series values are 64-bits; casting model to float64.\n",
      "[2022-06-14 15:03:19,099] INFO | darts.models.forecasting.torch_forecasting_model | Time series values are 64-bits; casting model to float64.\n",
      "2022-06-14 15:03:19 darts.models.forecasting.torch_forecasting_model INFO: Time series values are 64-bits; casting model to float64.\n",
      "2022-06-14 15:03:19 pytorch_lightning.utilities.rank_zero INFO: GPU available: False, used: False\n",
      "2022-06-14 15:03:19 pytorch_lightning.utilities.rank_zero INFO: TPU available: False, using: 0 TPU cores\n",
      "2022-06-14 15:03:19 pytorch_lightning.utilities.rank_zero INFO: IPU available: False, using: 0 IPUs\n",
      "2022-06-14 15:03:19 pytorch_lightning.utilities.rank_zero INFO: HPU available: False, using: 0 HPUs\n",
      "2022-06-14 15:03:19 pytorch_lightning.callbacks.model_summary INFO: \n",
      "  | Name      | Type       | Params\n",
      "-----------------------------------------\n",
      "0 | criterion | MSELoss    | 0     \n",
      "1 | stacks    | ModuleList | 8.5 M \n",
      "-----------------------------------------\n",
      "8.5 M     Trainable params\n",
      "3.2 K     Non-trainable params\n",
      "8.5 M     Total params\n",
      "67.633    Total estimated model params size (MB)\n"
     ]
    },
    {
     "data": {
      "application/vnd.jupyter.widget-view+json": {
       "model_id": "de71819b41e1421ba95f1fcfb13c6123",
       "version_major": 2,
       "version_minor": 0
      },
      "text/plain": [
       "Training: 0it [00:00, ?it/s]"
      ]
     },
     "metadata": {},
     "output_type": "display_data"
    },
    {
     "data": {
      "application/vnd.jupyter.widget-view+json": {
       "model_id": "b40045ee05bc4f52a0615fb035003bd9",
       "version_major": 2,
       "version_minor": 0
      },
      "text/plain": [
       "Predicting: 11it [00:00, ?it/s]"
      ]
     },
     "metadata": {},
     "output_type": "display_data"
    },
    {
     "name": "stderr",
     "output_type": "stream",
     "text": [
      "[2022-06-14 15:03:25,134] INFO | darts.models.forecasting.torch_forecasting_model | Train dataset contains 2729 samples.\n",
      "[2022-06-14 15:03:25,134] INFO | darts.models.forecasting.torch_forecasting_model | Train dataset contains 2729 samples.\n",
      "2022-06-14 15:03:25 darts.models.forecasting.torch_forecasting_model INFO: Train dataset contains 2729 samples.\n",
      "[2022-06-14 15:03:25,163] INFO | darts.models.forecasting.torch_forecasting_model | Time series values are 64-bits; casting model to float64.\n",
      "[2022-06-14 15:03:25,163] INFO | darts.models.forecasting.torch_forecasting_model | Time series values are 64-bits; casting model to float64.\n",
      "2022-06-14 15:03:25 darts.models.forecasting.torch_forecasting_model INFO: Time series values are 64-bits; casting model to float64.\n",
      "2022-06-14 15:03:25 pytorch_lightning.utilities.rank_zero INFO: GPU available: False, used: False\n",
      "2022-06-14 15:03:25 pytorch_lightning.utilities.rank_zero INFO: TPU available: False, using: 0 TPU cores\n",
      "2022-06-14 15:03:25 pytorch_lightning.utilities.rank_zero INFO: IPU available: False, using: 0 IPUs\n",
      "2022-06-14 15:03:25 pytorch_lightning.utilities.rank_zero INFO: HPU available: False, using: 0 HPUs\n",
      "2022-06-14 15:03:25 pytorch_lightning.callbacks.model_summary INFO: \n",
      "  | Name      | Type       | Params\n",
      "-----------------------------------------\n",
      "0 | criterion | MSELoss    | 0     \n",
      "1 | stacks    | ModuleList | 8.5 M \n",
      "-----------------------------------------\n",
      "8.5 M     Trainable params\n",
      "3.2 K     Non-trainable params\n",
      "8.5 M     Total params\n",
      "67.633    Total estimated model params size (MB)\n"
     ]
    },
    {
     "data": {
      "application/vnd.jupyter.widget-view+json": {
       "model_id": "c5a69063e28f43238a3020f821f9a35a",
       "version_major": 2,
       "version_minor": 0
      },
      "text/plain": [
       "Training: 0it [00:00, ?it/s]"
      ]
     },
     "metadata": {},
     "output_type": "display_data"
    },
    {
     "data": {
      "application/vnd.jupyter.widget-view+json": {
       "model_id": "d4f59ae6c8ae459bbe831e51be512029",
       "version_major": 2,
       "version_minor": 0
      },
      "text/plain": [
       "Predicting: 11it [00:00, ?it/s]"
      ]
     },
     "metadata": {},
     "output_type": "display_data"
    },
    {
     "name": "stderr",
     "output_type": "stream",
     "text": [
      "[2022-06-14 15:03:31,135] INFO | darts.models.forecasting.torch_forecasting_model | Train dataset contains 2729 samples.\n",
      "[2022-06-14 15:03:31,135] INFO | darts.models.forecasting.torch_forecasting_model | Train dataset contains 2729 samples.\n",
      "2022-06-14 15:03:31 darts.models.forecasting.torch_forecasting_model INFO: Train dataset contains 2729 samples.\n",
      "[2022-06-14 15:03:31,164] INFO | darts.models.forecasting.torch_forecasting_model | Time series values are 64-bits; casting model to float64.\n",
      "[2022-06-14 15:03:31,164] INFO | darts.models.forecasting.torch_forecasting_model | Time series values are 64-bits; casting model to float64.\n",
      "2022-06-14 15:03:31 darts.models.forecasting.torch_forecasting_model INFO: Time series values are 64-bits; casting model to float64.\n",
      "2022-06-14 15:03:31 pytorch_lightning.utilities.rank_zero INFO: GPU available: False, used: False\n",
      "2022-06-14 15:03:31 pytorch_lightning.utilities.rank_zero INFO: TPU available: False, using: 0 TPU cores\n",
      "2022-06-14 15:03:31 pytorch_lightning.utilities.rank_zero INFO: IPU available: False, using: 0 IPUs\n",
      "2022-06-14 15:03:31 pytorch_lightning.utilities.rank_zero INFO: HPU available: False, using: 0 HPUs\n",
      "2022-06-14 15:03:31 pytorch_lightning.callbacks.model_summary INFO: \n",
      "  | Name      | Type       | Params\n",
      "-----------------------------------------\n",
      "0 | criterion | MSELoss    | 0     \n",
      "1 | stacks    | ModuleList | 8.5 M \n",
      "-----------------------------------------\n",
      "8.5 M     Trainable params\n",
      "3.2 K     Non-trainable params\n",
      "8.5 M     Total params\n",
      "67.633    Total estimated model params size (MB)\n"
     ]
    },
    {
     "data": {
      "application/vnd.jupyter.widget-view+json": {
       "model_id": "88abed4fd6564bf298ba5e0618b9e891",
       "version_major": 2,
       "version_minor": 0
      },
      "text/plain": [
       "Training: 0it [00:00, ?it/s]"
      ]
     },
     "metadata": {},
     "output_type": "display_data"
    },
    {
     "data": {
      "application/vnd.jupyter.widget-view+json": {
       "model_id": "e158ecd45bae48ffb5db84c677e20d33",
       "version_major": 2,
       "version_minor": 0
      },
      "text/plain": [
       "Predicting: 11it [00:00, ?it/s]"
      ]
     },
     "metadata": {},
     "output_type": "display_data"
    },
    {
     "name": "stderr",
     "output_type": "stream",
     "text": [
      "[2022-06-14 15:03:37,137] INFO | darts.models.forecasting.torch_forecasting_model | Train dataset contains 2729 samples.\n",
      "[2022-06-14 15:03:37,137] INFO | darts.models.forecasting.torch_forecasting_model | Train dataset contains 2729 samples.\n",
      "2022-06-14 15:03:37 darts.models.forecasting.torch_forecasting_model INFO: Train dataset contains 2729 samples.\n",
      "[2022-06-14 15:03:37,166] INFO | darts.models.forecasting.torch_forecasting_model | Time series values are 64-bits; casting model to float64.\n",
      "[2022-06-14 15:03:37,166] INFO | darts.models.forecasting.torch_forecasting_model | Time series values are 64-bits; casting model to float64.\n",
      "2022-06-14 15:03:37 darts.models.forecasting.torch_forecasting_model INFO: Time series values are 64-bits; casting model to float64.\n",
      "2022-06-14 15:03:37 pytorch_lightning.utilities.rank_zero INFO: GPU available: False, used: False\n",
      "2022-06-14 15:03:37 pytorch_lightning.utilities.rank_zero INFO: TPU available: False, using: 0 TPU cores\n",
      "2022-06-14 15:03:37 pytorch_lightning.utilities.rank_zero INFO: IPU available: False, using: 0 IPUs\n",
      "2022-06-14 15:03:37 pytorch_lightning.utilities.rank_zero INFO: HPU available: False, using: 0 HPUs\n",
      "2022-06-14 15:03:37 pytorch_lightning.callbacks.model_summary INFO: \n",
      "  | Name      | Type       | Params\n",
      "-----------------------------------------\n",
      "0 | criterion | MSELoss    | 0     \n",
      "1 | stacks    | ModuleList | 8.5 M \n",
      "-----------------------------------------\n",
      "8.5 M     Trainable params\n",
      "3.2 K     Non-trainable params\n",
      "8.5 M     Total params\n",
      "67.633    Total estimated model params size (MB)\n"
     ]
    },
    {
     "data": {
      "application/vnd.jupyter.widget-view+json": {
       "model_id": "a80038d650ce4cceb83bff610a2b6e73",
       "version_major": 2,
       "version_minor": 0
      },
      "text/plain": [
       "Training: 0it [00:00, ?it/s]"
      ]
     },
     "metadata": {},
     "output_type": "display_data"
    },
    {
     "data": {
      "application/vnd.jupyter.widget-view+json": {
       "model_id": "a92d16ef0ea64e3999fc02a45ae3fe42",
       "version_major": 2,
       "version_minor": 0
      },
      "text/plain": [
       "Predicting: 11it [00:00, ?it/s]"
      ]
     },
     "metadata": {},
     "output_type": "display_data"
    },
    {
     "name": "stderr",
     "output_type": "stream",
     "text": [
      "[2022-06-14 15:03:43,053] INFO | darts.models.forecasting.torch_forecasting_model | Train dataset contains 2729 samples.\n",
      "[2022-06-14 15:03:43,053] INFO | darts.models.forecasting.torch_forecasting_model | Train dataset contains 2729 samples.\n",
      "2022-06-14 15:03:43 darts.models.forecasting.torch_forecasting_model INFO: Train dataset contains 2729 samples.\n",
      "[2022-06-14 15:03:43,081] INFO | darts.models.forecasting.torch_forecasting_model | Time series values are 64-bits; casting model to float64.\n",
      "[2022-06-14 15:03:43,081] INFO | darts.models.forecasting.torch_forecasting_model | Time series values are 64-bits; casting model to float64.\n",
      "2022-06-14 15:03:43 darts.models.forecasting.torch_forecasting_model INFO: Time series values are 64-bits; casting model to float64.\n",
      "2022-06-14 15:03:43 pytorch_lightning.utilities.rank_zero INFO: GPU available: False, used: False\n",
      "2022-06-14 15:03:43 pytorch_lightning.utilities.rank_zero INFO: TPU available: False, using: 0 TPU cores\n",
      "2022-06-14 15:03:43 pytorch_lightning.utilities.rank_zero INFO: IPU available: False, using: 0 IPUs\n",
      "2022-06-14 15:03:43 pytorch_lightning.utilities.rank_zero INFO: HPU available: False, using: 0 HPUs\n",
      "2022-06-14 15:03:43 pytorch_lightning.callbacks.model_summary INFO: \n",
      "  | Name      | Type       | Params\n",
      "-----------------------------------------\n",
      "0 | criterion | MSELoss    | 0     \n",
      "1 | stacks    | ModuleList | 8.5 M \n",
      "-----------------------------------------\n",
      "8.5 M     Trainable params\n",
      "3.2 K     Non-trainable params\n",
      "8.5 M     Total params\n",
      "67.633    Total estimated model params size (MB)\n"
     ]
    },
    {
     "data": {
      "application/vnd.jupyter.widget-view+json": {
       "model_id": "e9a40f280e1149a1adc1cc53579f9109",
       "version_major": 2,
       "version_minor": 0
      },
      "text/plain": [
       "Training: 0it [00:00, ?it/s]"
      ]
     },
     "metadata": {},
     "output_type": "display_data"
    },
    {
     "data": {
      "application/vnd.jupyter.widget-view+json": {
       "model_id": "b16f9fe0106f45fc8ebfa40eeaa90d61",
       "version_major": 2,
       "version_minor": 0
      },
      "text/plain": [
       "Predicting: 11it [00:00, ?it/s]"
      ]
     },
     "metadata": {},
     "output_type": "display_data"
    },
    {
     "name": "stderr",
     "output_type": "stream",
     "text": [
      "[2022-06-14 15:03:48,975] INFO | darts.models.forecasting.torch_forecasting_model | Train dataset contains 2700 samples.\n",
      "[2022-06-14 15:03:48,975] INFO | darts.models.forecasting.torch_forecasting_model | Train dataset contains 2700 samples.\n",
      "2022-06-14 15:03:48 darts.models.forecasting.torch_forecasting_model INFO: Train dataset contains 2700 samples.\n",
      "[2022-06-14 15:03:49,004] INFO | darts.models.forecasting.torch_forecasting_model | Time series values are 64-bits; casting model to float64.\n",
      "[2022-06-14 15:03:49,004] INFO | darts.models.forecasting.torch_forecasting_model | Time series values are 64-bits; casting model to float64.\n",
      "2022-06-14 15:03:49 darts.models.forecasting.torch_forecasting_model INFO: Time series values are 64-bits; casting model to float64.\n",
      "2022-06-14 15:03:49 pytorch_lightning.utilities.rank_zero INFO: GPU available: False, used: False\n",
      "2022-06-14 15:03:49 pytorch_lightning.utilities.rank_zero INFO: TPU available: False, using: 0 TPU cores\n",
      "2022-06-14 15:03:49 pytorch_lightning.utilities.rank_zero INFO: IPU available: False, using: 0 IPUs\n",
      "2022-06-14 15:03:49 pytorch_lightning.utilities.rank_zero INFO: HPU available: False, using: 0 HPUs\n",
      "2022-06-14 15:03:49 pytorch_lightning.callbacks.model_summary INFO: \n",
      "  | Name      | Type       | Params\n",
      "-----------------------------------------\n",
      "0 | criterion | MSELoss    | 0     \n",
      "1 | stacks    | ModuleList | 8.5 M \n",
      "-----------------------------------------\n",
      "8.5 M     Trainable params\n",
      "3.2 K     Non-trainable params\n",
      "8.5 M     Total params\n",
      "67.633    Total estimated model params size (MB)\n"
     ]
    },
    {
     "data": {
      "application/vnd.jupyter.widget-view+json": {
       "model_id": "c881eea47f1440078b9a32f10d6d8a0b",
       "version_major": 2,
       "version_minor": 0
      },
      "text/plain": [
       "Training: 0it [00:00, ?it/s]"
      ]
     },
     "metadata": {},
     "output_type": "display_data"
    },
    {
     "data": {
      "application/vnd.jupyter.widget-view+json": {
       "model_id": "21d615dfce40416693a49417eb17bc2d",
       "version_major": 2,
       "version_minor": 0
      },
      "text/plain": [
       "Predicting: 11it [00:00, ?it/s]"
      ]
     },
     "metadata": {},
     "output_type": "display_data"
    },
    {
     "name": "stderr",
     "output_type": "stream",
     "text": [
      "[2022-06-14 15:03:54,881] INFO | darts.models.forecasting.torch_forecasting_model | Train dataset contains 2730 samples.\n",
      "[2022-06-14 15:03:54,881] INFO | darts.models.forecasting.torch_forecasting_model | Train dataset contains 2730 samples.\n",
      "2022-06-14 15:03:54 darts.models.forecasting.torch_forecasting_model INFO: Train dataset contains 2730 samples.\n",
      "[2022-06-14 15:03:54,927] INFO | darts.models.forecasting.torch_forecasting_model | Time series values are 64-bits; casting model to float64.\n",
      "[2022-06-14 15:03:54,927] INFO | darts.models.forecasting.torch_forecasting_model | Time series values are 64-bits; casting model to float64.\n",
      "2022-06-14 15:03:54 darts.models.forecasting.torch_forecasting_model INFO: Time series values are 64-bits; casting model to float64.\n",
      "2022-06-14 15:03:54 pytorch_lightning.utilities.rank_zero INFO: GPU available: False, used: False\n",
      "2022-06-14 15:03:54 pytorch_lightning.utilities.rank_zero INFO: TPU available: False, using: 0 TPU cores\n",
      "2022-06-14 15:03:54 pytorch_lightning.utilities.rank_zero INFO: IPU available: False, using: 0 IPUs\n",
      "2022-06-14 15:03:54 pytorch_lightning.utilities.rank_zero INFO: HPU available: False, using: 0 HPUs\n",
      "2022-06-14 15:03:54 pytorch_lightning.callbacks.model_summary INFO: \n",
      "  | Name      | Type       | Params\n",
      "-----------------------------------------\n",
      "0 | criterion | MSELoss    | 0     \n",
      "1 | stacks    | ModuleList | 8.5 M \n",
      "-----------------------------------------\n",
      "8.5 M     Trainable params\n",
      "3.2 K     Non-trainable params\n",
      "8.5 M     Total params\n",
      "67.633    Total estimated model params size (MB)\n"
     ]
    },
    {
     "data": {
      "application/vnd.jupyter.widget-view+json": {
       "model_id": "71a3aa0fdb174abaa24a043052d95e78",
       "version_major": 2,
       "version_minor": 0
      },
      "text/plain": [
       "Training: 0it [00:00, ?it/s]"
      ]
     },
     "metadata": {},
     "output_type": "display_data"
    },
    {
     "data": {
      "application/vnd.jupyter.widget-view+json": {
       "model_id": "69756a95ef054798aa0cdd69f43fc5ce",
       "version_major": 2,
       "version_minor": 0
      },
      "text/plain": [
       "Predicting: 11it [00:00, ?it/s]"
      ]
     },
     "metadata": {},
     "output_type": "display_data"
    },
    {
     "name": "stderr",
     "output_type": "stream",
     "text": [
      "[2022-06-14 15:04:00,772] INFO | darts.models.forecasting.torch_forecasting_model | Train dataset contains 2729 samples.\n",
      "[2022-06-14 15:04:00,772] INFO | darts.models.forecasting.torch_forecasting_model | Train dataset contains 2729 samples.\n",
      "2022-06-14 15:04:00 darts.models.forecasting.torch_forecasting_model INFO: Train dataset contains 2729 samples.\n",
      "[2022-06-14 15:04:00,819] INFO | darts.models.forecasting.torch_forecasting_model | Time series values are 64-bits; casting model to float64.\n",
      "[2022-06-14 15:04:00,819] INFO | darts.models.forecasting.torch_forecasting_model | Time series values are 64-bits; casting model to float64.\n",
      "2022-06-14 15:04:00 darts.models.forecasting.torch_forecasting_model INFO: Time series values are 64-bits; casting model to float64.\n",
      "2022-06-14 15:04:00 pytorch_lightning.utilities.rank_zero INFO: GPU available: False, used: False\n",
      "2022-06-14 15:04:00 pytorch_lightning.utilities.rank_zero INFO: TPU available: False, using: 0 TPU cores\n",
      "2022-06-14 15:04:00 pytorch_lightning.utilities.rank_zero INFO: IPU available: False, using: 0 IPUs\n",
      "2022-06-14 15:04:00 pytorch_lightning.utilities.rank_zero INFO: HPU available: False, using: 0 HPUs\n",
      "2022-06-14 15:04:00 pytorch_lightning.callbacks.model_summary INFO: \n",
      "  | Name      | Type       | Params\n",
      "-----------------------------------------\n",
      "0 | criterion | MSELoss    | 0     \n",
      "1 | stacks    | ModuleList | 8.5 M \n",
      "-----------------------------------------\n",
      "8.5 M     Trainable params\n",
      "3.2 K     Non-trainable params\n",
      "8.5 M     Total params\n",
      "67.633    Total estimated model params size (MB)\n"
     ]
    },
    {
     "data": {
      "application/vnd.jupyter.widget-view+json": {
       "model_id": "c7415c7d73da4e5e8b17d0ddadc47689",
       "version_major": 2,
       "version_minor": 0
      },
      "text/plain": [
       "Training: 0it [00:00, ?it/s]"
      ]
     },
     "metadata": {},
     "output_type": "display_data"
    },
    {
     "data": {
      "application/vnd.jupyter.widget-view+json": {
       "model_id": "018236f797ed4679872950ed065d804e",
       "version_major": 2,
       "version_minor": 0
      },
      "text/plain": [
       "Predicting: 11it [00:00, ?it/s]"
      ]
     },
     "metadata": {},
     "output_type": "display_data"
    },
    {
     "name": "stderr",
     "output_type": "stream",
     "text": [
      "[2022-06-14 15:04:06,721] INFO | darts.models.forecasting.torch_forecasting_model | Train dataset contains 2730 samples.\n",
      "[2022-06-14 15:04:06,721] INFO | darts.models.forecasting.torch_forecasting_model | Train dataset contains 2730 samples.\n",
      "2022-06-14 15:04:06 darts.models.forecasting.torch_forecasting_model INFO: Train dataset contains 2730 samples.\n",
      "[2022-06-14 15:04:06,761] INFO | darts.models.forecasting.torch_forecasting_model | Time series values are 64-bits; casting model to float64.\n",
      "[2022-06-14 15:04:06,761] INFO | darts.models.forecasting.torch_forecasting_model | Time series values are 64-bits; casting model to float64.\n",
      "2022-06-14 15:04:06 darts.models.forecasting.torch_forecasting_model INFO: Time series values are 64-bits; casting model to float64.\n",
      "2022-06-14 15:04:06 pytorch_lightning.utilities.rank_zero INFO: GPU available: False, used: False\n",
      "2022-06-14 15:04:06 pytorch_lightning.utilities.rank_zero INFO: TPU available: False, using: 0 TPU cores\n",
      "2022-06-14 15:04:06 pytorch_lightning.utilities.rank_zero INFO: IPU available: False, using: 0 IPUs\n",
      "2022-06-14 15:04:06 pytorch_lightning.utilities.rank_zero INFO: HPU available: False, using: 0 HPUs\n",
      "2022-06-14 15:04:06 pytorch_lightning.callbacks.model_summary INFO: \n",
      "  | Name      | Type       | Params\n",
      "-----------------------------------------\n",
      "0 | criterion | MSELoss    | 0     \n",
      "1 | stacks    | ModuleList | 8.5 M \n",
      "-----------------------------------------\n",
      "8.5 M     Trainable params\n",
      "3.2 K     Non-trainable params\n",
      "8.5 M     Total params\n",
      "67.633    Total estimated model params size (MB)\n"
     ]
    },
    {
     "data": {
      "application/vnd.jupyter.widget-view+json": {
       "model_id": "9c6c213ad6e14bfc88cbc0e2c56f59d2",
       "version_major": 2,
       "version_minor": 0
      },
      "text/plain": [
       "Training: 0it [00:00, ?it/s]"
      ]
     },
     "metadata": {},
     "output_type": "display_data"
    },
    {
     "data": {
      "application/vnd.jupyter.widget-view+json": {
       "model_id": "6f045d13eb7d46ff8c33d40f7e843a59",
       "version_major": 2,
       "version_minor": 0
      },
      "text/plain": [
       "Predicting: 11it [00:00, ?it/s]"
      ]
     },
     "metadata": {},
     "output_type": "display_data"
    },
    {
     "name": "stderr",
     "output_type": "stream",
     "text": [
      "[2022-06-14 15:04:12,562] INFO | darts.models.forecasting.torch_forecasting_model | Train dataset contains 2729 samples.\n",
      "[2022-06-14 15:04:12,562] INFO | darts.models.forecasting.torch_forecasting_model | Train dataset contains 2729 samples.\n",
      "2022-06-14 15:04:12 darts.models.forecasting.torch_forecasting_model INFO: Train dataset contains 2729 samples.\n",
      "[2022-06-14 15:04:12,591] INFO | darts.models.forecasting.torch_forecasting_model | Time series values are 64-bits; casting model to float64.\n",
      "[2022-06-14 15:04:12,591] INFO | darts.models.forecasting.torch_forecasting_model | Time series values are 64-bits; casting model to float64.\n",
      "2022-06-14 15:04:12 darts.models.forecasting.torch_forecasting_model INFO: Time series values are 64-bits; casting model to float64.\n",
      "2022-06-14 15:04:12 pytorch_lightning.utilities.rank_zero INFO: GPU available: False, used: False\n",
      "2022-06-14 15:04:12 pytorch_lightning.utilities.rank_zero INFO: TPU available: False, using: 0 TPU cores\n",
      "2022-06-14 15:04:12 pytorch_lightning.utilities.rank_zero INFO: IPU available: False, using: 0 IPUs\n",
      "2022-06-14 15:04:12 pytorch_lightning.utilities.rank_zero INFO: HPU available: False, using: 0 HPUs\n",
      "2022-06-14 15:04:12 pytorch_lightning.callbacks.model_summary INFO: \n",
      "  | Name      | Type       | Params\n",
      "-----------------------------------------\n",
      "0 | criterion | MSELoss    | 0     \n",
      "1 | stacks    | ModuleList | 8.5 M \n",
      "-----------------------------------------\n",
      "8.5 M     Trainable params\n",
      "3.2 K     Non-trainable params\n",
      "8.5 M     Total params\n",
      "67.633    Total estimated model params size (MB)\n"
     ]
    },
    {
     "data": {
      "application/vnd.jupyter.widget-view+json": {
       "model_id": "348a9c3125804887a437d36b01737caa",
       "version_major": 2,
       "version_minor": 0
      },
      "text/plain": [
       "Training: 0it [00:00, ?it/s]"
      ]
     },
     "metadata": {},
     "output_type": "display_data"
    },
    {
     "data": {
      "application/vnd.jupyter.widget-view+json": {
       "model_id": "99e572f46b754852872adcf57b11d083",
       "version_major": 2,
       "version_minor": 0
      },
      "text/plain": [
       "Predicting: 11it [00:00, ?it/s]"
      ]
     },
     "metadata": {},
     "output_type": "display_data"
    },
    {
     "name": "stderr",
     "output_type": "stream",
     "text": [
      "[2022-06-14 15:04:18,602] INFO | darts.models.forecasting.torch_forecasting_model | Train dataset contains 2729 samples.\n",
      "[2022-06-14 15:04:18,602] INFO | darts.models.forecasting.torch_forecasting_model | Train dataset contains 2729 samples.\n",
      "2022-06-14 15:04:18 darts.models.forecasting.torch_forecasting_model INFO: Train dataset contains 2729 samples.\n",
      "[2022-06-14 15:04:18,631] INFO | darts.models.forecasting.torch_forecasting_model | Time series values are 64-bits; casting model to float64.\n",
      "[2022-06-14 15:04:18,631] INFO | darts.models.forecasting.torch_forecasting_model | Time series values are 64-bits; casting model to float64.\n",
      "2022-06-14 15:04:18 darts.models.forecasting.torch_forecasting_model INFO: Time series values are 64-bits; casting model to float64.\n",
      "2022-06-14 15:04:18 pytorch_lightning.utilities.rank_zero INFO: GPU available: False, used: False\n",
      "2022-06-14 15:04:18 pytorch_lightning.utilities.rank_zero INFO: TPU available: False, using: 0 TPU cores\n",
      "2022-06-14 15:04:18 pytorch_lightning.utilities.rank_zero INFO: IPU available: False, using: 0 IPUs\n",
      "2022-06-14 15:04:18 pytorch_lightning.utilities.rank_zero INFO: HPU available: False, using: 0 HPUs\n",
      "2022-06-14 15:04:18 pytorch_lightning.callbacks.model_summary INFO: \n",
      "  | Name      | Type       | Params\n",
      "-----------------------------------------\n",
      "0 | criterion | MSELoss    | 0     \n",
      "1 | stacks    | ModuleList | 8.5 M \n",
      "-----------------------------------------\n",
      "8.5 M     Trainable params\n",
      "3.2 K     Non-trainable params\n",
      "8.5 M     Total params\n",
      "67.633    Total estimated model params size (MB)\n"
     ]
    },
    {
     "data": {
      "application/vnd.jupyter.widget-view+json": {
       "model_id": "1986a99555bc4032aaefbb6fde0b54ee",
       "version_major": 2,
       "version_minor": 0
      },
      "text/plain": [
       "Training: 0it [00:00, ?it/s]"
      ]
     },
     "metadata": {},
     "output_type": "display_data"
    },
    {
     "data": {
      "application/vnd.jupyter.widget-view+json": {
       "model_id": "a4e97da788054d59b15b2648dfa95bec",
       "version_major": 2,
       "version_minor": 0
      },
      "text/plain": [
       "Predicting: 11it [00:00, ?it/s]"
      ]
     },
     "metadata": {},
     "output_type": "display_data"
    },
    {
     "name": "stderr",
     "output_type": "stream",
     "text": [
      "[2022-06-14 15:04:24,509] INFO | darts.models.forecasting.torch_forecasting_model | Train dataset contains 2678 samples.\n",
      "[2022-06-14 15:04:24,509] INFO | darts.models.forecasting.torch_forecasting_model | Train dataset contains 2678 samples.\n",
      "2022-06-14 15:04:24 darts.models.forecasting.torch_forecasting_model INFO: Train dataset contains 2678 samples.\n",
      "[2022-06-14 15:04:24,543] INFO | darts.models.forecasting.torch_forecasting_model | Time series values are 64-bits; casting model to float64.\n",
      "[2022-06-14 15:04:24,543] INFO | darts.models.forecasting.torch_forecasting_model | Time series values are 64-bits; casting model to float64.\n",
      "2022-06-14 15:04:24 darts.models.forecasting.torch_forecasting_model INFO: Time series values are 64-bits; casting model to float64.\n",
      "2022-06-14 15:04:24 pytorch_lightning.utilities.rank_zero INFO: GPU available: False, used: False\n",
      "2022-06-14 15:04:24 pytorch_lightning.utilities.rank_zero INFO: TPU available: False, using: 0 TPU cores\n",
      "2022-06-14 15:04:24 pytorch_lightning.utilities.rank_zero INFO: IPU available: False, using: 0 IPUs\n",
      "2022-06-14 15:04:24 pytorch_lightning.utilities.rank_zero INFO: HPU available: False, using: 0 HPUs\n",
      "2022-06-14 15:04:24 pytorch_lightning.callbacks.model_summary INFO: \n",
      "  | Name      | Type       | Params\n",
      "-----------------------------------------\n",
      "0 | criterion | MSELoss    | 0     \n",
      "1 | stacks    | ModuleList | 8.5 M \n",
      "-----------------------------------------\n",
      "8.5 M     Trainable params\n",
      "3.2 K     Non-trainable params\n",
      "8.5 M     Total params\n",
      "67.633    Total estimated model params size (MB)\n"
     ]
    },
    {
     "data": {
      "application/vnd.jupyter.widget-view+json": {
       "model_id": "a25777904c404c8b9c5586264e93d328",
       "version_major": 2,
       "version_minor": 0
      },
      "text/plain": [
       "Training: 0it [00:00, ?it/s]"
      ]
     },
     "metadata": {},
     "output_type": "display_data"
    },
    {
     "data": {
      "application/vnd.jupyter.widget-view+json": {
       "model_id": "28078d9a85b349488e8a64aa52c3609b",
       "version_major": 2,
       "version_minor": 0
      },
      "text/plain": [
       "Predicting: 11it [00:00, ?it/s]"
      ]
     },
     "metadata": {},
     "output_type": "display_data"
    },
    {
     "name": "stderr",
     "output_type": "stream",
     "text": [
      "[2022-06-14 15:04:30,391] INFO | darts.models.forecasting.torch_forecasting_model | Train dataset contains 2706 samples.\n",
      "[2022-06-14 15:04:30,391] INFO | darts.models.forecasting.torch_forecasting_model | Train dataset contains 2706 samples.\n",
      "2022-06-14 15:04:30 darts.models.forecasting.torch_forecasting_model INFO: Train dataset contains 2706 samples.\n",
      "[2022-06-14 15:04:30,421] INFO | darts.models.forecasting.torch_forecasting_model | Time series values are 64-bits; casting model to float64.\n",
      "[2022-06-14 15:04:30,421] INFO | darts.models.forecasting.torch_forecasting_model | Time series values are 64-bits; casting model to float64.\n",
      "2022-06-14 15:04:30 darts.models.forecasting.torch_forecasting_model INFO: Time series values are 64-bits; casting model to float64.\n",
      "2022-06-14 15:04:30 pytorch_lightning.utilities.rank_zero INFO: GPU available: False, used: False\n",
      "2022-06-14 15:04:30 pytorch_lightning.utilities.rank_zero INFO: TPU available: False, using: 0 TPU cores\n",
      "2022-06-14 15:04:30 pytorch_lightning.utilities.rank_zero INFO: IPU available: False, using: 0 IPUs\n",
      "2022-06-14 15:04:30 pytorch_lightning.utilities.rank_zero INFO: HPU available: False, using: 0 HPUs\n",
      "2022-06-14 15:04:30 pytorch_lightning.callbacks.model_summary INFO: \n",
      "  | Name      | Type       | Params\n",
      "-----------------------------------------\n",
      "0 | criterion | MSELoss    | 0     \n",
      "1 | stacks    | ModuleList | 8.5 M \n",
      "-----------------------------------------\n",
      "8.5 M     Trainable params\n",
      "3.2 K     Non-trainable params\n",
      "8.5 M     Total params\n",
      "67.633    Total estimated model params size (MB)\n"
     ]
    },
    {
     "data": {
      "application/vnd.jupyter.widget-view+json": {
       "model_id": "4b90f67625ef434694b6ee348d72743e",
       "version_major": 2,
       "version_minor": 0
      },
      "text/plain": [
       "Training: 0it [00:00, ?it/s]"
      ]
     },
     "metadata": {},
     "output_type": "display_data"
    },
    {
     "data": {
      "application/vnd.jupyter.widget-view+json": {
       "model_id": "4ff2214061314a7d90fd65b7435d43c4",
       "version_major": 2,
       "version_minor": 0
      },
      "text/plain": [
       "Predicting: 11it [00:00, ?it/s]"
      ]
     },
     "metadata": {},
     "output_type": "display_data"
    },
    {
     "name": "stderr",
     "output_type": "stream",
     "text": [
      "[2022-06-14 15:04:36,393] INFO | darts.models.forecasting.torch_forecasting_model | Train dataset contains 2686 samples.\n",
      "[2022-06-14 15:04:36,393] INFO | darts.models.forecasting.torch_forecasting_model | Train dataset contains 2686 samples.\n",
      "2022-06-14 15:04:36 darts.models.forecasting.torch_forecasting_model INFO: Train dataset contains 2686 samples.\n",
      "[2022-06-14 15:04:36,422] INFO | darts.models.forecasting.torch_forecasting_model | Time series values are 64-bits; casting model to float64.\n",
      "[2022-06-14 15:04:36,422] INFO | darts.models.forecasting.torch_forecasting_model | Time series values are 64-bits; casting model to float64.\n",
      "2022-06-14 15:04:36 darts.models.forecasting.torch_forecasting_model INFO: Time series values are 64-bits; casting model to float64.\n",
      "2022-06-14 15:04:36 pytorch_lightning.utilities.rank_zero INFO: GPU available: False, used: False\n",
      "2022-06-14 15:04:36 pytorch_lightning.utilities.rank_zero INFO: TPU available: False, using: 0 TPU cores\n",
      "2022-06-14 15:04:36 pytorch_lightning.utilities.rank_zero INFO: IPU available: False, using: 0 IPUs\n",
      "2022-06-14 15:04:36 pytorch_lightning.utilities.rank_zero INFO: HPU available: False, using: 0 HPUs\n",
      "2022-06-14 15:04:36 pytorch_lightning.callbacks.model_summary INFO: \n",
      "  | Name      | Type       | Params\n",
      "-----------------------------------------\n",
      "0 | criterion | MSELoss    | 0     \n",
      "1 | stacks    | ModuleList | 8.5 M \n",
      "-----------------------------------------\n",
      "8.5 M     Trainable params\n",
      "3.2 K     Non-trainable params\n",
      "8.5 M     Total params\n",
      "67.633    Total estimated model params size (MB)\n"
     ]
    },
    {
     "data": {
      "application/vnd.jupyter.widget-view+json": {
       "model_id": "38281ff92b074a4a82e498643914cfae",
       "version_major": 2,
       "version_minor": 0
      },
      "text/plain": [
       "Training: 0it [00:00, ?it/s]"
      ]
     },
     "metadata": {},
     "output_type": "display_data"
    },
    {
     "data": {
      "application/vnd.jupyter.widget-view+json": {
       "model_id": "90f0e40f76d24da7adcb07c5d3bf8565",
       "version_major": 2,
       "version_minor": 0
      },
      "text/plain": [
       "Predicting: 11it [00:00, ?it/s]"
      ]
     },
     "metadata": {},
     "output_type": "display_data"
    },
    {
     "name": "stderr",
     "output_type": "stream",
     "text": [
      "[2022-06-14 15:04:42,368] INFO | darts.models.forecasting.torch_forecasting_model | Train dataset contains 2703 samples.\n",
      "[2022-06-14 15:04:42,368] INFO | darts.models.forecasting.torch_forecasting_model | Train dataset contains 2703 samples.\n",
      "2022-06-14 15:04:42 darts.models.forecasting.torch_forecasting_model INFO: Train dataset contains 2703 samples.\n",
      "[2022-06-14 15:04:42,398] INFO | darts.models.forecasting.torch_forecasting_model | Time series values are 64-bits; casting model to float64.\n",
      "[2022-06-14 15:04:42,398] INFO | darts.models.forecasting.torch_forecasting_model | Time series values are 64-bits; casting model to float64.\n",
      "2022-06-14 15:04:42 darts.models.forecasting.torch_forecasting_model INFO: Time series values are 64-bits; casting model to float64.\n",
      "2022-06-14 15:04:42 pytorch_lightning.utilities.rank_zero INFO: GPU available: False, used: False\n",
      "2022-06-14 15:04:42 pytorch_lightning.utilities.rank_zero INFO: TPU available: False, using: 0 TPU cores\n",
      "2022-06-14 15:04:42 pytorch_lightning.utilities.rank_zero INFO: IPU available: False, using: 0 IPUs\n",
      "2022-06-14 15:04:42 pytorch_lightning.utilities.rank_zero INFO: HPU available: False, using: 0 HPUs\n",
      "2022-06-14 15:04:42 pytorch_lightning.callbacks.model_summary INFO: \n",
      "  | Name      | Type       | Params\n",
      "-----------------------------------------\n",
      "0 | criterion | MSELoss    | 0     \n",
      "1 | stacks    | ModuleList | 8.5 M \n",
      "-----------------------------------------\n",
      "8.5 M     Trainable params\n",
      "3.2 K     Non-trainable params\n",
      "8.5 M     Total params\n",
      "67.633    Total estimated model params size (MB)\n"
     ]
    },
    {
     "data": {
      "application/vnd.jupyter.widget-view+json": {
       "model_id": "cd26b20e9a36457ba2f8a3bcbf873495",
       "version_major": 2,
       "version_minor": 0
      },
      "text/plain": [
       "Training: 0it [00:00, ?it/s]"
      ]
     },
     "metadata": {},
     "output_type": "display_data"
    },
    {
     "data": {
      "application/vnd.jupyter.widget-view+json": {
       "model_id": "35c451bcbe7c43f6b791e8a07e30912e",
       "version_major": 2,
       "version_minor": 0
      },
      "text/plain": [
       "Predicting: 11it [00:00, ?it/s]"
      ]
     },
     "metadata": {},
     "output_type": "display_data"
    },
    {
     "name": "stderr",
     "output_type": "stream",
     "text": [
      "[2022-06-14 15:04:48,355] INFO | darts.models.forecasting.torch_forecasting_model | Train dataset contains 2704 samples.\n",
      "[2022-06-14 15:04:48,355] INFO | darts.models.forecasting.torch_forecasting_model | Train dataset contains 2704 samples.\n",
      "2022-06-14 15:04:48 darts.models.forecasting.torch_forecasting_model INFO: Train dataset contains 2704 samples.\n",
      "[2022-06-14 15:04:48,386] INFO | darts.models.forecasting.torch_forecasting_model | Time series values are 64-bits; casting model to float64.\n",
      "[2022-06-14 15:04:48,386] INFO | darts.models.forecasting.torch_forecasting_model | Time series values are 64-bits; casting model to float64.\n",
      "2022-06-14 15:04:48 darts.models.forecasting.torch_forecasting_model INFO: Time series values are 64-bits; casting model to float64.\n",
      "2022-06-14 15:04:48 pytorch_lightning.utilities.rank_zero INFO: GPU available: False, used: False\n",
      "2022-06-14 15:04:48 pytorch_lightning.utilities.rank_zero INFO: TPU available: False, using: 0 TPU cores\n",
      "2022-06-14 15:04:48 pytorch_lightning.utilities.rank_zero INFO: IPU available: False, using: 0 IPUs\n",
      "2022-06-14 15:04:48 pytorch_lightning.utilities.rank_zero INFO: HPU available: False, using: 0 HPUs\n",
      "2022-06-14 15:04:48 pytorch_lightning.callbacks.model_summary INFO: \n",
      "  | Name      | Type       | Params\n",
      "-----------------------------------------\n",
      "0 | criterion | MSELoss    | 0     \n",
      "1 | stacks    | ModuleList | 8.5 M \n",
      "-----------------------------------------\n",
      "8.5 M     Trainable params\n",
      "3.2 K     Non-trainable params\n",
      "8.5 M     Total params\n",
      "67.633    Total estimated model params size (MB)\n"
     ]
    },
    {
     "data": {
      "application/vnd.jupyter.widget-view+json": {
       "model_id": "b8677b7c41c44b0bbeaaee9c6538d8e2",
       "version_major": 2,
       "version_minor": 0
      },
      "text/plain": [
       "Training: 0it [00:00, ?it/s]"
      ]
     },
     "metadata": {},
     "output_type": "display_data"
    },
    {
     "data": {
      "application/vnd.jupyter.widget-view+json": {
       "model_id": "0fb414987e794b36809324204e1bffa6",
       "version_major": 2,
       "version_minor": 0
      },
      "text/plain": [
       "Predicting: 11it [00:00, ?it/s]"
      ]
     },
     "metadata": {},
     "output_type": "display_data"
    },
    {
     "name": "stderr",
     "output_type": "stream",
     "text": [
      "[2022-06-14 15:04:54,276] INFO | darts.models.forecasting.torch_forecasting_model | Train dataset contains 2705 samples.\n",
      "[2022-06-14 15:04:54,276] INFO | darts.models.forecasting.torch_forecasting_model | Train dataset contains 2705 samples.\n",
      "2022-06-14 15:04:54 darts.models.forecasting.torch_forecasting_model INFO: Train dataset contains 2705 samples.\n",
      "[2022-06-14 15:04:54,306] INFO | darts.models.forecasting.torch_forecasting_model | Time series values are 64-bits; casting model to float64.\n",
      "[2022-06-14 15:04:54,306] INFO | darts.models.forecasting.torch_forecasting_model | Time series values are 64-bits; casting model to float64.\n",
      "2022-06-14 15:04:54 darts.models.forecasting.torch_forecasting_model INFO: Time series values are 64-bits; casting model to float64.\n",
      "2022-06-14 15:04:54 pytorch_lightning.utilities.rank_zero INFO: GPU available: False, used: False\n",
      "2022-06-14 15:04:54 pytorch_lightning.utilities.rank_zero INFO: TPU available: False, using: 0 TPU cores\n",
      "2022-06-14 15:04:54 pytorch_lightning.utilities.rank_zero INFO: IPU available: False, using: 0 IPUs\n",
      "2022-06-14 15:04:54 pytorch_lightning.utilities.rank_zero INFO: HPU available: False, using: 0 HPUs\n",
      "2022-06-14 15:04:54 pytorch_lightning.callbacks.model_summary INFO: \n",
      "  | Name      | Type       | Params\n",
      "-----------------------------------------\n",
      "0 | criterion | MSELoss    | 0     \n",
      "1 | stacks    | ModuleList | 8.5 M \n",
      "-----------------------------------------\n",
      "8.5 M     Trainable params\n",
      "3.2 K     Non-trainable params\n",
      "8.5 M     Total params\n",
      "67.633    Total estimated model params size (MB)\n"
     ]
    },
    {
     "data": {
      "application/vnd.jupyter.widget-view+json": {
       "model_id": "08fce6fd3c774b21b56305b53903edb7",
       "version_major": 2,
       "version_minor": 0
      },
      "text/plain": [
       "Training: 0it [00:00, ?it/s]"
      ]
     },
     "metadata": {},
     "output_type": "display_data"
    },
    {
     "data": {
      "application/vnd.jupyter.widget-view+json": {
       "model_id": "a1dc5b9dbb1842c9bcfde52a101f078b",
       "version_major": 2,
       "version_minor": 0
      },
      "text/plain": [
       "Predicting: 11it [00:00, ?it/s]"
      ]
     },
     "metadata": {},
     "output_type": "display_data"
    },
    {
     "name": "stderr",
     "output_type": "stream",
     "text": [
      "[2022-06-14 15:05:00,226] INFO | darts.models.forecasting.torch_forecasting_model | Train dataset contains 2671 samples.\n",
      "[2022-06-14 15:05:00,226] INFO | darts.models.forecasting.torch_forecasting_model | Train dataset contains 2671 samples.\n",
      "2022-06-14 15:05:00 darts.models.forecasting.torch_forecasting_model INFO: Train dataset contains 2671 samples.\n",
      "[2022-06-14 15:05:00,275] INFO | darts.models.forecasting.torch_forecasting_model | Time series values are 64-bits; casting model to float64.\n",
      "[2022-06-14 15:05:00,275] INFO | darts.models.forecasting.torch_forecasting_model | Time series values are 64-bits; casting model to float64.\n",
      "2022-06-14 15:05:00 darts.models.forecasting.torch_forecasting_model INFO: Time series values are 64-bits; casting model to float64.\n",
      "2022-06-14 15:05:00 pytorch_lightning.utilities.rank_zero INFO: GPU available: False, used: False\n",
      "2022-06-14 15:05:00 pytorch_lightning.utilities.rank_zero INFO: TPU available: False, using: 0 TPU cores\n",
      "2022-06-14 15:05:00 pytorch_lightning.utilities.rank_zero INFO: IPU available: False, using: 0 IPUs\n",
      "2022-06-14 15:05:00 pytorch_lightning.utilities.rank_zero INFO: HPU available: False, using: 0 HPUs\n",
      "2022-06-14 15:05:00 pytorch_lightning.callbacks.model_summary INFO: \n",
      "  | Name      | Type       | Params\n",
      "-----------------------------------------\n",
      "0 | criterion | MSELoss    | 0     \n",
      "1 | stacks    | ModuleList | 8.5 M \n",
      "-----------------------------------------\n",
      "8.5 M     Trainable params\n",
      "3.2 K     Non-trainable params\n",
      "8.5 M     Total params\n",
      "67.633    Total estimated model params size (MB)\n"
     ]
    },
    {
     "data": {
      "application/vnd.jupyter.widget-view+json": {
       "model_id": "e35cf0a33513448e93cfbf1306ca9631",
       "version_major": 2,
       "version_minor": 0
      },
      "text/plain": [
       "Training: 0it [00:00, ?it/s]"
      ]
     },
     "metadata": {},
     "output_type": "display_data"
    },
    {
     "data": {
      "application/vnd.jupyter.widget-view+json": {
       "model_id": "d4929e88f48b418b9371e0f077f11916",
       "version_major": 2,
       "version_minor": 0
      },
      "text/plain": [
       "Predicting: 11it [00:00, ?it/s]"
      ]
     },
     "metadata": {},
     "output_type": "display_data"
    },
    {
     "name": "stderr",
     "output_type": "stream",
     "text": [
      "[2022-06-14 15:05:06,182] INFO | darts.models.forecasting.torch_forecasting_model | Train dataset contains 2709 samples.\n",
      "[2022-06-14 15:05:06,182] INFO | darts.models.forecasting.torch_forecasting_model | Train dataset contains 2709 samples.\n",
      "2022-06-14 15:05:06 darts.models.forecasting.torch_forecasting_model INFO: Train dataset contains 2709 samples.\n",
      "[2022-06-14 15:05:06,210] INFO | darts.models.forecasting.torch_forecasting_model | Time series values are 64-bits; casting model to float64.\n",
      "[2022-06-14 15:05:06,210] INFO | darts.models.forecasting.torch_forecasting_model | Time series values are 64-bits; casting model to float64.\n",
      "2022-06-14 15:05:06 darts.models.forecasting.torch_forecasting_model INFO: Time series values are 64-bits; casting model to float64.\n",
      "2022-06-14 15:05:06 pytorch_lightning.utilities.rank_zero INFO: GPU available: False, used: False\n",
      "2022-06-14 15:05:06 pytorch_lightning.utilities.rank_zero INFO: TPU available: False, using: 0 TPU cores\n",
      "2022-06-14 15:05:06 pytorch_lightning.utilities.rank_zero INFO: IPU available: False, using: 0 IPUs\n",
      "2022-06-14 15:05:06 pytorch_lightning.utilities.rank_zero INFO: HPU available: False, using: 0 HPUs\n",
      "2022-06-14 15:05:06 pytorch_lightning.callbacks.model_summary INFO: \n",
      "  | Name      | Type       | Params\n",
      "-----------------------------------------\n",
      "0 | criterion | MSELoss    | 0     \n",
      "1 | stacks    | ModuleList | 8.5 M \n",
      "-----------------------------------------\n",
      "8.5 M     Trainable params\n",
      "3.2 K     Non-trainable params\n",
      "8.5 M     Total params\n",
      "67.633    Total estimated model params size (MB)\n"
     ]
    },
    {
     "data": {
      "application/vnd.jupyter.widget-view+json": {
       "model_id": "2d27ddadcb8349dbbc8e9a9bdf522319",
       "version_major": 2,
       "version_minor": 0
      },
      "text/plain": [
       "Training: 0it [00:00, ?it/s]"
      ]
     },
     "metadata": {},
     "output_type": "display_data"
    },
    {
     "data": {
      "application/vnd.jupyter.widget-view+json": {
       "model_id": "2b593de541fb4cdfbc8ead9f7f8b6cef",
       "version_major": 2,
       "version_minor": 0
      },
      "text/plain": [
       "Predicting: 11it [00:00, ?it/s]"
      ]
     },
     "metadata": {},
     "output_type": "display_data"
    },
    {
     "name": "stderr",
     "output_type": "stream",
     "text": [
      "[2022-06-14 15:05:12,167] INFO | darts.models.forecasting.torch_forecasting_model | Train dataset contains 221 samples.\n",
      "[2022-06-14 15:05:12,167] INFO | darts.models.forecasting.torch_forecasting_model | Train dataset contains 221 samples.\n",
      "2022-06-14 15:05:12 darts.models.forecasting.torch_forecasting_model INFO: Train dataset contains 221 samples.\n",
      "[2022-06-14 15:05:12,196] INFO | darts.models.forecasting.torch_forecasting_model | Time series values are 64-bits; casting model to float64.\n",
      "[2022-06-14 15:05:12,196] INFO | darts.models.forecasting.torch_forecasting_model | Time series values are 64-bits; casting model to float64.\n",
      "2022-06-14 15:05:12 darts.models.forecasting.torch_forecasting_model INFO: Time series values are 64-bits; casting model to float64.\n",
      "2022-06-14 15:05:12 pytorch_lightning.utilities.rank_zero INFO: GPU available: False, used: False\n",
      "2022-06-14 15:05:12 pytorch_lightning.utilities.rank_zero INFO: TPU available: False, using: 0 TPU cores\n",
      "2022-06-14 15:05:12 pytorch_lightning.utilities.rank_zero INFO: IPU available: False, using: 0 IPUs\n",
      "2022-06-14 15:05:12 pytorch_lightning.utilities.rank_zero INFO: HPU available: False, using: 0 HPUs\n",
      "2022-06-14 15:05:12 pytorch_lightning.callbacks.model_summary INFO: \n",
      "  | Name      | Type       | Params\n",
      "-----------------------------------------\n",
      "0 | criterion | MSELoss    | 0     \n",
      "1 | stacks    | ModuleList | 8.5 M \n",
      "-----------------------------------------\n",
      "8.5 M     Trainable params\n",
      "3.2 K     Non-trainable params\n",
      "8.5 M     Total params\n",
      "67.633    Total estimated model params size (MB)\n"
     ]
    },
    {
     "data": {
      "application/vnd.jupyter.widget-view+json": {
       "model_id": "f10a22c76ed54f9d9ff168f14ce6b1eb",
       "version_major": 2,
       "version_minor": 0
      },
      "text/plain": [
       "Training: 0it [00:00, ?it/s]"
      ]
     },
     "metadata": {},
     "output_type": "display_data"
    },
    {
     "data": {
      "application/vnd.jupyter.widget-view+json": {
       "model_id": "e3c5c690dd8a4ef69f1da7cbc0fd1dd6",
       "version_major": 2,
       "version_minor": 0
      },
      "text/plain": [
       "Predicting: 1it [00:00, ?it/s]"
      ]
     },
     "metadata": {},
     "output_type": "display_data"
    },
    {
     "name": "stderr",
     "output_type": "stream",
     "text": [
      "[2022-06-14 15:05:14,535] INFO | darts.models.forecasting.torch_forecasting_model | Train dataset contains 2709 samples.\n",
      "[2022-06-14 15:05:14,535] INFO | darts.models.forecasting.torch_forecasting_model | Train dataset contains 2709 samples.\n",
      "2022-06-14 15:05:14 darts.models.forecasting.torch_forecasting_model INFO: Train dataset contains 2709 samples.\n",
      "[2022-06-14 15:05:14,563] INFO | darts.models.forecasting.torch_forecasting_model | Time series values are 64-bits; casting model to float64.\n",
      "[2022-06-14 15:05:14,563] INFO | darts.models.forecasting.torch_forecasting_model | Time series values are 64-bits; casting model to float64.\n",
      "2022-06-14 15:05:14 darts.models.forecasting.torch_forecasting_model INFO: Time series values are 64-bits; casting model to float64.\n",
      "2022-06-14 15:05:14 pytorch_lightning.utilities.rank_zero INFO: GPU available: False, used: False\n",
      "2022-06-14 15:05:14 pytorch_lightning.utilities.rank_zero INFO: TPU available: False, using: 0 TPU cores\n",
      "2022-06-14 15:05:14 pytorch_lightning.utilities.rank_zero INFO: IPU available: False, using: 0 IPUs\n",
      "2022-06-14 15:05:14 pytorch_lightning.utilities.rank_zero INFO: HPU available: False, using: 0 HPUs\n",
      "2022-06-14 15:05:14 pytorch_lightning.callbacks.model_summary INFO: \n",
      "  | Name      | Type       | Params\n",
      "-----------------------------------------\n",
      "0 | criterion | MSELoss    | 0     \n",
      "1 | stacks    | ModuleList | 8.5 M \n",
      "-----------------------------------------\n",
      "8.5 M     Trainable params\n",
      "3.2 K     Non-trainable params\n",
      "8.5 M     Total params\n",
      "67.633    Total estimated model params size (MB)\n"
     ]
    },
    {
     "data": {
      "application/vnd.jupyter.widget-view+json": {
       "model_id": "592eeb5ba6294cad86f6a214386f6efc",
       "version_major": 2,
       "version_minor": 0
      },
      "text/plain": [
       "Training: 0it [00:00, ?it/s]"
      ]
     },
     "metadata": {},
     "output_type": "display_data"
    },
    {
     "data": {
      "application/vnd.jupyter.widget-view+json": {
       "model_id": "3a92d5606498435ea188bf30244b8538",
       "version_major": 2,
       "version_minor": 0
      },
      "text/plain": [
       "Predicting: 11it [00:00, ?it/s]"
      ]
     },
     "metadata": {},
     "output_type": "display_data"
    },
    {
     "name": "stderr",
     "output_type": "stream",
     "text": [
      "[2022-06-14 15:05:20,612] INFO | darts.models.forecasting.torch_forecasting_model | Train dataset contains 2709 samples.\n",
      "[2022-06-14 15:05:20,612] INFO | darts.models.forecasting.torch_forecasting_model | Train dataset contains 2709 samples.\n",
      "2022-06-14 15:05:20 darts.models.forecasting.torch_forecasting_model INFO: Train dataset contains 2709 samples.\n",
      "[2022-06-14 15:05:20,640] INFO | darts.models.forecasting.torch_forecasting_model | Time series values are 64-bits; casting model to float64.\n",
      "[2022-06-14 15:05:20,640] INFO | darts.models.forecasting.torch_forecasting_model | Time series values are 64-bits; casting model to float64.\n",
      "2022-06-14 15:05:20 darts.models.forecasting.torch_forecasting_model INFO: Time series values are 64-bits; casting model to float64.\n",
      "2022-06-14 15:05:20 pytorch_lightning.utilities.rank_zero INFO: GPU available: False, used: False\n",
      "2022-06-14 15:05:20 pytorch_lightning.utilities.rank_zero INFO: TPU available: False, using: 0 TPU cores\n",
      "2022-06-14 15:05:20 pytorch_lightning.utilities.rank_zero INFO: IPU available: False, using: 0 IPUs\n",
      "2022-06-14 15:05:20 pytorch_lightning.utilities.rank_zero INFO: HPU available: False, using: 0 HPUs\n",
      "2022-06-14 15:05:20 pytorch_lightning.callbacks.model_summary INFO: \n",
      "  | Name      | Type       | Params\n",
      "-----------------------------------------\n",
      "0 | criterion | MSELoss    | 0     \n",
      "1 | stacks    | ModuleList | 8.5 M \n",
      "-----------------------------------------\n",
      "8.5 M     Trainable params\n",
      "3.2 K     Non-trainable params\n",
      "8.5 M     Total params\n",
      "67.633    Total estimated model params size (MB)\n"
     ]
    },
    {
     "data": {
      "application/vnd.jupyter.widget-view+json": {
       "model_id": "3e502c309eab478eb47370dc1a47863a",
       "version_major": 2,
       "version_minor": 0
      },
      "text/plain": [
       "Training: 0it [00:00, ?it/s]"
      ]
     },
     "metadata": {},
     "output_type": "display_data"
    },
    {
     "data": {
      "application/vnd.jupyter.widget-view+json": {
       "model_id": "ea56ae1aecb5469398e7977991d3b85c",
       "version_major": 2,
       "version_minor": 0
      },
      "text/plain": [
       "Predicting: 11it [00:00, ?it/s]"
      ]
     },
     "metadata": {},
     "output_type": "display_data"
    },
    {
     "name": "stderr",
     "output_type": "stream",
     "text": [
      "[2022-06-14 15:05:26,626] INFO | darts.models.forecasting.torch_forecasting_model | Train dataset contains 2709 samples.\n",
      "[2022-06-14 15:05:26,626] INFO | darts.models.forecasting.torch_forecasting_model | Train dataset contains 2709 samples.\n",
      "2022-06-14 15:05:26 darts.models.forecasting.torch_forecasting_model INFO: Train dataset contains 2709 samples.\n",
      "[2022-06-14 15:05:26,654] INFO | darts.models.forecasting.torch_forecasting_model | Time series values are 64-bits; casting model to float64.\n",
      "[2022-06-14 15:05:26,654] INFO | darts.models.forecasting.torch_forecasting_model | Time series values are 64-bits; casting model to float64.\n",
      "2022-06-14 15:05:26 darts.models.forecasting.torch_forecasting_model INFO: Time series values are 64-bits; casting model to float64.\n",
      "2022-06-14 15:05:26 pytorch_lightning.utilities.rank_zero INFO: GPU available: False, used: False\n",
      "2022-06-14 15:05:26 pytorch_lightning.utilities.rank_zero INFO: TPU available: False, using: 0 TPU cores\n",
      "2022-06-14 15:05:26 pytorch_lightning.utilities.rank_zero INFO: IPU available: False, using: 0 IPUs\n",
      "2022-06-14 15:05:26 pytorch_lightning.utilities.rank_zero INFO: HPU available: False, using: 0 HPUs\n",
      "2022-06-14 15:05:26 pytorch_lightning.callbacks.model_summary INFO: \n",
      "  | Name      | Type       | Params\n",
      "-----------------------------------------\n",
      "0 | criterion | MSELoss    | 0     \n",
      "1 | stacks    | ModuleList | 8.5 M \n",
      "-----------------------------------------\n",
      "8.5 M     Trainable params\n",
      "3.2 K     Non-trainable params\n",
      "8.5 M     Total params\n",
      "67.633    Total estimated model params size (MB)\n"
     ]
    },
    {
     "data": {
      "application/vnd.jupyter.widget-view+json": {
       "model_id": "650315ec52d64b94a44137d1fe685531",
       "version_major": 2,
       "version_minor": 0
      },
      "text/plain": [
       "Training: 0it [00:00, ?it/s]"
      ]
     },
     "metadata": {},
     "output_type": "display_data"
    },
    {
     "data": {
      "application/vnd.jupyter.widget-view+json": {
       "model_id": "962b7db44c164b4d92d28772367d9568",
       "version_major": 2,
       "version_minor": 0
      },
      "text/plain": [
       "Predicting: 11it [00:00, ?it/s]"
      ]
     },
     "metadata": {},
     "output_type": "display_data"
    },
    {
     "name": "stderr",
     "output_type": "stream",
     "text": [
      "[2022-06-14 15:05:32,639] INFO | darts.models.forecasting.torch_forecasting_model | Train dataset contains 2642 samples.\n",
      "[2022-06-14 15:05:32,639] INFO | darts.models.forecasting.torch_forecasting_model | Train dataset contains 2642 samples.\n",
      "2022-06-14 15:05:32 darts.models.forecasting.torch_forecasting_model INFO: Train dataset contains 2642 samples.\n",
      "[2022-06-14 15:05:32,684] INFO | darts.models.forecasting.torch_forecasting_model | Time series values are 64-bits; casting model to float64.\n",
      "[2022-06-14 15:05:32,684] INFO | darts.models.forecasting.torch_forecasting_model | Time series values are 64-bits; casting model to float64.\n",
      "2022-06-14 15:05:32 darts.models.forecasting.torch_forecasting_model INFO: Time series values are 64-bits; casting model to float64.\n",
      "2022-06-14 15:05:32 pytorch_lightning.utilities.rank_zero INFO: GPU available: False, used: False\n",
      "2022-06-14 15:05:32 pytorch_lightning.utilities.rank_zero INFO: TPU available: False, using: 0 TPU cores\n",
      "2022-06-14 15:05:32 pytorch_lightning.utilities.rank_zero INFO: IPU available: False, using: 0 IPUs\n",
      "2022-06-14 15:05:32 pytorch_lightning.utilities.rank_zero INFO: HPU available: False, using: 0 HPUs\n",
      "2022-06-14 15:05:32 pytorch_lightning.callbacks.model_summary INFO: \n",
      "  | Name      | Type       | Params\n",
      "-----------------------------------------\n",
      "0 | criterion | MSELoss    | 0     \n",
      "1 | stacks    | ModuleList | 8.5 M \n",
      "-----------------------------------------\n",
      "8.5 M     Trainable params\n",
      "3.2 K     Non-trainable params\n",
      "8.5 M     Total params\n",
      "67.633    Total estimated model params size (MB)\n"
     ]
    },
    {
     "data": {
      "application/vnd.jupyter.widget-view+json": {
       "model_id": "4beeff182146476898a7d15b4fae066c",
       "version_major": 2,
       "version_minor": 0
      },
      "text/plain": [
       "Training: 0it [00:00, ?it/s]"
      ]
     },
     "metadata": {},
     "output_type": "display_data"
    },
    {
     "data": {
      "application/vnd.jupyter.widget-view+json": {
       "model_id": "fd53578eecbc4c76814cd33d823b3abc",
       "version_major": 2,
       "version_minor": 0
      },
      "text/plain": [
       "Predicting: 11it [00:00, ?it/s]"
      ]
     },
     "metadata": {},
     "output_type": "display_data"
    },
    {
     "name": "stderr",
     "output_type": "stream",
     "text": [
      "[2022-06-14 15:05:38,689] INFO | darts.models.forecasting.torch_forecasting_model | Train dataset contains 2710 samples.\n",
      "[2022-06-14 15:05:38,689] INFO | darts.models.forecasting.torch_forecasting_model | Train dataset contains 2710 samples.\n",
      "2022-06-14 15:05:38 darts.models.forecasting.torch_forecasting_model INFO: Train dataset contains 2710 samples.\n",
      "[2022-06-14 15:05:38,737] INFO | darts.models.forecasting.torch_forecasting_model | Time series values are 64-bits; casting model to float64.\n",
      "[2022-06-14 15:05:38,737] INFO | darts.models.forecasting.torch_forecasting_model | Time series values are 64-bits; casting model to float64.\n",
      "2022-06-14 15:05:38 darts.models.forecasting.torch_forecasting_model INFO: Time series values are 64-bits; casting model to float64.\n",
      "2022-06-14 15:05:38 pytorch_lightning.utilities.rank_zero INFO: GPU available: False, used: False\n",
      "2022-06-14 15:05:38 pytorch_lightning.utilities.rank_zero INFO: TPU available: False, using: 0 TPU cores\n",
      "2022-06-14 15:05:38 pytorch_lightning.utilities.rank_zero INFO: IPU available: False, using: 0 IPUs\n",
      "2022-06-14 15:05:38 pytorch_lightning.utilities.rank_zero INFO: HPU available: False, using: 0 HPUs\n",
      "2022-06-14 15:05:38 pytorch_lightning.callbacks.model_summary INFO: \n",
      "  | Name      | Type       | Params\n",
      "-----------------------------------------\n",
      "0 | criterion | MSELoss    | 0     \n",
      "1 | stacks    | ModuleList | 8.5 M \n",
      "-----------------------------------------\n",
      "8.5 M     Trainable params\n",
      "3.2 K     Non-trainable params\n",
      "8.5 M     Total params\n",
      "67.633    Total estimated model params size (MB)\n"
     ]
    },
    {
     "data": {
      "application/vnd.jupyter.widget-view+json": {
       "model_id": "e99ba247ea54487784e2b2c70af68f27",
       "version_major": 2,
       "version_minor": 0
      },
      "text/plain": [
       "Training: 0it [00:00, ?it/s]"
      ]
     },
     "metadata": {},
     "output_type": "display_data"
    },
    {
     "data": {
      "application/vnd.jupyter.widget-view+json": {
       "model_id": "ebdb6bebdfd44ba286b865444262b57c",
       "version_major": 2,
       "version_minor": 0
      },
      "text/plain": [
       "Predicting: 11it [00:00, ?it/s]"
      ]
     },
     "metadata": {},
     "output_type": "display_data"
    },
    {
     "name": "stderr",
     "output_type": "stream",
     "text": [
      "[2022-06-14 15:05:44,630] INFO | darts.models.forecasting.torch_forecasting_model | Train dataset contains 2709 samples.\n",
      "[2022-06-14 15:05:44,630] INFO | darts.models.forecasting.torch_forecasting_model | Train dataset contains 2709 samples.\n",
      "2022-06-14 15:05:44 darts.models.forecasting.torch_forecasting_model INFO: Train dataset contains 2709 samples.\n",
      "[2022-06-14 15:05:44,659] INFO | darts.models.forecasting.torch_forecasting_model | Time series values are 64-bits; casting model to float64.\n",
      "[2022-06-14 15:05:44,659] INFO | darts.models.forecasting.torch_forecasting_model | Time series values are 64-bits; casting model to float64.\n",
      "2022-06-14 15:05:44 darts.models.forecasting.torch_forecasting_model INFO: Time series values are 64-bits; casting model to float64.\n",
      "2022-06-14 15:05:44 pytorch_lightning.utilities.rank_zero INFO: GPU available: False, used: False\n",
      "2022-06-14 15:05:44 pytorch_lightning.utilities.rank_zero INFO: TPU available: False, using: 0 TPU cores\n",
      "2022-06-14 15:05:44 pytorch_lightning.utilities.rank_zero INFO: IPU available: False, using: 0 IPUs\n",
      "2022-06-14 15:05:44 pytorch_lightning.utilities.rank_zero INFO: HPU available: False, using: 0 HPUs\n",
      "2022-06-14 15:05:44 pytorch_lightning.callbacks.model_summary INFO: \n",
      "  | Name      | Type       | Params\n",
      "-----------------------------------------\n",
      "0 | criterion | MSELoss    | 0     \n",
      "1 | stacks    | ModuleList | 8.5 M \n",
      "-----------------------------------------\n",
      "8.5 M     Trainable params\n",
      "3.2 K     Non-trainable params\n",
      "8.5 M     Total params\n",
      "67.633    Total estimated model params size (MB)\n"
     ]
    },
    {
     "data": {
      "application/vnd.jupyter.widget-view+json": {
       "model_id": "98d33cfb4648435299109c0027ed3ae5",
       "version_major": 2,
       "version_minor": 0
      },
      "text/plain": [
       "Training: 0it [00:00, ?it/s]"
      ]
     },
     "metadata": {},
     "output_type": "display_data"
    },
    {
     "data": {
      "application/vnd.jupyter.widget-view+json": {
       "model_id": "d26c58c9bad2447783569aaa71a76d98",
       "version_major": 2,
       "version_minor": 0
      },
      "text/plain": [
       "Predicting: 11it [00:00, ?it/s]"
      ]
     },
     "metadata": {},
     "output_type": "display_data"
    },
    {
     "name": "stderr",
     "output_type": "stream",
     "text": [
      "[2022-06-14 15:05:50,554] INFO | darts.models.forecasting.torch_forecasting_model | Train dataset contains 2710 samples.\n",
      "[2022-06-14 15:05:50,554] INFO | darts.models.forecasting.torch_forecasting_model | Train dataset contains 2710 samples.\n",
      "2022-06-14 15:05:50 darts.models.forecasting.torch_forecasting_model INFO: Train dataset contains 2710 samples.\n",
      "[2022-06-14 15:05:50,584] INFO | darts.models.forecasting.torch_forecasting_model | Time series values are 64-bits; casting model to float64.\n",
      "[2022-06-14 15:05:50,584] INFO | darts.models.forecasting.torch_forecasting_model | Time series values are 64-bits; casting model to float64.\n",
      "2022-06-14 15:05:50 darts.models.forecasting.torch_forecasting_model INFO: Time series values are 64-bits; casting model to float64.\n",
      "2022-06-14 15:05:50 pytorch_lightning.utilities.rank_zero INFO: GPU available: False, used: False\n",
      "2022-06-14 15:05:50 pytorch_lightning.utilities.rank_zero INFO: TPU available: False, using: 0 TPU cores\n",
      "2022-06-14 15:05:50 pytorch_lightning.utilities.rank_zero INFO: IPU available: False, using: 0 IPUs\n",
      "2022-06-14 15:05:50 pytorch_lightning.utilities.rank_zero INFO: HPU available: False, using: 0 HPUs\n",
      "2022-06-14 15:05:50 pytorch_lightning.callbacks.model_summary INFO: \n",
      "  | Name      | Type       | Params\n",
      "-----------------------------------------\n",
      "0 | criterion | MSELoss    | 0     \n",
      "1 | stacks    | ModuleList | 8.5 M \n",
      "-----------------------------------------\n",
      "8.5 M     Trainable params\n",
      "3.2 K     Non-trainable params\n",
      "8.5 M     Total params\n",
      "67.633    Total estimated model params size (MB)\n"
     ]
    },
    {
     "data": {
      "application/vnd.jupyter.widget-view+json": {
       "model_id": "dc07168331444094b59615cdcc4daef6",
       "version_major": 2,
       "version_minor": 0
      },
      "text/plain": [
       "Training: 0it [00:00, ?it/s]"
      ]
     },
     "metadata": {},
     "output_type": "display_data"
    },
    {
     "data": {
      "application/vnd.jupyter.widget-view+json": {
       "model_id": "b30dece951794703a6bd23e81dfa68f8",
       "version_major": 2,
       "version_minor": 0
      },
      "text/plain": [
       "Predicting: 11it [00:00, ?it/s]"
      ]
     },
     "metadata": {},
     "output_type": "display_data"
    },
    {
     "name": "stderr",
     "output_type": "stream",
     "text": [
      "[2022-06-14 15:05:56,480] INFO | darts.models.forecasting.torch_forecasting_model | Train dataset contains 2710 samples.\n",
      "[2022-06-14 15:05:56,480] INFO | darts.models.forecasting.torch_forecasting_model | Train dataset contains 2710 samples.\n",
      "2022-06-14 15:05:56 darts.models.forecasting.torch_forecasting_model INFO: Train dataset contains 2710 samples.\n",
      "[2022-06-14 15:05:56,508] INFO | darts.models.forecasting.torch_forecasting_model | Time series values are 64-bits; casting model to float64.\n",
      "[2022-06-14 15:05:56,508] INFO | darts.models.forecasting.torch_forecasting_model | Time series values are 64-bits; casting model to float64.\n",
      "2022-06-14 15:05:56 darts.models.forecasting.torch_forecasting_model INFO: Time series values are 64-bits; casting model to float64.\n",
      "2022-06-14 15:05:56 pytorch_lightning.utilities.rank_zero INFO: GPU available: False, used: False\n",
      "2022-06-14 15:05:56 pytorch_lightning.utilities.rank_zero INFO: TPU available: False, using: 0 TPU cores\n",
      "2022-06-14 15:05:56 pytorch_lightning.utilities.rank_zero INFO: IPU available: False, using: 0 IPUs\n",
      "2022-06-14 15:05:56 pytorch_lightning.utilities.rank_zero INFO: HPU available: False, using: 0 HPUs\n",
      "2022-06-14 15:05:56 pytorch_lightning.callbacks.model_summary INFO: \n",
      "  | Name      | Type       | Params\n",
      "-----------------------------------------\n",
      "0 | criterion | MSELoss    | 0     \n",
      "1 | stacks    | ModuleList | 8.5 M \n",
      "-----------------------------------------\n",
      "8.5 M     Trainable params\n",
      "3.2 K     Non-trainable params\n",
      "8.5 M     Total params\n",
      "67.633    Total estimated model params size (MB)\n"
     ]
    },
    {
     "data": {
      "application/vnd.jupyter.widget-view+json": {
       "model_id": "4c464345ffe042289bde821110dc7022",
       "version_major": 2,
       "version_minor": 0
      },
      "text/plain": [
       "Training: 0it [00:00, ?it/s]"
      ]
     },
     "metadata": {},
     "output_type": "display_data"
    },
    {
     "data": {
      "application/vnd.jupyter.widget-view+json": {
       "model_id": "bd94bcb5cda34b75843de0c355a8014b",
       "version_major": 2,
       "version_minor": 0
      },
      "text/plain": [
       "Predicting: 11it [00:00, ?it/s]"
      ]
     },
     "metadata": {},
     "output_type": "display_data"
    },
    {
     "name": "stderr",
     "output_type": "stream",
     "text": [
      "[2022-06-14 15:06:02,327] INFO | darts.models.forecasting.torch_forecasting_model | Train dataset contains 2710 samples.\n",
      "[2022-06-14 15:06:02,327] INFO | darts.models.forecasting.torch_forecasting_model | Train dataset contains 2710 samples.\n",
      "2022-06-14 15:06:02 darts.models.forecasting.torch_forecasting_model INFO: Train dataset contains 2710 samples.\n",
      "[2022-06-14 15:06:02,356] INFO | darts.models.forecasting.torch_forecasting_model | Time series values are 64-bits; casting model to float64.\n",
      "[2022-06-14 15:06:02,356] INFO | darts.models.forecasting.torch_forecasting_model | Time series values are 64-bits; casting model to float64.\n",
      "2022-06-14 15:06:02 darts.models.forecasting.torch_forecasting_model INFO: Time series values are 64-bits; casting model to float64.\n",
      "2022-06-14 15:06:02 pytorch_lightning.utilities.rank_zero INFO: GPU available: False, used: False\n",
      "2022-06-14 15:06:02 pytorch_lightning.utilities.rank_zero INFO: TPU available: False, using: 0 TPU cores\n",
      "2022-06-14 15:06:02 pytorch_lightning.utilities.rank_zero INFO: IPU available: False, using: 0 IPUs\n",
      "2022-06-14 15:06:02 pytorch_lightning.utilities.rank_zero INFO: HPU available: False, using: 0 HPUs\n",
      "2022-06-14 15:06:02 pytorch_lightning.callbacks.model_summary INFO: \n",
      "  | Name      | Type       | Params\n",
      "-----------------------------------------\n",
      "0 | criterion | MSELoss    | 0     \n",
      "1 | stacks    | ModuleList | 8.5 M \n",
      "-----------------------------------------\n",
      "8.5 M     Trainable params\n",
      "3.2 K     Non-trainable params\n",
      "8.5 M     Total params\n",
      "67.633    Total estimated model params size (MB)\n"
     ]
    },
    {
     "data": {
      "application/vnd.jupyter.widget-view+json": {
       "model_id": "d25d06de2f0145a5bb4059844e13e049",
       "version_major": 2,
       "version_minor": 0
      },
      "text/plain": [
       "Training: 0it [00:00, ?it/s]"
      ]
     },
     "metadata": {},
     "output_type": "display_data"
    },
    {
     "data": {
      "application/vnd.jupyter.widget-view+json": {
       "model_id": "bc24582508f8430da224fdfd9d713ec7",
       "version_major": 2,
       "version_minor": 0
      },
      "text/plain": [
       "Predicting: 11it [00:00, ?it/s]"
      ]
     },
     "metadata": {},
     "output_type": "display_data"
    },
    {
     "name": "stderr",
     "output_type": "stream",
     "text": [
      "[2022-06-14 15:06:08,241] INFO | darts.models.forecasting.torch_forecasting_model | Train dataset contains 2679 samples.\n",
      "[2022-06-14 15:06:08,241] INFO | darts.models.forecasting.torch_forecasting_model | Train dataset contains 2679 samples.\n",
      "2022-06-14 15:06:08 darts.models.forecasting.torch_forecasting_model INFO: Train dataset contains 2679 samples.\n",
      "[2022-06-14 15:06:08,272] INFO | darts.models.forecasting.torch_forecasting_model | Time series values are 64-bits; casting model to float64.\n",
      "[2022-06-14 15:06:08,272] INFO | darts.models.forecasting.torch_forecasting_model | Time series values are 64-bits; casting model to float64.\n",
      "2022-06-14 15:06:08 darts.models.forecasting.torch_forecasting_model INFO: Time series values are 64-bits; casting model to float64.\n",
      "2022-06-14 15:06:08 pytorch_lightning.utilities.rank_zero INFO: GPU available: False, used: False\n",
      "2022-06-14 15:06:08 pytorch_lightning.utilities.rank_zero INFO: TPU available: False, using: 0 TPU cores\n",
      "2022-06-14 15:06:08 pytorch_lightning.utilities.rank_zero INFO: IPU available: False, using: 0 IPUs\n",
      "2022-06-14 15:06:08 pytorch_lightning.utilities.rank_zero INFO: HPU available: False, using: 0 HPUs\n",
      "2022-06-14 15:06:08 pytorch_lightning.callbacks.model_summary INFO: \n",
      "  | Name      | Type       | Params\n",
      "-----------------------------------------\n",
      "0 | criterion | MSELoss    | 0     \n",
      "1 | stacks    | ModuleList | 8.5 M \n",
      "-----------------------------------------\n",
      "8.5 M     Trainable params\n",
      "3.2 K     Non-trainable params\n",
      "8.5 M     Total params\n",
      "67.633    Total estimated model params size (MB)\n"
     ]
    },
    {
     "data": {
      "application/vnd.jupyter.widget-view+json": {
       "model_id": "c67028a17341494088261fe1199bac2b",
       "version_major": 2,
       "version_minor": 0
      },
      "text/plain": [
       "Training: 0it [00:00, ?it/s]"
      ]
     },
     "metadata": {},
     "output_type": "display_data"
    },
    {
     "data": {
      "application/vnd.jupyter.widget-view+json": {
       "model_id": "a35e210048de441bbef1daabd0e3307d",
       "version_major": 2,
       "version_minor": 0
      },
      "text/plain": [
       "Predicting: 11it [00:00, ?it/s]"
      ]
     },
     "metadata": {},
     "output_type": "display_data"
    },
    {
     "name": "stderr",
     "output_type": "stream",
     "text": [
      "[2022-06-14 15:06:14,115] INFO | darts.models.forecasting.torch_forecasting_model | Train dataset contains 2636 samples.\n",
      "[2022-06-14 15:06:14,115] INFO | darts.models.forecasting.torch_forecasting_model | Train dataset contains 2636 samples.\n",
      "2022-06-14 15:06:14 darts.models.forecasting.torch_forecasting_model INFO: Train dataset contains 2636 samples.\n",
      "[2022-06-14 15:06:14,145] INFO | darts.models.forecasting.torch_forecasting_model | Time series values are 64-bits; casting model to float64.\n",
      "[2022-06-14 15:06:14,145] INFO | darts.models.forecasting.torch_forecasting_model | Time series values are 64-bits; casting model to float64.\n",
      "2022-06-14 15:06:14 darts.models.forecasting.torch_forecasting_model INFO: Time series values are 64-bits; casting model to float64.\n",
      "2022-06-14 15:06:14 pytorch_lightning.utilities.rank_zero INFO: GPU available: False, used: False\n",
      "2022-06-14 15:06:14 pytorch_lightning.utilities.rank_zero INFO: TPU available: False, using: 0 TPU cores\n",
      "2022-06-14 15:06:14 pytorch_lightning.utilities.rank_zero INFO: IPU available: False, using: 0 IPUs\n",
      "2022-06-14 15:06:14 pytorch_lightning.utilities.rank_zero INFO: HPU available: False, using: 0 HPUs\n",
      "2022-06-14 15:06:14 pytorch_lightning.callbacks.model_summary INFO: \n",
      "  | Name      | Type       | Params\n",
      "-----------------------------------------\n",
      "0 | criterion | MSELoss    | 0     \n",
      "1 | stacks    | ModuleList | 8.5 M \n",
      "-----------------------------------------\n",
      "8.5 M     Trainable params\n",
      "3.2 K     Non-trainable params\n",
      "8.5 M     Total params\n",
      "67.633    Total estimated model params size (MB)\n"
     ]
    },
    {
     "data": {
      "application/vnd.jupyter.widget-view+json": {
       "model_id": "4da54a601af94fbc99ac4be15058ec0f",
       "version_major": 2,
       "version_minor": 0
      },
      "text/plain": [
       "Training: 0it [00:00, ?it/s]"
      ]
     },
     "metadata": {},
     "output_type": "display_data"
    },
    {
     "data": {
      "application/vnd.jupyter.widget-view+json": {
       "model_id": "3dca1081712444fb95c92c4802df6254",
       "version_major": 2,
       "version_minor": 0
      },
      "text/plain": [
       "Predicting: 11it [00:00, ?it/s]"
      ]
     },
     "metadata": {},
     "output_type": "display_data"
    },
    {
     "name": "stderr",
     "output_type": "stream",
     "text": [
      "[2022-06-14 15:06:19,851] INFO | darts.models.forecasting.torch_forecasting_model | Train dataset contains 456 samples.\n",
      "[2022-06-14 15:06:19,851] INFO | darts.models.forecasting.torch_forecasting_model | Train dataset contains 456 samples.\n",
      "2022-06-14 15:06:19 darts.models.forecasting.torch_forecasting_model INFO: Train dataset contains 456 samples.\n",
      "[2022-06-14 15:06:19,881] INFO | darts.models.forecasting.torch_forecasting_model | Time series values are 64-bits; casting model to float64.\n",
      "[2022-06-14 15:06:19,881] INFO | darts.models.forecasting.torch_forecasting_model | Time series values are 64-bits; casting model to float64.\n",
      "2022-06-14 15:06:19 darts.models.forecasting.torch_forecasting_model INFO: Time series values are 64-bits; casting model to float64.\n",
      "2022-06-14 15:06:19 pytorch_lightning.utilities.rank_zero INFO: GPU available: False, used: False\n",
      "2022-06-14 15:06:19 pytorch_lightning.utilities.rank_zero INFO: TPU available: False, using: 0 TPU cores\n",
      "2022-06-14 15:06:19 pytorch_lightning.utilities.rank_zero INFO: IPU available: False, using: 0 IPUs\n",
      "2022-06-14 15:06:19 pytorch_lightning.utilities.rank_zero INFO: HPU available: False, using: 0 HPUs\n",
      "2022-06-14 15:06:19 pytorch_lightning.callbacks.model_summary INFO: \n",
      "  | Name      | Type       | Params\n",
      "-----------------------------------------\n",
      "0 | criterion | MSELoss    | 0     \n",
      "1 | stacks    | ModuleList | 8.5 M \n",
      "-----------------------------------------\n",
      "8.5 M     Trainable params\n",
      "3.2 K     Non-trainable params\n",
      "8.5 M     Total params\n",
      "67.633    Total estimated model params size (MB)\n"
     ]
    },
    {
     "data": {
      "application/vnd.jupyter.widget-view+json": {
       "model_id": "5a8d60ff4e1d414fa1a65efa867fa1ba",
       "version_major": 2,
       "version_minor": 0
      },
      "text/plain": [
       "Training: 0it [00:00, ?it/s]"
      ]
     },
     "metadata": {},
     "output_type": "display_data"
    },
    {
     "data": {
      "application/vnd.jupyter.widget-view+json": {
       "model_id": "04ac134c872c4996a741d2f15c2dd55b",
       "version_major": 2,
       "version_minor": 0
      },
      "text/plain": [
       "Predicting: 2it [00:00, ?it/s]"
      ]
     },
     "metadata": {},
     "output_type": "display_data"
    },
    {
     "name": "stderr",
     "output_type": "stream",
     "text": [
      "[2022-06-14 15:06:22,648] INFO | darts.models.forecasting.torch_forecasting_model | Train dataset contains 2636 samples.\n",
      "[2022-06-14 15:06:22,648] INFO | darts.models.forecasting.torch_forecasting_model | Train dataset contains 2636 samples.\n",
      "2022-06-14 15:06:22 darts.models.forecasting.torch_forecasting_model INFO: Train dataset contains 2636 samples.\n",
      "[2022-06-14 15:06:22,681] INFO | darts.models.forecasting.torch_forecasting_model | Time series values are 64-bits; casting model to float64.\n",
      "[2022-06-14 15:06:22,681] INFO | darts.models.forecasting.torch_forecasting_model | Time series values are 64-bits; casting model to float64.\n",
      "2022-06-14 15:06:22 darts.models.forecasting.torch_forecasting_model INFO: Time series values are 64-bits; casting model to float64.\n",
      "2022-06-14 15:06:22 pytorch_lightning.utilities.rank_zero INFO: GPU available: False, used: False\n",
      "2022-06-14 15:06:22 pytorch_lightning.utilities.rank_zero INFO: TPU available: False, using: 0 TPU cores\n",
      "2022-06-14 15:06:22 pytorch_lightning.utilities.rank_zero INFO: IPU available: False, using: 0 IPUs\n",
      "2022-06-14 15:06:22 pytorch_lightning.utilities.rank_zero INFO: HPU available: False, using: 0 HPUs\n",
      "2022-06-14 15:06:22 pytorch_lightning.callbacks.model_summary INFO: \n",
      "  | Name      | Type       | Params\n",
      "-----------------------------------------\n",
      "0 | criterion | MSELoss    | 0     \n",
      "1 | stacks    | ModuleList | 8.5 M \n",
      "-----------------------------------------\n",
      "8.5 M     Trainable params\n",
      "3.2 K     Non-trainable params\n",
      "8.5 M     Total params\n",
      "67.633    Total estimated model params size (MB)\n"
     ]
    },
    {
     "data": {
      "application/vnd.jupyter.widget-view+json": {
       "model_id": "4cebbf57765e4a79afc45c2e5c4285bc",
       "version_major": 2,
       "version_minor": 0
      },
      "text/plain": [
       "Training: 0it [00:00, ?it/s]"
      ]
     },
     "metadata": {},
     "output_type": "display_data"
    },
    {
     "data": {
      "application/vnd.jupyter.widget-view+json": {
       "model_id": "8a83cf55e73c4135a7bae8243fcfe0a4",
       "version_major": 2,
       "version_minor": 0
      },
      "text/plain": [
       "Predicting: 11it [00:00, ?it/s]"
      ]
     },
     "metadata": {},
     "output_type": "display_data"
    },
    {
     "name": "stderr",
     "output_type": "stream",
     "text": [
      "[2022-06-14 15:06:28,565] INFO | darts.models.forecasting.torch_forecasting_model | Train dataset contains 2636 samples.\n",
      "[2022-06-14 15:06:28,565] INFO | darts.models.forecasting.torch_forecasting_model | Train dataset contains 2636 samples.\n",
      "2022-06-14 15:06:28 darts.models.forecasting.torch_forecasting_model INFO: Train dataset contains 2636 samples.\n",
      "[2022-06-14 15:06:28,594] INFO | darts.models.forecasting.torch_forecasting_model | Time series values are 64-bits; casting model to float64.\n",
      "[2022-06-14 15:06:28,594] INFO | darts.models.forecasting.torch_forecasting_model | Time series values are 64-bits; casting model to float64.\n",
      "2022-06-14 15:06:28 darts.models.forecasting.torch_forecasting_model INFO: Time series values are 64-bits; casting model to float64.\n",
      "2022-06-14 15:06:28 pytorch_lightning.utilities.rank_zero INFO: GPU available: False, used: False\n",
      "2022-06-14 15:06:28 pytorch_lightning.utilities.rank_zero INFO: TPU available: False, using: 0 TPU cores\n",
      "2022-06-14 15:06:28 pytorch_lightning.utilities.rank_zero INFO: IPU available: False, using: 0 IPUs\n",
      "2022-06-14 15:06:28 pytorch_lightning.utilities.rank_zero INFO: HPU available: False, using: 0 HPUs\n",
      "2022-06-14 15:06:28 pytorch_lightning.callbacks.model_summary INFO: \n",
      "  | Name      | Type       | Params\n",
      "-----------------------------------------\n",
      "0 | criterion | MSELoss    | 0     \n",
      "1 | stacks    | ModuleList | 8.5 M \n",
      "-----------------------------------------\n",
      "8.5 M     Trainable params\n",
      "3.2 K     Non-trainable params\n",
      "8.5 M     Total params\n",
      "67.633    Total estimated model params size (MB)\n"
     ]
    },
    {
     "data": {
      "application/vnd.jupyter.widget-view+json": {
       "model_id": "5ef6a51992e141f38feb33edfc3013ca",
       "version_major": 2,
       "version_minor": 0
      },
      "text/plain": [
       "Training: 0it [00:00, ?it/s]"
      ]
     },
     "metadata": {},
     "output_type": "display_data"
    },
    {
     "data": {
      "application/vnd.jupyter.widget-view+json": {
       "model_id": "dc73c2d17d074aefa0db5dfadf1a5e03",
       "version_major": 2,
       "version_minor": 0
      },
      "text/plain": [
       "Predicting: 11it [00:00, ?it/s]"
      ]
     },
     "metadata": {},
     "output_type": "display_data"
    },
    {
     "name": "stderr",
     "output_type": "stream",
     "text": [
      "[2022-06-14 15:06:34,238] INFO | darts.models.forecasting.torch_forecasting_model | Train dataset contains 2632 samples.\n",
      "[2022-06-14 15:06:34,238] INFO | darts.models.forecasting.torch_forecasting_model | Train dataset contains 2632 samples.\n",
      "2022-06-14 15:06:34 darts.models.forecasting.torch_forecasting_model INFO: Train dataset contains 2632 samples.\n",
      "[2022-06-14 15:06:34,267] INFO | darts.models.forecasting.torch_forecasting_model | Time series values are 64-bits; casting model to float64.\n",
      "[2022-06-14 15:06:34,267] INFO | darts.models.forecasting.torch_forecasting_model | Time series values are 64-bits; casting model to float64.\n",
      "2022-06-14 15:06:34 darts.models.forecasting.torch_forecasting_model INFO: Time series values are 64-bits; casting model to float64.\n",
      "2022-06-14 15:06:34 pytorch_lightning.utilities.rank_zero INFO: GPU available: False, used: False\n",
      "2022-06-14 15:06:34 pytorch_lightning.utilities.rank_zero INFO: TPU available: False, using: 0 TPU cores\n",
      "2022-06-14 15:06:34 pytorch_lightning.utilities.rank_zero INFO: IPU available: False, using: 0 IPUs\n",
      "2022-06-14 15:06:34 pytorch_lightning.utilities.rank_zero INFO: HPU available: False, using: 0 HPUs\n",
      "2022-06-14 15:06:34 pytorch_lightning.callbacks.model_summary INFO: \n",
      "  | Name      | Type       | Params\n",
      "-----------------------------------------\n",
      "0 | criterion | MSELoss    | 0     \n",
      "1 | stacks    | ModuleList | 8.5 M \n",
      "-----------------------------------------\n",
      "8.5 M     Trainable params\n",
      "3.2 K     Non-trainable params\n",
      "8.5 M     Total params\n",
      "67.633    Total estimated model params size (MB)\n"
     ]
    },
    {
     "data": {
      "application/vnd.jupyter.widget-view+json": {
       "model_id": "6136e627cd1e474981caaad98f8a0200",
       "version_major": 2,
       "version_minor": 0
      },
      "text/plain": [
       "Training: 0it [00:00, ?it/s]"
      ]
     },
     "metadata": {},
     "output_type": "display_data"
    },
    {
     "data": {
      "application/vnd.jupyter.widget-view+json": {
       "model_id": "4d767942ca964a4c9259b1e472273326",
       "version_major": 2,
       "version_minor": 0
      },
      "text/plain": [
       "Predicting: 11it [00:00, ?it/s]"
      ]
     },
     "metadata": {},
     "output_type": "display_data"
    },
    {
     "name": "stderr",
     "output_type": "stream",
     "text": [
      "[2022-06-14 15:06:40,057] INFO | darts.models.forecasting.torch_forecasting_model | Train dataset contains 2643 samples.\n",
      "[2022-06-14 15:06:40,057] INFO | darts.models.forecasting.torch_forecasting_model | Train dataset contains 2643 samples.\n",
      "2022-06-14 15:06:40 darts.models.forecasting.torch_forecasting_model INFO: Train dataset contains 2643 samples.\n",
      "[2022-06-14 15:06:40,086] INFO | darts.models.forecasting.torch_forecasting_model | Time series values are 64-bits; casting model to float64.\n",
      "[2022-06-14 15:06:40,086] INFO | darts.models.forecasting.torch_forecasting_model | Time series values are 64-bits; casting model to float64.\n",
      "2022-06-14 15:06:40 darts.models.forecasting.torch_forecasting_model INFO: Time series values are 64-bits; casting model to float64.\n",
      "2022-06-14 15:06:40 pytorch_lightning.utilities.rank_zero INFO: GPU available: False, used: False\n",
      "2022-06-14 15:06:40 pytorch_lightning.utilities.rank_zero INFO: TPU available: False, using: 0 TPU cores\n",
      "2022-06-14 15:06:40 pytorch_lightning.utilities.rank_zero INFO: IPU available: False, using: 0 IPUs\n",
      "2022-06-14 15:06:40 pytorch_lightning.utilities.rank_zero INFO: HPU available: False, using: 0 HPUs\n",
      "2022-06-14 15:06:40 pytorch_lightning.callbacks.model_summary INFO: \n",
      "  | Name      | Type       | Params\n",
      "-----------------------------------------\n",
      "0 | criterion | MSELoss    | 0     \n",
      "1 | stacks    | ModuleList | 8.5 M \n",
      "-----------------------------------------\n",
      "8.5 M     Trainable params\n",
      "3.2 K     Non-trainable params\n",
      "8.5 M     Total params\n",
      "67.633    Total estimated model params size (MB)\n"
     ]
    },
    {
     "data": {
      "application/vnd.jupyter.widget-view+json": {
       "model_id": "7dd7dda911f9440d9bc63b0457455b7c",
       "version_major": 2,
       "version_minor": 0
      },
      "text/plain": [
       "Training: 0it [00:00, ?it/s]"
      ]
     },
     "metadata": {},
     "output_type": "display_data"
    },
    {
     "data": {
      "application/vnd.jupyter.widget-view+json": {
       "model_id": "783c11dc15dc4090a54dbfa1842cb470",
       "version_major": 2,
       "version_minor": 0
      },
      "text/plain": [
       "Predicting: 11it [00:00, ?it/s]"
      ]
     },
     "metadata": {},
     "output_type": "display_data"
    },
    {
     "name": "stderr",
     "output_type": "stream",
     "text": [
      "[2022-06-14 15:06:45,821] INFO | darts.models.forecasting.torch_forecasting_model | Train dataset contains 2654 samples.\n",
      "[2022-06-14 15:06:45,821] INFO | darts.models.forecasting.torch_forecasting_model | Train dataset contains 2654 samples.\n",
      "2022-06-14 15:06:45 darts.models.forecasting.torch_forecasting_model INFO: Train dataset contains 2654 samples.\n",
      "[2022-06-14 15:06:45,867] INFO | darts.models.forecasting.torch_forecasting_model | Time series values are 64-bits; casting model to float64.\n",
      "[2022-06-14 15:06:45,867] INFO | darts.models.forecasting.torch_forecasting_model | Time series values are 64-bits; casting model to float64.\n",
      "2022-06-14 15:06:45 darts.models.forecasting.torch_forecasting_model INFO: Time series values are 64-bits; casting model to float64.\n",
      "2022-06-14 15:06:45 pytorch_lightning.utilities.rank_zero INFO: GPU available: False, used: False\n",
      "2022-06-14 15:06:45 pytorch_lightning.utilities.rank_zero INFO: TPU available: False, using: 0 TPU cores\n",
      "2022-06-14 15:06:45 pytorch_lightning.utilities.rank_zero INFO: IPU available: False, using: 0 IPUs\n",
      "2022-06-14 15:06:45 pytorch_lightning.utilities.rank_zero INFO: HPU available: False, using: 0 HPUs\n",
      "2022-06-14 15:06:45 pytorch_lightning.callbacks.model_summary INFO: \n",
      "  | Name      | Type       | Params\n",
      "-----------------------------------------\n",
      "0 | criterion | MSELoss    | 0     \n",
      "1 | stacks    | ModuleList | 8.5 M \n",
      "-----------------------------------------\n",
      "8.5 M     Trainable params\n",
      "3.2 K     Non-trainable params\n",
      "8.5 M     Total params\n",
      "67.633    Total estimated model params size (MB)\n"
     ]
    },
    {
     "data": {
      "application/vnd.jupyter.widget-view+json": {
       "model_id": "c6dfb5146ce440b69393e87d38015892",
       "version_major": 2,
       "version_minor": 0
      },
      "text/plain": [
       "Training: 0it [00:00, ?it/s]"
      ]
     },
     "metadata": {},
     "output_type": "display_data"
    },
    {
     "data": {
      "application/vnd.jupyter.widget-view+json": {
       "model_id": "dc1bcb34bb7d49b68db6f2620876fa26",
       "version_major": 2,
       "version_minor": 0
      },
      "text/plain": [
       "Predicting: 11it [00:00, ?it/s]"
      ]
     },
     "metadata": {},
     "output_type": "display_data"
    },
    {
     "name": "stderr",
     "output_type": "stream",
     "text": [
      "[2022-06-14 15:06:51,669] INFO | darts.models.forecasting.torch_forecasting_model | Train dataset contains 2683 samples.\n",
      "[2022-06-14 15:06:51,669] INFO | darts.models.forecasting.torch_forecasting_model | Train dataset contains 2683 samples.\n",
      "2022-06-14 15:06:51 darts.models.forecasting.torch_forecasting_model INFO: Train dataset contains 2683 samples.\n",
      "[2022-06-14 15:06:51,701] INFO | darts.models.forecasting.torch_forecasting_model | Time series values are 64-bits; casting model to float64.\n",
      "[2022-06-14 15:06:51,701] INFO | darts.models.forecasting.torch_forecasting_model | Time series values are 64-bits; casting model to float64.\n",
      "2022-06-14 15:06:51 darts.models.forecasting.torch_forecasting_model INFO: Time series values are 64-bits; casting model to float64.\n",
      "2022-06-14 15:06:51 pytorch_lightning.utilities.rank_zero INFO: GPU available: False, used: False\n",
      "2022-06-14 15:06:51 pytorch_lightning.utilities.rank_zero INFO: TPU available: False, using: 0 TPU cores\n",
      "2022-06-14 15:06:51 pytorch_lightning.utilities.rank_zero INFO: IPU available: False, using: 0 IPUs\n",
      "2022-06-14 15:06:51 pytorch_lightning.utilities.rank_zero INFO: HPU available: False, using: 0 HPUs\n",
      "2022-06-14 15:06:51 pytorch_lightning.callbacks.model_summary INFO: \n",
      "  | Name      | Type       | Params\n",
      "-----------------------------------------\n",
      "0 | criterion | MSELoss    | 0     \n",
      "1 | stacks    | ModuleList | 8.5 M \n",
      "-----------------------------------------\n",
      "8.5 M     Trainable params\n",
      "3.2 K     Non-trainable params\n",
      "8.5 M     Total params\n",
      "67.633    Total estimated model params size (MB)\n"
     ]
    },
    {
     "data": {
      "application/vnd.jupyter.widget-view+json": {
       "model_id": "65962cadd3a4461e9ce77b6ba8aedd47",
       "version_major": 2,
       "version_minor": 0
      },
      "text/plain": [
       "Training: 0it [00:00, ?it/s]"
      ]
     },
     "metadata": {},
     "output_type": "display_data"
    },
    {
     "data": {
      "application/vnd.jupyter.widget-view+json": {
       "model_id": "5a53c529b2524d72a44f974258d80463",
       "version_major": 2,
       "version_minor": 0
      },
      "text/plain": [
       "Predicting: 11it [00:00, ?it/s]"
      ]
     },
     "metadata": {},
     "output_type": "display_data"
    },
    {
     "name": "stderr",
     "output_type": "stream",
     "text": [
      "[2022-06-14 15:06:57,559] INFO | darts.models.forecasting.torch_forecasting_model | Train dataset contains 2654 samples.\n",
      "[2022-06-14 15:06:57,559] INFO | darts.models.forecasting.torch_forecasting_model | Train dataset contains 2654 samples.\n",
      "2022-06-14 15:06:57 darts.models.forecasting.torch_forecasting_model INFO: Train dataset contains 2654 samples.\n",
      "[2022-06-14 15:06:57,588] INFO | darts.models.forecasting.torch_forecasting_model | Time series values are 64-bits; casting model to float64.\n",
      "[2022-06-14 15:06:57,588] INFO | darts.models.forecasting.torch_forecasting_model | Time series values are 64-bits; casting model to float64.\n",
      "2022-06-14 15:06:57 darts.models.forecasting.torch_forecasting_model INFO: Time series values are 64-bits; casting model to float64.\n",
      "2022-06-14 15:06:57 pytorch_lightning.utilities.rank_zero INFO: GPU available: False, used: False\n",
      "2022-06-14 15:06:57 pytorch_lightning.utilities.rank_zero INFO: TPU available: False, using: 0 TPU cores\n",
      "2022-06-14 15:06:57 pytorch_lightning.utilities.rank_zero INFO: IPU available: False, using: 0 IPUs\n",
      "2022-06-14 15:06:57 pytorch_lightning.utilities.rank_zero INFO: HPU available: False, using: 0 HPUs\n",
      "2022-06-14 15:06:57 pytorch_lightning.callbacks.model_summary INFO: \n",
      "  | Name      | Type       | Params\n",
      "-----------------------------------------\n",
      "0 | criterion | MSELoss    | 0     \n",
      "1 | stacks    | ModuleList | 8.5 M \n",
      "-----------------------------------------\n",
      "8.5 M     Trainable params\n",
      "3.2 K     Non-trainable params\n",
      "8.5 M     Total params\n",
      "67.633    Total estimated model params size (MB)\n"
     ]
    },
    {
     "data": {
      "application/vnd.jupyter.widget-view+json": {
       "model_id": "021563fc75834a3ba705cdb3a7c9d6fc",
       "version_major": 2,
       "version_minor": 0
      },
      "text/plain": [
       "Training: 0it [00:00, ?it/s]"
      ]
     },
     "metadata": {},
     "output_type": "display_data"
    },
    {
     "data": {
      "application/vnd.jupyter.widget-view+json": {
       "model_id": "f49e38b2757a48d383e6c4560dd3eaf9",
       "version_major": 2,
       "version_minor": 0
      },
      "text/plain": [
       "Predicting: 11it [00:00, ?it/s]"
      ]
     },
     "metadata": {},
     "output_type": "display_data"
    },
    {
     "name": "stderr",
     "output_type": "stream",
     "text": [
      "[2022-06-14 15:07:03,802] INFO | darts.models.forecasting.torch_forecasting_model | Train dataset contains 2651 samples.\n",
      "[2022-06-14 15:07:03,802] INFO | darts.models.forecasting.torch_forecasting_model | Train dataset contains 2651 samples.\n",
      "2022-06-14 15:07:03 darts.models.forecasting.torch_forecasting_model INFO: Train dataset contains 2651 samples.\n",
      "[2022-06-14 15:07:03,831] INFO | darts.models.forecasting.torch_forecasting_model | Time series values are 64-bits; casting model to float64.\n",
      "[2022-06-14 15:07:03,831] INFO | darts.models.forecasting.torch_forecasting_model | Time series values are 64-bits; casting model to float64.\n",
      "2022-06-14 15:07:03 darts.models.forecasting.torch_forecasting_model INFO: Time series values are 64-bits; casting model to float64.\n",
      "2022-06-14 15:07:03 pytorch_lightning.utilities.rank_zero INFO: GPU available: False, used: False\n",
      "2022-06-14 15:07:03 pytorch_lightning.utilities.rank_zero INFO: TPU available: False, using: 0 TPU cores\n",
      "2022-06-14 15:07:03 pytorch_lightning.utilities.rank_zero INFO: IPU available: False, using: 0 IPUs\n",
      "2022-06-14 15:07:03 pytorch_lightning.utilities.rank_zero INFO: HPU available: False, using: 0 HPUs\n",
      "2022-06-14 15:07:03 pytorch_lightning.callbacks.model_summary INFO: \n",
      "  | Name      | Type       | Params\n",
      "-----------------------------------------\n",
      "0 | criterion | MSELoss    | 0     \n",
      "1 | stacks    | ModuleList | 8.5 M \n",
      "-----------------------------------------\n",
      "8.5 M     Trainable params\n",
      "3.2 K     Non-trainable params\n",
      "8.5 M     Total params\n",
      "67.633    Total estimated model params size (MB)\n"
     ]
    },
    {
     "data": {
      "application/vnd.jupyter.widget-view+json": {
       "model_id": "bbb6792758a947aeac5c53a2beeea9a2",
       "version_major": 2,
       "version_minor": 0
      },
      "text/plain": [
       "Training: 0it [00:00, ?it/s]"
      ]
     },
     "metadata": {},
     "output_type": "display_data"
    },
    {
     "data": {
      "application/vnd.jupyter.widget-view+json": {
       "model_id": "15691aaf825a4ff398a76e1e0b59affa",
       "version_major": 2,
       "version_minor": 0
      },
      "text/plain": [
       "Predicting: 11it [00:00, ?it/s]"
      ]
     },
     "metadata": {},
     "output_type": "display_data"
    },
    {
     "name": "stderr",
     "output_type": "stream",
     "text": [
      "[2022-06-14 15:07:09,629] INFO | darts.models.forecasting.torch_forecasting_model | Train dataset contains 2651 samples.\n",
      "[2022-06-14 15:07:09,629] INFO | darts.models.forecasting.torch_forecasting_model | Train dataset contains 2651 samples.\n",
      "2022-06-14 15:07:09 darts.models.forecasting.torch_forecasting_model INFO: Train dataset contains 2651 samples.\n",
      "[2022-06-14 15:07:09,658] INFO | darts.models.forecasting.torch_forecasting_model | Time series values are 64-bits; casting model to float64.\n",
      "[2022-06-14 15:07:09,658] INFO | darts.models.forecasting.torch_forecasting_model | Time series values are 64-bits; casting model to float64.\n",
      "2022-06-14 15:07:09 darts.models.forecasting.torch_forecasting_model INFO: Time series values are 64-bits; casting model to float64.\n",
      "2022-06-14 15:07:09 pytorch_lightning.utilities.rank_zero INFO: GPU available: False, used: False\n",
      "2022-06-14 15:07:09 pytorch_lightning.utilities.rank_zero INFO: TPU available: False, using: 0 TPU cores\n",
      "2022-06-14 15:07:09 pytorch_lightning.utilities.rank_zero INFO: IPU available: False, using: 0 IPUs\n",
      "2022-06-14 15:07:09 pytorch_lightning.utilities.rank_zero INFO: HPU available: False, using: 0 HPUs\n",
      "2022-06-14 15:07:09 pytorch_lightning.callbacks.model_summary INFO: \n",
      "  | Name      | Type       | Params\n",
      "-----------------------------------------\n",
      "0 | criterion | MSELoss    | 0     \n",
      "1 | stacks    | ModuleList | 8.5 M \n",
      "-----------------------------------------\n",
      "8.5 M     Trainable params\n",
      "3.2 K     Non-trainable params\n",
      "8.5 M     Total params\n",
      "67.633    Total estimated model params size (MB)\n"
     ]
    },
    {
     "data": {
      "application/vnd.jupyter.widget-view+json": {
       "model_id": "1e56b7de2b5b4340913c3dc33bc834ac",
       "version_major": 2,
       "version_minor": 0
      },
      "text/plain": [
       "Training: 0it [00:00, ?it/s]"
      ]
     },
     "metadata": {},
     "output_type": "display_data"
    },
    {
     "data": {
      "application/vnd.jupyter.widget-view+json": {
       "model_id": "6b6d6362091c494fbd684fa9ef08209a",
       "version_major": 2,
       "version_minor": 0
      },
      "text/plain": [
       "Predicting: 11it [00:00, ?it/s]"
      ]
     },
     "metadata": {},
     "output_type": "display_data"
    },
    {
     "name": "stderr",
     "output_type": "stream",
     "text": [
      "[2022-06-14 15:07:15,920] INFO | darts.models.forecasting.torch_forecasting_model | Train dataset contains 2648 samples.\n",
      "[2022-06-14 15:07:15,920] INFO | darts.models.forecasting.torch_forecasting_model | Train dataset contains 2648 samples.\n",
      "2022-06-14 15:07:15 darts.models.forecasting.torch_forecasting_model INFO: Train dataset contains 2648 samples.\n",
      "[2022-06-14 15:07:15,950] INFO | darts.models.forecasting.torch_forecasting_model | Time series values are 64-bits; casting model to float64.\n",
      "[2022-06-14 15:07:15,950] INFO | darts.models.forecasting.torch_forecasting_model | Time series values are 64-bits; casting model to float64.\n",
      "2022-06-14 15:07:15 darts.models.forecasting.torch_forecasting_model INFO: Time series values are 64-bits; casting model to float64.\n",
      "2022-06-14 15:07:15 pytorch_lightning.utilities.rank_zero INFO: GPU available: False, used: False\n",
      "2022-06-14 15:07:15 pytorch_lightning.utilities.rank_zero INFO: TPU available: False, using: 0 TPU cores\n",
      "2022-06-14 15:07:15 pytorch_lightning.utilities.rank_zero INFO: IPU available: False, using: 0 IPUs\n",
      "2022-06-14 15:07:15 pytorch_lightning.utilities.rank_zero INFO: HPU available: False, using: 0 HPUs\n",
      "2022-06-14 15:07:15 pytorch_lightning.callbacks.model_summary INFO: \n",
      "  | Name      | Type       | Params\n",
      "-----------------------------------------\n",
      "0 | criterion | MSELoss    | 0     \n",
      "1 | stacks    | ModuleList | 8.5 M \n",
      "-----------------------------------------\n",
      "8.5 M     Trainable params\n",
      "3.2 K     Non-trainable params\n",
      "8.5 M     Total params\n",
      "67.633    Total estimated model params size (MB)\n"
     ]
    },
    {
     "data": {
      "application/vnd.jupyter.widget-view+json": {
       "model_id": "69dcb19eee8b40cdada7948325d73469",
       "version_major": 2,
       "version_minor": 0
      },
      "text/plain": [
       "Training: 0it [00:00, ?it/s]"
      ]
     },
     "metadata": {},
     "output_type": "display_data"
    },
    {
     "data": {
      "application/vnd.jupyter.widget-view+json": {
       "model_id": "24fa93a5bf5543459f256762340b868c",
       "version_major": 2,
       "version_minor": 0
      },
      "text/plain": [
       "Predicting: 11it [00:00, ?it/s]"
      ]
     },
     "metadata": {},
     "output_type": "display_data"
    },
    {
     "name": "stderr",
     "output_type": "stream",
     "text": [
      "[2022-06-14 15:07:21,729] INFO | darts.models.forecasting.torch_forecasting_model | Train dataset contains 2705 samples.\n",
      "[2022-06-14 15:07:21,729] INFO | darts.models.forecasting.torch_forecasting_model | Train dataset contains 2705 samples.\n",
      "2022-06-14 15:07:21 darts.models.forecasting.torch_forecasting_model INFO: Train dataset contains 2705 samples.\n",
      "[2022-06-14 15:07:21,758] INFO | darts.models.forecasting.torch_forecasting_model | Time series values are 64-bits; casting model to float64.\n",
      "[2022-06-14 15:07:21,758] INFO | darts.models.forecasting.torch_forecasting_model | Time series values are 64-bits; casting model to float64.\n",
      "2022-06-14 15:07:21 darts.models.forecasting.torch_forecasting_model INFO: Time series values are 64-bits; casting model to float64.\n",
      "2022-06-14 15:07:21 pytorch_lightning.utilities.rank_zero INFO: GPU available: False, used: False\n",
      "2022-06-14 15:07:21 pytorch_lightning.utilities.rank_zero INFO: TPU available: False, using: 0 TPU cores\n",
      "2022-06-14 15:07:21 pytorch_lightning.utilities.rank_zero INFO: IPU available: False, using: 0 IPUs\n",
      "2022-06-14 15:07:21 pytorch_lightning.utilities.rank_zero INFO: HPU available: False, using: 0 HPUs\n",
      "2022-06-14 15:07:21 pytorch_lightning.callbacks.model_summary INFO: \n",
      "  | Name      | Type       | Params\n",
      "-----------------------------------------\n",
      "0 | criterion | MSELoss    | 0     \n",
      "1 | stacks    | ModuleList | 8.5 M \n",
      "-----------------------------------------\n",
      "8.5 M     Trainable params\n",
      "3.2 K     Non-trainable params\n",
      "8.5 M     Total params\n",
      "67.633    Total estimated model params size (MB)\n"
     ]
    },
    {
     "data": {
      "application/vnd.jupyter.widget-view+json": {
       "model_id": "9d1c174abc904969962578f903edb256",
       "version_major": 2,
       "version_minor": 0
      },
      "text/plain": [
       "Training: 0it [00:00, ?it/s]"
      ]
     },
     "metadata": {},
     "output_type": "display_data"
    },
    {
     "data": {
      "application/vnd.jupyter.widget-view+json": {
       "model_id": "618a4165f30d4d0093a22601eb4a1ed4",
       "version_major": 2,
       "version_minor": 0
      },
      "text/plain": [
       "Predicting: 11it [00:00, ?it/s]"
      ]
     },
     "metadata": {},
     "output_type": "display_data"
    },
    {
     "name": "stderr",
     "output_type": "stream",
     "text": [
      "[2022-06-14 15:07:28,110] INFO | darts.models.forecasting.torch_forecasting_model | Train dataset contains 2705 samples.\n",
      "[2022-06-14 15:07:28,110] INFO | darts.models.forecasting.torch_forecasting_model | Train dataset contains 2705 samples.\n",
      "2022-06-14 15:07:28 darts.models.forecasting.torch_forecasting_model INFO: Train dataset contains 2705 samples.\n",
      "[2022-06-14 15:07:28,160] INFO | darts.models.forecasting.torch_forecasting_model | Time series values are 64-bits; casting model to float64.\n",
      "[2022-06-14 15:07:28,160] INFO | darts.models.forecasting.torch_forecasting_model | Time series values are 64-bits; casting model to float64.\n",
      "2022-06-14 15:07:28 darts.models.forecasting.torch_forecasting_model INFO: Time series values are 64-bits; casting model to float64.\n",
      "2022-06-14 15:07:28 pytorch_lightning.utilities.rank_zero INFO: GPU available: False, used: False\n",
      "2022-06-14 15:07:28 pytorch_lightning.utilities.rank_zero INFO: TPU available: False, using: 0 TPU cores\n",
      "2022-06-14 15:07:28 pytorch_lightning.utilities.rank_zero INFO: IPU available: False, using: 0 IPUs\n",
      "2022-06-14 15:07:28 pytorch_lightning.utilities.rank_zero INFO: HPU available: False, using: 0 HPUs\n",
      "2022-06-14 15:07:28 pytorch_lightning.callbacks.model_summary INFO: \n",
      "  | Name      | Type       | Params\n",
      "-----------------------------------------\n",
      "0 | criterion | MSELoss    | 0     \n",
      "1 | stacks    | ModuleList | 8.5 M \n",
      "-----------------------------------------\n",
      "8.5 M     Trainable params\n",
      "3.2 K     Non-trainable params\n",
      "8.5 M     Total params\n",
      "67.633    Total estimated model params size (MB)\n"
     ]
    },
    {
     "data": {
      "application/vnd.jupyter.widget-view+json": {
       "model_id": "772b0545bdcb42579b83f54869566c8c",
       "version_major": 2,
       "version_minor": 0
      },
      "text/plain": [
       "Training: 0it [00:00, ?it/s]"
      ]
     },
     "metadata": {},
     "output_type": "display_data"
    },
    {
     "data": {
      "application/vnd.jupyter.widget-view+json": {
       "model_id": "6825e40203b841598e1a22386db09886",
       "version_major": 2,
       "version_minor": 0
      },
      "text/plain": [
       "Predicting: 11it [00:00, ?it/s]"
      ]
     },
     "metadata": {},
     "output_type": "display_data"
    },
    {
     "name": "stderr",
     "output_type": "stream",
     "text": [
      "[2022-06-14 15:07:33,965] INFO | darts.models.forecasting.torch_forecasting_model | Train dataset contains 2705 samples.\n",
      "[2022-06-14 15:07:33,965] INFO | darts.models.forecasting.torch_forecasting_model | Train dataset contains 2705 samples.\n",
      "2022-06-14 15:07:33 darts.models.forecasting.torch_forecasting_model INFO: Train dataset contains 2705 samples.\n",
      "[2022-06-14 15:07:34,011] INFO | darts.models.forecasting.torch_forecasting_model | Time series values are 64-bits; casting model to float64.\n",
      "[2022-06-14 15:07:34,011] INFO | darts.models.forecasting.torch_forecasting_model | Time series values are 64-bits; casting model to float64.\n",
      "2022-06-14 15:07:34 darts.models.forecasting.torch_forecasting_model INFO: Time series values are 64-bits; casting model to float64.\n",
      "2022-06-14 15:07:34 pytorch_lightning.utilities.rank_zero INFO: GPU available: False, used: False\n",
      "2022-06-14 15:07:34 pytorch_lightning.utilities.rank_zero INFO: TPU available: False, using: 0 TPU cores\n",
      "2022-06-14 15:07:34 pytorch_lightning.utilities.rank_zero INFO: IPU available: False, using: 0 IPUs\n",
      "2022-06-14 15:07:34 pytorch_lightning.utilities.rank_zero INFO: HPU available: False, using: 0 HPUs\n",
      "2022-06-14 15:07:34 pytorch_lightning.callbacks.model_summary INFO: \n",
      "  | Name      | Type       | Params\n",
      "-----------------------------------------\n",
      "0 | criterion | MSELoss    | 0     \n",
      "1 | stacks    | ModuleList | 8.5 M \n",
      "-----------------------------------------\n",
      "8.5 M     Trainable params\n",
      "3.2 K     Non-trainable params\n",
      "8.5 M     Total params\n",
      "67.633    Total estimated model params size (MB)\n"
     ]
    },
    {
     "data": {
      "application/vnd.jupyter.widget-view+json": {
       "model_id": "f713f705afb24865a33ca67b889b7e39",
       "version_major": 2,
       "version_minor": 0
      },
      "text/plain": [
       "Training: 0it [00:00, ?it/s]"
      ]
     },
     "metadata": {},
     "output_type": "display_data"
    },
    {
     "data": {
      "application/vnd.jupyter.widget-view+json": {
       "model_id": "50fbca0998e942ec8cee81f259c4c2ba",
       "version_major": 2,
       "version_minor": 0
      },
      "text/plain": [
       "Predicting: 11it [00:00, ?it/s]"
      ]
     },
     "metadata": {},
     "output_type": "display_data"
    },
    {
     "name": "stderr",
     "output_type": "stream",
     "text": [
      "[2022-06-14 15:07:39,890] INFO | darts.models.forecasting.torch_forecasting_model | Train dataset contains 2705 samples.\n",
      "[2022-06-14 15:07:39,890] INFO | darts.models.forecasting.torch_forecasting_model | Train dataset contains 2705 samples.\n",
      "2022-06-14 15:07:39 darts.models.forecasting.torch_forecasting_model INFO: Train dataset contains 2705 samples.\n",
      "[2022-06-14 15:07:39,921] INFO | darts.models.forecasting.torch_forecasting_model | Time series values are 64-bits; casting model to float64.\n",
      "[2022-06-14 15:07:39,921] INFO | darts.models.forecasting.torch_forecasting_model | Time series values are 64-bits; casting model to float64.\n",
      "2022-06-14 15:07:39 darts.models.forecasting.torch_forecasting_model INFO: Time series values are 64-bits; casting model to float64.\n",
      "2022-06-14 15:07:39 pytorch_lightning.utilities.rank_zero INFO: GPU available: False, used: False\n",
      "2022-06-14 15:07:39 pytorch_lightning.utilities.rank_zero INFO: TPU available: False, using: 0 TPU cores\n",
      "2022-06-14 15:07:39 pytorch_lightning.utilities.rank_zero INFO: IPU available: False, using: 0 IPUs\n",
      "2022-06-14 15:07:39 pytorch_lightning.utilities.rank_zero INFO: HPU available: False, using: 0 HPUs\n",
      "2022-06-14 15:07:39 pytorch_lightning.callbacks.model_summary INFO: \n",
      "  | Name      | Type       | Params\n",
      "-----------------------------------------\n",
      "0 | criterion | MSELoss    | 0     \n",
      "1 | stacks    | ModuleList | 8.5 M \n",
      "-----------------------------------------\n",
      "8.5 M     Trainable params\n",
      "3.2 K     Non-trainable params\n",
      "8.5 M     Total params\n",
      "67.633    Total estimated model params size (MB)\n"
     ]
    },
    {
     "data": {
      "application/vnd.jupyter.widget-view+json": {
       "model_id": "c5d966d9dde7470b91c1e683650de824",
       "version_major": 2,
       "version_minor": 0
      },
      "text/plain": [
       "Training: 0it [00:00, ?it/s]"
      ]
     },
     "metadata": {},
     "output_type": "display_data"
    },
    {
     "data": {
      "application/vnd.jupyter.widget-view+json": {
       "model_id": "a7daedae8b29430fa02f43a37da208fe",
       "version_major": 2,
       "version_minor": 0
      },
      "text/plain": [
       "Predicting: 11it [00:00, ?it/s]"
      ]
     },
     "metadata": {},
     "output_type": "display_data"
    },
    {
     "name": "stderr",
     "output_type": "stream",
     "text": [
      "[2022-06-14 15:07:45,714] INFO | darts.models.forecasting.torch_forecasting_model | Train dataset contains 2705 samples.\n",
      "[2022-06-14 15:07:45,714] INFO | darts.models.forecasting.torch_forecasting_model | Train dataset contains 2705 samples.\n",
      "2022-06-14 15:07:45 darts.models.forecasting.torch_forecasting_model INFO: Train dataset contains 2705 samples.\n",
      "[2022-06-14 15:07:45,743] INFO | darts.models.forecasting.torch_forecasting_model | Time series values are 64-bits; casting model to float64.\n",
      "[2022-06-14 15:07:45,743] INFO | darts.models.forecasting.torch_forecasting_model | Time series values are 64-bits; casting model to float64.\n",
      "2022-06-14 15:07:45 darts.models.forecasting.torch_forecasting_model INFO: Time series values are 64-bits; casting model to float64.\n",
      "2022-06-14 15:07:45 pytorch_lightning.utilities.rank_zero INFO: GPU available: False, used: False\n",
      "2022-06-14 15:07:45 pytorch_lightning.utilities.rank_zero INFO: TPU available: False, using: 0 TPU cores\n",
      "2022-06-14 15:07:45 pytorch_lightning.utilities.rank_zero INFO: IPU available: False, using: 0 IPUs\n",
      "2022-06-14 15:07:45 pytorch_lightning.utilities.rank_zero INFO: HPU available: False, using: 0 HPUs\n",
      "2022-06-14 15:07:45 pytorch_lightning.callbacks.model_summary INFO: \n",
      "  | Name      | Type       | Params\n",
      "-----------------------------------------\n",
      "0 | criterion | MSELoss    | 0     \n",
      "1 | stacks    | ModuleList | 8.5 M \n",
      "-----------------------------------------\n",
      "8.5 M     Trainable params\n",
      "3.2 K     Non-trainable params\n",
      "8.5 M     Total params\n",
      "67.633    Total estimated model params size (MB)\n"
     ]
    },
    {
     "data": {
      "application/vnd.jupyter.widget-view+json": {
       "model_id": "8fb4673671e7413bad49bea75484ce58",
       "version_major": 2,
       "version_minor": 0
      },
      "text/plain": [
       "Training: 0it [00:00, ?it/s]"
      ]
     },
     "metadata": {},
     "output_type": "display_data"
    },
    {
     "data": {
      "application/vnd.jupyter.widget-view+json": {
       "model_id": "607f7da8ea39478fa8a8cdfa2424b098",
       "version_major": 2,
       "version_minor": 0
      },
      "text/plain": [
       "Predicting: 11it [00:00, ?it/s]"
      ]
     },
     "metadata": {},
     "output_type": "display_data"
    },
    {
     "name": "stderr",
     "output_type": "stream",
     "text": [
      "[2022-06-14 15:07:51,453] INFO | darts.models.forecasting.torch_forecasting_model | Train dataset contains 2635 samples.\n",
      "[2022-06-14 15:07:51,453] INFO | darts.models.forecasting.torch_forecasting_model | Train dataset contains 2635 samples.\n",
      "2022-06-14 15:07:51 darts.models.forecasting.torch_forecasting_model INFO: Train dataset contains 2635 samples.\n",
      "[2022-06-14 15:07:51,482] INFO | darts.models.forecasting.torch_forecasting_model | Time series values are 64-bits; casting model to float64.\n",
      "[2022-06-14 15:07:51,482] INFO | darts.models.forecasting.torch_forecasting_model | Time series values are 64-bits; casting model to float64.\n",
      "2022-06-14 15:07:51 darts.models.forecasting.torch_forecasting_model INFO: Time series values are 64-bits; casting model to float64.\n",
      "2022-06-14 15:07:51 pytorch_lightning.utilities.rank_zero INFO: GPU available: False, used: False\n",
      "2022-06-14 15:07:51 pytorch_lightning.utilities.rank_zero INFO: TPU available: False, using: 0 TPU cores\n",
      "2022-06-14 15:07:51 pytorch_lightning.utilities.rank_zero INFO: IPU available: False, using: 0 IPUs\n",
      "2022-06-14 15:07:51 pytorch_lightning.utilities.rank_zero INFO: HPU available: False, using: 0 HPUs\n",
      "2022-06-14 15:07:51 pytorch_lightning.callbacks.model_summary INFO: \n",
      "  | Name      | Type       | Params\n",
      "-----------------------------------------\n",
      "0 | criterion | MSELoss    | 0     \n",
      "1 | stacks    | ModuleList | 8.5 M \n",
      "-----------------------------------------\n",
      "8.5 M     Trainable params\n",
      "3.2 K     Non-trainable params\n",
      "8.5 M     Total params\n",
      "67.633    Total estimated model params size (MB)\n"
     ]
    },
    {
     "data": {
      "application/vnd.jupyter.widget-view+json": {
       "model_id": "48369815c807453f9d46c77d67ff2304",
       "version_major": 2,
       "version_minor": 0
      },
      "text/plain": [
       "Training: 0it [00:00, ?it/s]"
      ]
     },
     "metadata": {},
     "output_type": "display_data"
    },
    {
     "data": {
      "application/vnd.jupyter.widget-view+json": {
       "model_id": "7801c7ecd78749ac98b580a4ef0678c8",
       "version_major": 2,
       "version_minor": 0
      },
      "text/plain": [
       "Predicting: 11it [00:00, ?it/s]"
      ]
     },
     "metadata": {},
     "output_type": "display_data"
    },
    {
     "name": "stderr",
     "output_type": "stream",
     "text": [
      "[2022-06-14 15:07:57,139] INFO | darts.models.forecasting.torch_forecasting_model | Train dataset contains 2728 samples.\n",
      "[2022-06-14 15:07:57,139] INFO | darts.models.forecasting.torch_forecasting_model | Train dataset contains 2728 samples.\n",
      "2022-06-14 15:07:57 darts.models.forecasting.torch_forecasting_model INFO: Train dataset contains 2728 samples.\n",
      "[2022-06-14 15:07:57,168] INFO | darts.models.forecasting.torch_forecasting_model | Time series values are 64-bits; casting model to float64.\n",
      "[2022-06-14 15:07:57,168] INFO | darts.models.forecasting.torch_forecasting_model | Time series values are 64-bits; casting model to float64.\n",
      "2022-06-14 15:07:57 darts.models.forecasting.torch_forecasting_model INFO: Time series values are 64-bits; casting model to float64.\n",
      "2022-06-14 15:07:57 pytorch_lightning.utilities.rank_zero INFO: GPU available: False, used: False\n",
      "2022-06-14 15:07:57 pytorch_lightning.utilities.rank_zero INFO: TPU available: False, using: 0 TPU cores\n",
      "2022-06-14 15:07:57 pytorch_lightning.utilities.rank_zero INFO: IPU available: False, using: 0 IPUs\n",
      "2022-06-14 15:07:57 pytorch_lightning.utilities.rank_zero INFO: HPU available: False, using: 0 HPUs\n",
      "2022-06-14 15:07:57 pytorch_lightning.callbacks.model_summary INFO: \n",
      "  | Name      | Type       | Params\n",
      "-----------------------------------------\n",
      "0 | criterion | MSELoss    | 0     \n",
      "1 | stacks    | ModuleList | 8.5 M \n",
      "-----------------------------------------\n",
      "8.5 M     Trainable params\n",
      "3.2 K     Non-trainable params\n",
      "8.5 M     Total params\n",
      "67.633    Total estimated model params size (MB)\n"
     ]
    },
    {
     "data": {
      "application/vnd.jupyter.widget-view+json": {
       "model_id": "60e7e89eec214ca883111bdf81524172",
       "version_major": 2,
       "version_minor": 0
      },
      "text/plain": [
       "Training: 0it [00:00, ?it/s]"
      ]
     },
     "metadata": {},
     "output_type": "display_data"
    },
    {
     "data": {
      "application/vnd.jupyter.widget-view+json": {
       "model_id": "25483de9791647e393a3bd9ecc5aafb6",
       "version_major": 2,
       "version_minor": 0
      },
      "text/plain": [
       "Predicting: 11it [00:00, ?it/s]"
      ]
     },
     "metadata": {},
     "output_type": "display_data"
    },
    {
     "name": "stderr",
     "output_type": "stream",
     "text": [
      "[2022-06-14 15:08:03,538] INFO | darts.models.forecasting.torch_forecasting_model | Train dataset contains 586 samples.\n",
      "[2022-06-14 15:08:03,538] INFO | darts.models.forecasting.torch_forecasting_model | Train dataset contains 586 samples.\n",
      "2022-06-14 15:08:03 darts.models.forecasting.torch_forecasting_model INFO: Train dataset contains 586 samples.\n",
      "[2022-06-14 15:08:03,567] INFO | darts.models.forecasting.torch_forecasting_model | Time series values are 64-bits; casting model to float64.\n",
      "[2022-06-14 15:08:03,567] INFO | darts.models.forecasting.torch_forecasting_model | Time series values are 64-bits; casting model to float64.\n",
      "2022-06-14 15:08:03 darts.models.forecasting.torch_forecasting_model INFO: Time series values are 64-bits; casting model to float64.\n",
      "2022-06-14 15:08:03 pytorch_lightning.utilities.rank_zero INFO: GPU available: False, used: False\n",
      "2022-06-14 15:08:03 pytorch_lightning.utilities.rank_zero INFO: TPU available: False, using: 0 TPU cores\n",
      "2022-06-14 15:08:03 pytorch_lightning.utilities.rank_zero INFO: IPU available: False, using: 0 IPUs\n",
      "2022-06-14 15:08:03 pytorch_lightning.utilities.rank_zero INFO: HPU available: False, using: 0 HPUs\n",
      "2022-06-14 15:08:03 pytorch_lightning.callbacks.model_summary INFO: \n",
      "  | Name      | Type       | Params\n",
      "-----------------------------------------\n",
      "0 | criterion | MSELoss    | 0     \n",
      "1 | stacks    | ModuleList | 8.5 M \n",
      "-----------------------------------------\n",
      "8.5 M     Trainable params\n",
      "3.2 K     Non-trainable params\n",
      "8.5 M     Total params\n",
      "67.633    Total estimated model params size (MB)\n"
     ]
    },
    {
     "data": {
      "application/vnd.jupyter.widget-view+json": {
       "model_id": "cad59d26a00d43f6bddaa6710463ace1",
       "version_major": 2,
       "version_minor": 0
      },
      "text/plain": [
       "Training: 0it [00:00, ?it/s]"
      ]
     },
     "metadata": {},
     "output_type": "display_data"
    },
    {
     "data": {
      "application/vnd.jupyter.widget-view+json": {
       "model_id": "08b27976751744e5a7d2d089ecdbde1a",
       "version_major": 2,
       "version_minor": 0
      },
      "text/plain": [
       "Predicting: 3it [00:00, ?it/s]"
      ]
     },
     "metadata": {},
     "output_type": "display_data"
    },
    {
     "name": "stderr",
     "output_type": "stream",
     "text": [
      "[2022-06-14 15:08:06,802] INFO | darts.models.forecasting.torch_forecasting_model | Train dataset contains 2728 samples.\n",
      "[2022-06-14 15:08:06,802] INFO | darts.models.forecasting.torch_forecasting_model | Train dataset contains 2728 samples.\n",
      "2022-06-14 15:08:06 darts.models.forecasting.torch_forecasting_model INFO: Train dataset contains 2728 samples.\n",
      "[2022-06-14 15:08:06,832] INFO | darts.models.forecasting.torch_forecasting_model | Time series values are 64-bits; casting model to float64.\n",
      "[2022-06-14 15:08:06,832] INFO | darts.models.forecasting.torch_forecasting_model | Time series values are 64-bits; casting model to float64.\n",
      "2022-06-14 15:08:06 darts.models.forecasting.torch_forecasting_model INFO: Time series values are 64-bits; casting model to float64.\n",
      "2022-06-14 15:08:06 pytorch_lightning.utilities.rank_zero INFO: GPU available: False, used: False\n",
      "2022-06-14 15:08:06 pytorch_lightning.utilities.rank_zero INFO: TPU available: False, using: 0 TPU cores\n",
      "2022-06-14 15:08:06 pytorch_lightning.utilities.rank_zero INFO: IPU available: False, using: 0 IPUs\n",
      "2022-06-14 15:08:06 pytorch_lightning.utilities.rank_zero INFO: HPU available: False, using: 0 HPUs\n",
      "2022-06-14 15:08:06 pytorch_lightning.callbacks.model_summary INFO: \n",
      "  | Name      | Type       | Params\n",
      "-----------------------------------------\n",
      "0 | criterion | MSELoss    | 0     \n",
      "1 | stacks    | ModuleList | 8.5 M \n",
      "-----------------------------------------\n",
      "8.5 M     Trainable params\n",
      "3.2 K     Non-trainable params\n",
      "8.5 M     Total params\n",
      "67.633    Total estimated model params size (MB)\n"
     ]
    },
    {
     "data": {
      "application/vnd.jupyter.widget-view+json": {
       "model_id": "006195ad9b4e4de8a4aea3ea5eb151bd",
       "version_major": 2,
       "version_minor": 0
      },
      "text/plain": [
       "Training: 0it [00:00, ?it/s]"
      ]
     },
     "metadata": {},
     "output_type": "display_data"
    },
    {
     "data": {
      "application/vnd.jupyter.widget-view+json": {
       "model_id": "c2dd81e7c3bf4753a785b0d364eeed13",
       "version_major": 2,
       "version_minor": 0
      },
      "text/plain": [
       "Predicting: 11it [00:00, ?it/s]"
      ]
     },
     "metadata": {},
     "output_type": "display_data"
    },
    {
     "name": "stderr",
     "output_type": "stream",
     "text": [
      "[2022-06-14 15:08:13,096] INFO | darts.models.forecasting.torch_forecasting_model | Train dataset contains 2728 samples.\n",
      "[2022-06-14 15:08:13,096] INFO | darts.models.forecasting.torch_forecasting_model | Train dataset contains 2728 samples.\n",
      "2022-06-14 15:08:13 darts.models.forecasting.torch_forecasting_model INFO: Train dataset contains 2728 samples.\n",
      "[2022-06-14 15:08:13,143] INFO | darts.models.forecasting.torch_forecasting_model | Time series values are 64-bits; casting model to float64.\n",
      "[2022-06-14 15:08:13,143] INFO | darts.models.forecasting.torch_forecasting_model | Time series values are 64-bits; casting model to float64.\n",
      "2022-06-14 15:08:13 darts.models.forecasting.torch_forecasting_model INFO: Time series values are 64-bits; casting model to float64.\n",
      "2022-06-14 15:08:13 pytorch_lightning.utilities.rank_zero INFO: GPU available: False, used: False\n",
      "2022-06-14 15:08:13 pytorch_lightning.utilities.rank_zero INFO: TPU available: False, using: 0 TPU cores\n",
      "2022-06-14 15:08:13 pytorch_lightning.utilities.rank_zero INFO: IPU available: False, using: 0 IPUs\n",
      "2022-06-14 15:08:13 pytorch_lightning.utilities.rank_zero INFO: HPU available: False, using: 0 HPUs\n",
      "2022-06-14 15:08:13 pytorch_lightning.callbacks.model_summary INFO: \n",
      "  | Name      | Type       | Params\n",
      "-----------------------------------------\n",
      "0 | criterion | MSELoss    | 0     \n",
      "1 | stacks    | ModuleList | 8.5 M \n",
      "-----------------------------------------\n",
      "8.5 M     Trainable params\n",
      "3.2 K     Non-trainable params\n",
      "8.5 M     Total params\n",
      "67.633    Total estimated model params size (MB)\n"
     ]
    },
    {
     "data": {
      "application/vnd.jupyter.widget-view+json": {
       "model_id": "8c48ca8edac04de48e7ae4567a339c7d",
       "version_major": 2,
       "version_minor": 0
      },
      "text/plain": [
       "Training: 0it [00:00, ?it/s]"
      ]
     },
     "metadata": {},
     "output_type": "display_data"
    },
    {
     "data": {
      "application/vnd.jupyter.widget-view+json": {
       "model_id": "74f0a30600fe4a2284ddff9cfb314243",
       "version_major": 2,
       "version_minor": 0
      },
      "text/plain": [
       "Predicting: 11it [00:00, ?it/s]"
      ]
     },
     "metadata": {},
     "output_type": "display_data"
    },
    {
     "name": "stderr",
     "output_type": "stream",
     "text": [
      "[2022-06-14 15:08:18,987] INFO | darts.models.forecasting.torch_forecasting_model | Train dataset contains 2728 samples.\n",
      "[2022-06-14 15:08:18,987] INFO | darts.models.forecasting.torch_forecasting_model | Train dataset contains 2728 samples.\n",
      "2022-06-14 15:08:18 darts.models.forecasting.torch_forecasting_model INFO: Train dataset contains 2728 samples.\n",
      "[2022-06-14 15:08:19,033] INFO | darts.models.forecasting.torch_forecasting_model | Time series values are 64-bits; casting model to float64.\n",
      "[2022-06-14 15:08:19,033] INFO | darts.models.forecasting.torch_forecasting_model | Time series values are 64-bits; casting model to float64.\n",
      "2022-06-14 15:08:19 darts.models.forecasting.torch_forecasting_model INFO: Time series values are 64-bits; casting model to float64.\n",
      "2022-06-14 15:08:19 pytorch_lightning.utilities.rank_zero INFO: GPU available: False, used: False\n",
      "2022-06-14 15:08:19 pytorch_lightning.utilities.rank_zero INFO: TPU available: False, using: 0 TPU cores\n",
      "2022-06-14 15:08:19 pytorch_lightning.utilities.rank_zero INFO: IPU available: False, using: 0 IPUs\n",
      "2022-06-14 15:08:19 pytorch_lightning.utilities.rank_zero INFO: HPU available: False, using: 0 HPUs\n",
      "2022-06-14 15:08:19 pytorch_lightning.callbacks.model_summary INFO: \n",
      "  | Name      | Type       | Params\n",
      "-----------------------------------------\n",
      "0 | criterion | MSELoss    | 0     \n",
      "1 | stacks    | ModuleList | 8.5 M \n",
      "-----------------------------------------\n",
      "8.5 M     Trainable params\n",
      "3.2 K     Non-trainable params\n",
      "8.5 M     Total params\n",
      "67.633    Total estimated model params size (MB)\n"
     ]
    },
    {
     "data": {
      "application/vnd.jupyter.widget-view+json": {
       "model_id": "47ff660c7a8643ac9db6123682e98ba3",
       "version_major": 2,
       "version_minor": 0
      },
      "text/plain": [
       "Training: 0it [00:00, ?it/s]"
      ]
     },
     "metadata": {},
     "output_type": "display_data"
    },
    {
     "data": {
      "application/vnd.jupyter.widget-view+json": {
       "model_id": "2164f316f5d94a629d03221753124b1f",
       "version_major": 2,
       "version_minor": 0
      },
      "text/plain": [
       "Predicting: 11it [00:00, ?it/s]"
      ]
     },
     "metadata": {},
     "output_type": "display_data"
    },
    {
     "name": "stderr",
     "output_type": "stream",
     "text": [
      "[2022-06-14 15:08:24,915] INFO | darts.models.forecasting.torch_forecasting_model | Train dataset contains 2700 samples.\n",
      "[2022-06-14 15:08:24,915] INFO | darts.models.forecasting.torch_forecasting_model | Train dataset contains 2700 samples.\n",
      "2022-06-14 15:08:24 darts.models.forecasting.torch_forecasting_model INFO: Train dataset contains 2700 samples.\n",
      "[2022-06-14 15:08:24,946] INFO | darts.models.forecasting.torch_forecasting_model | Time series values are 64-bits; casting model to float64.\n",
      "[2022-06-14 15:08:24,946] INFO | darts.models.forecasting.torch_forecasting_model | Time series values are 64-bits; casting model to float64.\n",
      "2022-06-14 15:08:24 darts.models.forecasting.torch_forecasting_model INFO: Time series values are 64-bits; casting model to float64.\n",
      "2022-06-14 15:08:24 pytorch_lightning.utilities.rank_zero INFO: GPU available: False, used: False\n",
      "2022-06-14 15:08:24 pytorch_lightning.utilities.rank_zero INFO: TPU available: False, using: 0 TPU cores\n",
      "2022-06-14 15:08:24 pytorch_lightning.utilities.rank_zero INFO: IPU available: False, using: 0 IPUs\n",
      "2022-06-14 15:08:24 pytorch_lightning.utilities.rank_zero INFO: HPU available: False, using: 0 HPUs\n",
      "2022-06-14 15:08:24 pytorch_lightning.callbacks.model_summary INFO: \n",
      "  | Name      | Type       | Params\n",
      "-----------------------------------------\n",
      "0 | criterion | MSELoss    | 0     \n",
      "1 | stacks    | ModuleList | 8.5 M \n",
      "-----------------------------------------\n",
      "8.5 M     Trainable params\n",
      "3.2 K     Non-trainable params\n",
      "8.5 M     Total params\n",
      "67.633    Total estimated model params size (MB)\n"
     ]
    },
    {
     "data": {
      "application/vnd.jupyter.widget-view+json": {
       "model_id": "ffbc81dcaa584c08897ece8c767e7b44",
       "version_major": 2,
       "version_minor": 0
      },
      "text/plain": [
       "Training: 0it [00:00, ?it/s]"
      ]
     },
     "metadata": {},
     "output_type": "display_data"
    },
    {
     "data": {
      "application/vnd.jupyter.widget-view+json": {
       "model_id": "c76bcc5e193d4773948e55d5dafb12c7",
       "version_major": 2,
       "version_minor": 0
      },
      "text/plain": [
       "Predicting: 11it [00:00, ?it/s]"
      ]
     },
     "metadata": {},
     "output_type": "display_data"
    },
    {
     "name": "stderr",
     "output_type": "stream",
     "text": [
      "[2022-06-14 15:08:30,654] INFO | darts.models.forecasting.torch_forecasting_model | Train dataset contains 2731 samples.\n",
      "[2022-06-14 15:08:30,654] INFO | darts.models.forecasting.torch_forecasting_model | Train dataset contains 2731 samples.\n",
      "2022-06-14 15:08:30 darts.models.forecasting.torch_forecasting_model INFO: Train dataset contains 2731 samples.\n",
      "[2022-06-14 15:08:30,684] INFO | darts.models.forecasting.torch_forecasting_model | Time series values are 64-bits; casting model to float64.\n",
      "[2022-06-14 15:08:30,684] INFO | darts.models.forecasting.torch_forecasting_model | Time series values are 64-bits; casting model to float64.\n",
      "2022-06-14 15:08:30 darts.models.forecasting.torch_forecasting_model INFO: Time series values are 64-bits; casting model to float64.\n",
      "2022-06-14 15:08:30 pytorch_lightning.utilities.rank_zero INFO: GPU available: False, used: False\n",
      "2022-06-14 15:08:30 pytorch_lightning.utilities.rank_zero INFO: TPU available: False, using: 0 TPU cores\n",
      "2022-06-14 15:08:30 pytorch_lightning.utilities.rank_zero INFO: IPU available: False, using: 0 IPUs\n",
      "2022-06-14 15:08:30 pytorch_lightning.utilities.rank_zero INFO: HPU available: False, using: 0 HPUs\n",
      "2022-06-14 15:08:30 pytorch_lightning.callbacks.model_summary INFO: \n",
      "  | Name      | Type       | Params\n",
      "-----------------------------------------\n",
      "0 | criterion | MSELoss    | 0     \n",
      "1 | stacks    | ModuleList | 8.5 M \n",
      "-----------------------------------------\n",
      "8.5 M     Trainable params\n",
      "3.2 K     Non-trainable params\n",
      "8.5 M     Total params\n",
      "67.633    Total estimated model params size (MB)\n"
     ]
    },
    {
     "data": {
      "application/vnd.jupyter.widget-view+json": {
       "model_id": "e9b51458e78b4b6697ebfb1c9448e1ef",
       "version_major": 2,
       "version_minor": 0
      },
      "text/plain": [
       "Training: 0it [00:00, ?it/s]"
      ]
     },
     "metadata": {},
     "output_type": "display_data"
    },
    {
     "data": {
      "application/vnd.jupyter.widget-view+json": {
       "model_id": "6bd092caf420402aa141a3677645e2f5",
       "version_major": 2,
       "version_minor": 0
      },
      "text/plain": [
       "Predicting: 11it [00:00, ?it/s]"
      ]
     },
     "metadata": {},
     "output_type": "display_data"
    },
    {
     "name": "stderr",
     "output_type": "stream",
     "text": [
      "[2022-06-14 15:08:36,970] INFO | darts.models.forecasting.torch_forecasting_model | Train dataset contains 602 samples.\n",
      "[2022-06-14 15:08:36,970] INFO | darts.models.forecasting.torch_forecasting_model | Train dataset contains 602 samples.\n",
      "2022-06-14 15:08:36 darts.models.forecasting.torch_forecasting_model INFO: Train dataset contains 602 samples.\n",
      "[2022-06-14 15:08:37,000] INFO | darts.models.forecasting.torch_forecasting_model | Time series values are 64-bits; casting model to float64.\n",
      "[2022-06-14 15:08:37,000] INFO | darts.models.forecasting.torch_forecasting_model | Time series values are 64-bits; casting model to float64.\n",
      "2022-06-14 15:08:37 darts.models.forecasting.torch_forecasting_model INFO: Time series values are 64-bits; casting model to float64.\n",
      "2022-06-14 15:08:37 pytorch_lightning.utilities.rank_zero INFO: GPU available: False, used: False\n",
      "2022-06-14 15:08:37 pytorch_lightning.utilities.rank_zero INFO: TPU available: False, using: 0 TPU cores\n",
      "2022-06-14 15:08:37 pytorch_lightning.utilities.rank_zero INFO: IPU available: False, using: 0 IPUs\n",
      "2022-06-14 15:08:37 pytorch_lightning.utilities.rank_zero INFO: HPU available: False, using: 0 HPUs\n",
      "2022-06-14 15:08:37 pytorch_lightning.callbacks.model_summary INFO: \n",
      "  | Name      | Type       | Params\n",
      "-----------------------------------------\n",
      "0 | criterion | MSELoss    | 0     \n",
      "1 | stacks    | ModuleList | 8.5 M \n",
      "-----------------------------------------\n",
      "8.5 M     Trainable params\n",
      "3.2 K     Non-trainable params\n",
      "8.5 M     Total params\n",
      "67.633    Total estimated model params size (MB)\n"
     ]
    },
    {
     "data": {
      "application/vnd.jupyter.widget-view+json": {
       "model_id": "3a7385b8c98147959e3f8ff434cbd0aa",
       "version_major": 2,
       "version_minor": 0
      },
      "text/plain": [
       "Training: 0it [00:00, ?it/s]"
      ]
     },
     "metadata": {},
     "output_type": "display_data"
    },
    {
     "data": {
      "application/vnd.jupyter.widget-view+json": {
       "model_id": "03606f5a55a84622aa5c45fc1cc3027d",
       "version_major": 2,
       "version_minor": 0
      },
      "text/plain": [
       "Predicting: 3it [00:00, ?it/s]"
      ]
     },
     "metadata": {},
     "output_type": "display_data"
    },
    {
     "name": "stderr",
     "output_type": "stream",
     "text": [
      "[2022-06-14 15:08:40,413] INFO | darts.models.forecasting.torch_forecasting_model | Train dataset contains 2724 samples.\n",
      "[2022-06-14 15:08:40,413] INFO | darts.models.forecasting.torch_forecasting_model | Train dataset contains 2724 samples.\n",
      "2022-06-14 15:08:40 darts.models.forecasting.torch_forecasting_model INFO: Train dataset contains 2724 samples.\n",
      "[2022-06-14 15:08:40,445] INFO | darts.models.forecasting.torch_forecasting_model | Time series values are 64-bits; casting model to float64.\n",
      "[2022-06-14 15:08:40,445] INFO | darts.models.forecasting.torch_forecasting_model | Time series values are 64-bits; casting model to float64.\n",
      "2022-06-14 15:08:40 darts.models.forecasting.torch_forecasting_model INFO: Time series values are 64-bits; casting model to float64.\n",
      "2022-06-14 15:08:40 pytorch_lightning.utilities.rank_zero INFO: GPU available: False, used: False\n",
      "2022-06-14 15:08:40 pytorch_lightning.utilities.rank_zero INFO: TPU available: False, using: 0 TPU cores\n",
      "2022-06-14 15:08:40 pytorch_lightning.utilities.rank_zero INFO: IPU available: False, using: 0 IPUs\n",
      "2022-06-14 15:08:40 pytorch_lightning.utilities.rank_zero INFO: HPU available: False, using: 0 HPUs\n",
      "2022-06-14 15:08:40 pytorch_lightning.callbacks.model_summary INFO: \n",
      "  | Name      | Type       | Params\n",
      "-----------------------------------------\n",
      "0 | criterion | MSELoss    | 0     \n",
      "1 | stacks    | ModuleList | 8.5 M \n",
      "-----------------------------------------\n",
      "8.5 M     Trainable params\n",
      "3.2 K     Non-trainable params\n",
      "8.5 M     Total params\n",
      "67.633    Total estimated model params size (MB)\n"
     ]
    },
    {
     "data": {
      "application/vnd.jupyter.widget-view+json": {
       "model_id": "71113da9a4ba42e9b66f5be55af4e8e6",
       "version_major": 2,
       "version_minor": 0
      },
      "text/plain": [
       "Training: 0it [00:00, ?it/s]"
      ]
     },
     "metadata": {},
     "output_type": "display_data"
    },
    {
     "data": {
      "application/vnd.jupyter.widget-view+json": {
       "model_id": "c765a0cec5d146b9b48f1c5bf96e9857",
       "version_major": 2,
       "version_minor": 0
      },
      "text/plain": [
       "Predicting: 11it [00:00, ?it/s]"
      ]
     },
     "metadata": {},
     "output_type": "display_data"
    },
    {
     "name": "stderr",
     "output_type": "stream",
     "text": [
      "[2022-06-14 15:08:46,937] INFO | darts.models.forecasting.torch_forecasting_model | Train dataset contains 2663 samples.\n",
      "[2022-06-14 15:08:46,937] INFO | darts.models.forecasting.torch_forecasting_model | Train dataset contains 2663 samples.\n",
      "2022-06-14 15:08:46 darts.models.forecasting.torch_forecasting_model INFO: Train dataset contains 2663 samples.\n",
      "[2022-06-14 15:08:46,969] INFO | darts.models.forecasting.torch_forecasting_model | Time series values are 64-bits; casting model to float64.\n",
      "[2022-06-14 15:08:46,969] INFO | darts.models.forecasting.torch_forecasting_model | Time series values are 64-bits; casting model to float64.\n",
      "2022-06-14 15:08:46 darts.models.forecasting.torch_forecasting_model INFO: Time series values are 64-bits; casting model to float64.\n",
      "2022-06-14 15:08:46 pytorch_lightning.utilities.rank_zero INFO: GPU available: False, used: False\n",
      "2022-06-14 15:08:46 pytorch_lightning.utilities.rank_zero INFO: TPU available: False, using: 0 TPU cores\n",
      "2022-06-14 15:08:46 pytorch_lightning.utilities.rank_zero INFO: IPU available: False, using: 0 IPUs\n",
      "2022-06-14 15:08:46 pytorch_lightning.utilities.rank_zero INFO: HPU available: False, using: 0 HPUs\n",
      "2022-06-14 15:08:46 pytorch_lightning.callbacks.model_summary INFO: \n",
      "  | Name      | Type       | Params\n",
      "-----------------------------------------\n",
      "0 | criterion | MSELoss    | 0     \n",
      "1 | stacks    | ModuleList | 8.5 M \n",
      "-----------------------------------------\n",
      "8.5 M     Trainable params\n",
      "3.2 K     Non-trainable params\n",
      "8.5 M     Total params\n",
      "67.633    Total estimated model params size (MB)\n"
     ]
    },
    {
     "data": {
      "application/vnd.jupyter.widget-view+json": {
       "model_id": "0b88c128c03d401dbacdf42e6ed67c8e",
       "version_major": 2,
       "version_minor": 0
      },
      "text/plain": [
       "Training: 0it [00:00, ?it/s]"
      ]
     },
     "metadata": {},
     "output_type": "display_data"
    },
    {
     "data": {
      "application/vnd.jupyter.widget-view+json": {
       "model_id": "e512f79d4321431d8dbf496ad2401082",
       "version_major": 2,
       "version_minor": 0
      },
      "text/plain": [
       "Predicting: 11it [00:00, ?it/s]"
      ]
     },
     "metadata": {},
     "output_type": "display_data"
    },
    {
     "name": "stderr",
     "output_type": "stream",
     "text": [
      "[2022-06-14 15:08:53,248] INFO | darts.models.forecasting.torch_forecasting_model | Train dataset contains 2663 samples.\n",
      "[2022-06-14 15:08:53,248] INFO | darts.models.forecasting.torch_forecasting_model | Train dataset contains 2663 samples.\n",
      "2022-06-14 15:08:53 darts.models.forecasting.torch_forecasting_model INFO: Train dataset contains 2663 samples.\n",
      "[2022-06-14 15:08:53,297] INFO | darts.models.forecasting.torch_forecasting_model | Time series values are 64-bits; casting model to float64.\n",
      "[2022-06-14 15:08:53,297] INFO | darts.models.forecasting.torch_forecasting_model | Time series values are 64-bits; casting model to float64.\n",
      "2022-06-14 15:08:53 darts.models.forecasting.torch_forecasting_model INFO: Time series values are 64-bits; casting model to float64.\n",
      "2022-06-14 15:08:53 pytorch_lightning.utilities.rank_zero INFO: GPU available: False, used: False\n",
      "2022-06-14 15:08:53 pytorch_lightning.utilities.rank_zero INFO: TPU available: False, using: 0 TPU cores\n",
      "2022-06-14 15:08:53 pytorch_lightning.utilities.rank_zero INFO: IPU available: False, using: 0 IPUs\n",
      "2022-06-14 15:08:53 pytorch_lightning.utilities.rank_zero INFO: HPU available: False, using: 0 HPUs\n",
      "2022-06-14 15:08:53 pytorch_lightning.callbacks.model_summary INFO: \n",
      "  | Name      | Type       | Params\n",
      "-----------------------------------------\n",
      "0 | criterion | MSELoss    | 0     \n",
      "1 | stacks    | ModuleList | 8.5 M \n",
      "-----------------------------------------\n",
      "8.5 M     Trainable params\n",
      "3.2 K     Non-trainable params\n",
      "8.5 M     Total params\n",
      "67.633    Total estimated model params size (MB)\n"
     ]
    },
    {
     "data": {
      "application/vnd.jupyter.widget-view+json": {
       "model_id": "025033ba2d3d40dd931e4974d5be395b",
       "version_major": 2,
       "version_minor": 0
      },
      "text/plain": [
       "Training: 0it [00:00, ?it/s]"
      ]
     },
     "metadata": {},
     "output_type": "display_data"
    },
    {
     "data": {
      "application/vnd.jupyter.widget-view+json": {
       "model_id": "d81ca0deb7a14ec9b2c8076ba0085254",
       "version_major": 2,
       "version_minor": 0
      },
      "text/plain": [
       "Predicting: 11it [00:00, ?it/s]"
      ]
     },
     "metadata": {},
     "output_type": "display_data"
    },
    {
     "name": "stderr",
     "output_type": "stream",
     "text": [
      "[2022-06-14 15:08:59,093] INFO | darts.models.forecasting.torch_forecasting_model | Train dataset contains 2707 samples.\n",
      "[2022-06-14 15:08:59,093] INFO | darts.models.forecasting.torch_forecasting_model | Train dataset contains 2707 samples.\n",
      "2022-06-14 15:08:59 darts.models.forecasting.torch_forecasting_model INFO: Train dataset contains 2707 samples.\n",
      "[2022-06-14 15:08:59,142] INFO | darts.models.forecasting.torch_forecasting_model | Time series values are 64-bits; casting model to float64.\n",
      "[2022-06-14 15:08:59,142] INFO | darts.models.forecasting.torch_forecasting_model | Time series values are 64-bits; casting model to float64.\n",
      "2022-06-14 15:08:59 darts.models.forecasting.torch_forecasting_model INFO: Time series values are 64-bits; casting model to float64.\n",
      "2022-06-14 15:08:59 pytorch_lightning.utilities.rank_zero INFO: GPU available: False, used: False\n",
      "2022-06-14 15:08:59 pytorch_lightning.utilities.rank_zero INFO: TPU available: False, using: 0 TPU cores\n",
      "2022-06-14 15:08:59 pytorch_lightning.utilities.rank_zero INFO: IPU available: False, using: 0 IPUs\n",
      "2022-06-14 15:08:59 pytorch_lightning.utilities.rank_zero INFO: HPU available: False, using: 0 HPUs\n",
      "2022-06-14 15:08:59 pytorch_lightning.callbacks.model_summary INFO: \n",
      "  | Name      | Type       | Params\n",
      "-----------------------------------------\n",
      "0 | criterion | MSELoss    | 0     \n",
      "1 | stacks    | ModuleList | 8.5 M \n",
      "-----------------------------------------\n",
      "8.5 M     Trainable params\n",
      "3.2 K     Non-trainable params\n",
      "8.5 M     Total params\n",
      "67.633    Total estimated model params size (MB)\n"
     ]
    },
    {
     "data": {
      "application/vnd.jupyter.widget-view+json": {
       "model_id": "86d3d57452cc4252b0935144b3539e47",
       "version_major": 2,
       "version_minor": 0
      },
      "text/plain": [
       "Training: 0it [00:00, ?it/s]"
      ]
     },
     "metadata": {},
     "output_type": "display_data"
    },
    {
     "data": {
      "application/vnd.jupyter.widget-view+json": {
       "model_id": "40a80ead904c4deb85a71b15852c4487",
       "version_major": 2,
       "version_minor": 0
      },
      "text/plain": [
       "Predicting: 11it [00:00, ?it/s]"
      ]
     },
     "metadata": {},
     "output_type": "display_data"
    },
    {
     "name": "stderr",
     "output_type": "stream",
     "text": [
      "[2022-06-14 15:09:04,860] INFO | darts.models.forecasting.torch_forecasting_model | Train dataset contains 2731 samples.\n",
      "[2022-06-14 15:09:04,860] INFO | darts.models.forecasting.torch_forecasting_model | Train dataset contains 2731 samples.\n",
      "2022-06-14 15:09:04 darts.models.forecasting.torch_forecasting_model INFO: Train dataset contains 2731 samples.\n",
      "[2022-06-14 15:09:04,890] INFO | darts.models.forecasting.torch_forecasting_model | Time series values are 64-bits; casting model to float64.\n",
      "[2022-06-14 15:09:04,890] INFO | darts.models.forecasting.torch_forecasting_model | Time series values are 64-bits; casting model to float64.\n",
      "2022-06-14 15:09:04 darts.models.forecasting.torch_forecasting_model INFO: Time series values are 64-bits; casting model to float64.\n",
      "2022-06-14 15:09:04 pytorch_lightning.utilities.rank_zero INFO: GPU available: False, used: False\n",
      "2022-06-14 15:09:04 pytorch_lightning.utilities.rank_zero INFO: TPU available: False, using: 0 TPU cores\n",
      "2022-06-14 15:09:04 pytorch_lightning.utilities.rank_zero INFO: IPU available: False, using: 0 IPUs\n",
      "2022-06-14 15:09:04 pytorch_lightning.utilities.rank_zero INFO: HPU available: False, using: 0 HPUs\n",
      "2022-06-14 15:09:04 pytorch_lightning.callbacks.model_summary INFO: \n",
      "  | Name      | Type       | Params\n",
      "-----------------------------------------\n",
      "0 | criterion | MSELoss    | 0     \n",
      "1 | stacks    | ModuleList | 8.5 M \n",
      "-----------------------------------------\n",
      "8.5 M     Trainable params\n",
      "3.2 K     Non-trainable params\n",
      "8.5 M     Total params\n",
      "67.633    Total estimated model params size (MB)\n"
     ]
    },
    {
     "data": {
      "application/vnd.jupyter.widget-view+json": {
       "model_id": "6368acb35ad340d492bb967f868d02be",
       "version_major": 2,
       "version_minor": 0
      },
      "text/plain": [
       "Training: 0it [00:00, ?it/s]"
      ]
     },
     "metadata": {},
     "output_type": "display_data"
    },
    {
     "data": {
      "application/vnd.jupyter.widget-view+json": {
       "model_id": "24fd42e81fac45f28e990b1dc905a5cf",
       "version_major": 2,
       "version_minor": 0
      },
      "text/plain": [
       "Predicting: 11it [00:00, ?it/s]"
      ]
     },
     "metadata": {},
     "output_type": "display_data"
    },
    {
     "name": "stderr",
     "output_type": "stream",
     "text": [
      "[2022-06-14 15:09:10,625] INFO | darts.models.forecasting.torch_forecasting_model | Train dataset contains 529 samples.\n",
      "[2022-06-14 15:09:10,625] INFO | darts.models.forecasting.torch_forecasting_model | Train dataset contains 529 samples.\n",
      "2022-06-14 15:09:10 darts.models.forecasting.torch_forecasting_model INFO: Train dataset contains 529 samples.\n",
      "[2022-06-14 15:09:10,654] INFO | darts.models.forecasting.torch_forecasting_model | Time series values are 64-bits; casting model to float64.\n",
      "[2022-06-14 15:09:10,654] INFO | darts.models.forecasting.torch_forecasting_model | Time series values are 64-bits; casting model to float64.\n",
      "2022-06-14 15:09:10 darts.models.forecasting.torch_forecasting_model INFO: Time series values are 64-bits; casting model to float64.\n",
      "2022-06-14 15:09:10 pytorch_lightning.utilities.rank_zero INFO: GPU available: False, used: False\n",
      "2022-06-14 15:09:10 pytorch_lightning.utilities.rank_zero INFO: TPU available: False, using: 0 TPU cores\n",
      "2022-06-14 15:09:10 pytorch_lightning.utilities.rank_zero INFO: IPU available: False, using: 0 IPUs\n",
      "2022-06-14 15:09:10 pytorch_lightning.utilities.rank_zero INFO: HPU available: False, using: 0 HPUs\n",
      "2022-06-14 15:09:10 pytorch_lightning.callbacks.model_summary INFO: \n",
      "  | Name      | Type       | Params\n",
      "-----------------------------------------\n",
      "0 | criterion | MSELoss    | 0     \n",
      "1 | stacks    | ModuleList | 8.5 M \n",
      "-----------------------------------------\n",
      "8.5 M     Trainable params\n",
      "3.2 K     Non-trainable params\n",
      "8.5 M     Total params\n",
      "67.633    Total estimated model params size (MB)\n"
     ]
    },
    {
     "data": {
      "application/vnd.jupyter.widget-view+json": {
       "model_id": "7adc2a880a32483887496241ecb3bad6",
       "version_major": 2,
       "version_minor": 0
      },
      "text/plain": [
       "Training: 0it [00:00, ?it/s]"
      ]
     },
     "metadata": {},
     "output_type": "display_data"
    },
    {
     "data": {
      "application/vnd.jupyter.widget-view+json": {
       "model_id": "daf81379ddbc48b09773c7bd68f4bf29",
       "version_major": 2,
       "version_minor": 0
      },
      "text/plain": [
       "Predicting: 3it [00:00, ?it/s]"
      ]
     },
     "metadata": {},
     "output_type": "display_data"
    },
    {
     "name": "stderr",
     "output_type": "stream",
     "text": [
      "[2022-06-14 15:09:13,531] INFO | darts.models.forecasting.torch_forecasting_model | Train dataset contains 2730 samples.\n",
      "[2022-06-14 15:09:13,531] INFO | darts.models.forecasting.torch_forecasting_model | Train dataset contains 2730 samples.\n",
      "2022-06-14 15:09:13 darts.models.forecasting.torch_forecasting_model INFO: Train dataset contains 2730 samples.\n",
      "[2022-06-14 15:09:13,560] INFO | darts.models.forecasting.torch_forecasting_model | Time series values are 64-bits; casting model to float64.\n",
      "[2022-06-14 15:09:13,560] INFO | darts.models.forecasting.torch_forecasting_model | Time series values are 64-bits; casting model to float64.\n",
      "2022-06-14 15:09:13 darts.models.forecasting.torch_forecasting_model INFO: Time series values are 64-bits; casting model to float64.\n",
      "2022-06-14 15:09:13 pytorch_lightning.utilities.rank_zero INFO: GPU available: False, used: False\n",
      "2022-06-14 15:09:13 pytorch_lightning.utilities.rank_zero INFO: TPU available: False, using: 0 TPU cores\n",
      "2022-06-14 15:09:13 pytorch_lightning.utilities.rank_zero INFO: IPU available: False, using: 0 IPUs\n",
      "2022-06-14 15:09:13 pytorch_lightning.utilities.rank_zero INFO: HPU available: False, using: 0 HPUs\n",
      "2022-06-14 15:09:13 pytorch_lightning.callbacks.model_summary INFO: \n",
      "  | Name      | Type       | Params\n",
      "-----------------------------------------\n",
      "0 | criterion | MSELoss    | 0     \n",
      "1 | stacks    | ModuleList | 8.5 M \n",
      "-----------------------------------------\n",
      "8.5 M     Trainable params\n",
      "3.2 K     Non-trainable params\n",
      "8.5 M     Total params\n",
      "67.633    Total estimated model params size (MB)\n"
     ]
    },
    {
     "data": {
      "application/vnd.jupyter.widget-view+json": {
       "model_id": "c04b31a1d09f412690e79532f438e5a0",
       "version_major": 2,
       "version_minor": 0
      },
      "text/plain": [
       "Training: 0it [00:00, ?it/s]"
      ]
     },
     "metadata": {},
     "output_type": "display_data"
    },
    {
     "data": {
      "application/vnd.jupyter.widget-view+json": {
       "model_id": "7f2fe3d109de4ebc93e25b6a991d9551",
       "version_major": 2,
       "version_minor": 0
      },
      "text/plain": [
       "Predicting: 11it [00:00, ?it/s]"
      ]
     },
     "metadata": {},
     "output_type": "display_data"
    },
    {
     "name": "stderr",
     "output_type": "stream",
     "text": [
      "[2022-06-14 15:09:22,147] INFO | darts.models.forecasting.torch_forecasting_model | Train dataset contains 2726 samples.\n",
      "[2022-06-14 15:09:22,147] INFO | darts.models.forecasting.torch_forecasting_model | Train dataset contains 2726 samples.\n",
      "2022-06-14 15:09:22 darts.models.forecasting.torch_forecasting_model INFO: Train dataset contains 2726 samples.\n",
      "[2022-06-14 15:09:22,180] INFO | darts.models.forecasting.torch_forecasting_model | Time series values are 64-bits; casting model to float64.\n",
      "[2022-06-14 15:09:22,180] INFO | darts.models.forecasting.torch_forecasting_model | Time series values are 64-bits; casting model to float64.\n",
      "2022-06-14 15:09:22 darts.models.forecasting.torch_forecasting_model INFO: Time series values are 64-bits; casting model to float64.\n",
      "2022-06-14 15:09:22 pytorch_lightning.utilities.rank_zero INFO: GPU available: False, used: False\n",
      "2022-06-14 15:09:22 pytorch_lightning.utilities.rank_zero INFO: TPU available: False, using: 0 TPU cores\n",
      "2022-06-14 15:09:22 pytorch_lightning.utilities.rank_zero INFO: IPU available: False, using: 0 IPUs\n",
      "2022-06-14 15:09:22 pytorch_lightning.utilities.rank_zero INFO: HPU available: False, using: 0 HPUs\n",
      "2022-06-14 15:09:22 pytorch_lightning.callbacks.model_summary INFO: \n",
      "  | Name      | Type       | Params\n",
      "-----------------------------------------\n",
      "0 | criterion | MSELoss    | 0     \n",
      "1 | stacks    | ModuleList | 8.5 M \n",
      "-----------------------------------------\n",
      "8.5 M     Trainable params\n",
      "3.2 K     Non-trainable params\n",
      "8.5 M     Total params\n",
      "67.633    Total estimated model params size (MB)\n"
     ]
    },
    {
     "data": {
      "application/vnd.jupyter.widget-view+json": {
       "model_id": "cc7502e7f1a640e185e56d85ad97cb5d",
       "version_major": 2,
       "version_minor": 0
      },
      "text/plain": [
       "Training: 0it [00:00, ?it/s]"
      ]
     },
     "metadata": {},
     "output_type": "display_data"
    },
    {
     "data": {
      "application/vnd.jupyter.widget-view+json": {
       "model_id": "45eeee3df3964811a46785979ec85048",
       "version_major": 2,
       "version_minor": 0
      },
      "text/plain": [
       "Predicting: 11it [00:00, ?it/s]"
      ]
     },
     "metadata": {},
     "output_type": "display_data"
    },
    {
     "name": "stderr",
     "output_type": "stream",
     "text": [
      "[2022-06-14 15:09:28,068] INFO | darts.models.forecasting.torch_forecasting_model | Train dataset contains 2726 samples.\n",
      "[2022-06-14 15:09:28,068] INFO | darts.models.forecasting.torch_forecasting_model | Train dataset contains 2726 samples.\n",
      "2022-06-14 15:09:28 darts.models.forecasting.torch_forecasting_model INFO: Train dataset contains 2726 samples.\n",
      "[2022-06-14 15:09:28,098] INFO | darts.models.forecasting.torch_forecasting_model | Time series values are 64-bits; casting model to float64.\n",
      "[2022-06-14 15:09:28,098] INFO | darts.models.forecasting.torch_forecasting_model | Time series values are 64-bits; casting model to float64.\n",
      "2022-06-14 15:09:28 darts.models.forecasting.torch_forecasting_model INFO: Time series values are 64-bits; casting model to float64.\n",
      "2022-06-14 15:09:28 pytorch_lightning.utilities.rank_zero INFO: GPU available: False, used: False\n",
      "2022-06-14 15:09:28 pytorch_lightning.utilities.rank_zero INFO: TPU available: False, using: 0 TPU cores\n",
      "2022-06-14 15:09:28 pytorch_lightning.utilities.rank_zero INFO: IPU available: False, using: 0 IPUs\n",
      "2022-06-14 15:09:28 pytorch_lightning.utilities.rank_zero INFO: HPU available: False, using: 0 HPUs\n",
      "2022-06-14 15:09:28 pytorch_lightning.callbacks.model_summary INFO: \n",
      "  | Name      | Type       | Params\n",
      "-----------------------------------------\n",
      "0 | criterion | MSELoss    | 0     \n",
      "1 | stacks    | ModuleList | 8.5 M \n",
      "-----------------------------------------\n",
      "8.5 M     Trainable params\n",
      "3.2 K     Non-trainable params\n",
      "8.5 M     Total params\n",
      "67.633    Total estimated model params size (MB)\n"
     ]
    },
    {
     "data": {
      "application/vnd.jupyter.widget-view+json": {
       "model_id": "8ab874db26794f74b65e6a10d14acc12",
       "version_major": 2,
       "version_minor": 0
      },
      "text/plain": [
       "Training: 0it [00:00, ?it/s]"
      ]
     },
     "metadata": {},
     "output_type": "display_data"
    },
    {
     "data": {
      "application/vnd.jupyter.widget-view+json": {
       "model_id": "88b77df9a8cb4d58929bbe3b52a4560b",
       "version_major": 2,
       "version_minor": 0
      },
      "text/plain": [
       "Predicting: 11it [00:00, ?it/s]"
      ]
     },
     "metadata": {},
     "output_type": "display_data"
    },
    {
     "name": "stderr",
     "output_type": "stream",
     "text": [
      "[2022-06-14 15:09:33,680] INFO | darts.models.forecasting.torch_forecasting_model | Train dataset contains 2700 samples.\n",
      "[2022-06-14 15:09:33,680] INFO | darts.models.forecasting.torch_forecasting_model | Train dataset contains 2700 samples.\n",
      "2022-06-14 15:09:33 darts.models.forecasting.torch_forecasting_model INFO: Train dataset contains 2700 samples.\n",
      "[2022-06-14 15:09:33,710] INFO | darts.models.forecasting.torch_forecasting_model | Time series values are 64-bits; casting model to float64.\n",
      "[2022-06-14 15:09:33,710] INFO | darts.models.forecasting.torch_forecasting_model | Time series values are 64-bits; casting model to float64.\n",
      "2022-06-14 15:09:33 darts.models.forecasting.torch_forecasting_model INFO: Time series values are 64-bits; casting model to float64.\n",
      "2022-06-14 15:09:33 pytorch_lightning.utilities.rank_zero INFO: GPU available: False, used: False\n",
      "2022-06-14 15:09:33 pytorch_lightning.utilities.rank_zero INFO: TPU available: False, using: 0 TPU cores\n",
      "2022-06-14 15:09:33 pytorch_lightning.utilities.rank_zero INFO: IPU available: False, using: 0 IPUs\n",
      "2022-06-14 15:09:33 pytorch_lightning.utilities.rank_zero INFO: HPU available: False, using: 0 HPUs\n",
      "2022-06-14 15:09:33 pytorch_lightning.callbacks.model_summary INFO: \n",
      "  | Name      | Type       | Params\n",
      "-----------------------------------------\n",
      "0 | criterion | MSELoss    | 0     \n",
      "1 | stacks    | ModuleList | 8.5 M \n",
      "-----------------------------------------\n",
      "8.5 M     Trainable params\n",
      "3.2 K     Non-trainable params\n",
      "8.5 M     Total params\n",
      "67.633    Total estimated model params size (MB)\n"
     ]
    },
    {
     "data": {
      "application/vnd.jupyter.widget-view+json": {
       "model_id": "1f4a41e804c34cfcb55297bc38db9e43",
       "version_major": 2,
       "version_minor": 0
      },
      "text/plain": [
       "Training: 0it [00:00, ?it/s]"
      ]
     },
     "metadata": {},
     "output_type": "display_data"
    },
    {
     "data": {
      "application/vnd.jupyter.widget-view+json": {
       "model_id": "f33d654d248a40d4b669758d934685c1",
       "version_major": 2,
       "version_minor": 0
      },
      "text/plain": [
       "Predicting: 11it [00:00, ?it/s]"
      ]
     },
     "metadata": {},
     "output_type": "display_data"
    },
    {
     "name": "stderr",
     "output_type": "stream",
     "text": [
      "[2022-06-14 15:09:39,590] INFO | darts.models.forecasting.torch_forecasting_model | Train dataset contains 2670 samples.\n",
      "[2022-06-14 15:09:39,590] INFO | darts.models.forecasting.torch_forecasting_model | Train dataset contains 2670 samples.\n",
      "2022-06-14 15:09:39 darts.models.forecasting.torch_forecasting_model INFO: Train dataset contains 2670 samples.\n",
      "[2022-06-14 15:09:39,637] INFO | darts.models.forecasting.torch_forecasting_model | Time series values are 64-bits; casting model to float64.\n",
      "[2022-06-14 15:09:39,637] INFO | darts.models.forecasting.torch_forecasting_model | Time series values are 64-bits; casting model to float64.\n",
      "2022-06-14 15:09:39 darts.models.forecasting.torch_forecasting_model INFO: Time series values are 64-bits; casting model to float64.\n",
      "2022-06-14 15:09:39 pytorch_lightning.utilities.rank_zero INFO: GPU available: False, used: False\n",
      "2022-06-14 15:09:39 pytorch_lightning.utilities.rank_zero INFO: TPU available: False, using: 0 TPU cores\n",
      "2022-06-14 15:09:39 pytorch_lightning.utilities.rank_zero INFO: IPU available: False, using: 0 IPUs\n",
      "2022-06-14 15:09:39 pytorch_lightning.utilities.rank_zero INFO: HPU available: False, using: 0 HPUs\n",
      "2022-06-14 15:09:39 pytorch_lightning.callbacks.model_summary INFO: \n",
      "  | Name      | Type       | Params\n",
      "-----------------------------------------\n",
      "0 | criterion | MSELoss    | 0     \n",
      "1 | stacks    | ModuleList | 8.5 M \n",
      "-----------------------------------------\n",
      "8.5 M     Trainable params\n",
      "3.2 K     Non-trainable params\n",
      "8.5 M     Total params\n",
      "67.633    Total estimated model params size (MB)\n"
     ]
    },
    {
     "data": {
      "application/vnd.jupyter.widget-view+json": {
       "model_id": "fc3df1d6271840929e346fa207c9804a",
       "version_major": 2,
       "version_minor": 0
      },
      "text/plain": [
       "Training: 0it [00:00, ?it/s]"
      ]
     },
     "metadata": {},
     "output_type": "display_data"
    },
    {
     "data": {
      "application/vnd.jupyter.widget-view+json": {
       "model_id": "72f8685232264b2b936607fa90b76e05",
       "version_major": 2,
       "version_minor": 0
      },
      "text/plain": [
       "Predicting: 11it [00:00, ?it/s]"
      ]
     },
     "metadata": {},
     "output_type": "display_data"
    },
    {
     "name": "stderr",
     "output_type": "stream",
     "text": [
      "[2022-06-14 15:09:45,593] INFO | darts.models.forecasting.torch_forecasting_model | Train dataset contains 2731 samples.\n",
      "[2022-06-14 15:09:45,593] INFO | darts.models.forecasting.torch_forecasting_model | Train dataset contains 2731 samples.\n",
      "2022-06-14 15:09:45 darts.models.forecasting.torch_forecasting_model INFO: Train dataset contains 2731 samples.\n",
      "[2022-06-14 15:09:45,622] INFO | darts.models.forecasting.torch_forecasting_model | Time series values are 64-bits; casting model to float64.\n",
      "[2022-06-14 15:09:45,622] INFO | darts.models.forecasting.torch_forecasting_model | Time series values are 64-bits; casting model to float64.\n",
      "2022-06-14 15:09:45 darts.models.forecasting.torch_forecasting_model INFO: Time series values are 64-bits; casting model to float64.\n",
      "2022-06-14 15:09:45 pytorch_lightning.utilities.rank_zero INFO: GPU available: False, used: False\n",
      "2022-06-14 15:09:45 pytorch_lightning.utilities.rank_zero INFO: TPU available: False, using: 0 TPU cores\n",
      "2022-06-14 15:09:45 pytorch_lightning.utilities.rank_zero INFO: IPU available: False, using: 0 IPUs\n",
      "2022-06-14 15:09:45 pytorch_lightning.utilities.rank_zero INFO: HPU available: False, using: 0 HPUs\n",
      "2022-06-14 15:09:45 pytorch_lightning.callbacks.model_summary INFO: \n",
      "  | Name      | Type       | Params\n",
      "-----------------------------------------\n",
      "0 | criterion | MSELoss    | 0     \n",
      "1 | stacks    | ModuleList | 8.5 M \n",
      "-----------------------------------------\n",
      "8.5 M     Trainable params\n",
      "3.2 K     Non-trainable params\n",
      "8.5 M     Total params\n",
      "67.633    Total estimated model params size (MB)\n"
     ]
    },
    {
     "data": {
      "application/vnd.jupyter.widget-view+json": {
       "model_id": "c84ef77a80d24483a762ec5ed024fc72",
       "version_major": 2,
       "version_minor": 0
      },
      "text/plain": [
       "Training: 0it [00:00, ?it/s]"
      ]
     },
     "metadata": {},
     "output_type": "display_data"
    },
    {
     "data": {
      "application/vnd.jupyter.widget-view+json": {
       "model_id": "961c66f93181451493036ddca541ce1f",
       "version_major": 2,
       "version_minor": 0
      },
      "text/plain": [
       "Predicting: 11it [00:00, ?it/s]"
      ]
     },
     "metadata": {},
     "output_type": "display_data"
    },
    {
     "name": "stderr",
     "output_type": "stream",
     "text": [
      "[2022-06-14 15:09:51,428] INFO | darts.models.forecasting.torch_forecasting_model | Train dataset contains 2669 samples.\n",
      "[2022-06-14 15:09:51,428] INFO | darts.models.forecasting.torch_forecasting_model | Train dataset contains 2669 samples.\n",
      "2022-06-14 15:09:51 darts.models.forecasting.torch_forecasting_model INFO: Train dataset contains 2669 samples.\n",
      "[2022-06-14 15:09:51,457] INFO | darts.models.forecasting.torch_forecasting_model | Time series values are 64-bits; casting model to float64.\n",
      "[2022-06-14 15:09:51,457] INFO | darts.models.forecasting.torch_forecasting_model | Time series values are 64-bits; casting model to float64.\n",
      "2022-06-14 15:09:51 darts.models.forecasting.torch_forecasting_model INFO: Time series values are 64-bits; casting model to float64.\n",
      "2022-06-14 15:09:51 pytorch_lightning.utilities.rank_zero INFO: GPU available: False, used: False\n",
      "2022-06-14 15:09:51 pytorch_lightning.utilities.rank_zero INFO: TPU available: False, using: 0 TPU cores\n",
      "2022-06-14 15:09:51 pytorch_lightning.utilities.rank_zero INFO: IPU available: False, using: 0 IPUs\n",
      "2022-06-14 15:09:51 pytorch_lightning.utilities.rank_zero INFO: HPU available: False, using: 0 HPUs\n",
      "2022-06-14 15:09:51 pytorch_lightning.callbacks.model_summary INFO: \n",
      "  | Name      | Type       | Params\n",
      "-----------------------------------------\n",
      "0 | criterion | MSELoss    | 0     \n",
      "1 | stacks    | ModuleList | 8.5 M \n",
      "-----------------------------------------\n",
      "8.5 M     Trainable params\n",
      "3.2 K     Non-trainable params\n",
      "8.5 M     Total params\n",
      "67.633    Total estimated model params size (MB)\n"
     ]
    },
    {
     "data": {
      "application/vnd.jupyter.widget-view+json": {
       "model_id": "347b27f93dd745b7bc76adcee0623e91",
       "version_major": 2,
       "version_minor": 0
      },
      "text/plain": [
       "Training: 0it [00:00, ?it/s]"
      ]
     },
     "metadata": {},
     "output_type": "display_data"
    },
    {
     "data": {
      "application/vnd.jupyter.widget-view+json": {
       "model_id": "df98f55482fd4011a37fe2d16ec36250",
       "version_major": 2,
       "version_minor": 0
      },
      "text/plain": [
       "Predicting: 11it [00:00, ?it/s]"
      ]
     },
     "metadata": {},
     "output_type": "display_data"
    },
    {
     "name": "stderr",
     "output_type": "stream",
     "text": [
      "[2022-06-14 15:09:57,377] INFO | darts.models.forecasting.torch_forecasting_model | Train dataset contains 2014 samples.\n",
      "[2022-06-14 15:09:57,377] INFO | darts.models.forecasting.torch_forecasting_model | Train dataset contains 2014 samples.\n",
      "2022-06-14 15:09:57 darts.models.forecasting.torch_forecasting_model INFO: Train dataset contains 2014 samples.\n",
      "[2022-06-14 15:09:57,406] INFO | darts.models.forecasting.torch_forecasting_model | Time series values are 64-bits; casting model to float64.\n",
      "[2022-06-14 15:09:57,406] INFO | darts.models.forecasting.torch_forecasting_model | Time series values are 64-bits; casting model to float64.\n",
      "2022-06-14 15:09:57 darts.models.forecasting.torch_forecasting_model INFO: Time series values are 64-bits; casting model to float64.\n",
      "2022-06-14 15:09:57 pytorch_lightning.utilities.rank_zero INFO: GPU available: False, used: False\n",
      "2022-06-14 15:09:57 pytorch_lightning.utilities.rank_zero INFO: TPU available: False, using: 0 TPU cores\n",
      "2022-06-14 15:09:57 pytorch_lightning.utilities.rank_zero INFO: IPU available: False, using: 0 IPUs\n",
      "2022-06-14 15:09:57 pytorch_lightning.utilities.rank_zero INFO: HPU available: False, using: 0 HPUs\n",
      "2022-06-14 15:09:57 pytorch_lightning.callbacks.model_summary INFO: \n",
      "  | Name      | Type       | Params\n",
      "-----------------------------------------\n",
      "0 | criterion | MSELoss    | 0     \n",
      "1 | stacks    | ModuleList | 8.5 M \n",
      "-----------------------------------------\n",
      "8.5 M     Trainable params\n",
      "3.2 K     Non-trainable params\n",
      "8.5 M     Total params\n",
      "67.633    Total estimated model params size (MB)\n"
     ]
    },
    {
     "data": {
      "application/vnd.jupyter.widget-view+json": {
       "model_id": "577c5d374ca0452c8c806641c9d1fd39",
       "version_major": 2,
       "version_minor": 0
      },
      "text/plain": [
       "Training: 0it [00:00, ?it/s]"
      ]
     },
     "metadata": {},
     "output_type": "display_data"
    },
    {
     "data": {
      "application/vnd.jupyter.widget-view+json": {
       "model_id": "bf55c703acec4cad842a4fa1f2a6593b",
       "version_major": 2,
       "version_minor": 0
      },
      "text/plain": [
       "Predicting: 8it [00:00, ?it/s]"
      ]
     },
     "metadata": {},
     "output_type": "display_data"
    },
    {
     "name": "stderr",
     "output_type": "stream",
     "text": [
      "[2022-06-14 15:10:02,371] INFO | darts.models.forecasting.torch_forecasting_model | Train dataset contains 2014 samples.\n",
      "[2022-06-14 15:10:02,371] INFO | darts.models.forecasting.torch_forecasting_model | Train dataset contains 2014 samples.\n",
      "2022-06-14 15:10:02 darts.models.forecasting.torch_forecasting_model INFO: Train dataset contains 2014 samples.\n",
      "[2022-06-14 15:10:02,400] INFO | darts.models.forecasting.torch_forecasting_model | Time series values are 64-bits; casting model to float64.\n",
      "[2022-06-14 15:10:02,400] INFO | darts.models.forecasting.torch_forecasting_model | Time series values are 64-bits; casting model to float64.\n",
      "2022-06-14 15:10:02 darts.models.forecasting.torch_forecasting_model INFO: Time series values are 64-bits; casting model to float64.\n",
      "2022-06-14 15:10:02 pytorch_lightning.utilities.rank_zero INFO: GPU available: False, used: False\n",
      "2022-06-14 15:10:02 pytorch_lightning.utilities.rank_zero INFO: TPU available: False, using: 0 TPU cores\n",
      "2022-06-14 15:10:02 pytorch_lightning.utilities.rank_zero INFO: IPU available: False, using: 0 IPUs\n",
      "2022-06-14 15:10:02 pytorch_lightning.utilities.rank_zero INFO: HPU available: False, using: 0 HPUs\n",
      "2022-06-14 15:10:02 pytorch_lightning.callbacks.model_summary INFO: \n",
      "  | Name      | Type       | Params\n",
      "-----------------------------------------\n",
      "0 | criterion | MSELoss    | 0     \n",
      "1 | stacks    | ModuleList | 8.5 M \n",
      "-----------------------------------------\n",
      "8.5 M     Trainable params\n",
      "3.2 K     Non-trainable params\n",
      "8.5 M     Total params\n",
      "67.633    Total estimated model params size (MB)\n"
     ]
    },
    {
     "data": {
      "application/vnd.jupyter.widget-view+json": {
       "model_id": "94585e27d9ff46c1a5f727efeb6fd6dc",
       "version_major": 2,
       "version_minor": 0
      },
      "text/plain": [
       "Training: 0it [00:00, ?it/s]"
      ]
     },
     "metadata": {},
     "output_type": "display_data"
    },
    {
     "data": {
      "application/vnd.jupyter.widget-view+json": {
       "model_id": "6d7435e62e9f47cca050aec7d538ec7c",
       "version_major": 2,
       "version_minor": 0
      },
      "text/plain": [
       "Predicting: 8it [00:00, ?it/s]"
      ]
     },
     "metadata": {},
     "output_type": "display_data"
    },
    {
     "name": "stderr",
     "output_type": "stream",
     "text": [
      "[2022-06-14 15:10:07,401] INFO | darts.models.forecasting.torch_forecasting_model | Train dataset contains 2672 samples.\n",
      "[2022-06-14 15:10:07,401] INFO | darts.models.forecasting.torch_forecasting_model | Train dataset contains 2672 samples.\n",
      "2022-06-14 15:10:07 darts.models.forecasting.torch_forecasting_model INFO: Train dataset contains 2672 samples.\n",
      "[2022-06-14 15:10:07,431] INFO | darts.models.forecasting.torch_forecasting_model | Time series values are 64-bits; casting model to float64.\n",
      "[2022-06-14 15:10:07,431] INFO | darts.models.forecasting.torch_forecasting_model | Time series values are 64-bits; casting model to float64.\n",
      "2022-06-14 15:10:07 darts.models.forecasting.torch_forecasting_model INFO: Time series values are 64-bits; casting model to float64.\n",
      "2022-06-14 15:10:07 pytorch_lightning.utilities.rank_zero INFO: GPU available: False, used: False\n",
      "2022-06-14 15:10:07 pytorch_lightning.utilities.rank_zero INFO: TPU available: False, using: 0 TPU cores\n",
      "2022-06-14 15:10:07 pytorch_lightning.utilities.rank_zero INFO: IPU available: False, using: 0 IPUs\n",
      "2022-06-14 15:10:07 pytorch_lightning.utilities.rank_zero INFO: HPU available: False, using: 0 HPUs\n",
      "2022-06-14 15:10:07 pytorch_lightning.callbacks.model_summary INFO: \n",
      "  | Name      | Type       | Params\n",
      "-----------------------------------------\n",
      "0 | criterion | MSELoss    | 0     \n",
      "1 | stacks    | ModuleList | 8.5 M \n",
      "-----------------------------------------\n",
      "8.5 M     Trainable params\n",
      "3.2 K     Non-trainable params\n",
      "8.5 M     Total params\n",
      "67.633    Total estimated model params size (MB)\n"
     ]
    },
    {
     "data": {
      "application/vnd.jupyter.widget-view+json": {
       "model_id": "0422c864dec540d1b901f753c9cf027b",
       "version_major": 2,
       "version_minor": 0
      },
      "text/plain": [
       "Training: 0it [00:00, ?it/s]"
      ]
     },
     "metadata": {},
     "output_type": "display_data"
    },
    {
     "data": {
      "application/vnd.jupyter.widget-view+json": {
       "model_id": "c926787466d7457cbe607f4e6234bf50",
       "version_major": 2,
       "version_minor": 0
      },
      "text/plain": [
       "Predicting: 11it [00:00, ?it/s]"
      ]
     },
     "metadata": {},
     "output_type": "display_data"
    },
    {
     "name": "stderr",
     "output_type": "stream",
     "text": [
      "[2022-06-14 15:10:13,350] INFO | darts.models.forecasting.torch_forecasting_model | Train dataset contains 2730 samples.\n",
      "[2022-06-14 15:10:13,350] INFO | darts.models.forecasting.torch_forecasting_model | Train dataset contains 2730 samples.\n",
      "2022-06-14 15:10:13 darts.models.forecasting.torch_forecasting_model INFO: Train dataset contains 2730 samples.\n",
      "[2022-06-14 15:10:13,380] INFO | darts.models.forecasting.torch_forecasting_model | Time series values are 64-bits; casting model to float64.\n",
      "[2022-06-14 15:10:13,380] INFO | darts.models.forecasting.torch_forecasting_model | Time series values are 64-bits; casting model to float64.\n",
      "2022-06-14 15:10:13 darts.models.forecasting.torch_forecasting_model INFO: Time series values are 64-bits; casting model to float64.\n",
      "2022-06-14 15:10:13 pytorch_lightning.utilities.rank_zero INFO: GPU available: False, used: False\n",
      "2022-06-14 15:10:13 pytorch_lightning.utilities.rank_zero INFO: TPU available: False, using: 0 TPU cores\n",
      "2022-06-14 15:10:13 pytorch_lightning.utilities.rank_zero INFO: IPU available: False, using: 0 IPUs\n",
      "2022-06-14 15:10:13 pytorch_lightning.utilities.rank_zero INFO: HPU available: False, using: 0 HPUs\n",
      "2022-06-14 15:10:13 pytorch_lightning.callbacks.model_summary INFO: \n",
      "  | Name      | Type       | Params\n",
      "-----------------------------------------\n",
      "0 | criterion | MSELoss    | 0     \n",
      "1 | stacks    | ModuleList | 8.5 M \n",
      "-----------------------------------------\n",
      "8.5 M     Trainable params\n",
      "3.2 K     Non-trainable params\n",
      "8.5 M     Total params\n",
      "67.633    Total estimated model params size (MB)\n"
     ]
    },
    {
     "data": {
      "application/vnd.jupyter.widget-view+json": {
       "model_id": "878810b8b8de42168c9688828f45e374",
       "version_major": 2,
       "version_minor": 0
      },
      "text/plain": [
       "Training: 0it [00:00, ?it/s]"
      ]
     },
     "metadata": {},
     "output_type": "display_data"
    },
    {
     "data": {
      "application/vnd.jupyter.widget-view+json": {
       "model_id": "c0a331017ba64618aff4ebf04bc7e054",
       "version_major": 2,
       "version_minor": 0
      },
      "text/plain": [
       "Predicting: 11it [00:00, ?it/s]"
      ]
     },
     "metadata": {},
     "output_type": "display_data"
    },
    {
     "name": "stderr",
     "output_type": "stream",
     "text": [
      "[2022-06-14 15:10:19,410] INFO | darts.models.forecasting.torch_forecasting_model | Train dataset contains 2727 samples.\n",
      "[2022-06-14 15:10:19,410] INFO | darts.models.forecasting.torch_forecasting_model | Train dataset contains 2727 samples.\n",
      "2022-06-14 15:10:19 darts.models.forecasting.torch_forecasting_model INFO: Train dataset contains 2727 samples.\n",
      "[2022-06-14 15:10:19,456] INFO | darts.models.forecasting.torch_forecasting_model | Time series values are 64-bits; casting model to float64.\n",
      "[2022-06-14 15:10:19,456] INFO | darts.models.forecasting.torch_forecasting_model | Time series values are 64-bits; casting model to float64.\n",
      "2022-06-14 15:10:19 darts.models.forecasting.torch_forecasting_model INFO: Time series values are 64-bits; casting model to float64.\n",
      "2022-06-14 15:10:19 pytorch_lightning.utilities.rank_zero INFO: GPU available: False, used: False\n",
      "2022-06-14 15:10:19 pytorch_lightning.utilities.rank_zero INFO: TPU available: False, using: 0 TPU cores\n",
      "2022-06-14 15:10:19 pytorch_lightning.utilities.rank_zero INFO: IPU available: False, using: 0 IPUs\n",
      "2022-06-14 15:10:19 pytorch_lightning.utilities.rank_zero INFO: HPU available: False, using: 0 HPUs\n",
      "2022-06-14 15:10:19 pytorch_lightning.callbacks.model_summary INFO: \n",
      "  | Name      | Type       | Params\n",
      "-----------------------------------------\n",
      "0 | criterion | MSELoss    | 0     \n",
      "1 | stacks    | ModuleList | 8.5 M \n",
      "-----------------------------------------\n",
      "8.5 M     Trainable params\n",
      "3.2 K     Non-trainable params\n",
      "8.5 M     Total params\n",
      "67.633    Total estimated model params size (MB)\n"
     ]
    },
    {
     "data": {
      "application/vnd.jupyter.widget-view+json": {
       "model_id": "10229905c9544844a381ca9271aa5812",
       "version_major": 2,
       "version_minor": 0
      },
      "text/plain": [
       "Training: 0it [00:00, ?it/s]"
      ]
     },
     "metadata": {},
     "output_type": "display_data"
    },
    {
     "data": {
      "application/vnd.jupyter.widget-view+json": {
       "model_id": "f80c6cc077144d4ca94d95b7ce3df614",
       "version_major": 2,
       "version_minor": 0
      },
      "text/plain": [
       "Predicting: 11it [00:00, ?it/s]"
      ]
     },
     "metadata": {},
     "output_type": "display_data"
    },
    {
     "name": "stderr",
     "output_type": "stream",
     "text": [
      "[2022-06-14 15:10:25,475] INFO | darts.models.forecasting.torch_forecasting_model | Train dataset contains 2730 samples.\n",
      "[2022-06-14 15:10:25,475] INFO | darts.models.forecasting.torch_forecasting_model | Train dataset contains 2730 samples.\n",
      "2022-06-14 15:10:25 darts.models.forecasting.torch_forecasting_model INFO: Train dataset contains 2730 samples.\n",
      "[2022-06-14 15:10:25,522] INFO | darts.models.forecasting.torch_forecasting_model | Time series values are 64-bits; casting model to float64.\n",
      "[2022-06-14 15:10:25,522] INFO | darts.models.forecasting.torch_forecasting_model | Time series values are 64-bits; casting model to float64.\n",
      "2022-06-14 15:10:25 darts.models.forecasting.torch_forecasting_model INFO: Time series values are 64-bits; casting model to float64.\n",
      "2022-06-14 15:10:25 pytorch_lightning.utilities.rank_zero INFO: GPU available: False, used: False\n",
      "2022-06-14 15:10:25 pytorch_lightning.utilities.rank_zero INFO: TPU available: False, using: 0 TPU cores\n",
      "2022-06-14 15:10:25 pytorch_lightning.utilities.rank_zero INFO: IPU available: False, using: 0 IPUs\n",
      "2022-06-14 15:10:25 pytorch_lightning.utilities.rank_zero INFO: HPU available: False, using: 0 HPUs\n",
      "2022-06-14 15:10:25 pytorch_lightning.callbacks.model_summary INFO: \n",
      "  | Name      | Type       | Params\n",
      "-----------------------------------------\n",
      "0 | criterion | MSELoss    | 0     \n",
      "1 | stacks    | ModuleList | 8.5 M \n",
      "-----------------------------------------\n",
      "8.5 M     Trainable params\n",
      "3.2 K     Non-trainable params\n",
      "8.5 M     Total params\n",
      "67.633    Total estimated model params size (MB)\n"
     ]
    },
    {
     "data": {
      "application/vnd.jupyter.widget-view+json": {
       "model_id": "e55dfe50989747f68d63f89c245c8998",
       "version_major": 2,
       "version_minor": 0
      },
      "text/plain": [
       "Training: 0it [00:00, ?it/s]"
      ]
     },
     "metadata": {},
     "output_type": "display_data"
    },
    {
     "data": {
      "application/vnd.jupyter.widget-view+json": {
       "model_id": "12021ac79bc74afdab279496e8163c33",
       "version_major": 2,
       "version_minor": 0
      },
      "text/plain": [
       "Predicting: 11it [00:00, ?it/s]"
      ]
     },
     "metadata": {},
     "output_type": "display_data"
    },
    {
     "name": "stderr",
     "output_type": "stream",
     "text": [
      "[2022-06-14 15:10:31,576] INFO | darts.models.forecasting.torch_forecasting_model | Train dataset contains 2730 samples.\n",
      "[2022-06-14 15:10:31,576] INFO | darts.models.forecasting.torch_forecasting_model | Train dataset contains 2730 samples.\n",
      "2022-06-14 15:10:31 darts.models.forecasting.torch_forecasting_model INFO: Train dataset contains 2730 samples.\n",
      "[2022-06-14 15:10:31,606] INFO | darts.models.forecasting.torch_forecasting_model | Time series values are 64-bits; casting model to float64.\n",
      "[2022-06-14 15:10:31,606] INFO | darts.models.forecasting.torch_forecasting_model | Time series values are 64-bits; casting model to float64.\n",
      "2022-06-14 15:10:31 darts.models.forecasting.torch_forecasting_model INFO: Time series values are 64-bits; casting model to float64.\n",
      "2022-06-14 15:10:31 pytorch_lightning.utilities.rank_zero INFO: GPU available: False, used: False\n",
      "2022-06-14 15:10:31 pytorch_lightning.utilities.rank_zero INFO: TPU available: False, using: 0 TPU cores\n",
      "2022-06-14 15:10:31 pytorch_lightning.utilities.rank_zero INFO: IPU available: False, using: 0 IPUs\n",
      "2022-06-14 15:10:31 pytorch_lightning.utilities.rank_zero INFO: HPU available: False, using: 0 HPUs\n",
      "2022-06-14 15:10:31 pytorch_lightning.callbacks.model_summary INFO: \n",
      "  | Name      | Type       | Params\n",
      "-----------------------------------------\n",
      "0 | criterion | MSELoss    | 0     \n",
      "1 | stacks    | ModuleList | 8.5 M \n",
      "-----------------------------------------\n",
      "8.5 M     Trainable params\n",
      "3.2 K     Non-trainable params\n",
      "8.5 M     Total params\n",
      "67.633    Total estimated model params size (MB)\n"
     ]
    },
    {
     "data": {
      "application/vnd.jupyter.widget-view+json": {
       "model_id": "e4ca17d6cd774f84b3417027686de275",
       "version_major": 2,
       "version_minor": 0
      },
      "text/plain": [
       "Training: 0it [00:00, ?it/s]"
      ]
     },
     "metadata": {},
     "output_type": "display_data"
    },
    {
     "data": {
      "application/vnd.jupyter.widget-view+json": {
       "model_id": "fbf244b35bc34793af53237c4b148c17",
       "version_major": 2,
       "version_minor": 0
      },
      "text/plain": [
       "Predicting: 11it [00:00, ?it/s]"
      ]
     },
     "metadata": {},
     "output_type": "display_data"
    },
    {
     "name": "stderr",
     "output_type": "stream",
     "text": [
      "[2022-06-14 15:10:37,499] INFO | darts.models.forecasting.torch_forecasting_model | Train dataset contains 2730 samples.\n",
      "[2022-06-14 15:10:37,499] INFO | darts.models.forecasting.torch_forecasting_model | Train dataset contains 2730 samples.\n",
      "2022-06-14 15:10:37 darts.models.forecasting.torch_forecasting_model INFO: Train dataset contains 2730 samples.\n",
      "[2022-06-14 15:10:37,528] INFO | darts.models.forecasting.torch_forecasting_model | Time series values are 64-bits; casting model to float64.\n",
      "[2022-06-14 15:10:37,528] INFO | darts.models.forecasting.torch_forecasting_model | Time series values are 64-bits; casting model to float64.\n",
      "2022-06-14 15:10:37 darts.models.forecasting.torch_forecasting_model INFO: Time series values are 64-bits; casting model to float64.\n",
      "2022-06-14 15:10:37 pytorch_lightning.utilities.rank_zero INFO: GPU available: False, used: False\n",
      "2022-06-14 15:10:37 pytorch_lightning.utilities.rank_zero INFO: TPU available: False, using: 0 TPU cores\n",
      "2022-06-14 15:10:37 pytorch_lightning.utilities.rank_zero INFO: IPU available: False, using: 0 IPUs\n",
      "2022-06-14 15:10:37 pytorch_lightning.utilities.rank_zero INFO: HPU available: False, using: 0 HPUs\n",
      "2022-06-14 15:10:37 pytorch_lightning.callbacks.model_summary INFO: \n",
      "  | Name      | Type       | Params\n",
      "-----------------------------------------\n",
      "0 | criterion | MSELoss    | 0     \n",
      "1 | stacks    | ModuleList | 8.5 M \n",
      "-----------------------------------------\n",
      "8.5 M     Trainable params\n",
      "3.2 K     Non-trainable params\n",
      "8.5 M     Total params\n",
      "67.633    Total estimated model params size (MB)\n"
     ]
    },
    {
     "data": {
      "application/vnd.jupyter.widget-view+json": {
       "model_id": "21af9714a9ea47c3923ec68b6704775a",
       "version_major": 2,
       "version_minor": 0
      },
      "text/plain": [
       "Training: 0it [00:00, ?it/s]"
      ]
     },
     "metadata": {},
     "output_type": "display_data"
    },
    {
     "data": {
      "application/vnd.jupyter.widget-view+json": {
       "model_id": "fd4db501a7b544ffbe4f849238e67b63",
       "version_major": 2,
       "version_minor": 0
      },
      "text/plain": [
       "Predicting: 11it [00:00, ?it/s]"
      ]
     },
     "metadata": {},
     "output_type": "display_data"
    },
    {
     "name": "stderr",
     "output_type": "stream",
     "text": [
      "[2022-06-14 15:10:43,656] INFO | darts.models.forecasting.torch_forecasting_model | Train dataset contains 2694 samples.\n",
      "[2022-06-14 15:10:43,656] INFO | darts.models.forecasting.torch_forecasting_model | Train dataset contains 2694 samples.\n",
      "2022-06-14 15:10:43 darts.models.forecasting.torch_forecasting_model INFO: Train dataset contains 2694 samples.\n",
      "[2022-06-14 15:10:43,686] INFO | darts.models.forecasting.torch_forecasting_model | Time series values are 64-bits; casting model to float64.\n",
      "[2022-06-14 15:10:43,686] INFO | darts.models.forecasting.torch_forecasting_model | Time series values are 64-bits; casting model to float64.\n",
      "2022-06-14 15:10:43 darts.models.forecasting.torch_forecasting_model INFO: Time series values are 64-bits; casting model to float64.\n",
      "2022-06-14 15:10:43 pytorch_lightning.utilities.rank_zero INFO: GPU available: False, used: False\n",
      "2022-06-14 15:10:43 pytorch_lightning.utilities.rank_zero INFO: TPU available: False, using: 0 TPU cores\n",
      "2022-06-14 15:10:43 pytorch_lightning.utilities.rank_zero INFO: IPU available: False, using: 0 IPUs\n",
      "2022-06-14 15:10:43 pytorch_lightning.utilities.rank_zero INFO: HPU available: False, using: 0 HPUs\n",
      "2022-06-14 15:10:43 pytorch_lightning.callbacks.model_summary INFO: \n",
      "  | Name      | Type       | Params\n",
      "-----------------------------------------\n",
      "0 | criterion | MSELoss    | 0     \n",
      "1 | stacks    | ModuleList | 8.5 M \n",
      "-----------------------------------------\n",
      "8.5 M     Trainable params\n",
      "3.2 K     Non-trainable params\n",
      "8.5 M     Total params\n",
      "67.633    Total estimated model params size (MB)\n"
     ]
    },
    {
     "data": {
      "application/vnd.jupyter.widget-view+json": {
       "model_id": "9ccda854fa0948d48909e3e4cc6ebe10",
       "version_major": 2,
       "version_minor": 0
      },
      "text/plain": [
       "Training: 0it [00:00, ?it/s]"
      ]
     },
     "metadata": {},
     "output_type": "display_data"
    },
    {
     "data": {
      "application/vnd.jupyter.widget-view+json": {
       "model_id": "f52ff8df78834ed7a5298ed03d01b924",
       "version_major": 2,
       "version_minor": 0
      },
      "text/plain": [
       "Predicting: 11it [00:00, ?it/s]"
      ]
     },
     "metadata": {},
     "output_type": "display_data"
    },
    {
     "name": "stderr",
     "output_type": "stream",
     "text": [
      "[2022-06-14 15:10:49,670] INFO | darts.models.forecasting.torch_forecasting_model | Train dataset contains 2730 samples.\n",
      "[2022-06-14 15:10:49,670] INFO | darts.models.forecasting.torch_forecasting_model | Train dataset contains 2730 samples.\n",
      "2022-06-14 15:10:49 darts.models.forecasting.torch_forecasting_model INFO: Train dataset contains 2730 samples.\n",
      "[2022-06-14 15:10:49,699] INFO | darts.models.forecasting.torch_forecasting_model | Time series values are 64-bits; casting model to float64.\n",
      "[2022-06-14 15:10:49,699] INFO | darts.models.forecasting.torch_forecasting_model | Time series values are 64-bits; casting model to float64.\n",
      "2022-06-14 15:10:49 darts.models.forecasting.torch_forecasting_model INFO: Time series values are 64-bits; casting model to float64.\n",
      "2022-06-14 15:10:49 pytorch_lightning.utilities.rank_zero INFO: GPU available: False, used: False\n",
      "2022-06-14 15:10:49 pytorch_lightning.utilities.rank_zero INFO: TPU available: False, using: 0 TPU cores\n",
      "2022-06-14 15:10:49 pytorch_lightning.utilities.rank_zero INFO: IPU available: False, using: 0 IPUs\n",
      "2022-06-14 15:10:49 pytorch_lightning.utilities.rank_zero INFO: HPU available: False, using: 0 HPUs\n",
      "2022-06-14 15:10:49 pytorch_lightning.callbacks.model_summary INFO: \n",
      "  | Name      | Type       | Params\n",
      "-----------------------------------------\n",
      "0 | criterion | MSELoss    | 0     \n",
      "1 | stacks    | ModuleList | 8.5 M \n",
      "-----------------------------------------\n",
      "8.5 M     Trainable params\n",
      "3.2 K     Non-trainable params\n",
      "8.5 M     Total params\n",
      "67.633    Total estimated model params size (MB)\n"
     ]
    },
    {
     "data": {
      "application/vnd.jupyter.widget-view+json": {
       "model_id": "c8fddcffc15f4ba7973f9fb2f2acd3c3",
       "version_major": 2,
       "version_minor": 0
      },
      "text/plain": [
       "Training: 0it [00:00, ?it/s]"
      ]
     },
     "metadata": {},
     "output_type": "display_data"
    },
    {
     "data": {
      "application/vnd.jupyter.widget-view+json": {
       "model_id": "4737a2973a0042968b8d208415b58c1d",
       "version_major": 2,
       "version_minor": 0
      },
      "text/plain": [
       "Predicting: 11it [00:00, ?it/s]"
      ]
     },
     "metadata": {},
     "output_type": "display_data"
    },
    {
     "name": "stderr",
     "output_type": "stream",
     "text": [
      "[2022-06-14 15:10:55,676] INFO | darts.models.forecasting.torch_forecasting_model | Train dataset contains 2730 samples.\n",
      "[2022-06-14 15:10:55,676] INFO | darts.models.forecasting.torch_forecasting_model | Train dataset contains 2730 samples.\n",
      "2022-06-14 15:10:55 darts.models.forecasting.torch_forecasting_model INFO: Train dataset contains 2730 samples.\n",
      "[2022-06-14 15:10:55,705] INFO | darts.models.forecasting.torch_forecasting_model | Time series values are 64-bits; casting model to float64.\n",
      "[2022-06-14 15:10:55,705] INFO | darts.models.forecasting.torch_forecasting_model | Time series values are 64-bits; casting model to float64.\n",
      "2022-06-14 15:10:55 darts.models.forecasting.torch_forecasting_model INFO: Time series values are 64-bits; casting model to float64.\n",
      "2022-06-14 15:10:55 pytorch_lightning.utilities.rank_zero INFO: GPU available: False, used: False\n",
      "2022-06-14 15:10:55 pytorch_lightning.utilities.rank_zero INFO: TPU available: False, using: 0 TPU cores\n",
      "2022-06-14 15:10:55 pytorch_lightning.utilities.rank_zero INFO: IPU available: False, using: 0 IPUs\n",
      "2022-06-14 15:10:55 pytorch_lightning.utilities.rank_zero INFO: HPU available: False, using: 0 HPUs\n",
      "2022-06-14 15:10:55 pytorch_lightning.callbacks.model_summary INFO: \n",
      "  | Name      | Type       | Params\n",
      "-----------------------------------------\n",
      "0 | criterion | MSELoss    | 0     \n",
      "1 | stacks    | ModuleList | 8.5 M \n",
      "-----------------------------------------\n",
      "8.5 M     Trainable params\n",
      "3.2 K     Non-trainable params\n",
      "8.5 M     Total params\n",
      "67.633    Total estimated model params size (MB)\n"
     ]
    },
    {
     "data": {
      "application/vnd.jupyter.widget-view+json": {
       "model_id": "ef3048abbf5640759174f717fdb90fb3",
       "version_major": 2,
       "version_minor": 0
      },
      "text/plain": [
       "Training: 0it [00:00, ?it/s]"
      ]
     },
     "metadata": {},
     "output_type": "display_data"
    },
    {
     "data": {
      "application/vnd.jupyter.widget-view+json": {
       "model_id": "915ea3bf4dff49d58fc4300e706fa168",
       "version_major": 2,
       "version_minor": 0
      },
      "text/plain": [
       "Predicting: 11it [00:00, ?it/s]"
      ]
     },
     "metadata": {},
     "output_type": "display_data"
    },
    {
     "name": "stderr",
     "output_type": "stream",
     "text": [
      "[2022-06-14 15:11:01,716] INFO | darts.models.forecasting.torch_forecasting_model | Train dataset contains 2730 samples.\n",
      "[2022-06-14 15:11:01,716] INFO | darts.models.forecasting.torch_forecasting_model | Train dataset contains 2730 samples.\n",
      "2022-06-14 15:11:01 darts.models.forecasting.torch_forecasting_model INFO: Train dataset contains 2730 samples.\n",
      "[2022-06-14 15:11:01,745] INFO | darts.models.forecasting.torch_forecasting_model | Time series values are 64-bits; casting model to float64.\n",
      "[2022-06-14 15:11:01,745] INFO | darts.models.forecasting.torch_forecasting_model | Time series values are 64-bits; casting model to float64.\n",
      "2022-06-14 15:11:01 darts.models.forecasting.torch_forecasting_model INFO: Time series values are 64-bits; casting model to float64.\n",
      "2022-06-14 15:11:01 pytorch_lightning.utilities.rank_zero INFO: GPU available: False, used: False\n",
      "2022-06-14 15:11:01 pytorch_lightning.utilities.rank_zero INFO: TPU available: False, using: 0 TPU cores\n",
      "2022-06-14 15:11:01 pytorch_lightning.utilities.rank_zero INFO: IPU available: False, using: 0 IPUs\n",
      "2022-06-14 15:11:01 pytorch_lightning.utilities.rank_zero INFO: HPU available: False, using: 0 HPUs\n",
      "2022-06-14 15:11:01 pytorch_lightning.callbacks.model_summary INFO: \n",
      "  | Name      | Type       | Params\n",
      "-----------------------------------------\n",
      "0 | criterion | MSELoss    | 0     \n",
      "1 | stacks    | ModuleList | 8.5 M \n",
      "-----------------------------------------\n",
      "8.5 M     Trainable params\n",
      "3.2 K     Non-trainable params\n",
      "8.5 M     Total params\n",
      "67.633    Total estimated model params size (MB)\n"
     ]
    },
    {
     "data": {
      "application/vnd.jupyter.widget-view+json": {
       "model_id": "0f62157aca6040ae8b58771d0254b27b",
       "version_major": 2,
       "version_minor": 0
      },
      "text/plain": [
       "Training: 0it [00:00, ?it/s]"
      ]
     },
     "metadata": {},
     "output_type": "display_data"
    },
    {
     "data": {
      "application/vnd.jupyter.widget-view+json": {
       "model_id": "3760a3cace8740039d002c0875a2a210",
       "version_major": 2,
       "version_minor": 0
      },
      "text/plain": [
       "Predicting: 11it [00:00, ?it/s]"
      ]
     },
     "metadata": {},
     "output_type": "display_data"
    },
    {
     "name": "stderr",
     "output_type": "stream",
     "text": [
      "[2022-06-14 15:11:07,594] INFO | darts.models.forecasting.torch_forecasting_model | Train dataset contains 2730 samples.\n",
      "[2022-06-14 15:11:07,594] INFO | darts.models.forecasting.torch_forecasting_model | Train dataset contains 2730 samples.\n",
      "2022-06-14 15:11:07 darts.models.forecasting.torch_forecasting_model INFO: Train dataset contains 2730 samples.\n",
      "[2022-06-14 15:11:07,623] INFO | darts.models.forecasting.torch_forecasting_model | Time series values are 64-bits; casting model to float64.\n",
      "[2022-06-14 15:11:07,623] INFO | darts.models.forecasting.torch_forecasting_model | Time series values are 64-bits; casting model to float64.\n",
      "2022-06-14 15:11:07 darts.models.forecasting.torch_forecasting_model INFO: Time series values are 64-bits; casting model to float64.\n",
      "2022-06-14 15:11:07 pytorch_lightning.utilities.rank_zero INFO: GPU available: False, used: False\n",
      "2022-06-14 15:11:07 pytorch_lightning.utilities.rank_zero INFO: TPU available: False, using: 0 TPU cores\n",
      "2022-06-14 15:11:07 pytorch_lightning.utilities.rank_zero INFO: IPU available: False, using: 0 IPUs\n",
      "2022-06-14 15:11:07 pytorch_lightning.utilities.rank_zero INFO: HPU available: False, using: 0 HPUs\n",
      "2022-06-14 15:11:07 pytorch_lightning.callbacks.model_summary INFO: \n",
      "  | Name      | Type       | Params\n",
      "-----------------------------------------\n",
      "0 | criterion | MSELoss    | 0     \n",
      "1 | stacks    | ModuleList | 8.5 M \n",
      "-----------------------------------------\n",
      "8.5 M     Trainable params\n",
      "3.2 K     Non-trainable params\n",
      "8.5 M     Total params\n",
      "67.633    Total estimated model params size (MB)\n"
     ]
    },
    {
     "data": {
      "application/vnd.jupyter.widget-view+json": {
       "model_id": "d816790d7306441881981d1e06841a69",
       "version_major": 2,
       "version_minor": 0
      },
      "text/plain": [
       "Training: 0it [00:00, ?it/s]"
      ]
     },
     "metadata": {},
     "output_type": "display_data"
    },
    {
     "data": {
      "application/vnd.jupyter.widget-view+json": {
       "model_id": "65a69076611d4ea89a5a89d8a3d9bf4d",
       "version_major": 2,
       "version_minor": 0
      },
      "text/plain": [
       "Predicting: 11it [00:00, ?it/s]"
      ]
     },
     "metadata": {},
     "output_type": "display_data"
    },
    {
     "name": "stderr",
     "output_type": "stream",
     "text": [
      "[2022-06-14 15:11:13,712] INFO | darts.models.forecasting.torch_forecasting_model | Train dataset contains 2730 samples.\n",
      "[2022-06-14 15:11:13,712] INFO | darts.models.forecasting.torch_forecasting_model | Train dataset contains 2730 samples.\n",
      "2022-06-14 15:11:13 darts.models.forecasting.torch_forecasting_model INFO: Train dataset contains 2730 samples.\n",
      "[2022-06-14 15:11:13,741] INFO | darts.models.forecasting.torch_forecasting_model | Time series values are 64-bits; casting model to float64.\n",
      "[2022-06-14 15:11:13,741] INFO | darts.models.forecasting.torch_forecasting_model | Time series values are 64-bits; casting model to float64.\n",
      "2022-06-14 15:11:13 darts.models.forecasting.torch_forecasting_model INFO: Time series values are 64-bits; casting model to float64.\n",
      "2022-06-14 15:11:13 pytorch_lightning.utilities.rank_zero INFO: GPU available: False, used: False\n",
      "2022-06-14 15:11:13 pytorch_lightning.utilities.rank_zero INFO: TPU available: False, using: 0 TPU cores\n",
      "2022-06-14 15:11:13 pytorch_lightning.utilities.rank_zero INFO: IPU available: False, using: 0 IPUs\n",
      "2022-06-14 15:11:13 pytorch_lightning.utilities.rank_zero INFO: HPU available: False, using: 0 HPUs\n",
      "2022-06-14 15:11:13 pytorch_lightning.callbacks.model_summary INFO: \n",
      "  | Name      | Type       | Params\n",
      "-----------------------------------------\n",
      "0 | criterion | MSELoss    | 0     \n",
      "1 | stacks    | ModuleList | 8.5 M \n",
      "-----------------------------------------\n",
      "8.5 M     Trainable params\n",
      "3.2 K     Non-trainable params\n",
      "8.5 M     Total params\n",
      "67.633    Total estimated model params size (MB)\n"
     ]
    },
    {
     "data": {
      "application/vnd.jupyter.widget-view+json": {
       "model_id": "229576bd94124c76a49f379e31a58c73",
       "version_major": 2,
       "version_minor": 0
      },
      "text/plain": [
       "Training: 0it [00:00, ?it/s]"
      ]
     },
     "metadata": {},
     "output_type": "display_data"
    },
    {
     "data": {
      "application/vnd.jupyter.widget-view+json": {
       "model_id": "fd89baef44614658bb7cd39515c87664",
       "version_major": 2,
       "version_minor": 0
      },
      "text/plain": [
       "Predicting: 11it [00:00, ?it/s]"
      ]
     },
     "metadata": {},
     "output_type": "display_data"
    },
    {
     "name": "stderr",
     "output_type": "stream",
     "text": [
      "[2022-06-14 15:11:19,686] INFO | darts.models.forecasting.torch_forecasting_model | Train dataset contains 2693 samples.\n",
      "[2022-06-14 15:11:19,686] INFO | darts.models.forecasting.torch_forecasting_model | Train dataset contains 2693 samples.\n",
      "2022-06-14 15:11:19 darts.models.forecasting.torch_forecasting_model INFO: Train dataset contains 2693 samples.\n",
      "[2022-06-14 15:11:19,715] INFO | darts.models.forecasting.torch_forecasting_model | Time series values are 64-bits; casting model to float64.\n",
      "[2022-06-14 15:11:19,715] INFO | darts.models.forecasting.torch_forecasting_model | Time series values are 64-bits; casting model to float64.\n",
      "2022-06-14 15:11:19 darts.models.forecasting.torch_forecasting_model INFO: Time series values are 64-bits; casting model to float64.\n",
      "2022-06-14 15:11:19 pytorch_lightning.utilities.rank_zero INFO: GPU available: False, used: False\n",
      "2022-06-14 15:11:19 pytorch_lightning.utilities.rank_zero INFO: TPU available: False, using: 0 TPU cores\n",
      "2022-06-14 15:11:19 pytorch_lightning.utilities.rank_zero INFO: IPU available: False, using: 0 IPUs\n",
      "2022-06-14 15:11:19 pytorch_lightning.utilities.rank_zero INFO: HPU available: False, using: 0 HPUs\n",
      "2022-06-14 15:11:19 pytorch_lightning.callbacks.model_summary INFO: \n",
      "  | Name      | Type       | Params\n",
      "-----------------------------------------\n",
      "0 | criterion | MSELoss    | 0     \n",
      "1 | stacks    | ModuleList | 8.5 M \n",
      "-----------------------------------------\n",
      "8.5 M     Trainable params\n",
      "3.2 K     Non-trainable params\n",
      "8.5 M     Total params\n",
      "67.633    Total estimated model params size (MB)\n"
     ]
    },
    {
     "data": {
      "application/vnd.jupyter.widget-view+json": {
       "model_id": "385aeb0c7e74403aa0fd1cd60d10a9f0",
       "version_major": 2,
       "version_minor": 0
      },
      "text/plain": [
       "Training: 0it [00:00, ?it/s]"
      ]
     },
     "metadata": {},
     "output_type": "display_data"
    },
    {
     "data": {
      "application/vnd.jupyter.widget-view+json": {
       "model_id": "2d074a082658469c91321123389f6d4d",
       "version_major": 2,
       "version_minor": 0
      },
      "text/plain": [
       "Predicting: 11it [00:00, ?it/s]"
      ]
     },
     "metadata": {},
     "output_type": "display_data"
    },
    {
     "name": "stderr",
     "output_type": "stream",
     "text": [
      "[2022-06-14 15:11:25,684] INFO | darts.models.forecasting.torch_forecasting_model | Train dataset contains 2731 samples.\n",
      "[2022-06-14 15:11:25,684] INFO | darts.models.forecasting.torch_forecasting_model | Train dataset contains 2731 samples.\n",
      "2022-06-14 15:11:25 darts.models.forecasting.torch_forecasting_model INFO: Train dataset contains 2731 samples.\n",
      "[2022-06-14 15:11:25,714] INFO | darts.models.forecasting.torch_forecasting_model | Time series values are 64-bits; casting model to float64.\n",
      "[2022-06-14 15:11:25,714] INFO | darts.models.forecasting.torch_forecasting_model | Time series values are 64-bits; casting model to float64.\n",
      "2022-06-14 15:11:25 darts.models.forecasting.torch_forecasting_model INFO: Time series values are 64-bits; casting model to float64.\n",
      "2022-06-14 15:11:25 pytorch_lightning.utilities.rank_zero INFO: GPU available: False, used: False\n",
      "2022-06-14 15:11:25 pytorch_lightning.utilities.rank_zero INFO: TPU available: False, using: 0 TPU cores\n",
      "2022-06-14 15:11:25 pytorch_lightning.utilities.rank_zero INFO: IPU available: False, using: 0 IPUs\n",
      "2022-06-14 15:11:25 pytorch_lightning.utilities.rank_zero INFO: HPU available: False, using: 0 HPUs\n",
      "2022-06-14 15:11:25 pytorch_lightning.callbacks.model_summary INFO: \n",
      "  | Name      | Type       | Params\n",
      "-----------------------------------------\n",
      "0 | criterion | MSELoss    | 0     \n",
      "1 | stacks    | ModuleList | 8.5 M \n",
      "-----------------------------------------\n",
      "8.5 M     Trainable params\n",
      "3.2 K     Non-trainable params\n",
      "8.5 M     Total params\n",
      "67.633    Total estimated model params size (MB)\n"
     ]
    },
    {
     "data": {
      "application/vnd.jupyter.widget-view+json": {
       "model_id": "5f10c4e897864c86a223d3ae5de40b6a",
       "version_major": 2,
       "version_minor": 0
      },
      "text/plain": [
       "Training: 0it [00:00, ?it/s]"
      ]
     },
     "metadata": {},
     "output_type": "display_data"
    },
    {
     "data": {
      "application/vnd.jupyter.widget-view+json": {
       "model_id": "8abedcd5ca4d4f328bc4e400e785e5ce",
       "version_major": 2,
       "version_minor": 0
      },
      "text/plain": [
       "Predicting: 11it [00:00, ?it/s]"
      ]
     },
     "metadata": {},
     "output_type": "display_data"
    },
    {
     "name": "stderr",
     "output_type": "stream",
     "text": [
      "[2022-06-14 15:11:31,787] INFO | darts.models.forecasting.torch_forecasting_model | Train dataset contains 2731 samples.\n",
      "[2022-06-14 15:11:31,787] INFO | darts.models.forecasting.torch_forecasting_model | Train dataset contains 2731 samples.\n",
      "2022-06-14 15:11:31 darts.models.forecasting.torch_forecasting_model INFO: Train dataset contains 2731 samples.\n",
      "[2022-06-14 15:11:31,834] INFO | darts.models.forecasting.torch_forecasting_model | Time series values are 64-bits; casting model to float64.\n",
      "[2022-06-14 15:11:31,834] INFO | darts.models.forecasting.torch_forecasting_model | Time series values are 64-bits; casting model to float64.\n",
      "2022-06-14 15:11:31 darts.models.forecasting.torch_forecasting_model INFO: Time series values are 64-bits; casting model to float64.\n",
      "2022-06-14 15:11:31 pytorch_lightning.utilities.rank_zero INFO: GPU available: False, used: False\n",
      "2022-06-14 15:11:31 pytorch_lightning.utilities.rank_zero INFO: TPU available: False, using: 0 TPU cores\n",
      "2022-06-14 15:11:31 pytorch_lightning.utilities.rank_zero INFO: IPU available: False, using: 0 IPUs\n",
      "2022-06-14 15:11:31 pytorch_lightning.utilities.rank_zero INFO: HPU available: False, using: 0 HPUs\n",
      "2022-06-14 15:11:31 pytorch_lightning.callbacks.model_summary INFO: \n",
      "  | Name      | Type       | Params\n",
      "-----------------------------------------\n",
      "0 | criterion | MSELoss    | 0     \n",
      "1 | stacks    | ModuleList | 8.5 M \n",
      "-----------------------------------------\n",
      "8.5 M     Trainable params\n",
      "3.2 K     Non-trainable params\n",
      "8.5 M     Total params\n",
      "67.633    Total estimated model params size (MB)\n"
     ]
    },
    {
     "data": {
      "application/vnd.jupyter.widget-view+json": {
       "model_id": "9953dbb6b5bf4cceb32e9ad6b8585c23",
       "version_major": 2,
       "version_minor": 0
      },
      "text/plain": [
       "Training: 0it [00:00, ?it/s]"
      ]
     },
     "metadata": {},
     "output_type": "display_data"
    },
    {
     "data": {
      "application/vnd.jupyter.widget-view+json": {
       "model_id": "e7e9cc364e77401ab1aae990ec29f397",
       "version_major": 2,
       "version_minor": 0
      },
      "text/plain": [
       "Predicting: 11it [00:00, ?it/s]"
      ]
     },
     "metadata": {},
     "output_type": "display_data"
    },
    {
     "name": "stderr",
     "output_type": "stream",
     "text": [
      "[2022-06-14 15:11:37,852] INFO | darts.models.forecasting.torch_forecasting_model | Train dataset contains 2731 samples.\n",
      "[2022-06-14 15:11:37,852] INFO | darts.models.forecasting.torch_forecasting_model | Train dataset contains 2731 samples.\n",
      "2022-06-14 15:11:37 darts.models.forecasting.torch_forecasting_model INFO: Train dataset contains 2731 samples.\n",
      "[2022-06-14 15:11:37,899] INFO | darts.models.forecasting.torch_forecasting_model | Time series values are 64-bits; casting model to float64.\n",
      "[2022-06-14 15:11:37,899] INFO | darts.models.forecasting.torch_forecasting_model | Time series values are 64-bits; casting model to float64.\n",
      "2022-06-14 15:11:37 darts.models.forecasting.torch_forecasting_model INFO: Time series values are 64-bits; casting model to float64.\n",
      "2022-06-14 15:11:37 pytorch_lightning.utilities.rank_zero INFO: GPU available: False, used: False\n",
      "2022-06-14 15:11:37 pytorch_lightning.utilities.rank_zero INFO: TPU available: False, using: 0 TPU cores\n",
      "2022-06-14 15:11:37 pytorch_lightning.utilities.rank_zero INFO: IPU available: False, using: 0 IPUs\n",
      "2022-06-14 15:11:37 pytorch_lightning.utilities.rank_zero INFO: HPU available: False, using: 0 HPUs\n",
      "2022-06-14 15:11:37 pytorch_lightning.callbacks.model_summary INFO: \n",
      "  | Name      | Type       | Params\n",
      "-----------------------------------------\n",
      "0 | criterion | MSELoss    | 0     \n",
      "1 | stacks    | ModuleList | 8.5 M \n",
      "-----------------------------------------\n",
      "8.5 M     Trainable params\n",
      "3.2 K     Non-trainable params\n",
      "8.5 M     Total params\n",
      "67.633    Total estimated model params size (MB)\n"
     ]
    },
    {
     "data": {
      "application/vnd.jupyter.widget-view+json": {
       "model_id": "ef3f75d30b6e49989a02350a3a181e89",
       "version_major": 2,
       "version_minor": 0
      },
      "text/plain": [
       "Training: 0it [00:00, ?it/s]"
      ]
     },
     "metadata": {},
     "output_type": "display_data"
    },
    {
     "data": {
      "application/vnd.jupyter.widget-view+json": {
       "model_id": "5987dc1e3759463ba91974a2e8954e2e",
       "version_major": 2,
       "version_minor": 0
      },
      "text/plain": [
       "Predicting: 11it [00:00, ?it/s]"
      ]
     },
     "metadata": {},
     "output_type": "display_data"
    },
    {
     "name": "stderr",
     "output_type": "stream",
     "text": [
      "[2022-06-14 15:11:43,947] INFO | darts.models.forecasting.torch_forecasting_model | Train dataset contains 2727 samples.\n",
      "[2022-06-14 15:11:43,947] INFO | darts.models.forecasting.torch_forecasting_model | Train dataset contains 2727 samples.\n",
      "2022-06-14 15:11:43 darts.models.forecasting.torch_forecasting_model INFO: Train dataset contains 2727 samples.\n",
      "[2022-06-14 15:11:43,980] INFO | darts.models.forecasting.torch_forecasting_model | Time series values are 64-bits; casting model to float64.\n",
      "[2022-06-14 15:11:43,980] INFO | darts.models.forecasting.torch_forecasting_model | Time series values are 64-bits; casting model to float64.\n",
      "2022-06-14 15:11:43 darts.models.forecasting.torch_forecasting_model INFO: Time series values are 64-bits; casting model to float64.\n",
      "2022-06-14 15:11:43 pytorch_lightning.utilities.rank_zero INFO: GPU available: False, used: False\n",
      "2022-06-14 15:11:43 pytorch_lightning.utilities.rank_zero INFO: TPU available: False, using: 0 TPU cores\n",
      "2022-06-14 15:11:43 pytorch_lightning.utilities.rank_zero INFO: IPU available: False, using: 0 IPUs\n",
      "2022-06-14 15:11:43 pytorch_lightning.utilities.rank_zero INFO: HPU available: False, using: 0 HPUs\n",
      "2022-06-14 15:11:44 pytorch_lightning.callbacks.model_summary INFO: \n",
      "  | Name      | Type       | Params\n",
      "-----------------------------------------\n",
      "0 | criterion | MSELoss    | 0     \n",
      "1 | stacks    | ModuleList | 8.5 M \n",
      "-----------------------------------------\n",
      "8.5 M     Trainable params\n",
      "3.2 K     Non-trainable params\n",
      "8.5 M     Total params\n",
      "67.633    Total estimated model params size (MB)\n"
     ]
    },
    {
     "data": {
      "application/vnd.jupyter.widget-view+json": {
       "model_id": "709a2de7c36e4ec8adf23e0b4fa5b35e",
       "version_major": 2,
       "version_minor": 0
      },
      "text/plain": [
       "Training: 0it [00:00, ?it/s]"
      ]
     },
     "metadata": {},
     "output_type": "display_data"
    },
    {
     "data": {
      "application/vnd.jupyter.widget-view+json": {
       "model_id": "7ba8f93603c84e0b8864f0711ab825da",
       "version_major": 2,
       "version_minor": 0
      },
      "text/plain": [
       "Predicting: 11it [00:00, ?it/s]"
      ]
     },
     "metadata": {},
     "output_type": "display_data"
    },
    {
     "name": "stderr",
     "output_type": "stream",
     "text": [
      "[2022-06-14 15:11:50,039] INFO | darts.models.forecasting.torch_forecasting_model | Train dataset contains 2727 samples.\n",
      "[2022-06-14 15:11:50,039] INFO | darts.models.forecasting.torch_forecasting_model | Train dataset contains 2727 samples.\n",
      "2022-06-14 15:11:50 darts.models.forecasting.torch_forecasting_model INFO: Train dataset contains 2727 samples.\n",
      "[2022-06-14 15:11:50,068] INFO | darts.models.forecasting.torch_forecasting_model | Time series values are 64-bits; casting model to float64.\n",
      "[2022-06-14 15:11:50,068] INFO | darts.models.forecasting.torch_forecasting_model | Time series values are 64-bits; casting model to float64.\n",
      "2022-06-14 15:11:50 darts.models.forecasting.torch_forecasting_model INFO: Time series values are 64-bits; casting model to float64.\n",
      "2022-06-14 15:11:50 pytorch_lightning.utilities.rank_zero INFO: GPU available: False, used: False\n",
      "2022-06-14 15:11:50 pytorch_lightning.utilities.rank_zero INFO: TPU available: False, using: 0 TPU cores\n",
      "2022-06-14 15:11:50 pytorch_lightning.utilities.rank_zero INFO: IPU available: False, using: 0 IPUs\n",
      "2022-06-14 15:11:50 pytorch_lightning.utilities.rank_zero INFO: HPU available: False, using: 0 HPUs\n",
      "2022-06-14 15:11:50 pytorch_lightning.callbacks.model_summary INFO: \n",
      "  | Name      | Type       | Params\n",
      "-----------------------------------------\n",
      "0 | criterion | MSELoss    | 0     \n",
      "1 | stacks    | ModuleList | 8.5 M \n",
      "-----------------------------------------\n",
      "8.5 M     Trainable params\n",
      "3.2 K     Non-trainable params\n",
      "8.5 M     Total params\n",
      "67.633    Total estimated model params size (MB)\n"
     ]
    },
    {
     "data": {
      "application/vnd.jupyter.widget-view+json": {
       "model_id": "44b8df88e92b4916b8cfafa777cb721e",
       "version_major": 2,
       "version_minor": 0
      },
      "text/plain": [
       "Training: 0it [00:00, ?it/s]"
      ]
     },
     "metadata": {},
     "output_type": "display_data"
    },
    {
     "data": {
      "application/vnd.jupyter.widget-view+json": {
       "model_id": "daa311f000c14fa38e133c896b3513e7",
       "version_major": 2,
       "version_minor": 0
      },
      "text/plain": [
       "Predicting: 11it [00:00, ?it/s]"
      ]
     },
     "metadata": {},
     "output_type": "display_data"
    },
    {
     "name": "stderr",
     "output_type": "stream",
     "text": [
      "[2022-06-14 15:11:56,086] INFO | darts.models.forecasting.torch_forecasting_model | Train dataset contains 1957 samples.\n",
      "[2022-06-14 15:11:56,086] INFO | darts.models.forecasting.torch_forecasting_model | Train dataset contains 1957 samples.\n",
      "2022-06-14 15:11:56 darts.models.forecasting.torch_forecasting_model INFO: Train dataset contains 1957 samples.\n",
      "[2022-06-14 15:11:56,115] INFO | darts.models.forecasting.torch_forecasting_model | Time series values are 64-bits; casting model to float64.\n",
      "[2022-06-14 15:11:56,115] INFO | darts.models.forecasting.torch_forecasting_model | Time series values are 64-bits; casting model to float64.\n",
      "2022-06-14 15:11:56 darts.models.forecasting.torch_forecasting_model INFO: Time series values are 64-bits; casting model to float64.\n",
      "2022-06-14 15:11:56 pytorch_lightning.utilities.rank_zero INFO: GPU available: False, used: False\n",
      "2022-06-14 15:11:56 pytorch_lightning.utilities.rank_zero INFO: TPU available: False, using: 0 TPU cores\n",
      "2022-06-14 15:11:56 pytorch_lightning.utilities.rank_zero INFO: IPU available: False, using: 0 IPUs\n",
      "2022-06-14 15:11:56 pytorch_lightning.utilities.rank_zero INFO: HPU available: False, using: 0 HPUs\n",
      "2022-06-14 15:11:56 pytorch_lightning.callbacks.model_summary INFO: \n",
      "  | Name      | Type       | Params\n",
      "-----------------------------------------\n",
      "0 | criterion | MSELoss    | 0     \n",
      "1 | stacks    | ModuleList | 8.5 M \n",
      "-----------------------------------------\n",
      "8.5 M     Trainable params\n",
      "3.2 K     Non-trainable params\n",
      "8.5 M     Total params\n",
      "67.633    Total estimated model params size (MB)\n"
     ]
    },
    {
     "data": {
      "application/vnd.jupyter.widget-view+json": {
       "model_id": "65a1f1295ea74a1cac59e871043b2179",
       "version_major": 2,
       "version_minor": 0
      },
      "text/plain": [
       "Training: 0it [00:00, ?it/s]"
      ]
     },
     "metadata": {},
     "output_type": "display_data"
    },
    {
     "data": {
      "application/vnd.jupyter.widget-view+json": {
       "model_id": "a67a3926b89f4eab999d440e4e799a00",
       "version_major": 2,
       "version_minor": 0
      },
      "text/plain": [
       "Predicting: 8it [00:00, ?it/s]"
      ]
     },
     "metadata": {},
     "output_type": "display_data"
    },
    {
     "name": "stderr",
     "output_type": "stream",
     "text": [
      "[2022-06-14 15:12:00,915] INFO | darts.models.forecasting.torch_forecasting_model | Train dataset contains 2727 samples.\n",
      "[2022-06-14 15:12:00,915] INFO | darts.models.forecasting.torch_forecasting_model | Train dataset contains 2727 samples.\n",
      "2022-06-14 15:12:00 darts.models.forecasting.torch_forecasting_model INFO: Train dataset contains 2727 samples.\n",
      "[2022-06-14 15:12:00,945] INFO | darts.models.forecasting.torch_forecasting_model | Time series values are 64-bits; casting model to float64.\n",
      "[2022-06-14 15:12:00,945] INFO | darts.models.forecasting.torch_forecasting_model | Time series values are 64-bits; casting model to float64.\n",
      "2022-06-14 15:12:00 darts.models.forecasting.torch_forecasting_model INFO: Time series values are 64-bits; casting model to float64.\n",
      "2022-06-14 15:12:00 pytorch_lightning.utilities.rank_zero INFO: GPU available: False, used: False\n",
      "2022-06-14 15:12:00 pytorch_lightning.utilities.rank_zero INFO: TPU available: False, using: 0 TPU cores\n",
      "2022-06-14 15:12:00 pytorch_lightning.utilities.rank_zero INFO: IPU available: False, using: 0 IPUs\n",
      "2022-06-14 15:12:00 pytorch_lightning.utilities.rank_zero INFO: HPU available: False, using: 0 HPUs\n",
      "2022-06-14 15:12:00 pytorch_lightning.callbacks.model_summary INFO: \n",
      "  | Name      | Type       | Params\n",
      "-----------------------------------------\n",
      "0 | criterion | MSELoss    | 0     \n",
      "1 | stacks    | ModuleList | 8.5 M \n",
      "-----------------------------------------\n",
      "8.5 M     Trainable params\n",
      "3.2 K     Non-trainable params\n",
      "8.5 M     Total params\n",
      "67.633    Total estimated model params size (MB)\n"
     ]
    },
    {
     "data": {
      "application/vnd.jupyter.widget-view+json": {
       "model_id": "2bb14170eaa448f2b71e54da5c5bb891",
       "version_major": 2,
       "version_minor": 0
      },
      "text/plain": [
       "Training: 0it [00:00, ?it/s]"
      ]
     },
     "metadata": {},
     "output_type": "display_data"
    },
    {
     "data": {
      "application/vnd.jupyter.widget-view+json": {
       "model_id": "69576fd2d8a043549a178bbb3b55a068",
       "version_major": 2,
       "version_minor": 0
      },
      "text/plain": [
       "Predicting: 11it [00:00, ?it/s]"
      ]
     },
     "metadata": {},
     "output_type": "display_data"
    },
    {
     "name": "stderr",
     "output_type": "stream",
     "text": [
      "[2022-06-14 15:12:06,939] INFO | darts.models.forecasting.torch_forecasting_model | Train dataset contains 2670 samples.\n",
      "[2022-06-14 15:12:06,939] INFO | darts.models.forecasting.torch_forecasting_model | Train dataset contains 2670 samples.\n",
      "2022-06-14 15:12:06 darts.models.forecasting.torch_forecasting_model INFO: Train dataset contains 2670 samples.\n",
      "[2022-06-14 15:12:06,967] INFO | darts.models.forecasting.torch_forecasting_model | Time series values are 64-bits; casting model to float64.\n",
      "[2022-06-14 15:12:06,967] INFO | darts.models.forecasting.torch_forecasting_model | Time series values are 64-bits; casting model to float64.\n",
      "2022-06-14 15:12:06 darts.models.forecasting.torch_forecasting_model INFO: Time series values are 64-bits; casting model to float64.\n",
      "2022-06-14 15:12:06 pytorch_lightning.utilities.rank_zero INFO: GPU available: False, used: False\n",
      "2022-06-14 15:12:06 pytorch_lightning.utilities.rank_zero INFO: TPU available: False, using: 0 TPU cores\n",
      "2022-06-14 15:12:06 pytorch_lightning.utilities.rank_zero INFO: IPU available: False, using: 0 IPUs\n",
      "2022-06-14 15:12:06 pytorch_lightning.utilities.rank_zero INFO: HPU available: False, using: 0 HPUs\n",
      "2022-06-14 15:12:06 pytorch_lightning.callbacks.model_summary INFO: \n",
      "  | Name      | Type       | Params\n",
      "-----------------------------------------\n",
      "0 | criterion | MSELoss    | 0     \n",
      "1 | stacks    | ModuleList | 8.5 M \n",
      "-----------------------------------------\n",
      "8.5 M     Trainable params\n",
      "3.2 K     Non-trainable params\n",
      "8.5 M     Total params\n",
      "67.633    Total estimated model params size (MB)\n"
     ]
    },
    {
     "data": {
      "application/vnd.jupyter.widget-view+json": {
       "model_id": "23b598119e8f48fdbba25b7b6c5088ed",
       "version_major": 2,
       "version_minor": 0
      },
      "text/plain": [
       "Training: 0it [00:00, ?it/s]"
      ]
     },
     "metadata": {},
     "output_type": "display_data"
    },
    {
     "data": {
      "application/vnd.jupyter.widget-view+json": {
       "model_id": "e8223889b217437d955bb16deb1f4e7b",
       "version_major": 2,
       "version_minor": 0
      },
      "text/plain": [
       "Predicting: 11it [00:00, ?it/s]"
      ]
     },
     "metadata": {},
     "output_type": "display_data"
    },
    {
     "name": "stderr",
     "output_type": "stream",
     "text": [
      "[2022-06-14 15:12:12,979] INFO | darts.models.forecasting.torch_forecasting_model | Train dataset contains 2727 samples.\n",
      "[2022-06-14 15:12:12,979] INFO | darts.models.forecasting.torch_forecasting_model | Train dataset contains 2727 samples.\n",
      "2022-06-14 15:12:12 darts.models.forecasting.torch_forecasting_model INFO: Train dataset contains 2727 samples.\n",
      "[2022-06-14 15:12:13,008] INFO | darts.models.forecasting.torch_forecasting_model | Time series values are 64-bits; casting model to float64.\n",
      "[2022-06-14 15:12:13,008] INFO | darts.models.forecasting.torch_forecasting_model | Time series values are 64-bits; casting model to float64.\n",
      "2022-06-14 15:12:13 darts.models.forecasting.torch_forecasting_model INFO: Time series values are 64-bits; casting model to float64.\n",
      "2022-06-14 15:12:13 pytorch_lightning.utilities.rank_zero INFO: GPU available: False, used: False\n",
      "2022-06-14 15:12:13 pytorch_lightning.utilities.rank_zero INFO: TPU available: False, using: 0 TPU cores\n",
      "2022-06-14 15:12:13 pytorch_lightning.utilities.rank_zero INFO: IPU available: False, using: 0 IPUs\n",
      "2022-06-14 15:12:13 pytorch_lightning.utilities.rank_zero INFO: HPU available: False, using: 0 HPUs\n",
      "2022-06-14 15:12:13 pytorch_lightning.callbacks.model_summary INFO: \n",
      "  | Name      | Type       | Params\n",
      "-----------------------------------------\n",
      "0 | criterion | MSELoss    | 0     \n",
      "1 | stacks    | ModuleList | 8.5 M \n",
      "-----------------------------------------\n",
      "8.5 M     Trainable params\n",
      "3.2 K     Non-trainable params\n",
      "8.5 M     Total params\n",
      "67.633    Total estimated model params size (MB)\n"
     ]
    },
    {
     "data": {
      "application/vnd.jupyter.widget-view+json": {
       "model_id": "785064e24aff4128ab79244bef620b26",
       "version_major": 2,
       "version_minor": 0
      },
      "text/plain": [
       "Training: 0it [00:00, ?it/s]"
      ]
     },
     "metadata": {},
     "output_type": "display_data"
    },
    {
     "data": {
      "application/vnd.jupyter.widget-view+json": {
       "model_id": "b79269763cd94c62959d88da675860e2",
       "version_major": 2,
       "version_minor": 0
      },
      "text/plain": [
       "Predicting: 11it [00:00, ?it/s]"
      ]
     },
     "metadata": {},
     "output_type": "display_data"
    },
    {
     "name": "stderr",
     "output_type": "stream",
     "text": [
      "[2022-06-14 15:12:19,014] INFO | darts.models.forecasting.torch_forecasting_model | Train dataset contains 2691 samples.\n",
      "[2022-06-14 15:12:19,014] INFO | darts.models.forecasting.torch_forecasting_model | Train dataset contains 2691 samples.\n",
      "2022-06-14 15:12:19 darts.models.forecasting.torch_forecasting_model INFO: Train dataset contains 2691 samples.\n",
      "[2022-06-14 15:12:19,043] INFO | darts.models.forecasting.torch_forecasting_model | Time series values are 64-bits; casting model to float64.\n",
      "[2022-06-14 15:12:19,043] INFO | darts.models.forecasting.torch_forecasting_model | Time series values are 64-bits; casting model to float64.\n",
      "2022-06-14 15:12:19 darts.models.forecasting.torch_forecasting_model INFO: Time series values are 64-bits; casting model to float64.\n",
      "2022-06-14 15:12:19 pytorch_lightning.utilities.rank_zero INFO: GPU available: False, used: False\n",
      "2022-06-14 15:12:19 pytorch_lightning.utilities.rank_zero INFO: TPU available: False, using: 0 TPU cores\n",
      "2022-06-14 15:12:19 pytorch_lightning.utilities.rank_zero INFO: IPU available: False, using: 0 IPUs\n",
      "2022-06-14 15:12:19 pytorch_lightning.utilities.rank_zero INFO: HPU available: False, using: 0 HPUs\n",
      "2022-06-14 15:12:19 pytorch_lightning.callbacks.model_summary INFO: \n",
      "  | Name      | Type       | Params\n",
      "-----------------------------------------\n",
      "0 | criterion | MSELoss    | 0     \n",
      "1 | stacks    | ModuleList | 8.5 M \n",
      "-----------------------------------------\n",
      "8.5 M     Trainable params\n",
      "3.2 K     Non-trainable params\n",
      "8.5 M     Total params\n",
      "67.633    Total estimated model params size (MB)\n"
     ]
    },
    {
     "data": {
      "application/vnd.jupyter.widget-view+json": {
       "model_id": "592e0391a04445468a57c7bef4255b68",
       "version_major": 2,
       "version_minor": 0
      },
      "text/plain": [
       "Training: 0it [00:00, ?it/s]"
      ]
     },
     "metadata": {},
     "output_type": "display_data"
    },
    {
     "data": {
      "application/vnd.jupyter.widget-view+json": {
       "model_id": "c7519ae3ad3845fead18c4d0499ede00",
       "version_major": 2,
       "version_minor": 0
      },
      "text/plain": [
       "Predicting: 11it [00:00, ?it/s]"
      ]
     },
     "metadata": {},
     "output_type": "display_data"
    },
    {
     "name": "stderr",
     "output_type": "stream",
     "text": [
      "[2022-06-14 15:12:25,078] INFO | darts.models.forecasting.torch_forecasting_model | Train dataset contains 2691 samples.\n",
      "[2022-06-14 15:12:25,078] INFO | darts.models.forecasting.torch_forecasting_model | Train dataset contains 2691 samples.\n",
      "2022-06-14 15:12:25 darts.models.forecasting.torch_forecasting_model INFO: Train dataset contains 2691 samples.\n",
      "[2022-06-14 15:12:25,124] INFO | darts.models.forecasting.torch_forecasting_model | Time series values are 64-bits; casting model to float64.\n",
      "[2022-06-14 15:12:25,124] INFO | darts.models.forecasting.torch_forecasting_model | Time series values are 64-bits; casting model to float64.\n",
      "2022-06-14 15:12:25 darts.models.forecasting.torch_forecasting_model INFO: Time series values are 64-bits; casting model to float64.\n",
      "2022-06-14 15:12:25 pytorch_lightning.utilities.rank_zero INFO: GPU available: False, used: False\n",
      "2022-06-14 15:12:25 pytorch_lightning.utilities.rank_zero INFO: TPU available: False, using: 0 TPU cores\n",
      "2022-06-14 15:12:25 pytorch_lightning.utilities.rank_zero INFO: IPU available: False, using: 0 IPUs\n",
      "2022-06-14 15:12:25 pytorch_lightning.utilities.rank_zero INFO: HPU available: False, using: 0 HPUs\n",
      "2022-06-14 15:12:25 pytorch_lightning.callbacks.model_summary INFO: \n",
      "  | Name      | Type       | Params\n",
      "-----------------------------------------\n",
      "0 | criterion | MSELoss    | 0     \n",
      "1 | stacks    | ModuleList | 8.5 M \n",
      "-----------------------------------------\n",
      "8.5 M     Trainable params\n",
      "3.2 K     Non-trainable params\n",
      "8.5 M     Total params\n",
      "67.633    Total estimated model params size (MB)\n"
     ]
    },
    {
     "data": {
      "application/vnd.jupyter.widget-view+json": {
       "model_id": "70262cb29fc04bc0a6e75cbc76abba65",
       "version_major": 2,
       "version_minor": 0
      },
      "text/plain": [
       "Training: 0it [00:00, ?it/s]"
      ]
     },
     "metadata": {},
     "output_type": "display_data"
    },
    {
     "data": {
      "application/vnd.jupyter.widget-view+json": {
       "model_id": "ddf1c33cd4994cdb8948cac61389535b",
       "version_major": 2,
       "version_minor": 0
      },
      "text/plain": [
       "Predicting: 11it [00:00, ?it/s]"
      ]
     },
     "metadata": {},
     "output_type": "display_data"
    },
    {
     "name": "stderr",
     "output_type": "stream",
     "text": [
      "[2022-06-14 15:12:31,159] INFO | darts.models.forecasting.torch_forecasting_model | Train dataset contains 2679 samples.\n",
      "[2022-06-14 15:12:31,159] INFO | darts.models.forecasting.torch_forecasting_model | Train dataset contains 2679 samples.\n",
      "2022-06-14 15:12:31 darts.models.forecasting.torch_forecasting_model INFO: Train dataset contains 2679 samples.\n",
      "[2022-06-14 15:12:31,188] INFO | darts.models.forecasting.torch_forecasting_model | Time series values are 64-bits; casting model to float64.\n",
      "[2022-06-14 15:12:31,188] INFO | darts.models.forecasting.torch_forecasting_model | Time series values are 64-bits; casting model to float64.\n",
      "2022-06-14 15:12:31 darts.models.forecasting.torch_forecasting_model INFO: Time series values are 64-bits; casting model to float64.\n",
      "2022-06-14 15:12:31 pytorch_lightning.utilities.rank_zero INFO: GPU available: False, used: False\n",
      "2022-06-14 15:12:31 pytorch_lightning.utilities.rank_zero INFO: TPU available: False, using: 0 TPU cores\n",
      "2022-06-14 15:12:31 pytorch_lightning.utilities.rank_zero INFO: IPU available: False, using: 0 IPUs\n",
      "2022-06-14 15:12:31 pytorch_lightning.utilities.rank_zero INFO: HPU available: False, using: 0 HPUs\n",
      "2022-06-14 15:12:31 pytorch_lightning.callbacks.model_summary INFO: \n",
      "  | Name      | Type       | Params\n",
      "-----------------------------------------\n",
      "0 | criterion | MSELoss    | 0     \n",
      "1 | stacks    | ModuleList | 8.5 M \n",
      "-----------------------------------------\n",
      "8.5 M     Trainable params\n",
      "3.2 K     Non-trainable params\n",
      "8.5 M     Total params\n",
      "67.633    Total estimated model params size (MB)\n"
     ]
    },
    {
     "data": {
      "application/vnd.jupyter.widget-view+json": {
       "model_id": "efcc5ff68990411eae567432c4c8d152",
       "version_major": 2,
       "version_minor": 0
      },
      "text/plain": [
       "Training: 0it [00:00, ?it/s]"
      ]
     },
     "metadata": {},
     "output_type": "display_data"
    },
    {
     "data": {
      "application/vnd.jupyter.widget-view+json": {
       "model_id": "e688569878ee4dc6a3ab79788027fbcf",
       "version_major": 2,
       "version_minor": 0
      },
      "text/plain": [
       "Predicting: 11it [00:00, ?it/s]"
      ]
     },
     "metadata": {},
     "output_type": "display_data"
    },
    {
     "name": "stderr",
     "output_type": "stream",
     "text": [
      "[2022-06-14 15:12:37,248] INFO | darts.models.forecasting.torch_forecasting_model | Train dataset contains 2727 samples.\n",
      "[2022-06-14 15:12:37,248] INFO | darts.models.forecasting.torch_forecasting_model | Train dataset contains 2727 samples.\n",
      "2022-06-14 15:12:37 darts.models.forecasting.torch_forecasting_model INFO: Train dataset contains 2727 samples.\n",
      "[2022-06-14 15:12:37,277] INFO | darts.models.forecasting.torch_forecasting_model | Time series values are 64-bits; casting model to float64.\n",
      "[2022-06-14 15:12:37,277] INFO | darts.models.forecasting.torch_forecasting_model | Time series values are 64-bits; casting model to float64.\n",
      "2022-06-14 15:12:37 darts.models.forecasting.torch_forecasting_model INFO: Time series values are 64-bits; casting model to float64.\n",
      "2022-06-14 15:12:37 pytorch_lightning.utilities.rank_zero INFO: GPU available: False, used: False\n",
      "2022-06-14 15:12:37 pytorch_lightning.utilities.rank_zero INFO: TPU available: False, using: 0 TPU cores\n",
      "2022-06-14 15:12:37 pytorch_lightning.utilities.rank_zero INFO: IPU available: False, using: 0 IPUs\n",
      "2022-06-14 15:12:37 pytorch_lightning.utilities.rank_zero INFO: HPU available: False, using: 0 HPUs\n",
      "2022-06-14 15:12:37 pytorch_lightning.callbacks.model_summary INFO: \n",
      "  | Name      | Type       | Params\n",
      "-----------------------------------------\n",
      "0 | criterion | MSELoss    | 0     \n",
      "1 | stacks    | ModuleList | 8.5 M \n",
      "-----------------------------------------\n",
      "8.5 M     Trainable params\n",
      "3.2 K     Non-trainable params\n",
      "8.5 M     Total params\n",
      "67.633    Total estimated model params size (MB)\n"
     ]
    },
    {
     "data": {
      "application/vnd.jupyter.widget-view+json": {
       "model_id": "0eac47a969fb432f820347924a4cb613",
       "version_major": 2,
       "version_minor": 0
      },
      "text/plain": [
       "Training: 0it [00:00, ?it/s]"
      ]
     },
     "metadata": {},
     "output_type": "display_data"
    },
    {
     "data": {
      "application/vnd.jupyter.widget-view+json": {
       "model_id": "4f3463a64b314d0180bb77c12a5cd20c",
       "version_major": 2,
       "version_minor": 0
      },
      "text/plain": [
       "Predicting: 11it [00:00, ?it/s]"
      ]
     },
     "metadata": {},
     "output_type": "display_data"
    },
    {
     "name": "stderr",
     "output_type": "stream",
     "text": [
      "[2022-06-14 15:12:43,225] INFO | darts.models.forecasting.torch_forecasting_model | Train dataset contains 2727 samples.\n",
      "[2022-06-14 15:12:43,225] INFO | darts.models.forecasting.torch_forecasting_model | Train dataset contains 2727 samples.\n",
      "2022-06-14 15:12:43 darts.models.forecasting.torch_forecasting_model INFO: Train dataset contains 2727 samples.\n",
      "[2022-06-14 15:12:43,257] INFO | darts.models.forecasting.torch_forecasting_model | Time series values are 64-bits; casting model to float64.\n",
      "[2022-06-14 15:12:43,257] INFO | darts.models.forecasting.torch_forecasting_model | Time series values are 64-bits; casting model to float64.\n",
      "2022-06-14 15:12:43 darts.models.forecasting.torch_forecasting_model INFO: Time series values are 64-bits; casting model to float64.\n",
      "2022-06-14 15:12:43 pytorch_lightning.utilities.rank_zero INFO: GPU available: False, used: False\n",
      "2022-06-14 15:12:43 pytorch_lightning.utilities.rank_zero INFO: TPU available: False, using: 0 TPU cores\n",
      "2022-06-14 15:12:43 pytorch_lightning.utilities.rank_zero INFO: IPU available: False, using: 0 IPUs\n",
      "2022-06-14 15:12:43 pytorch_lightning.utilities.rank_zero INFO: HPU available: False, using: 0 HPUs\n",
      "2022-06-14 15:12:43 pytorch_lightning.callbacks.model_summary INFO: \n",
      "  | Name      | Type       | Params\n",
      "-----------------------------------------\n",
      "0 | criterion | MSELoss    | 0     \n",
      "1 | stacks    | ModuleList | 8.5 M \n",
      "-----------------------------------------\n",
      "8.5 M     Trainable params\n",
      "3.2 K     Non-trainable params\n",
      "8.5 M     Total params\n",
      "67.633    Total estimated model params size (MB)\n"
     ]
    },
    {
     "data": {
      "application/vnd.jupyter.widget-view+json": {
       "model_id": "272963d5fece4592ba2237c2726c04d5",
       "version_major": 2,
       "version_minor": 0
      },
      "text/plain": [
       "Training: 0it [00:00, ?it/s]"
      ]
     },
     "metadata": {},
     "output_type": "display_data"
    },
    {
     "data": {
      "application/vnd.jupyter.widget-view+json": {
       "model_id": "3ea5101c323640709cd1fefd06c892cf",
       "version_major": 2,
       "version_minor": 0
      },
      "text/plain": [
       "Predicting: 11it [00:00, ?it/s]"
      ]
     },
     "metadata": {},
     "output_type": "display_data"
    },
    {
     "name": "stderr",
     "output_type": "stream",
     "text": [
      "[2022-06-14 15:12:49,193] INFO | darts.models.forecasting.torch_forecasting_model | Train dataset contains 2727 samples.\n",
      "[2022-06-14 15:12:49,193] INFO | darts.models.forecasting.torch_forecasting_model | Train dataset contains 2727 samples.\n",
      "2022-06-14 15:12:49 darts.models.forecasting.torch_forecasting_model INFO: Train dataset contains 2727 samples.\n",
      "[2022-06-14 15:12:49,222] INFO | darts.models.forecasting.torch_forecasting_model | Time series values are 64-bits; casting model to float64.\n",
      "[2022-06-14 15:12:49,222] INFO | darts.models.forecasting.torch_forecasting_model | Time series values are 64-bits; casting model to float64.\n",
      "2022-06-14 15:12:49 darts.models.forecasting.torch_forecasting_model INFO: Time series values are 64-bits; casting model to float64.\n",
      "2022-06-14 15:12:49 pytorch_lightning.utilities.rank_zero INFO: GPU available: False, used: False\n",
      "2022-06-14 15:12:49 pytorch_lightning.utilities.rank_zero INFO: TPU available: False, using: 0 TPU cores\n",
      "2022-06-14 15:12:49 pytorch_lightning.utilities.rank_zero INFO: IPU available: False, using: 0 IPUs\n",
      "2022-06-14 15:12:49 pytorch_lightning.utilities.rank_zero INFO: HPU available: False, using: 0 HPUs\n",
      "2022-06-14 15:12:49 pytorch_lightning.callbacks.model_summary INFO: \n",
      "  | Name      | Type       | Params\n",
      "-----------------------------------------\n",
      "0 | criterion | MSELoss    | 0     \n",
      "1 | stacks    | ModuleList | 8.5 M \n",
      "-----------------------------------------\n",
      "8.5 M     Trainable params\n",
      "3.2 K     Non-trainable params\n",
      "8.5 M     Total params\n",
      "67.633    Total estimated model params size (MB)\n"
     ]
    },
    {
     "data": {
      "application/vnd.jupyter.widget-view+json": {
       "model_id": "e436177963534d248c669f2492807451",
       "version_major": 2,
       "version_minor": 0
      },
      "text/plain": [
       "Training: 0it [00:00, ?it/s]"
      ]
     },
     "metadata": {},
     "output_type": "display_data"
    },
    {
     "data": {
      "application/vnd.jupyter.widget-view+json": {
       "model_id": "f6261d0092e64760910d53008ce33ddd",
       "version_major": 2,
       "version_minor": 0
      },
      "text/plain": [
       "Predicting: 11it [00:00, ?it/s]"
      ]
     },
     "metadata": {},
     "output_type": "display_data"
    },
    {
     "name": "stderr",
     "output_type": "stream",
     "text": [
      "[2022-06-14 15:12:55,116] INFO | darts.models.forecasting.torch_forecasting_model | Train dataset contains 2649 samples.\n",
      "[2022-06-14 15:12:55,116] INFO | darts.models.forecasting.torch_forecasting_model | Train dataset contains 2649 samples.\n",
      "2022-06-14 15:12:55 darts.models.forecasting.torch_forecasting_model INFO: Train dataset contains 2649 samples.\n",
      "[2022-06-14 15:12:55,144] INFO | darts.models.forecasting.torch_forecasting_model | Time series values are 64-bits; casting model to float64.\n",
      "[2022-06-14 15:12:55,144] INFO | darts.models.forecasting.torch_forecasting_model | Time series values are 64-bits; casting model to float64.\n",
      "2022-06-14 15:12:55 darts.models.forecasting.torch_forecasting_model INFO: Time series values are 64-bits; casting model to float64.\n",
      "2022-06-14 15:12:55 pytorch_lightning.utilities.rank_zero INFO: GPU available: False, used: False\n",
      "2022-06-14 15:12:55 pytorch_lightning.utilities.rank_zero INFO: TPU available: False, using: 0 TPU cores\n",
      "2022-06-14 15:12:55 pytorch_lightning.utilities.rank_zero INFO: IPU available: False, using: 0 IPUs\n",
      "2022-06-14 15:12:55 pytorch_lightning.utilities.rank_zero INFO: HPU available: False, using: 0 HPUs\n",
      "2022-06-14 15:12:55 pytorch_lightning.callbacks.model_summary INFO: \n",
      "  | Name      | Type       | Params\n",
      "-----------------------------------------\n",
      "0 | criterion | MSELoss    | 0     \n",
      "1 | stacks    | ModuleList | 8.5 M \n",
      "-----------------------------------------\n",
      "8.5 M     Trainable params\n",
      "3.2 K     Non-trainable params\n",
      "8.5 M     Total params\n",
      "67.633    Total estimated model params size (MB)\n"
     ]
    },
    {
     "data": {
      "application/vnd.jupyter.widget-view+json": {
       "model_id": "b2116c16eb56453097f8d9be72e41881",
       "version_major": 2,
       "version_minor": 0
      },
      "text/plain": [
       "Training: 0it [00:00, ?it/s]"
      ]
     },
     "metadata": {},
     "output_type": "display_data"
    },
    {
     "data": {
      "application/vnd.jupyter.widget-view+json": {
       "model_id": "12c04a1e7de9482b846c4a5490c5f594",
       "version_major": 2,
       "version_minor": 0
      },
      "text/plain": [
       "Predicting: 11it [00:00, ?it/s]"
      ]
     },
     "metadata": {},
     "output_type": "display_data"
    },
    {
     "name": "stderr",
     "output_type": "stream",
     "text": [
      "[2022-06-14 15:13:01,160] INFO | darts.models.forecasting.torch_forecasting_model | Train dataset contains 2649 samples.\n",
      "[2022-06-14 15:13:01,160] INFO | darts.models.forecasting.torch_forecasting_model | Train dataset contains 2649 samples.\n",
      "2022-06-14 15:13:01 darts.models.forecasting.torch_forecasting_model INFO: Train dataset contains 2649 samples.\n",
      "[2022-06-14 15:13:01,190] INFO | darts.models.forecasting.torch_forecasting_model | Time series values are 64-bits; casting model to float64.\n",
      "[2022-06-14 15:13:01,190] INFO | darts.models.forecasting.torch_forecasting_model | Time series values are 64-bits; casting model to float64.\n",
      "2022-06-14 15:13:01 darts.models.forecasting.torch_forecasting_model INFO: Time series values are 64-bits; casting model to float64.\n",
      "2022-06-14 15:13:01 pytorch_lightning.utilities.rank_zero INFO: GPU available: False, used: False\n",
      "2022-06-14 15:13:01 pytorch_lightning.utilities.rank_zero INFO: TPU available: False, using: 0 TPU cores\n",
      "2022-06-14 15:13:01 pytorch_lightning.utilities.rank_zero INFO: IPU available: False, using: 0 IPUs\n",
      "2022-06-14 15:13:01 pytorch_lightning.utilities.rank_zero INFO: HPU available: False, using: 0 HPUs\n",
      "2022-06-14 15:13:01 pytorch_lightning.callbacks.model_summary INFO: \n",
      "  | Name      | Type       | Params\n",
      "-----------------------------------------\n",
      "0 | criterion | MSELoss    | 0     \n",
      "1 | stacks    | ModuleList | 8.5 M \n",
      "-----------------------------------------\n",
      "8.5 M     Trainable params\n",
      "3.2 K     Non-trainable params\n",
      "8.5 M     Total params\n",
      "67.633    Total estimated model params size (MB)\n"
     ]
    },
    {
     "data": {
      "application/vnd.jupyter.widget-view+json": {
       "model_id": "b62d3fc56dc945839d71f10af14f9da9",
       "version_major": 2,
       "version_minor": 0
      },
      "text/plain": [
       "Training: 0it [00:00, ?it/s]"
      ]
     },
     "metadata": {},
     "output_type": "display_data"
    },
    {
     "data": {
      "application/vnd.jupyter.widget-view+json": {
       "model_id": "96e15f36317141cea36b6bbd5a9d4b0c",
       "version_major": 2,
       "version_minor": 0
      },
      "text/plain": [
       "Predicting: 11it [00:00, ?it/s]"
      ]
     },
     "metadata": {},
     "output_type": "display_data"
    },
    {
     "name": "stderr",
     "output_type": "stream",
     "text": [
      "[2022-06-14 15:13:07,185] INFO | darts.models.forecasting.torch_forecasting_model | Train dataset contains 1165 samples.\n",
      "[2022-06-14 15:13:07,185] INFO | darts.models.forecasting.torch_forecasting_model | Train dataset contains 1165 samples.\n",
      "2022-06-14 15:13:07 darts.models.forecasting.torch_forecasting_model INFO: Train dataset contains 1165 samples.\n",
      "[2022-06-14 15:13:07,232] INFO | darts.models.forecasting.torch_forecasting_model | Time series values are 64-bits; casting model to float64.\n",
      "[2022-06-14 15:13:07,232] INFO | darts.models.forecasting.torch_forecasting_model | Time series values are 64-bits; casting model to float64.\n",
      "2022-06-14 15:13:07 darts.models.forecasting.torch_forecasting_model INFO: Time series values are 64-bits; casting model to float64.\n",
      "2022-06-14 15:13:07 pytorch_lightning.utilities.rank_zero INFO: GPU available: False, used: False\n",
      "2022-06-14 15:13:07 pytorch_lightning.utilities.rank_zero INFO: TPU available: False, using: 0 TPU cores\n",
      "2022-06-14 15:13:07 pytorch_lightning.utilities.rank_zero INFO: IPU available: False, using: 0 IPUs\n",
      "2022-06-14 15:13:07 pytorch_lightning.utilities.rank_zero INFO: HPU available: False, using: 0 HPUs\n",
      "2022-06-14 15:13:07 pytorch_lightning.callbacks.model_summary INFO: \n",
      "  | Name      | Type       | Params\n",
      "-----------------------------------------\n",
      "0 | criterion | MSELoss    | 0     \n",
      "1 | stacks    | ModuleList | 8.5 M \n",
      "-----------------------------------------\n",
      "8.5 M     Trainable params\n",
      "3.2 K     Non-trainable params\n",
      "8.5 M     Total params\n",
      "67.633    Total estimated model params size (MB)\n"
     ]
    },
    {
     "data": {
      "application/vnd.jupyter.widget-view+json": {
       "model_id": "7c36b1e94901426cb21a74465ae84c8d",
       "version_major": 2,
       "version_minor": 0
      },
      "text/plain": [
       "Training: 0it [00:00, ?it/s]"
      ]
     },
     "metadata": {},
     "output_type": "display_data"
    },
    {
     "data": {
      "application/vnd.jupyter.widget-view+json": {
       "model_id": "898f15e8ffd844d0b00a8f5a31477b5f",
       "version_major": 2,
       "version_minor": 0
      },
      "text/plain": [
       "Predicting: 5it [00:00, ?it/s]"
      ]
     },
     "metadata": {},
     "output_type": "display_data"
    },
    {
     "name": "stderr",
     "output_type": "stream",
     "text": [
      "[2022-06-14 15:13:10,974] INFO | darts.models.forecasting.torch_forecasting_model | Train dataset contains 2731 samples.\n",
      "[2022-06-14 15:13:10,974] INFO | darts.models.forecasting.torch_forecasting_model | Train dataset contains 2731 samples.\n",
      "2022-06-14 15:13:10 darts.models.forecasting.torch_forecasting_model INFO: Train dataset contains 2731 samples.\n",
      "[2022-06-14 15:13:11,003] INFO | darts.models.forecasting.torch_forecasting_model | Time series values are 64-bits; casting model to float64.\n",
      "[2022-06-14 15:13:11,003] INFO | darts.models.forecasting.torch_forecasting_model | Time series values are 64-bits; casting model to float64.\n",
      "2022-06-14 15:13:11 darts.models.forecasting.torch_forecasting_model INFO: Time series values are 64-bits; casting model to float64.\n",
      "2022-06-14 15:13:11 pytorch_lightning.utilities.rank_zero INFO: GPU available: False, used: False\n",
      "2022-06-14 15:13:11 pytorch_lightning.utilities.rank_zero INFO: TPU available: False, using: 0 TPU cores\n",
      "2022-06-14 15:13:11 pytorch_lightning.utilities.rank_zero INFO: IPU available: False, using: 0 IPUs\n",
      "2022-06-14 15:13:11 pytorch_lightning.utilities.rank_zero INFO: HPU available: False, using: 0 HPUs\n",
      "2022-06-14 15:13:11 pytorch_lightning.callbacks.model_summary INFO: \n",
      "  | Name      | Type       | Params\n",
      "-----------------------------------------\n",
      "0 | criterion | MSELoss    | 0     \n",
      "1 | stacks    | ModuleList | 8.5 M \n",
      "-----------------------------------------\n",
      "8.5 M     Trainable params\n",
      "3.2 K     Non-trainable params\n",
      "8.5 M     Total params\n",
      "67.633    Total estimated model params size (MB)\n"
     ]
    },
    {
     "data": {
      "application/vnd.jupyter.widget-view+json": {
       "model_id": "869f3630180d4d1581fedf1b4b42477d",
       "version_major": 2,
       "version_minor": 0
      },
      "text/plain": [
       "Training: 0it [00:00, ?it/s]"
      ]
     },
     "metadata": {},
     "output_type": "display_data"
    },
    {
     "data": {
      "application/vnd.jupyter.widget-view+json": {
       "model_id": "455808749a5746d59100bad056b8a1b8",
       "version_major": 2,
       "version_minor": 0
      },
      "text/plain": [
       "Predicting: 11it [00:00, ?it/s]"
      ]
     },
     "metadata": {},
     "output_type": "display_data"
    },
    {
     "name": "stderr",
     "output_type": "stream",
     "text": [
      "[2022-06-14 15:13:16,971] INFO | darts.models.forecasting.torch_forecasting_model | Train dataset contains 2670 samples.\n",
      "[2022-06-14 15:13:16,971] INFO | darts.models.forecasting.torch_forecasting_model | Train dataset contains 2670 samples.\n",
      "2022-06-14 15:13:16 darts.models.forecasting.torch_forecasting_model INFO: Train dataset contains 2670 samples.\n",
      "[2022-06-14 15:13:17,000] INFO | darts.models.forecasting.torch_forecasting_model | Time series values are 64-bits; casting model to float64.\n",
      "[2022-06-14 15:13:17,000] INFO | darts.models.forecasting.torch_forecasting_model | Time series values are 64-bits; casting model to float64.\n",
      "2022-06-14 15:13:17 darts.models.forecasting.torch_forecasting_model INFO: Time series values are 64-bits; casting model to float64.\n",
      "2022-06-14 15:13:17 pytorch_lightning.utilities.rank_zero INFO: GPU available: False, used: False\n",
      "2022-06-14 15:13:17 pytorch_lightning.utilities.rank_zero INFO: TPU available: False, using: 0 TPU cores\n",
      "2022-06-14 15:13:17 pytorch_lightning.utilities.rank_zero INFO: IPU available: False, using: 0 IPUs\n",
      "2022-06-14 15:13:17 pytorch_lightning.utilities.rank_zero INFO: HPU available: False, using: 0 HPUs\n",
      "2022-06-14 15:13:17 pytorch_lightning.callbacks.model_summary INFO: \n",
      "  | Name      | Type       | Params\n",
      "-----------------------------------------\n",
      "0 | criterion | MSELoss    | 0     \n",
      "1 | stacks    | ModuleList | 8.5 M \n",
      "-----------------------------------------\n",
      "8.5 M     Trainable params\n",
      "3.2 K     Non-trainable params\n",
      "8.5 M     Total params\n",
      "67.633    Total estimated model params size (MB)\n"
     ]
    },
    {
     "data": {
      "application/vnd.jupyter.widget-view+json": {
       "model_id": "02386f636bca4cc7bc9f133974ccb30d",
       "version_major": 2,
       "version_minor": 0
      },
      "text/plain": [
       "Training: 0it [00:00, ?it/s]"
      ]
     },
     "metadata": {},
     "output_type": "display_data"
    },
    {
     "data": {
      "application/vnd.jupyter.widget-view+json": {
       "model_id": "fa962b14064b472b937bbbcea4a032dd",
       "version_major": 2,
       "version_minor": 0
      },
      "text/plain": [
       "Predicting: 11it [00:00, ?it/s]"
      ]
     },
     "metadata": {},
     "output_type": "display_data"
    },
    {
     "name": "stderr",
     "output_type": "stream",
     "text": [
      "[2022-06-14 15:13:23,037] INFO | darts.models.forecasting.torch_forecasting_model | Train dataset contains 2731 samples.\n",
      "[2022-06-14 15:13:23,037] INFO | darts.models.forecasting.torch_forecasting_model | Train dataset contains 2731 samples.\n",
      "2022-06-14 15:13:23 darts.models.forecasting.torch_forecasting_model INFO: Train dataset contains 2731 samples.\n",
      "[2022-06-14 15:13:23,066] INFO | darts.models.forecasting.torch_forecasting_model | Time series values are 64-bits; casting model to float64.\n",
      "[2022-06-14 15:13:23,066] INFO | darts.models.forecasting.torch_forecasting_model | Time series values are 64-bits; casting model to float64.\n",
      "2022-06-14 15:13:23 darts.models.forecasting.torch_forecasting_model INFO: Time series values are 64-bits; casting model to float64.\n",
      "2022-06-14 15:13:23 pytorch_lightning.utilities.rank_zero INFO: GPU available: False, used: False\n",
      "2022-06-14 15:13:23 pytorch_lightning.utilities.rank_zero INFO: TPU available: False, using: 0 TPU cores\n",
      "2022-06-14 15:13:23 pytorch_lightning.utilities.rank_zero INFO: IPU available: False, using: 0 IPUs\n",
      "2022-06-14 15:13:23 pytorch_lightning.utilities.rank_zero INFO: HPU available: False, using: 0 HPUs\n",
      "2022-06-14 15:13:23 pytorch_lightning.callbacks.model_summary INFO: \n",
      "  | Name      | Type       | Params\n",
      "-----------------------------------------\n",
      "0 | criterion | MSELoss    | 0     \n",
      "1 | stacks    | ModuleList | 8.5 M \n",
      "-----------------------------------------\n",
      "8.5 M     Trainable params\n",
      "3.2 K     Non-trainable params\n",
      "8.5 M     Total params\n",
      "67.633    Total estimated model params size (MB)\n"
     ]
    },
    {
     "data": {
      "application/vnd.jupyter.widget-view+json": {
       "model_id": "ec6283814b6143469cee43e2d5e0d7b3",
       "version_major": 2,
       "version_minor": 0
      },
      "text/plain": [
       "Training: 0it [00:00, ?it/s]"
      ]
     },
     "metadata": {},
     "output_type": "display_data"
    },
    {
     "data": {
      "application/vnd.jupyter.widget-view+json": {
       "model_id": "482f4c0b57cf4b93812e35d30a6334bc",
       "version_major": 2,
       "version_minor": 0
      },
      "text/plain": [
       "Predicting: 11it [00:00, ?it/s]"
      ]
     },
     "metadata": {},
     "output_type": "display_data"
    },
    {
     "name": "stderr",
     "output_type": "stream",
     "text": [
      "[2022-06-14 15:13:28,905] INFO | darts.models.forecasting.torch_forecasting_model | Train dataset contains 1259 samples.\n",
      "[2022-06-14 15:13:28,905] INFO | darts.models.forecasting.torch_forecasting_model | Train dataset contains 1259 samples.\n",
      "2022-06-14 15:13:28 darts.models.forecasting.torch_forecasting_model INFO: Train dataset contains 1259 samples.\n",
      "[2022-06-14 15:13:28,934] INFO | darts.models.forecasting.torch_forecasting_model | Time series values are 64-bits; casting model to float64.\n",
      "[2022-06-14 15:13:28,934] INFO | darts.models.forecasting.torch_forecasting_model | Time series values are 64-bits; casting model to float64.\n",
      "2022-06-14 15:13:28 darts.models.forecasting.torch_forecasting_model INFO: Time series values are 64-bits; casting model to float64.\n",
      "2022-06-14 15:13:28 pytorch_lightning.utilities.rank_zero INFO: GPU available: False, used: False\n",
      "2022-06-14 15:13:28 pytorch_lightning.utilities.rank_zero INFO: TPU available: False, using: 0 TPU cores\n",
      "2022-06-14 15:13:28 pytorch_lightning.utilities.rank_zero INFO: IPU available: False, using: 0 IPUs\n",
      "2022-06-14 15:13:28 pytorch_lightning.utilities.rank_zero INFO: HPU available: False, using: 0 HPUs\n",
      "2022-06-14 15:13:28 pytorch_lightning.callbacks.model_summary INFO: \n",
      "  | Name      | Type       | Params\n",
      "-----------------------------------------\n",
      "0 | criterion | MSELoss    | 0     \n",
      "1 | stacks    | ModuleList | 8.5 M \n",
      "-----------------------------------------\n",
      "8.5 M     Trainable params\n",
      "3.2 K     Non-trainable params\n",
      "8.5 M     Total params\n",
      "67.633    Total estimated model params size (MB)\n"
     ]
    },
    {
     "data": {
      "application/vnd.jupyter.widget-view+json": {
       "model_id": "388d9f0df5cf4ba88b728fbf3c6eae7d",
       "version_major": 2,
       "version_minor": 0
      },
      "text/plain": [
       "Training: 0it [00:00, ?it/s]"
      ]
     },
     "metadata": {},
     "output_type": "display_data"
    },
    {
     "data": {
      "application/vnd.jupyter.widget-view+json": {
       "model_id": "1f06248ba2cc49f7a9bb78fd7cbd9938",
       "version_major": 2,
       "version_minor": 0
      },
      "text/plain": [
       "Predicting: 5it [00:00, ?it/s]"
      ]
     },
     "metadata": {},
     "output_type": "display_data"
    },
    {
     "name": "stderr",
     "output_type": "stream",
     "text": [
      "[2022-06-14 15:13:32,727] INFO | darts.models.forecasting.torch_forecasting_model | Train dataset contains 1259 samples.\n",
      "[2022-06-14 15:13:32,727] INFO | darts.models.forecasting.torch_forecasting_model | Train dataset contains 1259 samples.\n",
      "2022-06-14 15:13:32 darts.models.forecasting.torch_forecasting_model INFO: Train dataset contains 1259 samples.\n",
      "[2022-06-14 15:13:32,775] INFO | darts.models.forecasting.torch_forecasting_model | Time series values are 64-bits; casting model to float64.\n",
      "[2022-06-14 15:13:32,775] INFO | darts.models.forecasting.torch_forecasting_model | Time series values are 64-bits; casting model to float64.\n",
      "2022-06-14 15:13:32 darts.models.forecasting.torch_forecasting_model INFO: Time series values are 64-bits; casting model to float64.\n",
      "2022-06-14 15:13:32 pytorch_lightning.utilities.rank_zero INFO: GPU available: False, used: False\n",
      "2022-06-14 15:13:32 pytorch_lightning.utilities.rank_zero INFO: TPU available: False, using: 0 TPU cores\n",
      "2022-06-14 15:13:32 pytorch_lightning.utilities.rank_zero INFO: IPU available: False, using: 0 IPUs\n",
      "2022-06-14 15:13:32 pytorch_lightning.utilities.rank_zero INFO: HPU available: False, using: 0 HPUs\n",
      "2022-06-14 15:13:32 pytorch_lightning.callbacks.model_summary INFO: \n",
      "  | Name      | Type       | Params\n",
      "-----------------------------------------\n",
      "0 | criterion | MSELoss    | 0     \n",
      "1 | stacks    | ModuleList | 8.5 M \n",
      "-----------------------------------------\n",
      "8.5 M     Trainable params\n",
      "3.2 K     Non-trainable params\n",
      "8.5 M     Total params\n",
      "67.633    Total estimated model params size (MB)\n"
     ]
    },
    {
     "data": {
      "application/vnd.jupyter.widget-view+json": {
       "model_id": "6fc4465625824328aaac106da7b0585f",
       "version_major": 2,
       "version_minor": 0
      },
      "text/plain": [
       "Training: 0it [00:00, ?it/s]"
      ]
     },
     "metadata": {},
     "output_type": "display_data"
    },
    {
     "data": {
      "application/vnd.jupyter.widget-view+json": {
       "model_id": "fe58de59d001431ca4fee6f2446a25d5",
       "version_major": 2,
       "version_minor": 0
      },
      "text/plain": [
       "Predicting: 5it [00:00, ?it/s]"
      ]
     },
     "metadata": {},
     "output_type": "display_data"
    },
    {
     "name": "stderr",
     "output_type": "stream",
     "text": [
      "[2022-06-14 15:13:36,544] INFO | darts.models.forecasting.torch_forecasting_model | Train dataset contains 2679 samples.\n",
      "[2022-06-14 15:13:36,544] INFO | darts.models.forecasting.torch_forecasting_model | Train dataset contains 2679 samples.\n",
      "2022-06-14 15:13:36 darts.models.forecasting.torch_forecasting_model INFO: Train dataset contains 2679 samples.\n",
      "[2022-06-14 15:13:36,572] INFO | darts.models.forecasting.torch_forecasting_model | Time series values are 64-bits; casting model to float64.\n",
      "[2022-06-14 15:13:36,572] INFO | darts.models.forecasting.torch_forecasting_model | Time series values are 64-bits; casting model to float64.\n",
      "2022-06-14 15:13:36 darts.models.forecasting.torch_forecasting_model INFO: Time series values are 64-bits; casting model to float64.\n",
      "2022-06-14 15:13:36 pytorch_lightning.utilities.rank_zero INFO: GPU available: False, used: False\n",
      "2022-06-14 15:13:36 pytorch_lightning.utilities.rank_zero INFO: TPU available: False, using: 0 TPU cores\n",
      "2022-06-14 15:13:36 pytorch_lightning.utilities.rank_zero INFO: IPU available: False, using: 0 IPUs\n",
      "2022-06-14 15:13:36 pytorch_lightning.utilities.rank_zero INFO: HPU available: False, using: 0 HPUs\n",
      "2022-06-14 15:13:36 pytorch_lightning.callbacks.model_summary INFO: \n",
      "  | Name      | Type       | Params\n",
      "-----------------------------------------\n",
      "0 | criterion | MSELoss    | 0     \n",
      "1 | stacks    | ModuleList | 8.5 M \n",
      "-----------------------------------------\n",
      "8.5 M     Trainable params\n",
      "3.2 K     Non-trainable params\n",
      "8.5 M     Total params\n",
      "67.633    Total estimated model params size (MB)\n"
     ]
    },
    {
     "data": {
      "application/vnd.jupyter.widget-view+json": {
       "model_id": "6fcf90495b9a45c1be7e257cacf8e396",
       "version_major": 2,
       "version_minor": 0
      },
      "text/plain": [
       "Training: 0it [00:00, ?it/s]"
      ]
     },
     "metadata": {},
     "output_type": "display_data"
    },
    {
     "data": {
      "application/vnd.jupyter.widget-view+json": {
       "model_id": "770070ec545f489fa5aa927d3e64b986",
       "version_major": 2,
       "version_minor": 0
      },
      "text/plain": [
       "Predicting: 11it [00:00, ?it/s]"
      ]
     },
     "metadata": {},
     "output_type": "display_data"
    },
    {
     "name": "stderr",
     "output_type": "stream",
     "text": [
      "[2022-06-14 15:13:42,382] INFO | darts.models.forecasting.torch_forecasting_model | Train dataset contains 2730 samples.\n",
      "[2022-06-14 15:13:42,382] INFO | darts.models.forecasting.torch_forecasting_model | Train dataset contains 2730 samples.\n",
      "2022-06-14 15:13:42 darts.models.forecasting.torch_forecasting_model INFO: Train dataset contains 2730 samples.\n",
      "[2022-06-14 15:13:42,411] INFO | darts.models.forecasting.torch_forecasting_model | Time series values are 64-bits; casting model to float64.\n",
      "[2022-06-14 15:13:42,411] INFO | darts.models.forecasting.torch_forecasting_model | Time series values are 64-bits; casting model to float64.\n",
      "2022-06-14 15:13:42 darts.models.forecasting.torch_forecasting_model INFO: Time series values are 64-bits; casting model to float64.\n",
      "2022-06-14 15:13:42 pytorch_lightning.utilities.rank_zero INFO: GPU available: False, used: False\n",
      "2022-06-14 15:13:42 pytorch_lightning.utilities.rank_zero INFO: TPU available: False, using: 0 TPU cores\n",
      "2022-06-14 15:13:42 pytorch_lightning.utilities.rank_zero INFO: IPU available: False, using: 0 IPUs\n",
      "2022-06-14 15:13:42 pytorch_lightning.utilities.rank_zero INFO: HPU available: False, using: 0 HPUs\n",
      "2022-06-14 15:13:42 pytorch_lightning.callbacks.model_summary INFO: \n",
      "  | Name      | Type       | Params\n",
      "-----------------------------------------\n",
      "0 | criterion | MSELoss    | 0     \n",
      "1 | stacks    | ModuleList | 8.5 M \n",
      "-----------------------------------------\n",
      "8.5 M     Trainable params\n",
      "3.2 K     Non-trainable params\n",
      "8.5 M     Total params\n",
      "67.633    Total estimated model params size (MB)\n"
     ]
    },
    {
     "data": {
      "application/vnd.jupyter.widget-view+json": {
       "model_id": "d4521a635b4a4eeeaa27e73cac67f9b1",
       "version_major": 2,
       "version_minor": 0
      },
      "text/plain": [
       "Training: 0it [00:00, ?it/s]"
      ]
     },
     "metadata": {},
     "output_type": "display_data"
    },
    {
     "data": {
      "application/vnd.jupyter.widget-view+json": {
       "model_id": "c320926adca740ba9570895f3aa67f12",
       "version_major": 2,
       "version_minor": 0
      },
      "text/plain": [
       "Predicting: 11it [00:00, ?it/s]"
      ]
     },
     "metadata": {},
     "output_type": "display_data"
    },
    {
     "name": "stderr",
     "output_type": "stream",
     "text": [
      "[2022-06-14 15:13:48,344] INFO | darts.models.forecasting.torch_forecasting_model | Train dataset contains 2730 samples.\n",
      "[2022-06-14 15:13:48,344] INFO | darts.models.forecasting.torch_forecasting_model | Train dataset contains 2730 samples.\n",
      "2022-06-14 15:13:48 darts.models.forecasting.torch_forecasting_model INFO: Train dataset contains 2730 samples.\n",
      "[2022-06-14 15:13:48,373] INFO | darts.models.forecasting.torch_forecasting_model | Time series values are 64-bits; casting model to float64.\n",
      "[2022-06-14 15:13:48,373] INFO | darts.models.forecasting.torch_forecasting_model | Time series values are 64-bits; casting model to float64.\n",
      "2022-06-14 15:13:48 darts.models.forecasting.torch_forecasting_model INFO: Time series values are 64-bits; casting model to float64.\n",
      "2022-06-14 15:13:48 pytorch_lightning.utilities.rank_zero INFO: GPU available: False, used: False\n",
      "2022-06-14 15:13:48 pytorch_lightning.utilities.rank_zero INFO: TPU available: False, using: 0 TPU cores\n",
      "2022-06-14 15:13:48 pytorch_lightning.utilities.rank_zero INFO: IPU available: False, using: 0 IPUs\n",
      "2022-06-14 15:13:48 pytorch_lightning.utilities.rank_zero INFO: HPU available: False, using: 0 HPUs\n",
      "2022-06-14 15:13:48 pytorch_lightning.callbacks.model_summary INFO: \n",
      "  | Name      | Type       | Params\n",
      "-----------------------------------------\n",
      "0 | criterion | MSELoss    | 0     \n",
      "1 | stacks    | ModuleList | 8.5 M \n",
      "-----------------------------------------\n",
      "8.5 M     Trainable params\n",
      "3.2 K     Non-trainable params\n",
      "8.5 M     Total params\n",
      "67.633    Total estimated model params size (MB)\n"
     ]
    },
    {
     "data": {
      "application/vnd.jupyter.widget-view+json": {
       "model_id": "ca34e6c5f7154906b29dd2139e204b85",
       "version_major": 2,
       "version_minor": 0
      },
      "text/plain": [
       "Training: 0it [00:00, ?it/s]"
      ]
     },
     "metadata": {},
     "output_type": "display_data"
    },
    {
     "data": {
      "application/vnd.jupyter.widget-view+json": {
       "model_id": "155000203b0b4fcf90c634d98403dab7",
       "version_major": 2,
       "version_minor": 0
      },
      "text/plain": [
       "Predicting: 11it [00:00, ?it/s]"
      ]
     },
     "metadata": {},
     "output_type": "display_data"
    },
    {
     "name": "stderr",
     "output_type": "stream",
     "text": [
      "[2022-06-14 15:13:54,363] INFO | darts.models.forecasting.torch_forecasting_model | Train dataset contains 2730 samples.\n",
      "[2022-06-14 15:13:54,363] INFO | darts.models.forecasting.torch_forecasting_model | Train dataset contains 2730 samples.\n",
      "2022-06-14 15:13:54 darts.models.forecasting.torch_forecasting_model INFO: Train dataset contains 2730 samples.\n",
      "[2022-06-14 15:13:54,392] INFO | darts.models.forecasting.torch_forecasting_model | Time series values are 64-bits; casting model to float64.\n",
      "[2022-06-14 15:13:54,392] INFO | darts.models.forecasting.torch_forecasting_model | Time series values are 64-bits; casting model to float64.\n",
      "2022-06-14 15:13:54 darts.models.forecasting.torch_forecasting_model INFO: Time series values are 64-bits; casting model to float64.\n",
      "2022-06-14 15:13:54 pytorch_lightning.utilities.rank_zero INFO: GPU available: False, used: False\n",
      "2022-06-14 15:13:54 pytorch_lightning.utilities.rank_zero INFO: TPU available: False, using: 0 TPU cores\n",
      "2022-06-14 15:13:54 pytorch_lightning.utilities.rank_zero INFO: IPU available: False, using: 0 IPUs\n",
      "2022-06-14 15:13:54 pytorch_lightning.utilities.rank_zero INFO: HPU available: False, using: 0 HPUs\n",
      "2022-06-14 15:13:54 pytorch_lightning.callbacks.model_summary INFO: \n",
      "  | Name      | Type       | Params\n",
      "-----------------------------------------\n",
      "0 | criterion | MSELoss    | 0     \n",
      "1 | stacks    | ModuleList | 8.5 M \n",
      "-----------------------------------------\n",
      "8.5 M     Trainable params\n",
      "3.2 K     Non-trainable params\n",
      "8.5 M     Total params\n",
      "67.633    Total estimated model params size (MB)\n"
     ]
    },
    {
     "data": {
      "application/vnd.jupyter.widget-view+json": {
       "model_id": "475f6d3939b343b6ae19beba1b224343",
       "version_major": 2,
       "version_minor": 0
      },
      "text/plain": [
       "Training: 0it [00:00, ?it/s]"
      ]
     },
     "metadata": {},
     "output_type": "display_data"
    },
    {
     "data": {
      "application/vnd.jupyter.widget-view+json": {
       "model_id": "eb6f2d2535894448926140bd5b32e52d",
       "version_major": 2,
       "version_minor": 0
      },
      "text/plain": [
       "Predicting: 11it [00:00, ?it/s]"
      ]
     },
     "metadata": {},
     "output_type": "display_data"
    },
    {
     "name": "stderr",
     "output_type": "stream",
     "text": [
      "[2022-06-14 15:14:00,348] INFO | darts.models.forecasting.torch_forecasting_model | Train dataset contains 2730 samples.\n",
      "[2022-06-14 15:14:00,348] INFO | darts.models.forecasting.torch_forecasting_model | Train dataset contains 2730 samples.\n",
      "2022-06-14 15:14:00 darts.models.forecasting.torch_forecasting_model INFO: Train dataset contains 2730 samples.\n",
      "[2022-06-14 15:14:00,378] INFO | darts.models.forecasting.torch_forecasting_model | Time series values are 64-bits; casting model to float64.\n",
      "[2022-06-14 15:14:00,378] INFO | darts.models.forecasting.torch_forecasting_model | Time series values are 64-bits; casting model to float64.\n",
      "2022-06-14 15:14:00 darts.models.forecasting.torch_forecasting_model INFO: Time series values are 64-bits; casting model to float64.\n",
      "2022-06-14 15:14:00 pytorch_lightning.utilities.rank_zero INFO: GPU available: False, used: False\n",
      "2022-06-14 15:14:00 pytorch_lightning.utilities.rank_zero INFO: TPU available: False, using: 0 TPU cores\n",
      "2022-06-14 15:14:00 pytorch_lightning.utilities.rank_zero INFO: IPU available: False, using: 0 IPUs\n",
      "2022-06-14 15:14:00 pytorch_lightning.utilities.rank_zero INFO: HPU available: False, using: 0 HPUs\n",
      "2022-06-14 15:14:00 pytorch_lightning.callbacks.model_summary INFO: \n",
      "  | Name      | Type       | Params\n",
      "-----------------------------------------\n",
      "0 | criterion | MSELoss    | 0     \n",
      "1 | stacks    | ModuleList | 8.5 M \n",
      "-----------------------------------------\n",
      "8.5 M     Trainable params\n",
      "3.2 K     Non-trainable params\n",
      "8.5 M     Total params\n",
      "67.633    Total estimated model params size (MB)\n"
     ]
    },
    {
     "data": {
      "application/vnd.jupyter.widget-view+json": {
       "model_id": "00b33d3d35a54275a77e00879c2ca810",
       "version_major": 2,
       "version_minor": 0
      },
      "text/plain": [
       "Training: 0it [00:00, ?it/s]"
      ]
     },
     "metadata": {},
     "output_type": "display_data"
    },
    {
     "data": {
      "application/vnd.jupyter.widget-view+json": {
       "model_id": "4cc1e986f7874bcd9514555d532e7899",
       "version_major": 2,
       "version_minor": 0
      },
      "text/plain": [
       "Predicting: 11it [00:00, ?it/s]"
      ]
     },
     "metadata": {},
     "output_type": "display_data"
    },
    {
     "name": "stderr",
     "output_type": "stream",
     "text": [
      "[2022-06-14 15:14:06,295] INFO | darts.models.forecasting.torch_forecasting_model | Train dataset contains 2730 samples.\n",
      "[2022-06-14 15:14:06,295] INFO | darts.models.forecasting.torch_forecasting_model | Train dataset contains 2730 samples.\n",
      "2022-06-14 15:14:06 darts.models.forecasting.torch_forecasting_model INFO: Train dataset contains 2730 samples.\n",
      "[2022-06-14 15:14:06,325] INFO | darts.models.forecasting.torch_forecasting_model | Time series values are 64-bits; casting model to float64.\n",
      "[2022-06-14 15:14:06,325] INFO | darts.models.forecasting.torch_forecasting_model | Time series values are 64-bits; casting model to float64.\n",
      "2022-06-14 15:14:06 darts.models.forecasting.torch_forecasting_model INFO: Time series values are 64-bits; casting model to float64.\n",
      "2022-06-14 15:14:06 pytorch_lightning.utilities.rank_zero INFO: GPU available: False, used: False\n",
      "2022-06-14 15:14:06 pytorch_lightning.utilities.rank_zero INFO: TPU available: False, using: 0 TPU cores\n",
      "2022-06-14 15:14:06 pytorch_lightning.utilities.rank_zero INFO: IPU available: False, using: 0 IPUs\n",
      "2022-06-14 15:14:06 pytorch_lightning.utilities.rank_zero INFO: HPU available: False, using: 0 HPUs\n",
      "2022-06-14 15:14:06 pytorch_lightning.callbacks.model_summary INFO: \n",
      "  | Name      | Type       | Params\n",
      "-----------------------------------------\n",
      "0 | criterion | MSELoss    | 0     \n",
      "1 | stacks    | ModuleList | 8.5 M \n",
      "-----------------------------------------\n",
      "8.5 M     Trainable params\n",
      "3.2 K     Non-trainable params\n",
      "8.5 M     Total params\n",
      "67.633    Total estimated model params size (MB)\n"
     ]
    },
    {
     "data": {
      "application/vnd.jupyter.widget-view+json": {
       "model_id": "b4f6dba2dc40465dbfd5cb8d791d9255",
       "version_major": 2,
       "version_minor": 0
      },
      "text/plain": [
       "Training: 0it [00:00, ?it/s]"
      ]
     },
     "metadata": {},
     "output_type": "display_data"
    },
    {
     "data": {
      "application/vnd.jupyter.widget-view+json": {
       "model_id": "7585f5da85114253a6853c80ab07b2d3",
       "version_major": 2,
       "version_minor": 0
      },
      "text/plain": [
       "Predicting: 11it [00:00, ?it/s]"
      ]
     },
     "metadata": {},
     "output_type": "display_data"
    },
    {
     "name": "stderr",
     "output_type": "stream",
     "text": [
      "[2022-06-14 15:14:12,331] INFO | darts.models.forecasting.torch_forecasting_model | Train dataset contains 2202 samples.\n",
      "[2022-06-14 15:14:12,331] INFO | darts.models.forecasting.torch_forecasting_model | Train dataset contains 2202 samples.\n",
      "2022-06-14 15:14:12 darts.models.forecasting.torch_forecasting_model INFO: Train dataset contains 2202 samples.\n",
      "[2022-06-14 15:14:12,361] INFO | darts.models.forecasting.torch_forecasting_model | Time series values are 64-bits; casting model to float64.\n",
      "[2022-06-14 15:14:12,361] INFO | darts.models.forecasting.torch_forecasting_model | Time series values are 64-bits; casting model to float64.\n",
      "2022-06-14 15:14:12 darts.models.forecasting.torch_forecasting_model INFO: Time series values are 64-bits; casting model to float64.\n",
      "2022-06-14 15:14:12 pytorch_lightning.utilities.rank_zero INFO: GPU available: False, used: False\n",
      "2022-06-14 15:14:12 pytorch_lightning.utilities.rank_zero INFO: TPU available: False, using: 0 TPU cores\n",
      "2022-06-14 15:14:12 pytorch_lightning.utilities.rank_zero INFO: IPU available: False, using: 0 IPUs\n",
      "2022-06-14 15:14:12 pytorch_lightning.utilities.rank_zero INFO: HPU available: False, using: 0 HPUs\n",
      "2022-06-14 15:14:12 pytorch_lightning.callbacks.model_summary INFO: \n",
      "  | Name      | Type       | Params\n",
      "-----------------------------------------\n",
      "0 | criterion | MSELoss    | 0     \n",
      "1 | stacks    | ModuleList | 8.5 M \n",
      "-----------------------------------------\n",
      "8.5 M     Trainable params\n",
      "3.2 K     Non-trainable params\n",
      "8.5 M     Total params\n",
      "67.633    Total estimated model params size (MB)\n"
     ]
    },
    {
     "data": {
      "application/vnd.jupyter.widget-view+json": {
       "model_id": "5ca400124124431e9369c40f6501505f",
       "version_major": 2,
       "version_minor": 0
      },
      "text/plain": [
       "Training: 0it [00:00, ?it/s]"
      ]
     },
     "metadata": {},
     "output_type": "display_data"
    },
    {
     "data": {
      "application/vnd.jupyter.widget-view+json": {
       "model_id": "09b4f83887c34dbd9b4c9a48712797a4",
       "version_major": 2,
       "version_minor": 0
      },
      "text/plain": [
       "Predicting: 9it [00:00, ?it/s]"
      ]
     },
     "metadata": {},
     "output_type": "display_data"
    },
    {
     "name": "stderr",
     "output_type": "stream",
     "text": [
      "[2022-06-14 15:14:17,715] INFO | darts.models.forecasting.torch_forecasting_model | Train dataset contains 2720 samples.\n",
      "[2022-06-14 15:14:17,715] INFO | darts.models.forecasting.torch_forecasting_model | Train dataset contains 2720 samples.\n",
      "2022-06-14 15:14:17 darts.models.forecasting.torch_forecasting_model INFO: Train dataset contains 2720 samples.\n",
      "[2022-06-14 15:14:17,744] INFO | darts.models.forecasting.torch_forecasting_model | Time series values are 64-bits; casting model to float64.\n",
      "[2022-06-14 15:14:17,744] INFO | darts.models.forecasting.torch_forecasting_model | Time series values are 64-bits; casting model to float64.\n",
      "2022-06-14 15:14:17 darts.models.forecasting.torch_forecasting_model INFO: Time series values are 64-bits; casting model to float64.\n",
      "2022-06-14 15:14:17 pytorch_lightning.utilities.rank_zero INFO: GPU available: False, used: False\n",
      "2022-06-14 15:14:17 pytorch_lightning.utilities.rank_zero INFO: TPU available: False, using: 0 TPU cores\n",
      "2022-06-14 15:14:17 pytorch_lightning.utilities.rank_zero INFO: IPU available: False, using: 0 IPUs\n",
      "2022-06-14 15:14:17 pytorch_lightning.utilities.rank_zero INFO: HPU available: False, using: 0 HPUs\n",
      "2022-06-14 15:14:17 pytorch_lightning.callbacks.model_summary INFO: \n",
      "  | Name      | Type       | Params\n",
      "-----------------------------------------\n",
      "0 | criterion | MSELoss    | 0     \n",
      "1 | stacks    | ModuleList | 8.5 M \n",
      "-----------------------------------------\n",
      "8.5 M     Trainable params\n",
      "3.2 K     Non-trainable params\n",
      "8.5 M     Total params\n",
      "67.633    Total estimated model params size (MB)\n"
     ]
    },
    {
     "data": {
      "application/vnd.jupyter.widget-view+json": {
       "model_id": "5a5a08824d3e41908580bf40e9ef69ab",
       "version_major": 2,
       "version_minor": 0
      },
      "text/plain": [
       "Training: 0it [00:00, ?it/s]"
      ]
     },
     "metadata": {},
     "output_type": "display_data"
    },
    {
     "data": {
      "application/vnd.jupyter.widget-view+json": {
       "model_id": "095cb8931b144a6193fd8c7b008f54a3",
       "version_major": 2,
       "version_minor": 0
      },
      "text/plain": [
       "Predicting: 11it [00:00, ?it/s]"
      ]
     },
     "metadata": {},
     "output_type": "display_data"
    },
    {
     "name": "stderr",
     "output_type": "stream",
     "text": [
      "[2022-06-14 15:14:23,741] INFO | darts.models.forecasting.torch_forecasting_model | Train dataset contains 2716 samples.\n",
      "[2022-06-14 15:14:23,741] INFO | darts.models.forecasting.torch_forecasting_model | Train dataset contains 2716 samples.\n",
      "2022-06-14 15:14:23 darts.models.forecasting.torch_forecasting_model INFO: Train dataset contains 2716 samples.\n",
      "[2022-06-14 15:14:23,788] INFO | darts.models.forecasting.torch_forecasting_model | Time series values are 64-bits; casting model to float64.\n",
      "[2022-06-14 15:14:23,788] INFO | darts.models.forecasting.torch_forecasting_model | Time series values are 64-bits; casting model to float64.\n",
      "2022-06-14 15:14:23 darts.models.forecasting.torch_forecasting_model INFO: Time series values are 64-bits; casting model to float64.\n",
      "2022-06-14 15:14:23 pytorch_lightning.utilities.rank_zero INFO: GPU available: False, used: False\n",
      "2022-06-14 15:14:23 pytorch_lightning.utilities.rank_zero INFO: TPU available: False, using: 0 TPU cores\n",
      "2022-06-14 15:14:23 pytorch_lightning.utilities.rank_zero INFO: IPU available: False, using: 0 IPUs\n",
      "2022-06-14 15:14:23 pytorch_lightning.utilities.rank_zero INFO: HPU available: False, using: 0 HPUs\n",
      "2022-06-14 15:14:23 pytorch_lightning.callbacks.model_summary INFO: \n",
      "  | Name      | Type       | Params\n",
      "-----------------------------------------\n",
      "0 | criterion | MSELoss    | 0     \n",
      "1 | stacks    | ModuleList | 8.5 M \n",
      "-----------------------------------------\n",
      "8.5 M     Trainable params\n",
      "3.2 K     Non-trainable params\n",
      "8.5 M     Total params\n",
      "67.633    Total estimated model params size (MB)\n"
     ]
    },
    {
     "data": {
      "application/vnd.jupyter.widget-view+json": {
       "model_id": "d8ec8e80c7c04566ac021708ea0075a0",
       "version_major": 2,
       "version_minor": 0
      },
      "text/plain": [
       "Training: 0it [00:00, ?it/s]"
      ]
     },
     "metadata": {},
     "output_type": "display_data"
    },
    {
     "data": {
      "application/vnd.jupyter.widget-view+json": {
       "model_id": "9504b0d0bf53429fa00e56056e2e01bf",
       "version_major": 2,
       "version_minor": 0
      },
      "text/plain": [
       "Predicting: 11it [00:00, ?it/s]"
      ]
     },
     "metadata": {},
     "output_type": "display_data"
    },
    {
     "name": "stderr",
     "output_type": "stream",
     "text": [
      "[2022-06-14 15:14:29,734] INFO | darts.models.forecasting.torch_forecasting_model | Train dataset contains 2702 samples.\n",
      "[2022-06-14 15:14:29,734] INFO | darts.models.forecasting.torch_forecasting_model | Train dataset contains 2702 samples.\n",
      "2022-06-14 15:14:29 darts.models.forecasting.torch_forecasting_model INFO: Train dataset contains 2702 samples.\n",
      "[2022-06-14 15:14:29,780] INFO | darts.models.forecasting.torch_forecasting_model | Time series values are 64-bits; casting model to float64.\n",
      "[2022-06-14 15:14:29,780] INFO | darts.models.forecasting.torch_forecasting_model | Time series values are 64-bits; casting model to float64.\n",
      "2022-06-14 15:14:29 darts.models.forecasting.torch_forecasting_model INFO: Time series values are 64-bits; casting model to float64.\n",
      "2022-06-14 15:14:29 pytorch_lightning.utilities.rank_zero INFO: GPU available: False, used: False\n",
      "2022-06-14 15:14:29 pytorch_lightning.utilities.rank_zero INFO: TPU available: False, using: 0 TPU cores\n",
      "2022-06-14 15:14:29 pytorch_lightning.utilities.rank_zero INFO: IPU available: False, using: 0 IPUs\n",
      "2022-06-14 15:14:29 pytorch_lightning.utilities.rank_zero INFO: HPU available: False, using: 0 HPUs\n",
      "2022-06-14 15:14:29 pytorch_lightning.callbacks.model_summary INFO: \n",
      "  | Name      | Type       | Params\n",
      "-----------------------------------------\n",
      "0 | criterion | MSELoss    | 0     \n",
      "1 | stacks    | ModuleList | 8.5 M \n",
      "-----------------------------------------\n",
      "8.5 M     Trainable params\n",
      "3.2 K     Non-trainable params\n",
      "8.5 M     Total params\n",
      "67.633    Total estimated model params size (MB)\n"
     ]
    },
    {
     "data": {
      "application/vnd.jupyter.widget-view+json": {
       "model_id": "faf073c401544a72aca18e477d4e8000",
       "version_major": 2,
       "version_minor": 0
      },
      "text/plain": [
       "Training: 0it [00:00, ?it/s]"
      ]
     },
     "metadata": {},
     "output_type": "display_data"
    },
    {
     "data": {
      "application/vnd.jupyter.widget-view+json": {
       "model_id": "6189ff63221045dea0067f133195653b",
       "version_major": 2,
       "version_minor": 0
      },
      "text/plain": [
       "Predicting: 11it [00:00, ?it/s]"
      ]
     },
     "metadata": {},
     "output_type": "display_data"
    },
    {
     "name": "stderr",
     "output_type": "stream",
     "text": [
      "[2022-06-14 15:14:35,718] INFO | darts.models.forecasting.torch_forecasting_model | Train dataset contains 2714 samples.\n",
      "[2022-06-14 15:14:35,718] INFO | darts.models.forecasting.torch_forecasting_model | Train dataset contains 2714 samples.\n",
      "2022-06-14 15:14:35 darts.models.forecasting.torch_forecasting_model INFO: Train dataset contains 2714 samples.\n",
      "[2022-06-14 15:14:35,747] INFO | darts.models.forecasting.torch_forecasting_model | Time series values are 64-bits; casting model to float64.\n",
      "[2022-06-14 15:14:35,747] INFO | darts.models.forecasting.torch_forecasting_model | Time series values are 64-bits; casting model to float64.\n",
      "2022-06-14 15:14:35 darts.models.forecasting.torch_forecasting_model INFO: Time series values are 64-bits; casting model to float64.\n",
      "2022-06-14 15:14:35 pytorch_lightning.utilities.rank_zero INFO: GPU available: False, used: False\n",
      "2022-06-14 15:14:35 pytorch_lightning.utilities.rank_zero INFO: TPU available: False, using: 0 TPU cores\n",
      "2022-06-14 15:14:35 pytorch_lightning.utilities.rank_zero INFO: IPU available: False, using: 0 IPUs\n",
      "2022-06-14 15:14:35 pytorch_lightning.utilities.rank_zero INFO: HPU available: False, using: 0 HPUs\n",
      "2022-06-14 15:14:35 pytorch_lightning.callbacks.model_summary INFO: \n",
      "  | Name      | Type       | Params\n",
      "-----------------------------------------\n",
      "0 | criterion | MSELoss    | 0     \n",
      "1 | stacks    | ModuleList | 8.5 M \n",
      "-----------------------------------------\n",
      "8.5 M     Trainable params\n",
      "3.2 K     Non-trainable params\n",
      "8.5 M     Total params\n",
      "67.633    Total estimated model params size (MB)\n"
     ]
    },
    {
     "data": {
      "application/vnd.jupyter.widget-view+json": {
       "model_id": "f66b6d46de374de2b82943c6d6033ff9",
       "version_major": 2,
       "version_minor": 0
      },
      "text/plain": [
       "Training: 0it [00:00, ?it/s]"
      ]
     },
     "metadata": {},
     "output_type": "display_data"
    },
    {
     "data": {
      "application/vnd.jupyter.widget-view+json": {
       "model_id": "adcb07418fc4470298d67a60be16c28c",
       "version_major": 2,
       "version_minor": 0
      },
      "text/plain": [
       "Predicting: 11it [00:00, ?it/s]"
      ]
     },
     "metadata": {},
     "output_type": "display_data"
    },
    {
     "name": "stderr",
     "output_type": "stream",
     "text": [
      "[2022-06-14 15:14:41,697] INFO | darts.models.forecasting.torch_forecasting_model | Train dataset contains 2714 samples.\n",
      "[2022-06-14 15:14:41,697] INFO | darts.models.forecasting.torch_forecasting_model | Train dataset contains 2714 samples.\n",
      "2022-06-14 15:14:41 darts.models.forecasting.torch_forecasting_model INFO: Train dataset contains 2714 samples.\n",
      "[2022-06-14 15:14:41,725] INFO | darts.models.forecasting.torch_forecasting_model | Time series values are 64-bits; casting model to float64.\n",
      "[2022-06-14 15:14:41,725] INFO | darts.models.forecasting.torch_forecasting_model | Time series values are 64-bits; casting model to float64.\n",
      "2022-06-14 15:14:41 darts.models.forecasting.torch_forecasting_model INFO: Time series values are 64-bits; casting model to float64.\n",
      "2022-06-14 15:14:41 pytorch_lightning.utilities.rank_zero INFO: GPU available: False, used: False\n",
      "2022-06-14 15:14:41 pytorch_lightning.utilities.rank_zero INFO: TPU available: False, using: 0 TPU cores\n",
      "2022-06-14 15:14:41 pytorch_lightning.utilities.rank_zero INFO: IPU available: False, using: 0 IPUs\n",
      "2022-06-14 15:14:41 pytorch_lightning.utilities.rank_zero INFO: HPU available: False, using: 0 HPUs\n",
      "2022-06-14 15:14:41 pytorch_lightning.callbacks.model_summary INFO: \n",
      "  | Name      | Type       | Params\n",
      "-----------------------------------------\n",
      "0 | criterion | MSELoss    | 0     \n",
      "1 | stacks    | ModuleList | 8.5 M \n",
      "-----------------------------------------\n",
      "8.5 M     Trainable params\n",
      "3.2 K     Non-trainable params\n",
      "8.5 M     Total params\n",
      "67.633    Total estimated model params size (MB)\n"
     ]
    },
    {
     "data": {
      "application/vnd.jupyter.widget-view+json": {
       "model_id": "1dd0e1f723dc442d97dfbf20926eaabd",
       "version_major": 2,
       "version_minor": 0
      },
      "text/plain": [
       "Training: 0it [00:00, ?it/s]"
      ]
     },
     "metadata": {},
     "output_type": "display_data"
    },
    {
     "data": {
      "application/vnd.jupyter.widget-view+json": {
       "model_id": "48c67a38d6d44d29a7528427c436c75f",
       "version_major": 2,
       "version_minor": 0
      },
      "text/plain": [
       "Predicting: 11it [00:00, ?it/s]"
      ]
     },
     "metadata": {},
     "output_type": "display_data"
    },
    {
     "name": "stderr",
     "output_type": "stream",
     "text": [
      "[2022-06-14 15:14:47,660] INFO | darts.models.forecasting.torch_forecasting_model | Train dataset contains 2625 samples.\n",
      "[2022-06-14 15:14:47,660] INFO | darts.models.forecasting.torch_forecasting_model | Train dataset contains 2625 samples.\n",
      "2022-06-14 15:14:47 darts.models.forecasting.torch_forecasting_model INFO: Train dataset contains 2625 samples.\n",
      "[2022-06-14 15:14:47,689] INFO | darts.models.forecasting.torch_forecasting_model | Time series values are 64-bits; casting model to float64.\n",
      "[2022-06-14 15:14:47,689] INFO | darts.models.forecasting.torch_forecasting_model | Time series values are 64-bits; casting model to float64.\n",
      "2022-06-14 15:14:47 darts.models.forecasting.torch_forecasting_model INFO: Time series values are 64-bits; casting model to float64.\n",
      "2022-06-14 15:14:47 pytorch_lightning.utilities.rank_zero INFO: GPU available: False, used: False\n",
      "2022-06-14 15:14:47 pytorch_lightning.utilities.rank_zero INFO: TPU available: False, using: 0 TPU cores\n",
      "2022-06-14 15:14:47 pytorch_lightning.utilities.rank_zero INFO: IPU available: False, using: 0 IPUs\n",
      "2022-06-14 15:14:47 pytorch_lightning.utilities.rank_zero INFO: HPU available: False, using: 0 HPUs\n",
      "2022-06-14 15:14:47 pytorch_lightning.callbacks.model_summary INFO: \n",
      "  | Name      | Type       | Params\n",
      "-----------------------------------------\n",
      "0 | criterion | MSELoss    | 0     \n",
      "1 | stacks    | ModuleList | 8.5 M \n",
      "-----------------------------------------\n",
      "8.5 M     Trainable params\n",
      "3.2 K     Non-trainable params\n",
      "8.5 M     Total params\n",
      "67.633    Total estimated model params size (MB)\n"
     ]
    },
    {
     "data": {
      "application/vnd.jupyter.widget-view+json": {
       "model_id": "7e0edfde1ae24b9ab34f4493d8ce7857",
       "version_major": 2,
       "version_minor": 0
      },
      "text/plain": [
       "Training: 0it [00:00, ?it/s]"
      ]
     },
     "metadata": {},
     "output_type": "display_data"
    },
    {
     "data": {
      "application/vnd.jupyter.widget-view+json": {
       "model_id": "aca73a115000450c8123ee106c012a79",
       "version_major": 2,
       "version_minor": 0
      },
      "text/plain": [
       "Predicting: 11it [00:00, ?it/s]"
      ]
     },
     "metadata": {},
     "output_type": "display_data"
    },
    {
     "name": "stderr",
     "output_type": "stream",
     "text": [
      "[2022-06-14 15:14:53,609] INFO | darts.models.forecasting.torch_forecasting_model | Train dataset contains 2720 samples.\n",
      "[2022-06-14 15:14:53,609] INFO | darts.models.forecasting.torch_forecasting_model | Train dataset contains 2720 samples.\n",
      "2022-06-14 15:14:53 darts.models.forecasting.torch_forecasting_model INFO: Train dataset contains 2720 samples.\n",
      "[2022-06-14 15:14:53,638] INFO | darts.models.forecasting.torch_forecasting_model | Time series values are 64-bits; casting model to float64.\n",
      "[2022-06-14 15:14:53,638] INFO | darts.models.forecasting.torch_forecasting_model | Time series values are 64-bits; casting model to float64.\n",
      "2022-06-14 15:14:53 darts.models.forecasting.torch_forecasting_model INFO: Time series values are 64-bits; casting model to float64.\n",
      "2022-06-14 15:14:53 pytorch_lightning.utilities.rank_zero INFO: GPU available: False, used: False\n",
      "2022-06-14 15:14:53 pytorch_lightning.utilities.rank_zero INFO: TPU available: False, using: 0 TPU cores\n",
      "2022-06-14 15:14:53 pytorch_lightning.utilities.rank_zero INFO: IPU available: False, using: 0 IPUs\n",
      "2022-06-14 15:14:53 pytorch_lightning.utilities.rank_zero INFO: HPU available: False, using: 0 HPUs\n",
      "2022-06-14 15:14:53 pytorch_lightning.callbacks.model_summary INFO: \n",
      "  | Name      | Type       | Params\n",
      "-----------------------------------------\n",
      "0 | criterion | MSELoss    | 0     \n",
      "1 | stacks    | ModuleList | 8.5 M \n",
      "-----------------------------------------\n",
      "8.5 M     Trainable params\n",
      "3.2 K     Non-trainable params\n",
      "8.5 M     Total params\n",
      "67.633    Total estimated model params size (MB)\n"
     ]
    },
    {
     "data": {
      "application/vnd.jupyter.widget-view+json": {
       "model_id": "429972ba463b49cfab67f0d5575f22dd",
       "version_major": 2,
       "version_minor": 0
      },
      "text/plain": [
       "Training: 0it [00:00, ?it/s]"
      ]
     },
     "metadata": {},
     "output_type": "display_data"
    },
    {
     "data": {
      "application/vnd.jupyter.widget-view+json": {
       "model_id": "6e11a0c2269d4bf4a8c6df859239e08b",
       "version_major": 2,
       "version_minor": 0
      },
      "text/plain": [
       "Predicting: 11it [00:00, ?it/s]"
      ]
     },
     "metadata": {},
     "output_type": "display_data"
    },
    {
     "name": "stderr",
     "output_type": "stream",
     "text": [
      "[2022-06-14 15:14:59,605] INFO | darts.models.forecasting.torch_forecasting_model | Train dataset contains 2716 samples.\n",
      "[2022-06-14 15:14:59,605] INFO | darts.models.forecasting.torch_forecasting_model | Train dataset contains 2716 samples.\n",
      "2022-06-14 15:14:59 darts.models.forecasting.torch_forecasting_model INFO: Train dataset contains 2716 samples.\n",
      "[2022-06-14 15:14:59,634] INFO | darts.models.forecasting.torch_forecasting_model | Time series values are 64-bits; casting model to float64.\n",
      "[2022-06-14 15:14:59,634] INFO | darts.models.forecasting.torch_forecasting_model | Time series values are 64-bits; casting model to float64.\n",
      "2022-06-14 15:14:59 darts.models.forecasting.torch_forecasting_model INFO: Time series values are 64-bits; casting model to float64.\n",
      "2022-06-14 15:14:59 pytorch_lightning.utilities.rank_zero INFO: GPU available: False, used: False\n",
      "2022-06-14 15:14:59 pytorch_lightning.utilities.rank_zero INFO: TPU available: False, using: 0 TPU cores\n",
      "2022-06-14 15:14:59 pytorch_lightning.utilities.rank_zero INFO: IPU available: False, using: 0 IPUs\n",
      "2022-06-14 15:14:59 pytorch_lightning.utilities.rank_zero INFO: HPU available: False, using: 0 HPUs\n",
      "2022-06-14 15:14:59 pytorch_lightning.callbacks.model_summary INFO: \n",
      "  | Name      | Type       | Params\n",
      "-----------------------------------------\n",
      "0 | criterion | MSELoss    | 0     \n",
      "1 | stacks    | ModuleList | 8.5 M \n",
      "-----------------------------------------\n",
      "8.5 M     Trainable params\n",
      "3.2 K     Non-trainable params\n",
      "8.5 M     Total params\n",
      "67.633    Total estimated model params size (MB)\n"
     ]
    },
    {
     "data": {
      "application/vnd.jupyter.widget-view+json": {
       "model_id": "87af9b4c4e6e47c6adf8b4d34ce45552",
       "version_major": 2,
       "version_minor": 0
      },
      "text/plain": [
       "Training: 0it [00:00, ?it/s]"
      ]
     },
     "metadata": {},
     "output_type": "display_data"
    },
    {
     "data": {
      "application/vnd.jupyter.widget-view+json": {
       "model_id": "ff5ef1e41a84462f9b32011aaddeeb4b",
       "version_major": 2,
       "version_minor": 0
      },
      "text/plain": [
       "Predicting: 11it [00:00, ?it/s]"
      ]
     },
     "metadata": {},
     "output_type": "display_data"
    },
    {
     "name": "stderr",
     "output_type": "stream",
     "text": [
      "[2022-06-14 15:15:05,600] INFO | darts.models.forecasting.torch_forecasting_model | Train dataset contains 2689 samples.\n",
      "[2022-06-14 15:15:05,600] INFO | darts.models.forecasting.torch_forecasting_model | Train dataset contains 2689 samples.\n",
      "2022-06-14 15:15:05 darts.models.forecasting.torch_forecasting_model INFO: Train dataset contains 2689 samples.\n",
      "[2022-06-14 15:15:05,630] INFO | darts.models.forecasting.torch_forecasting_model | Time series values are 64-bits; casting model to float64.\n",
      "[2022-06-14 15:15:05,630] INFO | darts.models.forecasting.torch_forecasting_model | Time series values are 64-bits; casting model to float64.\n",
      "2022-06-14 15:15:05 darts.models.forecasting.torch_forecasting_model INFO: Time series values are 64-bits; casting model to float64.\n",
      "2022-06-14 15:15:05 pytorch_lightning.utilities.rank_zero INFO: GPU available: False, used: False\n",
      "2022-06-14 15:15:05 pytorch_lightning.utilities.rank_zero INFO: TPU available: False, using: 0 TPU cores\n",
      "2022-06-14 15:15:05 pytorch_lightning.utilities.rank_zero INFO: IPU available: False, using: 0 IPUs\n",
      "2022-06-14 15:15:05 pytorch_lightning.utilities.rank_zero INFO: HPU available: False, using: 0 HPUs\n",
      "2022-06-14 15:15:05 pytorch_lightning.callbacks.model_summary INFO: \n",
      "  | Name      | Type       | Params\n",
      "-----------------------------------------\n",
      "0 | criterion | MSELoss    | 0     \n",
      "1 | stacks    | ModuleList | 8.5 M \n",
      "-----------------------------------------\n",
      "8.5 M     Trainable params\n",
      "3.2 K     Non-trainable params\n",
      "8.5 M     Total params\n",
      "67.633    Total estimated model params size (MB)\n"
     ]
    },
    {
     "data": {
      "application/vnd.jupyter.widget-view+json": {
       "model_id": "a773397dadfb4615928034d7ac635aa7",
       "version_major": 2,
       "version_minor": 0
      },
      "text/plain": [
       "Training: 0it [00:00, ?it/s]"
      ]
     },
     "metadata": {},
     "output_type": "display_data"
    },
    {
     "data": {
      "application/vnd.jupyter.widget-view+json": {
       "model_id": "26b8f989ea8c4800b6f4242a95dadbc3",
       "version_major": 2,
       "version_minor": 0
      },
      "text/plain": [
       "Predicting: 11it [00:00, ?it/s]"
      ]
     },
     "metadata": {},
     "output_type": "display_data"
    },
    {
     "name": "stderr",
     "output_type": "stream",
     "text": [
      "[2022-06-14 15:15:11,518] INFO | darts.models.forecasting.torch_forecasting_model | Train dataset contains 2716 samples.\n",
      "[2022-06-14 15:15:11,518] INFO | darts.models.forecasting.torch_forecasting_model | Train dataset contains 2716 samples.\n",
      "2022-06-14 15:15:11 darts.models.forecasting.torch_forecasting_model INFO: Train dataset contains 2716 samples.\n",
      "[2022-06-14 15:15:11,546] INFO | darts.models.forecasting.torch_forecasting_model | Time series values are 64-bits; casting model to float64.\n",
      "[2022-06-14 15:15:11,546] INFO | darts.models.forecasting.torch_forecasting_model | Time series values are 64-bits; casting model to float64.\n",
      "2022-06-14 15:15:11 darts.models.forecasting.torch_forecasting_model INFO: Time series values are 64-bits; casting model to float64.\n",
      "2022-06-14 15:15:11 pytorch_lightning.utilities.rank_zero INFO: GPU available: False, used: False\n",
      "2022-06-14 15:15:11 pytorch_lightning.utilities.rank_zero INFO: TPU available: False, using: 0 TPU cores\n",
      "2022-06-14 15:15:11 pytorch_lightning.utilities.rank_zero INFO: IPU available: False, using: 0 IPUs\n",
      "2022-06-14 15:15:11 pytorch_lightning.utilities.rank_zero INFO: HPU available: False, using: 0 HPUs\n",
      "2022-06-14 15:15:11 pytorch_lightning.callbacks.model_summary INFO: \n",
      "  | Name      | Type       | Params\n",
      "-----------------------------------------\n",
      "0 | criterion | MSELoss    | 0     \n",
      "1 | stacks    | ModuleList | 8.5 M \n",
      "-----------------------------------------\n",
      "8.5 M     Trainable params\n",
      "3.2 K     Non-trainable params\n",
      "8.5 M     Total params\n",
      "67.633    Total estimated model params size (MB)\n"
     ]
    },
    {
     "data": {
      "application/vnd.jupyter.widget-view+json": {
       "model_id": "53b8b6a829ff4ce8bddd0ae1eca2db34",
       "version_major": 2,
       "version_minor": 0
      },
      "text/plain": [
       "Training: 0it [00:00, ?it/s]"
      ]
     },
     "metadata": {},
     "output_type": "display_data"
    },
    {
     "data": {
      "application/vnd.jupyter.widget-view+json": {
       "model_id": "207a2524a8b14a82bef2041cc8936581",
       "version_major": 2,
       "version_minor": 0
      },
      "text/plain": [
       "Predicting: 11it [00:00, ?it/s]"
      ]
     },
     "metadata": {},
     "output_type": "display_data"
    },
    {
     "name": "stderr",
     "output_type": "stream",
     "text": [
      "[2022-06-14 15:15:17,428] INFO | darts.models.forecasting.torch_forecasting_model | Train dataset contains 2716 samples.\n",
      "[2022-06-14 15:15:17,428] INFO | darts.models.forecasting.torch_forecasting_model | Train dataset contains 2716 samples.\n",
      "2022-06-14 15:15:17 darts.models.forecasting.torch_forecasting_model INFO: Train dataset contains 2716 samples.\n",
      "[2022-06-14 15:15:17,457] INFO | darts.models.forecasting.torch_forecasting_model | Time series values are 64-bits; casting model to float64.\n",
      "[2022-06-14 15:15:17,457] INFO | darts.models.forecasting.torch_forecasting_model | Time series values are 64-bits; casting model to float64.\n",
      "2022-06-14 15:15:17 darts.models.forecasting.torch_forecasting_model INFO: Time series values are 64-bits; casting model to float64.\n",
      "2022-06-14 15:15:17 pytorch_lightning.utilities.rank_zero INFO: GPU available: False, used: False\n",
      "2022-06-14 15:15:17 pytorch_lightning.utilities.rank_zero INFO: TPU available: False, using: 0 TPU cores\n",
      "2022-06-14 15:15:17 pytorch_lightning.utilities.rank_zero INFO: IPU available: False, using: 0 IPUs\n",
      "2022-06-14 15:15:17 pytorch_lightning.utilities.rank_zero INFO: HPU available: False, using: 0 HPUs\n",
      "2022-06-14 15:15:17 pytorch_lightning.callbacks.model_summary INFO: \n",
      "  | Name      | Type       | Params\n",
      "-----------------------------------------\n",
      "0 | criterion | MSELoss    | 0     \n",
      "1 | stacks    | ModuleList | 8.5 M \n",
      "-----------------------------------------\n",
      "8.5 M     Trainable params\n",
      "3.2 K     Non-trainable params\n",
      "8.5 M     Total params\n",
      "67.633    Total estimated model params size (MB)\n"
     ]
    },
    {
     "data": {
      "application/vnd.jupyter.widget-view+json": {
       "model_id": "916b5e8bb57b446db0de80c1782af3a1",
       "version_major": 2,
       "version_minor": 0
      },
      "text/plain": [
       "Training: 0it [00:00, ?it/s]"
      ]
     },
     "metadata": {},
     "output_type": "display_data"
    },
    {
     "data": {
      "application/vnd.jupyter.widget-view+json": {
       "model_id": "6d81a70d478e4a23a71aa4ff0e6a749b",
       "version_major": 2,
       "version_minor": 0
      },
      "text/plain": [
       "Predicting: 11it [00:00, ?it/s]"
      ]
     },
     "metadata": {},
     "output_type": "display_data"
    },
    {
     "name": "stderr",
     "output_type": "stream",
     "text": [
      "[2022-06-14 15:15:23,430] INFO | darts.models.forecasting.torch_forecasting_model | Train dataset contains 2682 samples.\n",
      "[2022-06-14 15:15:23,430] INFO | darts.models.forecasting.torch_forecasting_model | Train dataset contains 2682 samples.\n",
      "2022-06-14 15:15:23 darts.models.forecasting.torch_forecasting_model INFO: Train dataset contains 2682 samples.\n",
      "[2022-06-14 15:15:23,478] INFO | darts.models.forecasting.torch_forecasting_model | Time series values are 64-bits; casting model to float64.\n",
      "[2022-06-14 15:15:23,478] INFO | darts.models.forecasting.torch_forecasting_model | Time series values are 64-bits; casting model to float64.\n",
      "2022-06-14 15:15:23 darts.models.forecasting.torch_forecasting_model INFO: Time series values are 64-bits; casting model to float64.\n",
      "2022-06-14 15:15:23 pytorch_lightning.utilities.rank_zero INFO: GPU available: False, used: False\n",
      "2022-06-14 15:15:23 pytorch_lightning.utilities.rank_zero INFO: TPU available: False, using: 0 TPU cores\n",
      "2022-06-14 15:15:23 pytorch_lightning.utilities.rank_zero INFO: IPU available: False, using: 0 IPUs\n",
      "2022-06-14 15:15:23 pytorch_lightning.utilities.rank_zero INFO: HPU available: False, using: 0 HPUs\n",
      "2022-06-14 15:15:23 pytorch_lightning.callbacks.model_summary INFO: \n",
      "  | Name      | Type       | Params\n",
      "-----------------------------------------\n",
      "0 | criterion | MSELoss    | 0     \n",
      "1 | stacks    | ModuleList | 8.5 M \n",
      "-----------------------------------------\n",
      "8.5 M     Trainable params\n",
      "3.2 K     Non-trainable params\n",
      "8.5 M     Total params\n",
      "67.633    Total estimated model params size (MB)\n"
     ]
    },
    {
     "data": {
      "application/vnd.jupyter.widget-view+json": {
       "model_id": "c56c4d540d4e46a7ad4b3a2185e9fd21",
       "version_major": 2,
       "version_minor": 0
      },
      "text/plain": [
       "Training: 0it [00:00, ?it/s]"
      ]
     },
     "metadata": {},
     "output_type": "display_data"
    },
    {
     "data": {
      "application/vnd.jupyter.widget-view+json": {
       "model_id": "eca57cca4e9f4f3594cab8cfba1eb0a7",
       "version_major": 2,
       "version_minor": 0
      },
      "text/plain": [
       "Predicting: 11it [00:00, ?it/s]"
      ]
     },
     "metadata": {},
     "output_type": "display_data"
    },
    {
     "name": "stderr",
     "output_type": "stream",
     "text": [
      "[2022-06-14 15:15:29,389] INFO | darts.models.forecasting.torch_forecasting_model | Train dataset contains 2721 samples.\n",
      "[2022-06-14 15:15:29,389] INFO | darts.models.forecasting.torch_forecasting_model | Train dataset contains 2721 samples.\n",
      "2022-06-14 15:15:29 darts.models.forecasting.torch_forecasting_model INFO: Train dataset contains 2721 samples.\n",
      "[2022-06-14 15:15:29,436] INFO | darts.models.forecasting.torch_forecasting_model | Time series values are 64-bits; casting model to float64.\n",
      "[2022-06-14 15:15:29,436] INFO | darts.models.forecasting.torch_forecasting_model | Time series values are 64-bits; casting model to float64.\n",
      "2022-06-14 15:15:29 darts.models.forecasting.torch_forecasting_model INFO: Time series values are 64-bits; casting model to float64.\n",
      "2022-06-14 15:15:29 pytorch_lightning.utilities.rank_zero INFO: GPU available: False, used: False\n",
      "2022-06-14 15:15:29 pytorch_lightning.utilities.rank_zero INFO: TPU available: False, using: 0 TPU cores\n",
      "2022-06-14 15:15:29 pytorch_lightning.utilities.rank_zero INFO: IPU available: False, using: 0 IPUs\n",
      "2022-06-14 15:15:29 pytorch_lightning.utilities.rank_zero INFO: HPU available: False, using: 0 HPUs\n",
      "2022-06-14 15:15:29 pytorch_lightning.callbacks.model_summary INFO: \n",
      "  | Name      | Type       | Params\n",
      "-----------------------------------------\n",
      "0 | criterion | MSELoss    | 0     \n",
      "1 | stacks    | ModuleList | 8.5 M \n",
      "-----------------------------------------\n",
      "8.5 M     Trainable params\n",
      "3.2 K     Non-trainable params\n",
      "8.5 M     Total params\n",
      "67.633    Total estimated model params size (MB)\n"
     ]
    },
    {
     "data": {
      "application/vnd.jupyter.widget-view+json": {
       "model_id": "7eaef32423ca46a1b4c181cf825d6e31",
       "version_major": 2,
       "version_minor": 0
      },
      "text/plain": [
       "Training: 0it [00:00, ?it/s]"
      ]
     },
     "metadata": {},
     "output_type": "display_data"
    },
    {
     "data": {
      "application/vnd.jupyter.widget-view+json": {
       "model_id": "5713f1b7d41e44b8a1806c46abcf775f",
       "version_major": 2,
       "version_minor": 0
      },
      "text/plain": [
       "Predicting: 11it [00:00, ?it/s]"
      ]
     },
     "metadata": {},
     "output_type": "display_data"
    },
    {
     "name": "stderr",
     "output_type": "stream",
     "text": [
      "[2022-06-14 15:15:35,506] INFO | darts.models.forecasting.torch_forecasting_model | Train dataset contains 2716 samples.\n",
      "[2022-06-14 15:15:35,506] INFO | darts.models.forecasting.torch_forecasting_model | Train dataset contains 2716 samples.\n",
      "2022-06-14 15:15:35 darts.models.forecasting.torch_forecasting_model INFO: Train dataset contains 2716 samples.\n",
      "[2022-06-14 15:15:35,535] INFO | darts.models.forecasting.torch_forecasting_model | Time series values are 64-bits; casting model to float64.\n",
      "[2022-06-14 15:15:35,535] INFO | darts.models.forecasting.torch_forecasting_model | Time series values are 64-bits; casting model to float64.\n",
      "2022-06-14 15:15:35 darts.models.forecasting.torch_forecasting_model INFO: Time series values are 64-bits; casting model to float64.\n",
      "2022-06-14 15:15:35 pytorch_lightning.utilities.rank_zero INFO: GPU available: False, used: False\n",
      "2022-06-14 15:15:35 pytorch_lightning.utilities.rank_zero INFO: TPU available: False, using: 0 TPU cores\n",
      "2022-06-14 15:15:35 pytorch_lightning.utilities.rank_zero INFO: IPU available: False, using: 0 IPUs\n",
      "2022-06-14 15:15:35 pytorch_lightning.utilities.rank_zero INFO: HPU available: False, using: 0 HPUs\n",
      "2022-06-14 15:15:35 pytorch_lightning.callbacks.model_summary INFO: \n",
      "  | Name      | Type       | Params\n",
      "-----------------------------------------\n",
      "0 | criterion | MSELoss    | 0     \n",
      "1 | stacks    | ModuleList | 8.5 M \n",
      "-----------------------------------------\n",
      "8.5 M     Trainable params\n",
      "3.2 K     Non-trainable params\n",
      "8.5 M     Total params\n",
      "67.633    Total estimated model params size (MB)\n"
     ]
    },
    {
     "data": {
      "application/vnd.jupyter.widget-view+json": {
       "model_id": "408033888b2643208cfd0f0f3d5a10f2",
       "version_major": 2,
       "version_minor": 0
      },
      "text/plain": [
       "Training: 0it [00:00, ?it/s]"
      ]
     },
     "metadata": {},
     "output_type": "display_data"
    },
    {
     "data": {
      "application/vnd.jupyter.widget-view+json": {
       "model_id": "3a698a435d454950b569fe6a2e737778",
       "version_major": 2,
       "version_minor": 0
      },
      "text/plain": [
       "Predicting: 11it [00:00, ?it/s]"
      ]
     },
     "metadata": {},
     "output_type": "display_data"
    },
    {
     "name": "stderr",
     "output_type": "stream",
     "text": [
      "[2022-06-14 15:15:41,477] INFO | darts.models.forecasting.torch_forecasting_model | Train dataset contains 2721 samples.\n",
      "[2022-06-14 15:15:41,477] INFO | darts.models.forecasting.torch_forecasting_model | Train dataset contains 2721 samples.\n",
      "2022-06-14 15:15:41 darts.models.forecasting.torch_forecasting_model INFO: Train dataset contains 2721 samples.\n",
      "[2022-06-14 15:15:41,507] INFO | darts.models.forecasting.torch_forecasting_model | Time series values are 64-bits; casting model to float64.\n",
      "[2022-06-14 15:15:41,507] INFO | darts.models.forecasting.torch_forecasting_model | Time series values are 64-bits; casting model to float64.\n",
      "2022-06-14 15:15:41 darts.models.forecasting.torch_forecasting_model INFO: Time series values are 64-bits; casting model to float64.\n",
      "2022-06-14 15:15:41 pytorch_lightning.utilities.rank_zero INFO: GPU available: False, used: False\n",
      "2022-06-14 15:15:41 pytorch_lightning.utilities.rank_zero INFO: TPU available: False, using: 0 TPU cores\n",
      "2022-06-14 15:15:41 pytorch_lightning.utilities.rank_zero INFO: IPU available: False, using: 0 IPUs\n",
      "2022-06-14 15:15:41 pytorch_lightning.utilities.rank_zero INFO: HPU available: False, using: 0 HPUs\n",
      "2022-06-14 15:15:41 pytorch_lightning.callbacks.model_summary INFO: \n",
      "  | Name      | Type       | Params\n",
      "-----------------------------------------\n",
      "0 | criterion | MSELoss    | 0     \n",
      "1 | stacks    | ModuleList | 8.5 M \n",
      "-----------------------------------------\n",
      "8.5 M     Trainable params\n",
      "3.2 K     Non-trainable params\n",
      "8.5 M     Total params\n",
      "67.633    Total estimated model params size (MB)\n"
     ]
    },
    {
     "data": {
      "application/vnd.jupyter.widget-view+json": {
       "model_id": "199859504f284df7b42590bdda314cf3",
       "version_major": 2,
       "version_minor": 0
      },
      "text/plain": [
       "Training: 0it [00:00, ?it/s]"
      ]
     },
     "metadata": {},
     "output_type": "display_data"
    },
    {
     "data": {
      "application/vnd.jupyter.widget-view+json": {
       "model_id": "cdd55b4a164946dd97121a7db6f2f34a",
       "version_major": 2,
       "version_minor": 0
      },
      "text/plain": [
       "Predicting: 11it [00:00, ?it/s]"
      ]
     },
     "metadata": {},
     "output_type": "display_data"
    },
    {
     "name": "stderr",
     "output_type": "stream",
     "text": [
      "[2022-06-14 15:15:47,419] INFO | darts.models.forecasting.torch_forecasting_model | Train dataset contains 2708 samples.\n",
      "[2022-06-14 15:15:47,419] INFO | darts.models.forecasting.torch_forecasting_model | Train dataset contains 2708 samples.\n",
      "2022-06-14 15:15:47 darts.models.forecasting.torch_forecasting_model INFO: Train dataset contains 2708 samples.\n",
      "[2022-06-14 15:15:47,448] INFO | darts.models.forecasting.torch_forecasting_model | Time series values are 64-bits; casting model to float64.\n",
      "[2022-06-14 15:15:47,448] INFO | darts.models.forecasting.torch_forecasting_model | Time series values are 64-bits; casting model to float64.\n",
      "2022-06-14 15:15:47 darts.models.forecasting.torch_forecasting_model INFO: Time series values are 64-bits; casting model to float64.\n",
      "2022-06-14 15:15:47 pytorch_lightning.utilities.rank_zero INFO: GPU available: False, used: False\n",
      "2022-06-14 15:15:47 pytorch_lightning.utilities.rank_zero INFO: TPU available: False, using: 0 TPU cores\n",
      "2022-06-14 15:15:47 pytorch_lightning.utilities.rank_zero INFO: IPU available: False, using: 0 IPUs\n",
      "2022-06-14 15:15:47 pytorch_lightning.utilities.rank_zero INFO: HPU available: False, using: 0 HPUs\n",
      "2022-06-14 15:15:47 pytorch_lightning.callbacks.model_summary INFO: \n",
      "  | Name      | Type       | Params\n",
      "-----------------------------------------\n",
      "0 | criterion | MSELoss    | 0     \n",
      "1 | stacks    | ModuleList | 8.5 M \n",
      "-----------------------------------------\n",
      "8.5 M     Trainable params\n",
      "3.2 K     Non-trainable params\n",
      "8.5 M     Total params\n",
      "67.633    Total estimated model params size (MB)\n"
     ]
    },
    {
     "data": {
      "application/vnd.jupyter.widget-view+json": {
       "model_id": "05570a2155024886a4107a2e9fce498d",
       "version_major": 2,
       "version_minor": 0
      },
      "text/plain": [
       "Training: 0it [00:00, ?it/s]"
      ]
     },
     "metadata": {},
     "output_type": "display_data"
    },
    {
     "data": {
      "application/vnd.jupyter.widget-view+json": {
       "model_id": "03b9c784dc234313aea57b4615101e37",
       "version_major": 2,
       "version_minor": 0
      },
      "text/plain": [
       "Predicting: 11it [00:00, ?it/s]"
      ]
     },
     "metadata": {},
     "output_type": "display_data"
    },
    {
     "name": "stderr",
     "output_type": "stream",
     "text": [
      "[2022-06-14 15:15:53,414] INFO | darts.models.forecasting.torch_forecasting_model | Train dataset contains 2708 samples.\n",
      "[2022-06-14 15:15:53,414] INFO | darts.models.forecasting.torch_forecasting_model | Train dataset contains 2708 samples.\n",
      "2022-06-14 15:15:53 darts.models.forecasting.torch_forecasting_model INFO: Train dataset contains 2708 samples.\n",
      "[2022-06-14 15:15:53,443] INFO | darts.models.forecasting.torch_forecasting_model | Time series values are 64-bits; casting model to float64.\n",
      "[2022-06-14 15:15:53,443] INFO | darts.models.forecasting.torch_forecasting_model | Time series values are 64-bits; casting model to float64.\n",
      "2022-06-14 15:15:53 darts.models.forecasting.torch_forecasting_model INFO: Time series values are 64-bits; casting model to float64.\n",
      "2022-06-14 15:15:53 pytorch_lightning.utilities.rank_zero INFO: GPU available: False, used: False\n",
      "2022-06-14 15:15:53 pytorch_lightning.utilities.rank_zero INFO: TPU available: False, using: 0 TPU cores\n",
      "2022-06-14 15:15:53 pytorch_lightning.utilities.rank_zero INFO: IPU available: False, using: 0 IPUs\n",
      "2022-06-14 15:15:53 pytorch_lightning.utilities.rank_zero INFO: HPU available: False, using: 0 HPUs\n",
      "2022-06-14 15:15:53 pytorch_lightning.callbacks.model_summary INFO: \n",
      "  | Name      | Type       | Params\n",
      "-----------------------------------------\n",
      "0 | criterion | MSELoss    | 0     \n",
      "1 | stacks    | ModuleList | 8.5 M \n",
      "-----------------------------------------\n",
      "8.5 M     Trainable params\n",
      "3.2 K     Non-trainable params\n",
      "8.5 M     Total params\n",
      "67.633    Total estimated model params size (MB)\n"
     ]
    },
    {
     "data": {
      "application/vnd.jupyter.widget-view+json": {
       "model_id": "26fb7200c98f4e47981f9c4068180421",
       "version_major": 2,
       "version_minor": 0
      },
      "text/plain": [
       "Training: 0it [00:00, ?it/s]"
      ]
     },
     "metadata": {},
     "output_type": "display_data"
    },
    {
     "data": {
      "application/vnd.jupyter.widget-view+json": {
       "model_id": "a07dd36f8f33443787474742008afe7b",
       "version_major": 2,
       "version_minor": 0
      },
      "text/plain": [
       "Predicting: 11it [00:00, ?it/s]"
      ]
     },
     "metadata": {},
     "output_type": "display_data"
    },
    {
     "name": "stderr",
     "output_type": "stream",
     "text": [
      "[2022-06-14 15:15:59,306] INFO | darts.models.forecasting.torch_forecasting_model | Train dataset contains 1774 samples.\n",
      "[2022-06-14 15:15:59,306] INFO | darts.models.forecasting.torch_forecasting_model | Train dataset contains 1774 samples.\n",
      "2022-06-14 15:15:59 darts.models.forecasting.torch_forecasting_model INFO: Train dataset contains 1774 samples.\n",
      "[2022-06-14 15:15:59,336] INFO | darts.models.forecasting.torch_forecasting_model | Time series values are 64-bits; casting model to float64.\n",
      "[2022-06-14 15:15:59,336] INFO | darts.models.forecasting.torch_forecasting_model | Time series values are 64-bits; casting model to float64.\n",
      "2022-06-14 15:15:59 darts.models.forecasting.torch_forecasting_model INFO: Time series values are 64-bits; casting model to float64.\n",
      "2022-06-14 15:15:59 pytorch_lightning.utilities.rank_zero INFO: GPU available: False, used: False\n",
      "2022-06-14 15:15:59 pytorch_lightning.utilities.rank_zero INFO: TPU available: False, using: 0 TPU cores\n",
      "2022-06-14 15:15:59 pytorch_lightning.utilities.rank_zero INFO: IPU available: False, using: 0 IPUs\n",
      "2022-06-14 15:15:59 pytorch_lightning.utilities.rank_zero INFO: HPU available: False, using: 0 HPUs\n",
      "2022-06-14 15:15:59 pytorch_lightning.callbacks.model_summary INFO: \n",
      "  | Name      | Type       | Params\n",
      "-----------------------------------------\n",
      "0 | criterion | MSELoss    | 0     \n",
      "1 | stacks    | ModuleList | 8.5 M \n",
      "-----------------------------------------\n",
      "8.5 M     Trainable params\n",
      "3.2 K     Non-trainable params\n",
      "8.5 M     Total params\n",
      "67.633    Total estimated model params size (MB)\n"
     ]
    },
    {
     "data": {
      "application/vnd.jupyter.widget-view+json": {
       "model_id": "57c4c0eef6654a43a24f566302b3e8f1",
       "version_major": 2,
       "version_minor": 0
      },
      "text/plain": [
       "Training: 0it [00:00, ?it/s]"
      ]
     },
     "metadata": {},
     "output_type": "display_data"
    },
    {
     "data": {
      "application/vnd.jupyter.widget-view+json": {
       "model_id": "f28cd9fc63fb4f32baa8448592defea0",
       "version_major": 2,
       "version_minor": 0
      },
      "text/plain": [
       "Predicting: 7it [00:00, ?it/s]"
      ]
     },
     "metadata": {},
     "output_type": "display_data"
    },
    {
     "name": "stderr",
     "output_type": "stream",
     "text": [
      "[2022-06-14 15:16:03,849] INFO | darts.models.forecasting.torch_forecasting_model | Train dataset contains 2718 samples.\n",
      "[2022-06-14 15:16:03,849] INFO | darts.models.forecasting.torch_forecasting_model | Train dataset contains 2718 samples.\n",
      "2022-06-14 15:16:03 darts.models.forecasting.torch_forecasting_model INFO: Train dataset contains 2718 samples.\n",
      "[2022-06-14 15:16:03,878] INFO | darts.models.forecasting.torch_forecasting_model | Time series values are 64-bits; casting model to float64.\n",
      "[2022-06-14 15:16:03,878] INFO | darts.models.forecasting.torch_forecasting_model | Time series values are 64-bits; casting model to float64.\n",
      "2022-06-14 15:16:03 darts.models.forecasting.torch_forecasting_model INFO: Time series values are 64-bits; casting model to float64.\n",
      "2022-06-14 15:16:03 pytorch_lightning.utilities.rank_zero INFO: GPU available: False, used: False\n",
      "2022-06-14 15:16:03 pytorch_lightning.utilities.rank_zero INFO: TPU available: False, using: 0 TPU cores\n",
      "2022-06-14 15:16:03 pytorch_lightning.utilities.rank_zero INFO: IPU available: False, using: 0 IPUs\n",
      "2022-06-14 15:16:03 pytorch_lightning.utilities.rank_zero INFO: HPU available: False, using: 0 HPUs\n",
      "2022-06-14 15:16:03 pytorch_lightning.callbacks.model_summary INFO: \n",
      "  | Name      | Type       | Params\n",
      "-----------------------------------------\n",
      "0 | criterion | MSELoss    | 0     \n",
      "1 | stacks    | ModuleList | 8.5 M \n",
      "-----------------------------------------\n",
      "8.5 M     Trainable params\n",
      "3.2 K     Non-trainable params\n",
      "8.5 M     Total params\n",
      "67.633    Total estimated model params size (MB)\n"
     ]
    },
    {
     "data": {
      "application/vnd.jupyter.widget-view+json": {
       "model_id": "624d5c47d20d4676acd56c3ce60368c8",
       "version_major": 2,
       "version_minor": 0
      },
      "text/plain": [
       "Training: 0it [00:00, ?it/s]"
      ]
     },
     "metadata": {},
     "output_type": "display_data"
    },
    {
     "data": {
      "application/vnd.jupyter.widget-view+json": {
       "model_id": "6251caa290c943339b0a186c8ba41d83",
       "version_major": 2,
       "version_minor": 0
      },
      "text/plain": [
       "Predicting: 11it [00:00, ?it/s]"
      ]
     },
     "metadata": {},
     "output_type": "display_data"
    },
    {
     "name": "stderr",
     "output_type": "stream",
     "text": [
      "[2022-06-14 15:16:09,770] INFO | darts.models.forecasting.torch_forecasting_model | Train dataset contains 2718 samples.\n",
      "[2022-06-14 15:16:09,770] INFO | darts.models.forecasting.torch_forecasting_model | Train dataset contains 2718 samples.\n",
      "2022-06-14 15:16:09 darts.models.forecasting.torch_forecasting_model INFO: Train dataset contains 2718 samples.\n",
      "[2022-06-14 15:16:09,799] INFO | darts.models.forecasting.torch_forecasting_model | Time series values are 64-bits; casting model to float64.\n",
      "[2022-06-14 15:16:09,799] INFO | darts.models.forecasting.torch_forecasting_model | Time series values are 64-bits; casting model to float64.\n",
      "2022-06-14 15:16:09 darts.models.forecasting.torch_forecasting_model INFO: Time series values are 64-bits; casting model to float64.\n",
      "2022-06-14 15:16:09 pytorch_lightning.utilities.rank_zero INFO: GPU available: False, used: False\n",
      "2022-06-14 15:16:09 pytorch_lightning.utilities.rank_zero INFO: TPU available: False, using: 0 TPU cores\n",
      "2022-06-14 15:16:09 pytorch_lightning.utilities.rank_zero INFO: IPU available: False, using: 0 IPUs\n",
      "2022-06-14 15:16:09 pytorch_lightning.utilities.rank_zero INFO: HPU available: False, using: 0 HPUs\n",
      "2022-06-14 15:16:09 pytorch_lightning.callbacks.model_summary INFO: \n",
      "  | Name      | Type       | Params\n",
      "-----------------------------------------\n",
      "0 | criterion | MSELoss    | 0     \n",
      "1 | stacks    | ModuleList | 8.5 M \n",
      "-----------------------------------------\n",
      "8.5 M     Trainable params\n",
      "3.2 K     Non-trainable params\n",
      "8.5 M     Total params\n",
      "67.633    Total estimated model params size (MB)\n"
     ]
    },
    {
     "data": {
      "application/vnd.jupyter.widget-view+json": {
       "model_id": "c5c9041b1daa4bbcbef4c484c5f32442",
       "version_major": 2,
       "version_minor": 0
      },
      "text/plain": [
       "Training: 0it [00:00, ?it/s]"
      ]
     },
     "metadata": {},
     "output_type": "display_data"
    },
    {
     "data": {
      "application/vnd.jupyter.widget-view+json": {
       "model_id": "bc12ddd98dda43128b695b25fc35f6a6",
       "version_major": 2,
       "version_minor": 0
      },
      "text/plain": [
       "Predicting: 11it [00:00, ?it/s]"
      ]
     },
     "metadata": {},
     "output_type": "display_data"
    },
    {
     "name": "stderr",
     "output_type": "stream",
     "text": [
      "[2022-06-14 15:16:15,680] INFO | darts.models.forecasting.torch_forecasting_model | Train dataset contains 2718 samples.\n",
      "[2022-06-14 15:16:15,680] INFO | darts.models.forecasting.torch_forecasting_model | Train dataset contains 2718 samples.\n",
      "2022-06-14 15:16:15 darts.models.forecasting.torch_forecasting_model INFO: Train dataset contains 2718 samples.\n",
      "[2022-06-14 15:16:15,709] INFO | darts.models.forecasting.torch_forecasting_model | Time series values are 64-bits; casting model to float64.\n",
      "[2022-06-14 15:16:15,709] INFO | darts.models.forecasting.torch_forecasting_model | Time series values are 64-bits; casting model to float64.\n",
      "2022-06-14 15:16:15 darts.models.forecasting.torch_forecasting_model INFO: Time series values are 64-bits; casting model to float64.\n",
      "2022-06-14 15:16:15 pytorch_lightning.utilities.rank_zero INFO: GPU available: False, used: False\n",
      "2022-06-14 15:16:15 pytorch_lightning.utilities.rank_zero INFO: TPU available: False, using: 0 TPU cores\n",
      "2022-06-14 15:16:15 pytorch_lightning.utilities.rank_zero INFO: IPU available: False, using: 0 IPUs\n",
      "2022-06-14 15:16:15 pytorch_lightning.utilities.rank_zero INFO: HPU available: False, using: 0 HPUs\n",
      "2022-06-14 15:16:15 pytorch_lightning.callbacks.model_summary INFO: \n",
      "  | Name      | Type       | Params\n",
      "-----------------------------------------\n",
      "0 | criterion | MSELoss    | 0     \n",
      "1 | stacks    | ModuleList | 8.5 M \n",
      "-----------------------------------------\n",
      "8.5 M     Trainable params\n",
      "3.2 K     Non-trainable params\n",
      "8.5 M     Total params\n",
      "67.633    Total estimated model params size (MB)\n"
     ]
    },
    {
     "data": {
      "application/vnd.jupyter.widget-view+json": {
       "model_id": "d5b8c0c4f14f40279b4954526647abf1",
       "version_major": 2,
       "version_minor": 0
      },
      "text/plain": [
       "Training: 0it [00:00, ?it/s]"
      ]
     },
     "metadata": {},
     "output_type": "display_data"
    },
    {
     "data": {
      "application/vnd.jupyter.widget-view+json": {
       "model_id": "bf0d86bec14b49c4947bbc6d93a64f8e",
       "version_major": 2,
       "version_minor": 0
      },
      "text/plain": [
       "Predicting: 11it [00:00, ?it/s]"
      ]
     },
     "metadata": {},
     "output_type": "display_data"
    },
    {
     "name": "stderr",
     "output_type": "stream",
     "text": [
      "[2022-06-14 15:16:21,682] INFO | darts.models.forecasting.torch_forecasting_model | Train dataset contains 2718 samples.\n",
      "[2022-06-14 15:16:21,682] INFO | darts.models.forecasting.torch_forecasting_model | Train dataset contains 2718 samples.\n",
      "2022-06-14 15:16:21 darts.models.forecasting.torch_forecasting_model INFO: Train dataset contains 2718 samples.\n",
      "[2022-06-14 15:16:21,727] INFO | darts.models.forecasting.torch_forecasting_model | Time series values are 64-bits; casting model to float64.\n",
      "[2022-06-14 15:16:21,727] INFO | darts.models.forecasting.torch_forecasting_model | Time series values are 64-bits; casting model to float64.\n",
      "2022-06-14 15:16:21 darts.models.forecasting.torch_forecasting_model INFO: Time series values are 64-bits; casting model to float64.\n",
      "2022-06-14 15:16:21 pytorch_lightning.utilities.rank_zero INFO: GPU available: False, used: False\n",
      "2022-06-14 15:16:21 pytorch_lightning.utilities.rank_zero INFO: TPU available: False, using: 0 TPU cores\n",
      "2022-06-14 15:16:21 pytorch_lightning.utilities.rank_zero INFO: IPU available: False, using: 0 IPUs\n",
      "2022-06-14 15:16:21 pytorch_lightning.utilities.rank_zero INFO: HPU available: False, using: 0 HPUs\n",
      "2022-06-14 15:16:21 pytorch_lightning.callbacks.model_summary INFO: \n",
      "  | Name      | Type       | Params\n",
      "-----------------------------------------\n",
      "0 | criterion | MSELoss    | 0     \n",
      "1 | stacks    | ModuleList | 8.5 M \n",
      "-----------------------------------------\n",
      "8.5 M     Trainable params\n",
      "3.2 K     Non-trainable params\n",
      "8.5 M     Total params\n",
      "67.633    Total estimated model params size (MB)\n"
     ]
    },
    {
     "data": {
      "application/vnd.jupyter.widget-view+json": {
       "model_id": "a20f7bf76dac4547bea0b6684fa977be",
       "version_major": 2,
       "version_minor": 0
      },
      "text/plain": [
       "Training: 0it [00:00, ?it/s]"
      ]
     },
     "metadata": {},
     "output_type": "display_data"
    },
    {
     "data": {
      "application/vnd.jupyter.widget-view+json": {
       "model_id": "3739e6b526d54bd0a7e89dda517a22fe",
       "version_major": 2,
       "version_minor": 0
      },
      "text/plain": [
       "Predicting: 11it [00:00, ?it/s]"
      ]
     },
     "metadata": {},
     "output_type": "display_data"
    },
    {
     "name": "stderr",
     "output_type": "stream",
     "text": [
      "[2022-06-14 15:16:27,693] INFO | darts.models.forecasting.torch_forecasting_model | Train dataset contains 2718 samples.\n",
      "[2022-06-14 15:16:27,693] INFO | darts.models.forecasting.torch_forecasting_model | Train dataset contains 2718 samples.\n",
      "2022-06-14 15:16:27 darts.models.forecasting.torch_forecasting_model INFO: Train dataset contains 2718 samples.\n",
      "[2022-06-14 15:16:27,739] INFO | darts.models.forecasting.torch_forecasting_model | Time series values are 64-bits; casting model to float64.\n",
      "[2022-06-14 15:16:27,739] INFO | darts.models.forecasting.torch_forecasting_model | Time series values are 64-bits; casting model to float64.\n",
      "2022-06-14 15:16:27 darts.models.forecasting.torch_forecasting_model INFO: Time series values are 64-bits; casting model to float64.\n",
      "2022-06-14 15:16:27 pytorch_lightning.utilities.rank_zero INFO: GPU available: False, used: False\n",
      "2022-06-14 15:16:27 pytorch_lightning.utilities.rank_zero INFO: TPU available: False, using: 0 TPU cores\n",
      "2022-06-14 15:16:27 pytorch_lightning.utilities.rank_zero INFO: IPU available: False, using: 0 IPUs\n",
      "2022-06-14 15:16:27 pytorch_lightning.utilities.rank_zero INFO: HPU available: False, using: 0 HPUs\n",
      "2022-06-14 15:16:27 pytorch_lightning.callbacks.model_summary INFO: \n",
      "  | Name      | Type       | Params\n",
      "-----------------------------------------\n",
      "0 | criterion | MSELoss    | 0     \n",
      "1 | stacks    | ModuleList | 8.5 M \n",
      "-----------------------------------------\n",
      "8.5 M     Trainable params\n",
      "3.2 K     Non-trainable params\n",
      "8.5 M     Total params\n",
      "67.633    Total estimated model params size (MB)\n"
     ]
    },
    {
     "data": {
      "application/vnd.jupyter.widget-view+json": {
       "model_id": "2ab521ef3cdd461fa22b64d2ccd8d077",
       "version_major": 2,
       "version_minor": 0
      },
      "text/plain": [
       "Training: 0it [00:00, ?it/s]"
      ]
     },
     "metadata": {},
     "output_type": "display_data"
    },
    {
     "data": {
      "application/vnd.jupyter.widget-view+json": {
       "model_id": "c7fa50d4338c43a68f5ed7d2a8878f62",
       "version_major": 2,
       "version_minor": 0
      },
      "text/plain": [
       "Predicting: 11it [00:00, ?it/s]"
      ]
     },
     "metadata": {},
     "output_type": "display_data"
    },
    {
     "name": "stderr",
     "output_type": "stream",
     "text": [
      "[2022-06-14 15:16:33,605] INFO | darts.models.forecasting.torch_forecasting_model | Train dataset contains 2680 samples.\n",
      "[2022-06-14 15:16:33,605] INFO | darts.models.forecasting.torch_forecasting_model | Train dataset contains 2680 samples.\n",
      "2022-06-14 15:16:33 darts.models.forecasting.torch_forecasting_model INFO: Train dataset contains 2680 samples.\n",
      "[2022-06-14 15:16:33,634] INFO | darts.models.forecasting.torch_forecasting_model | Time series values are 64-bits; casting model to float64.\n",
      "[2022-06-14 15:16:33,634] INFO | darts.models.forecasting.torch_forecasting_model | Time series values are 64-bits; casting model to float64.\n",
      "2022-06-14 15:16:33 darts.models.forecasting.torch_forecasting_model INFO: Time series values are 64-bits; casting model to float64.\n",
      "2022-06-14 15:16:33 pytorch_lightning.utilities.rank_zero INFO: GPU available: False, used: False\n",
      "2022-06-14 15:16:33 pytorch_lightning.utilities.rank_zero INFO: TPU available: False, using: 0 TPU cores\n",
      "2022-06-14 15:16:33 pytorch_lightning.utilities.rank_zero INFO: IPU available: False, using: 0 IPUs\n",
      "2022-06-14 15:16:33 pytorch_lightning.utilities.rank_zero INFO: HPU available: False, using: 0 HPUs\n",
      "2022-06-14 15:16:33 pytorch_lightning.callbacks.model_summary INFO: \n",
      "  | Name      | Type       | Params\n",
      "-----------------------------------------\n",
      "0 | criterion | MSELoss    | 0     \n",
      "1 | stacks    | ModuleList | 8.5 M \n",
      "-----------------------------------------\n",
      "8.5 M     Trainable params\n",
      "3.2 K     Non-trainable params\n",
      "8.5 M     Total params\n",
      "67.633    Total estimated model params size (MB)\n"
     ]
    },
    {
     "data": {
      "application/vnd.jupyter.widget-view+json": {
       "model_id": "052ba9db96f54343baf911fe3813fb10",
       "version_major": 2,
       "version_minor": 0
      },
      "text/plain": [
       "Training: 0it [00:00, ?it/s]"
      ]
     },
     "metadata": {},
     "output_type": "display_data"
    },
    {
     "data": {
      "application/vnd.jupyter.widget-view+json": {
       "model_id": "86629abbca1749c0812eb37a2b363d1e",
       "version_major": 2,
       "version_minor": 0
      },
      "text/plain": [
       "Predicting: 11it [00:00, ?it/s]"
      ]
     },
     "metadata": {},
     "output_type": "display_data"
    },
    {
     "name": "stderr",
     "output_type": "stream",
     "text": [
      "[2022-06-14 15:16:39,553] INFO | darts.models.forecasting.torch_forecasting_model | Train dataset contains 2731 samples.\n",
      "[2022-06-14 15:16:39,553] INFO | darts.models.forecasting.torch_forecasting_model | Train dataset contains 2731 samples.\n",
      "2022-06-14 15:16:39 darts.models.forecasting.torch_forecasting_model INFO: Train dataset contains 2731 samples.\n",
      "[2022-06-14 15:16:39,584] INFO | darts.models.forecasting.torch_forecasting_model | Time series values are 64-bits; casting model to float64.\n",
      "[2022-06-14 15:16:39,584] INFO | darts.models.forecasting.torch_forecasting_model | Time series values are 64-bits; casting model to float64.\n",
      "2022-06-14 15:16:39 darts.models.forecasting.torch_forecasting_model INFO: Time series values are 64-bits; casting model to float64.\n",
      "2022-06-14 15:16:39 pytorch_lightning.utilities.rank_zero INFO: GPU available: False, used: False\n",
      "2022-06-14 15:16:39 pytorch_lightning.utilities.rank_zero INFO: TPU available: False, using: 0 TPU cores\n",
      "2022-06-14 15:16:39 pytorch_lightning.utilities.rank_zero INFO: IPU available: False, using: 0 IPUs\n",
      "2022-06-14 15:16:39 pytorch_lightning.utilities.rank_zero INFO: HPU available: False, using: 0 HPUs\n",
      "2022-06-14 15:16:39 pytorch_lightning.callbacks.model_summary INFO: \n",
      "  | Name      | Type       | Params\n",
      "-----------------------------------------\n",
      "0 | criterion | MSELoss    | 0     \n",
      "1 | stacks    | ModuleList | 8.5 M \n",
      "-----------------------------------------\n",
      "8.5 M     Trainable params\n",
      "3.2 K     Non-trainable params\n",
      "8.5 M     Total params\n",
      "67.633    Total estimated model params size (MB)\n"
     ]
    },
    {
     "data": {
      "application/vnd.jupyter.widget-view+json": {
       "model_id": "366e19eee2ab400db076eb0a2ec14ae4",
       "version_major": 2,
       "version_minor": 0
      },
      "text/plain": [
       "Training: 0it [00:00, ?it/s]"
      ]
     },
     "metadata": {},
     "output_type": "display_data"
    },
    {
     "data": {
      "application/vnd.jupyter.widget-view+json": {
       "model_id": "9722086bad524d2593f88d042aecd8bb",
       "version_major": 2,
       "version_minor": 0
      },
      "text/plain": [
       "Predicting: 11it [00:00, ?it/s]"
      ]
     },
     "metadata": {},
     "output_type": "display_data"
    },
    {
     "name": "stderr",
     "output_type": "stream",
     "text": [
      "[2022-06-14 15:16:45,459] INFO | darts.models.forecasting.torch_forecasting_model | Train dataset contains 2731 samples.\n",
      "[2022-06-14 15:16:45,459] INFO | darts.models.forecasting.torch_forecasting_model | Train dataset contains 2731 samples.\n",
      "2022-06-14 15:16:45 darts.models.forecasting.torch_forecasting_model INFO: Train dataset contains 2731 samples.\n",
      "[2022-06-14 15:16:45,487] INFO | darts.models.forecasting.torch_forecasting_model | Time series values are 64-bits; casting model to float64.\n",
      "[2022-06-14 15:16:45,487] INFO | darts.models.forecasting.torch_forecasting_model | Time series values are 64-bits; casting model to float64.\n",
      "2022-06-14 15:16:45 darts.models.forecasting.torch_forecasting_model INFO: Time series values are 64-bits; casting model to float64.\n",
      "2022-06-14 15:16:45 pytorch_lightning.utilities.rank_zero INFO: GPU available: False, used: False\n",
      "2022-06-14 15:16:45 pytorch_lightning.utilities.rank_zero INFO: TPU available: False, using: 0 TPU cores\n",
      "2022-06-14 15:16:45 pytorch_lightning.utilities.rank_zero INFO: IPU available: False, using: 0 IPUs\n",
      "2022-06-14 15:16:45 pytorch_lightning.utilities.rank_zero INFO: HPU available: False, using: 0 HPUs\n",
      "2022-06-14 15:16:45 pytorch_lightning.callbacks.model_summary INFO: \n",
      "  | Name      | Type       | Params\n",
      "-----------------------------------------\n",
      "0 | criterion | MSELoss    | 0     \n",
      "1 | stacks    | ModuleList | 8.5 M \n",
      "-----------------------------------------\n",
      "8.5 M     Trainable params\n",
      "3.2 K     Non-trainable params\n",
      "8.5 M     Total params\n",
      "67.633    Total estimated model params size (MB)\n"
     ]
    },
    {
     "data": {
      "application/vnd.jupyter.widget-view+json": {
       "model_id": "23a98238bbe04bca8fda303134dcc53b",
       "version_major": 2,
       "version_minor": 0
      },
      "text/plain": [
       "Training: 0it [00:00, ?it/s]"
      ]
     },
     "metadata": {},
     "output_type": "display_data"
    },
    {
     "data": {
      "application/vnd.jupyter.widget-view+json": {
       "model_id": "3fb11962b89b4832aa67fb5ba00eb772",
       "version_major": 2,
       "version_minor": 0
      },
      "text/plain": [
       "Predicting: 11it [00:00, ?it/s]"
      ]
     },
     "metadata": {},
     "output_type": "display_data"
    },
    {
     "name": "stderr",
     "output_type": "stream",
     "text": [
      "[2022-06-14 15:16:51,270] INFO | darts.models.forecasting.torch_forecasting_model | Train dataset contains 2731 samples.\n",
      "[2022-06-14 15:16:51,270] INFO | darts.models.forecasting.torch_forecasting_model | Train dataset contains 2731 samples.\n",
      "2022-06-14 15:16:51 darts.models.forecasting.torch_forecasting_model INFO: Train dataset contains 2731 samples.\n",
      "[2022-06-14 15:16:51,300] INFO | darts.models.forecasting.torch_forecasting_model | Time series values are 64-bits; casting model to float64.\n",
      "[2022-06-14 15:16:51,300] INFO | darts.models.forecasting.torch_forecasting_model | Time series values are 64-bits; casting model to float64.\n",
      "2022-06-14 15:16:51 darts.models.forecasting.torch_forecasting_model INFO: Time series values are 64-bits; casting model to float64.\n",
      "2022-06-14 15:16:51 pytorch_lightning.utilities.rank_zero INFO: GPU available: False, used: False\n",
      "2022-06-14 15:16:51 pytorch_lightning.utilities.rank_zero INFO: TPU available: False, using: 0 TPU cores\n",
      "2022-06-14 15:16:51 pytorch_lightning.utilities.rank_zero INFO: IPU available: False, using: 0 IPUs\n",
      "2022-06-14 15:16:51 pytorch_lightning.utilities.rank_zero INFO: HPU available: False, using: 0 HPUs\n",
      "2022-06-14 15:16:51 pytorch_lightning.callbacks.model_summary INFO: \n",
      "  | Name      | Type       | Params\n",
      "-----------------------------------------\n",
      "0 | criterion | MSELoss    | 0     \n",
      "1 | stacks    | ModuleList | 8.5 M \n",
      "-----------------------------------------\n",
      "8.5 M     Trainable params\n",
      "3.2 K     Non-trainable params\n",
      "8.5 M     Total params\n",
      "67.633    Total estimated model params size (MB)\n"
     ]
    },
    {
     "data": {
      "application/vnd.jupyter.widget-view+json": {
       "model_id": "5a4e1937913f46d1baf41a8e97b7b4e3",
       "version_major": 2,
       "version_minor": 0
      },
      "text/plain": [
       "Training: 0it [00:00, ?it/s]"
      ]
     },
     "metadata": {},
     "output_type": "display_data"
    },
    {
     "data": {
      "application/vnd.jupyter.widget-view+json": {
       "model_id": "d31f01c584174475b195da2fc8667f09",
       "version_major": 2,
       "version_minor": 0
      },
      "text/plain": [
       "Predicting: 11it [00:00, ?it/s]"
      ]
     },
     "metadata": {},
     "output_type": "display_data"
    },
    {
     "name": "stderr",
     "output_type": "stream",
     "text": [
      "[2022-06-14 15:16:57,182] INFO | darts.models.forecasting.torch_forecasting_model | Train dataset contains 2731 samples.\n",
      "[2022-06-14 15:16:57,182] INFO | darts.models.forecasting.torch_forecasting_model | Train dataset contains 2731 samples.\n",
      "2022-06-14 15:16:57 darts.models.forecasting.torch_forecasting_model INFO: Train dataset contains 2731 samples.\n",
      "[2022-06-14 15:16:57,211] INFO | darts.models.forecasting.torch_forecasting_model | Time series values are 64-bits; casting model to float64.\n",
      "[2022-06-14 15:16:57,211] INFO | darts.models.forecasting.torch_forecasting_model | Time series values are 64-bits; casting model to float64.\n",
      "2022-06-14 15:16:57 darts.models.forecasting.torch_forecasting_model INFO: Time series values are 64-bits; casting model to float64.\n",
      "2022-06-14 15:16:57 pytorch_lightning.utilities.rank_zero INFO: GPU available: False, used: False\n",
      "2022-06-14 15:16:57 pytorch_lightning.utilities.rank_zero INFO: TPU available: False, using: 0 TPU cores\n",
      "2022-06-14 15:16:57 pytorch_lightning.utilities.rank_zero INFO: IPU available: False, using: 0 IPUs\n",
      "2022-06-14 15:16:57 pytorch_lightning.utilities.rank_zero INFO: HPU available: False, using: 0 HPUs\n",
      "2022-06-14 15:16:57 pytorch_lightning.callbacks.model_summary INFO: \n",
      "  | Name      | Type       | Params\n",
      "-----------------------------------------\n",
      "0 | criterion | MSELoss    | 0     \n",
      "1 | stacks    | ModuleList | 8.5 M \n",
      "-----------------------------------------\n",
      "8.5 M     Trainable params\n",
      "3.2 K     Non-trainable params\n",
      "8.5 M     Total params\n",
      "67.633    Total estimated model params size (MB)\n"
     ]
    },
    {
     "data": {
      "application/vnd.jupyter.widget-view+json": {
       "model_id": "5bd85a815e354f2b8078dd44b6f9dceb",
       "version_major": 2,
       "version_minor": 0
      },
      "text/plain": [
       "Training: 0it [00:00, ?it/s]"
      ]
     },
     "metadata": {},
     "output_type": "display_data"
    },
    {
     "data": {
      "application/vnd.jupyter.widget-view+json": {
       "model_id": "e8f1ec879c014264ae99baecaafdef86",
       "version_major": 2,
       "version_minor": 0
      },
      "text/plain": [
       "Predicting: 11it [00:00, ?it/s]"
      ]
     },
     "metadata": {},
     "output_type": "display_data"
    },
    {
     "name": "stderr",
     "output_type": "stream",
     "text": [
      "[2022-06-14 15:17:37,518] INFO | darts.models.forecasting.torch_forecasting_model | Train dataset contains 2731 samples.\n",
      "[2022-06-14 15:17:37,518] INFO | darts.models.forecasting.torch_forecasting_model | Train dataset contains 2731 samples.\n",
      "2022-06-14 15:17:37 darts.models.forecasting.torch_forecasting_model INFO: Train dataset contains 2731 samples.\n",
      "[2022-06-14 15:17:37,800] INFO | darts.models.forecasting.torch_forecasting_model | Time series values are 64-bits; casting model to float64.\n",
      "[2022-06-14 15:17:37,800] INFO | darts.models.forecasting.torch_forecasting_model | Time series values are 64-bits; casting model to float64.\n",
      "2022-06-14 15:17:37 darts.models.forecasting.torch_forecasting_model INFO: Time series values are 64-bits; casting model to float64.\n",
      "2022-06-14 15:17:37 pytorch_lightning.utilities.rank_zero INFO: GPU available: False, used: False\n",
      "2022-06-14 15:17:37 pytorch_lightning.utilities.rank_zero INFO: TPU available: False, using: 0 TPU cores\n",
      "2022-06-14 15:17:37 pytorch_lightning.utilities.rank_zero INFO: IPU available: False, using: 0 IPUs\n",
      "2022-06-14 15:17:37 pytorch_lightning.utilities.rank_zero INFO: HPU available: False, using: 0 HPUs\n",
      "2022-06-14 15:17:38 pytorch_lightning.callbacks.model_summary INFO: \n",
      "  | Name      | Type       | Params\n",
      "-----------------------------------------\n",
      "0 | criterion | MSELoss    | 0     \n",
      "1 | stacks    | ModuleList | 8.5 M \n",
      "-----------------------------------------\n",
      "8.5 M     Trainable params\n",
      "3.2 K     Non-trainable params\n",
      "8.5 M     Total params\n",
      "67.633    Total estimated model params size (MB)\n"
     ]
    },
    {
     "data": {
      "application/vnd.jupyter.widget-view+json": {
       "model_id": "fbef17587cc34c27b3f566cd916f3973",
       "version_major": 2,
       "version_minor": 0
      },
      "text/plain": [
       "Training: 0it [00:00, ?it/s]"
      ]
     },
     "metadata": {},
     "output_type": "display_data"
    },
    {
     "data": {
      "application/vnd.jupyter.widget-view+json": {
       "model_id": "7b23f163e4fd4cb786bcd5ba58f74b09",
       "version_major": 2,
       "version_minor": 0
      },
      "text/plain": [
       "Predicting: 11it [00:00, ?it/s]"
      ]
     },
     "metadata": {},
     "output_type": "display_data"
    },
    {
     "name": "stderr",
     "output_type": "stream",
     "text": [
      "[2022-06-14 15:18:22,696] INFO | darts.models.forecasting.torch_forecasting_model | Train dataset contains 2655 samples.\n",
      "[2022-06-14 15:18:22,696] INFO | darts.models.forecasting.torch_forecasting_model | Train dataset contains 2655 samples.\n",
      "2022-06-14 15:18:22 darts.models.forecasting.torch_forecasting_model INFO: Train dataset contains 2655 samples.\n",
      "[2022-06-14 15:18:22,905] INFO | darts.models.forecasting.torch_forecasting_model | Time series values are 64-bits; casting model to float64.\n",
      "[2022-06-14 15:18:22,905] INFO | darts.models.forecasting.torch_forecasting_model | Time series values are 64-bits; casting model to float64.\n",
      "2022-06-14 15:18:22 darts.models.forecasting.torch_forecasting_model INFO: Time series values are 64-bits; casting model to float64.\n",
      "2022-06-14 15:18:22 pytorch_lightning.utilities.rank_zero INFO: GPU available: False, used: False\n",
      "2022-06-14 15:18:22 pytorch_lightning.utilities.rank_zero INFO: TPU available: False, using: 0 TPU cores\n",
      "2022-06-14 15:18:22 pytorch_lightning.utilities.rank_zero INFO: IPU available: False, using: 0 IPUs\n",
      "2022-06-14 15:18:22 pytorch_lightning.utilities.rank_zero INFO: HPU available: False, using: 0 HPUs\n",
      "2022-06-14 15:18:23 pytorch_lightning.callbacks.model_summary INFO: \n",
      "  | Name      | Type       | Params\n",
      "-----------------------------------------\n",
      "0 | criterion | MSELoss    | 0     \n",
      "1 | stacks    | ModuleList | 8.5 M \n",
      "-----------------------------------------\n",
      "8.5 M     Trainable params\n",
      "3.2 K     Non-trainable params\n",
      "8.5 M     Total params\n",
      "67.633    Total estimated model params size (MB)\n"
     ]
    },
    {
     "data": {
      "application/vnd.jupyter.widget-view+json": {
       "model_id": "7f3982a284e5449bbc3c673ddc020a17",
       "version_major": 2,
       "version_minor": 0
      },
      "text/plain": [
       "Training: 0it [00:00, ?it/s]"
      ]
     },
     "metadata": {},
     "output_type": "display_data"
    },
    {
     "data": {
      "application/vnd.jupyter.widget-view+json": {
       "model_id": "22b898c26b194cd29b6242291f2aac5a",
       "version_major": 2,
       "version_minor": 0
      },
      "text/plain": [
       "Predicting: 11it [00:00, ?it/s]"
      ]
     },
     "metadata": {},
     "output_type": "display_data"
    },
    {
     "name": "stderr",
     "output_type": "stream",
     "text": [
      "[2022-06-14 15:18:46,162] INFO | darts.models.forecasting.torch_forecasting_model | Train dataset contains 2682 samples.\n",
      "[2022-06-14 15:18:46,162] INFO | darts.models.forecasting.torch_forecasting_model | Train dataset contains 2682 samples.\n",
      "2022-06-14 15:18:46 darts.models.forecasting.torch_forecasting_model INFO: Train dataset contains 2682 samples.\n",
      "[2022-06-14 15:18:46,192] INFO | darts.models.forecasting.torch_forecasting_model | Time series values are 64-bits; casting model to float64.\n",
      "[2022-06-14 15:18:46,192] INFO | darts.models.forecasting.torch_forecasting_model | Time series values are 64-bits; casting model to float64.\n",
      "2022-06-14 15:18:46 darts.models.forecasting.torch_forecasting_model INFO: Time series values are 64-bits; casting model to float64.\n",
      "2022-06-14 15:18:46 pytorch_lightning.utilities.rank_zero INFO: GPU available: False, used: False\n",
      "2022-06-14 15:18:46 pytorch_lightning.utilities.rank_zero INFO: TPU available: False, using: 0 TPU cores\n",
      "2022-06-14 15:18:46 pytorch_lightning.utilities.rank_zero INFO: IPU available: False, using: 0 IPUs\n",
      "2022-06-14 15:18:46 pytorch_lightning.utilities.rank_zero INFO: HPU available: False, using: 0 HPUs\n",
      "2022-06-14 15:18:46 pytorch_lightning.callbacks.model_summary INFO: \n",
      "  | Name      | Type       | Params\n",
      "-----------------------------------------\n",
      "0 | criterion | MSELoss    | 0     \n",
      "1 | stacks    | ModuleList | 8.5 M \n",
      "-----------------------------------------\n",
      "8.5 M     Trainable params\n",
      "3.2 K     Non-trainable params\n",
      "8.5 M     Total params\n",
      "67.633    Total estimated model params size (MB)\n"
     ]
    },
    {
     "data": {
      "application/vnd.jupyter.widget-view+json": {
       "model_id": "0f2163fe66d74a36809ef566cbd24d26",
       "version_major": 2,
       "version_minor": 0
      },
      "text/plain": [
       "Training: 0it [00:00, ?it/s]"
      ]
     },
     "metadata": {},
     "output_type": "display_data"
    },
    {
     "data": {
      "application/vnd.jupyter.widget-view+json": {
       "model_id": "2ea40e034819447b9178efe8763717ef",
       "version_major": 2,
       "version_minor": 0
      },
      "text/plain": [
       "Predicting: 11it [00:00, ?it/s]"
      ]
     },
     "metadata": {},
     "output_type": "display_data"
    },
    {
     "name": "stderr",
     "output_type": "stream",
     "text": [
      "[2022-06-14 15:18:55,086] INFO | darts.models.forecasting.torch_forecasting_model | Train dataset contains 2680 samples.\n",
      "[2022-06-14 15:18:55,086] INFO | darts.models.forecasting.torch_forecasting_model | Train dataset contains 2680 samples.\n",
      "2022-06-14 15:18:55 darts.models.forecasting.torch_forecasting_model INFO: Train dataset contains 2680 samples.\n",
      "[2022-06-14 15:18:55,136] INFO | darts.models.forecasting.torch_forecasting_model | Time series values are 64-bits; casting model to float64.\n",
      "[2022-06-14 15:18:55,136] INFO | darts.models.forecasting.torch_forecasting_model | Time series values are 64-bits; casting model to float64.\n",
      "2022-06-14 15:18:55 darts.models.forecasting.torch_forecasting_model INFO: Time series values are 64-bits; casting model to float64.\n",
      "2022-06-14 15:18:55 pytorch_lightning.utilities.rank_zero INFO: GPU available: False, used: False\n",
      "2022-06-14 15:18:55 pytorch_lightning.utilities.rank_zero INFO: TPU available: False, using: 0 TPU cores\n",
      "2022-06-14 15:18:55 pytorch_lightning.utilities.rank_zero INFO: IPU available: False, using: 0 IPUs\n",
      "2022-06-14 15:18:55 pytorch_lightning.utilities.rank_zero INFO: HPU available: False, using: 0 HPUs\n",
      "2022-06-14 15:18:55 pytorch_lightning.callbacks.model_summary INFO: \n",
      "  | Name      | Type       | Params\n",
      "-----------------------------------------\n",
      "0 | criterion | MSELoss    | 0     \n",
      "1 | stacks    | ModuleList | 8.5 M \n",
      "-----------------------------------------\n",
      "8.5 M     Trainable params\n",
      "3.2 K     Non-trainable params\n",
      "8.5 M     Total params\n",
      "67.633    Total estimated model params size (MB)\n"
     ]
    },
    {
     "data": {
      "application/vnd.jupyter.widget-view+json": {
       "model_id": "4a8cf1f4c5c1478297b3968443a55203",
       "version_major": 2,
       "version_minor": 0
      },
      "text/plain": [
       "Training: 0it [00:00, ?it/s]"
      ]
     },
     "metadata": {},
     "output_type": "display_data"
    },
    {
     "data": {
      "application/vnd.jupyter.widget-view+json": {
       "model_id": "b797e69757c1409bb0f520b5e177f6dd",
       "version_major": 2,
       "version_minor": 0
      },
      "text/plain": [
       "Predicting: 11it [00:00, ?it/s]"
      ]
     },
     "metadata": {},
     "output_type": "display_data"
    },
    {
     "name": "stderr",
     "output_type": "stream",
     "text": [
      "[2022-06-14 15:19:01,390] INFO | darts.models.forecasting.torch_forecasting_model | Train dataset contains 2682 samples.\n",
      "[2022-06-14 15:19:01,390] INFO | darts.models.forecasting.torch_forecasting_model | Train dataset contains 2682 samples.\n",
      "2022-06-14 15:19:01 darts.models.forecasting.torch_forecasting_model INFO: Train dataset contains 2682 samples.\n",
      "[2022-06-14 15:19:01,419] INFO | darts.models.forecasting.torch_forecasting_model | Time series values are 64-bits; casting model to float64.\n",
      "[2022-06-14 15:19:01,419] INFO | darts.models.forecasting.torch_forecasting_model | Time series values are 64-bits; casting model to float64.\n",
      "2022-06-14 15:19:01 darts.models.forecasting.torch_forecasting_model INFO: Time series values are 64-bits; casting model to float64.\n",
      "2022-06-14 15:19:01 pytorch_lightning.utilities.rank_zero INFO: GPU available: False, used: False\n",
      "2022-06-14 15:19:01 pytorch_lightning.utilities.rank_zero INFO: TPU available: False, using: 0 TPU cores\n",
      "2022-06-14 15:19:01 pytorch_lightning.utilities.rank_zero INFO: IPU available: False, using: 0 IPUs\n",
      "2022-06-14 15:19:01 pytorch_lightning.utilities.rank_zero INFO: HPU available: False, using: 0 HPUs\n",
      "2022-06-14 15:19:01 pytorch_lightning.callbacks.model_summary INFO: \n",
      "  | Name      | Type       | Params\n",
      "-----------------------------------------\n",
      "0 | criterion | MSELoss    | 0     \n",
      "1 | stacks    | ModuleList | 8.5 M \n",
      "-----------------------------------------\n",
      "8.5 M     Trainable params\n",
      "3.2 K     Non-trainable params\n",
      "8.5 M     Total params\n",
      "67.633    Total estimated model params size (MB)\n"
     ]
    },
    {
     "data": {
      "application/vnd.jupyter.widget-view+json": {
       "model_id": "ddcf40b3e8a442eba113a1d4e8edb63e",
       "version_major": 2,
       "version_minor": 0
      },
      "text/plain": [
       "Training: 0it [00:00, ?it/s]"
      ]
     },
     "metadata": {},
     "output_type": "display_data"
    },
    {
     "data": {
      "application/vnd.jupyter.widget-view+json": {
       "model_id": "6cfdd80380094acf8cc66caa37dd6a87",
       "version_major": 2,
       "version_minor": 0
      },
      "text/plain": [
       "Predicting: 11it [00:00, ?it/s]"
      ]
     },
     "metadata": {},
     "output_type": "display_data"
    },
    {
     "name": "stderr",
     "output_type": "stream",
     "text": [
      "[2022-06-14 15:19:07,796] INFO | darts.models.forecasting.torch_forecasting_model | Train dataset contains 2677 samples.\n",
      "[2022-06-14 15:19:07,796] INFO | darts.models.forecasting.torch_forecasting_model | Train dataset contains 2677 samples.\n",
      "2022-06-14 15:19:07 darts.models.forecasting.torch_forecasting_model INFO: Train dataset contains 2677 samples.\n",
      "[2022-06-14 15:19:07,825] INFO | darts.models.forecasting.torch_forecasting_model | Time series values are 64-bits; casting model to float64.\n",
      "[2022-06-14 15:19:07,825] INFO | darts.models.forecasting.torch_forecasting_model | Time series values are 64-bits; casting model to float64.\n",
      "2022-06-14 15:19:07 darts.models.forecasting.torch_forecasting_model INFO: Time series values are 64-bits; casting model to float64.\n",
      "2022-06-14 15:19:07 pytorch_lightning.utilities.rank_zero INFO: GPU available: False, used: False\n",
      "2022-06-14 15:19:07 pytorch_lightning.utilities.rank_zero INFO: TPU available: False, using: 0 TPU cores\n",
      "2022-06-14 15:19:07 pytorch_lightning.utilities.rank_zero INFO: IPU available: False, using: 0 IPUs\n",
      "2022-06-14 15:19:07 pytorch_lightning.utilities.rank_zero INFO: HPU available: False, using: 0 HPUs\n",
      "2022-06-14 15:19:07 pytorch_lightning.callbacks.model_summary INFO: \n",
      "  | Name      | Type       | Params\n",
      "-----------------------------------------\n",
      "0 | criterion | MSELoss    | 0     \n",
      "1 | stacks    | ModuleList | 8.5 M \n",
      "-----------------------------------------\n",
      "8.5 M     Trainable params\n",
      "3.2 K     Non-trainable params\n",
      "8.5 M     Total params\n",
      "67.633    Total estimated model params size (MB)\n"
     ]
    },
    {
     "data": {
      "application/vnd.jupyter.widget-view+json": {
       "model_id": "1945b898e8d44c26ae2865666b4eaabd",
       "version_major": 2,
       "version_minor": 0
      },
      "text/plain": [
       "Training: 0it [00:00, ?it/s]"
      ]
     },
     "metadata": {},
     "output_type": "display_data"
    },
    {
     "data": {
      "application/vnd.jupyter.widget-view+json": {
       "model_id": "c68bacb89c664b1a9e1b46b6c6074060",
       "version_major": 2,
       "version_minor": 0
      },
      "text/plain": [
       "Predicting: 11it [00:00, ?it/s]"
      ]
     },
     "metadata": {},
     "output_type": "display_data"
    },
    {
     "name": "stderr",
     "output_type": "stream",
     "text": [
      "[2022-06-14 15:19:17,772] INFO | darts.models.forecasting.torch_forecasting_model | Train dataset contains 2677 samples.\n",
      "[2022-06-14 15:19:17,772] INFO | darts.models.forecasting.torch_forecasting_model | Train dataset contains 2677 samples.\n",
      "2022-06-14 15:19:17 darts.models.forecasting.torch_forecasting_model INFO: Train dataset contains 2677 samples.\n",
      "[2022-06-14 15:19:17,806] INFO | darts.models.forecasting.torch_forecasting_model | Time series values are 64-bits; casting model to float64.\n",
      "[2022-06-14 15:19:17,806] INFO | darts.models.forecasting.torch_forecasting_model | Time series values are 64-bits; casting model to float64.\n",
      "2022-06-14 15:19:17 darts.models.forecasting.torch_forecasting_model INFO: Time series values are 64-bits; casting model to float64.\n",
      "2022-06-14 15:19:17 pytorch_lightning.utilities.rank_zero INFO: GPU available: False, used: False\n",
      "2022-06-14 15:19:17 pytorch_lightning.utilities.rank_zero INFO: TPU available: False, using: 0 TPU cores\n",
      "2022-06-14 15:19:17 pytorch_lightning.utilities.rank_zero INFO: IPU available: False, using: 0 IPUs\n",
      "2022-06-14 15:19:17 pytorch_lightning.utilities.rank_zero INFO: HPU available: False, using: 0 HPUs\n",
      "2022-06-14 15:19:17 pytorch_lightning.callbacks.model_summary INFO: \n",
      "  | Name      | Type       | Params\n",
      "-----------------------------------------\n",
      "0 | criterion | MSELoss    | 0     \n",
      "1 | stacks    | ModuleList | 8.5 M \n",
      "-----------------------------------------\n",
      "8.5 M     Trainable params\n",
      "3.2 K     Non-trainable params\n",
      "8.5 M     Total params\n",
      "67.633    Total estimated model params size (MB)\n"
     ]
    },
    {
     "data": {
      "application/vnd.jupyter.widget-view+json": {
       "model_id": "07192de654844e22aef17aa73f1c1ad3",
       "version_major": 2,
       "version_minor": 0
      },
      "text/plain": [
       "Training: 0it [00:00, ?it/s]"
      ]
     },
     "metadata": {},
     "output_type": "display_data"
    },
    {
     "data": {
      "application/vnd.jupyter.widget-view+json": {
       "model_id": "e7da51ce7ccf4956a9b6998312f5750c",
       "version_major": 2,
       "version_minor": 0
      },
      "text/plain": [
       "Predicting: 11it [00:00, ?it/s]"
      ]
     },
     "metadata": {},
     "output_type": "display_data"
    },
    {
     "name": "stderr",
     "output_type": "stream",
     "text": [
      "[2022-06-14 15:19:31,147] INFO | darts.models.forecasting.torch_forecasting_model | Train dataset contains 2646 samples.\n",
      "[2022-06-14 15:19:31,147] INFO | darts.models.forecasting.torch_forecasting_model | Train dataset contains 2646 samples.\n",
      "2022-06-14 15:19:31 darts.models.forecasting.torch_forecasting_model INFO: Train dataset contains 2646 samples.\n",
      "[2022-06-14 15:19:31,179] INFO | darts.models.forecasting.torch_forecasting_model | Time series values are 64-bits; casting model to float64.\n",
      "[2022-06-14 15:19:31,179] INFO | darts.models.forecasting.torch_forecasting_model | Time series values are 64-bits; casting model to float64.\n",
      "2022-06-14 15:19:31 darts.models.forecasting.torch_forecasting_model INFO: Time series values are 64-bits; casting model to float64.\n",
      "2022-06-14 15:19:31 pytorch_lightning.utilities.rank_zero INFO: GPU available: False, used: False\n",
      "2022-06-14 15:19:31 pytorch_lightning.utilities.rank_zero INFO: TPU available: False, using: 0 TPU cores\n",
      "2022-06-14 15:19:31 pytorch_lightning.utilities.rank_zero INFO: IPU available: False, using: 0 IPUs\n",
      "2022-06-14 15:19:31 pytorch_lightning.utilities.rank_zero INFO: HPU available: False, using: 0 HPUs\n",
      "2022-06-14 15:19:31 pytorch_lightning.callbacks.model_summary INFO: \n",
      "  | Name      | Type       | Params\n",
      "-----------------------------------------\n",
      "0 | criterion | MSELoss    | 0     \n",
      "1 | stacks    | ModuleList | 8.5 M \n",
      "-----------------------------------------\n",
      "8.5 M     Trainable params\n",
      "3.2 K     Non-trainable params\n",
      "8.5 M     Total params\n",
      "67.633    Total estimated model params size (MB)\n"
     ]
    },
    {
     "data": {
      "application/vnd.jupyter.widget-view+json": {
       "model_id": "a19c3d954f974b69b5117b8ec0ba89de",
       "version_major": 2,
       "version_minor": 0
      },
      "text/plain": [
       "Training: 0it [00:00, ?it/s]"
      ]
     },
     "metadata": {},
     "output_type": "display_data"
    },
    {
     "data": {
      "application/vnd.jupyter.widget-view+json": {
       "model_id": "55cdb58cda6a45d8baf53878c84fedc3",
       "version_major": 2,
       "version_minor": 0
      },
      "text/plain": [
       "Predicting: 11it [00:00, ?it/s]"
      ]
     },
     "metadata": {},
     "output_type": "display_data"
    },
    {
     "name": "stderr",
     "output_type": "stream",
     "text": [
      "[2022-06-14 15:20:31,348] INFO | darts.models.forecasting.torch_forecasting_model | Train dataset contains 2709 samples.\n",
      "[2022-06-14 15:20:31,348] INFO | darts.models.forecasting.torch_forecasting_model | Train dataset contains 2709 samples.\n",
      "2022-06-14 15:20:31 darts.models.forecasting.torch_forecasting_model INFO: Train dataset contains 2709 samples.\n",
      "[2022-06-14 15:20:31,384] INFO | darts.models.forecasting.torch_forecasting_model | Time series values are 64-bits; casting model to float64.\n",
      "[2022-06-14 15:20:31,384] INFO | darts.models.forecasting.torch_forecasting_model | Time series values are 64-bits; casting model to float64.\n",
      "2022-06-14 15:20:31 darts.models.forecasting.torch_forecasting_model INFO: Time series values are 64-bits; casting model to float64.\n",
      "2022-06-14 15:20:31 pytorch_lightning.utilities.rank_zero INFO: GPU available: False, used: False\n",
      "2022-06-14 15:20:31 pytorch_lightning.utilities.rank_zero INFO: TPU available: False, using: 0 TPU cores\n",
      "2022-06-14 15:20:31 pytorch_lightning.utilities.rank_zero INFO: IPU available: False, using: 0 IPUs\n",
      "2022-06-14 15:20:31 pytorch_lightning.utilities.rank_zero INFO: HPU available: False, using: 0 HPUs\n",
      "2022-06-14 15:20:31 pytorch_lightning.callbacks.model_summary INFO: \n",
      "  | Name      | Type       | Params\n",
      "-----------------------------------------\n",
      "0 | criterion | MSELoss    | 0     \n",
      "1 | stacks    | ModuleList | 8.5 M \n",
      "-----------------------------------------\n",
      "8.5 M     Trainable params\n",
      "3.2 K     Non-trainable params\n",
      "8.5 M     Total params\n",
      "67.633    Total estimated model params size (MB)\n"
     ]
    },
    {
     "data": {
      "application/vnd.jupyter.widget-view+json": {
       "model_id": "c29f8aafe78642fc883358f95d992536",
       "version_major": 2,
       "version_minor": 0
      },
      "text/plain": [
       "Training: 0it [00:00, ?it/s]"
      ]
     },
     "metadata": {},
     "output_type": "display_data"
    },
    {
     "data": {
      "application/vnd.jupyter.widget-view+json": {
       "model_id": "d5366e26dce748b8848ec0af16e15db7",
       "version_major": 2,
       "version_minor": 0
      },
      "text/plain": [
       "Predicting: 11it [00:00, ?it/s]"
      ]
     },
     "metadata": {},
     "output_type": "display_data"
    },
    {
     "name": "stderr",
     "output_type": "stream",
     "text": [
      "[2022-06-14 15:20:38,081] INFO | darts.models.forecasting.torch_forecasting_model | Train dataset contains 2709 samples.\n",
      "[2022-06-14 15:20:38,081] INFO | darts.models.forecasting.torch_forecasting_model | Train dataset contains 2709 samples.\n",
      "2022-06-14 15:20:38 darts.models.forecasting.torch_forecasting_model INFO: Train dataset contains 2709 samples.\n",
      "[2022-06-14 15:20:38,115] INFO | darts.models.forecasting.torch_forecasting_model | Time series values are 64-bits; casting model to float64.\n",
      "[2022-06-14 15:20:38,115] INFO | darts.models.forecasting.torch_forecasting_model | Time series values are 64-bits; casting model to float64.\n",
      "2022-06-14 15:20:38 darts.models.forecasting.torch_forecasting_model INFO: Time series values are 64-bits; casting model to float64.\n",
      "2022-06-14 15:20:38 pytorch_lightning.utilities.rank_zero INFO: GPU available: False, used: False\n",
      "2022-06-14 15:20:38 pytorch_lightning.utilities.rank_zero INFO: TPU available: False, using: 0 TPU cores\n",
      "2022-06-14 15:20:38 pytorch_lightning.utilities.rank_zero INFO: IPU available: False, using: 0 IPUs\n",
      "2022-06-14 15:20:38 pytorch_lightning.utilities.rank_zero INFO: HPU available: False, using: 0 HPUs\n",
      "2022-06-14 15:20:38 pytorch_lightning.callbacks.model_summary INFO: \n",
      "  | Name      | Type       | Params\n",
      "-----------------------------------------\n",
      "0 | criterion | MSELoss    | 0     \n",
      "1 | stacks    | ModuleList | 8.5 M \n",
      "-----------------------------------------\n",
      "8.5 M     Trainable params\n",
      "3.2 K     Non-trainable params\n",
      "8.5 M     Total params\n",
      "67.633    Total estimated model params size (MB)\n"
     ]
    },
    {
     "data": {
      "application/vnd.jupyter.widget-view+json": {
       "model_id": "f30f43185fde43b8994d04e32eb759d7",
       "version_major": 2,
       "version_minor": 0
      },
      "text/plain": [
       "Training: 0it [00:00, ?it/s]"
      ]
     },
     "metadata": {},
     "output_type": "display_data"
    },
    {
     "data": {
      "application/vnd.jupyter.widget-view+json": {
       "model_id": "823b922e76114410a9d1cbd44e5ed254",
       "version_major": 2,
       "version_minor": 0
      },
      "text/plain": [
       "Predicting: 11it [00:00, ?it/s]"
      ]
     },
     "metadata": {},
     "output_type": "display_data"
    },
    {
     "name": "stderr",
     "output_type": "stream",
     "text": [
      "[2022-06-14 15:20:45,067] INFO | darts.models.forecasting.torch_forecasting_model | Train dataset contains 2709 samples.\n",
      "[2022-06-14 15:20:45,067] INFO | darts.models.forecasting.torch_forecasting_model | Train dataset contains 2709 samples.\n",
      "2022-06-14 15:20:45 darts.models.forecasting.torch_forecasting_model INFO: Train dataset contains 2709 samples.\n",
      "[2022-06-14 15:20:45,121] INFO | darts.models.forecasting.torch_forecasting_model | Time series values are 64-bits; casting model to float64.\n",
      "[2022-06-14 15:20:45,121] INFO | darts.models.forecasting.torch_forecasting_model | Time series values are 64-bits; casting model to float64.\n",
      "2022-06-14 15:20:45 darts.models.forecasting.torch_forecasting_model INFO: Time series values are 64-bits; casting model to float64.\n",
      "2022-06-14 15:20:45 pytorch_lightning.utilities.rank_zero INFO: GPU available: False, used: False\n",
      "2022-06-14 15:20:45 pytorch_lightning.utilities.rank_zero INFO: TPU available: False, using: 0 TPU cores\n",
      "2022-06-14 15:20:45 pytorch_lightning.utilities.rank_zero INFO: IPU available: False, using: 0 IPUs\n",
      "2022-06-14 15:20:45 pytorch_lightning.utilities.rank_zero INFO: HPU available: False, using: 0 HPUs\n",
      "2022-06-14 15:20:45 pytorch_lightning.callbacks.model_summary INFO: \n",
      "  | Name      | Type       | Params\n",
      "-----------------------------------------\n",
      "0 | criterion | MSELoss    | 0     \n",
      "1 | stacks    | ModuleList | 8.5 M \n",
      "-----------------------------------------\n",
      "8.5 M     Trainable params\n",
      "3.2 K     Non-trainable params\n",
      "8.5 M     Total params\n",
      "67.633    Total estimated model params size (MB)\n"
     ]
    },
    {
     "data": {
      "application/vnd.jupyter.widget-view+json": {
       "model_id": "14a553f4cea842d2a4945ba997fc8213",
       "version_major": 2,
       "version_minor": 0
      },
      "text/plain": [
       "Training: 0it [00:00, ?it/s]"
      ]
     },
     "metadata": {},
     "output_type": "display_data"
    },
    {
     "data": {
      "application/vnd.jupyter.widget-view+json": {
       "model_id": "72719a029c21408e827bd3704587576c",
       "version_major": 2,
       "version_minor": 0
      },
      "text/plain": [
       "Predicting: 11it [00:00, ?it/s]"
      ]
     },
     "metadata": {},
     "output_type": "display_data"
    },
    {
     "name": "stderr",
     "output_type": "stream",
     "text": [
      "[2022-06-14 15:20:50,935] INFO | darts.models.forecasting.torch_forecasting_model | Train dataset contains 2705 samples.\n",
      "[2022-06-14 15:20:50,935] INFO | darts.models.forecasting.torch_forecasting_model | Train dataset contains 2705 samples.\n",
      "2022-06-14 15:20:50 darts.models.forecasting.torch_forecasting_model INFO: Train dataset contains 2705 samples.\n",
      "[2022-06-14 15:20:50,984] INFO | darts.models.forecasting.torch_forecasting_model | Time series values are 64-bits; casting model to float64.\n",
      "[2022-06-14 15:20:50,984] INFO | darts.models.forecasting.torch_forecasting_model | Time series values are 64-bits; casting model to float64.\n",
      "2022-06-14 15:20:50 darts.models.forecasting.torch_forecasting_model INFO: Time series values are 64-bits; casting model to float64.\n",
      "2022-06-14 15:20:50 pytorch_lightning.utilities.rank_zero INFO: GPU available: False, used: False\n",
      "2022-06-14 15:20:50 pytorch_lightning.utilities.rank_zero INFO: TPU available: False, using: 0 TPU cores\n",
      "2022-06-14 15:20:50 pytorch_lightning.utilities.rank_zero INFO: IPU available: False, using: 0 IPUs\n",
      "2022-06-14 15:20:50 pytorch_lightning.utilities.rank_zero INFO: HPU available: False, using: 0 HPUs\n",
      "2022-06-14 15:20:51 pytorch_lightning.callbacks.model_summary INFO: \n",
      "  | Name      | Type       | Params\n",
      "-----------------------------------------\n",
      "0 | criterion | MSELoss    | 0     \n",
      "1 | stacks    | ModuleList | 8.5 M \n",
      "-----------------------------------------\n",
      "8.5 M     Trainable params\n",
      "3.2 K     Non-trainable params\n",
      "8.5 M     Total params\n",
      "67.633    Total estimated model params size (MB)\n"
     ]
    },
    {
     "data": {
      "application/vnd.jupyter.widget-view+json": {
       "model_id": "f8e45a268b1f48cfb624bc7459549079",
       "version_major": 2,
       "version_minor": 0
      },
      "text/plain": [
       "Training: 0it [00:03, ?it/s]"
      ]
     },
     "metadata": {},
     "output_type": "display_data"
    },
    {
     "data": {
      "application/vnd.jupyter.widget-view+json": {
       "model_id": "51a985622a734bba9c48399bf83fc819",
       "version_major": 2,
       "version_minor": 0
      },
      "text/plain": [
       "Predicting: 11it [00:00, ?it/s]"
      ]
     },
     "metadata": {},
     "output_type": "display_data"
    },
    {
     "name": "stderr",
     "output_type": "stream",
     "text": [
      "[2022-06-14 15:21:00,000] INFO | darts.models.forecasting.torch_forecasting_model | Train dataset contains 2705 samples.\n",
      "[2022-06-14 15:21:00,000] INFO | darts.models.forecasting.torch_forecasting_model | Train dataset contains 2705 samples.\n",
      "2022-06-14 15:21:00 darts.models.forecasting.torch_forecasting_model INFO: Train dataset contains 2705 samples.\n",
      "[2022-06-14 15:21:00,031] INFO | darts.models.forecasting.torch_forecasting_model | Time series values are 64-bits; casting model to float64.\n",
      "[2022-06-14 15:21:00,031] INFO | darts.models.forecasting.torch_forecasting_model | Time series values are 64-bits; casting model to float64.\n",
      "2022-06-14 15:21:00 darts.models.forecasting.torch_forecasting_model INFO: Time series values are 64-bits; casting model to float64.\n",
      "2022-06-14 15:21:00 pytorch_lightning.utilities.rank_zero INFO: GPU available: False, used: False\n",
      "2022-06-14 15:21:00 pytorch_lightning.utilities.rank_zero INFO: TPU available: False, using: 0 TPU cores\n",
      "2022-06-14 15:21:00 pytorch_lightning.utilities.rank_zero INFO: IPU available: False, using: 0 IPUs\n",
      "2022-06-14 15:21:00 pytorch_lightning.utilities.rank_zero INFO: HPU available: False, using: 0 HPUs\n",
      "2022-06-14 15:21:00 pytorch_lightning.callbacks.model_summary INFO: \n",
      "  | Name      | Type       | Params\n",
      "-----------------------------------------\n",
      "0 | criterion | MSELoss    | 0     \n",
      "1 | stacks    | ModuleList | 8.5 M \n",
      "-----------------------------------------\n",
      "8.5 M     Trainable params\n",
      "3.2 K     Non-trainable params\n",
      "8.5 M     Total params\n",
      "67.633    Total estimated model params size (MB)\n"
     ]
    },
    {
     "data": {
      "application/vnd.jupyter.widget-view+json": {
       "model_id": "eb2851d977f44197a9c9e77c897e1501",
       "version_major": 2,
       "version_minor": 0
      },
      "text/plain": [
       "Training: 0it [00:00, ?it/s]"
      ]
     },
     "metadata": {},
     "output_type": "display_data"
    },
    {
     "data": {
      "application/vnd.jupyter.widget-view+json": {
       "model_id": "c7fc4aeb7391462291f6f9e5dfe3952f",
       "version_major": 2,
       "version_minor": 0
      },
      "text/plain": [
       "Predicting: 11it [00:00, ?it/s]"
      ]
     },
     "metadata": {},
     "output_type": "display_data"
    },
    {
     "name": "stderr",
     "output_type": "stream",
     "text": [
      "[2022-06-14 15:21:05,528] INFO | darts.models.forecasting.torch_forecasting_model | Train dataset contains 2678 samples.\n",
      "[2022-06-14 15:21:05,528] INFO | darts.models.forecasting.torch_forecasting_model | Train dataset contains 2678 samples.\n",
      "2022-06-14 15:21:05 darts.models.forecasting.torch_forecasting_model INFO: Train dataset contains 2678 samples.\n",
      "[2022-06-14 15:21:05,557] INFO | darts.models.forecasting.torch_forecasting_model | Time series values are 64-bits; casting model to float64.\n",
      "[2022-06-14 15:21:05,557] INFO | darts.models.forecasting.torch_forecasting_model | Time series values are 64-bits; casting model to float64.\n",
      "2022-06-14 15:21:05 darts.models.forecasting.torch_forecasting_model INFO: Time series values are 64-bits; casting model to float64.\n",
      "2022-06-14 15:21:05 pytorch_lightning.utilities.rank_zero INFO: GPU available: False, used: False\n",
      "2022-06-14 15:21:05 pytorch_lightning.utilities.rank_zero INFO: TPU available: False, using: 0 TPU cores\n",
      "2022-06-14 15:21:05 pytorch_lightning.utilities.rank_zero INFO: IPU available: False, using: 0 IPUs\n",
      "2022-06-14 15:21:05 pytorch_lightning.utilities.rank_zero INFO: HPU available: False, using: 0 HPUs\n",
      "2022-06-14 15:21:05 pytorch_lightning.callbacks.model_summary INFO: \n",
      "  | Name      | Type       | Params\n",
      "-----------------------------------------\n",
      "0 | criterion | MSELoss    | 0     \n",
      "1 | stacks    | ModuleList | 8.5 M \n",
      "-----------------------------------------\n",
      "8.5 M     Trainable params\n",
      "3.2 K     Non-trainable params\n",
      "8.5 M     Total params\n",
      "67.633    Total estimated model params size (MB)\n"
     ]
    },
    {
     "data": {
      "application/vnd.jupyter.widget-view+json": {
       "model_id": "1c03393d5cb647bf905912e865365eb8",
       "version_major": 2,
       "version_minor": 0
      },
      "text/plain": [
       "Training: 0it [00:00, ?it/s]"
      ]
     },
     "metadata": {},
     "output_type": "display_data"
    },
    {
     "data": {
      "application/vnd.jupyter.widget-view+json": {
       "model_id": "25490f6cf36a477f900ad35544319ecd",
       "version_major": 2,
       "version_minor": 0
      },
      "text/plain": [
       "Predicting: 11it [00:00, ?it/s]"
      ]
     },
     "metadata": {},
     "output_type": "display_data"
    },
    {
     "name": "stderr",
     "output_type": "stream",
     "text": [
      "[2022-06-14 15:21:11,418] INFO | darts.models.forecasting.torch_forecasting_model | Train dataset contains 2717 samples.\n",
      "[2022-06-14 15:21:11,418] INFO | darts.models.forecasting.torch_forecasting_model | Train dataset contains 2717 samples.\n",
      "2022-06-14 15:21:11 darts.models.forecasting.torch_forecasting_model INFO: Train dataset contains 2717 samples.\n",
      "[2022-06-14 15:21:11,447] INFO | darts.models.forecasting.torch_forecasting_model | Time series values are 64-bits; casting model to float64.\n",
      "[2022-06-14 15:21:11,447] INFO | darts.models.forecasting.torch_forecasting_model | Time series values are 64-bits; casting model to float64.\n",
      "2022-06-14 15:21:11 darts.models.forecasting.torch_forecasting_model INFO: Time series values are 64-bits; casting model to float64.\n",
      "2022-06-14 15:21:11 pytorch_lightning.utilities.rank_zero INFO: GPU available: False, used: False\n",
      "2022-06-14 15:21:11 pytorch_lightning.utilities.rank_zero INFO: TPU available: False, using: 0 TPU cores\n",
      "2022-06-14 15:21:11 pytorch_lightning.utilities.rank_zero INFO: IPU available: False, using: 0 IPUs\n",
      "2022-06-14 15:21:11 pytorch_lightning.utilities.rank_zero INFO: HPU available: False, using: 0 HPUs\n",
      "2022-06-14 15:21:11 pytorch_lightning.callbacks.model_summary INFO: \n",
      "  | Name      | Type       | Params\n",
      "-----------------------------------------\n",
      "0 | criterion | MSELoss    | 0     \n",
      "1 | stacks    | ModuleList | 8.5 M \n",
      "-----------------------------------------\n",
      "8.5 M     Trainable params\n",
      "3.2 K     Non-trainable params\n",
      "8.5 M     Total params\n",
      "67.633    Total estimated model params size (MB)\n"
     ]
    },
    {
     "data": {
      "application/vnd.jupyter.widget-view+json": {
       "model_id": "5231f937bed04ba5855348cf36691beb",
       "version_major": 2,
       "version_minor": 0
      },
      "text/plain": [
       "Training: 0it [00:00, ?it/s]"
      ]
     },
     "metadata": {},
     "output_type": "display_data"
    },
    {
     "data": {
      "application/vnd.jupyter.widget-view+json": {
       "model_id": "0a064012e10d44f6a5ecd4ea5a940cf1",
       "version_major": 2,
       "version_minor": 0
      },
      "text/plain": [
       "Predicting: 11it [00:00, ?it/s]"
      ]
     },
     "metadata": {},
     "output_type": "display_data"
    },
    {
     "name": "stderr",
     "output_type": "stream",
     "text": [
      "[2022-06-14 15:21:17,465] INFO | darts.models.forecasting.torch_forecasting_model | Train dataset contains 2714 samples.\n",
      "[2022-06-14 15:21:17,465] INFO | darts.models.forecasting.torch_forecasting_model | Train dataset contains 2714 samples.\n",
      "2022-06-14 15:21:17 darts.models.forecasting.torch_forecasting_model INFO: Train dataset contains 2714 samples.\n",
      "[2022-06-14 15:21:17,494] INFO | darts.models.forecasting.torch_forecasting_model | Time series values are 64-bits; casting model to float64.\n",
      "[2022-06-14 15:21:17,494] INFO | darts.models.forecasting.torch_forecasting_model | Time series values are 64-bits; casting model to float64.\n",
      "2022-06-14 15:21:17 darts.models.forecasting.torch_forecasting_model INFO: Time series values are 64-bits; casting model to float64.\n",
      "2022-06-14 15:21:17 pytorch_lightning.utilities.rank_zero INFO: GPU available: False, used: False\n",
      "2022-06-14 15:21:17 pytorch_lightning.utilities.rank_zero INFO: TPU available: False, using: 0 TPU cores\n",
      "2022-06-14 15:21:17 pytorch_lightning.utilities.rank_zero INFO: IPU available: False, using: 0 IPUs\n",
      "2022-06-14 15:21:17 pytorch_lightning.utilities.rank_zero INFO: HPU available: False, using: 0 HPUs\n",
      "2022-06-14 15:21:17 pytorch_lightning.callbacks.model_summary INFO: \n",
      "  | Name      | Type       | Params\n",
      "-----------------------------------------\n",
      "0 | criterion | MSELoss    | 0     \n",
      "1 | stacks    | ModuleList | 8.5 M \n",
      "-----------------------------------------\n",
      "8.5 M     Trainable params\n",
      "3.2 K     Non-trainable params\n",
      "8.5 M     Total params\n",
      "67.633    Total estimated model params size (MB)\n"
     ]
    },
    {
     "data": {
      "application/vnd.jupyter.widget-view+json": {
       "model_id": "093aead31162417c90c0f8f24b8f0854",
       "version_major": 2,
       "version_minor": 0
      },
      "text/plain": [
       "Training: 0it [00:00, ?it/s]"
      ]
     },
     "metadata": {},
     "output_type": "display_data"
    },
    {
     "data": {
      "application/vnd.jupyter.widget-view+json": {
       "model_id": "65edc204f6784409877ab54f7809f992",
       "version_major": 2,
       "version_minor": 0
      },
      "text/plain": [
       "Predicting: 11it [00:00, ?it/s]"
      ]
     },
     "metadata": {},
     "output_type": "display_data"
    },
    {
     "name": "stderr",
     "output_type": "stream",
     "text": [
      "[2022-06-14 15:21:23,526] INFO | darts.models.forecasting.torch_forecasting_model | Train dataset contains 2717 samples.\n",
      "[2022-06-14 15:21:23,526] INFO | darts.models.forecasting.torch_forecasting_model | Train dataset contains 2717 samples.\n",
      "2022-06-14 15:21:23 darts.models.forecasting.torch_forecasting_model INFO: Train dataset contains 2717 samples.\n",
      "[2022-06-14 15:21:23,561] INFO | darts.models.forecasting.torch_forecasting_model | Time series values are 64-bits; casting model to float64.\n",
      "[2022-06-14 15:21:23,561] INFO | darts.models.forecasting.torch_forecasting_model | Time series values are 64-bits; casting model to float64.\n",
      "2022-06-14 15:21:23 darts.models.forecasting.torch_forecasting_model INFO: Time series values are 64-bits; casting model to float64.\n",
      "2022-06-14 15:21:23 pytorch_lightning.utilities.rank_zero INFO: GPU available: False, used: False\n",
      "2022-06-14 15:21:23 pytorch_lightning.utilities.rank_zero INFO: TPU available: False, using: 0 TPU cores\n",
      "2022-06-14 15:21:23 pytorch_lightning.utilities.rank_zero INFO: IPU available: False, using: 0 IPUs\n",
      "2022-06-14 15:21:23 pytorch_lightning.utilities.rank_zero INFO: HPU available: False, using: 0 HPUs\n",
      "2022-06-14 15:21:23 pytorch_lightning.callbacks.model_summary INFO: \n",
      "  | Name      | Type       | Params\n",
      "-----------------------------------------\n",
      "0 | criterion | MSELoss    | 0     \n",
      "1 | stacks    | ModuleList | 8.5 M \n",
      "-----------------------------------------\n",
      "8.5 M     Trainable params\n",
      "3.2 K     Non-trainable params\n",
      "8.5 M     Total params\n",
      "67.633    Total estimated model params size (MB)\n"
     ]
    },
    {
     "data": {
      "application/vnd.jupyter.widget-view+json": {
       "model_id": "ad8992cdde10496db4da990daa4afa3d",
       "version_major": 2,
       "version_minor": 0
      },
      "text/plain": [
       "Training: 0it [00:00, ?it/s]"
      ]
     },
     "metadata": {},
     "output_type": "display_data"
    },
    {
     "data": {
      "application/vnd.jupyter.widget-view+json": {
       "model_id": "22315630c516498ca3c615928eb80809",
       "version_major": 2,
       "version_minor": 0
      },
      "text/plain": [
       "Predicting: 11it [00:00, ?it/s]"
      ]
     },
     "metadata": {},
     "output_type": "display_data"
    },
    {
     "name": "stderr",
     "output_type": "stream",
     "text": [
      "[2022-06-14 15:21:29,577] INFO | darts.models.forecasting.torch_forecasting_model | Train dataset contains 2700 samples.\n",
      "[2022-06-14 15:21:29,577] INFO | darts.models.forecasting.torch_forecasting_model | Train dataset contains 2700 samples.\n",
      "2022-06-14 15:21:29 darts.models.forecasting.torch_forecasting_model INFO: Train dataset contains 2700 samples.\n",
      "[2022-06-14 15:21:29,608] INFO | darts.models.forecasting.torch_forecasting_model | Time series values are 64-bits; casting model to float64.\n",
      "[2022-06-14 15:21:29,608] INFO | darts.models.forecasting.torch_forecasting_model | Time series values are 64-bits; casting model to float64.\n",
      "2022-06-14 15:21:29 darts.models.forecasting.torch_forecasting_model INFO: Time series values are 64-bits; casting model to float64.\n",
      "2022-06-14 15:21:29 pytorch_lightning.utilities.rank_zero INFO: GPU available: False, used: False\n",
      "2022-06-14 15:21:29 pytorch_lightning.utilities.rank_zero INFO: TPU available: False, using: 0 TPU cores\n",
      "2022-06-14 15:21:29 pytorch_lightning.utilities.rank_zero INFO: IPU available: False, using: 0 IPUs\n",
      "2022-06-14 15:21:29 pytorch_lightning.utilities.rank_zero INFO: HPU available: False, using: 0 HPUs\n",
      "2022-06-14 15:21:29 pytorch_lightning.callbacks.model_summary INFO: \n",
      "  | Name      | Type       | Params\n",
      "-----------------------------------------\n",
      "0 | criterion | MSELoss    | 0     \n",
      "1 | stacks    | ModuleList | 8.5 M \n",
      "-----------------------------------------\n",
      "8.5 M     Trainable params\n",
      "3.2 K     Non-trainable params\n",
      "8.5 M     Total params\n",
      "67.633    Total estimated model params size (MB)\n"
     ]
    },
    {
     "data": {
      "application/vnd.jupyter.widget-view+json": {
       "model_id": "3caae832e0034e91bb86977d23371f7c",
       "version_major": 2,
       "version_minor": 0
      },
      "text/plain": [
       "Training: 0it [00:00, ?it/s]"
      ]
     },
     "metadata": {},
     "output_type": "display_data"
    },
    {
     "data": {
      "application/vnd.jupyter.widget-view+json": {
       "model_id": "f089a783e54345efbb9750c2115575f4",
       "version_major": 2,
       "version_minor": 0
      },
      "text/plain": [
       "Predicting: 11it [00:00, ?it/s]"
      ]
     },
     "metadata": {},
     "output_type": "display_data"
    },
    {
     "name": "stderr",
     "output_type": "stream",
     "text": [
      "[2022-06-14 15:21:35,676] INFO | darts.models.forecasting.torch_forecasting_model | Train dataset contains 2700 samples.\n",
      "[2022-06-14 15:21:35,676] INFO | darts.models.forecasting.torch_forecasting_model | Train dataset contains 2700 samples.\n",
      "2022-06-14 15:21:35 darts.models.forecasting.torch_forecasting_model INFO: Train dataset contains 2700 samples.\n",
      "[2022-06-14 15:21:35,706] INFO | darts.models.forecasting.torch_forecasting_model | Time series values are 64-bits; casting model to float64.\n",
      "[2022-06-14 15:21:35,706] INFO | darts.models.forecasting.torch_forecasting_model | Time series values are 64-bits; casting model to float64.\n",
      "2022-06-14 15:21:35 darts.models.forecasting.torch_forecasting_model INFO: Time series values are 64-bits; casting model to float64.\n",
      "2022-06-14 15:21:35 pytorch_lightning.utilities.rank_zero INFO: GPU available: False, used: False\n",
      "2022-06-14 15:21:35 pytorch_lightning.utilities.rank_zero INFO: TPU available: False, using: 0 TPU cores\n",
      "2022-06-14 15:21:35 pytorch_lightning.utilities.rank_zero INFO: IPU available: False, using: 0 IPUs\n",
      "2022-06-14 15:21:35 pytorch_lightning.utilities.rank_zero INFO: HPU available: False, using: 0 HPUs\n",
      "2022-06-14 15:21:35 pytorch_lightning.callbacks.model_summary INFO: \n",
      "  | Name      | Type       | Params\n",
      "-----------------------------------------\n",
      "0 | criterion | MSELoss    | 0     \n",
      "1 | stacks    | ModuleList | 8.5 M \n",
      "-----------------------------------------\n",
      "8.5 M     Trainable params\n",
      "3.2 K     Non-trainable params\n",
      "8.5 M     Total params\n",
      "67.633    Total estimated model params size (MB)\n"
     ]
    },
    {
     "data": {
      "application/vnd.jupyter.widget-view+json": {
       "model_id": "2e5cff712f504c7180d32a66a32a0971",
       "version_major": 2,
       "version_minor": 0
      },
      "text/plain": [
       "Training: 0it [00:00, ?it/s]"
      ]
     },
     "metadata": {},
     "output_type": "display_data"
    },
    {
     "data": {
      "application/vnd.jupyter.widget-view+json": {
       "model_id": "4e3b23bedf7c470593c180c096e5b998",
       "version_major": 2,
       "version_minor": 0
      },
      "text/plain": [
       "Predicting: 11it [00:00, ?it/s]"
      ]
     },
     "metadata": {},
     "output_type": "display_data"
    },
    {
     "name": "stderr",
     "output_type": "stream",
     "text": [
      "[2022-06-14 15:21:41,674] INFO | darts.models.forecasting.torch_forecasting_model | Train dataset contains 2719 samples.\n",
      "[2022-06-14 15:21:41,674] INFO | darts.models.forecasting.torch_forecasting_model | Train dataset contains 2719 samples.\n",
      "2022-06-14 15:21:41 darts.models.forecasting.torch_forecasting_model INFO: Train dataset contains 2719 samples.\n",
      "[2022-06-14 15:21:41,703] INFO | darts.models.forecasting.torch_forecasting_model | Time series values are 64-bits; casting model to float64.\n",
      "[2022-06-14 15:21:41,703] INFO | darts.models.forecasting.torch_forecasting_model | Time series values are 64-bits; casting model to float64.\n",
      "2022-06-14 15:21:41 darts.models.forecasting.torch_forecasting_model INFO: Time series values are 64-bits; casting model to float64.\n",
      "2022-06-14 15:21:41 pytorch_lightning.utilities.rank_zero INFO: GPU available: False, used: False\n",
      "2022-06-14 15:21:41 pytorch_lightning.utilities.rank_zero INFO: TPU available: False, using: 0 TPU cores\n",
      "2022-06-14 15:21:41 pytorch_lightning.utilities.rank_zero INFO: IPU available: False, using: 0 IPUs\n",
      "2022-06-14 15:21:41 pytorch_lightning.utilities.rank_zero INFO: HPU available: False, using: 0 HPUs\n",
      "2022-06-14 15:21:41 pytorch_lightning.callbacks.model_summary INFO: \n",
      "  | Name      | Type       | Params\n",
      "-----------------------------------------\n",
      "0 | criterion | MSELoss    | 0     \n",
      "1 | stacks    | ModuleList | 8.5 M \n",
      "-----------------------------------------\n",
      "8.5 M     Trainable params\n",
      "3.2 K     Non-trainable params\n",
      "8.5 M     Total params\n",
      "67.633    Total estimated model params size (MB)\n"
     ]
    },
    {
     "data": {
      "application/vnd.jupyter.widget-view+json": {
       "model_id": "5448a5655df4431daac2a91227384d24",
       "version_major": 2,
       "version_minor": 0
      },
      "text/plain": [
       "Training: 0it [00:00, ?it/s]"
      ]
     },
     "metadata": {},
     "output_type": "display_data"
    },
    {
     "data": {
      "application/vnd.jupyter.widget-view+json": {
       "model_id": "b94c646649584a1385a4524bf1eb3729",
       "version_major": 2,
       "version_minor": 0
      },
      "text/plain": [
       "Predicting: 11it [00:00, ?it/s]"
      ]
     },
     "metadata": {},
     "output_type": "display_data"
    },
    {
     "name": "stderr",
     "output_type": "stream",
     "text": [
      "[2022-06-14 15:21:47,751] INFO | darts.models.forecasting.torch_forecasting_model | Train dataset contains 2675 samples.\n",
      "[2022-06-14 15:21:47,751] INFO | darts.models.forecasting.torch_forecasting_model | Train dataset contains 2675 samples.\n",
      "2022-06-14 15:21:47 darts.models.forecasting.torch_forecasting_model INFO: Train dataset contains 2675 samples.\n",
      "[2022-06-14 15:21:47,780] INFO | darts.models.forecasting.torch_forecasting_model | Time series values are 64-bits; casting model to float64.\n",
      "[2022-06-14 15:21:47,780] INFO | darts.models.forecasting.torch_forecasting_model | Time series values are 64-bits; casting model to float64.\n",
      "2022-06-14 15:21:47 darts.models.forecasting.torch_forecasting_model INFO: Time series values are 64-bits; casting model to float64.\n",
      "2022-06-14 15:21:47 pytorch_lightning.utilities.rank_zero INFO: GPU available: False, used: False\n",
      "2022-06-14 15:21:47 pytorch_lightning.utilities.rank_zero INFO: TPU available: False, using: 0 TPU cores\n",
      "2022-06-14 15:21:47 pytorch_lightning.utilities.rank_zero INFO: IPU available: False, using: 0 IPUs\n",
      "2022-06-14 15:21:47 pytorch_lightning.utilities.rank_zero INFO: HPU available: False, using: 0 HPUs\n",
      "2022-06-14 15:21:47 pytorch_lightning.callbacks.model_summary INFO: \n",
      "  | Name      | Type       | Params\n",
      "-----------------------------------------\n",
      "0 | criterion | MSELoss    | 0     \n",
      "1 | stacks    | ModuleList | 8.5 M \n",
      "-----------------------------------------\n",
      "8.5 M     Trainable params\n",
      "3.2 K     Non-trainable params\n",
      "8.5 M     Total params\n",
      "67.633    Total estimated model params size (MB)\n"
     ]
    },
    {
     "data": {
      "application/vnd.jupyter.widget-view+json": {
       "model_id": "6385c98b52f4424a82ee1f31680ed0b9",
       "version_major": 2,
       "version_minor": 0
      },
      "text/plain": [
       "Training: 0it [00:00, ?it/s]"
      ]
     },
     "metadata": {},
     "output_type": "display_data"
    },
    {
     "data": {
      "application/vnd.jupyter.widget-view+json": {
       "model_id": "c78d847ed2544907a2e69af1cdef9f09",
       "version_major": 2,
       "version_minor": 0
      },
      "text/plain": [
       "Predicting: 11it [00:00, ?it/s]"
      ]
     },
     "metadata": {},
     "output_type": "display_data"
    },
    {
     "name": "stderr",
     "output_type": "stream",
     "text": [
      "[2022-06-14 15:21:53,762] INFO | darts.models.forecasting.torch_forecasting_model | Train dataset contains 2675 samples.\n",
      "[2022-06-14 15:21:53,762] INFO | darts.models.forecasting.torch_forecasting_model | Train dataset contains 2675 samples.\n",
      "2022-06-14 15:21:53 darts.models.forecasting.torch_forecasting_model INFO: Train dataset contains 2675 samples.\n",
      "[2022-06-14 15:21:53,815] INFO | darts.models.forecasting.torch_forecasting_model | Time series values are 64-bits; casting model to float64.\n",
      "[2022-06-14 15:21:53,815] INFO | darts.models.forecasting.torch_forecasting_model | Time series values are 64-bits; casting model to float64.\n",
      "2022-06-14 15:21:53 darts.models.forecasting.torch_forecasting_model INFO: Time series values are 64-bits; casting model to float64.\n",
      "2022-06-14 15:21:53 pytorch_lightning.utilities.rank_zero INFO: GPU available: False, used: False\n",
      "2022-06-14 15:21:53 pytorch_lightning.utilities.rank_zero INFO: TPU available: False, using: 0 TPU cores\n",
      "2022-06-14 15:21:53 pytorch_lightning.utilities.rank_zero INFO: IPU available: False, using: 0 IPUs\n",
      "2022-06-14 15:21:53 pytorch_lightning.utilities.rank_zero INFO: HPU available: False, using: 0 HPUs\n",
      "2022-06-14 15:21:53 pytorch_lightning.callbacks.model_summary INFO: \n",
      "  | Name      | Type       | Params\n",
      "-----------------------------------------\n",
      "0 | criterion | MSELoss    | 0     \n",
      "1 | stacks    | ModuleList | 8.5 M \n",
      "-----------------------------------------\n",
      "8.5 M     Trainable params\n",
      "3.2 K     Non-trainable params\n",
      "8.5 M     Total params\n",
      "67.633    Total estimated model params size (MB)\n"
     ]
    },
    {
     "data": {
      "application/vnd.jupyter.widget-view+json": {
       "model_id": "a6be8929823d4ba38af0143acf4ca917",
       "version_major": 2,
       "version_minor": 0
      },
      "text/plain": [
       "Training: 0it [00:00, ?it/s]"
      ]
     },
     "metadata": {},
     "output_type": "display_data"
    },
    {
     "data": {
      "application/vnd.jupyter.widget-view+json": {
       "model_id": "aae95f6c71f04e5c8bee743b90596707",
       "version_major": 2,
       "version_minor": 0
      },
      "text/plain": [
       "Predicting: 11it [00:00, ?it/s]"
      ]
     },
     "metadata": {},
     "output_type": "display_data"
    },
    {
     "name": "stderr",
     "output_type": "stream",
     "text": [
      "[2022-06-14 15:21:59,781] INFO | darts.models.forecasting.torch_forecasting_model | Train dataset contains 2675 samples.\n",
      "[2022-06-14 15:21:59,781] INFO | darts.models.forecasting.torch_forecasting_model | Train dataset contains 2675 samples.\n",
      "2022-06-14 15:21:59 darts.models.forecasting.torch_forecasting_model INFO: Train dataset contains 2675 samples.\n",
      "[2022-06-14 15:21:59,810] INFO | darts.models.forecasting.torch_forecasting_model | Time series values are 64-bits; casting model to float64.\n",
      "[2022-06-14 15:21:59,810] INFO | darts.models.forecasting.torch_forecasting_model | Time series values are 64-bits; casting model to float64.\n",
      "2022-06-14 15:21:59 darts.models.forecasting.torch_forecasting_model INFO: Time series values are 64-bits; casting model to float64.\n",
      "2022-06-14 15:21:59 pytorch_lightning.utilities.rank_zero INFO: GPU available: False, used: False\n",
      "2022-06-14 15:21:59 pytorch_lightning.utilities.rank_zero INFO: TPU available: False, using: 0 TPU cores\n",
      "2022-06-14 15:21:59 pytorch_lightning.utilities.rank_zero INFO: IPU available: False, using: 0 IPUs\n",
      "2022-06-14 15:21:59 pytorch_lightning.utilities.rank_zero INFO: HPU available: False, using: 0 HPUs\n",
      "2022-06-14 15:21:59 pytorch_lightning.callbacks.model_summary INFO: \n",
      "  | Name      | Type       | Params\n",
      "-----------------------------------------\n",
      "0 | criterion | MSELoss    | 0     \n",
      "1 | stacks    | ModuleList | 8.5 M \n",
      "-----------------------------------------\n",
      "8.5 M     Trainable params\n",
      "3.2 K     Non-trainable params\n",
      "8.5 M     Total params\n",
      "67.633    Total estimated model params size (MB)\n"
     ]
    },
    {
     "data": {
      "application/vnd.jupyter.widget-view+json": {
       "model_id": "ef4445630bb744db9e34b09c70a9be3a",
       "version_major": 2,
       "version_minor": 0
      },
      "text/plain": [
       "Training: 0it [00:00, ?it/s]"
      ]
     },
     "metadata": {},
     "output_type": "display_data"
    },
    {
     "data": {
      "application/vnd.jupyter.widget-view+json": {
       "model_id": "71314eeb1ca7462d8fa766389ef08d0e",
       "version_major": 2,
       "version_minor": 0
      },
      "text/plain": [
       "Predicting: 11it [00:00, ?it/s]"
      ]
     },
     "metadata": {},
     "output_type": "display_data"
    },
    {
     "name": "stderr",
     "output_type": "stream",
     "text": [
      "[2022-06-14 15:22:05,764] INFO | darts.models.forecasting.torch_forecasting_model | Train dataset contains 2673 samples.\n",
      "[2022-06-14 15:22:05,764] INFO | darts.models.forecasting.torch_forecasting_model | Train dataset contains 2673 samples.\n",
      "2022-06-14 15:22:05 darts.models.forecasting.torch_forecasting_model INFO: Train dataset contains 2673 samples.\n",
      "[2022-06-14 15:22:05,793] INFO | darts.models.forecasting.torch_forecasting_model | Time series values are 64-bits; casting model to float64.\n",
      "[2022-06-14 15:22:05,793] INFO | darts.models.forecasting.torch_forecasting_model | Time series values are 64-bits; casting model to float64.\n",
      "2022-06-14 15:22:05 darts.models.forecasting.torch_forecasting_model INFO: Time series values are 64-bits; casting model to float64.\n",
      "2022-06-14 15:22:05 pytorch_lightning.utilities.rank_zero INFO: GPU available: False, used: False\n",
      "2022-06-14 15:22:05 pytorch_lightning.utilities.rank_zero INFO: TPU available: False, using: 0 TPU cores\n",
      "2022-06-14 15:22:05 pytorch_lightning.utilities.rank_zero INFO: IPU available: False, using: 0 IPUs\n",
      "2022-06-14 15:22:05 pytorch_lightning.utilities.rank_zero INFO: HPU available: False, using: 0 HPUs\n",
      "2022-06-14 15:22:05 pytorch_lightning.callbacks.model_summary INFO: \n",
      "  | Name      | Type       | Params\n",
      "-----------------------------------------\n",
      "0 | criterion | MSELoss    | 0     \n",
      "1 | stacks    | ModuleList | 8.5 M \n",
      "-----------------------------------------\n",
      "8.5 M     Trainable params\n",
      "3.2 K     Non-trainable params\n",
      "8.5 M     Total params\n",
      "67.633    Total estimated model params size (MB)\n"
     ]
    },
    {
     "data": {
      "application/vnd.jupyter.widget-view+json": {
       "model_id": "01e9b18668a54d9fa6993aa7dbb6c45d",
       "version_major": 2,
       "version_minor": 0
      },
      "text/plain": [
       "Training: 0it [00:00, ?it/s]"
      ]
     },
     "metadata": {},
     "output_type": "display_data"
    },
    {
     "data": {
      "application/vnd.jupyter.widget-view+json": {
       "model_id": "835a1ca8012547cebd2d6a5561fdb624",
       "version_major": 2,
       "version_minor": 0
      },
      "text/plain": [
       "Predicting: 11it [00:00, ?it/s]"
      ]
     },
     "metadata": {},
     "output_type": "display_data"
    },
    {
     "name": "stderr",
     "output_type": "stream",
     "text": [
      "[2022-06-14 15:22:11,736] INFO | darts.models.forecasting.torch_forecasting_model | Train dataset contains 2673 samples.\n",
      "[2022-06-14 15:22:11,736] INFO | darts.models.forecasting.torch_forecasting_model | Train dataset contains 2673 samples.\n",
      "2022-06-14 15:22:11 darts.models.forecasting.torch_forecasting_model INFO: Train dataset contains 2673 samples.\n",
      "[2022-06-14 15:22:11,765] INFO | darts.models.forecasting.torch_forecasting_model | Time series values are 64-bits; casting model to float64.\n",
      "[2022-06-14 15:22:11,765] INFO | darts.models.forecasting.torch_forecasting_model | Time series values are 64-bits; casting model to float64.\n",
      "2022-06-14 15:22:11 darts.models.forecasting.torch_forecasting_model INFO: Time series values are 64-bits; casting model to float64.\n",
      "2022-06-14 15:22:11 pytorch_lightning.utilities.rank_zero INFO: GPU available: False, used: False\n",
      "2022-06-14 15:22:11 pytorch_lightning.utilities.rank_zero INFO: TPU available: False, using: 0 TPU cores\n",
      "2022-06-14 15:22:11 pytorch_lightning.utilities.rank_zero INFO: IPU available: False, using: 0 IPUs\n",
      "2022-06-14 15:22:11 pytorch_lightning.utilities.rank_zero INFO: HPU available: False, using: 0 HPUs\n",
      "2022-06-14 15:22:11 pytorch_lightning.callbacks.model_summary INFO: \n",
      "  | Name      | Type       | Params\n",
      "-----------------------------------------\n",
      "0 | criterion | MSELoss    | 0     \n",
      "1 | stacks    | ModuleList | 8.5 M \n",
      "-----------------------------------------\n",
      "8.5 M     Trainable params\n",
      "3.2 K     Non-trainable params\n",
      "8.5 M     Total params\n",
      "67.633    Total estimated model params size (MB)\n"
     ]
    },
    {
     "data": {
      "application/vnd.jupyter.widget-view+json": {
       "model_id": "e89216b4ad804d3ea0f402bf27616be1",
       "version_major": 2,
       "version_minor": 0
      },
      "text/plain": [
       "Training: 0it [00:00, ?it/s]"
      ]
     },
     "metadata": {},
     "output_type": "display_data"
    },
    {
     "data": {
      "application/vnd.jupyter.widget-view+json": {
       "model_id": "7545ceb3a0614cd48482f2cefae75bbb",
       "version_major": 2,
       "version_minor": 0
      },
      "text/plain": [
       "Predicting: 11it [00:00, ?it/s]"
      ]
     },
     "metadata": {},
     "output_type": "display_data"
    },
    {
     "name": "stderr",
     "output_type": "stream",
     "text": [
      "[2022-06-14 15:22:17,809] INFO | darts.models.forecasting.torch_forecasting_model | Train dataset contains 2440 samples.\n",
      "[2022-06-14 15:22:17,809] INFO | darts.models.forecasting.torch_forecasting_model | Train dataset contains 2440 samples.\n",
      "2022-06-14 15:22:17 darts.models.forecasting.torch_forecasting_model INFO: Train dataset contains 2440 samples.\n",
      "[2022-06-14 15:22:17,837] INFO | darts.models.forecasting.torch_forecasting_model | Time series values are 64-bits; casting model to float64.\n",
      "[2022-06-14 15:22:17,837] INFO | darts.models.forecasting.torch_forecasting_model | Time series values are 64-bits; casting model to float64.\n",
      "2022-06-14 15:22:17 darts.models.forecasting.torch_forecasting_model INFO: Time series values are 64-bits; casting model to float64.\n",
      "2022-06-14 15:22:17 pytorch_lightning.utilities.rank_zero INFO: GPU available: False, used: False\n",
      "2022-06-14 15:22:17 pytorch_lightning.utilities.rank_zero INFO: TPU available: False, using: 0 TPU cores\n",
      "2022-06-14 15:22:17 pytorch_lightning.utilities.rank_zero INFO: IPU available: False, using: 0 IPUs\n",
      "2022-06-14 15:22:17 pytorch_lightning.utilities.rank_zero INFO: HPU available: False, using: 0 HPUs\n",
      "2022-06-14 15:22:17 pytorch_lightning.callbacks.model_summary INFO: \n",
      "  | Name      | Type       | Params\n",
      "-----------------------------------------\n",
      "0 | criterion | MSELoss    | 0     \n",
      "1 | stacks    | ModuleList | 8.5 M \n",
      "-----------------------------------------\n",
      "8.5 M     Trainable params\n",
      "3.2 K     Non-trainable params\n",
      "8.5 M     Total params\n",
      "67.633    Total estimated model params size (MB)\n"
     ]
    },
    {
     "data": {
      "application/vnd.jupyter.widget-view+json": {
       "model_id": "0cb7001ecc7a45489417448b83d63492",
       "version_major": 2,
       "version_minor": 0
      },
      "text/plain": [
       "Training: 0it [00:00, ?it/s]"
      ]
     },
     "metadata": {},
     "output_type": "display_data"
    },
    {
     "data": {
      "application/vnd.jupyter.widget-view+json": {
       "model_id": "5c2880350927430a948e5204e6c69ede",
       "version_major": 2,
       "version_minor": 0
      },
      "text/plain": [
       "Predicting: 10it [00:00, ?it/s]"
      ]
     },
     "metadata": {},
     "output_type": "display_data"
    },
    {
     "name": "stderr",
     "output_type": "stream",
     "text": [
      "[2022-06-14 15:22:23,403] INFO | darts.models.forecasting.torch_forecasting_model | Train dataset contains 2690 samples.\n",
      "[2022-06-14 15:22:23,403] INFO | darts.models.forecasting.torch_forecasting_model | Train dataset contains 2690 samples.\n",
      "2022-06-14 15:22:23 darts.models.forecasting.torch_forecasting_model INFO: Train dataset contains 2690 samples.\n",
      "[2022-06-14 15:22:23,432] INFO | darts.models.forecasting.torch_forecasting_model | Time series values are 64-bits; casting model to float64.\n",
      "[2022-06-14 15:22:23,432] INFO | darts.models.forecasting.torch_forecasting_model | Time series values are 64-bits; casting model to float64.\n",
      "2022-06-14 15:22:23 darts.models.forecasting.torch_forecasting_model INFO: Time series values are 64-bits; casting model to float64.\n",
      "2022-06-14 15:22:23 pytorch_lightning.utilities.rank_zero INFO: GPU available: False, used: False\n",
      "2022-06-14 15:22:23 pytorch_lightning.utilities.rank_zero INFO: TPU available: False, using: 0 TPU cores\n",
      "2022-06-14 15:22:23 pytorch_lightning.utilities.rank_zero INFO: IPU available: False, using: 0 IPUs\n",
      "2022-06-14 15:22:23 pytorch_lightning.utilities.rank_zero INFO: HPU available: False, using: 0 HPUs\n",
      "2022-06-14 15:22:23 pytorch_lightning.callbacks.model_summary INFO: \n",
      "  | Name      | Type       | Params\n",
      "-----------------------------------------\n",
      "0 | criterion | MSELoss    | 0     \n",
      "1 | stacks    | ModuleList | 8.5 M \n",
      "-----------------------------------------\n",
      "8.5 M     Trainable params\n",
      "3.2 K     Non-trainable params\n",
      "8.5 M     Total params\n",
      "67.633    Total estimated model params size (MB)\n"
     ]
    },
    {
     "data": {
      "application/vnd.jupyter.widget-view+json": {
       "model_id": "42bcbcb0a4574df4a29b35b32c68f264",
       "version_major": 2,
       "version_minor": 0
      },
      "text/plain": [
       "Training: 0it [00:00, ?it/s]"
      ]
     },
     "metadata": {},
     "output_type": "display_data"
    },
    {
     "data": {
      "application/vnd.jupyter.widget-view+json": {
       "model_id": "420a5ca6953b49a693435c9680646545",
       "version_major": 2,
       "version_minor": 0
      },
      "text/plain": [
       "Predicting: 11it [00:00, ?it/s]"
      ]
     },
     "metadata": {},
     "output_type": "display_data"
    },
    {
     "name": "stderr",
     "output_type": "stream",
     "text": [
      "[2022-06-14 15:22:29,501] INFO | darts.models.forecasting.torch_forecasting_model | Train dataset contains 2690 samples.\n",
      "[2022-06-14 15:22:29,501] INFO | darts.models.forecasting.torch_forecasting_model | Train dataset contains 2690 samples.\n",
      "2022-06-14 15:22:29 darts.models.forecasting.torch_forecasting_model INFO: Train dataset contains 2690 samples.\n",
      "[2022-06-14 15:22:29,551] INFO | darts.models.forecasting.torch_forecasting_model | Time series values are 64-bits; casting model to float64.\n",
      "[2022-06-14 15:22:29,551] INFO | darts.models.forecasting.torch_forecasting_model | Time series values are 64-bits; casting model to float64.\n",
      "2022-06-14 15:22:29 darts.models.forecasting.torch_forecasting_model INFO: Time series values are 64-bits; casting model to float64.\n",
      "2022-06-14 15:22:29 pytorch_lightning.utilities.rank_zero INFO: GPU available: False, used: False\n",
      "2022-06-14 15:22:29 pytorch_lightning.utilities.rank_zero INFO: TPU available: False, using: 0 TPU cores\n",
      "2022-06-14 15:22:29 pytorch_lightning.utilities.rank_zero INFO: IPU available: False, using: 0 IPUs\n",
      "2022-06-14 15:22:29 pytorch_lightning.utilities.rank_zero INFO: HPU available: False, using: 0 HPUs\n",
      "2022-06-14 15:22:29 pytorch_lightning.callbacks.model_summary INFO: \n",
      "  | Name      | Type       | Params\n",
      "-----------------------------------------\n",
      "0 | criterion | MSELoss    | 0     \n",
      "1 | stacks    | ModuleList | 8.5 M \n",
      "-----------------------------------------\n",
      "8.5 M     Trainable params\n",
      "3.2 K     Non-trainable params\n",
      "8.5 M     Total params\n",
      "67.633    Total estimated model params size (MB)\n"
     ]
    },
    {
     "data": {
      "application/vnd.jupyter.widget-view+json": {
       "model_id": "1f0fd245e7a24922ab6da64f30491d42",
       "version_major": 2,
       "version_minor": 0
      },
      "text/plain": [
       "Training: 0it [00:00, ?it/s]"
      ]
     },
     "metadata": {},
     "output_type": "display_data"
    },
    {
     "data": {
      "application/vnd.jupyter.widget-view+json": {
       "model_id": "c226101dd59d42908f867c2cb4604702",
       "version_major": 2,
       "version_minor": 0
      },
      "text/plain": [
       "Predicting: 11it [00:00, ?it/s]"
      ]
     },
     "metadata": {},
     "output_type": "display_data"
    },
    {
     "name": "stderr",
     "output_type": "stream",
     "text": [
      "[2022-06-14 15:22:35,626] INFO | darts.models.forecasting.torch_forecasting_model | Train dataset contains 2690 samples.\n",
      "[2022-06-14 15:22:35,626] INFO | darts.models.forecasting.torch_forecasting_model | Train dataset contains 2690 samples.\n",
      "2022-06-14 15:22:35 darts.models.forecasting.torch_forecasting_model INFO: Train dataset contains 2690 samples.\n",
      "[2022-06-14 15:22:35,675] INFO | darts.models.forecasting.torch_forecasting_model | Time series values are 64-bits; casting model to float64.\n",
      "[2022-06-14 15:22:35,675] INFO | darts.models.forecasting.torch_forecasting_model | Time series values are 64-bits; casting model to float64.\n",
      "2022-06-14 15:22:35 darts.models.forecasting.torch_forecasting_model INFO: Time series values are 64-bits; casting model to float64.\n",
      "2022-06-14 15:22:35 pytorch_lightning.utilities.rank_zero INFO: GPU available: False, used: False\n",
      "2022-06-14 15:22:35 pytorch_lightning.utilities.rank_zero INFO: TPU available: False, using: 0 TPU cores\n",
      "2022-06-14 15:22:35 pytorch_lightning.utilities.rank_zero INFO: IPU available: False, using: 0 IPUs\n",
      "2022-06-14 15:22:35 pytorch_lightning.utilities.rank_zero INFO: HPU available: False, using: 0 HPUs\n",
      "2022-06-14 15:22:35 pytorch_lightning.callbacks.model_summary INFO: \n",
      "  | Name      | Type       | Params\n",
      "-----------------------------------------\n",
      "0 | criterion | MSELoss    | 0     \n",
      "1 | stacks    | ModuleList | 8.5 M \n",
      "-----------------------------------------\n",
      "8.5 M     Trainable params\n",
      "3.2 K     Non-trainable params\n",
      "8.5 M     Total params\n",
      "67.633    Total estimated model params size (MB)\n"
     ]
    },
    {
     "data": {
      "application/vnd.jupyter.widget-view+json": {
       "model_id": "9b25dbf52c30452db07339b40e16b750",
       "version_major": 2,
       "version_minor": 0
      },
      "text/plain": [
       "Training: 0it [00:00, ?it/s]"
      ]
     },
     "metadata": {},
     "output_type": "display_data"
    },
    {
     "data": {
      "application/vnd.jupyter.widget-view+json": {
       "model_id": "19fb98c87f23433f8e92394a4dcbcf4b",
       "version_major": 2,
       "version_minor": 0
      },
      "text/plain": [
       "Predicting: 11it [00:00, ?it/s]"
      ]
     },
     "metadata": {},
     "output_type": "display_data"
    },
    {
     "name": "stderr",
     "output_type": "stream",
     "text": [
      "[2022-06-14 15:22:41,666] INFO | darts.models.forecasting.torch_forecasting_model | Train dataset contains 2690 samples.\n",
      "[2022-06-14 15:22:41,666] INFO | darts.models.forecasting.torch_forecasting_model | Train dataset contains 2690 samples.\n",
      "2022-06-14 15:22:41 darts.models.forecasting.torch_forecasting_model INFO: Train dataset contains 2690 samples.\n",
      "[2022-06-14 15:22:41,695] INFO | darts.models.forecasting.torch_forecasting_model | Time series values are 64-bits; casting model to float64.\n",
      "[2022-06-14 15:22:41,695] INFO | darts.models.forecasting.torch_forecasting_model | Time series values are 64-bits; casting model to float64.\n",
      "2022-06-14 15:22:41 darts.models.forecasting.torch_forecasting_model INFO: Time series values are 64-bits; casting model to float64.\n",
      "2022-06-14 15:22:41 pytorch_lightning.utilities.rank_zero INFO: GPU available: False, used: False\n",
      "2022-06-14 15:22:41 pytorch_lightning.utilities.rank_zero INFO: TPU available: False, using: 0 TPU cores\n",
      "2022-06-14 15:22:41 pytorch_lightning.utilities.rank_zero INFO: IPU available: False, using: 0 IPUs\n",
      "2022-06-14 15:22:41 pytorch_lightning.utilities.rank_zero INFO: HPU available: False, using: 0 HPUs\n",
      "2022-06-14 15:22:41 pytorch_lightning.callbacks.model_summary INFO: \n",
      "  | Name      | Type       | Params\n",
      "-----------------------------------------\n",
      "0 | criterion | MSELoss    | 0     \n",
      "1 | stacks    | ModuleList | 8.5 M \n",
      "-----------------------------------------\n",
      "8.5 M     Trainable params\n",
      "3.2 K     Non-trainable params\n",
      "8.5 M     Total params\n",
      "67.633    Total estimated model params size (MB)\n"
     ]
    },
    {
     "data": {
      "application/vnd.jupyter.widget-view+json": {
       "model_id": "b365279ead33487f89e82fcb2ed41490",
       "version_major": 2,
       "version_minor": 0
      },
      "text/plain": [
       "Training: 0it [00:00, ?it/s]"
      ]
     },
     "metadata": {},
     "output_type": "display_data"
    },
    {
     "data": {
      "application/vnd.jupyter.widget-view+json": {
       "model_id": "eaa81f31057f4a019ef3f31093c4f920",
       "version_major": 2,
       "version_minor": 0
      },
      "text/plain": [
       "Predicting: 11it [00:00, ?it/s]"
      ]
     },
     "metadata": {},
     "output_type": "display_data"
    },
    {
     "name": "stderr",
     "output_type": "stream",
     "text": [
      "[2022-06-14 15:22:47,800] INFO | darts.models.forecasting.torch_forecasting_model | Train dataset contains 2690 samples.\n",
      "[2022-06-14 15:22:47,800] INFO | darts.models.forecasting.torch_forecasting_model | Train dataset contains 2690 samples.\n",
      "2022-06-14 15:22:47 darts.models.forecasting.torch_forecasting_model INFO: Train dataset contains 2690 samples.\n",
      "[2022-06-14 15:22:47,830] INFO | darts.models.forecasting.torch_forecasting_model | Time series values are 64-bits; casting model to float64.\n",
      "[2022-06-14 15:22:47,830] INFO | darts.models.forecasting.torch_forecasting_model | Time series values are 64-bits; casting model to float64.\n",
      "2022-06-14 15:22:47 darts.models.forecasting.torch_forecasting_model INFO: Time series values are 64-bits; casting model to float64.\n",
      "2022-06-14 15:22:47 pytorch_lightning.utilities.rank_zero INFO: GPU available: False, used: False\n",
      "2022-06-14 15:22:47 pytorch_lightning.utilities.rank_zero INFO: TPU available: False, using: 0 TPU cores\n",
      "2022-06-14 15:22:47 pytorch_lightning.utilities.rank_zero INFO: IPU available: False, using: 0 IPUs\n",
      "2022-06-14 15:22:47 pytorch_lightning.utilities.rank_zero INFO: HPU available: False, using: 0 HPUs\n",
      "2022-06-14 15:22:47 pytorch_lightning.callbacks.model_summary INFO: \n",
      "  | Name      | Type       | Params\n",
      "-----------------------------------------\n",
      "0 | criterion | MSELoss    | 0     \n",
      "1 | stacks    | ModuleList | 8.5 M \n",
      "-----------------------------------------\n",
      "8.5 M     Trainable params\n",
      "3.2 K     Non-trainable params\n",
      "8.5 M     Total params\n",
      "67.633    Total estimated model params size (MB)\n"
     ]
    },
    {
     "data": {
      "application/vnd.jupyter.widget-view+json": {
       "model_id": "cd1169cfee464131bad9a191fbc6b0f0",
       "version_major": 2,
       "version_minor": 0
      },
      "text/plain": [
       "Training: 0it [00:00, ?it/s]"
      ]
     },
     "metadata": {},
     "output_type": "display_data"
    },
    {
     "data": {
      "application/vnd.jupyter.widget-view+json": {
       "model_id": "bf36b409391a42f58f3f5b82aec96503",
       "version_major": 2,
       "version_minor": 0
      },
      "text/plain": [
       "Predicting: 11it [00:00, ?it/s]"
      ]
     },
     "metadata": {},
     "output_type": "display_data"
    },
    {
     "name": "stderr",
     "output_type": "stream",
     "text": [
      "[2022-06-14 15:22:53,696] INFO | darts.models.forecasting.torch_forecasting_model | Train dataset contains 2486 samples.\n",
      "[2022-06-14 15:22:53,696] INFO | darts.models.forecasting.torch_forecasting_model | Train dataset contains 2486 samples.\n",
      "2022-06-14 15:22:53 darts.models.forecasting.torch_forecasting_model INFO: Train dataset contains 2486 samples.\n",
      "[2022-06-14 15:22:53,725] INFO | darts.models.forecasting.torch_forecasting_model | Time series values are 64-bits; casting model to float64.\n",
      "[2022-06-14 15:22:53,725] INFO | darts.models.forecasting.torch_forecasting_model | Time series values are 64-bits; casting model to float64.\n",
      "2022-06-14 15:22:53 darts.models.forecasting.torch_forecasting_model INFO: Time series values are 64-bits; casting model to float64.\n",
      "2022-06-14 15:22:53 pytorch_lightning.utilities.rank_zero INFO: GPU available: False, used: False\n",
      "2022-06-14 15:22:53 pytorch_lightning.utilities.rank_zero INFO: TPU available: False, using: 0 TPU cores\n",
      "2022-06-14 15:22:53 pytorch_lightning.utilities.rank_zero INFO: IPU available: False, using: 0 IPUs\n",
      "2022-06-14 15:22:53 pytorch_lightning.utilities.rank_zero INFO: HPU available: False, using: 0 HPUs\n",
      "2022-06-14 15:22:53 pytorch_lightning.callbacks.model_summary INFO: \n",
      "  | Name      | Type       | Params\n",
      "-----------------------------------------\n",
      "0 | criterion | MSELoss    | 0     \n",
      "1 | stacks    | ModuleList | 8.5 M \n",
      "-----------------------------------------\n",
      "8.5 M     Trainable params\n",
      "3.2 K     Non-trainable params\n",
      "8.5 M     Total params\n",
      "67.633    Total estimated model params size (MB)\n"
     ]
    },
    {
     "data": {
      "application/vnd.jupyter.widget-view+json": {
       "model_id": "19f024c484354f3e960cbf1405627287",
       "version_major": 2,
       "version_minor": 0
      },
      "text/plain": [
       "Training: 0it [00:00, ?it/s]"
      ]
     },
     "metadata": {},
     "output_type": "display_data"
    },
    {
     "data": {
      "application/vnd.jupyter.widget-view+json": {
       "model_id": "935d1daab32748ee88071ce3cb586cb7",
       "version_major": 2,
       "version_minor": 0
      },
      "text/plain": [
       "Predicting: 10it [00:00, ?it/s]"
      ]
     },
     "metadata": {},
     "output_type": "display_data"
    },
    {
     "name": "stderr",
     "output_type": "stream",
     "text": [
      "[2022-06-14 15:22:59,372] INFO | darts.models.forecasting.torch_forecasting_model | Train dataset contains 2671 samples.\n",
      "[2022-06-14 15:22:59,372] INFO | darts.models.forecasting.torch_forecasting_model | Train dataset contains 2671 samples.\n",
      "2022-06-14 15:22:59 darts.models.forecasting.torch_forecasting_model INFO: Train dataset contains 2671 samples.\n",
      "[2022-06-14 15:22:59,401] INFO | darts.models.forecasting.torch_forecasting_model | Time series values are 64-bits; casting model to float64.\n",
      "[2022-06-14 15:22:59,401] INFO | darts.models.forecasting.torch_forecasting_model | Time series values are 64-bits; casting model to float64.\n",
      "2022-06-14 15:22:59 darts.models.forecasting.torch_forecasting_model INFO: Time series values are 64-bits; casting model to float64.\n",
      "2022-06-14 15:22:59 pytorch_lightning.utilities.rank_zero INFO: GPU available: False, used: False\n",
      "2022-06-14 15:22:59 pytorch_lightning.utilities.rank_zero INFO: TPU available: False, using: 0 TPU cores\n",
      "2022-06-14 15:22:59 pytorch_lightning.utilities.rank_zero INFO: IPU available: False, using: 0 IPUs\n",
      "2022-06-14 15:22:59 pytorch_lightning.utilities.rank_zero INFO: HPU available: False, using: 0 HPUs\n",
      "2022-06-14 15:22:59 pytorch_lightning.callbacks.model_summary INFO: \n",
      "  | Name      | Type       | Params\n",
      "-----------------------------------------\n",
      "0 | criterion | MSELoss    | 0     \n",
      "1 | stacks    | ModuleList | 8.5 M \n",
      "-----------------------------------------\n",
      "8.5 M     Trainable params\n",
      "3.2 K     Non-trainable params\n",
      "8.5 M     Total params\n",
      "67.633    Total estimated model params size (MB)\n"
     ]
    },
    {
     "data": {
      "application/vnd.jupyter.widget-view+json": {
       "model_id": "ee88bea136824d3292a542b3dc8d4c89",
       "version_major": 2,
       "version_minor": 0
      },
      "text/plain": [
       "Training: 0it [00:00, ?it/s]"
      ]
     },
     "metadata": {},
     "output_type": "display_data"
    },
    {
     "data": {
      "application/vnd.jupyter.widget-view+json": {
       "model_id": "24a47470ff284690aaf6e118cbfc57fd",
       "version_major": 2,
       "version_minor": 0
      },
      "text/plain": [
       "Predicting: 11it [00:00, ?it/s]"
      ]
     },
     "metadata": {},
     "output_type": "display_data"
    },
    {
     "name": "stderr",
     "output_type": "stream",
     "text": [
      "[2022-06-14 15:23:05,435] INFO | darts.models.forecasting.torch_forecasting_model | Train dataset contains 2671 samples.\n",
      "[2022-06-14 15:23:05,435] INFO | darts.models.forecasting.torch_forecasting_model | Train dataset contains 2671 samples.\n",
      "2022-06-14 15:23:05 darts.models.forecasting.torch_forecasting_model INFO: Train dataset contains 2671 samples.\n",
      "[2022-06-14 15:23:05,465] INFO | darts.models.forecasting.torch_forecasting_model | Time series values are 64-bits; casting model to float64.\n",
      "[2022-06-14 15:23:05,465] INFO | darts.models.forecasting.torch_forecasting_model | Time series values are 64-bits; casting model to float64.\n",
      "2022-06-14 15:23:05 darts.models.forecasting.torch_forecasting_model INFO: Time series values are 64-bits; casting model to float64.\n",
      "2022-06-14 15:23:05 pytorch_lightning.utilities.rank_zero INFO: GPU available: False, used: False\n",
      "2022-06-14 15:23:05 pytorch_lightning.utilities.rank_zero INFO: TPU available: False, using: 0 TPU cores\n",
      "2022-06-14 15:23:05 pytorch_lightning.utilities.rank_zero INFO: IPU available: False, using: 0 IPUs\n",
      "2022-06-14 15:23:05 pytorch_lightning.utilities.rank_zero INFO: HPU available: False, using: 0 HPUs\n",
      "2022-06-14 15:23:05 pytorch_lightning.callbacks.model_summary INFO: \n",
      "  | Name      | Type       | Params\n",
      "-----------------------------------------\n",
      "0 | criterion | MSELoss    | 0     \n",
      "1 | stacks    | ModuleList | 8.5 M \n",
      "-----------------------------------------\n",
      "8.5 M     Trainable params\n",
      "3.2 K     Non-trainable params\n",
      "8.5 M     Total params\n",
      "67.633    Total estimated model params size (MB)\n"
     ]
    },
    {
     "data": {
      "application/vnd.jupyter.widget-view+json": {
       "model_id": "7fc133c8e1dc41bd9fed4cfbb72dc67b",
       "version_major": 2,
       "version_minor": 0
      },
      "text/plain": [
       "Training: 0it [00:00, ?it/s]"
      ]
     },
     "metadata": {},
     "output_type": "display_data"
    },
    {
     "data": {
      "application/vnd.jupyter.widget-view+json": {
       "model_id": "128b312521474f4893913783c28b7332",
       "version_major": 2,
       "version_minor": 0
      },
      "text/plain": [
       "Predicting: 11it [00:00, ?it/s]"
      ]
     },
     "metadata": {},
     "output_type": "display_data"
    },
    {
     "name": "stderr",
     "output_type": "stream",
     "text": [
      "[2022-06-14 15:23:11,458] INFO | darts.models.forecasting.torch_forecasting_model | Train dataset contains 2671 samples.\n",
      "[2022-06-14 15:23:11,458] INFO | darts.models.forecasting.torch_forecasting_model | Train dataset contains 2671 samples.\n",
      "2022-06-14 15:23:11 darts.models.forecasting.torch_forecasting_model INFO: Train dataset contains 2671 samples.\n",
      "[2022-06-14 15:23:11,488] INFO | darts.models.forecasting.torch_forecasting_model | Time series values are 64-bits; casting model to float64.\n",
      "[2022-06-14 15:23:11,488] INFO | darts.models.forecasting.torch_forecasting_model | Time series values are 64-bits; casting model to float64.\n",
      "2022-06-14 15:23:11 darts.models.forecasting.torch_forecasting_model INFO: Time series values are 64-bits; casting model to float64.\n",
      "2022-06-14 15:23:11 pytorch_lightning.utilities.rank_zero INFO: GPU available: False, used: False\n",
      "2022-06-14 15:23:11 pytorch_lightning.utilities.rank_zero INFO: TPU available: False, using: 0 TPU cores\n",
      "2022-06-14 15:23:11 pytorch_lightning.utilities.rank_zero INFO: IPU available: False, using: 0 IPUs\n",
      "2022-06-14 15:23:11 pytorch_lightning.utilities.rank_zero INFO: HPU available: False, using: 0 HPUs\n",
      "2022-06-14 15:23:11 pytorch_lightning.callbacks.model_summary INFO: \n",
      "  | Name      | Type       | Params\n",
      "-----------------------------------------\n",
      "0 | criterion | MSELoss    | 0     \n",
      "1 | stacks    | ModuleList | 8.5 M \n",
      "-----------------------------------------\n",
      "8.5 M     Trainable params\n",
      "3.2 K     Non-trainable params\n",
      "8.5 M     Total params\n",
      "67.633    Total estimated model params size (MB)\n"
     ]
    },
    {
     "data": {
      "application/vnd.jupyter.widget-view+json": {
       "model_id": "69f7f67264484730b8ba9f106413f9f2",
       "version_major": 2,
       "version_minor": 0
      },
      "text/plain": [
       "Training: 0it [00:00, ?it/s]"
      ]
     },
     "metadata": {},
     "output_type": "display_data"
    },
    {
     "data": {
      "application/vnd.jupyter.widget-view+json": {
       "model_id": "9abc33c2ee574430bf7b0612a5e1fa57",
       "version_major": 2,
       "version_minor": 0
      },
      "text/plain": [
       "Predicting: 11it [00:00, ?it/s]"
      ]
     },
     "metadata": {},
     "output_type": "display_data"
    },
    {
     "name": "stderr",
     "output_type": "stream",
     "text": [
      "[2022-06-14 15:23:17,434] INFO | darts.models.forecasting.torch_forecasting_model | Train dataset contains 2671 samples.\n",
      "[2022-06-14 15:23:17,434] INFO | darts.models.forecasting.torch_forecasting_model | Train dataset contains 2671 samples.\n",
      "2022-06-14 15:23:17 darts.models.forecasting.torch_forecasting_model INFO: Train dataset contains 2671 samples.\n",
      "[2022-06-14 15:23:17,480] INFO | darts.models.forecasting.torch_forecasting_model | Time series values are 64-bits; casting model to float64.\n",
      "[2022-06-14 15:23:17,480] INFO | darts.models.forecasting.torch_forecasting_model | Time series values are 64-bits; casting model to float64.\n",
      "2022-06-14 15:23:17 darts.models.forecasting.torch_forecasting_model INFO: Time series values are 64-bits; casting model to float64.\n",
      "2022-06-14 15:23:17 pytorch_lightning.utilities.rank_zero INFO: GPU available: False, used: False\n",
      "2022-06-14 15:23:17 pytorch_lightning.utilities.rank_zero INFO: TPU available: False, using: 0 TPU cores\n",
      "2022-06-14 15:23:17 pytorch_lightning.utilities.rank_zero INFO: IPU available: False, using: 0 IPUs\n",
      "2022-06-14 15:23:17 pytorch_lightning.utilities.rank_zero INFO: HPU available: False, using: 0 HPUs\n",
      "2022-06-14 15:23:17 pytorch_lightning.callbacks.model_summary INFO: \n",
      "  | Name      | Type       | Params\n",
      "-----------------------------------------\n",
      "0 | criterion | MSELoss    | 0     \n",
      "1 | stacks    | ModuleList | 8.5 M \n",
      "-----------------------------------------\n",
      "8.5 M     Trainable params\n",
      "3.2 K     Non-trainable params\n",
      "8.5 M     Total params\n",
      "67.633    Total estimated model params size (MB)\n"
     ]
    },
    {
     "data": {
      "application/vnd.jupyter.widget-view+json": {
       "model_id": "2591e116c00b41969c61dee87badee32",
       "version_major": 2,
       "version_minor": 0
      },
      "text/plain": [
       "Training: 0it [00:00, ?it/s]"
      ]
     },
     "metadata": {},
     "output_type": "display_data"
    },
    {
     "data": {
      "application/vnd.jupyter.widget-view+json": {
       "model_id": "5329ea831cb9422181adde737226f391",
       "version_major": 2,
       "version_minor": 0
      },
      "text/plain": [
       "Predicting: 11it [00:00, ?it/s]"
      ]
     },
     "metadata": {},
     "output_type": "display_data"
    },
    {
     "name": "stderr",
     "output_type": "stream",
     "text": [
      "[2022-06-14 15:23:23,418] INFO | darts.models.forecasting.torch_forecasting_model | Train dataset contains 2671 samples.\n",
      "[2022-06-14 15:23:23,418] INFO | darts.models.forecasting.torch_forecasting_model | Train dataset contains 2671 samples.\n",
      "2022-06-14 15:23:23 darts.models.forecasting.torch_forecasting_model INFO: Train dataset contains 2671 samples.\n",
      "[2022-06-14 15:23:23,449] INFO | darts.models.forecasting.torch_forecasting_model | Time series values are 64-bits; casting model to float64.\n",
      "[2022-06-14 15:23:23,449] INFO | darts.models.forecasting.torch_forecasting_model | Time series values are 64-bits; casting model to float64.\n",
      "2022-06-14 15:23:23 darts.models.forecasting.torch_forecasting_model INFO: Time series values are 64-bits; casting model to float64.\n",
      "2022-06-14 15:23:23 pytorch_lightning.utilities.rank_zero INFO: GPU available: False, used: False\n",
      "2022-06-14 15:23:23 pytorch_lightning.utilities.rank_zero INFO: TPU available: False, using: 0 TPU cores\n",
      "2022-06-14 15:23:23 pytorch_lightning.utilities.rank_zero INFO: IPU available: False, using: 0 IPUs\n",
      "2022-06-14 15:23:23 pytorch_lightning.utilities.rank_zero INFO: HPU available: False, using: 0 HPUs\n",
      "2022-06-14 15:23:23 pytorch_lightning.callbacks.model_summary INFO: \n",
      "  | Name      | Type       | Params\n",
      "-----------------------------------------\n",
      "0 | criterion | MSELoss    | 0     \n",
      "1 | stacks    | ModuleList | 8.5 M \n",
      "-----------------------------------------\n",
      "8.5 M     Trainable params\n",
      "3.2 K     Non-trainable params\n",
      "8.5 M     Total params\n",
      "67.633    Total estimated model params size (MB)\n"
     ]
    },
    {
     "data": {
      "application/vnd.jupyter.widget-view+json": {
       "model_id": "8f49f0e5ee3d4f578d3c7dc08ad67488",
       "version_major": 2,
       "version_minor": 0
      },
      "text/plain": [
       "Training: 0it [00:00, ?it/s]"
      ]
     },
     "metadata": {},
     "output_type": "display_data"
    },
    {
     "data": {
      "application/vnd.jupyter.widget-view+json": {
       "model_id": "ce2cfd0c83d0497e810b098f6e4d41e4",
       "version_major": 2,
       "version_minor": 0
      },
      "text/plain": [
       "Predicting: 11it [00:00, ?it/s]"
      ]
     },
     "metadata": {},
     "output_type": "display_data"
    },
    {
     "name": "stderr",
     "output_type": "stream",
     "text": [
      "[2022-06-14 15:23:29,478] INFO | darts.models.forecasting.torch_forecasting_model | Train dataset contains 2600 samples.\n",
      "[2022-06-14 15:23:29,478] INFO | darts.models.forecasting.torch_forecasting_model | Train dataset contains 2600 samples.\n",
      "2022-06-14 15:23:29 darts.models.forecasting.torch_forecasting_model INFO: Train dataset contains 2600 samples.\n",
      "[2022-06-14 15:23:29,507] INFO | darts.models.forecasting.torch_forecasting_model | Time series values are 64-bits; casting model to float64.\n",
      "[2022-06-14 15:23:29,507] INFO | darts.models.forecasting.torch_forecasting_model | Time series values are 64-bits; casting model to float64.\n",
      "2022-06-14 15:23:29 darts.models.forecasting.torch_forecasting_model INFO: Time series values are 64-bits; casting model to float64.\n",
      "2022-06-14 15:23:29 pytorch_lightning.utilities.rank_zero INFO: GPU available: False, used: False\n",
      "2022-06-14 15:23:29 pytorch_lightning.utilities.rank_zero INFO: TPU available: False, using: 0 TPU cores\n",
      "2022-06-14 15:23:29 pytorch_lightning.utilities.rank_zero INFO: IPU available: False, using: 0 IPUs\n",
      "2022-06-14 15:23:29 pytorch_lightning.utilities.rank_zero INFO: HPU available: False, using: 0 HPUs\n",
      "2022-06-14 15:23:29 pytorch_lightning.callbacks.model_summary INFO: \n",
      "  | Name      | Type       | Params\n",
      "-----------------------------------------\n",
      "0 | criterion | MSELoss    | 0     \n",
      "1 | stacks    | ModuleList | 8.5 M \n",
      "-----------------------------------------\n",
      "8.5 M     Trainable params\n",
      "3.2 K     Non-trainable params\n",
      "8.5 M     Total params\n",
      "67.633    Total estimated model params size (MB)\n"
     ]
    },
    {
     "data": {
      "application/vnd.jupyter.widget-view+json": {
       "model_id": "3aa3ca817e94456cb304fb183ccdc4f8",
       "version_major": 2,
       "version_minor": 0
      },
      "text/plain": [
       "Training: 0it [00:00, ?it/s]"
      ]
     },
     "metadata": {},
     "output_type": "display_data"
    },
    {
     "data": {
      "application/vnd.jupyter.widget-view+json": {
       "model_id": "3d765bab139a4872a27782f2ae7767d9",
       "version_major": 2,
       "version_minor": 0
      },
      "text/plain": [
       "Predicting: 11it [00:00, ?it/s]"
      ]
     },
     "metadata": {},
     "output_type": "display_data"
    },
    {
     "name": "stderr",
     "output_type": "stream",
     "text": [
      "[2022-06-14 15:23:35,393] INFO | darts.models.forecasting.torch_forecasting_model | Train dataset contains 2644 samples.\n",
      "[2022-06-14 15:23:35,393] INFO | darts.models.forecasting.torch_forecasting_model | Train dataset contains 2644 samples.\n",
      "2022-06-14 15:23:35 darts.models.forecasting.torch_forecasting_model INFO: Train dataset contains 2644 samples.\n",
      "[2022-06-14 15:23:35,422] INFO | darts.models.forecasting.torch_forecasting_model | Time series values are 64-bits; casting model to float64.\n",
      "[2022-06-14 15:23:35,422] INFO | darts.models.forecasting.torch_forecasting_model | Time series values are 64-bits; casting model to float64.\n",
      "2022-06-14 15:23:35 darts.models.forecasting.torch_forecasting_model INFO: Time series values are 64-bits; casting model to float64.\n",
      "2022-06-14 15:23:35 pytorch_lightning.utilities.rank_zero INFO: GPU available: False, used: False\n",
      "2022-06-14 15:23:35 pytorch_lightning.utilities.rank_zero INFO: TPU available: False, using: 0 TPU cores\n",
      "2022-06-14 15:23:35 pytorch_lightning.utilities.rank_zero INFO: IPU available: False, using: 0 IPUs\n",
      "2022-06-14 15:23:35 pytorch_lightning.utilities.rank_zero INFO: HPU available: False, using: 0 HPUs\n",
      "2022-06-14 15:23:35 pytorch_lightning.callbacks.model_summary INFO: \n",
      "  | Name      | Type       | Params\n",
      "-----------------------------------------\n",
      "0 | criterion | MSELoss    | 0     \n",
      "1 | stacks    | ModuleList | 8.5 M \n",
      "-----------------------------------------\n",
      "8.5 M     Trainable params\n",
      "3.2 K     Non-trainable params\n",
      "8.5 M     Total params\n",
      "67.633    Total estimated model params size (MB)\n"
     ]
    },
    {
     "data": {
      "application/vnd.jupyter.widget-view+json": {
       "model_id": "2a00c2e2aedb439c9ccd4aafe17e1c9a",
       "version_major": 2,
       "version_minor": 0
      },
      "text/plain": [
       "Training: 0it [00:00, ?it/s]"
      ]
     },
     "metadata": {},
     "output_type": "display_data"
    },
    {
     "data": {
      "application/vnd.jupyter.widget-view+json": {
       "model_id": "1fef1f5b8a7248c9abbb19aa9f134aab",
       "version_major": 2,
       "version_minor": 0
      },
      "text/plain": [
       "Predicting: 11it [00:00, ?it/s]"
      ]
     },
     "metadata": {},
     "output_type": "display_data"
    },
    {
     "name": "stderr",
     "output_type": "stream",
     "text": [
      "[2022-06-14 15:23:41,307] INFO | darts.models.forecasting.torch_forecasting_model | Train dataset contains 2644 samples.\n",
      "[2022-06-14 15:23:41,307] INFO | darts.models.forecasting.torch_forecasting_model | Train dataset contains 2644 samples.\n",
      "2022-06-14 15:23:41 darts.models.forecasting.torch_forecasting_model INFO: Train dataset contains 2644 samples.\n",
      "[2022-06-14 15:23:41,336] INFO | darts.models.forecasting.torch_forecasting_model | Time series values are 64-bits; casting model to float64.\n",
      "[2022-06-14 15:23:41,336] INFO | darts.models.forecasting.torch_forecasting_model | Time series values are 64-bits; casting model to float64.\n",
      "2022-06-14 15:23:41 darts.models.forecasting.torch_forecasting_model INFO: Time series values are 64-bits; casting model to float64.\n",
      "2022-06-14 15:23:41 pytorch_lightning.utilities.rank_zero INFO: GPU available: False, used: False\n",
      "2022-06-14 15:23:41 pytorch_lightning.utilities.rank_zero INFO: TPU available: False, using: 0 TPU cores\n",
      "2022-06-14 15:23:41 pytorch_lightning.utilities.rank_zero INFO: IPU available: False, using: 0 IPUs\n",
      "2022-06-14 15:23:41 pytorch_lightning.utilities.rank_zero INFO: HPU available: False, using: 0 HPUs\n",
      "2022-06-14 15:23:41 pytorch_lightning.callbacks.model_summary INFO: \n",
      "  | Name      | Type       | Params\n",
      "-----------------------------------------\n",
      "0 | criterion | MSELoss    | 0     \n",
      "1 | stacks    | ModuleList | 8.5 M \n",
      "-----------------------------------------\n",
      "8.5 M     Trainable params\n",
      "3.2 K     Non-trainable params\n",
      "8.5 M     Total params\n",
      "67.633    Total estimated model params size (MB)\n"
     ]
    },
    {
     "data": {
      "application/vnd.jupyter.widget-view+json": {
       "model_id": "792776a7361040bcbc92a71decfb9d23",
       "version_major": 2,
       "version_minor": 0
      },
      "text/plain": [
       "Training: 0it [00:00, ?it/s]"
      ]
     },
     "metadata": {},
     "output_type": "display_data"
    },
    {
     "data": {
      "application/vnd.jupyter.widget-view+json": {
       "model_id": "5e3f76bca15f4a43a717a8c9b4d8d274",
       "version_major": 2,
       "version_minor": 0
      },
      "text/plain": [
       "Predicting: 11it [00:00, ?it/s]"
      ]
     },
     "metadata": {},
     "output_type": "display_data"
    },
    {
     "name": "stderr",
     "output_type": "stream",
     "text": [
      "[2022-06-14 15:23:47,300] INFO | darts.models.forecasting.torch_forecasting_model | Train dataset contains 2644 samples.\n",
      "[2022-06-14 15:23:47,300] INFO | darts.models.forecasting.torch_forecasting_model | Train dataset contains 2644 samples.\n",
      "2022-06-14 15:23:47 darts.models.forecasting.torch_forecasting_model INFO: Train dataset contains 2644 samples.\n",
      "[2022-06-14 15:23:47,330] INFO | darts.models.forecasting.torch_forecasting_model | Time series values are 64-bits; casting model to float64.\n",
      "[2022-06-14 15:23:47,330] INFO | darts.models.forecasting.torch_forecasting_model | Time series values are 64-bits; casting model to float64.\n",
      "2022-06-14 15:23:47 darts.models.forecasting.torch_forecasting_model INFO: Time series values are 64-bits; casting model to float64.\n",
      "2022-06-14 15:23:47 pytorch_lightning.utilities.rank_zero INFO: GPU available: False, used: False\n",
      "2022-06-14 15:23:47 pytorch_lightning.utilities.rank_zero INFO: TPU available: False, using: 0 TPU cores\n",
      "2022-06-14 15:23:47 pytorch_lightning.utilities.rank_zero INFO: IPU available: False, using: 0 IPUs\n",
      "2022-06-14 15:23:47 pytorch_lightning.utilities.rank_zero INFO: HPU available: False, using: 0 HPUs\n",
      "2022-06-14 15:23:47 pytorch_lightning.callbacks.model_summary INFO: \n",
      "  | Name      | Type       | Params\n",
      "-----------------------------------------\n",
      "0 | criterion | MSELoss    | 0     \n",
      "1 | stacks    | ModuleList | 8.5 M \n",
      "-----------------------------------------\n",
      "8.5 M     Trainable params\n",
      "3.2 K     Non-trainable params\n",
      "8.5 M     Total params\n",
      "67.633    Total estimated model params size (MB)\n"
     ]
    },
    {
     "data": {
      "application/vnd.jupyter.widget-view+json": {
       "model_id": "cc8a2c87a21449d1b70fd0eebf9e535b",
       "version_major": 2,
       "version_minor": 0
      },
      "text/plain": [
       "Training: 0it [00:00, ?it/s]"
      ]
     },
     "metadata": {},
     "output_type": "display_data"
    },
    {
     "data": {
      "application/vnd.jupyter.widget-view+json": {
       "model_id": "b2d93660dcca4b6ab1d433ad1a4c9236",
       "version_major": 2,
       "version_minor": 0
      },
      "text/plain": [
       "Predicting: 11it [00:00, ?it/s]"
      ]
     },
     "metadata": {},
     "output_type": "display_data"
    },
    {
     "name": "stderr",
     "output_type": "stream",
     "text": [
      "[2022-06-14 15:23:53,290] INFO | darts.models.forecasting.torch_forecasting_model | Train dataset contains 2644 samples.\n",
      "[2022-06-14 15:23:53,290] INFO | darts.models.forecasting.torch_forecasting_model | Train dataset contains 2644 samples.\n",
      "2022-06-14 15:23:53 darts.models.forecasting.torch_forecasting_model INFO: Train dataset contains 2644 samples.\n",
      "[2022-06-14 15:23:53,340] INFO | darts.models.forecasting.torch_forecasting_model | Time series values are 64-bits; casting model to float64.\n",
      "[2022-06-14 15:23:53,340] INFO | darts.models.forecasting.torch_forecasting_model | Time series values are 64-bits; casting model to float64.\n",
      "2022-06-14 15:23:53 darts.models.forecasting.torch_forecasting_model INFO: Time series values are 64-bits; casting model to float64.\n",
      "2022-06-14 15:23:53 pytorch_lightning.utilities.rank_zero INFO: GPU available: False, used: False\n",
      "2022-06-14 15:23:53 pytorch_lightning.utilities.rank_zero INFO: TPU available: False, using: 0 TPU cores\n",
      "2022-06-14 15:23:53 pytorch_lightning.utilities.rank_zero INFO: IPU available: False, using: 0 IPUs\n",
      "2022-06-14 15:23:53 pytorch_lightning.utilities.rank_zero INFO: HPU available: False, using: 0 HPUs\n",
      "2022-06-14 15:23:53 pytorch_lightning.callbacks.model_summary INFO: \n",
      "  | Name      | Type       | Params\n",
      "-----------------------------------------\n",
      "0 | criterion | MSELoss    | 0     \n",
      "1 | stacks    | ModuleList | 8.5 M \n",
      "-----------------------------------------\n",
      "8.5 M     Trainable params\n",
      "3.2 K     Non-trainable params\n",
      "8.5 M     Total params\n",
      "67.633    Total estimated model params size (MB)\n"
     ]
    },
    {
     "data": {
      "application/vnd.jupyter.widget-view+json": {
       "model_id": "586c5bbd20014362819d4360e346a49d",
       "version_major": 2,
       "version_minor": 0
      },
      "text/plain": [
       "Training: 0it [00:00, ?it/s]"
      ]
     },
     "metadata": {},
     "output_type": "display_data"
    },
    {
     "data": {
      "application/vnd.jupyter.widget-view+json": {
       "model_id": "7e021efa203f4b3a86f5c94b3da81697",
       "version_major": 2,
       "version_minor": 0
      },
      "text/plain": [
       "Predicting: 11it [00:00, ?it/s]"
      ]
     },
     "metadata": {},
     "output_type": "display_data"
    },
    {
     "name": "stderr",
     "output_type": "stream",
     "text": [
      "[2022-06-14 15:23:59,221] INFO | darts.models.forecasting.torch_forecasting_model | Train dataset contains 2644 samples.\n",
      "[2022-06-14 15:23:59,221] INFO | darts.models.forecasting.torch_forecasting_model | Train dataset contains 2644 samples.\n",
      "2022-06-14 15:23:59 darts.models.forecasting.torch_forecasting_model INFO: Train dataset contains 2644 samples.\n",
      "[2022-06-14 15:23:59,250] INFO | darts.models.forecasting.torch_forecasting_model | Time series values are 64-bits; casting model to float64.\n",
      "[2022-06-14 15:23:59,250] INFO | darts.models.forecasting.torch_forecasting_model | Time series values are 64-bits; casting model to float64.\n",
      "2022-06-14 15:23:59 darts.models.forecasting.torch_forecasting_model INFO: Time series values are 64-bits; casting model to float64.\n",
      "2022-06-14 15:23:59 pytorch_lightning.utilities.rank_zero INFO: GPU available: False, used: False\n",
      "2022-06-14 15:23:59 pytorch_lightning.utilities.rank_zero INFO: TPU available: False, using: 0 TPU cores\n",
      "2022-06-14 15:23:59 pytorch_lightning.utilities.rank_zero INFO: IPU available: False, using: 0 IPUs\n",
      "2022-06-14 15:23:59 pytorch_lightning.utilities.rank_zero INFO: HPU available: False, using: 0 HPUs\n",
      "2022-06-14 15:23:59 pytorch_lightning.callbacks.model_summary INFO: \n",
      "  | Name      | Type       | Params\n",
      "-----------------------------------------\n",
      "0 | criterion | MSELoss    | 0     \n",
      "1 | stacks    | ModuleList | 8.5 M \n",
      "-----------------------------------------\n",
      "8.5 M     Trainable params\n",
      "3.2 K     Non-trainable params\n",
      "8.5 M     Total params\n",
      "67.633    Total estimated model params size (MB)\n"
     ]
    },
    {
     "data": {
      "application/vnd.jupyter.widget-view+json": {
       "model_id": "af03e210de544330aea2f7b1860d155a",
       "version_major": 2,
       "version_minor": 0
      },
      "text/plain": [
       "Training: 0it [00:00, ?it/s]"
      ]
     },
     "metadata": {},
     "output_type": "display_data"
    },
    {
     "data": {
      "application/vnd.jupyter.widget-view+json": {
       "model_id": "67327ff230d14025bb5f620bb549eb72",
       "version_major": 2,
       "version_minor": 0
      },
      "text/plain": [
       "Predicting: 11it [00:00, ?it/s]"
      ]
     },
     "metadata": {},
     "output_type": "display_data"
    },
    {
     "name": "stderr",
     "output_type": "stream",
     "text": [
      "[2022-06-14 15:24:05,213] INFO | darts.models.forecasting.torch_forecasting_model | Train dataset contains 2612 samples.\n",
      "[2022-06-14 15:24:05,213] INFO | darts.models.forecasting.torch_forecasting_model | Train dataset contains 2612 samples.\n",
      "2022-06-14 15:24:05 darts.models.forecasting.torch_forecasting_model INFO: Train dataset contains 2612 samples.\n",
      "[2022-06-14 15:24:05,242] INFO | darts.models.forecasting.torch_forecasting_model | Time series values are 64-bits; casting model to float64.\n",
      "[2022-06-14 15:24:05,242] INFO | darts.models.forecasting.torch_forecasting_model | Time series values are 64-bits; casting model to float64.\n",
      "2022-06-14 15:24:05 darts.models.forecasting.torch_forecasting_model INFO: Time series values are 64-bits; casting model to float64.\n",
      "2022-06-14 15:24:05 pytorch_lightning.utilities.rank_zero INFO: GPU available: False, used: False\n",
      "2022-06-14 15:24:05 pytorch_lightning.utilities.rank_zero INFO: TPU available: False, using: 0 TPU cores\n",
      "2022-06-14 15:24:05 pytorch_lightning.utilities.rank_zero INFO: IPU available: False, using: 0 IPUs\n",
      "2022-06-14 15:24:05 pytorch_lightning.utilities.rank_zero INFO: HPU available: False, using: 0 HPUs\n",
      "2022-06-14 15:24:05 pytorch_lightning.callbacks.model_summary INFO: \n",
      "  | Name      | Type       | Params\n",
      "-----------------------------------------\n",
      "0 | criterion | MSELoss    | 0     \n",
      "1 | stacks    | ModuleList | 8.5 M \n",
      "-----------------------------------------\n",
      "8.5 M     Trainable params\n",
      "3.2 K     Non-trainable params\n",
      "8.5 M     Total params\n",
      "67.633    Total estimated model params size (MB)\n"
     ]
    },
    {
     "data": {
      "application/vnd.jupyter.widget-view+json": {
       "model_id": "344bcefc04eb4766b5e9ddb3bbda7068",
       "version_major": 2,
       "version_minor": 0
      },
      "text/plain": [
       "Training: 0it [00:00, ?it/s]"
      ]
     },
     "metadata": {},
     "output_type": "display_data"
    },
    {
     "data": {
      "application/vnd.jupyter.widget-view+json": {
       "model_id": "65dfb71dbf5541eba93e77f53802b3db",
       "version_major": 2,
       "version_minor": 0
      },
      "text/plain": [
       "Predicting: 11it [00:00, ?it/s]"
      ]
     },
     "metadata": {},
     "output_type": "display_data"
    },
    {
     "name": "stderr",
     "output_type": "stream",
     "text": [
      "[2022-06-14 15:24:11,087] INFO | darts.models.forecasting.torch_forecasting_model | Train dataset contains 2661 samples.\n",
      "[2022-06-14 15:24:11,087] INFO | darts.models.forecasting.torch_forecasting_model | Train dataset contains 2661 samples.\n",
      "2022-06-14 15:24:11 darts.models.forecasting.torch_forecasting_model INFO: Train dataset contains 2661 samples.\n",
      "[2022-06-14 15:24:11,116] INFO | darts.models.forecasting.torch_forecasting_model | Time series values are 64-bits; casting model to float64.\n",
      "[2022-06-14 15:24:11,116] INFO | darts.models.forecasting.torch_forecasting_model | Time series values are 64-bits; casting model to float64.\n",
      "2022-06-14 15:24:11 darts.models.forecasting.torch_forecasting_model INFO: Time series values are 64-bits; casting model to float64.\n",
      "2022-06-14 15:24:11 pytorch_lightning.utilities.rank_zero INFO: GPU available: False, used: False\n",
      "2022-06-14 15:24:11 pytorch_lightning.utilities.rank_zero INFO: TPU available: False, using: 0 TPU cores\n",
      "2022-06-14 15:24:11 pytorch_lightning.utilities.rank_zero INFO: IPU available: False, using: 0 IPUs\n",
      "2022-06-14 15:24:11 pytorch_lightning.utilities.rank_zero INFO: HPU available: False, using: 0 HPUs\n",
      "2022-06-14 15:24:11 pytorch_lightning.callbacks.model_summary INFO: \n",
      "  | Name      | Type       | Params\n",
      "-----------------------------------------\n",
      "0 | criterion | MSELoss    | 0     \n",
      "1 | stacks    | ModuleList | 8.5 M \n",
      "-----------------------------------------\n",
      "8.5 M     Trainable params\n",
      "3.2 K     Non-trainable params\n",
      "8.5 M     Total params\n",
      "67.633    Total estimated model params size (MB)\n"
     ]
    },
    {
     "data": {
      "application/vnd.jupyter.widget-view+json": {
       "model_id": "7323849839804767be58e03e5798fc87",
       "version_major": 2,
       "version_minor": 0
      },
      "text/plain": [
       "Training: 0it [00:00, ?it/s]"
      ]
     },
     "metadata": {},
     "output_type": "display_data"
    },
    {
     "data": {
      "application/vnd.jupyter.widget-view+json": {
       "model_id": "fa2308c9e61f4984b9ce6d159d05e016",
       "version_major": 2,
       "version_minor": 0
      },
      "text/plain": [
       "Predicting: 11it [00:00, ?it/s]"
      ]
     },
     "metadata": {},
     "output_type": "display_data"
    },
    {
     "name": "stderr",
     "output_type": "stream",
     "text": [
      "[2022-06-14 15:24:16,985] INFO | darts.models.forecasting.torch_forecasting_model | Train dataset contains 2661 samples.\n",
      "[2022-06-14 15:24:16,985] INFO | darts.models.forecasting.torch_forecasting_model | Train dataset contains 2661 samples.\n",
      "2022-06-14 15:24:16 darts.models.forecasting.torch_forecasting_model INFO: Train dataset contains 2661 samples.\n",
      "[2022-06-14 15:24:17,014] INFO | darts.models.forecasting.torch_forecasting_model | Time series values are 64-bits; casting model to float64.\n",
      "[2022-06-14 15:24:17,014] INFO | darts.models.forecasting.torch_forecasting_model | Time series values are 64-bits; casting model to float64.\n",
      "2022-06-14 15:24:17 darts.models.forecasting.torch_forecasting_model INFO: Time series values are 64-bits; casting model to float64.\n",
      "2022-06-14 15:24:17 pytorch_lightning.utilities.rank_zero INFO: GPU available: False, used: False\n",
      "2022-06-14 15:24:17 pytorch_lightning.utilities.rank_zero INFO: TPU available: False, using: 0 TPU cores\n",
      "2022-06-14 15:24:17 pytorch_lightning.utilities.rank_zero INFO: IPU available: False, using: 0 IPUs\n",
      "2022-06-14 15:24:17 pytorch_lightning.utilities.rank_zero INFO: HPU available: False, using: 0 HPUs\n",
      "2022-06-14 15:24:17 pytorch_lightning.callbacks.model_summary INFO: \n",
      "  | Name      | Type       | Params\n",
      "-----------------------------------------\n",
      "0 | criterion | MSELoss    | 0     \n",
      "1 | stacks    | ModuleList | 8.5 M \n",
      "-----------------------------------------\n",
      "8.5 M     Trainable params\n",
      "3.2 K     Non-trainable params\n",
      "8.5 M     Total params\n",
      "67.633    Total estimated model params size (MB)\n"
     ]
    },
    {
     "data": {
      "application/vnd.jupyter.widget-view+json": {
       "model_id": "0093cf3d0b6443228a571346d7783efd",
       "version_major": 2,
       "version_minor": 0
      },
      "text/plain": [
       "Training: 0it [00:00, ?it/s]"
      ]
     },
     "metadata": {},
     "output_type": "display_data"
    },
    {
     "data": {
      "application/vnd.jupyter.widget-view+json": {
       "model_id": "e3dd199ebd724213973ace28d461631f",
       "version_major": 2,
       "version_minor": 0
      },
      "text/plain": [
       "Predicting: 11it [00:00, ?it/s]"
      ]
     },
     "metadata": {},
     "output_type": "display_data"
    },
    {
     "name": "stderr",
     "output_type": "stream",
     "text": [
      "[2022-06-14 15:24:22,957] INFO | darts.models.forecasting.torch_forecasting_model | Train dataset contains 2661 samples.\n",
      "[2022-06-14 15:24:22,957] INFO | darts.models.forecasting.torch_forecasting_model | Train dataset contains 2661 samples.\n",
      "2022-06-14 15:24:22 darts.models.forecasting.torch_forecasting_model INFO: Train dataset contains 2661 samples.\n",
      "[2022-06-14 15:24:22,986] INFO | darts.models.forecasting.torch_forecasting_model | Time series values are 64-bits; casting model to float64.\n",
      "[2022-06-14 15:24:22,986] INFO | darts.models.forecasting.torch_forecasting_model | Time series values are 64-bits; casting model to float64.\n",
      "2022-06-14 15:24:22 darts.models.forecasting.torch_forecasting_model INFO: Time series values are 64-bits; casting model to float64.\n",
      "2022-06-14 15:24:22 pytorch_lightning.utilities.rank_zero INFO: GPU available: False, used: False\n",
      "2022-06-14 15:24:22 pytorch_lightning.utilities.rank_zero INFO: TPU available: False, using: 0 TPU cores\n",
      "2022-06-14 15:24:22 pytorch_lightning.utilities.rank_zero INFO: IPU available: False, using: 0 IPUs\n",
      "2022-06-14 15:24:22 pytorch_lightning.utilities.rank_zero INFO: HPU available: False, using: 0 HPUs\n",
      "2022-06-14 15:24:23 pytorch_lightning.callbacks.model_summary INFO: \n",
      "  | Name      | Type       | Params\n",
      "-----------------------------------------\n",
      "0 | criterion | MSELoss    | 0     \n",
      "1 | stacks    | ModuleList | 8.5 M \n",
      "-----------------------------------------\n",
      "8.5 M     Trainable params\n",
      "3.2 K     Non-trainable params\n",
      "8.5 M     Total params\n",
      "67.633    Total estimated model params size (MB)\n"
     ]
    },
    {
     "data": {
      "application/vnd.jupyter.widget-view+json": {
       "model_id": "0b831c321c8642ca9357708732ceb249",
       "version_major": 2,
       "version_minor": 0
      },
      "text/plain": [
       "Training: 0it [00:00, ?it/s]"
      ]
     },
     "metadata": {},
     "output_type": "display_data"
    },
    {
     "data": {
      "application/vnd.jupyter.widget-view+json": {
       "model_id": "c9e9f4b13aa4444d98600c3921fb7f1a",
       "version_major": 2,
       "version_minor": 0
      },
      "text/plain": [
       "Predicting: 11it [00:00, ?it/s]"
      ]
     },
     "metadata": {},
     "output_type": "display_data"
    },
    {
     "name": "stderr",
     "output_type": "stream",
     "text": [
      "[2022-06-14 15:24:28,962] INFO | darts.models.forecasting.torch_forecasting_model | Train dataset contains 2660 samples.\n",
      "[2022-06-14 15:24:28,962] INFO | darts.models.forecasting.torch_forecasting_model | Train dataset contains 2660 samples.\n",
      "2022-06-14 15:24:28 darts.models.forecasting.torch_forecasting_model INFO: Train dataset contains 2660 samples.\n",
      "[2022-06-14 15:24:29,010] INFO | darts.models.forecasting.torch_forecasting_model | Time series values are 64-bits; casting model to float64.\n",
      "[2022-06-14 15:24:29,010] INFO | darts.models.forecasting.torch_forecasting_model | Time series values are 64-bits; casting model to float64.\n",
      "2022-06-14 15:24:29 darts.models.forecasting.torch_forecasting_model INFO: Time series values are 64-bits; casting model to float64.\n",
      "2022-06-14 15:24:29 pytorch_lightning.utilities.rank_zero INFO: GPU available: False, used: False\n",
      "2022-06-14 15:24:29 pytorch_lightning.utilities.rank_zero INFO: TPU available: False, using: 0 TPU cores\n",
      "2022-06-14 15:24:29 pytorch_lightning.utilities.rank_zero INFO: IPU available: False, using: 0 IPUs\n",
      "2022-06-14 15:24:29 pytorch_lightning.utilities.rank_zero INFO: HPU available: False, using: 0 HPUs\n",
      "2022-06-14 15:24:29 pytorch_lightning.callbacks.model_summary INFO: \n",
      "  | Name      | Type       | Params\n",
      "-----------------------------------------\n",
      "0 | criterion | MSELoss    | 0     \n",
      "1 | stacks    | ModuleList | 8.5 M \n",
      "-----------------------------------------\n",
      "8.5 M     Trainable params\n",
      "3.2 K     Non-trainable params\n",
      "8.5 M     Total params\n",
      "67.633    Total estimated model params size (MB)\n"
     ]
    },
    {
     "data": {
      "application/vnd.jupyter.widget-view+json": {
       "model_id": "eeb9b3a3145a4a6485b1c7951ad4ba48",
       "version_major": 2,
       "version_minor": 0
      },
      "text/plain": [
       "Training: 0it [00:00, ?it/s]"
      ]
     },
     "metadata": {},
     "output_type": "display_data"
    },
    {
     "data": {
      "application/vnd.jupyter.widget-view+json": {
       "model_id": "77c02848a0fe4953a6d75267de62322b",
       "version_major": 2,
       "version_minor": 0
      },
      "text/plain": [
       "Predicting: 11it [00:00, ?it/s]"
      ]
     },
     "metadata": {},
     "output_type": "display_data"
    },
    {
     "name": "stderr",
     "output_type": "stream",
     "text": [
      "[2022-06-14 15:24:34,976] INFO | darts.models.forecasting.torch_forecasting_model | Train dataset contains 2660 samples.\n",
      "[2022-06-14 15:24:34,976] INFO | darts.models.forecasting.torch_forecasting_model | Train dataset contains 2660 samples.\n",
      "2022-06-14 15:24:34 darts.models.forecasting.torch_forecasting_model INFO: Train dataset contains 2660 samples.\n",
      "[2022-06-14 15:24:35,006] INFO | darts.models.forecasting.torch_forecasting_model | Time series values are 64-bits; casting model to float64.\n",
      "[2022-06-14 15:24:35,006] INFO | darts.models.forecasting.torch_forecasting_model | Time series values are 64-bits; casting model to float64.\n",
      "2022-06-14 15:24:35 darts.models.forecasting.torch_forecasting_model INFO: Time series values are 64-bits; casting model to float64.\n",
      "2022-06-14 15:24:35 pytorch_lightning.utilities.rank_zero INFO: GPU available: False, used: False\n",
      "2022-06-14 15:24:35 pytorch_lightning.utilities.rank_zero INFO: TPU available: False, using: 0 TPU cores\n",
      "2022-06-14 15:24:35 pytorch_lightning.utilities.rank_zero INFO: IPU available: False, using: 0 IPUs\n",
      "2022-06-14 15:24:35 pytorch_lightning.utilities.rank_zero INFO: HPU available: False, using: 0 HPUs\n",
      "2022-06-14 15:24:35 pytorch_lightning.callbacks.model_summary INFO: \n",
      "  | Name      | Type       | Params\n",
      "-----------------------------------------\n",
      "0 | criterion | MSELoss    | 0     \n",
      "1 | stacks    | ModuleList | 8.5 M \n",
      "-----------------------------------------\n",
      "8.5 M     Trainable params\n",
      "3.2 K     Non-trainable params\n",
      "8.5 M     Total params\n",
      "67.633    Total estimated model params size (MB)\n"
     ]
    },
    {
     "data": {
      "application/vnd.jupyter.widget-view+json": {
       "model_id": "5cd0807765f646839c0236e4af0442be",
       "version_major": 2,
       "version_minor": 0
      },
      "text/plain": [
       "Training: 0it [00:00, ?it/s]"
      ]
     },
     "metadata": {},
     "output_type": "display_data"
    },
    {
     "data": {
      "application/vnd.jupyter.widget-view+json": {
       "model_id": "5e2a3a770adc40209c838aa1dbc2e5a2",
       "version_major": 2,
       "version_minor": 0
      },
      "text/plain": [
       "Predicting: 11it [00:00, ?it/s]"
      ]
     },
     "metadata": {},
     "output_type": "display_data"
    },
    {
     "name": "stderr",
     "output_type": "stream",
     "text": [
      "[2022-06-14 15:24:40,985] INFO | darts.models.forecasting.torch_forecasting_model | Train dataset contains 2615 samples.\n",
      "[2022-06-14 15:24:40,985] INFO | darts.models.forecasting.torch_forecasting_model | Train dataset contains 2615 samples.\n",
      "2022-06-14 15:24:40 darts.models.forecasting.torch_forecasting_model INFO: Train dataset contains 2615 samples.\n",
      "[2022-06-14 15:24:41,014] INFO | darts.models.forecasting.torch_forecasting_model | Time series values are 64-bits; casting model to float64.\n",
      "[2022-06-14 15:24:41,014] INFO | darts.models.forecasting.torch_forecasting_model | Time series values are 64-bits; casting model to float64.\n",
      "2022-06-14 15:24:41 darts.models.forecasting.torch_forecasting_model INFO: Time series values are 64-bits; casting model to float64.\n",
      "2022-06-14 15:24:41 pytorch_lightning.utilities.rank_zero INFO: GPU available: False, used: False\n",
      "2022-06-14 15:24:41 pytorch_lightning.utilities.rank_zero INFO: TPU available: False, using: 0 TPU cores\n",
      "2022-06-14 15:24:41 pytorch_lightning.utilities.rank_zero INFO: IPU available: False, using: 0 IPUs\n",
      "2022-06-14 15:24:41 pytorch_lightning.utilities.rank_zero INFO: HPU available: False, using: 0 HPUs\n",
      "2022-06-14 15:24:41 pytorch_lightning.callbacks.model_summary INFO: \n",
      "  | Name      | Type       | Params\n",
      "-----------------------------------------\n",
      "0 | criterion | MSELoss    | 0     \n",
      "1 | stacks    | ModuleList | 8.5 M \n",
      "-----------------------------------------\n",
      "8.5 M     Trainable params\n",
      "3.2 K     Non-trainable params\n",
      "8.5 M     Total params\n",
      "67.633    Total estimated model params size (MB)\n"
     ]
    },
    {
     "data": {
      "application/vnd.jupyter.widget-view+json": {
       "model_id": "e146ff8cf9a1459e8e8810ebe848c586",
       "version_major": 2,
       "version_minor": 0
      },
      "text/plain": [
       "Training: 0it [00:00, ?it/s]"
      ]
     },
     "metadata": {},
     "output_type": "display_data"
    },
    {
     "data": {
      "application/vnd.jupyter.widget-view+json": {
       "model_id": "11502b9d81ad4c2d95be87378628ef83",
       "version_major": 2,
       "version_minor": 0
      },
      "text/plain": [
       "Predicting: 11it [00:00, ?it/s]"
      ]
     },
     "metadata": {},
     "output_type": "display_data"
    },
    {
     "name": "stderr",
     "output_type": "stream",
     "text": [
      "[2022-06-14 15:24:46,878] INFO | darts.models.forecasting.torch_forecasting_model | Train dataset contains 2727 samples.\n",
      "[2022-06-14 15:24:46,878] INFO | darts.models.forecasting.torch_forecasting_model | Train dataset contains 2727 samples.\n",
      "2022-06-14 15:24:46 darts.models.forecasting.torch_forecasting_model INFO: Train dataset contains 2727 samples.\n",
      "[2022-06-14 15:24:46,907] INFO | darts.models.forecasting.torch_forecasting_model | Time series values are 64-bits; casting model to float64.\n",
      "[2022-06-14 15:24:46,907] INFO | darts.models.forecasting.torch_forecasting_model | Time series values are 64-bits; casting model to float64.\n",
      "2022-06-14 15:24:46 darts.models.forecasting.torch_forecasting_model INFO: Time series values are 64-bits; casting model to float64.\n",
      "2022-06-14 15:24:46 pytorch_lightning.utilities.rank_zero INFO: GPU available: False, used: False\n",
      "2022-06-14 15:24:46 pytorch_lightning.utilities.rank_zero INFO: TPU available: False, using: 0 TPU cores\n",
      "2022-06-14 15:24:46 pytorch_lightning.utilities.rank_zero INFO: IPU available: False, using: 0 IPUs\n",
      "2022-06-14 15:24:46 pytorch_lightning.utilities.rank_zero INFO: HPU available: False, using: 0 HPUs\n",
      "2022-06-14 15:24:46 pytorch_lightning.callbacks.model_summary INFO: \n",
      "  | Name      | Type       | Params\n",
      "-----------------------------------------\n",
      "0 | criterion | MSELoss    | 0     \n",
      "1 | stacks    | ModuleList | 8.5 M \n",
      "-----------------------------------------\n",
      "8.5 M     Trainable params\n",
      "3.2 K     Non-trainable params\n",
      "8.5 M     Total params\n",
      "67.633    Total estimated model params size (MB)\n"
     ]
    },
    {
     "data": {
      "application/vnd.jupyter.widget-view+json": {
       "model_id": "7fea6e1bf92648ca9549f16f5b9ea714",
       "version_major": 2,
       "version_minor": 0
      },
      "text/plain": [
       "Training: 0it [00:00, ?it/s]"
      ]
     },
     "metadata": {},
     "output_type": "display_data"
    },
    {
     "data": {
      "application/vnd.jupyter.widget-view+json": {
       "model_id": "ac249952fb514411847188dd7332e163",
       "version_major": 2,
       "version_minor": 0
      },
      "text/plain": [
       "Predicting: 11it [00:00, ?it/s]"
      ]
     },
     "metadata": {},
     "output_type": "display_data"
    },
    {
     "name": "stderr",
     "output_type": "stream",
     "text": [
      "[2022-06-14 15:24:52,913] INFO | darts.models.forecasting.torch_forecasting_model | Train dataset contains 2727 samples.\n",
      "[2022-06-14 15:24:52,913] INFO | darts.models.forecasting.torch_forecasting_model | Train dataset contains 2727 samples.\n",
      "2022-06-14 15:24:52 darts.models.forecasting.torch_forecasting_model INFO: Train dataset contains 2727 samples.\n",
      "[2022-06-14 15:24:52,942] INFO | darts.models.forecasting.torch_forecasting_model | Time series values are 64-bits; casting model to float64.\n",
      "[2022-06-14 15:24:52,942] INFO | darts.models.forecasting.torch_forecasting_model | Time series values are 64-bits; casting model to float64.\n",
      "2022-06-14 15:24:52 darts.models.forecasting.torch_forecasting_model INFO: Time series values are 64-bits; casting model to float64.\n",
      "2022-06-14 15:24:52 pytorch_lightning.utilities.rank_zero INFO: GPU available: False, used: False\n",
      "2022-06-14 15:24:52 pytorch_lightning.utilities.rank_zero INFO: TPU available: False, using: 0 TPU cores\n",
      "2022-06-14 15:24:52 pytorch_lightning.utilities.rank_zero INFO: IPU available: False, using: 0 IPUs\n",
      "2022-06-14 15:24:52 pytorch_lightning.utilities.rank_zero INFO: HPU available: False, using: 0 HPUs\n",
      "2022-06-14 15:24:52 pytorch_lightning.callbacks.model_summary INFO: \n",
      "  | Name      | Type       | Params\n",
      "-----------------------------------------\n",
      "0 | criterion | MSELoss    | 0     \n",
      "1 | stacks    | ModuleList | 8.5 M \n",
      "-----------------------------------------\n",
      "8.5 M     Trainable params\n",
      "3.2 K     Non-trainable params\n",
      "8.5 M     Total params\n",
      "67.633    Total estimated model params size (MB)\n"
     ]
    },
    {
     "data": {
      "application/vnd.jupyter.widget-view+json": {
       "model_id": "22394462da9d49ebb8d77b6ada7da2e9",
       "version_major": 2,
       "version_minor": 0
      },
      "text/plain": [
       "Training: 0it [00:00, ?it/s]"
      ]
     },
     "metadata": {},
     "output_type": "display_data"
    },
    {
     "data": {
      "application/vnd.jupyter.widget-view+json": {
       "model_id": "193e6d2035764a47a88adb365bee2d73",
       "version_major": 2,
       "version_minor": 0
      },
      "text/plain": [
       "Predicting: 11it [00:00, ?it/s]"
      ]
     },
     "metadata": {},
     "output_type": "display_data"
    },
    {
     "name": "stderr",
     "output_type": "stream",
     "text": [
      "[2022-06-14 15:24:58,873] INFO | darts.models.forecasting.torch_forecasting_model | Train dataset contains 2725 samples.\n",
      "[2022-06-14 15:24:58,873] INFO | darts.models.forecasting.torch_forecasting_model | Train dataset contains 2725 samples.\n",
      "2022-06-14 15:24:58 darts.models.forecasting.torch_forecasting_model INFO: Train dataset contains 2725 samples.\n",
      "[2022-06-14 15:24:58,911] INFO | darts.models.forecasting.torch_forecasting_model | Time series values are 64-bits; casting model to float64.\n",
      "[2022-06-14 15:24:58,911] INFO | darts.models.forecasting.torch_forecasting_model | Time series values are 64-bits; casting model to float64.\n",
      "2022-06-14 15:24:58 darts.models.forecasting.torch_forecasting_model INFO: Time series values are 64-bits; casting model to float64.\n",
      "2022-06-14 15:24:58 pytorch_lightning.utilities.rank_zero INFO: GPU available: False, used: False\n",
      "2022-06-14 15:24:58 pytorch_lightning.utilities.rank_zero INFO: TPU available: False, using: 0 TPU cores\n",
      "2022-06-14 15:24:58 pytorch_lightning.utilities.rank_zero INFO: IPU available: False, using: 0 IPUs\n",
      "2022-06-14 15:24:58 pytorch_lightning.utilities.rank_zero INFO: HPU available: False, using: 0 HPUs\n",
      "2022-06-14 15:24:58 pytorch_lightning.callbacks.model_summary INFO: \n",
      "  | Name      | Type       | Params\n",
      "-----------------------------------------\n",
      "0 | criterion | MSELoss    | 0     \n",
      "1 | stacks    | ModuleList | 8.5 M \n",
      "-----------------------------------------\n",
      "8.5 M     Trainable params\n",
      "3.2 K     Non-trainable params\n",
      "8.5 M     Total params\n",
      "67.633    Total estimated model params size (MB)\n"
     ]
    },
    {
     "data": {
      "application/vnd.jupyter.widget-view+json": {
       "model_id": "24cbc544410748d5b53a0ba009e6ef4d",
       "version_major": 2,
       "version_minor": 0
      },
      "text/plain": [
       "Training: 0it [00:00, ?it/s]"
      ]
     },
     "metadata": {},
     "output_type": "display_data"
    },
    {
     "data": {
      "application/vnd.jupyter.widget-view+json": {
       "model_id": "db72c8e3dd7f42f782b71ed24dcdbb2a",
       "version_major": 2,
       "version_minor": 0
      },
      "text/plain": [
       "Predicting: 11it [00:00, ?it/s]"
      ]
     },
     "metadata": {},
     "output_type": "display_data"
    },
    {
     "name": "stderr",
     "output_type": "stream",
     "text": [
      "[2022-06-14 15:25:04,853] INFO | darts.models.forecasting.torch_forecasting_model | Train dataset contains 2727 samples.\n",
      "[2022-06-14 15:25:04,853] INFO | darts.models.forecasting.torch_forecasting_model | Train dataset contains 2727 samples.\n",
      "2022-06-14 15:25:04 darts.models.forecasting.torch_forecasting_model INFO: Train dataset contains 2727 samples.\n",
      "[2022-06-14 15:25:04,882] INFO | darts.models.forecasting.torch_forecasting_model | Time series values are 64-bits; casting model to float64.\n",
      "[2022-06-14 15:25:04,882] INFO | darts.models.forecasting.torch_forecasting_model | Time series values are 64-bits; casting model to float64.\n",
      "2022-06-14 15:25:04 darts.models.forecasting.torch_forecasting_model INFO: Time series values are 64-bits; casting model to float64.\n",
      "2022-06-14 15:25:04 pytorch_lightning.utilities.rank_zero INFO: GPU available: False, used: False\n",
      "2022-06-14 15:25:04 pytorch_lightning.utilities.rank_zero INFO: TPU available: False, using: 0 TPU cores\n",
      "2022-06-14 15:25:04 pytorch_lightning.utilities.rank_zero INFO: IPU available: False, using: 0 IPUs\n",
      "2022-06-14 15:25:04 pytorch_lightning.utilities.rank_zero INFO: HPU available: False, using: 0 HPUs\n",
      "2022-06-14 15:25:04 pytorch_lightning.callbacks.model_summary INFO: \n",
      "  | Name      | Type       | Params\n",
      "-----------------------------------------\n",
      "0 | criterion | MSELoss    | 0     \n",
      "1 | stacks    | ModuleList | 8.5 M \n",
      "-----------------------------------------\n",
      "8.5 M     Trainable params\n",
      "3.2 K     Non-trainable params\n",
      "8.5 M     Total params\n",
      "67.633    Total estimated model params size (MB)\n"
     ]
    },
    {
     "data": {
      "application/vnd.jupyter.widget-view+json": {
       "model_id": "286f7e4a0e324940a877079fda9bf4e8",
       "version_major": 2,
       "version_minor": 0
      },
      "text/plain": [
       "Training: 0it [00:00, ?it/s]"
      ]
     },
     "metadata": {},
     "output_type": "display_data"
    },
    {
     "data": {
      "application/vnd.jupyter.widget-view+json": {
       "model_id": "bdb63ffec77b44ceabc9faa20be81384",
       "version_major": 2,
       "version_minor": 0
      },
      "text/plain": [
       "Predicting: 11it [00:00, ?it/s]"
      ]
     },
     "metadata": {},
     "output_type": "display_data"
    },
    {
     "name": "stderr",
     "output_type": "stream",
     "text": [
      "[2022-06-14 15:25:10,812] INFO | darts.models.forecasting.torch_forecasting_model | Train dataset contains 2727 samples.\n",
      "[2022-06-14 15:25:10,812] INFO | darts.models.forecasting.torch_forecasting_model | Train dataset contains 2727 samples.\n",
      "2022-06-14 15:25:10 darts.models.forecasting.torch_forecasting_model INFO: Train dataset contains 2727 samples.\n",
      "[2022-06-14 15:25:10,842] INFO | darts.models.forecasting.torch_forecasting_model | Time series values are 64-bits; casting model to float64.\n",
      "[2022-06-14 15:25:10,842] INFO | darts.models.forecasting.torch_forecasting_model | Time series values are 64-bits; casting model to float64.\n",
      "2022-06-14 15:25:10 darts.models.forecasting.torch_forecasting_model INFO: Time series values are 64-bits; casting model to float64.\n",
      "2022-06-14 15:25:10 pytorch_lightning.utilities.rank_zero INFO: GPU available: False, used: False\n",
      "2022-06-14 15:25:10 pytorch_lightning.utilities.rank_zero INFO: TPU available: False, using: 0 TPU cores\n",
      "2022-06-14 15:25:10 pytorch_lightning.utilities.rank_zero INFO: IPU available: False, using: 0 IPUs\n",
      "2022-06-14 15:25:10 pytorch_lightning.utilities.rank_zero INFO: HPU available: False, using: 0 HPUs\n",
      "2022-06-14 15:25:10 pytorch_lightning.callbacks.model_summary INFO: \n",
      "  | Name      | Type       | Params\n",
      "-----------------------------------------\n",
      "0 | criterion | MSELoss    | 0     \n",
      "1 | stacks    | ModuleList | 8.5 M \n",
      "-----------------------------------------\n",
      "8.5 M     Trainable params\n",
      "3.2 K     Non-trainable params\n",
      "8.5 M     Total params\n",
      "67.633    Total estimated model params size (MB)\n"
     ]
    },
    {
     "data": {
      "application/vnd.jupyter.widget-view+json": {
       "model_id": "2c68753c44284534a8f8691583f98886",
       "version_major": 2,
       "version_minor": 0
      },
      "text/plain": [
       "Training: 0it [00:00, ?it/s]"
      ]
     },
     "metadata": {},
     "output_type": "display_data"
    },
    {
     "data": {
      "application/vnd.jupyter.widget-view+json": {
       "model_id": "50ca743966474faaa906d0315cbefa8c",
       "version_major": 2,
       "version_minor": 0
      },
      "text/plain": [
       "Predicting: 11it [00:00, ?it/s]"
      ]
     },
     "metadata": {},
     "output_type": "display_data"
    },
    {
     "name": "stderr",
     "output_type": "stream",
     "text": [
      "[2022-06-14 15:25:16,707] INFO | darts.models.forecasting.torch_forecasting_model | Train dataset contains 2699 samples.\n",
      "[2022-06-14 15:25:16,707] INFO | darts.models.forecasting.torch_forecasting_model | Train dataset contains 2699 samples.\n",
      "2022-06-14 15:25:16 darts.models.forecasting.torch_forecasting_model INFO: Train dataset contains 2699 samples.\n",
      "[2022-06-14 15:25:16,736] INFO | darts.models.forecasting.torch_forecasting_model | Time series values are 64-bits; casting model to float64.\n",
      "[2022-06-14 15:25:16,736] INFO | darts.models.forecasting.torch_forecasting_model | Time series values are 64-bits; casting model to float64.\n",
      "2022-06-14 15:25:16 darts.models.forecasting.torch_forecasting_model INFO: Time series values are 64-bits; casting model to float64.\n",
      "2022-06-14 15:25:16 pytorch_lightning.utilities.rank_zero INFO: GPU available: False, used: False\n",
      "2022-06-14 15:25:16 pytorch_lightning.utilities.rank_zero INFO: TPU available: False, using: 0 TPU cores\n",
      "2022-06-14 15:25:16 pytorch_lightning.utilities.rank_zero INFO: IPU available: False, using: 0 IPUs\n",
      "2022-06-14 15:25:16 pytorch_lightning.utilities.rank_zero INFO: HPU available: False, using: 0 HPUs\n",
      "2022-06-14 15:25:16 pytorch_lightning.callbacks.model_summary INFO: \n",
      "  | Name      | Type       | Params\n",
      "-----------------------------------------\n",
      "0 | criterion | MSELoss    | 0     \n",
      "1 | stacks    | ModuleList | 8.5 M \n",
      "-----------------------------------------\n",
      "8.5 M     Trainable params\n",
      "3.2 K     Non-trainable params\n",
      "8.5 M     Total params\n",
      "67.633    Total estimated model params size (MB)\n"
     ]
    },
    {
     "data": {
      "application/vnd.jupyter.widget-view+json": {
       "model_id": "eb479e0740b340618afc75d9e7b1db29",
       "version_major": 2,
       "version_minor": 0
      },
      "text/plain": [
       "Training: 0it [00:00, ?it/s]"
      ]
     },
     "metadata": {},
     "output_type": "display_data"
    },
    {
     "data": {
      "application/vnd.jupyter.widget-view+json": {
       "model_id": "3007eb144c7e41d4945ba5705094195a",
       "version_major": 2,
       "version_minor": 0
      },
      "text/plain": [
       "Predicting: 11it [00:00, ?it/s]"
      ]
     },
     "metadata": {},
     "output_type": "display_data"
    },
    {
     "name": "stderr",
     "output_type": "stream",
     "text": [
      "[2022-06-14 15:25:22,656] INFO | darts.models.forecasting.torch_forecasting_model | Train dataset contains 2685 samples.\n",
      "[2022-06-14 15:25:22,656] INFO | darts.models.forecasting.torch_forecasting_model | Train dataset contains 2685 samples.\n",
      "2022-06-14 15:25:22 darts.models.forecasting.torch_forecasting_model INFO: Train dataset contains 2685 samples.\n",
      "[2022-06-14 15:25:22,703] INFO | darts.models.forecasting.torch_forecasting_model | Time series values are 64-bits; casting model to float64.\n",
      "[2022-06-14 15:25:22,703] INFO | darts.models.forecasting.torch_forecasting_model | Time series values are 64-bits; casting model to float64.\n",
      "2022-06-14 15:25:22 darts.models.forecasting.torch_forecasting_model INFO: Time series values are 64-bits; casting model to float64.\n",
      "2022-06-14 15:25:22 pytorch_lightning.utilities.rank_zero INFO: GPU available: False, used: False\n",
      "2022-06-14 15:25:22 pytorch_lightning.utilities.rank_zero INFO: TPU available: False, using: 0 TPU cores\n",
      "2022-06-14 15:25:22 pytorch_lightning.utilities.rank_zero INFO: IPU available: False, using: 0 IPUs\n",
      "2022-06-14 15:25:22 pytorch_lightning.utilities.rank_zero INFO: HPU available: False, using: 0 HPUs\n",
      "2022-06-14 15:25:22 pytorch_lightning.callbacks.model_summary INFO: \n",
      "  | Name      | Type       | Params\n",
      "-----------------------------------------\n",
      "0 | criterion | MSELoss    | 0     \n",
      "1 | stacks    | ModuleList | 8.5 M \n",
      "-----------------------------------------\n",
      "8.5 M     Trainable params\n",
      "3.2 K     Non-trainable params\n",
      "8.5 M     Total params\n",
      "67.633    Total estimated model params size (MB)\n"
     ]
    },
    {
     "data": {
      "application/vnd.jupyter.widget-view+json": {
       "model_id": "18bd22cea0b049f5affd9696abb5f432",
       "version_major": 2,
       "version_minor": 0
      },
      "text/plain": [
       "Training: 0it [00:00, ?it/s]"
      ]
     },
     "metadata": {},
     "output_type": "display_data"
    },
    {
     "data": {
      "application/vnd.jupyter.widget-view+json": {
       "model_id": "9e81b338b20c464382889180e4a240b8",
       "version_major": 2,
       "version_minor": 0
      },
      "text/plain": [
       "Predicting: 11it [00:00, ?it/s]"
      ]
     },
     "metadata": {},
     "output_type": "display_data"
    },
    {
     "name": "stderr",
     "output_type": "stream",
     "text": [
      "[2022-06-14 15:25:28,642] INFO | darts.models.forecasting.torch_forecasting_model | Train dataset contains 2685 samples.\n",
      "[2022-06-14 15:25:28,642] INFO | darts.models.forecasting.torch_forecasting_model | Train dataset contains 2685 samples.\n",
      "2022-06-14 15:25:28 darts.models.forecasting.torch_forecasting_model INFO: Train dataset contains 2685 samples.\n",
      "[2022-06-14 15:25:28,689] INFO | darts.models.forecasting.torch_forecasting_model | Time series values are 64-bits; casting model to float64.\n",
      "[2022-06-14 15:25:28,689] INFO | darts.models.forecasting.torch_forecasting_model | Time series values are 64-bits; casting model to float64.\n",
      "2022-06-14 15:25:28 darts.models.forecasting.torch_forecasting_model INFO: Time series values are 64-bits; casting model to float64.\n",
      "2022-06-14 15:25:28 pytorch_lightning.utilities.rank_zero INFO: GPU available: False, used: False\n",
      "2022-06-14 15:25:28 pytorch_lightning.utilities.rank_zero INFO: TPU available: False, using: 0 TPU cores\n",
      "2022-06-14 15:25:28 pytorch_lightning.utilities.rank_zero INFO: IPU available: False, using: 0 IPUs\n",
      "2022-06-14 15:25:28 pytorch_lightning.utilities.rank_zero INFO: HPU available: False, using: 0 HPUs\n",
      "2022-06-14 15:25:28 pytorch_lightning.callbacks.model_summary INFO: \n",
      "  | Name      | Type       | Params\n",
      "-----------------------------------------\n",
      "0 | criterion | MSELoss    | 0     \n",
      "1 | stacks    | ModuleList | 8.5 M \n",
      "-----------------------------------------\n",
      "8.5 M     Trainable params\n",
      "3.2 K     Non-trainable params\n",
      "8.5 M     Total params\n",
      "67.633    Total estimated model params size (MB)\n"
     ]
    },
    {
     "data": {
      "application/vnd.jupyter.widget-view+json": {
       "model_id": "2236f83388194a658ca478175e27a9d6",
       "version_major": 2,
       "version_minor": 0
      },
      "text/plain": [
       "Training: 0it [00:00, ?it/s]"
      ]
     },
     "metadata": {},
     "output_type": "display_data"
    },
    {
     "data": {
      "application/vnd.jupyter.widget-view+json": {
       "model_id": "1431f163dc11492fb995182f2a91c890",
       "version_major": 2,
       "version_minor": 0
      },
      "text/plain": [
       "Predicting: 11it [00:00, ?it/s]"
      ]
     },
     "metadata": {},
     "output_type": "display_data"
    },
    {
     "name": "stderr",
     "output_type": "stream",
     "text": [
      "[2022-06-14 15:25:34,717] INFO | darts.models.forecasting.torch_forecasting_model | Train dataset contains 2685 samples.\n",
      "[2022-06-14 15:25:34,717] INFO | darts.models.forecasting.torch_forecasting_model | Train dataset contains 2685 samples.\n",
      "2022-06-14 15:25:34 darts.models.forecasting.torch_forecasting_model INFO: Train dataset contains 2685 samples.\n",
      "[2022-06-14 15:25:34,746] INFO | darts.models.forecasting.torch_forecasting_model | Time series values are 64-bits; casting model to float64.\n",
      "[2022-06-14 15:25:34,746] INFO | darts.models.forecasting.torch_forecasting_model | Time series values are 64-bits; casting model to float64.\n",
      "2022-06-14 15:25:34 darts.models.forecasting.torch_forecasting_model INFO: Time series values are 64-bits; casting model to float64.\n",
      "2022-06-14 15:25:34 pytorch_lightning.utilities.rank_zero INFO: GPU available: False, used: False\n",
      "2022-06-14 15:25:34 pytorch_lightning.utilities.rank_zero INFO: TPU available: False, using: 0 TPU cores\n",
      "2022-06-14 15:25:34 pytorch_lightning.utilities.rank_zero INFO: IPU available: False, using: 0 IPUs\n",
      "2022-06-14 15:25:34 pytorch_lightning.utilities.rank_zero INFO: HPU available: False, using: 0 HPUs\n",
      "2022-06-14 15:25:34 pytorch_lightning.callbacks.model_summary INFO: \n",
      "  | Name      | Type       | Params\n",
      "-----------------------------------------\n",
      "0 | criterion | MSELoss    | 0     \n",
      "1 | stacks    | ModuleList | 8.5 M \n",
      "-----------------------------------------\n",
      "8.5 M     Trainable params\n",
      "3.2 K     Non-trainable params\n",
      "8.5 M     Total params\n",
      "67.633    Total estimated model params size (MB)\n"
     ]
    },
    {
     "data": {
      "application/vnd.jupyter.widget-view+json": {
       "model_id": "d759d661d12549e79be7195290be4c42",
       "version_major": 2,
       "version_minor": 0
      },
      "text/plain": [
       "Training: 0it [00:00, ?it/s]"
      ]
     },
     "metadata": {},
     "output_type": "display_data"
    },
    {
     "data": {
      "application/vnd.jupyter.widget-view+json": {
       "model_id": "296d8a4a4f78457b9a5e2355dc5c56cc",
       "version_major": 2,
       "version_minor": 0
      },
      "text/plain": [
       "Predicting: 11it [00:00, ?it/s]"
      ]
     },
     "metadata": {},
     "output_type": "display_data"
    },
    {
     "name": "stderr",
     "output_type": "stream",
     "text": [
      "[2022-06-14 15:25:40,712] INFO | darts.models.forecasting.torch_forecasting_model | Train dataset contains 2683 samples.\n",
      "[2022-06-14 15:25:40,712] INFO | darts.models.forecasting.torch_forecasting_model | Train dataset contains 2683 samples.\n",
      "2022-06-14 15:25:40 darts.models.forecasting.torch_forecasting_model INFO: Train dataset contains 2683 samples.\n",
      "[2022-06-14 15:25:40,741] INFO | darts.models.forecasting.torch_forecasting_model | Time series values are 64-bits; casting model to float64.\n",
      "[2022-06-14 15:25:40,741] INFO | darts.models.forecasting.torch_forecasting_model | Time series values are 64-bits; casting model to float64.\n",
      "2022-06-14 15:25:40 darts.models.forecasting.torch_forecasting_model INFO: Time series values are 64-bits; casting model to float64.\n",
      "2022-06-14 15:25:40 pytorch_lightning.utilities.rank_zero INFO: GPU available: False, used: False\n",
      "2022-06-14 15:25:40 pytorch_lightning.utilities.rank_zero INFO: TPU available: False, using: 0 TPU cores\n",
      "2022-06-14 15:25:40 pytorch_lightning.utilities.rank_zero INFO: IPU available: False, using: 0 IPUs\n",
      "2022-06-14 15:25:40 pytorch_lightning.utilities.rank_zero INFO: HPU available: False, using: 0 HPUs\n",
      "2022-06-14 15:25:40 pytorch_lightning.callbacks.model_summary INFO: \n",
      "  | Name      | Type       | Params\n",
      "-----------------------------------------\n",
      "0 | criterion | MSELoss    | 0     \n",
      "1 | stacks    | ModuleList | 8.5 M \n",
      "-----------------------------------------\n",
      "8.5 M     Trainable params\n",
      "3.2 K     Non-trainable params\n",
      "8.5 M     Total params\n",
      "67.633    Total estimated model params size (MB)\n"
     ]
    },
    {
     "data": {
      "application/vnd.jupyter.widget-view+json": {
       "model_id": "201d55da055c413c906754b1431dd2bf",
       "version_major": 2,
       "version_minor": 0
      },
      "text/plain": [
       "Training: 0it [00:00, ?it/s]"
      ]
     },
     "metadata": {},
     "output_type": "display_data"
    },
    {
     "data": {
      "application/vnd.jupyter.widget-view+json": {
       "model_id": "0c14e004c24e43bb985b56adb6f98ded",
       "version_major": 2,
       "version_minor": 0
      },
      "text/plain": [
       "Predicting: 11it [00:00, ?it/s]"
      ]
     },
     "metadata": {},
     "output_type": "display_data"
    },
    {
     "name": "stderr",
     "output_type": "stream",
     "text": [
      "[2022-06-14 15:25:46,578] INFO | darts.models.forecasting.torch_forecasting_model | Train dataset contains 2683 samples.\n",
      "[2022-06-14 15:25:46,578] INFO | darts.models.forecasting.torch_forecasting_model | Train dataset contains 2683 samples.\n",
      "2022-06-14 15:25:46 darts.models.forecasting.torch_forecasting_model INFO: Train dataset contains 2683 samples.\n",
      "[2022-06-14 15:25:46,607] INFO | darts.models.forecasting.torch_forecasting_model | Time series values are 64-bits; casting model to float64.\n",
      "[2022-06-14 15:25:46,607] INFO | darts.models.forecasting.torch_forecasting_model | Time series values are 64-bits; casting model to float64.\n",
      "2022-06-14 15:25:46 darts.models.forecasting.torch_forecasting_model INFO: Time series values are 64-bits; casting model to float64.\n",
      "2022-06-14 15:25:46 pytorch_lightning.utilities.rank_zero INFO: GPU available: False, used: False\n",
      "2022-06-14 15:25:46 pytorch_lightning.utilities.rank_zero INFO: TPU available: False, using: 0 TPU cores\n",
      "2022-06-14 15:25:46 pytorch_lightning.utilities.rank_zero INFO: IPU available: False, using: 0 IPUs\n",
      "2022-06-14 15:25:46 pytorch_lightning.utilities.rank_zero INFO: HPU available: False, using: 0 HPUs\n",
      "2022-06-14 15:25:46 pytorch_lightning.callbacks.model_summary INFO: \n",
      "  | Name      | Type       | Params\n",
      "-----------------------------------------\n",
      "0 | criterion | MSELoss    | 0     \n",
      "1 | stacks    | ModuleList | 8.5 M \n",
      "-----------------------------------------\n",
      "8.5 M     Trainable params\n",
      "3.2 K     Non-trainable params\n",
      "8.5 M     Total params\n",
      "67.633    Total estimated model params size (MB)\n"
     ]
    },
    {
     "data": {
      "application/vnd.jupyter.widget-view+json": {
       "model_id": "4997ea8971b3462fab821aa331ff6762",
       "version_major": 2,
       "version_minor": 0
      },
      "text/plain": [
       "Training: 0it [00:00, ?it/s]"
      ]
     },
     "metadata": {},
     "output_type": "display_data"
    },
    {
     "data": {
      "application/vnd.jupyter.widget-view+json": {
       "model_id": "51e2439b16df4805b8b3d1107ff450c7",
       "version_major": 2,
       "version_minor": 0
      },
      "text/plain": [
       "Predicting: 11it [00:00, ?it/s]"
      ]
     },
     "metadata": {},
     "output_type": "display_data"
    },
    {
     "name": "stderr",
     "output_type": "stream",
     "text": [
      "[2022-06-14 15:25:52,603] INFO | darts.models.forecasting.torch_forecasting_model | Train dataset contains 2625 samples.\n",
      "[2022-06-14 15:25:52,603] INFO | darts.models.forecasting.torch_forecasting_model | Train dataset contains 2625 samples.\n",
      "2022-06-14 15:25:52 darts.models.forecasting.torch_forecasting_model INFO: Train dataset contains 2625 samples.\n",
      "[2022-06-14 15:25:52,633] INFO | darts.models.forecasting.torch_forecasting_model | Time series values are 64-bits; casting model to float64.\n",
      "[2022-06-14 15:25:52,633] INFO | darts.models.forecasting.torch_forecasting_model | Time series values are 64-bits; casting model to float64.\n",
      "2022-06-14 15:25:52 darts.models.forecasting.torch_forecasting_model INFO: Time series values are 64-bits; casting model to float64.\n",
      "2022-06-14 15:25:52 pytorch_lightning.utilities.rank_zero INFO: GPU available: False, used: False\n",
      "2022-06-14 15:25:52 pytorch_lightning.utilities.rank_zero INFO: TPU available: False, using: 0 TPU cores\n",
      "2022-06-14 15:25:52 pytorch_lightning.utilities.rank_zero INFO: IPU available: False, using: 0 IPUs\n",
      "2022-06-14 15:25:52 pytorch_lightning.utilities.rank_zero INFO: HPU available: False, using: 0 HPUs\n",
      "2022-06-14 15:25:52 pytorch_lightning.callbacks.model_summary INFO: \n",
      "  | Name      | Type       | Params\n",
      "-----------------------------------------\n",
      "0 | criterion | MSELoss    | 0     \n",
      "1 | stacks    | ModuleList | 8.5 M \n",
      "-----------------------------------------\n",
      "8.5 M     Trainable params\n",
      "3.2 K     Non-trainable params\n",
      "8.5 M     Total params\n",
      "67.633    Total estimated model params size (MB)\n"
     ]
    },
    {
     "data": {
      "application/vnd.jupyter.widget-view+json": {
       "model_id": "9eade21c3ca44480a5c26570603c2d01",
       "version_major": 2,
       "version_minor": 0
      },
      "text/plain": [
       "Training: 0it [00:00, ?it/s]"
      ]
     },
     "metadata": {},
     "output_type": "display_data"
    },
    {
     "data": {
      "application/vnd.jupyter.widget-view+json": {
       "model_id": "47c04fb8a306464588fff612aa7f38c6",
       "version_major": 2,
       "version_minor": 0
      },
      "text/plain": [
       "Predicting: 11it [00:00, ?it/s]"
      ]
     },
     "metadata": {},
     "output_type": "display_data"
    },
    {
     "name": "stderr",
     "output_type": "stream",
     "text": [
      "[2022-06-14 15:25:58,540] INFO | darts.models.forecasting.torch_forecasting_model | Train dataset contains 2699 samples.\n",
      "[2022-06-14 15:25:58,540] INFO | darts.models.forecasting.torch_forecasting_model | Train dataset contains 2699 samples.\n",
      "2022-06-14 15:25:58 darts.models.forecasting.torch_forecasting_model INFO: Train dataset contains 2699 samples.\n",
      "[2022-06-14 15:25:58,569] INFO | darts.models.forecasting.torch_forecasting_model | Time series values are 64-bits; casting model to float64.\n",
      "[2022-06-14 15:25:58,569] INFO | darts.models.forecasting.torch_forecasting_model | Time series values are 64-bits; casting model to float64.\n",
      "2022-06-14 15:25:58 darts.models.forecasting.torch_forecasting_model INFO: Time series values are 64-bits; casting model to float64.\n",
      "2022-06-14 15:25:58 pytorch_lightning.utilities.rank_zero INFO: GPU available: False, used: False\n",
      "2022-06-14 15:25:58 pytorch_lightning.utilities.rank_zero INFO: TPU available: False, using: 0 TPU cores\n",
      "2022-06-14 15:25:58 pytorch_lightning.utilities.rank_zero INFO: IPU available: False, using: 0 IPUs\n",
      "2022-06-14 15:25:58 pytorch_lightning.utilities.rank_zero INFO: HPU available: False, using: 0 HPUs\n",
      "2022-06-14 15:25:58 pytorch_lightning.callbacks.model_summary INFO: \n",
      "  | Name      | Type       | Params\n",
      "-----------------------------------------\n",
      "0 | criterion | MSELoss    | 0     \n",
      "1 | stacks    | ModuleList | 8.5 M \n",
      "-----------------------------------------\n",
      "8.5 M     Trainable params\n",
      "3.2 K     Non-trainable params\n",
      "8.5 M     Total params\n",
      "67.633    Total estimated model params size (MB)\n"
     ]
    },
    {
     "data": {
      "application/vnd.jupyter.widget-view+json": {
       "model_id": "2a72c0381e2f46df8791817dea43fe6f",
       "version_major": 2,
       "version_minor": 0
      },
      "text/plain": [
       "Training: 0it [00:00, ?it/s]"
      ]
     },
     "metadata": {},
     "output_type": "display_data"
    },
    {
     "data": {
      "application/vnd.jupyter.widget-view+json": {
       "model_id": "34e18be1855f4b51b7685d448017eb7f",
       "version_major": 2,
       "version_minor": 0
      },
      "text/plain": [
       "Predicting: 11it [00:00, ?it/s]"
      ]
     },
     "metadata": {},
     "output_type": "display_data"
    },
    {
     "name": "stderr",
     "output_type": "stream",
     "text": [
      "[2022-06-14 15:26:04,593] INFO | darts.models.forecasting.torch_forecasting_model | Train dataset contains 2699 samples.\n",
      "[2022-06-14 15:26:04,593] INFO | darts.models.forecasting.torch_forecasting_model | Train dataset contains 2699 samples.\n",
      "2022-06-14 15:26:04 darts.models.forecasting.torch_forecasting_model INFO: Train dataset contains 2699 samples.\n",
      "[2022-06-14 15:26:04,622] INFO | darts.models.forecasting.torch_forecasting_model | Time series values are 64-bits; casting model to float64.\n",
      "[2022-06-14 15:26:04,622] INFO | darts.models.forecasting.torch_forecasting_model | Time series values are 64-bits; casting model to float64.\n",
      "2022-06-14 15:26:04 darts.models.forecasting.torch_forecasting_model INFO: Time series values are 64-bits; casting model to float64.\n",
      "2022-06-14 15:26:04 pytorch_lightning.utilities.rank_zero INFO: GPU available: False, used: False\n",
      "2022-06-14 15:26:04 pytorch_lightning.utilities.rank_zero INFO: TPU available: False, using: 0 TPU cores\n",
      "2022-06-14 15:26:04 pytorch_lightning.utilities.rank_zero INFO: IPU available: False, using: 0 IPUs\n",
      "2022-06-14 15:26:04 pytorch_lightning.utilities.rank_zero INFO: HPU available: False, using: 0 HPUs\n",
      "2022-06-14 15:26:04 pytorch_lightning.callbacks.model_summary INFO: \n",
      "  | Name      | Type       | Params\n",
      "-----------------------------------------\n",
      "0 | criterion | MSELoss    | 0     \n",
      "1 | stacks    | ModuleList | 8.5 M \n",
      "-----------------------------------------\n",
      "8.5 M     Trainable params\n",
      "3.2 K     Non-trainable params\n",
      "8.5 M     Total params\n",
      "67.633    Total estimated model params size (MB)\n"
     ]
    },
    {
     "data": {
      "application/vnd.jupyter.widget-view+json": {
       "model_id": "2691bbcf579d4bddbecab2491613694f",
       "version_major": 2,
       "version_minor": 0
      },
      "text/plain": [
       "Training: 0it [00:00, ?it/s]"
      ]
     },
     "metadata": {},
     "output_type": "display_data"
    },
    {
     "data": {
      "application/vnd.jupyter.widget-view+json": {
       "model_id": "9d37d1b57c1d4bc79f252401be0b923d",
       "version_major": 2,
       "version_minor": 0
      },
      "text/plain": [
       "Predicting: 11it [00:00, ?it/s]"
      ]
     },
     "metadata": {},
     "output_type": "display_data"
    },
    {
     "name": "stderr",
     "output_type": "stream",
     "text": [
      "[2022-06-14 15:26:10,508] INFO | darts.models.forecasting.torch_forecasting_model | Train dataset contains 2699 samples.\n",
      "[2022-06-14 15:26:10,508] INFO | darts.models.forecasting.torch_forecasting_model | Train dataset contains 2699 samples.\n",
      "2022-06-14 15:26:10 darts.models.forecasting.torch_forecasting_model INFO: Train dataset contains 2699 samples.\n",
      "[2022-06-14 15:26:10,537] INFO | darts.models.forecasting.torch_forecasting_model | Time series values are 64-bits; casting model to float64.\n",
      "[2022-06-14 15:26:10,537] INFO | darts.models.forecasting.torch_forecasting_model | Time series values are 64-bits; casting model to float64.\n",
      "2022-06-14 15:26:10 darts.models.forecasting.torch_forecasting_model INFO: Time series values are 64-bits; casting model to float64.\n",
      "2022-06-14 15:26:10 pytorch_lightning.utilities.rank_zero INFO: GPU available: False, used: False\n",
      "2022-06-14 15:26:10 pytorch_lightning.utilities.rank_zero INFO: TPU available: False, using: 0 TPU cores\n",
      "2022-06-14 15:26:10 pytorch_lightning.utilities.rank_zero INFO: IPU available: False, using: 0 IPUs\n",
      "2022-06-14 15:26:10 pytorch_lightning.utilities.rank_zero INFO: HPU available: False, using: 0 HPUs\n",
      "2022-06-14 15:26:10 pytorch_lightning.callbacks.model_summary INFO: \n",
      "  | Name      | Type       | Params\n",
      "-----------------------------------------\n",
      "0 | criterion | MSELoss    | 0     \n",
      "1 | stacks    | ModuleList | 8.5 M \n",
      "-----------------------------------------\n",
      "8.5 M     Trainable params\n",
      "3.2 K     Non-trainable params\n",
      "8.5 M     Total params\n",
      "67.633    Total estimated model params size (MB)\n"
     ]
    },
    {
     "data": {
      "application/vnd.jupyter.widget-view+json": {
       "model_id": "71e1143b42ee494daf3cac1a9443349e",
       "version_major": 2,
       "version_minor": 0
      },
      "text/plain": [
       "Training: 0it [00:00, ?it/s]"
      ]
     },
     "metadata": {},
     "output_type": "display_data"
    },
    {
     "data": {
      "application/vnd.jupyter.widget-view+json": {
       "model_id": "ef74519487514614ac92516f95a96852",
       "version_major": 2,
       "version_minor": 0
      },
      "text/plain": [
       "Predicting: 11it [00:00, ?it/s]"
      ]
     },
     "metadata": {},
     "output_type": "display_data"
    },
    {
     "name": "stderr",
     "output_type": "stream",
     "text": [
      "[2022-06-14 15:26:16,442] INFO | darts.models.forecasting.torch_forecasting_model | Train dataset contains 2699 samples.\n",
      "[2022-06-14 15:26:16,442] INFO | darts.models.forecasting.torch_forecasting_model | Train dataset contains 2699 samples.\n",
      "2022-06-14 15:26:16 darts.models.forecasting.torch_forecasting_model INFO: Train dataset contains 2699 samples.\n",
      "[2022-06-14 15:26:16,471] INFO | darts.models.forecasting.torch_forecasting_model | Time series values are 64-bits; casting model to float64.\n",
      "[2022-06-14 15:26:16,471] INFO | darts.models.forecasting.torch_forecasting_model | Time series values are 64-bits; casting model to float64.\n",
      "2022-06-14 15:26:16 darts.models.forecasting.torch_forecasting_model INFO: Time series values are 64-bits; casting model to float64.\n",
      "2022-06-14 15:26:16 pytorch_lightning.utilities.rank_zero INFO: GPU available: False, used: False\n",
      "2022-06-14 15:26:16 pytorch_lightning.utilities.rank_zero INFO: TPU available: False, using: 0 TPU cores\n",
      "2022-06-14 15:26:16 pytorch_lightning.utilities.rank_zero INFO: IPU available: False, using: 0 IPUs\n",
      "2022-06-14 15:26:16 pytorch_lightning.utilities.rank_zero INFO: HPU available: False, using: 0 HPUs\n",
      "2022-06-14 15:26:16 pytorch_lightning.callbacks.model_summary INFO: \n",
      "  | Name      | Type       | Params\n",
      "-----------------------------------------\n",
      "0 | criterion | MSELoss    | 0     \n",
      "1 | stacks    | ModuleList | 8.5 M \n",
      "-----------------------------------------\n",
      "8.5 M     Trainable params\n",
      "3.2 K     Non-trainable params\n",
      "8.5 M     Total params\n",
      "67.633    Total estimated model params size (MB)\n"
     ]
    },
    {
     "data": {
      "application/vnd.jupyter.widget-view+json": {
       "model_id": "eb1c2a6e7af44d81882a8d4b83eaad84",
       "version_major": 2,
       "version_minor": 0
      },
      "text/plain": [
       "Training: 0it [00:00, ?it/s]"
      ]
     },
     "metadata": {},
     "output_type": "display_data"
    },
    {
     "data": {
      "application/vnd.jupyter.widget-view+json": {
       "model_id": "ee38f9e7b6464bdaaba12d1923bfad6e",
       "version_major": 2,
       "version_minor": 0
      },
      "text/plain": [
       "Predicting: 11it [00:00, ?it/s]"
      ]
     },
     "metadata": {},
     "output_type": "display_data"
    },
    {
     "name": "stderr",
     "output_type": "stream",
     "text": [
      "[2022-06-14 15:26:22,340] INFO | darts.models.forecasting.torch_forecasting_model | Train dataset contains 2699 samples.\n",
      "[2022-06-14 15:26:22,340] INFO | darts.models.forecasting.torch_forecasting_model | Train dataset contains 2699 samples.\n",
      "2022-06-14 15:26:22 darts.models.forecasting.torch_forecasting_model INFO: Train dataset contains 2699 samples.\n",
      "[2022-06-14 15:26:22,385] INFO | darts.models.forecasting.torch_forecasting_model | Time series values are 64-bits; casting model to float64.\n",
      "[2022-06-14 15:26:22,385] INFO | darts.models.forecasting.torch_forecasting_model | Time series values are 64-bits; casting model to float64.\n",
      "2022-06-14 15:26:22 darts.models.forecasting.torch_forecasting_model INFO: Time series values are 64-bits; casting model to float64.\n",
      "2022-06-14 15:26:22 pytorch_lightning.utilities.rank_zero INFO: GPU available: False, used: False\n",
      "2022-06-14 15:26:22 pytorch_lightning.utilities.rank_zero INFO: TPU available: False, using: 0 TPU cores\n",
      "2022-06-14 15:26:22 pytorch_lightning.utilities.rank_zero INFO: IPU available: False, using: 0 IPUs\n",
      "2022-06-14 15:26:22 pytorch_lightning.utilities.rank_zero INFO: HPU available: False, using: 0 HPUs\n",
      "2022-06-14 15:26:22 pytorch_lightning.callbacks.model_summary INFO: \n",
      "  | Name      | Type       | Params\n",
      "-----------------------------------------\n",
      "0 | criterion | MSELoss    | 0     \n",
      "1 | stacks    | ModuleList | 8.5 M \n",
      "-----------------------------------------\n",
      "8.5 M     Trainable params\n",
      "3.2 K     Non-trainable params\n",
      "8.5 M     Total params\n",
      "67.633    Total estimated model params size (MB)\n"
     ]
    },
    {
     "data": {
      "application/vnd.jupyter.widget-view+json": {
       "model_id": "ddb5f08a9548400dac7e54a539f06bdd",
       "version_major": 2,
       "version_minor": 0
      },
      "text/plain": [
       "Training: 0it [00:00, ?it/s]"
      ]
     },
     "metadata": {},
     "output_type": "display_data"
    },
    {
     "data": {
      "application/vnd.jupyter.widget-view+json": {
       "model_id": "bcf2ae94747e46efa0802bdc5be3ce12",
       "version_major": 2,
       "version_minor": 0
      },
      "text/plain": [
       "Predicting: 11it [00:00, ?it/s]"
      ]
     },
     "metadata": {},
     "output_type": "display_data"
    },
    {
     "name": "stderr",
     "output_type": "stream",
     "text": [
      "[2022-06-14 15:26:28,326] INFO | darts.models.forecasting.torch_forecasting_model | Train dataset contains 2680 samples.\n",
      "[2022-06-14 15:26:28,326] INFO | darts.models.forecasting.torch_forecasting_model | Train dataset contains 2680 samples.\n",
      "2022-06-14 15:26:28 darts.models.forecasting.torch_forecasting_model INFO: Train dataset contains 2680 samples.\n",
      "[2022-06-14 15:26:28,355] INFO | darts.models.forecasting.torch_forecasting_model | Time series values are 64-bits; casting model to float64.\n",
      "[2022-06-14 15:26:28,355] INFO | darts.models.forecasting.torch_forecasting_model | Time series values are 64-bits; casting model to float64.\n",
      "2022-06-14 15:26:28 darts.models.forecasting.torch_forecasting_model INFO: Time series values are 64-bits; casting model to float64.\n",
      "2022-06-14 15:26:28 pytorch_lightning.utilities.rank_zero INFO: GPU available: False, used: False\n",
      "2022-06-14 15:26:28 pytorch_lightning.utilities.rank_zero INFO: TPU available: False, using: 0 TPU cores\n",
      "2022-06-14 15:26:28 pytorch_lightning.utilities.rank_zero INFO: IPU available: False, using: 0 IPUs\n",
      "2022-06-14 15:26:28 pytorch_lightning.utilities.rank_zero INFO: HPU available: False, using: 0 HPUs\n",
      "2022-06-14 15:26:28 pytorch_lightning.callbacks.model_summary INFO: \n",
      "  | Name      | Type       | Params\n",
      "-----------------------------------------\n",
      "0 | criterion | MSELoss    | 0     \n",
      "1 | stacks    | ModuleList | 8.5 M \n",
      "-----------------------------------------\n",
      "8.5 M     Trainable params\n",
      "3.2 K     Non-trainable params\n",
      "8.5 M     Total params\n",
      "67.633    Total estimated model params size (MB)\n"
     ]
    },
    {
     "data": {
      "application/vnd.jupyter.widget-view+json": {
       "model_id": "19265c9eec464699b9b9e48dfd579bca",
       "version_major": 2,
       "version_minor": 0
      },
      "text/plain": [
       "Training: 0it [00:00, ?it/s]"
      ]
     },
     "metadata": {},
     "output_type": "display_data"
    },
    {
     "data": {
      "application/vnd.jupyter.widget-view+json": {
       "model_id": "973ad8897dd04124a1528f3cfd25ed06",
       "version_major": 2,
       "version_minor": 0
      },
      "text/plain": [
       "Predicting: 11it [00:00, ?it/s]"
      ]
     },
     "metadata": {},
     "output_type": "display_data"
    },
    {
     "name": "stderr",
     "output_type": "stream",
     "text": [
      "[2022-06-14 15:26:34,260] INFO | darts.models.forecasting.torch_forecasting_model | Train dataset contains 2690 samples.\n",
      "[2022-06-14 15:26:34,260] INFO | darts.models.forecasting.torch_forecasting_model | Train dataset contains 2690 samples.\n",
      "2022-06-14 15:26:34 darts.models.forecasting.torch_forecasting_model INFO: Train dataset contains 2690 samples.\n",
      "[2022-06-14 15:26:34,290] INFO | darts.models.forecasting.torch_forecasting_model | Time series values are 64-bits; casting model to float64.\n",
      "[2022-06-14 15:26:34,290] INFO | darts.models.forecasting.torch_forecasting_model | Time series values are 64-bits; casting model to float64.\n",
      "2022-06-14 15:26:34 darts.models.forecasting.torch_forecasting_model INFO: Time series values are 64-bits; casting model to float64.\n",
      "2022-06-14 15:26:34 pytorch_lightning.utilities.rank_zero INFO: GPU available: False, used: False\n",
      "2022-06-14 15:26:34 pytorch_lightning.utilities.rank_zero INFO: TPU available: False, using: 0 TPU cores\n",
      "2022-06-14 15:26:34 pytorch_lightning.utilities.rank_zero INFO: IPU available: False, using: 0 IPUs\n",
      "2022-06-14 15:26:34 pytorch_lightning.utilities.rank_zero INFO: HPU available: False, using: 0 HPUs\n",
      "2022-06-14 15:26:34 pytorch_lightning.callbacks.model_summary INFO: \n",
      "  | Name      | Type       | Params\n",
      "-----------------------------------------\n",
      "0 | criterion | MSELoss    | 0     \n",
      "1 | stacks    | ModuleList | 8.5 M \n",
      "-----------------------------------------\n",
      "8.5 M     Trainable params\n",
      "3.2 K     Non-trainable params\n",
      "8.5 M     Total params\n",
      "67.633    Total estimated model params size (MB)\n"
     ]
    },
    {
     "data": {
      "application/vnd.jupyter.widget-view+json": {
       "model_id": "98f05cf751394ea9aea74fb9c32f3360",
       "version_major": 2,
       "version_minor": 0
      },
      "text/plain": [
       "Training: 0it [00:00, ?it/s]"
      ]
     },
     "metadata": {},
     "output_type": "display_data"
    },
    {
     "data": {
      "application/vnd.jupyter.widget-view+json": {
       "model_id": "e9415ce2fb9741d297db3c968878c5d3",
       "version_major": 2,
       "version_minor": 0
      },
      "text/plain": [
       "Predicting: 11it [00:00, ?it/s]"
      ]
     },
     "metadata": {},
     "output_type": "display_data"
    },
    {
     "name": "stderr",
     "output_type": "stream",
     "text": [
      "[2022-06-14 15:26:40,276] INFO | darts.models.forecasting.torch_forecasting_model | Train dataset contains 2690 samples.\n",
      "[2022-06-14 15:26:40,276] INFO | darts.models.forecasting.torch_forecasting_model | Train dataset contains 2690 samples.\n",
      "2022-06-14 15:26:40 darts.models.forecasting.torch_forecasting_model INFO: Train dataset contains 2690 samples.\n",
      "[2022-06-14 15:26:40,306] INFO | darts.models.forecasting.torch_forecasting_model | Time series values are 64-bits; casting model to float64.\n",
      "[2022-06-14 15:26:40,306] INFO | darts.models.forecasting.torch_forecasting_model | Time series values are 64-bits; casting model to float64.\n",
      "2022-06-14 15:26:40 darts.models.forecasting.torch_forecasting_model INFO: Time series values are 64-bits; casting model to float64.\n",
      "2022-06-14 15:26:40 pytorch_lightning.utilities.rank_zero INFO: GPU available: False, used: False\n",
      "2022-06-14 15:26:40 pytorch_lightning.utilities.rank_zero INFO: TPU available: False, using: 0 TPU cores\n",
      "2022-06-14 15:26:40 pytorch_lightning.utilities.rank_zero INFO: IPU available: False, using: 0 IPUs\n",
      "2022-06-14 15:26:40 pytorch_lightning.utilities.rank_zero INFO: HPU available: False, using: 0 HPUs\n",
      "2022-06-14 15:26:40 pytorch_lightning.callbacks.model_summary INFO: \n",
      "  | Name      | Type       | Params\n",
      "-----------------------------------------\n",
      "0 | criterion | MSELoss    | 0     \n",
      "1 | stacks    | ModuleList | 8.5 M \n",
      "-----------------------------------------\n",
      "8.5 M     Trainable params\n",
      "3.2 K     Non-trainable params\n",
      "8.5 M     Total params\n",
      "67.633    Total estimated model params size (MB)\n"
     ]
    },
    {
     "data": {
      "application/vnd.jupyter.widget-view+json": {
       "model_id": "ccf621137f95459599e7a8f069d87b8f",
       "version_major": 2,
       "version_minor": 0
      },
      "text/plain": [
       "Training: 0it [00:00, ?it/s]"
      ]
     },
     "metadata": {},
     "output_type": "display_data"
    },
    {
     "data": {
      "application/vnd.jupyter.widget-view+json": {
       "model_id": "f31f67ad32614e9daf8eb92e5c3d01af",
       "version_major": 2,
       "version_minor": 0
      },
      "text/plain": [
       "Predicting: 11it [00:00, ?it/s]"
      ]
     },
     "metadata": {},
     "output_type": "display_data"
    },
    {
     "name": "stderr",
     "output_type": "stream",
     "text": [
      "[2022-06-14 15:26:46,227] INFO | darts.models.forecasting.torch_forecasting_model | Train dataset contains 2690 samples.\n",
      "[2022-06-14 15:26:46,227] INFO | darts.models.forecasting.torch_forecasting_model | Train dataset contains 2690 samples.\n",
      "2022-06-14 15:26:46 darts.models.forecasting.torch_forecasting_model INFO: Train dataset contains 2690 samples.\n",
      "[2022-06-14 15:26:46,256] INFO | darts.models.forecasting.torch_forecasting_model | Time series values are 64-bits; casting model to float64.\n",
      "[2022-06-14 15:26:46,256] INFO | darts.models.forecasting.torch_forecasting_model | Time series values are 64-bits; casting model to float64.\n",
      "2022-06-14 15:26:46 darts.models.forecasting.torch_forecasting_model INFO: Time series values are 64-bits; casting model to float64.\n",
      "2022-06-14 15:26:46 pytorch_lightning.utilities.rank_zero INFO: GPU available: False, used: False\n",
      "2022-06-14 15:26:46 pytorch_lightning.utilities.rank_zero INFO: TPU available: False, using: 0 TPU cores\n",
      "2022-06-14 15:26:46 pytorch_lightning.utilities.rank_zero INFO: IPU available: False, using: 0 IPUs\n",
      "2022-06-14 15:26:46 pytorch_lightning.utilities.rank_zero INFO: HPU available: False, using: 0 HPUs\n",
      "2022-06-14 15:26:46 pytorch_lightning.callbacks.model_summary INFO: \n",
      "  | Name      | Type       | Params\n",
      "-----------------------------------------\n",
      "0 | criterion | MSELoss    | 0     \n",
      "1 | stacks    | ModuleList | 8.5 M \n",
      "-----------------------------------------\n",
      "8.5 M     Trainable params\n",
      "3.2 K     Non-trainable params\n",
      "8.5 M     Total params\n",
      "67.633    Total estimated model params size (MB)\n"
     ]
    },
    {
     "data": {
      "application/vnd.jupyter.widget-view+json": {
       "model_id": "aa8e726a32984cbca9cf860bad3ede98",
       "version_major": 2,
       "version_minor": 0
      },
      "text/plain": [
       "Training: 0it [00:00, ?it/s]"
      ]
     },
     "metadata": {},
     "output_type": "display_data"
    },
    {
     "data": {
      "application/vnd.jupyter.widget-view+json": {
       "model_id": "0a7c5451577a4112a5c14d6897c71845",
       "version_major": 2,
       "version_minor": 0
      },
      "text/plain": [
       "Predicting: 11it [00:00, ?it/s]"
      ]
     },
     "metadata": {},
     "output_type": "display_data"
    },
    {
     "name": "stderr",
     "output_type": "stream",
     "text": [
      "[2022-06-14 15:26:52,092] INFO | darts.models.forecasting.torch_forecasting_model | Train dataset contains 2690 samples.\n",
      "[2022-06-14 15:26:52,092] INFO | darts.models.forecasting.torch_forecasting_model | Train dataset contains 2690 samples.\n",
      "2022-06-14 15:26:52 darts.models.forecasting.torch_forecasting_model INFO: Train dataset contains 2690 samples.\n",
      "[2022-06-14 15:26:52,122] INFO | darts.models.forecasting.torch_forecasting_model | Time series values are 64-bits; casting model to float64.\n",
      "[2022-06-14 15:26:52,122] INFO | darts.models.forecasting.torch_forecasting_model | Time series values are 64-bits; casting model to float64.\n",
      "2022-06-14 15:26:52 darts.models.forecasting.torch_forecasting_model INFO: Time series values are 64-bits; casting model to float64.\n",
      "2022-06-14 15:26:52 pytorch_lightning.utilities.rank_zero INFO: GPU available: False, used: False\n",
      "2022-06-14 15:26:52 pytorch_lightning.utilities.rank_zero INFO: TPU available: False, using: 0 TPU cores\n",
      "2022-06-14 15:26:52 pytorch_lightning.utilities.rank_zero INFO: IPU available: False, using: 0 IPUs\n",
      "2022-06-14 15:26:52 pytorch_lightning.utilities.rank_zero INFO: HPU available: False, using: 0 HPUs\n",
      "2022-06-14 15:26:52 pytorch_lightning.callbacks.model_summary INFO: \n",
      "  | Name      | Type       | Params\n",
      "-----------------------------------------\n",
      "0 | criterion | MSELoss    | 0     \n",
      "1 | stacks    | ModuleList | 8.5 M \n",
      "-----------------------------------------\n",
      "8.5 M     Trainable params\n",
      "3.2 K     Non-trainable params\n",
      "8.5 M     Total params\n",
      "67.633    Total estimated model params size (MB)\n"
     ]
    },
    {
     "data": {
      "application/vnd.jupyter.widget-view+json": {
       "model_id": "1eff8bb48a804fe7a15c0e36a8c3e6ee",
       "version_major": 2,
       "version_minor": 0
      },
      "text/plain": [
       "Training: 0it [00:00, ?it/s]"
      ]
     },
     "metadata": {},
     "output_type": "display_data"
    },
    {
     "data": {
      "application/vnd.jupyter.widget-view+json": {
       "model_id": "c1ef75edc9f940d981920fe47d3ccc2e",
       "version_major": 2,
       "version_minor": 0
      },
      "text/plain": [
       "Predicting: 11it [00:00, ?it/s]"
      ]
     },
     "metadata": {},
     "output_type": "display_data"
    },
    {
     "name": "stderr",
     "output_type": "stream",
     "text": [
      "[2022-06-14 15:26:58,089] INFO | darts.models.forecasting.torch_forecasting_model | Train dataset contains 2690 samples.\n",
      "[2022-06-14 15:26:58,089] INFO | darts.models.forecasting.torch_forecasting_model | Train dataset contains 2690 samples.\n",
      "2022-06-14 15:26:58 darts.models.forecasting.torch_forecasting_model INFO: Train dataset contains 2690 samples.\n",
      "[2022-06-14 15:26:58,119] INFO | darts.models.forecasting.torch_forecasting_model | Time series values are 64-bits; casting model to float64.\n",
      "[2022-06-14 15:26:58,119] INFO | darts.models.forecasting.torch_forecasting_model | Time series values are 64-bits; casting model to float64.\n",
      "2022-06-14 15:26:58 darts.models.forecasting.torch_forecasting_model INFO: Time series values are 64-bits; casting model to float64.\n",
      "2022-06-14 15:26:58 pytorch_lightning.utilities.rank_zero INFO: GPU available: False, used: False\n",
      "2022-06-14 15:26:58 pytorch_lightning.utilities.rank_zero INFO: TPU available: False, using: 0 TPU cores\n",
      "2022-06-14 15:26:58 pytorch_lightning.utilities.rank_zero INFO: IPU available: False, using: 0 IPUs\n",
      "2022-06-14 15:26:58 pytorch_lightning.utilities.rank_zero INFO: HPU available: False, using: 0 HPUs\n",
      "2022-06-14 15:26:58 pytorch_lightning.callbacks.model_summary INFO: \n",
      "  | Name      | Type       | Params\n",
      "-----------------------------------------\n",
      "0 | criterion | MSELoss    | 0     \n",
      "1 | stacks    | ModuleList | 8.5 M \n",
      "-----------------------------------------\n",
      "8.5 M     Trainable params\n",
      "3.2 K     Non-trainable params\n",
      "8.5 M     Total params\n",
      "67.633    Total estimated model params size (MB)\n"
     ]
    },
    {
     "data": {
      "application/vnd.jupyter.widget-view+json": {
       "model_id": "ba6a27ee1362422f840d441bbe76fa8a",
       "version_major": 2,
       "version_minor": 0
      },
      "text/plain": [
       "Training: 0it [00:00, ?it/s]"
      ]
     },
     "metadata": {},
     "output_type": "display_data"
    },
    {
     "data": {
      "application/vnd.jupyter.widget-view+json": {
       "model_id": "5643e29add594b69ae562844774a45bf",
       "version_major": 2,
       "version_minor": 0
      },
      "text/plain": [
       "Predicting: 11it [00:00, ?it/s]"
      ]
     },
     "metadata": {},
     "output_type": "display_data"
    },
    {
     "name": "stderr",
     "output_type": "stream",
     "text": [
      "[2022-06-14 15:27:04,004] INFO | darts.models.forecasting.torch_forecasting_model | Train dataset contains 2611 samples.\n",
      "[2022-06-14 15:27:04,004] INFO | darts.models.forecasting.torch_forecasting_model | Train dataset contains 2611 samples.\n",
      "2022-06-14 15:27:04 darts.models.forecasting.torch_forecasting_model INFO: Train dataset contains 2611 samples.\n",
      "[2022-06-14 15:27:04,032] INFO | darts.models.forecasting.torch_forecasting_model | Time series values are 64-bits; casting model to float64.\n",
      "[2022-06-14 15:27:04,032] INFO | darts.models.forecasting.torch_forecasting_model | Time series values are 64-bits; casting model to float64.\n",
      "2022-06-14 15:27:04 darts.models.forecasting.torch_forecasting_model INFO: Time series values are 64-bits; casting model to float64.\n",
      "2022-06-14 15:27:04 pytorch_lightning.utilities.rank_zero INFO: GPU available: False, used: False\n",
      "2022-06-14 15:27:04 pytorch_lightning.utilities.rank_zero INFO: TPU available: False, using: 0 TPU cores\n",
      "2022-06-14 15:27:04 pytorch_lightning.utilities.rank_zero INFO: IPU available: False, using: 0 IPUs\n",
      "2022-06-14 15:27:04 pytorch_lightning.utilities.rank_zero INFO: HPU available: False, using: 0 HPUs\n",
      "2022-06-14 15:27:04 pytorch_lightning.callbacks.model_summary INFO: \n",
      "  | Name      | Type       | Params\n",
      "-----------------------------------------\n",
      "0 | criterion | MSELoss    | 0     \n",
      "1 | stacks    | ModuleList | 8.5 M \n",
      "-----------------------------------------\n",
      "8.5 M     Trainable params\n",
      "3.2 K     Non-trainable params\n",
      "8.5 M     Total params\n",
      "67.633    Total estimated model params size (MB)\n"
     ]
    },
    {
     "data": {
      "application/vnd.jupyter.widget-view+json": {
       "model_id": "f834ec44fc564288803c14bdb1837000",
       "version_major": 2,
       "version_minor": 0
      },
      "text/plain": [
       "Training: 0it [00:00, ?it/s]"
      ]
     },
     "metadata": {},
     "output_type": "display_data"
    },
    {
     "data": {
      "application/vnd.jupyter.widget-view+json": {
       "model_id": "9b636f17bdc24a5a91f445c39bb699b0",
       "version_major": 2,
       "version_minor": 0
      },
      "text/plain": [
       "Predicting: 11it [00:00, ?it/s]"
      ]
     },
     "metadata": {},
     "output_type": "display_data"
    },
    {
     "name": "stderr",
     "output_type": "stream",
     "text": [
      "[2022-06-14 15:27:09,843] INFO | darts.models.forecasting.torch_forecasting_model | Train dataset contains 2720 samples.\n",
      "[2022-06-14 15:27:09,843] INFO | darts.models.forecasting.torch_forecasting_model | Train dataset contains 2720 samples.\n",
      "2022-06-14 15:27:09 darts.models.forecasting.torch_forecasting_model INFO: Train dataset contains 2720 samples.\n",
      "[2022-06-14 15:27:09,873] INFO | darts.models.forecasting.torch_forecasting_model | Time series values are 64-bits; casting model to float64.\n",
      "[2022-06-14 15:27:09,873] INFO | darts.models.forecasting.torch_forecasting_model | Time series values are 64-bits; casting model to float64.\n",
      "2022-06-14 15:27:09 darts.models.forecasting.torch_forecasting_model INFO: Time series values are 64-bits; casting model to float64.\n",
      "2022-06-14 15:27:09 pytorch_lightning.utilities.rank_zero INFO: GPU available: False, used: False\n",
      "2022-06-14 15:27:09 pytorch_lightning.utilities.rank_zero INFO: TPU available: False, using: 0 TPU cores\n",
      "2022-06-14 15:27:09 pytorch_lightning.utilities.rank_zero INFO: IPU available: False, using: 0 IPUs\n",
      "2022-06-14 15:27:09 pytorch_lightning.utilities.rank_zero INFO: HPU available: False, using: 0 HPUs\n",
      "2022-06-14 15:27:09 pytorch_lightning.callbacks.model_summary INFO: \n",
      "  | Name      | Type       | Params\n",
      "-----------------------------------------\n",
      "0 | criterion | MSELoss    | 0     \n",
      "1 | stacks    | ModuleList | 8.5 M \n",
      "-----------------------------------------\n",
      "8.5 M     Trainable params\n",
      "3.2 K     Non-trainable params\n",
      "8.5 M     Total params\n",
      "67.633    Total estimated model params size (MB)\n"
     ]
    },
    {
     "data": {
      "application/vnd.jupyter.widget-view+json": {
       "model_id": "f5a351d8709a43d59491d214bd79175e",
       "version_major": 2,
       "version_minor": 0
      },
      "text/plain": [
       "Training: 0it [00:00, ?it/s]"
      ]
     },
     "metadata": {},
     "output_type": "display_data"
    },
    {
     "data": {
      "application/vnd.jupyter.widget-view+json": {
       "model_id": "bef9bd5d2af84d788ec9c5ee2e9a6a1d",
       "version_major": 2,
       "version_minor": 0
      },
      "text/plain": [
       "Predicting: 11it [00:00, ?it/s]"
      ]
     },
     "metadata": {},
     "output_type": "display_data"
    },
    {
     "name": "stderr",
     "output_type": "stream",
     "text": [
      "[2022-06-14 15:27:15,799] INFO | darts.models.forecasting.torch_forecasting_model | Train dataset contains 2713 samples.\n",
      "[2022-06-14 15:27:15,799] INFO | darts.models.forecasting.torch_forecasting_model | Train dataset contains 2713 samples.\n",
      "2022-06-14 15:27:15 darts.models.forecasting.torch_forecasting_model INFO: Train dataset contains 2713 samples.\n",
      "[2022-06-14 15:27:15,847] INFO | darts.models.forecasting.torch_forecasting_model | Time series values are 64-bits; casting model to float64.\n",
      "[2022-06-14 15:27:15,847] INFO | darts.models.forecasting.torch_forecasting_model | Time series values are 64-bits; casting model to float64.\n",
      "2022-06-14 15:27:15 darts.models.forecasting.torch_forecasting_model INFO: Time series values are 64-bits; casting model to float64.\n",
      "2022-06-14 15:27:15 pytorch_lightning.utilities.rank_zero INFO: GPU available: False, used: False\n",
      "2022-06-14 15:27:15 pytorch_lightning.utilities.rank_zero INFO: TPU available: False, using: 0 TPU cores\n",
      "2022-06-14 15:27:15 pytorch_lightning.utilities.rank_zero INFO: IPU available: False, using: 0 IPUs\n",
      "2022-06-14 15:27:15 pytorch_lightning.utilities.rank_zero INFO: HPU available: False, using: 0 HPUs\n",
      "2022-06-14 15:27:15 pytorch_lightning.callbacks.model_summary INFO: \n",
      "  | Name      | Type       | Params\n",
      "-----------------------------------------\n",
      "0 | criterion | MSELoss    | 0     \n",
      "1 | stacks    | ModuleList | 8.5 M \n",
      "-----------------------------------------\n",
      "8.5 M     Trainable params\n",
      "3.2 K     Non-trainable params\n",
      "8.5 M     Total params\n",
      "67.633    Total estimated model params size (MB)\n"
     ]
    },
    {
     "data": {
      "application/vnd.jupyter.widget-view+json": {
       "model_id": "bc52c5a696964e2e9539c2b5b492bf99",
       "version_major": 2,
       "version_minor": 0
      },
      "text/plain": [
       "Training: 0it [00:00, ?it/s]"
      ]
     },
     "metadata": {},
     "output_type": "display_data"
    },
    {
     "data": {
      "application/vnd.jupyter.widget-view+json": {
       "model_id": "9dd4fe515ed54e3cb16202a6e8eb8c71",
       "version_major": 2,
       "version_minor": 0
      },
      "text/plain": [
       "Predicting: 11it [00:00, ?it/s]"
      ]
     },
     "metadata": {},
     "output_type": "display_data"
    },
    {
     "name": "stderr",
     "output_type": "stream",
     "text": [
      "[2022-06-14 15:27:21,793] INFO | darts.models.forecasting.torch_forecasting_model | Train dataset contains 2720 samples.\n",
      "[2022-06-14 15:27:21,793] INFO | darts.models.forecasting.torch_forecasting_model | Train dataset contains 2720 samples.\n",
      "2022-06-14 15:27:21 darts.models.forecasting.torch_forecasting_model INFO: Train dataset contains 2720 samples.\n",
      "[2022-06-14 15:27:21,840] INFO | darts.models.forecasting.torch_forecasting_model | Time series values are 64-bits; casting model to float64.\n",
      "[2022-06-14 15:27:21,840] INFO | darts.models.forecasting.torch_forecasting_model | Time series values are 64-bits; casting model to float64.\n",
      "2022-06-14 15:27:21 darts.models.forecasting.torch_forecasting_model INFO: Time series values are 64-bits; casting model to float64.\n",
      "2022-06-14 15:27:21 pytorch_lightning.utilities.rank_zero INFO: GPU available: False, used: False\n",
      "2022-06-14 15:27:21 pytorch_lightning.utilities.rank_zero INFO: TPU available: False, using: 0 TPU cores\n",
      "2022-06-14 15:27:21 pytorch_lightning.utilities.rank_zero INFO: IPU available: False, using: 0 IPUs\n",
      "2022-06-14 15:27:21 pytorch_lightning.utilities.rank_zero INFO: HPU available: False, using: 0 HPUs\n",
      "2022-06-14 15:27:21 pytorch_lightning.callbacks.model_summary INFO: \n",
      "  | Name      | Type       | Params\n",
      "-----------------------------------------\n",
      "0 | criterion | MSELoss    | 0     \n",
      "1 | stacks    | ModuleList | 8.5 M \n",
      "-----------------------------------------\n",
      "8.5 M     Trainable params\n",
      "3.2 K     Non-trainable params\n",
      "8.5 M     Total params\n",
      "67.633    Total estimated model params size (MB)\n"
     ]
    },
    {
     "data": {
      "application/vnd.jupyter.widget-view+json": {
       "model_id": "bd5bc65722414eecadf45cea2c694206",
       "version_major": 2,
       "version_minor": 0
      },
      "text/plain": [
       "Training: 0it [00:00, ?it/s]"
      ]
     },
     "metadata": {},
     "output_type": "display_data"
    },
    {
     "data": {
      "application/vnd.jupyter.widget-view+json": {
       "model_id": "e01417e60ead4592890bdb72db232fb6",
       "version_major": 2,
       "version_minor": 0
      },
      "text/plain": [
       "Predicting: 11it [00:00, ?it/s]"
      ]
     },
     "metadata": {},
     "output_type": "display_data"
    },
    {
     "name": "stderr",
     "output_type": "stream",
     "text": [
      "[2022-06-14 15:27:27,722] INFO | darts.models.forecasting.torch_forecasting_model | Train dataset contains 2714 samples.\n",
      "[2022-06-14 15:27:27,722] INFO | darts.models.forecasting.torch_forecasting_model | Train dataset contains 2714 samples.\n",
      "2022-06-14 15:27:27 darts.models.forecasting.torch_forecasting_model INFO: Train dataset contains 2714 samples.\n",
      "[2022-06-14 15:27:27,752] INFO | darts.models.forecasting.torch_forecasting_model | Time series values are 64-bits; casting model to float64.\n",
      "[2022-06-14 15:27:27,752] INFO | darts.models.forecasting.torch_forecasting_model | Time series values are 64-bits; casting model to float64.\n",
      "2022-06-14 15:27:27 darts.models.forecasting.torch_forecasting_model INFO: Time series values are 64-bits; casting model to float64.\n",
      "2022-06-14 15:27:27 pytorch_lightning.utilities.rank_zero INFO: GPU available: False, used: False\n",
      "2022-06-14 15:27:27 pytorch_lightning.utilities.rank_zero INFO: TPU available: False, using: 0 TPU cores\n",
      "2022-06-14 15:27:27 pytorch_lightning.utilities.rank_zero INFO: IPU available: False, using: 0 IPUs\n",
      "2022-06-14 15:27:27 pytorch_lightning.utilities.rank_zero INFO: HPU available: False, using: 0 HPUs\n",
      "2022-06-14 15:27:27 pytorch_lightning.callbacks.model_summary INFO: \n",
      "  | Name      | Type       | Params\n",
      "-----------------------------------------\n",
      "0 | criterion | MSELoss    | 0     \n",
      "1 | stacks    | ModuleList | 8.5 M \n",
      "-----------------------------------------\n",
      "8.5 M     Trainable params\n",
      "3.2 K     Non-trainable params\n",
      "8.5 M     Total params\n",
      "67.633    Total estimated model params size (MB)\n"
     ]
    },
    {
     "data": {
      "application/vnd.jupyter.widget-view+json": {
       "model_id": "77c04f9ece214f4f9b61657e7fea16e7",
       "version_major": 2,
       "version_minor": 0
      },
      "text/plain": [
       "Training: 0it [00:00, ?it/s]"
      ]
     },
     "metadata": {},
     "output_type": "display_data"
    },
    {
     "data": {
      "application/vnd.jupyter.widget-view+json": {
       "model_id": "923d5385757a481794ae360c3c6824b7",
       "version_major": 2,
       "version_minor": 0
      },
      "text/plain": [
       "Predicting: 11it [00:00, ?it/s]"
      ]
     },
     "metadata": {},
     "output_type": "display_data"
    },
    {
     "name": "stderr",
     "output_type": "stream",
     "text": [
      "[2022-06-14 15:27:33,714] INFO | darts.models.forecasting.torch_forecasting_model | Train dataset contains 2714 samples.\n",
      "[2022-06-14 15:27:33,714] INFO | darts.models.forecasting.torch_forecasting_model | Train dataset contains 2714 samples.\n",
      "2022-06-14 15:27:33 darts.models.forecasting.torch_forecasting_model INFO: Train dataset contains 2714 samples.\n",
      "[2022-06-14 15:27:33,746] INFO | darts.models.forecasting.torch_forecasting_model | Time series values are 64-bits; casting model to float64.\n",
      "[2022-06-14 15:27:33,746] INFO | darts.models.forecasting.torch_forecasting_model | Time series values are 64-bits; casting model to float64.\n",
      "2022-06-14 15:27:33 darts.models.forecasting.torch_forecasting_model INFO: Time series values are 64-bits; casting model to float64.\n",
      "2022-06-14 15:27:33 pytorch_lightning.utilities.rank_zero INFO: GPU available: False, used: False\n",
      "2022-06-14 15:27:33 pytorch_lightning.utilities.rank_zero INFO: TPU available: False, using: 0 TPU cores\n",
      "2022-06-14 15:27:33 pytorch_lightning.utilities.rank_zero INFO: IPU available: False, using: 0 IPUs\n",
      "2022-06-14 15:27:33 pytorch_lightning.utilities.rank_zero INFO: HPU available: False, using: 0 HPUs\n",
      "2022-06-14 15:27:33 pytorch_lightning.callbacks.model_summary INFO: \n",
      "  | Name      | Type       | Params\n",
      "-----------------------------------------\n",
      "0 | criterion | MSELoss    | 0     \n",
      "1 | stacks    | ModuleList | 8.5 M \n",
      "-----------------------------------------\n",
      "8.5 M     Trainable params\n",
      "3.2 K     Non-trainable params\n",
      "8.5 M     Total params\n",
      "67.633    Total estimated model params size (MB)\n"
     ]
    },
    {
     "data": {
      "application/vnd.jupyter.widget-view+json": {
       "model_id": "82cacd4763ae45b489c69d8fefed48cf",
       "version_major": 2,
       "version_minor": 0
      },
      "text/plain": [
       "Training: 0it [00:00, ?it/s]"
      ]
     },
     "metadata": {},
     "output_type": "display_data"
    },
    {
     "data": {
      "application/vnd.jupyter.widget-view+json": {
       "model_id": "6b0377e2dbb64eefa5ee8927c570ab27",
       "version_major": 2,
       "version_minor": 0
      },
      "text/plain": [
       "Predicting: 11it [00:00, ?it/s]"
      ]
     },
     "metadata": {},
     "output_type": "display_data"
    },
    {
     "name": "stderr",
     "output_type": "stream",
     "text": [
      "[2022-06-14 15:27:39,667] INFO | darts.models.forecasting.torch_forecasting_model | Train dataset contains 2662 samples.\n",
      "[2022-06-14 15:27:39,667] INFO | darts.models.forecasting.torch_forecasting_model | Train dataset contains 2662 samples.\n",
      "2022-06-14 15:27:39 darts.models.forecasting.torch_forecasting_model INFO: Train dataset contains 2662 samples.\n",
      "[2022-06-14 15:27:39,697] INFO | darts.models.forecasting.torch_forecasting_model | Time series values are 64-bits; casting model to float64.\n",
      "[2022-06-14 15:27:39,697] INFO | darts.models.forecasting.torch_forecasting_model | Time series values are 64-bits; casting model to float64.\n",
      "2022-06-14 15:27:39 darts.models.forecasting.torch_forecasting_model INFO: Time series values are 64-bits; casting model to float64.\n",
      "2022-06-14 15:27:39 pytorch_lightning.utilities.rank_zero INFO: GPU available: False, used: False\n",
      "2022-06-14 15:27:39 pytorch_lightning.utilities.rank_zero INFO: TPU available: False, using: 0 TPU cores\n",
      "2022-06-14 15:27:39 pytorch_lightning.utilities.rank_zero INFO: IPU available: False, using: 0 IPUs\n",
      "2022-06-14 15:27:39 pytorch_lightning.utilities.rank_zero INFO: HPU available: False, using: 0 HPUs\n",
      "2022-06-14 15:27:39 pytorch_lightning.callbacks.model_summary INFO: \n",
      "  | Name      | Type       | Params\n",
      "-----------------------------------------\n",
      "0 | criterion | MSELoss    | 0     \n",
      "1 | stacks    | ModuleList | 8.5 M \n",
      "-----------------------------------------\n",
      "8.5 M     Trainable params\n",
      "3.2 K     Non-trainable params\n",
      "8.5 M     Total params\n",
      "67.633    Total estimated model params size (MB)\n"
     ]
    },
    {
     "data": {
      "application/vnd.jupyter.widget-view+json": {
       "model_id": "c514f3999693493e80eddfce7d9aaaf8",
       "version_major": 2,
       "version_minor": 0
      },
      "text/plain": [
       "Training: 0it [00:00, ?it/s]"
      ]
     },
     "metadata": {},
     "output_type": "display_data"
    },
    {
     "data": {
      "application/vnd.jupyter.widget-view+json": {
       "model_id": "d66949c2440348bfbba3114bd5f80b48",
       "version_major": 2,
       "version_minor": 0
      },
      "text/plain": [
       "Predicting: 11it [00:00, ?it/s]"
      ]
     },
     "metadata": {},
     "output_type": "display_data"
    },
    {
     "name": "stderr",
     "output_type": "stream",
     "text": [
      "[2022-06-14 15:27:45,580] INFO | darts.models.forecasting.torch_forecasting_model | Train dataset contains 2661 samples.\n",
      "[2022-06-14 15:27:45,580] INFO | darts.models.forecasting.torch_forecasting_model | Train dataset contains 2661 samples.\n",
      "2022-06-14 15:27:45 darts.models.forecasting.torch_forecasting_model INFO: Train dataset contains 2661 samples.\n",
      "[2022-06-14 15:27:45,610] INFO | darts.models.forecasting.torch_forecasting_model | Time series values are 64-bits; casting model to float64.\n",
      "[2022-06-14 15:27:45,610] INFO | darts.models.forecasting.torch_forecasting_model | Time series values are 64-bits; casting model to float64.\n",
      "2022-06-14 15:27:45 darts.models.forecasting.torch_forecasting_model INFO: Time series values are 64-bits; casting model to float64.\n",
      "2022-06-14 15:27:45 pytorch_lightning.utilities.rank_zero INFO: GPU available: False, used: False\n",
      "2022-06-14 15:27:45 pytorch_lightning.utilities.rank_zero INFO: TPU available: False, using: 0 TPU cores\n",
      "2022-06-14 15:27:45 pytorch_lightning.utilities.rank_zero INFO: IPU available: False, using: 0 IPUs\n",
      "2022-06-14 15:27:45 pytorch_lightning.utilities.rank_zero INFO: HPU available: False, using: 0 HPUs\n",
      "2022-06-14 15:27:45 pytorch_lightning.callbacks.model_summary INFO: \n",
      "  | Name      | Type       | Params\n",
      "-----------------------------------------\n",
      "0 | criterion | MSELoss    | 0     \n",
      "1 | stacks    | ModuleList | 8.5 M \n",
      "-----------------------------------------\n",
      "8.5 M     Trainable params\n",
      "3.2 K     Non-trainable params\n",
      "8.5 M     Total params\n",
      "67.633    Total estimated model params size (MB)\n"
     ]
    },
    {
     "data": {
      "application/vnd.jupyter.widget-view+json": {
       "model_id": "fc8610dc20c44523a49ae09c08597a0c",
       "version_major": 2,
       "version_minor": 0
      },
      "text/plain": [
       "Training: 0it [00:00, ?it/s]"
      ]
     },
     "metadata": {},
     "output_type": "display_data"
    },
    {
     "data": {
      "application/vnd.jupyter.widget-view+json": {
       "model_id": "f95b6402c25d434bbbd9789bf29d36e2",
       "version_major": 2,
       "version_minor": 0
      },
      "text/plain": [
       "Predicting: 11it [00:00, ?it/s]"
      ]
     },
     "metadata": {},
     "output_type": "display_data"
    },
    {
     "ename": "ValueError",
     "evalue": "__len__() should return >= 0",
     "output_type": "error",
     "traceback": [
      "\u001b[1;31m---------------------------------------------------------------------------\u001b[0m",
      "\u001b[1;31mValueError\u001b[0m                                Traceback (most recent call last)",
      "Input \u001b[1;32mIn [10]\u001b[0m, in \u001b[0;36m<cell line: 4>\u001b[1;34m()\u001b[0m\n\u001b[0;32m     25\u001b[0m     lag \u001b[38;5;241m=\u001b[39m diff\u001b[38;5;241m.\u001b[39mdays \u001b[38;5;241m-\u001b[39m \u001b[38;5;241m10\u001b[39m\n\u001b[0;32m     27\u001b[0m my_model \u001b[38;5;241m=\u001b[39m nbeats\u001b[38;5;241m.\u001b[39mNBEATSModel(\n\u001b[0;32m     28\u001b[0m     input_chunk_length \u001b[38;5;241m=\u001b[39m \u001b[38;5;241m100\u001b[39m,\n\u001b[0;32m     29\u001b[0m     output_chunk_length \u001b[38;5;241m=\u001b[39m \u001b[38;5;241m1\u001b[39m,\n\u001b[1;32m   (...)\u001b[0m\n\u001b[0;32m     38\u001b[0m     model_name\u001b[38;5;241m=\u001b[39m\u001b[38;5;124m\"\u001b[39m\u001b[38;5;124mnbeats_run\u001b[39m\u001b[38;5;124m\"\u001b[39m\n\u001b[0;32m     39\u001b[0m )\n\u001b[1;32m---> 41\u001b[0m \u001b[43mmy_model\u001b[49m\u001b[38;5;241;43m.\u001b[39;49m\u001b[43mfit\u001b[49m\u001b[43m(\u001b[49m\u001b[43mdfts\u001b[49m\u001b[43m)\u001b[49m\n\u001b[0;32m     42\u001b[0m pred_series \u001b[38;5;241m=\u001b[39m my_model\u001b[38;5;241m.\u001b[39mpredict( n \u001b[38;5;241m=\u001b[39m \u001b[38;5;241m699\u001b[39m )\n\u001b[0;32m     44\u001b[0m forecast \u001b[38;5;241m=\u001b[39m pred_series\u001b[38;5;241m.\u001b[39mpd_dataframe()\n",
      "File \u001b[1;32mD:\\anaconda3\\envs\\ts\\lib\\site-packages\\darts\\utils\\torch.py:70\u001b[0m, in \u001b[0;36mrandom_method.<locals>.decorator\u001b[1;34m(self, *args, **kwargs)\u001b[0m\n\u001b[0;32m     68\u001b[0m \u001b[38;5;28;01mwith\u001b[39;00m fork_rng():\n\u001b[0;32m     69\u001b[0m     manual_seed(\u001b[38;5;28mself\u001b[39m\u001b[38;5;241m.\u001b[39m_random_instance\u001b[38;5;241m.\u001b[39mrandint(\u001b[38;5;241m0\u001b[39m, high\u001b[38;5;241m=\u001b[39mMAX_TORCH_SEED_VALUE))\n\u001b[1;32m---> 70\u001b[0m     \u001b[38;5;28;01mreturn\u001b[39;00m decorated(\u001b[38;5;28mself\u001b[39m, \u001b[38;5;241m*\u001b[39margs, \u001b[38;5;241m*\u001b[39m\u001b[38;5;241m*\u001b[39mkwargs)\n",
      "File \u001b[1;32mD:\\anaconda3\\envs\\ts\\lib\\site-packages\\darts\\models\\forecasting\\torch_forecasting_model.py:769\u001b[0m, in \u001b[0;36mTorchForecastingModel.fit\u001b[1;34m(self, series, past_covariates, future_covariates, val_series, val_past_covariates, val_future_covariates, trainer, verbose, epochs, max_samples_per_ts, num_loader_workers)\u001b[0m\n\u001b[0;32m    766\u001b[0m \u001b[38;5;28;01melse\u001b[39;00m:\n\u001b[0;32m    767\u001b[0m     val_dataset \u001b[38;5;241m=\u001b[39m \u001b[38;5;28;01mNone\u001b[39;00m\n\u001b[1;32m--> 769\u001b[0m logger\u001b[38;5;241m.\u001b[39minfo(\u001b[38;5;124mf\u001b[39m\u001b[38;5;124m\"\u001b[39m\u001b[38;5;124mTrain dataset contains \u001b[39m\u001b[38;5;132;01m{\u001b[39;00m\u001b[38;5;28mlen\u001b[39m(train_dataset)\u001b[38;5;132;01m}\u001b[39;00m\u001b[38;5;124m samples.\u001b[39m\u001b[38;5;124m\"\u001b[39m)\n\u001b[0;32m    771\u001b[0m \u001b[38;5;28;01mreturn\u001b[39;00m \u001b[38;5;28mself\u001b[39m\u001b[38;5;241m.\u001b[39mfit_from_dataset(\n\u001b[0;32m    772\u001b[0m     train_dataset, val_dataset, trainer, verbose, epochs, num_loader_workers\n\u001b[0;32m    773\u001b[0m )\n",
      "File \u001b[1;32mD:\\anaconda3\\envs\\ts\\lib\\site-packages\\darts\\utils\\data\\sequential_dataset.py:84\u001b[0m, in \u001b[0;36mPastCovariatesSequentialDataset.__len__\u001b[1;34m(self)\u001b[0m\n\u001b[0;32m     83\u001b[0m \u001b[38;5;28;01mdef\u001b[39;00m \u001b[38;5;21m__len__\u001b[39m(\u001b[38;5;28mself\u001b[39m):\n\u001b[1;32m---> 84\u001b[0m     \u001b[38;5;28;01mreturn\u001b[39;00m \u001b[38;5;28;43mlen\u001b[39;49m\u001b[43m(\u001b[49m\u001b[38;5;28;43mself\u001b[39;49m\u001b[38;5;241;43m.\u001b[39;49m\u001b[43mds\u001b[49m\u001b[43m)\u001b[49m\n",
      "\u001b[1;31mValueError\u001b[0m: __len__() should return >= 0"
     ]
    }
   ],
   "source": [
    "# 추론 : rf\n",
    "start_time = time.time()\n",
    "\n",
    "for i in tqdm(plc_lst):\n",
    "    plc_df = df_dic[i]\n",
    "    \n",
    "    for j in fct_lst: # 피쳐 리스트\n",
    "        fct_df = plc_df[['ds', j]]   # 날짜 - 피쳐1 조합임.\n",
    "        \n",
    "        fct_df = fct_df.rename(columns={j:'y'}) # 피쳐1을 y로 바꾼다.\n",
    "        fct_df['ds'] = fct_df.ds.apply(lambda x : datetime.strptime(x , '%Y%m%d'))\n",
    "        fct_df = fct_df.dropna()\n",
    "        fct_df['y'] = pd.to_numeric(fct_df.y)\n",
    "        \n",
    "        df_align = pd.DataFrame([ x for x in list(pd.date_range( end = '2018-01-31', periods = len(fct_df), inclusive=\"both\"))], columns=['ds'])\n",
    "        df_align['y'] = fct_df.y.values\n",
    "        \n",
    "        # TimeSeris 로 변환 하기 \n",
    "        dfts = TimeSeries.from_dataframe(df_align,  time_col = 'ds' , value_cols  = ['y'], fill_missing_dates=True  , freq='D')\n",
    "        \n",
    "        diff = datetime(2018,2,1) - df_align.loc[0].ds\n",
    "        if diff.days > 720:\n",
    "            lag = 700\n",
    "        else:\n",
    "            lag = diff.days - 10\n",
    "            \n",
    "        my_model = nbeats.NBEATSModel(\n",
    "            input_chunk_length = 100,\n",
    "            output_chunk_length = 1,\n",
    "            generic_architecture=True,\n",
    "            num_stacks=10,\n",
    "            num_blocks=1,\n",
    "            num_layers=4,\n",
    "            layer_widths=512,\n",
    "            n_epochs=2,\n",
    "            nr_epochs_val_period=1,\n",
    "            batch_size=256,\n",
    "            model_name=\"nbeats_run\"\n",
    "        )\n",
    "        \n",
    "        my_model.fit(dfts)\n",
    "        pred_series = my_model.predict( n = 699 )\n",
    "        \n",
    "        forecast = pred_series.pd_dataframe()\n",
    "        forecast['ds'] = forecast.index\n",
    "        forecast['ds'] = forecast['ds'].apply(lambda x : str(x).split(' ')[0].split('-')[0]+str(x).split(' ')[0].split('-')[1]+str(x).split(' ')[0].split('-')[2])\n",
    "        forecast.columns = ['yhat', 'ds']\n",
    "        forecast = forecast.reset_index(drop=True)\n",
    "        \n",
    "        for idx,k in enumerate(submit[i].keys()):\n",
    "            submit[i][k][j] = np.round(forecast.yhat[idx],6)\n",
    "      \n",
    "        \n",
    "end_time = time.time()\n",
    "print('소요시간 :', (end_time - start_time)/60, 'minutes')"
   ]
  },
  {
   "cell_type": "code",
   "execution_count": null,
   "id": "6addcc46-b8f0-4aef-8928-8d842f64692d",
   "metadata": {},
   "outputs": [],
   "source": []
  }
 ],
 "metadata": {
  "kernelspec": {
   "display_name": "Python [conda env:ts]",
   "language": "python",
   "name": "conda-env-ts-py"
  },
  "language_info": {
   "codemirror_mode": {
    "name": "ipython",
    "version": 3
   },
   "file_extension": ".py",
   "mimetype": "text/x-python",
   "name": "python",
   "nbconvert_exporter": "python",
   "pygments_lexer": "ipython3",
   "version": "3.9.13"
  },
  "widgets": {
   "application/vnd.jupyter.widget-state+json": {
    "state": {
     "05f22373d1bd4ee29ad7bcb5d05dabff": {
      "model_module": "@jupyter-widgets/base",
      "model_module_version": "1.2.0",
      "model_name": "LayoutModel",
      "state": {}
     },
     "087f1b57b2ee4677aeb5c44a06d3b3da": {
      "model_module": "@jupyter-widgets/controls",
      "model_module_version": "1.5.0",
      "model_name": "DescriptionStyleModel",
      "state": {
       "description_width": ""
      }
     },
     "0a6b4ec66193433b9d863eb82751b147": {
      "model_module": "@jupyter-widgets/controls",
      "model_module_version": "1.5.0",
      "model_name": "FloatProgressModel",
      "state": {
       "bar_style": "danger",
       "layout": "IPY_MODEL_600e2c3de5f34d4a9bcf2c1db93d61ca",
       "max": 545,
       "style": "IPY_MODEL_7b6b848f5f3d451fb5a2b0b351b2cb52"
      }
     },
     "0a88dcc9420b4321926d633c9997c8ba": {
      "model_module": "@jupyter-widgets/controls",
      "model_module_version": "1.5.0",
      "model_name": "HTMLModel",
      "state": {
       "layout": "IPY_MODEL_b5725012b6c34200923478503420d18b",
       "style": "IPY_MODEL_1d438f61909f4f6b9f0c918e05b6da3c",
       "value": "  0%"
      }
     },
     "0ab51f5288a9416d8b472c912f8aebd0": {
      "model_module": "@jupyter-widgets/controls",
      "model_module_version": "1.5.0",
      "model_name": "DescriptionStyleModel",
      "state": {
       "description_width": ""
      }
     },
     "0ace096eb43b41159dcc1169a36cf1c6": {
      "model_module": "@jupyter-widgets/controls",
      "model_module_version": "1.5.0",
      "model_name": "HTMLModel",
      "state": {
       "layout": "IPY_MODEL_caf3192cfdcf4f95bc98aae292cd5020",
       "style": "IPY_MODEL_fbbd6378c1664f73a5acb8443af55472",
       "value": " 0/545 [00:00&lt;?, ?it/s]"
      }
     },
     "0da8c882a850483bb1f551c7a7875884": {
      "model_module": "@jupyter-widgets/controls",
      "model_module_version": "1.5.0",
      "model_name": "DescriptionStyleModel",
      "state": {
       "description_width": ""
      }
     },
     "12a11027f4a4465dbd6e41bc4d52662e": {
      "model_module": "@jupyter-widgets/controls",
      "model_module_version": "1.5.0",
      "model_name": "FloatProgressModel",
      "state": {
       "bar_style": "danger",
       "layout": "IPY_MODEL_754f4097019c4d34bc3302f09c4320c1",
       "max": 545,
       "style": "IPY_MODEL_61f8a29746c749d09cd6d9425abb67ee"
      }
     },
     "14402dffdb3e473087c57b9d596eaf1a": {
      "model_module": "@jupyter-widgets/controls",
      "model_module_version": "1.5.0",
      "model_name": "HBoxModel",
      "state": {
       "children": [
        "IPY_MODEL_b51db90bb86f4d6ba096a24da23906c2",
        "IPY_MODEL_f1b81d04913d44fc89426d5146186c2e",
        "IPY_MODEL_239d1a73515b49c4bf8fe095ff5e0890"
       ],
       "layout": "IPY_MODEL_687be582886d4c6d9d60af0e60998c5a"
      }
     },
     "1447dad086f44897bd99e528616b608a": {
      "model_module": "@jupyter-widgets/controls",
      "model_module_version": "1.5.0",
      "model_name": "HTMLModel",
      "state": {
       "layout": "IPY_MODEL_962b7d5dc4cb4db6a1a90b75f011074b",
       "style": "IPY_MODEL_d56aab9f37174b4696e05640b69105a9",
       "value": "  3%"
      }
     },
     "18592965fceb4791b93e191cd62a7d47": {
      "model_module": "@jupyter-widgets/base",
      "model_module_version": "1.2.0",
      "model_name": "LayoutModel",
      "state": {}
     },
     "1875d71688124929a7e08566e73250a0": {
      "model_module": "@jupyter-widgets/controls",
      "model_module_version": "1.5.0",
      "model_name": "DescriptionStyleModel",
      "state": {
       "description_width": ""
      }
     },
     "1b0493ffd1b84c4db36326ebaccc1dd1": {
      "model_module": "@jupyter-widgets/base",
      "model_module_version": "1.2.0",
      "model_name": "LayoutModel",
      "state": {}
     },
     "1d438f61909f4f6b9f0c918e05b6da3c": {
      "model_module": "@jupyter-widgets/controls",
      "model_module_version": "1.5.0",
      "model_name": "DescriptionStyleModel",
      "state": {
       "description_width": ""
      }
     },
     "1d4c76cec98e4819bf20b4b4ee3359b9": {
      "model_module": "@jupyter-widgets/controls",
      "model_module_version": "1.5.0",
      "model_name": "DescriptionStyleModel",
      "state": {
       "description_width": ""
      }
     },
     "1d86c0442cc940cb91b2f1c2114dcb0c": {
      "model_module": "@jupyter-widgets/controls",
      "model_module_version": "1.5.0",
      "model_name": "ProgressStyleModel",
      "state": {
       "description_width": ""
      }
     },
     "1e2a007c01fe45c7baab36b2b72f473b": {
      "model_module": "@jupyter-widgets/base",
      "model_module_version": "1.2.0",
      "model_name": "LayoutModel",
      "state": {}
     },
     "1e44c43624834c5684e54ed093b64548": {
      "model_module": "@jupyter-widgets/base",
      "model_module_version": "1.2.0",
      "model_name": "LayoutModel",
      "state": {}
     },
     "1e69633c851243c8a4e9e846dc486eef": {
      "model_module": "@jupyter-widgets/controls",
      "model_module_version": "1.5.0",
      "model_name": "HTMLModel",
      "state": {
       "layout": "IPY_MODEL_c213844a4f1a4adaafd5f878fbabf54c",
       "style": "IPY_MODEL_4499ee89128a4933b40242867170d139",
       "value": " 19/545 [00:33&lt;15:09,  1.73s/it]"
      }
     },
     "20172296ff5d4a73a46aadc9d0620bcd": {
      "model_module": "@jupyter-widgets/controls",
      "model_module_version": "1.5.0",
      "model_name": "ProgressStyleModel",
      "state": {
       "description_width": ""
      }
     },
     "2127449599744935822dcfe39531f532": {
      "model_module": "@jupyter-widgets/base",
      "model_module_version": "1.2.0",
      "model_name": "LayoutModel",
      "state": {}
     },
     "2171c129a5f34040aea47235fe6cdc5e": {
      "model_module": "@jupyter-widgets/controls",
      "model_module_version": "1.5.0",
      "model_name": "DescriptionStyleModel",
      "state": {
       "description_width": ""
      }
     },
     "2259b3755dd044549b9795dad95a7189": {
      "model_module": "@jupyter-widgets/controls",
      "model_module_version": "1.5.0",
      "model_name": "FloatProgressModel",
      "state": {
       "bar_style": "success",
       "layout": "IPY_MODEL_73fe4a33ced346f9bae82509d0315ee9",
       "max": 545,
       "style": "IPY_MODEL_b4816b6a2a04485d998836fbc19839e2",
       "value": 545
      }
     },
     "239d1a73515b49c4bf8fe095ff5e0890": {
      "model_module": "@jupyter-widgets/controls",
      "model_module_version": "1.5.0",
      "model_name": "HTMLModel",
      "state": {
       "layout": "IPY_MODEL_27a2ffe0477745399cf29df5078883ce",
       "style": "IPY_MODEL_ee61b50272094650ab82b92eefe21a82",
       "value": " 0/545 [00:01&lt;?, ?it/s]"
      }
     },
     "265763ca779d4ae3a260744ed06c0896": {
      "model_module": "@jupyter-widgets/controls",
      "model_module_version": "1.5.0",
      "model_name": "DescriptionStyleModel",
      "state": {
       "description_width": ""
      }
     },
     "27a2ffe0477745399cf29df5078883ce": {
      "model_module": "@jupyter-widgets/base",
      "model_module_version": "1.2.0",
      "model_name": "LayoutModel",
      "state": {}
     },
     "27ea48ed33f14d47a08a1ea77d58bec7": {
      "model_module": "@jupyter-widgets/controls",
      "model_module_version": "1.5.0",
      "model_name": "HTMLModel",
      "state": {
       "layout": "IPY_MODEL_05f22373d1bd4ee29ad7bcb5d05dabff",
       "style": "IPY_MODEL_265763ca779d4ae3a260744ed06c0896",
       "value": "  0%"
      }
     },
     "2e3e5d247d9e4a22ac6f9784309687ca": {
      "model_module": "@jupyter-widgets/controls",
      "model_module_version": "1.5.0",
      "model_name": "HBoxModel",
      "state": {
       "children": [
        "IPY_MODEL_efe463ba6c15422992d9e463edf9932e",
        "IPY_MODEL_678ce81649c14f2884d5ef15a065c27f",
        "IPY_MODEL_47acac9e729045b1be8de7cf0d745c06"
       ],
       "layout": "IPY_MODEL_6e1073d2f80b4aa18bb47c4e81d6469b"
      }
     },
     "2ef6f7d77568458b8eb8d09dcf5ab26d": {
      "model_module": "@jupyter-widgets/base",
      "model_module_version": "1.2.0",
      "model_name": "LayoutModel",
      "state": {}
     },
     "316df0f1254944baafaf1fff5e7c0d25": {
      "model_module": "@jupyter-widgets/controls",
      "model_module_version": "1.5.0",
      "model_name": "HTMLModel",
      "state": {
       "layout": "IPY_MODEL_ee7c93d8b9a944ac9ce1fb3058c6cb1a",
       "style": "IPY_MODEL_974123770cf04210a6346d580eb116a7",
       "value": " 0/545 [00:01&lt;?, ?it/s]"
      }
     },
     "337bfb5dafea479db63a0c46fa10e42d": {
      "model_module": "@jupyter-widgets/controls",
      "model_module_version": "1.5.0",
      "model_name": "HTMLModel",
      "state": {
       "layout": "IPY_MODEL_8902989f580b4c24bb6d2fd8f6bfd135",
       "style": "IPY_MODEL_64675f1f64e74dd7959a25c3b421f2f4",
       "value": " 19/545 [00:32&lt;14:54,  1.70s/it]"
      }
     },
     "340b09b73422455e9bd3cfde2f820afb": {
      "model_module": "@jupyter-widgets/controls",
      "model_module_version": "1.5.0",
      "model_name": "HTMLModel",
      "state": {
       "layout": "IPY_MODEL_1b0493ffd1b84c4db36326ebaccc1dd1",
       "style": "IPY_MODEL_2171c129a5f34040aea47235fe6cdc5e",
       "value": "  0%"
      }
     },
     "352bc6718d3d43ddb4c1b8993366eb50": {
      "model_module": "@jupyter-widgets/base",
      "model_module_version": "1.2.0",
      "model_name": "LayoutModel",
      "state": {}
     },
     "361ef41d11e24a08b3780a6ee41d8064": {
      "model_module": "@jupyter-widgets/controls",
      "model_module_version": "1.5.0",
      "model_name": "FloatProgressModel",
      "state": {
       "bar_style": "danger",
       "layout": "IPY_MODEL_99095eb07ab649eb94a62cef075c485a",
       "max": 545,
       "style": "IPY_MODEL_99222f6c03fa4ad0ac8e7abd662f2814",
       "value": 19
      }
     },
     "372ebeff51b94335a7b34d47a8fdc345": {
      "model_module": "@jupyter-widgets/base",
      "model_module_version": "1.2.0",
      "model_name": "LayoutModel",
      "state": {}
     },
     "3762b86666f84f69a72ffe2ac2545274": {
      "model_module": "@jupyter-widgets/controls",
      "model_module_version": "1.5.0",
      "model_name": "FloatProgressModel",
      "state": {
       "bar_style": "danger",
       "layout": "IPY_MODEL_352bc6718d3d43ddb4c1b8993366eb50",
       "max": 545,
       "style": "IPY_MODEL_b76e10699bf44592bd0af50ea0d36147"
      }
     },
     "3a69989518734f67a09c03d71d8a9825": {
      "model_module": "@jupyter-widgets/controls",
      "model_module_version": "1.5.0",
      "model_name": "DescriptionStyleModel",
      "state": {
       "description_width": ""
      }
     },
     "3fe29003f0874fc9bbc4c8853d5ce0fc": {
      "model_module": "@jupyter-widgets/controls",
      "model_module_version": "1.5.0",
      "model_name": "HTMLModel",
      "state": {
       "layout": "IPY_MODEL_6cba645ccd42406784084d26318fa46f",
       "style": "IPY_MODEL_1875d71688124929a7e08566e73250a0",
       "value": "  3%"
      }
     },
     "42008de1be734718be5c739709a69572": {
      "model_module": "@jupyter-widgets/controls",
      "model_module_version": "1.5.0",
      "model_name": "DescriptionStyleModel",
      "state": {
       "description_width": ""
      }
     },
     "42609a875ac041d19d117b5749745069": {
      "model_module": "@jupyter-widgets/base",
      "model_module_version": "1.2.0",
      "model_name": "LayoutModel",
      "state": {}
     },
     "4499ee89128a4933b40242867170d139": {
      "model_module": "@jupyter-widgets/controls",
      "model_module_version": "1.5.0",
      "model_name": "DescriptionStyleModel",
      "state": {
       "description_width": ""
      }
     },
     "455a6fb33b6c48d2901bd1eff2ee49f0": {
      "model_module": "@jupyter-widgets/controls",
      "model_module_version": "1.5.0",
      "model_name": "DescriptionStyleModel",
      "state": {
       "description_width": ""
      }
     },
     "460183b4db6d4787bc696d31ea064abc": {
      "model_module": "@jupyter-widgets/controls",
      "model_module_version": "1.5.0",
      "model_name": "HBoxModel",
      "state": {
       "children": [
        "IPY_MODEL_27ea48ed33f14d47a08a1ea77d58bec7",
        "IPY_MODEL_0a6b4ec66193433b9d863eb82751b147",
        "IPY_MODEL_cf28f56564414b519c1bc344e2a54a59"
       ],
       "layout": "IPY_MODEL_75a8b5e46adc4eb9a8ddf0a6e140d110"
      }
     },
     "4795250ce5094866a2baa07074b32b4d": {
      "model_module": "@jupyter-widgets/controls",
      "model_module_version": "1.5.0",
      "model_name": "HBoxModel",
      "state": {
       "children": [
        "IPY_MODEL_340b09b73422455e9bd3cfde2f820afb",
        "IPY_MODEL_6b8347d5bfb045e2a9c5e377a71b200a",
        "IPY_MODEL_5bddbbd0d4884123901b558cadb85316"
       ],
       "layout": "IPY_MODEL_cd8a5c9231cf46f7b3716dfaae01645b"
      }
     },
     "47acac9e729045b1be8de7cf0d745c06": {
      "model_module": "@jupyter-widgets/controls",
      "model_module_version": "1.5.0",
      "model_name": "HTMLModel",
      "state": {
       "layout": "IPY_MODEL_42609a875ac041d19d117b5749745069",
       "style": "IPY_MODEL_087f1b57b2ee4677aeb5c44a06d3b3da",
       "value": " 11/545 [00:39&lt;28:24,  3.19s/it]"
      }
     },
     "48e3703f85c24bb3a1ad8a02a4835c1f": {
      "model_module": "@jupyter-widgets/base",
      "model_module_version": "1.2.0",
      "model_name": "LayoutModel",
      "state": {}
     },
     "4a4301cf4ad54b8d8ec239f09177d184": {
      "model_module": "@jupyter-widgets/controls",
      "model_module_version": "1.5.0",
      "model_name": "DescriptionStyleModel",
      "state": {
       "description_width": ""
      }
     },
     "4a6135f4ad0d42f2972352020d7edf07": {
      "model_module": "@jupyter-widgets/controls",
      "model_module_version": "1.5.0",
      "model_name": "FloatProgressModel",
      "state": {
       "bar_style": "danger",
       "layout": "IPY_MODEL_582fca0090b646ca932c67ea1299ea54",
       "max": 545,
       "style": "IPY_MODEL_ec4b385cabc64eb69327bf90c9b01ea8",
       "value": 19
      }
     },
     "4a97acf0229d4f479dfa6041ed7d1151": {
      "model_module": "@jupyter-widgets/base",
      "model_module_version": "1.2.0",
      "model_name": "LayoutModel",
      "state": {}
     },
     "4bea6bc9f83a4c61892e194e333944bc": {
      "model_module": "@jupyter-widgets/controls",
      "model_module_version": "1.5.0",
      "model_name": "HTMLModel",
      "state": {
       "layout": "IPY_MODEL_c7fc4d4a1c2d45768a613ba30e90376f",
       "style": "IPY_MODEL_d67377d66f9d40279b0a754e9ca7742f",
       "value": "100%"
      }
     },
     "508f2e0becaf4eaaa3fe2a3d65ffa1d3": {
      "model_module": "@jupyter-widgets/controls",
      "model_module_version": "1.5.0",
      "model_name": "DescriptionStyleModel",
      "state": {
       "description_width": ""
      }
     },
     "538ccb5b62204ae197bd5954a9e78cbc": {
      "model_module": "@jupyter-widgets/controls",
      "model_module_version": "1.5.0",
      "model_name": "HBoxModel",
      "state": {
       "children": [
        "IPY_MODEL_0a88dcc9420b4321926d633c9997c8ba",
        "IPY_MODEL_985e513485c748b5a5c5f2b86460370b",
        "IPY_MODEL_0ace096eb43b41159dcc1169a36cf1c6"
       ],
       "layout": "IPY_MODEL_2ef6f7d77568458b8eb8d09dcf5ab26d"
      }
     },
     "582fca0090b646ca932c67ea1299ea54": {
      "model_module": "@jupyter-widgets/base",
      "model_module_version": "1.2.0",
      "model_name": "LayoutModel",
      "state": {}
     },
     "585e49f58c324c3faa14558a56964908": {
      "model_module": "@jupyter-widgets/controls",
      "model_module_version": "1.5.0",
      "model_name": "HBoxModel",
      "state": {
       "children": [
        "IPY_MODEL_8e9072826ff24eb08638ff4caef1ad58",
        "IPY_MODEL_12a11027f4a4465dbd6e41bc4d52662e",
        "IPY_MODEL_5c318e0e940546ec8a92c7b84b05a19f"
       ],
       "layout": "IPY_MODEL_fd5b76ddc53c4382a070b7ebe59443e6"
      }
     },
     "5bddbbd0d4884123901b558cadb85316": {
      "model_module": "@jupyter-widgets/controls",
      "model_module_version": "1.5.0",
      "model_name": "HTMLModel",
      "state": {
       "layout": "IPY_MODEL_1e2a007c01fe45c7baab36b2b72f473b",
       "style": "IPY_MODEL_42008de1be734718be5c739709a69572",
       "value": " 0/545 [00:47&lt;?, ?it/s]"
      }
     },
     "5c318e0e940546ec8a92c7b84b05a19f": {
      "model_module": "@jupyter-widgets/controls",
      "model_module_version": "1.5.0",
      "model_name": "HTMLModel",
      "state": {
       "layout": "IPY_MODEL_d13e051540b54fdbac6647d0b9ac640e",
       "style": "IPY_MODEL_ba87629d915b4e7ab8d09c62c9c214a9",
       "value": " 0/545 [00:01&lt;?, ?it/s]"
      }
     },
     "5cb0eebac0ce48638b11aee49ea0568f": {
      "model_module": "@jupyter-widgets/base",
      "model_module_version": "1.2.0",
      "model_name": "LayoutModel",
      "state": {}
     },
     "600e2c3de5f34d4a9bcf2c1db93d61ca": {
      "model_module": "@jupyter-widgets/base",
      "model_module_version": "1.2.0",
      "model_name": "LayoutModel",
      "state": {}
     },
     "61f8a29746c749d09cd6d9425abb67ee": {
      "model_module": "@jupyter-widgets/controls",
      "model_module_version": "1.5.0",
      "model_name": "ProgressStyleModel",
      "state": {
       "description_width": ""
      }
     },
     "63f699a1aacb47f8a46999a776e6eb13": {
      "model_module": "@jupyter-widgets/base",
      "model_module_version": "1.2.0",
      "model_name": "LayoutModel",
      "state": {}
     },
     "64675f1f64e74dd7959a25c3b421f2f4": {
      "model_module": "@jupyter-widgets/controls",
      "model_module_version": "1.5.0",
      "model_name": "DescriptionStyleModel",
      "state": {
       "description_width": ""
      }
     },
     "678ce81649c14f2884d5ef15a065c27f": {
      "model_module": "@jupyter-widgets/controls",
      "model_module_version": "1.5.0",
      "model_name": "FloatProgressModel",
      "state": {
       "bar_style": "danger",
       "layout": "IPY_MODEL_947199cab6ff40318294f6df049f63ff",
       "max": 545,
       "style": "IPY_MODEL_bd97aa9bfbf64107806de62279c38b1a",
       "value": 11
      }
     },
     "687be582886d4c6d9d60af0e60998c5a": {
      "model_module": "@jupyter-widgets/base",
      "model_module_version": "1.2.0",
      "model_name": "LayoutModel",
      "state": {}
     },
     "6b8347d5bfb045e2a9c5e377a71b200a": {
      "model_module": "@jupyter-widgets/controls",
      "model_module_version": "1.5.0",
      "model_name": "FloatProgressModel",
      "state": {
       "bar_style": "danger",
       "layout": "IPY_MODEL_4a97acf0229d4f479dfa6041ed7d1151",
       "max": 545,
       "style": "IPY_MODEL_d2c37c6bfbf140c9863c834bf2187efc"
      }
     },
     "6bcb6a98b6204bbcb621235e1058cfaf": {
      "model_module": "@jupyter-widgets/controls",
      "model_module_version": "1.5.0",
      "model_name": "DescriptionStyleModel",
      "state": {
       "description_width": ""
      }
     },
     "6cba645ccd42406784084d26318fa46f": {
      "model_module": "@jupyter-widgets/base",
      "model_module_version": "1.2.0",
      "model_name": "LayoutModel",
      "state": {}
     },
     "6e1073d2f80b4aa18bb47c4e81d6469b": {
      "model_module": "@jupyter-widgets/base",
      "model_module_version": "1.2.0",
      "model_name": "LayoutModel",
      "state": {}
     },
     "73fe4a33ced346f9bae82509d0315ee9": {
      "model_module": "@jupyter-widgets/base",
      "model_module_version": "1.2.0",
      "model_name": "LayoutModel",
      "state": {}
     },
     "752b83de6e024da68d5367b0420c5f73": {
      "model_module": "@jupyter-widgets/controls",
      "model_module_version": "1.5.0",
      "model_name": "DescriptionStyleModel",
      "state": {
       "description_width": ""
      }
     },
     "754f4097019c4d34bc3302f09c4320c1": {
      "model_module": "@jupyter-widgets/base",
      "model_module_version": "1.2.0",
      "model_name": "LayoutModel",
      "state": {}
     },
     "75a8b5e46adc4eb9a8ddf0a6e140d110": {
      "model_module": "@jupyter-widgets/base",
      "model_module_version": "1.2.0",
      "model_name": "LayoutModel",
      "state": {}
     },
     "7674062874684895bb1eb56b11bebcc0": {
      "model_module": "@jupyter-widgets/controls",
      "model_module_version": "1.5.0",
      "model_name": "HBoxModel",
      "state": {
       "children": [
        "IPY_MODEL_3fe29003f0874fc9bbc4c8853d5ce0fc",
        "IPY_MODEL_361ef41d11e24a08b3780a6ee41d8064",
        "IPY_MODEL_1e69633c851243c8a4e9e846dc486eef"
       ],
       "layout": "IPY_MODEL_b1beb41b249c4ef1b5895580891db35e"
      }
     },
     "76e499cf356f4ef49eb07ecf3ed45df7": {
      "model_module": "@jupyter-widgets/controls",
      "model_module_version": "1.5.0",
      "model_name": "HBoxModel",
      "state": {
       "children": [
        "IPY_MODEL_e7b3979c805248e283e5e72fe3ec34ec",
        "IPY_MODEL_c9c980f931384aa299a704c13ec760f8",
        "IPY_MODEL_8d9c674b1bbb432b86dbe9d13a33f719"
       ],
       "layout": "IPY_MODEL_e837253827794f138f1bd4881080474b"
      }
     },
     "773787b5a45842d3b2fe101a1eaa9f14": {
      "model_module": "@jupyter-widgets/controls",
      "model_module_version": "1.5.0",
      "model_name": "HBoxModel",
      "state": {
       "children": [
        "IPY_MODEL_ab38f21e393e4bb68bbcb5749f002dd5",
        "IPY_MODEL_3762b86666f84f69a72ffe2ac2545274",
        "IPY_MODEL_316df0f1254944baafaf1fff5e7c0d25"
       ],
       "layout": "IPY_MODEL_bc696a639dea4b5fa280185df96b5936"
      }
     },
     "7a311d6ca8574b578dadea8f7692ce74": {
      "model_module": "@jupyter-widgets/base",
      "model_module_version": "1.2.0",
      "model_name": "LayoutModel",
      "state": {}
     },
     "7b6b848f5f3d451fb5a2b0b351b2cb52": {
      "model_module": "@jupyter-widgets/controls",
      "model_module_version": "1.5.0",
      "model_name": "ProgressStyleModel",
      "state": {
       "description_width": ""
      }
     },
     "7ee5eea1a3314cd18ddaad077334b7c1": {
      "model_module": "@jupyter-widgets/base",
      "model_module_version": "1.2.0",
      "model_name": "LayoutModel",
      "state": {}
     },
     "82c49d3e0f01447588e0e8dee0728e02": {
      "model_module": "@jupyter-widgets/base",
      "model_module_version": "1.2.0",
      "model_name": "LayoutModel",
      "state": {}
     },
     "84fdc01d4384477daf373e71b1f096f2": {
      "model_module": "@jupyter-widgets/controls",
      "model_module_version": "1.5.0",
      "model_name": "FloatProgressModel",
      "state": {
       "bar_style": "success",
       "layout": "IPY_MODEL_904c30edd4e74aa6ae96b2486bc23a85",
       "max": 545,
       "style": "IPY_MODEL_d83afdc0b85e40cdb1cca51e0ffd9d70",
       "value": 545
      }
     },
     "8902989f580b4c24bb6d2fd8f6bfd135": {
      "model_module": "@jupyter-widgets/base",
      "model_module_version": "1.2.0",
      "model_name": "LayoutModel",
      "state": {}
     },
     "8b204310f06b4fe1a506a26075b88a06": {
      "model_module": "@jupyter-widgets/controls",
      "model_module_version": "1.5.0",
      "model_name": "HTMLModel",
      "state": {
       "layout": "IPY_MODEL_e9c0a5120f6a4c93a08a5b5f2ca04d7e",
       "style": "IPY_MODEL_4a4301cf4ad54b8d8ec239f09177d184",
       "value": "100%"
      }
     },
     "8d9c674b1bbb432b86dbe9d13a33f719": {
      "model_module": "@jupyter-widgets/controls",
      "model_module_version": "1.5.0",
      "model_name": "HTMLModel",
      "state": {
       "layout": "IPY_MODEL_c22908e23b4848bcb54dc845c3309880",
       "style": "IPY_MODEL_f9b05c6f52eb48bca6c2b6fbd1f8b5bb",
       "value": " 545/545 [29:03&lt;00:00,  1.88s/it]"
      }
     },
     "8e056aafa8d94351b11c7c921d7bd56a": {
      "model_module": "@jupyter-widgets/controls",
      "model_module_version": "1.5.0",
      "model_name": "HBoxModel",
      "state": {
       "children": [
        "IPY_MODEL_4bea6bc9f83a4c61892e194e333944bc",
        "IPY_MODEL_2259b3755dd044549b9795dad95a7189",
        "IPY_MODEL_96e2a629ab3045bba19c79ccab77b89a"
       ],
       "layout": "IPY_MODEL_7ee5eea1a3314cd18ddaad077334b7c1"
      }
     },
     "8e9072826ff24eb08638ff4caef1ad58": {
      "model_module": "@jupyter-widgets/controls",
      "model_module_version": "1.5.0",
      "model_name": "HTMLModel",
      "state": {
       "layout": "IPY_MODEL_a0fd8ea1e82f4bd48643b1f9dad18c9c",
       "style": "IPY_MODEL_3a69989518734f67a09c03d71d8a9825",
       "value": "  0%"
      }
     },
     "904c30edd4e74aa6ae96b2486bc23a85": {
      "model_module": "@jupyter-widgets/base",
      "model_module_version": "1.2.0",
      "model_name": "LayoutModel",
      "state": {}
     },
     "947199cab6ff40318294f6df049f63ff": {
      "model_module": "@jupyter-widgets/base",
      "model_module_version": "1.2.0",
      "model_name": "LayoutModel",
      "state": {}
     },
     "962b7d5dc4cb4db6a1a90b75f011074b": {
      "model_module": "@jupyter-widgets/base",
      "model_module_version": "1.2.0",
      "model_name": "LayoutModel",
      "state": {}
     },
     "96e2a629ab3045bba19c79ccab77b89a": {
      "model_module": "@jupyter-widgets/controls",
      "model_module_version": "1.5.0",
      "model_name": "HTMLModel",
      "state": {
       "layout": "IPY_MODEL_b2e9af1179604d2d90f822273cfb3984",
       "style": "IPY_MODEL_0ab51f5288a9416d8b472c912f8aebd0",
       "value": " 545/545 [15:10&lt;00:00,  1.30s/it]"
      }
     },
     "974123770cf04210a6346d580eb116a7": {
      "model_module": "@jupyter-widgets/controls",
      "model_module_version": "1.5.0",
      "model_name": "DescriptionStyleModel",
      "state": {
       "description_width": ""
      }
     },
     "97a282750959409981c9cd5c1a8b5aa5": {
      "model_module": "@jupyter-widgets/base",
      "model_module_version": "1.2.0",
      "model_name": "LayoutModel",
      "state": {}
     },
     "985e513485c748b5a5c5f2b86460370b": {
      "model_module": "@jupyter-widgets/controls",
      "model_module_version": "1.5.0",
      "model_name": "FloatProgressModel",
      "state": {
       "bar_style": "danger",
       "layout": "IPY_MODEL_18592965fceb4791b93e191cd62a7d47",
       "max": 545,
       "style": "IPY_MODEL_1d86c0442cc940cb91b2f1c2114dcb0c"
      }
     },
     "99095eb07ab649eb94a62cef075c485a": {
      "model_module": "@jupyter-widgets/base",
      "model_module_version": "1.2.0",
      "model_name": "LayoutModel",
      "state": {}
     },
     "99222f6c03fa4ad0ac8e7abd662f2814": {
      "model_module": "@jupyter-widgets/controls",
      "model_module_version": "1.5.0",
      "model_name": "ProgressStyleModel",
      "state": {
       "description_width": ""
      }
     },
     "9adf42c50f204f939e981e0095214d57": {
      "model_module": "@jupyter-widgets/controls",
      "model_module_version": "1.5.0",
      "model_name": "HTMLModel",
      "state": {
       "layout": "IPY_MODEL_d06615338fdc4c15b188b99c96b49192",
       "style": "IPY_MODEL_455a6fb33b6c48d2901bd1eff2ee49f0",
       "value": " 39/545 [01:59&lt;26:17,  3.12s/it]"
      }
     },
     "9e612e79f4614e0f8f044567eb81d405": {
      "model_module": "@jupyter-widgets/controls",
      "model_module_version": "1.5.0",
      "model_name": "FloatProgressModel",
      "state": {
       "layout": "IPY_MODEL_b6afe0d0dc2c4416a3b965b14a29026f",
       "max": 545,
       "style": "IPY_MODEL_20172296ff5d4a73a46aadc9d0620bcd",
       "value": 40
      }
     },
     "9ff1093b3cc4448dade9cc13d7e5dce5": {
      "model_module": "@jupyter-widgets/controls",
      "model_module_version": "1.5.0",
      "model_name": "HTMLModel",
      "state": {
       "layout": "IPY_MODEL_372ebeff51b94335a7b34d47a8fdc345",
       "style": "IPY_MODEL_b4b06f4662204eceb6dbebdae501e925",
       "value": " 545/545 [00:13&lt;00:00, 38.91it/s]"
      }
     },
     "a0fd8ea1e82f4bd48643b1f9dad18c9c": {
      "model_module": "@jupyter-widgets/base",
      "model_module_version": "1.2.0",
      "model_name": "LayoutModel",
      "state": {}
     },
     "a3431defb42545bbb144f544a9f20e1a": {
      "model_module": "@jupyter-widgets/controls",
      "model_module_version": "1.5.0",
      "model_name": "DescriptionStyleModel",
      "state": {
       "description_width": ""
      }
     },
     "a5a9f31c7e9240b2b0d50a40ef7ab7c8": {
      "model_module": "@jupyter-widgets/controls",
      "model_module_version": "1.5.0",
      "model_name": "HBoxModel",
      "state": {
       "children": [
        "IPY_MODEL_de72093caada4cbfa695364224796037",
        "IPY_MODEL_9e612e79f4614e0f8f044567eb81d405",
        "IPY_MODEL_9adf42c50f204f939e981e0095214d57"
       ],
       "layout": "IPY_MODEL_5cb0eebac0ce48638b11aee49ea0568f"
      }
     },
     "ab38f21e393e4bb68bbcb5749f002dd5": {
      "model_module": "@jupyter-widgets/controls",
      "model_module_version": "1.5.0",
      "model_name": "HTMLModel",
      "state": {
       "layout": "IPY_MODEL_1e44c43624834c5684e54ed093b64548",
       "style": "IPY_MODEL_1d4c76cec98e4819bf20b4b4ee3359b9",
       "value": "  0%"
      }
     },
     "b09ae3eee0dd4d0bb36852315d94c43a": {
      "model_module": "@jupyter-widgets/base",
      "model_module_version": "1.2.0",
      "model_name": "LayoutModel",
      "state": {}
     },
     "b1beb41b249c4ef1b5895580891db35e": {
      "model_module": "@jupyter-widgets/base",
      "model_module_version": "1.2.0",
      "model_name": "LayoutModel",
      "state": {}
     },
     "b2e9af1179604d2d90f822273cfb3984": {
      "model_module": "@jupyter-widgets/base",
      "model_module_version": "1.2.0",
      "model_name": "LayoutModel",
      "state": {}
     },
     "b4816b6a2a04485d998836fbc19839e2": {
      "model_module": "@jupyter-widgets/controls",
      "model_module_version": "1.5.0",
      "model_name": "ProgressStyleModel",
      "state": {
       "description_width": ""
      }
     },
     "b4b06f4662204eceb6dbebdae501e925": {
      "model_module": "@jupyter-widgets/controls",
      "model_module_version": "1.5.0",
      "model_name": "DescriptionStyleModel",
      "state": {
       "description_width": ""
      }
     },
     "b51db90bb86f4d6ba096a24da23906c2": {
      "model_module": "@jupyter-widgets/controls",
      "model_module_version": "1.5.0",
      "model_name": "HTMLModel",
      "state": {
       "layout": "IPY_MODEL_82c49d3e0f01447588e0e8dee0728e02",
       "style": "IPY_MODEL_6bcb6a98b6204bbcb621235e1058cfaf",
       "value": "  0%"
      }
     },
     "b5725012b6c34200923478503420d18b": {
      "model_module": "@jupyter-widgets/base",
      "model_module_version": "1.2.0",
      "model_name": "LayoutModel",
      "state": {}
     },
     "b6afe0d0dc2c4416a3b965b14a29026f": {
      "model_module": "@jupyter-widgets/base",
      "model_module_version": "1.2.0",
      "model_name": "LayoutModel",
      "state": {}
     },
     "b76e10699bf44592bd0af50ea0d36147": {
      "model_module": "@jupyter-widgets/controls",
      "model_module_version": "1.5.0",
      "model_name": "ProgressStyleModel",
      "state": {
       "description_width": ""
      }
     },
     "ba87629d915b4e7ab8d09c62c9c214a9": {
      "model_module": "@jupyter-widgets/controls",
      "model_module_version": "1.5.0",
      "model_name": "DescriptionStyleModel",
      "state": {
       "description_width": ""
      }
     },
     "bc696a639dea4b5fa280185df96b5936": {
      "model_module": "@jupyter-widgets/base",
      "model_module_version": "1.2.0",
      "model_name": "LayoutModel",
      "state": {}
     },
     "bd97aa9bfbf64107806de62279c38b1a": {
      "model_module": "@jupyter-widgets/controls",
      "model_module_version": "1.5.0",
      "model_name": "ProgressStyleModel",
      "state": {
       "description_width": ""
      }
     },
     "c0a54beebbfc4f2e8a099757bbabcffd": {
      "model_module": "@jupyter-widgets/base",
      "model_module_version": "1.2.0",
      "model_name": "LayoutModel",
      "state": {}
     },
     "c213844a4f1a4adaafd5f878fbabf54c": {
      "model_module": "@jupyter-widgets/base",
      "model_module_version": "1.2.0",
      "model_name": "LayoutModel",
      "state": {}
     },
     "c22908e23b4848bcb54dc845c3309880": {
      "model_module": "@jupyter-widgets/base",
      "model_module_version": "1.2.0",
      "model_name": "LayoutModel",
      "state": {}
     },
     "c7290c31bb974f0d9fe5790730be9eb6": {
      "model_module": "@jupyter-widgets/controls",
      "model_module_version": "1.5.0",
      "model_name": "ProgressStyleModel",
      "state": {
       "description_width": ""
      }
     },
     "c7fc4d4a1c2d45768a613ba30e90376f": {
      "model_module": "@jupyter-widgets/base",
      "model_module_version": "1.2.0",
      "model_name": "LayoutModel",
      "state": {}
     },
     "c9c980f931384aa299a704c13ec760f8": {
      "model_module": "@jupyter-widgets/controls",
      "model_module_version": "1.5.0",
      "model_name": "FloatProgressModel",
      "state": {
       "bar_style": "success",
       "layout": "IPY_MODEL_7a311d6ca8574b578dadea8f7692ce74",
       "max": 545,
       "style": "IPY_MODEL_c7290c31bb974f0d9fe5790730be9eb6",
       "value": 545
      }
     },
     "caf3192cfdcf4f95bc98aae292cd5020": {
      "model_module": "@jupyter-widgets/base",
      "model_module_version": "1.2.0",
      "model_name": "LayoutModel",
      "state": {}
     },
     "cd8a5c9231cf46f7b3716dfaae01645b": {
      "model_module": "@jupyter-widgets/base",
      "model_module_version": "1.2.0",
      "model_name": "LayoutModel",
      "state": {}
     },
     "ce57d9c8598e4182b9f917c9e63ac751": {
      "model_module": "@jupyter-widgets/base",
      "model_module_version": "1.2.0",
      "model_name": "LayoutModel",
      "state": {}
     },
     "cf28f56564414b519c1bc344e2a54a59": {
      "model_module": "@jupyter-widgets/controls",
      "model_module_version": "1.5.0",
      "model_name": "HTMLModel",
      "state": {
       "layout": "IPY_MODEL_ce57d9c8598e4182b9f917c9e63ac751",
       "style": "IPY_MODEL_a3431defb42545bbb144f544a9f20e1a",
       "value": " 0/545 [00:00&lt;?, ?it/s]"
      }
     },
     "d06615338fdc4c15b188b99c96b49192": {
      "model_module": "@jupyter-widgets/base",
      "model_module_version": "1.2.0",
      "model_name": "LayoutModel",
      "state": {}
     },
     "d13e051540b54fdbac6647d0b9ac640e": {
      "model_module": "@jupyter-widgets/base",
      "model_module_version": "1.2.0",
      "model_name": "LayoutModel",
      "state": {}
     },
     "d2c37c6bfbf140c9863c834bf2187efc": {
      "model_module": "@jupyter-widgets/controls",
      "model_module_version": "1.5.0",
      "model_name": "ProgressStyleModel",
      "state": {
       "description_width": ""
      }
     },
     "d56aab9f37174b4696e05640b69105a9": {
      "model_module": "@jupyter-widgets/controls",
      "model_module_version": "1.5.0",
      "model_name": "DescriptionStyleModel",
      "state": {
       "description_width": ""
      }
     },
     "d67377d66f9d40279b0a754e9ca7742f": {
      "model_module": "@jupyter-widgets/controls",
      "model_module_version": "1.5.0",
      "model_name": "DescriptionStyleModel",
      "state": {
       "description_width": ""
      }
     },
     "d83afdc0b85e40cdb1cca51e0ffd9d70": {
      "model_module": "@jupyter-widgets/controls",
      "model_module_version": "1.5.0",
      "model_name": "ProgressStyleModel",
      "state": {
       "description_width": ""
      }
     },
     "dac721e66b294214b7b9b88df8348654": {
      "model_module": "@jupyter-widgets/controls",
      "model_module_version": "1.5.0",
      "model_name": "HBoxModel",
      "state": {
       "children": [
        "IPY_MODEL_1447dad086f44897bd99e528616b608a",
        "IPY_MODEL_4a6135f4ad0d42f2972352020d7edf07",
        "IPY_MODEL_337bfb5dafea479db63a0c46fa10e42d"
       ],
       "layout": "IPY_MODEL_2127449599744935822dcfe39531f532"
      }
     },
     "de72093caada4cbfa695364224796037": {
      "model_module": "@jupyter-widgets/controls",
      "model_module_version": "1.5.0",
      "model_name": "HTMLModel",
      "state": {
       "layout": "IPY_MODEL_63f699a1aacb47f8a46999a776e6eb13",
       "style": "IPY_MODEL_508f2e0becaf4eaaa3fe2a3d65ffa1d3",
       "value": "  7%"
      }
     },
     "e63ff604850d46cdb5891435a38e5a12": {
      "model_module": "@jupyter-widgets/controls",
      "model_module_version": "1.5.0",
      "model_name": "HBoxModel",
      "state": {
       "children": [
        "IPY_MODEL_8b204310f06b4fe1a506a26075b88a06",
        "IPY_MODEL_84fdc01d4384477daf373e71b1f096f2",
        "IPY_MODEL_9ff1093b3cc4448dade9cc13d7e5dce5"
       ],
       "layout": "IPY_MODEL_48e3703f85c24bb3a1ad8a02a4835c1f"
      }
     },
     "e7b3979c805248e283e5e72fe3ec34ec": {
      "model_module": "@jupyter-widgets/controls",
      "model_module_version": "1.5.0",
      "model_name": "HTMLModel",
      "state": {
       "layout": "IPY_MODEL_c0a54beebbfc4f2e8a099757bbabcffd",
       "style": "IPY_MODEL_752b83de6e024da68d5367b0420c5f73",
       "value": "100%"
      }
     },
     "e837253827794f138f1bd4881080474b": {
      "model_module": "@jupyter-widgets/base",
      "model_module_version": "1.2.0",
      "model_name": "LayoutModel",
      "state": {}
     },
     "e9c0a5120f6a4c93a08a5b5f2ca04d7e": {
      "model_module": "@jupyter-widgets/base",
      "model_module_version": "1.2.0",
      "model_name": "LayoutModel",
      "state": {}
     },
     "ec4b385cabc64eb69327bf90c9b01ea8": {
      "model_module": "@jupyter-widgets/controls",
      "model_module_version": "1.5.0",
      "model_name": "ProgressStyleModel",
      "state": {
       "description_width": ""
      }
     },
     "ee61b50272094650ab82b92eefe21a82": {
      "model_module": "@jupyter-widgets/controls",
      "model_module_version": "1.5.0",
      "model_name": "DescriptionStyleModel",
      "state": {
       "description_width": ""
      }
     },
     "ee7c93d8b9a944ac9ce1fb3058c6cb1a": {
      "model_module": "@jupyter-widgets/base",
      "model_module_version": "1.2.0",
      "model_name": "LayoutModel",
      "state": {}
     },
     "efe463ba6c15422992d9e463edf9932e": {
      "model_module": "@jupyter-widgets/controls",
      "model_module_version": "1.5.0",
      "model_name": "HTMLModel",
      "state": {
       "layout": "IPY_MODEL_97a282750959409981c9cd5c1a8b5aa5",
       "style": "IPY_MODEL_0da8c882a850483bb1f551c7a7875884",
       "value": "  2%"
      }
     },
     "f1b81d04913d44fc89426d5146186c2e": {
      "model_module": "@jupyter-widgets/controls",
      "model_module_version": "1.5.0",
      "model_name": "FloatProgressModel",
      "state": {
       "bar_style": "danger",
       "layout": "IPY_MODEL_b09ae3eee0dd4d0bb36852315d94c43a",
       "max": 545,
       "style": "IPY_MODEL_f6f4f82716694b7cb4bc8e0a134aa709"
      }
     },
     "f6f4f82716694b7cb4bc8e0a134aa709": {
      "model_module": "@jupyter-widgets/controls",
      "model_module_version": "1.5.0",
      "model_name": "ProgressStyleModel",
      "state": {
       "description_width": ""
      }
     },
     "f9b05c6f52eb48bca6c2b6fbd1f8b5bb": {
      "model_module": "@jupyter-widgets/controls",
      "model_module_version": "1.5.0",
      "model_name": "DescriptionStyleModel",
      "state": {
       "description_width": ""
      }
     },
     "fbbd6378c1664f73a5acb8443af55472": {
      "model_module": "@jupyter-widgets/controls",
      "model_module_version": "1.5.0",
      "model_name": "DescriptionStyleModel",
      "state": {
       "description_width": ""
      }
     },
     "fd5b76ddc53c4382a070b7ebe59443e6": {
      "model_module": "@jupyter-widgets/base",
      "model_module_version": "1.2.0",
      "model_name": "LayoutModel",
      "state": {}
     }
    },
    "version_major": 2,
    "version_minor": 0
   }
  }
 },
 "nbformat": 4,
 "nbformat_minor": 5
}
