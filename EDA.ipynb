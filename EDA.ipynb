{
 "cells": [
  {
   "cell_type": "code",
   "execution_count": 48,
   "metadata": {},
   "outputs": [],
   "source": [
    "import os\n",
    "import time\n",
    "import json\n",
    "import datetime\n",
    "import numpy as np\n",
    "import pandas as pd\n",
    "import pickle\n",
    "from datetime import datetime"
   ]
  },
  {
   "cell_type": "code",
   "execution_count": 10,
   "metadata": {},
   "outputs": [],
   "source": [
    "import seaborn as sns\n",
    "from plotly import express as px"
   ]
  },
  {
   "cell_type": "code",
   "execution_count": 4,
   "metadata": {},
   "outputs": [
    {
     "name": "stdout",
     "output_type": "stream",
     "text": [
      "CPU times: user 839 ms, sys: 116 ms, total: 955 ms\n",
      "Wall time: 955 ms\n"
     ]
    }
   ],
   "source": [
    "%%time\n",
    "submit = json.load(open('./data/sample_submission/sample_submission.json', 'r', encoding='utf8')) \n",
    "df_dic = pickle.load(open('./mydata/df_dic.plk','rb'))\n",
    "plc_lst = pickle.load(open('./mydata/plc_lst.plk','rb'))\n",
    "fct_lst = ['pH', 'COD', 'SS', 'N', 'P', 'T']"
   ]
  },
  {
   "cell_type": "code",
   "execution_count": null,
   "metadata": {},
   "outputs": [],
   "source": [
    "''' 전체 통채로 만들기 '''\n",
    "plc_sorted_lst = sorted(plc_lst)\n",
    "\n",
    "dfs = []\n",
    "for lo in plc_sorted_lst:\n",
    "    df_temp = df_dic[lo]\n",
    "    df_temp['loc'] = lo\n",
    "    dfs.append(df_temp)\n",
    "dfall = pd.concat(dfs)"
   ]
  },
  {
   "cell_type": "code",
   "execution_count": 44,
   "metadata": {},
   "outputs": [
    {
     "name": "stdout",
     "output_type": "stream",
     "text": [
      "20150423\n"
     ]
    }
   ],
   "source": [
    "''' 기록이 시작되는 공통 날짜 구하기 '''\n",
    "dates = []\n",
    "for lo in plc_sorted_lst:\n",
    "    df_temp = df_dic[lo]\n",
    "    dates.append(df_temp.ds[0])\n",
    "mx_date= max(dates)\n",
    "print(mx_date)  "
   ]
  },
  {
   "cell_type": "code",
   "execution_count": 50,
   "metadata": {},
   "outputs": [],
   "source": [
    "''' 최소 날짜가 포함되어 있는지 확인. -> 모두 포함되어 있다. '''\n",
    "for lo in plc_sorted_lst:\n",
    "    df_temp = df_dic[lo]\n",
    "    if ~(df_temp.ds == mx_date).any():\n",
    "        print(lo)"
   ]
  },
  {
   "cell_type": "code",
   "execution_count": 73,
   "metadata": {},
   "outputs": [],
   "source": [
    "''' datetime  열 만들기 '''\n",
    "dt_list =  [ datetime.strptime(x, \"%Y%m%d\")for x in  list(dfall['ds'])]\n",
    "dfall['dst'] = dt_list\n",
    "\n",
    "''' 공통 날짜로 맞추기 '''\n",
    "dfall_comm = dfall.loc[dfall.dst >= datetime(2015,4,23)]\n",
    "dfall_comm = dfall_comm.reset_index(drop=True)"
   ]
  },
  {
   "cell_type": "code",
   "execution_count": 74,
   "metadata": {},
   "outputs": [],
   "source": [
    "''' 모든 업장의 데이터 길이가 같은지 확인 -> 1015 개로 똑같다. '''\n",
    "res = dfall_comm.groupby(by = 'loc').size()"
   ]
  },
  {
   "cell_type": "code",
   "execution_count": 84,
   "metadata": {},
   "outputs": [],
   "source": [
    "for col in ['pH', 'COD', 'SS', 'N', 'P', 'T']:\n",
    "    dfall_comm[col] = pd.to_numeric(dfall_comm[col])"
   ]
  },
  {
   "cell_type": "code",
   "execution_count": 86,
   "metadata": {},
   "outputs": [],
   "source": [
    "pickle.dump(dfall_comm , open('./mydata/dfall_comm.plk','wb'))"
   ]
  },
  {
   "cell_type": "code",
   "execution_count": null,
   "metadata": {},
   "outputs": [],
   "source": []
  },
  {
   "cell_type": "markdown",
   "metadata": {},
   "source": [
    "---\n",
    "## 6개의 피쳐끼리 corr 보기 "
   ]
  },
  {
   "cell_type": "code",
   "execution_count": 87,
   "metadata": {},
   "outputs": [
    {
     "data": {
      "text/plain": [
       "Index(['ds', 'pH', 'COD', 'SS', 'N', 'P', 'T', 'loc', 'dst'], dtype='object')"
      ]
     },
     "execution_count": 87,
     "metadata": {},
     "output_type": "execute_result"
    }
   ],
   "source": [
    "dfall_comm.columns"
   ]
  },
  {
   "cell_type": "code",
   "execution_count": 88,
   "metadata": {},
   "outputs": [],
   "source": [
    "df_corr = dfall_comm[['pH', 'COD', 'SS', 'N', 'P', 'T']]"
   ]
  },
  {
   "cell_type": "code",
   "execution_count": 89,
   "metadata": {},
   "outputs": [
    {
     "data": {
      "text/html": [
       "<div>\n",
       "<style scoped>\n",
       "    .dataframe tbody tr th:only-of-type {\n",
       "        vertical-align: middle;\n",
       "    }\n",
       "\n",
       "    .dataframe tbody tr th {\n",
       "        vertical-align: top;\n",
       "    }\n",
       "\n",
       "    .dataframe thead th {\n",
       "        text-align: right;\n",
       "    }\n",
       "</style>\n",
       "<table border=\"1\" class=\"dataframe\">\n",
       "  <thead>\n",
       "    <tr style=\"text-align: right;\">\n",
       "      <th></th>\n",
       "      <th>pH</th>\n",
       "      <th>COD</th>\n",
       "      <th>SS</th>\n",
       "      <th>N</th>\n",
       "      <th>P</th>\n",
       "      <th>T</th>\n",
       "    </tr>\n",
       "  </thead>\n",
       "  <tbody>\n",
       "    <tr>\n",
       "      <th>pH</th>\n",
       "      <td>1.000000</td>\n",
       "      <td>0.030939</td>\n",
       "      <td>-0.012424</td>\n",
       "      <td>-0.037054</td>\n",
       "      <td>0.019180</td>\n",
       "      <td>0.004092</td>\n",
       "    </tr>\n",
       "    <tr>\n",
       "      <th>COD</th>\n",
       "      <td>0.030939</td>\n",
       "      <td>1.000000</td>\n",
       "      <td>0.157425</td>\n",
       "      <td>0.131255</td>\n",
       "      <td>0.101528</td>\n",
       "      <td>0.008062</td>\n",
       "    </tr>\n",
       "    <tr>\n",
       "      <th>SS</th>\n",
       "      <td>-0.012424</td>\n",
       "      <td>0.157425</td>\n",
       "      <td>1.000000</td>\n",
       "      <td>0.116247</td>\n",
       "      <td>0.094190</td>\n",
       "      <td>0.000653</td>\n",
       "    </tr>\n",
       "    <tr>\n",
       "      <th>N</th>\n",
       "      <td>-0.037054</td>\n",
       "      <td>0.131255</td>\n",
       "      <td>0.116247</td>\n",
       "      <td>1.000000</td>\n",
       "      <td>0.123518</td>\n",
       "      <td>-0.007270</td>\n",
       "    </tr>\n",
       "    <tr>\n",
       "      <th>P</th>\n",
       "      <td>0.019180</td>\n",
       "      <td>0.101528</td>\n",
       "      <td>0.094190</td>\n",
       "      <td>0.123518</td>\n",
       "      <td>1.000000</td>\n",
       "      <td>0.011217</td>\n",
       "    </tr>\n",
       "    <tr>\n",
       "      <th>T</th>\n",
       "      <td>0.004092</td>\n",
       "      <td>0.008062</td>\n",
       "      <td>0.000653</td>\n",
       "      <td>-0.007270</td>\n",
       "      <td>0.011217</td>\n",
       "      <td>1.000000</td>\n",
       "    </tr>\n",
       "  </tbody>\n",
       "</table>\n",
       "</div>"
      ],
      "text/plain": [
       "           pH       COD        SS         N         P         T\n",
       "pH   1.000000  0.030939 -0.012424 -0.037054  0.019180  0.004092\n",
       "COD  0.030939  1.000000  0.157425  0.131255  0.101528  0.008062\n",
       "SS  -0.012424  0.157425  1.000000  0.116247  0.094190  0.000653\n",
       "N   -0.037054  0.131255  0.116247  1.000000  0.123518 -0.007270\n",
       "P    0.019180  0.101528  0.094190  0.123518  1.000000  0.011217\n",
       "T    0.004092  0.008062  0.000653 -0.007270  0.011217  1.000000"
      ]
     },
     "execution_count": 89,
     "metadata": {},
     "output_type": "execute_result"
    }
   ],
   "source": [
    "df_corr.corr('pearson')"
   ]
  },
  {
   "cell_type": "markdown",
   "metadata": {},
   "source": [
    "---\n",
    "## 시각화로 확인"
   ]
  },
  {
   "cell_type": "code",
   "execution_count": 65,
   "metadata": {},
   "outputs": [
    {
     "data": {
      "text/plain": [
       "Index(['index', 'ds', 'pH', 'COD', 'SS', 'N', 'P', 'T', 'loc', 'dst'], dtype='object')"
      ]
     },
     "execution_count": 65,
     "metadata": {},
     "output_type": "execute_result"
    }
   ],
   "source": [
    "dfall_comm.columns"
   ]
  },
  {
   "cell_type": "code",
   "execution_count": 63,
   "metadata": {},
   "outputs": [],
   "source": [
    "temp = dfall_comm.iloc[:1015*5]"
   ]
  },
  {
   "cell_type": "code",
   "execution_count": null,
   "metadata": {},
   "outputs": [],
   "source": [
    "fig = px.line(temp, x=\"ds\", y=\"T\", color='loc')\n",
    "fig.show()"
   ]
  },
  {
   "cell_type": "code",
   "execution_count": null,
   "metadata": {},
   "outputs": [],
   "source": [
    "for lo in plc_sorted_lst:\n",
    "    df_temp = df_dic[lo]\n",
    "    print(df_temp.ds[0],df_temp.iloc[-1,:].ds)"
   ]
  },
  {
   "cell_type": "code",
   "execution_count": 28,
   "metadata": {},
   "outputs": [],
   "source": [
    "dfs = []\n",
    "for lo in plc_sorted_lst:\n",
    "    df_temp = df_dic[lo]\n",
    "    df_temp['loc'] = lo\n",
    "    dfs.append(df_temp)"
   ]
  },
  {
   "cell_type": "code",
   "execution_count": 22,
   "metadata": {},
   "outputs": [],
   "source": [
    "dfall = pd.concat(dfs)"
   ]
  },
  {
   "cell_type": "code",
   "execution_count": null,
   "metadata": {},
   "outputs": [],
   "source": [
    "\n",
    "fig = px.line(dfall, x=\"ds\", y=\"pH\", color='loc')\n",
    "fig.show()"
   ]
  },
  {
   "cell_type": "code",
   "execution_count": null,
   "metadata": {},
   "outputs": [],
   "source": []
  },
  {
   "cell_type": "code",
   "execution_count": null,
   "metadata": {},
   "outputs": [],
   "source": []
  }
 ],
 "metadata": {
  "kernelspec": {
   "display_name": "ts",
   "language": "python",
   "name": "ts"
  },
  "language_info": {
   "codemirror_mode": {
    "name": "ipython",
    "version": 3
   },
   "file_extension": ".py",
   "mimetype": "text/x-python",
   "name": "python",
   "nbconvert_exporter": "python",
   "pygments_lexer": "ipython3",
   "version": "3.9.7"
  },
  "widgets": {
   "application/vnd.jupyter.widget-state+json": {
    "state": {},
    "version_major": 2,
    "version_minor": 0
   }
  }
 },
 "nbformat": 4,
 "nbformat_minor": 4
}
