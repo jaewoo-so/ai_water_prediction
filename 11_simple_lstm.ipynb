{
 "cells": [
  {
   "cell_type": "code",
   "execution_count": 1,
   "id": "929292d3-8f92-4ca4-87bc-67518c1c71d5",
   "metadata": {},
   "outputs": [],
   "source": [
    "import numpy as np\n",
    "import matplotlib.pyplot as plt\n",
    "import pandas as pd\n",
    "import torch\n",
    "import torch.nn as nn\n",
    "from torch.autograd import Variable\n",
    "from sklearn.preprocessing import MinMaxScaler"
   ]
  },
  {
   "cell_type": "code",
   "execution_count": 2,
   "id": "0642e0ab-f095-4a46-8717-647ef45bce4a",
   "metadata": {},
   "outputs": [],
   "source": [
    "# 라이브러리 임포트\n",
    "import os\n",
    "import time\n",
    "import json\n",
    "from datetime import datetime, timedelta\n",
    "import numpy as np\n",
    "import pandas as pd\n",
    "#from fbprophet import Prophet\n",
    "import pickle\n",
    "import copy\n",
    "from tqdm.auto import tqdm"
   ]
  },
  {
   "cell_type": "code",
   "execution_count": 3,
   "id": "37e231d0-bb32-46e5-b6d2-e2512b1099fd",
   "metadata": {},
   "outputs": [
    {
     "name": "stdout",
     "output_type": "stream",
     "text": [
      "Wall time: 738 ms\n"
     ]
    }
   ],
   "source": [
    "%%time\n",
    "submit = json.load(open('./data/sample_submission/sample_submission.json', 'r', encoding='utf8')) \n",
    "df_dic = pickle.load(open('./mydata/df_dic.plk','rb'))\n",
    "plc_lst = pickle.load(open('./mydata/plc_lst.plk','rb'))\n",
    "fct_lst = ['pH', 'COD', 'SS', 'N', 'P', 'T']"
   ]
  },
  {
   "cell_type": "code",
   "execution_count": 6,
   "id": "739374fa-2896-4d8b-8e15-d804e3b392d5",
   "metadata": {},
   "outputs": [],
   "source": [
    "''' fill na '''\n",
    "for plc in plc_lst:\n",
    "    df = df_dic[plc]\n",
    "    df_dic[plc] = df_dic[plc].fillna(method='ffill')\n",
    "    df_dic[plc] = df_dic[plc].fillna(method='bfill')\n",
    "    df_dic[plc] = df_dic[plc].dropna()"
   ]
  },
  {
   "cell_type": "code",
   "execution_count": 71,
   "id": "cef75d42-0598-4bee-96b8-e2208a7eeede",
   "metadata": {},
   "outputs": [
    {
     "name": "stdout",
     "output_type": "stream",
     "text": [
      "Wall time: 5.72 s\n"
     ]
    }
   ],
   "source": [
    "%%time\n",
    "''' create datetime '''\n",
    "df_dic[plc]['date']\n",
    "\n",
    "\n",
    "for plc in plc_lst:\n",
    "    df_dic[plc]['date'] = df_dic[plc]['ds'].apply(lambda x : datetime.strptime(x , '%Y%m%d'))\n",
    "    df_dic[plc]['year'] = pd.DatetimeIndex(df_dic[plc]['date']).year - 2010\n",
    "    df_dic[plc]['month'] = pd.DatetimeIndex(df_dic[plc]['date']).month / 12\n",
    "    df_dic[plc]['day'] = pd.DatetimeIndex(df_dic[plc]['date']).day / 31"
   ]
  },
  {
   "cell_type": "markdown",
   "id": "083dbc2a-227c-46dd-949d-39c0533defda",
   "metadata": {
    "tags": []
   },
   "source": [
    "---\n",
    "# 데이터 만들기"
   ]
  },
  {
   "cell_type": "code",
   "execution_count": 75,
   "id": "a0cd9615-b864-43f7-9a6c-0cf8de3028e8",
   "metadata": {},
   "outputs": [],
   "source": [
    "def create_lag_feature(df_trg , lag_count , interval):\n",
    "    df_n = df_trg.copy()\n",
    "    for n in range(1, lag_count + 1):\n",
    "        for col in fct_lst:\n",
    "            df_n[f\"{col}_lag{n*interval}\"] = df_n[col].shift(n*interval)\n",
    "    dftemp = df_n.iloc[n_lags*interval:].dropna()\n",
    "    #dftemp = df_n.iloc[n_lags*interval:-1]\n",
    "    y = dftemp[fct_lst].shift(-1).dropna()\n",
    "    x = dftemp.iloc[:-1].drop(['ds','date'],axis = 1)\n",
    "    return x, y"
   ]
  },
  {
   "cell_type": "code",
   "execution_count": 76,
   "id": "a0afb480-4452-478b-b9fc-b11f5525284a",
   "metadata": {},
   "outputs": [
    {
     "name": "stderr",
     "output_type": "stream",
     "text": [
      "C:\\Users\\d331\\AppData\\Local\\Temp/ipykernel_12840/3529126758.py:5: PerformanceWarning: DataFrame is highly fragmented.  This is usually the result of calling `frame.insert` many times, which has poor performance.  Consider joining all columns at once using pd.concat(axis=1) instead.  To get a de-fragmented frame, use `newframe = frame.copy()`\n",
      "  df_n[f\"{col}_lag{n*interval}\"] = df_n[col].shift(n*interval)\n"
     ]
    },
    {
     "name": "stdout",
     "output_type": "stream",
     "text": [
      "Wall time: 1min 18s\n"
     ]
    }
   ],
   "source": [
    "%%time\n",
    "lag_count = 120\n",
    "interval = 5\n",
    "\n",
    "xs = dict()\n",
    "ys = dict()\n",
    "for plc in plc_lst:\n",
    "    x ,y = create_lag_feature(df_dic[plc] , lag_count , interval)\n",
    "    xs[plc] = x\n",
    "    ys[plc] = y"
   ]
  },
  {
   "cell_type": "code",
   "execution_count": 77,
   "id": "744ca8fd-c637-4f25-be81-3084e515371e",
   "metadata": {},
   "outputs": [
    {
     "data": {
      "text/plain": [
       "Index(['pH', 'COD', 'SS', 'N', 'P', 'T', 'year', 'month', 'day', 'pH_lag5',\n",
       "       ...\n",
       "       'SS_lag595', 'N_lag595', 'P_lag595', 'T_lag595', 'pH_lag600',\n",
       "       'COD_lag600', 'SS_lag600', 'N_lag600', 'P_lag600', 'T_lag600'],\n",
       "      dtype='object', length=729)"
      ]
     },
     "execution_count": 77,
     "metadata": {},
     "output_type": "execute_result"
    }
   ],
   "source": [
    "xs[plc].columns"
   ]
  },
  {
   "cell_type": "code",
   "execution_count": null,
   "id": "1c1459e0-d220-4acd-ae93-aac30ab91dc0",
   "metadata": {},
   "outputs": [],
   "source": []
  }
 ],
 "metadata": {
  "kernelspec": {
   "display_name": "Python [conda env:torch]",
   "language": "python",
   "name": "conda-env-torch-py"
  },
  "language_info": {
   "codemirror_mode": {
    "name": "ipython",
    "version": 3
   },
   "file_extension": ".py",
   "mimetype": "text/x-python",
   "name": "python",
   "nbconvert_exporter": "python",
   "pygments_lexer": "ipython3",
   "version": "3.9.7"
  }
 },
 "nbformat": 4,
 "nbformat_minor": 5
}
