{
 "cells": [
  {
   "cell_type": "code",
   "execution_count": 1,
   "metadata": {},
   "outputs": [],
   "source": [
    "# 라이브러리 임포트\n",
    "import os\n",
    "import time\n",
    "import json\n",
    "from datetime import datetime, timedelta\n",
    "import numpy as np\n",
    "import pandas as pd\n",
    "#from fbprophet import Prophet\n",
    "import pickle\n",
    "import copy\n",
    "from tqdm.auto import tqdm"
   ]
  },
  {
   "cell_type": "code",
   "execution_count": 2,
   "metadata": {},
   "outputs": [
    {
     "name": "stderr",
     "output_type": "stream",
     "text": [
      "/ssd/jaewoo/anaconda3/envs/ts/lib/python3.9/site-packages/torchvision/io/image.py:13: UserWarning: Failed to load image Python extension: libtorch_cuda_cu.so: cannot open shared object file: No such file or directory\n",
      "  warn(f\"Failed to load image Python extension: {e}\")\n"
     ]
    }
   ],
   "source": [
    "from darts.models import *\n",
    "import darts.utils.timeseries_generation as tg\n",
    "from darts.utils.likelihood_models import GaussianLikelihood\n",
    "from darts.datasets import EnergyDataset\n",
    "from darts.utils.missing_values import fill_missing_values\n",
    "from darts import TimeSeries\n",
    "from darts.dataprocessing.transformers import Scaler\n",
    "from darts.utils.timeseries_generation import datetime_attribute_timeseries\n",
    "from darts.timeseries import TimeSeries\n",
    "import warnings\n",
    "\n",
    "warnings.filterwarnings(\"ignore\")"
   ]
  },
  {
   "cell_type": "code",
   "execution_count": 3,
   "metadata": {},
   "outputs": [
    {
     "name": "stdout",
     "output_type": "stream",
     "text": [
      "CPU times: user 750 ms, sys: 156 ms, total: 906 ms\n",
      "Wall time: 906 ms\n"
     ]
    }
   ],
   "source": [
    "%%time\n",
    "submit = json.load(open('./data/sample_submission/sample_submission.json', 'r', encoding='utf8')) \n",
    "df_dic = pickle.load(open('./mydata/df_dic.plk','rb'))\n",
    "plc_lst = pickle.load(open('./mydata/plc_lst.plk','rb'))\n",
    "fct_lst = ['pH', 'COD', 'SS', 'N', 'P', 'T']"
   ]
  },
  {
   "cell_type": "code",
   "execution_count": 4,
   "metadata": {},
   "outputs": [],
   "source": [
    "# Prophet 예측을 위한 dataframe 포맷 제작\n",
    "future = pd.DataFrame([str(x)[:10] for x in list(pd.date_range(start='2018-02-01', end='2019-12-31', inclusive=\"both\"))], columns=['ds'])\n",
    "future['y'] = np.nan\n",
    "#future"
   ]
  },
  {
   "cell_type": "code",
   "execution_count": 5,
   "metadata": {},
   "outputs": [],
   "source": [
    "from darts.models.forecasting import tcn_model"
   ]
  },
  {
   "cell_type": "code",
   "execution_count": null,
   "metadata": {
    "scrolled": true
   },
   "outputs": [],
   "source": [
    "# 추론 : tcn_model\n",
    "start_time = time.time()\n",
    "\n",
    "for i in tqdm(plc_lst):\n",
    "    plc_df = df_dic[i]\n",
    "    \n",
    "    for j in fct_lst: # 피쳐 리스트\n",
    "        fct_df = plc_df[['ds', j]]   # 날짜 - 피쳐1 조합임.\n",
    "        \n",
    "        fct_df = fct_df.rename(columns={j:'y'}) # 피쳐1을 y로 바꾼다.\n",
    "        fct_df['ds'] = fct_df.ds.apply(lambda x : datetime.strptime(x , '%Y%m%d'))\n",
    "        fct_df = fct_df.dropna()\n",
    "        fct_df['y'] = pd.to_numeric(fct_df.y)\n",
    "        \n",
    "        df_align = pd.DataFrame([ x for x in list(pd.date_range( end = '2018-01-31', periods = len(fct_df), inclusive=\"both\"))], columns=['ds'])\n",
    "        df_align['y'] = fct_df.y.values\n",
    "        \n",
    "        # TimeSeris 로 변환 하기 \n",
    "        dfts = TimeSeries.from_dataframe(df_align,  time_col = 'ds' , value_cols  = ['y'], fill_missing_dates=True  , freq='D')\n",
    "        \n",
    "        diff = datetime(2018,2,1) - df_align.loc[0].ds\n",
    "        if diff.days > 720:\n",
    "            lag = 700\n",
    "        else:\n",
    "            lag = diff.days - 10\n",
    "            \n",
    "        my_model = tcn_model.TCNModel(\n",
    "            input_chunk_length = 60,\n",
    "            output_chunk_length = 1,\n",
    "            n_epochs=12,\n",
    "            kernel_size =3,\n",
    "            #num_filters = 12,\n",
    "            dropout = 0.3,\n",
    "            batch_size = 64,\n",
    "            #pl_trainer_kwargs  = {\"accelerator\": \"gpu\", \"gpus\": -1, \"auto_select_gpus\": True} ,\n",
    "            dilation_base=2,\n",
    "            weight_norm=True,\n",
    "            random_state=2022,\n",
    "            \n",
    "            \n",
    "        )\n",
    "        \n",
    "        my_model.fit(dfts)\n",
    "        pred_series = my_model.predict( n = 699 )\n",
    "        \n",
    "        forecast = pred_series.pd_dataframe()\n",
    "        forecast['ds'] = forecast.index\n",
    "        forecast['ds'] = forecast['ds'].apply(lambda x : str(x).split(' ')[0].split('-')[0]+str(x).split(' ')[0].split('-')[1]+str(x).split(' ')[0].split('-')[2])\n",
    "        forecast.columns = ['yhat', 'ds']\n",
    "        forecast = forecast.reset_index(drop=True)\n",
    "        \n",
    "        for idx,k in enumerate(submit[i].keys()):\n",
    "            submit[i][k][j] = np.round(forecast.yhat[idx],6)\n",
    "      \n",
    "        \n",
    "end_time = time.time()\n",
    "print('소요시간 :', (end_time - start_time)/60, 'minutes')"
   ]
  },
  {
   "cell_type": "markdown",
   "metadata": {},
   "source": [
    "---\n",
    "## "
   ]
  },
  {
   "cell_type": "code",
   "execution_count": 5,
   "metadata": {},
   "outputs": [],
   "source": [
    "from darts.models.forecasting import random_forest"
   ]
  },
  {
   "cell_type": "code",
   "execution_count": null,
   "metadata": {},
   "outputs": [
    {
     "data": {
      "application/vnd.jupyter.widget-view+json": {
       "model_id": "5c051ac0c0af4c66b43213ae6e37af6b",
       "version_major": 2,
       "version_minor": 0
      },
      "text/plain": [
       "  0%|          | 0/545 [00:00<?, ?it/s]"
      ]
     },
     "metadata": {},
     "output_type": "display_data"
    }
   ],
   "source": [
    "# 추론 : rf\n",
    "start_time = time.time()\n",
    "\n",
    "for i in tqdm(plc_lst):\n",
    "    plc_df = df_dic[i]\n",
    "    \n",
    "    for j in fct_lst: # 피쳐 리스트\n",
    "        fct_df = plc_df[['ds', j]]   # 날짜 - 피쳐1 조합임.\n",
    "        \n",
    "        fct_df = fct_df.rename(columns={j:'y'}) # 피쳐1을 y로 바꾼다.\n",
    "        fct_df['ds'] = fct_df.ds.apply(lambda x : datetime.strptime(x , '%Y%m%d'))\n",
    "        fct_df = fct_df.dropna()\n",
    "        fct_df['y'] = pd.to_numeric(fct_df.y)\n",
    "        \n",
    "        df_align = pd.DataFrame([ x for x in list(pd.date_range( end = '2018-01-31', periods = len(fct_df), inclusive=\"both\"))], columns=['ds'])\n",
    "        df_align['y'] = fct_df.y.values\n",
    "        \n",
    "        # TimeSeris 로 변환 하기 \n",
    "        dfts = TimeSeries.from_dataframe(df_align,  time_col = 'ds' , value_cols  = ['y'], fill_missing_dates=True  , freq='D')\n",
    "        \n",
    "        diff = datetime(2018,2,1) - df_align.loc[0].ds\n",
    "        if diff.days > 720:\n",
    "            lag = 700\n",
    "        else:\n",
    "            lag = diff.days - 10\n",
    "            \n",
    "        my_model = random_forest.RandomForest(\n",
    "            lags=lag,\n",
    "            output_chunk_length=1,\n",
    "            n_estimators = 100,\n",
    "            random_state= 2022,\n",
    "            n_jobs = 42\n",
    "        )\n",
    "        \n",
    "        my_model.fit(dfts)\n",
    "        pred_series = my_model.predict( n = 699 )\n",
    "        \n",
    "        forecast = pred_series.pd_dataframe()\n",
    "        forecast['ds'] = forecast.index\n",
    "        forecast['ds'] = forecast['ds'].apply(lambda x : str(x).split(' ')[0].split('-')[0]+str(x).split(' ')[0].split('-')[1]+str(x).split(' ')[0].split('-')[2])\n",
    "        forecast.columns = ['yhat', 'ds']\n",
    "        forecast = forecast.reset_index(drop=True)\n",
    "        \n",
    "        for idx,k in enumerate(submit[i].keys()):\n",
    "            submit[i][k][j] = np.round(forecast.yhat[idx],6)\n",
    "      \n",
    "        \n",
    "end_time = time.time()\n",
    "print('소요시간 :', (end_time - start_time)/60, 'minutes')"
   ]
  },
  {
   "cell_type": "code",
   "execution_count": null,
   "metadata": {},
   "outputs": [],
   "source": []
  }
 ],
 "metadata": {
  "kernelspec": {
   "display_name": "ts",
   "language": "python",
   "name": "ts"
  },
  "language_info": {
   "codemirror_mode": {
    "name": "ipython",
    "version": 3
   },
   "file_extension": ".py",
   "mimetype": "text/x-python",
   "name": "python",
   "nbconvert_exporter": "python",
   "pygments_lexer": "ipython3",
   "version": "3.9.7"
  },
  "widgets": {
   "application/vnd.jupyter.widget-state+json": {
    "state": {},
    "version_major": 2,
    "version_minor": 0
   }
  }
 },
 "nbformat": 4,
 "nbformat_minor": 4
}
