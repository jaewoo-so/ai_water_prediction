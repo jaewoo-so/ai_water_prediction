{
 "cells": [
  {
   "cell_type": "code",
   "execution_count": 1,
   "id": "5acbdb3a-fb57-4e20-8af3-567dcb37b367",
   "metadata": {
    "tags": []
   },
   "outputs": [],
   "source": [
    "import lightgbm"
   ]
  },
  {
   "cell_type": "code",
   "execution_count": null,
   "id": "94f08c72-9f09-4b19-91f8-e2bee57e5ca3",
   "metadata": {},
   "outputs": [],
   "source": []
  }
 ],
 "metadata": {
  "kernelspec": {
   "display_name": "Python [conda env:gb]",
   "language": "python",
   "name": "conda-env-gb-py"
  },
  "language_info": {
   "codemirror_mode": {
    "name": "ipython",
    "version": 3
   },
   "file_extension": ".py",
   "mimetype": "text/x-python",
   "name": "python",
   "nbconvert_exporter": "python",
   "pygments_lexer": "ipython3",
   "version": "3.9.7"
  }
 },
 "nbformat": 4,
 "nbformat_minor": 5
}
